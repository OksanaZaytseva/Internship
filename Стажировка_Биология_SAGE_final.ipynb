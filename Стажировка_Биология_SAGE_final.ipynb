{
  "nbformat": 4,
  "nbformat_minor": 0,
  "metadata": {
    "colab": {
      "provenance": [],
      "collapsed_sections": [
        "aUxRWuIgvGYR",
        "GE1gaxCzvAzx",
        "pyn1G5DiyDYi",
        "UFmyrszxyKlK"
      ]
    },
    "kernelspec": {
      "name": "python3",
      "display_name": "Python 3"
    },
    "language_info": {
      "name": "python"
    },
    "widgets": {
      "application/vnd.jupyter.widget-state+json": {
        "3e0f06b484b847a189e1f31045bc2db5": {
          "model_module": "@jupyter-widgets/controls",
          "model_name": "HBoxModel",
          "model_module_version": "1.5.0",
          "state": {
            "_dom_classes": [],
            "_model_module": "@jupyter-widgets/controls",
            "_model_module_version": "1.5.0",
            "_model_name": "HBoxModel",
            "_view_count": null,
            "_view_module": "@jupyter-widgets/controls",
            "_view_module_version": "1.5.0",
            "_view_name": "HBoxView",
            "box_style": "",
            "children": [
              "IPY_MODEL_5dfa2b2b3db842cf8427d6d22b917e66",
              "IPY_MODEL_97f24072fec448cab357e0bb973e632d",
              "IPY_MODEL_7607b4a2c33b4e708b64c23b94a1f136"
            ],
            "layout": "IPY_MODEL_a8db5c0742eb4442815087b052a99c7f"
          }
        },
        "5dfa2b2b3db842cf8427d6d22b917e66": {
          "model_module": "@jupyter-widgets/controls",
          "model_name": "HTMLModel",
          "model_module_version": "1.5.0",
          "state": {
            "_dom_classes": [],
            "_model_module": "@jupyter-widgets/controls",
            "_model_module_version": "1.5.0",
            "_model_name": "HTMLModel",
            "_view_count": null,
            "_view_module": "@jupyter-widgets/controls",
            "_view_module_version": "1.5.0",
            "_view_name": "HTMLView",
            "description": "",
            "description_tooltip": null,
            "layout": "IPY_MODEL_702dd88207f94ab69a1fe01a287ce222",
            "placeholder": "​",
            "style": "IPY_MODEL_5287d982e3e043349c4ce03f6def37be",
            "value": "config.json: 100%"
          }
        },
        "97f24072fec448cab357e0bb973e632d": {
          "model_module": "@jupyter-widgets/controls",
          "model_name": "FloatProgressModel",
          "model_module_version": "1.5.0",
          "state": {
            "_dom_classes": [],
            "_model_module": "@jupyter-widgets/controls",
            "_model_module_version": "1.5.0",
            "_model_name": "FloatProgressModel",
            "_view_count": null,
            "_view_module": "@jupyter-widgets/controls",
            "_view_module_version": "1.5.0",
            "_view_name": "ProgressView",
            "bar_style": "success",
            "description": "",
            "description_tooltip": null,
            "layout": "IPY_MODEL_5ab052826eef498cab32bf38f1891984",
            "max": 827,
            "min": 0,
            "orientation": "horizontal",
            "style": "IPY_MODEL_79adcd7a352648cc81478dc5246cf92b",
            "value": 827
          }
        },
        "7607b4a2c33b4e708b64c23b94a1f136": {
          "model_module": "@jupyter-widgets/controls",
          "model_name": "HTMLModel",
          "model_module_version": "1.5.0",
          "state": {
            "_dom_classes": [],
            "_model_module": "@jupyter-widgets/controls",
            "_model_module_version": "1.5.0",
            "_model_name": "HTMLModel",
            "_view_count": null,
            "_view_module": "@jupyter-widgets/controls",
            "_view_module_version": "1.5.0",
            "_view_name": "HTMLView",
            "description": "",
            "description_tooltip": null,
            "layout": "IPY_MODEL_3e239d3557764429b7a06c3131ecbe47",
            "placeholder": "​",
            "style": "IPY_MODEL_f425e2bd98bc4934826fc78e4861c9d6",
            "value": " 827/827 [00:00&lt;00:00, 6.45kB/s]"
          }
        },
        "a8db5c0742eb4442815087b052a99c7f": {
          "model_module": "@jupyter-widgets/base",
          "model_name": "LayoutModel",
          "model_module_version": "1.2.0",
          "state": {
            "_model_module": "@jupyter-widgets/base",
            "_model_module_version": "1.2.0",
            "_model_name": "LayoutModel",
            "_view_count": null,
            "_view_module": "@jupyter-widgets/base",
            "_view_module_version": "1.2.0",
            "_view_name": "LayoutView",
            "align_content": null,
            "align_items": null,
            "align_self": null,
            "border": null,
            "bottom": null,
            "display": null,
            "flex": null,
            "flex_flow": null,
            "grid_area": null,
            "grid_auto_columns": null,
            "grid_auto_flow": null,
            "grid_auto_rows": null,
            "grid_column": null,
            "grid_gap": null,
            "grid_row": null,
            "grid_template_areas": null,
            "grid_template_columns": null,
            "grid_template_rows": null,
            "height": null,
            "justify_content": null,
            "justify_items": null,
            "left": null,
            "margin": null,
            "max_height": null,
            "max_width": null,
            "min_height": null,
            "min_width": null,
            "object_fit": null,
            "object_position": null,
            "order": null,
            "overflow": null,
            "overflow_x": null,
            "overflow_y": null,
            "padding": null,
            "right": null,
            "top": null,
            "visibility": null,
            "width": null
          }
        },
        "702dd88207f94ab69a1fe01a287ce222": {
          "model_module": "@jupyter-widgets/base",
          "model_name": "LayoutModel",
          "model_module_version": "1.2.0",
          "state": {
            "_model_module": "@jupyter-widgets/base",
            "_model_module_version": "1.2.0",
            "_model_name": "LayoutModel",
            "_view_count": null,
            "_view_module": "@jupyter-widgets/base",
            "_view_module_version": "1.2.0",
            "_view_name": "LayoutView",
            "align_content": null,
            "align_items": null,
            "align_self": null,
            "border": null,
            "bottom": null,
            "display": null,
            "flex": null,
            "flex_flow": null,
            "grid_area": null,
            "grid_auto_columns": null,
            "grid_auto_flow": null,
            "grid_auto_rows": null,
            "grid_column": null,
            "grid_gap": null,
            "grid_row": null,
            "grid_template_areas": null,
            "grid_template_columns": null,
            "grid_template_rows": null,
            "height": null,
            "justify_content": null,
            "justify_items": null,
            "left": null,
            "margin": null,
            "max_height": null,
            "max_width": null,
            "min_height": null,
            "min_width": null,
            "object_fit": null,
            "object_position": null,
            "order": null,
            "overflow": null,
            "overflow_x": null,
            "overflow_y": null,
            "padding": null,
            "right": null,
            "top": null,
            "visibility": null,
            "width": null
          }
        },
        "5287d982e3e043349c4ce03f6def37be": {
          "model_module": "@jupyter-widgets/controls",
          "model_name": "DescriptionStyleModel",
          "model_module_version": "1.5.0",
          "state": {
            "_model_module": "@jupyter-widgets/controls",
            "_model_module_version": "1.5.0",
            "_model_name": "DescriptionStyleModel",
            "_view_count": null,
            "_view_module": "@jupyter-widgets/base",
            "_view_module_version": "1.2.0",
            "_view_name": "StyleView",
            "description_width": ""
          }
        },
        "5ab052826eef498cab32bf38f1891984": {
          "model_module": "@jupyter-widgets/base",
          "model_name": "LayoutModel",
          "model_module_version": "1.2.0",
          "state": {
            "_model_module": "@jupyter-widgets/base",
            "_model_module_version": "1.2.0",
            "_model_name": "LayoutModel",
            "_view_count": null,
            "_view_module": "@jupyter-widgets/base",
            "_view_module_version": "1.2.0",
            "_view_name": "LayoutView",
            "align_content": null,
            "align_items": null,
            "align_self": null,
            "border": null,
            "bottom": null,
            "display": null,
            "flex": null,
            "flex_flow": null,
            "grid_area": null,
            "grid_auto_columns": null,
            "grid_auto_flow": null,
            "grid_auto_rows": null,
            "grid_column": null,
            "grid_gap": null,
            "grid_row": null,
            "grid_template_areas": null,
            "grid_template_columns": null,
            "grid_template_rows": null,
            "height": null,
            "justify_content": null,
            "justify_items": null,
            "left": null,
            "margin": null,
            "max_height": null,
            "max_width": null,
            "min_height": null,
            "min_width": null,
            "object_fit": null,
            "object_position": null,
            "order": null,
            "overflow": null,
            "overflow_x": null,
            "overflow_y": null,
            "padding": null,
            "right": null,
            "top": null,
            "visibility": null,
            "width": null
          }
        },
        "79adcd7a352648cc81478dc5246cf92b": {
          "model_module": "@jupyter-widgets/controls",
          "model_name": "ProgressStyleModel",
          "model_module_version": "1.5.0",
          "state": {
            "_model_module": "@jupyter-widgets/controls",
            "_model_module_version": "1.5.0",
            "_model_name": "ProgressStyleModel",
            "_view_count": null,
            "_view_module": "@jupyter-widgets/base",
            "_view_module_version": "1.2.0",
            "_view_name": "StyleView",
            "bar_color": null,
            "description_width": ""
          }
        },
        "3e239d3557764429b7a06c3131ecbe47": {
          "model_module": "@jupyter-widgets/base",
          "model_name": "LayoutModel",
          "model_module_version": "1.2.0",
          "state": {
            "_model_module": "@jupyter-widgets/base",
            "_model_module_version": "1.2.0",
            "_model_name": "LayoutModel",
            "_view_count": null,
            "_view_module": "@jupyter-widgets/base",
            "_view_module_version": "1.2.0",
            "_view_name": "LayoutView",
            "align_content": null,
            "align_items": null,
            "align_self": null,
            "border": null,
            "bottom": null,
            "display": null,
            "flex": null,
            "flex_flow": null,
            "grid_area": null,
            "grid_auto_columns": null,
            "grid_auto_flow": null,
            "grid_auto_rows": null,
            "grid_column": null,
            "grid_gap": null,
            "grid_row": null,
            "grid_template_areas": null,
            "grid_template_columns": null,
            "grid_template_rows": null,
            "height": null,
            "justify_content": null,
            "justify_items": null,
            "left": null,
            "margin": null,
            "max_height": null,
            "max_width": null,
            "min_height": null,
            "min_width": null,
            "object_fit": null,
            "object_position": null,
            "order": null,
            "overflow": null,
            "overflow_x": null,
            "overflow_y": null,
            "padding": null,
            "right": null,
            "top": null,
            "visibility": null,
            "width": null
          }
        },
        "f425e2bd98bc4934826fc78e4861c9d6": {
          "model_module": "@jupyter-widgets/controls",
          "model_name": "DescriptionStyleModel",
          "model_module_version": "1.5.0",
          "state": {
            "_model_module": "@jupyter-widgets/controls",
            "_model_module_version": "1.5.0",
            "_model_name": "DescriptionStyleModel",
            "_view_count": null,
            "_view_module": "@jupyter-widgets/base",
            "_view_module_version": "1.2.0",
            "_view_name": "StyleView",
            "description_width": ""
          }
        },
        "3aa6f3669272458292665fde9e250fb6": {
          "model_module": "@jupyter-widgets/controls",
          "model_name": "HBoxModel",
          "model_module_version": "1.5.0",
          "state": {
            "_dom_classes": [],
            "_model_module": "@jupyter-widgets/controls",
            "_model_module_version": "1.5.0",
            "_model_name": "HBoxModel",
            "_view_count": null,
            "_view_module": "@jupyter-widgets/controls",
            "_view_module_version": "1.5.0",
            "_view_name": "HBoxView",
            "box_style": "",
            "children": [
              "IPY_MODEL_a3aa1b43381f4383a62e7b5ae97744e1",
              "IPY_MODEL_9ac1b11da6624675acf23916c5b9ce35",
              "IPY_MODEL_2295de058d394f12808a08dfa4e7ca9f"
            ],
            "layout": "IPY_MODEL_08dcb6ceb7c2436b9ea33fa52c721b7c"
          }
        },
        "a3aa1b43381f4383a62e7b5ae97744e1": {
          "model_module": "@jupyter-widgets/controls",
          "model_name": "HTMLModel",
          "model_module_version": "1.5.0",
          "state": {
            "_dom_classes": [],
            "_model_module": "@jupyter-widgets/controls",
            "_model_module_version": "1.5.0",
            "_model_name": "HTMLModel",
            "_view_count": null,
            "_view_module": "@jupyter-widgets/controls",
            "_view_module_version": "1.5.0",
            "_view_name": "HTMLView",
            "description": "",
            "description_tooltip": null,
            "layout": "IPY_MODEL_045092e0c30e448a845e3cefd6dfdf06",
            "placeholder": "​",
            "style": "IPY_MODEL_802cda5dd76140fdb683d1a7fd964fbc",
            "value": "model.safetensors: 100%"
          }
        },
        "9ac1b11da6624675acf23916c5b9ce35": {
          "model_module": "@jupyter-widgets/controls",
          "model_name": "FloatProgressModel",
          "model_module_version": "1.5.0",
          "state": {
            "_dom_classes": [],
            "_model_module": "@jupyter-widgets/controls",
            "_model_module_version": "1.5.0",
            "_model_name": "FloatProgressModel",
            "_view_count": null,
            "_view_module": "@jupyter-widgets/controls",
            "_view_module_version": "1.5.0",
            "_view_name": "ProgressView",
            "bar_style": "success",
            "description": "",
            "description_tooltip": null,
            "layout": "IPY_MODEL_0476e756c3cb4850952ffb254adf31c5",
            "max": 4918393736,
            "min": 0,
            "orientation": "horizontal",
            "style": "IPY_MODEL_a2cd19a8fbe949b4943604c68701465e",
            "value": 4918393736
          }
        },
        "2295de058d394f12808a08dfa4e7ca9f": {
          "model_module": "@jupyter-widgets/controls",
          "model_name": "HTMLModel",
          "model_module_version": "1.5.0",
          "state": {
            "_dom_classes": [],
            "_model_module": "@jupyter-widgets/controls",
            "_model_module_version": "1.5.0",
            "_model_name": "HTMLModel",
            "_view_count": null,
            "_view_module": "@jupyter-widgets/controls",
            "_view_module_version": "1.5.0",
            "_view_name": "HTMLView",
            "description": "",
            "description_tooltip": null,
            "layout": "IPY_MODEL_2db48e99c7d346dba1c96b08737c668f",
            "placeholder": "​",
            "style": "IPY_MODEL_14707c09e0be4256ab60e2134710697d",
            "value": " 4.92G/4.92G [01:29&lt;00:00, 77.9MB/s]"
          }
        },
        "08dcb6ceb7c2436b9ea33fa52c721b7c": {
          "model_module": "@jupyter-widgets/base",
          "model_name": "LayoutModel",
          "model_module_version": "1.2.0",
          "state": {
            "_model_module": "@jupyter-widgets/base",
            "_model_module_version": "1.2.0",
            "_model_name": "LayoutModel",
            "_view_count": null,
            "_view_module": "@jupyter-widgets/base",
            "_view_module_version": "1.2.0",
            "_view_name": "LayoutView",
            "align_content": null,
            "align_items": null,
            "align_self": null,
            "border": null,
            "bottom": null,
            "display": null,
            "flex": null,
            "flex_flow": null,
            "grid_area": null,
            "grid_auto_columns": null,
            "grid_auto_flow": null,
            "grid_auto_rows": null,
            "grid_column": null,
            "grid_gap": null,
            "grid_row": null,
            "grid_template_areas": null,
            "grid_template_columns": null,
            "grid_template_rows": null,
            "height": null,
            "justify_content": null,
            "justify_items": null,
            "left": null,
            "margin": null,
            "max_height": null,
            "max_width": null,
            "min_height": null,
            "min_width": null,
            "object_fit": null,
            "object_position": null,
            "order": null,
            "overflow": null,
            "overflow_x": null,
            "overflow_y": null,
            "padding": null,
            "right": null,
            "top": null,
            "visibility": null,
            "width": null
          }
        },
        "045092e0c30e448a845e3cefd6dfdf06": {
          "model_module": "@jupyter-widgets/base",
          "model_name": "LayoutModel",
          "model_module_version": "1.2.0",
          "state": {
            "_model_module": "@jupyter-widgets/base",
            "_model_module_version": "1.2.0",
            "_model_name": "LayoutModel",
            "_view_count": null,
            "_view_module": "@jupyter-widgets/base",
            "_view_module_version": "1.2.0",
            "_view_name": "LayoutView",
            "align_content": null,
            "align_items": null,
            "align_self": null,
            "border": null,
            "bottom": null,
            "display": null,
            "flex": null,
            "flex_flow": null,
            "grid_area": null,
            "grid_auto_columns": null,
            "grid_auto_flow": null,
            "grid_auto_rows": null,
            "grid_column": null,
            "grid_gap": null,
            "grid_row": null,
            "grid_template_areas": null,
            "grid_template_columns": null,
            "grid_template_rows": null,
            "height": null,
            "justify_content": null,
            "justify_items": null,
            "left": null,
            "margin": null,
            "max_height": null,
            "max_width": null,
            "min_height": null,
            "min_width": null,
            "object_fit": null,
            "object_position": null,
            "order": null,
            "overflow": null,
            "overflow_x": null,
            "overflow_y": null,
            "padding": null,
            "right": null,
            "top": null,
            "visibility": null,
            "width": null
          }
        },
        "802cda5dd76140fdb683d1a7fd964fbc": {
          "model_module": "@jupyter-widgets/controls",
          "model_name": "DescriptionStyleModel",
          "model_module_version": "1.5.0",
          "state": {
            "_model_module": "@jupyter-widgets/controls",
            "_model_module_version": "1.5.0",
            "_model_name": "DescriptionStyleModel",
            "_view_count": null,
            "_view_module": "@jupyter-widgets/base",
            "_view_module_version": "1.2.0",
            "_view_name": "StyleView",
            "description_width": ""
          }
        },
        "0476e756c3cb4850952ffb254adf31c5": {
          "model_module": "@jupyter-widgets/base",
          "model_name": "LayoutModel",
          "model_module_version": "1.2.0",
          "state": {
            "_model_module": "@jupyter-widgets/base",
            "_model_module_version": "1.2.0",
            "_model_name": "LayoutModel",
            "_view_count": null,
            "_view_module": "@jupyter-widgets/base",
            "_view_module_version": "1.2.0",
            "_view_name": "LayoutView",
            "align_content": null,
            "align_items": null,
            "align_self": null,
            "border": null,
            "bottom": null,
            "display": null,
            "flex": null,
            "flex_flow": null,
            "grid_area": null,
            "grid_auto_columns": null,
            "grid_auto_flow": null,
            "grid_auto_rows": null,
            "grid_column": null,
            "grid_gap": null,
            "grid_row": null,
            "grid_template_areas": null,
            "grid_template_columns": null,
            "grid_template_rows": null,
            "height": null,
            "justify_content": null,
            "justify_items": null,
            "left": null,
            "margin": null,
            "max_height": null,
            "max_width": null,
            "min_height": null,
            "min_width": null,
            "object_fit": null,
            "object_position": null,
            "order": null,
            "overflow": null,
            "overflow_x": null,
            "overflow_y": null,
            "padding": null,
            "right": null,
            "top": null,
            "visibility": null,
            "width": null
          }
        },
        "a2cd19a8fbe949b4943604c68701465e": {
          "model_module": "@jupyter-widgets/controls",
          "model_name": "ProgressStyleModel",
          "model_module_version": "1.5.0",
          "state": {
            "_model_module": "@jupyter-widgets/controls",
            "_model_module_version": "1.5.0",
            "_model_name": "ProgressStyleModel",
            "_view_count": null,
            "_view_module": "@jupyter-widgets/base",
            "_view_module_version": "1.2.0",
            "_view_name": "StyleView",
            "bar_color": null,
            "description_width": ""
          }
        },
        "2db48e99c7d346dba1c96b08737c668f": {
          "model_module": "@jupyter-widgets/base",
          "model_name": "LayoutModel",
          "model_module_version": "1.2.0",
          "state": {
            "_model_module": "@jupyter-widgets/base",
            "_model_module_version": "1.2.0",
            "_model_name": "LayoutModel",
            "_view_count": null,
            "_view_module": "@jupyter-widgets/base",
            "_view_module_version": "1.2.0",
            "_view_name": "LayoutView",
            "align_content": null,
            "align_items": null,
            "align_self": null,
            "border": null,
            "bottom": null,
            "display": null,
            "flex": null,
            "flex_flow": null,
            "grid_area": null,
            "grid_auto_columns": null,
            "grid_auto_flow": null,
            "grid_auto_rows": null,
            "grid_column": null,
            "grid_gap": null,
            "grid_row": null,
            "grid_template_areas": null,
            "grid_template_columns": null,
            "grid_template_rows": null,
            "height": null,
            "justify_content": null,
            "justify_items": null,
            "left": null,
            "margin": null,
            "max_height": null,
            "max_width": null,
            "min_height": null,
            "min_width": null,
            "object_fit": null,
            "object_position": null,
            "order": null,
            "overflow": null,
            "overflow_x": null,
            "overflow_y": null,
            "padding": null,
            "right": null,
            "top": null,
            "visibility": null,
            "width": null
          }
        },
        "14707c09e0be4256ab60e2134710697d": {
          "model_module": "@jupyter-widgets/controls",
          "model_name": "DescriptionStyleModel",
          "model_module_version": "1.5.0",
          "state": {
            "_model_module": "@jupyter-widgets/controls",
            "_model_module_version": "1.5.0",
            "_model_name": "DescriptionStyleModel",
            "_view_count": null,
            "_view_module": "@jupyter-widgets/base",
            "_view_module_version": "1.2.0",
            "_view_name": "StyleView",
            "description_width": ""
          }
        },
        "82647f6ba6ed4cdabf8bb7e971599f3b": {
          "model_module": "@jupyter-widgets/controls",
          "model_name": "HBoxModel",
          "model_module_version": "1.5.0",
          "state": {
            "_dom_classes": [],
            "_model_module": "@jupyter-widgets/controls",
            "_model_module_version": "1.5.0",
            "_model_name": "HBoxModel",
            "_view_count": null,
            "_view_module": "@jupyter-widgets/controls",
            "_view_module_version": "1.5.0",
            "_view_name": "HBoxView",
            "box_style": "",
            "children": [
              "IPY_MODEL_4ee4017c5ec84bec9a9d7ef8f1580d05",
              "IPY_MODEL_20af83ca1c7c4d4d8285532216b3d614",
              "IPY_MODEL_beab1e30ff1846cca659e1f7bd134636"
            ],
            "layout": "IPY_MODEL_07cab485252a4a7f9f96524111e22eea"
          }
        },
        "4ee4017c5ec84bec9a9d7ef8f1580d05": {
          "model_module": "@jupyter-widgets/controls",
          "model_name": "HTMLModel",
          "model_module_version": "1.5.0",
          "state": {
            "_dom_classes": [],
            "_model_module": "@jupyter-widgets/controls",
            "_model_module_version": "1.5.0",
            "_model_name": "HTMLModel",
            "_view_count": null,
            "_view_module": "@jupyter-widgets/controls",
            "_view_module_version": "1.5.0",
            "_view_name": "HTMLView",
            "description": "",
            "description_tooltip": null,
            "layout": "IPY_MODEL_6c2b595adcef4f0a94c5d9288d59d2d5",
            "placeholder": "​",
            "style": "IPY_MODEL_5377b3f3f9ba4632a0470eb5108f0d88",
            "value": "generation_config.json: 100%"
          }
        },
        "20af83ca1c7c4d4d8285532216b3d614": {
          "model_module": "@jupyter-widgets/controls",
          "model_name": "FloatProgressModel",
          "model_module_version": "1.5.0",
          "state": {
            "_dom_classes": [],
            "_model_module": "@jupyter-widgets/controls",
            "_model_module_version": "1.5.0",
            "_model_name": "FloatProgressModel",
            "_view_count": null,
            "_view_module": "@jupyter-widgets/controls",
            "_view_module_version": "1.5.0",
            "_view_name": "ProgressView",
            "bar_style": "success",
            "description": "",
            "description_tooltip": null,
            "layout": "IPY_MODEL_f83c084e69e647349479848d771e108d",
            "max": 163,
            "min": 0,
            "orientation": "horizontal",
            "style": "IPY_MODEL_69eeaba32846415e8155130cd9d48120",
            "value": 163
          }
        },
        "beab1e30ff1846cca659e1f7bd134636": {
          "model_module": "@jupyter-widgets/controls",
          "model_name": "HTMLModel",
          "model_module_version": "1.5.0",
          "state": {
            "_dom_classes": [],
            "_model_module": "@jupyter-widgets/controls",
            "_model_module_version": "1.5.0",
            "_model_name": "HTMLModel",
            "_view_count": null,
            "_view_module": "@jupyter-widgets/controls",
            "_view_module_version": "1.5.0",
            "_view_name": "HTMLView",
            "description": "",
            "description_tooltip": null,
            "layout": "IPY_MODEL_ef157f26ec1149e6a11834673b126dba",
            "placeholder": "​",
            "style": "IPY_MODEL_9543e2380aa24f3d8dabf8ae24f403fc",
            "value": " 163/163 [00:00&lt;00:00, 6.55kB/s]"
          }
        },
        "07cab485252a4a7f9f96524111e22eea": {
          "model_module": "@jupyter-widgets/base",
          "model_name": "LayoutModel",
          "model_module_version": "1.2.0",
          "state": {
            "_model_module": "@jupyter-widgets/base",
            "_model_module_version": "1.2.0",
            "_model_name": "LayoutModel",
            "_view_count": null,
            "_view_module": "@jupyter-widgets/base",
            "_view_module_version": "1.2.0",
            "_view_name": "LayoutView",
            "align_content": null,
            "align_items": null,
            "align_self": null,
            "border": null,
            "bottom": null,
            "display": null,
            "flex": null,
            "flex_flow": null,
            "grid_area": null,
            "grid_auto_columns": null,
            "grid_auto_flow": null,
            "grid_auto_rows": null,
            "grid_column": null,
            "grid_gap": null,
            "grid_row": null,
            "grid_template_areas": null,
            "grid_template_columns": null,
            "grid_template_rows": null,
            "height": null,
            "justify_content": null,
            "justify_items": null,
            "left": null,
            "margin": null,
            "max_height": null,
            "max_width": null,
            "min_height": null,
            "min_width": null,
            "object_fit": null,
            "object_position": null,
            "order": null,
            "overflow": null,
            "overflow_x": null,
            "overflow_y": null,
            "padding": null,
            "right": null,
            "top": null,
            "visibility": null,
            "width": null
          }
        },
        "6c2b595adcef4f0a94c5d9288d59d2d5": {
          "model_module": "@jupyter-widgets/base",
          "model_name": "LayoutModel",
          "model_module_version": "1.2.0",
          "state": {
            "_model_module": "@jupyter-widgets/base",
            "_model_module_version": "1.2.0",
            "_model_name": "LayoutModel",
            "_view_count": null,
            "_view_module": "@jupyter-widgets/base",
            "_view_module_version": "1.2.0",
            "_view_name": "LayoutView",
            "align_content": null,
            "align_items": null,
            "align_self": null,
            "border": null,
            "bottom": null,
            "display": null,
            "flex": null,
            "flex_flow": null,
            "grid_area": null,
            "grid_auto_columns": null,
            "grid_auto_flow": null,
            "grid_auto_rows": null,
            "grid_column": null,
            "grid_gap": null,
            "grid_row": null,
            "grid_template_areas": null,
            "grid_template_columns": null,
            "grid_template_rows": null,
            "height": null,
            "justify_content": null,
            "justify_items": null,
            "left": null,
            "margin": null,
            "max_height": null,
            "max_width": null,
            "min_height": null,
            "min_width": null,
            "object_fit": null,
            "object_position": null,
            "order": null,
            "overflow": null,
            "overflow_x": null,
            "overflow_y": null,
            "padding": null,
            "right": null,
            "top": null,
            "visibility": null,
            "width": null
          }
        },
        "5377b3f3f9ba4632a0470eb5108f0d88": {
          "model_module": "@jupyter-widgets/controls",
          "model_name": "DescriptionStyleModel",
          "model_module_version": "1.5.0",
          "state": {
            "_model_module": "@jupyter-widgets/controls",
            "_model_module_version": "1.5.0",
            "_model_name": "DescriptionStyleModel",
            "_view_count": null,
            "_view_module": "@jupyter-widgets/base",
            "_view_module_version": "1.2.0",
            "_view_name": "StyleView",
            "description_width": ""
          }
        },
        "f83c084e69e647349479848d771e108d": {
          "model_module": "@jupyter-widgets/base",
          "model_name": "LayoutModel",
          "model_module_version": "1.2.0",
          "state": {
            "_model_module": "@jupyter-widgets/base",
            "_model_module_version": "1.2.0",
            "_model_name": "LayoutModel",
            "_view_count": null,
            "_view_module": "@jupyter-widgets/base",
            "_view_module_version": "1.2.0",
            "_view_name": "LayoutView",
            "align_content": null,
            "align_items": null,
            "align_self": null,
            "border": null,
            "bottom": null,
            "display": null,
            "flex": null,
            "flex_flow": null,
            "grid_area": null,
            "grid_auto_columns": null,
            "grid_auto_flow": null,
            "grid_auto_rows": null,
            "grid_column": null,
            "grid_gap": null,
            "grid_row": null,
            "grid_template_areas": null,
            "grid_template_columns": null,
            "grid_template_rows": null,
            "height": null,
            "justify_content": null,
            "justify_items": null,
            "left": null,
            "margin": null,
            "max_height": null,
            "max_width": null,
            "min_height": null,
            "min_width": null,
            "object_fit": null,
            "object_position": null,
            "order": null,
            "overflow": null,
            "overflow_x": null,
            "overflow_y": null,
            "padding": null,
            "right": null,
            "top": null,
            "visibility": null,
            "width": null
          }
        },
        "69eeaba32846415e8155130cd9d48120": {
          "model_module": "@jupyter-widgets/controls",
          "model_name": "ProgressStyleModel",
          "model_module_version": "1.5.0",
          "state": {
            "_model_module": "@jupyter-widgets/controls",
            "_model_module_version": "1.5.0",
            "_model_name": "ProgressStyleModel",
            "_view_count": null,
            "_view_module": "@jupyter-widgets/base",
            "_view_module_version": "1.2.0",
            "_view_name": "StyleView",
            "bar_color": null,
            "description_width": ""
          }
        },
        "ef157f26ec1149e6a11834673b126dba": {
          "model_module": "@jupyter-widgets/base",
          "model_name": "LayoutModel",
          "model_module_version": "1.2.0",
          "state": {
            "_model_module": "@jupyter-widgets/base",
            "_model_module_version": "1.2.0",
            "_model_name": "LayoutModel",
            "_view_count": null,
            "_view_module": "@jupyter-widgets/base",
            "_view_module_version": "1.2.0",
            "_view_name": "LayoutView",
            "align_content": null,
            "align_items": null,
            "align_self": null,
            "border": null,
            "bottom": null,
            "display": null,
            "flex": null,
            "flex_flow": null,
            "grid_area": null,
            "grid_auto_columns": null,
            "grid_auto_flow": null,
            "grid_auto_rows": null,
            "grid_column": null,
            "grid_gap": null,
            "grid_row": null,
            "grid_template_areas": null,
            "grid_template_columns": null,
            "grid_template_rows": null,
            "height": null,
            "justify_content": null,
            "justify_items": null,
            "left": null,
            "margin": null,
            "max_height": null,
            "max_width": null,
            "min_height": null,
            "min_width": null,
            "object_fit": null,
            "object_position": null,
            "order": null,
            "overflow": null,
            "overflow_x": null,
            "overflow_y": null,
            "padding": null,
            "right": null,
            "top": null,
            "visibility": null,
            "width": null
          }
        },
        "9543e2380aa24f3d8dabf8ae24f403fc": {
          "model_module": "@jupyter-widgets/controls",
          "model_name": "DescriptionStyleModel",
          "model_module_version": "1.5.0",
          "state": {
            "_model_module": "@jupyter-widgets/controls",
            "_model_module_version": "1.5.0",
            "_model_name": "DescriptionStyleModel",
            "_view_count": null,
            "_view_module": "@jupyter-widgets/base",
            "_view_module_version": "1.2.0",
            "_view_name": "StyleView",
            "description_width": ""
          }
        },
        "d927969bcc1443518ed22d41e84a537b": {
          "model_module": "@jupyter-widgets/controls",
          "model_name": "HBoxModel",
          "model_module_version": "1.5.0",
          "state": {
            "_dom_classes": [],
            "_model_module": "@jupyter-widgets/controls",
            "_model_module_version": "1.5.0",
            "_model_name": "HBoxModel",
            "_view_count": null,
            "_view_module": "@jupyter-widgets/controls",
            "_view_module_version": "1.5.0",
            "_view_name": "HBoxView",
            "box_style": "",
            "children": [
              "IPY_MODEL_2b69332039514c97a471be76cfba6197",
              "IPY_MODEL_1bf2cfff57c740c4ac0d331119274c6e",
              "IPY_MODEL_1902907d7f30491db0368497eab92b10"
            ],
            "layout": "IPY_MODEL_0e5ecf54a36f4449acbe3df00fb5bac5"
          }
        },
        "2b69332039514c97a471be76cfba6197": {
          "model_module": "@jupyter-widgets/controls",
          "model_name": "HTMLModel",
          "model_module_version": "1.5.0",
          "state": {
            "_dom_classes": [],
            "_model_module": "@jupyter-widgets/controls",
            "_model_module_version": "1.5.0",
            "_model_name": "HTMLModel",
            "_view_count": null,
            "_view_module": "@jupyter-widgets/controls",
            "_view_module_version": "1.5.0",
            "_view_name": "HTMLView",
            "description": "",
            "description_tooltip": null,
            "layout": "IPY_MODEL_f35f0073b05948048025fd09183da1f4",
            "placeholder": "​",
            "style": "IPY_MODEL_c0534d99452749449806122e20cf94ef",
            "value": "tokenizer_config.json: 100%"
          }
        },
        "1bf2cfff57c740c4ac0d331119274c6e": {
          "model_module": "@jupyter-widgets/controls",
          "model_name": "FloatProgressModel",
          "model_module_version": "1.5.0",
          "state": {
            "_dom_classes": [],
            "_model_module": "@jupyter-widgets/controls",
            "_model_module_version": "1.5.0",
            "_model_name": "FloatProgressModel",
            "_view_count": null,
            "_view_module": "@jupyter-widgets/controls",
            "_view_module_version": "1.5.0",
            "_view_name": "ProgressView",
            "bar_style": "success",
            "description": "",
            "description_tooltip": null,
            "layout": "IPY_MODEL_54e7c1d25b4c47f0a48b8e45daf90474",
            "max": 862,
            "min": 0,
            "orientation": "horizontal",
            "style": "IPY_MODEL_8a8fffce12de4991bb2d809b5bf6b437",
            "value": 862
          }
        },
        "1902907d7f30491db0368497eab92b10": {
          "model_module": "@jupyter-widgets/controls",
          "model_name": "HTMLModel",
          "model_module_version": "1.5.0",
          "state": {
            "_dom_classes": [],
            "_model_module": "@jupyter-widgets/controls",
            "_model_module_version": "1.5.0",
            "_model_name": "HTMLModel",
            "_view_count": null,
            "_view_module": "@jupyter-widgets/controls",
            "_view_module_version": "1.5.0",
            "_view_name": "HTMLView",
            "description": "",
            "description_tooltip": null,
            "layout": "IPY_MODEL_3b3a982c89b84a25a43a73b7cbe3f3c2",
            "placeholder": "​",
            "style": "IPY_MODEL_cee869af0e514b86b8e5df7c10e24828",
            "value": " 862/862 [00:00&lt;00:00, 46.5kB/s]"
          }
        },
        "0e5ecf54a36f4449acbe3df00fb5bac5": {
          "model_module": "@jupyter-widgets/base",
          "model_name": "LayoutModel",
          "model_module_version": "1.2.0",
          "state": {
            "_model_module": "@jupyter-widgets/base",
            "_model_module_version": "1.2.0",
            "_model_name": "LayoutModel",
            "_view_count": null,
            "_view_module": "@jupyter-widgets/base",
            "_view_module_version": "1.2.0",
            "_view_name": "LayoutView",
            "align_content": null,
            "align_items": null,
            "align_self": null,
            "border": null,
            "bottom": null,
            "display": null,
            "flex": null,
            "flex_flow": null,
            "grid_area": null,
            "grid_auto_columns": null,
            "grid_auto_flow": null,
            "grid_auto_rows": null,
            "grid_column": null,
            "grid_gap": null,
            "grid_row": null,
            "grid_template_areas": null,
            "grid_template_columns": null,
            "grid_template_rows": null,
            "height": null,
            "justify_content": null,
            "justify_items": null,
            "left": null,
            "margin": null,
            "max_height": null,
            "max_width": null,
            "min_height": null,
            "min_width": null,
            "object_fit": null,
            "object_position": null,
            "order": null,
            "overflow": null,
            "overflow_x": null,
            "overflow_y": null,
            "padding": null,
            "right": null,
            "top": null,
            "visibility": null,
            "width": null
          }
        },
        "f35f0073b05948048025fd09183da1f4": {
          "model_module": "@jupyter-widgets/base",
          "model_name": "LayoutModel",
          "model_module_version": "1.2.0",
          "state": {
            "_model_module": "@jupyter-widgets/base",
            "_model_module_version": "1.2.0",
            "_model_name": "LayoutModel",
            "_view_count": null,
            "_view_module": "@jupyter-widgets/base",
            "_view_module_version": "1.2.0",
            "_view_name": "LayoutView",
            "align_content": null,
            "align_items": null,
            "align_self": null,
            "border": null,
            "bottom": null,
            "display": null,
            "flex": null,
            "flex_flow": null,
            "grid_area": null,
            "grid_auto_columns": null,
            "grid_auto_flow": null,
            "grid_auto_rows": null,
            "grid_column": null,
            "grid_gap": null,
            "grid_row": null,
            "grid_template_areas": null,
            "grid_template_columns": null,
            "grid_template_rows": null,
            "height": null,
            "justify_content": null,
            "justify_items": null,
            "left": null,
            "margin": null,
            "max_height": null,
            "max_width": null,
            "min_height": null,
            "min_width": null,
            "object_fit": null,
            "object_position": null,
            "order": null,
            "overflow": null,
            "overflow_x": null,
            "overflow_y": null,
            "padding": null,
            "right": null,
            "top": null,
            "visibility": null,
            "width": null
          }
        },
        "c0534d99452749449806122e20cf94ef": {
          "model_module": "@jupyter-widgets/controls",
          "model_name": "DescriptionStyleModel",
          "model_module_version": "1.5.0",
          "state": {
            "_model_module": "@jupyter-widgets/controls",
            "_model_module_version": "1.5.0",
            "_model_name": "DescriptionStyleModel",
            "_view_count": null,
            "_view_module": "@jupyter-widgets/base",
            "_view_module_version": "1.2.0",
            "_view_name": "StyleView",
            "description_width": ""
          }
        },
        "54e7c1d25b4c47f0a48b8e45daf90474": {
          "model_module": "@jupyter-widgets/base",
          "model_name": "LayoutModel",
          "model_module_version": "1.2.0",
          "state": {
            "_model_module": "@jupyter-widgets/base",
            "_model_module_version": "1.2.0",
            "_model_name": "LayoutModel",
            "_view_count": null,
            "_view_module": "@jupyter-widgets/base",
            "_view_module_version": "1.2.0",
            "_view_name": "LayoutView",
            "align_content": null,
            "align_items": null,
            "align_self": null,
            "border": null,
            "bottom": null,
            "display": null,
            "flex": null,
            "flex_flow": null,
            "grid_area": null,
            "grid_auto_columns": null,
            "grid_auto_flow": null,
            "grid_auto_rows": null,
            "grid_column": null,
            "grid_gap": null,
            "grid_row": null,
            "grid_template_areas": null,
            "grid_template_columns": null,
            "grid_template_rows": null,
            "height": null,
            "justify_content": null,
            "justify_items": null,
            "left": null,
            "margin": null,
            "max_height": null,
            "max_width": null,
            "min_height": null,
            "min_width": null,
            "object_fit": null,
            "object_position": null,
            "order": null,
            "overflow": null,
            "overflow_x": null,
            "overflow_y": null,
            "padding": null,
            "right": null,
            "top": null,
            "visibility": null,
            "width": null
          }
        },
        "8a8fffce12de4991bb2d809b5bf6b437": {
          "model_module": "@jupyter-widgets/controls",
          "model_name": "ProgressStyleModel",
          "model_module_version": "1.5.0",
          "state": {
            "_model_module": "@jupyter-widgets/controls",
            "_model_module_version": "1.5.0",
            "_model_name": "ProgressStyleModel",
            "_view_count": null,
            "_view_module": "@jupyter-widgets/base",
            "_view_module_version": "1.2.0",
            "_view_name": "StyleView",
            "bar_color": null,
            "description_width": ""
          }
        },
        "3b3a982c89b84a25a43a73b7cbe3f3c2": {
          "model_module": "@jupyter-widgets/base",
          "model_name": "LayoutModel",
          "model_module_version": "1.2.0",
          "state": {
            "_model_module": "@jupyter-widgets/base",
            "_model_module_version": "1.2.0",
            "_model_name": "LayoutModel",
            "_view_count": null,
            "_view_module": "@jupyter-widgets/base",
            "_view_module_version": "1.2.0",
            "_view_name": "LayoutView",
            "align_content": null,
            "align_items": null,
            "align_self": null,
            "border": null,
            "bottom": null,
            "display": null,
            "flex": null,
            "flex_flow": null,
            "grid_area": null,
            "grid_auto_columns": null,
            "grid_auto_flow": null,
            "grid_auto_rows": null,
            "grid_column": null,
            "grid_gap": null,
            "grid_row": null,
            "grid_template_areas": null,
            "grid_template_columns": null,
            "grid_template_rows": null,
            "height": null,
            "justify_content": null,
            "justify_items": null,
            "left": null,
            "margin": null,
            "max_height": null,
            "max_width": null,
            "min_height": null,
            "min_width": null,
            "object_fit": null,
            "object_position": null,
            "order": null,
            "overflow": null,
            "overflow_x": null,
            "overflow_y": null,
            "padding": null,
            "right": null,
            "top": null,
            "visibility": null,
            "width": null
          }
        },
        "cee869af0e514b86b8e5df7c10e24828": {
          "model_module": "@jupyter-widgets/controls",
          "model_name": "DescriptionStyleModel",
          "model_module_version": "1.5.0",
          "state": {
            "_model_module": "@jupyter-widgets/controls",
            "_model_module_version": "1.5.0",
            "_model_name": "DescriptionStyleModel",
            "_view_count": null,
            "_view_module": "@jupyter-widgets/base",
            "_view_module_version": "1.2.0",
            "_view_name": "StyleView",
            "description_width": ""
          }
        },
        "4035839db16247a8beb68c893f1366fb": {
          "model_module": "@jupyter-widgets/controls",
          "model_name": "HBoxModel",
          "model_module_version": "1.5.0",
          "state": {
            "_dom_classes": [],
            "_model_module": "@jupyter-widgets/controls",
            "_model_module_version": "1.5.0",
            "_model_name": "HBoxModel",
            "_view_count": null,
            "_view_module": "@jupyter-widgets/controls",
            "_view_module_version": "1.5.0",
            "_view_name": "HBoxView",
            "box_style": "",
            "children": [
              "IPY_MODEL_adee2e5355b846f0b83dc3522e902bdf",
              "IPY_MODEL_4d04f89120a14735b0af47bc02428d4a",
              "IPY_MODEL_396c2c2b62ab404f8a86def868208936"
            ],
            "layout": "IPY_MODEL_d206cab3cfb6470384e4a8e4fc06eeb7"
          }
        },
        "adee2e5355b846f0b83dc3522e902bdf": {
          "model_module": "@jupyter-widgets/controls",
          "model_name": "HTMLModel",
          "model_module_version": "1.5.0",
          "state": {
            "_dom_classes": [],
            "_model_module": "@jupyter-widgets/controls",
            "_model_module_version": "1.5.0",
            "_model_name": "HTMLModel",
            "_view_count": null,
            "_view_module": "@jupyter-widgets/controls",
            "_view_module_version": "1.5.0",
            "_view_name": "HTMLView",
            "description": "",
            "description_tooltip": null,
            "layout": "IPY_MODEL_766d6356a0a743f8952b6be9bba93d5e",
            "placeholder": "​",
            "style": "IPY_MODEL_62afbb340fac423b94180a2b9f0fc25c",
            "value": "spiece.model: 100%"
          }
        },
        "4d04f89120a14735b0af47bc02428d4a": {
          "model_module": "@jupyter-widgets/controls",
          "model_name": "FloatProgressModel",
          "model_module_version": "1.5.0",
          "state": {
            "_dom_classes": [],
            "_model_module": "@jupyter-widgets/controls",
            "_model_module_version": "1.5.0",
            "_model_name": "FloatProgressModel",
            "_view_count": null,
            "_view_module": "@jupyter-widgets/controls",
            "_view_module_version": "1.5.0",
            "_view_name": "ProgressView",
            "bar_style": "success",
            "description": "",
            "description_tooltip": null,
            "layout": "IPY_MODEL_6b25652e93494690ae1218ba9196e53b",
            "max": 4309802,
            "min": 0,
            "orientation": "horizontal",
            "style": "IPY_MODEL_6f91e6d3a0d544a5a297d7a3d91037a2",
            "value": 4309802
          }
        },
        "396c2c2b62ab404f8a86def868208936": {
          "model_module": "@jupyter-widgets/controls",
          "model_name": "HTMLModel",
          "model_module_version": "1.5.0",
          "state": {
            "_dom_classes": [],
            "_model_module": "@jupyter-widgets/controls",
            "_model_module_version": "1.5.0",
            "_model_name": "HTMLModel",
            "_view_count": null,
            "_view_module": "@jupyter-widgets/controls",
            "_view_module_version": "1.5.0",
            "_view_name": "HTMLView",
            "description": "",
            "description_tooltip": null,
            "layout": "IPY_MODEL_333a5e97402142c191837fc95e9795ef",
            "placeholder": "​",
            "style": "IPY_MODEL_fb6e9c1ccee1487d909680db435063eb",
            "value": " 4.31M/4.31M [00:00&lt;00:00, 17.6MB/s]"
          }
        },
        "d206cab3cfb6470384e4a8e4fc06eeb7": {
          "model_module": "@jupyter-widgets/base",
          "model_name": "LayoutModel",
          "model_module_version": "1.2.0",
          "state": {
            "_model_module": "@jupyter-widgets/base",
            "_model_module_version": "1.2.0",
            "_model_name": "LayoutModel",
            "_view_count": null,
            "_view_module": "@jupyter-widgets/base",
            "_view_module_version": "1.2.0",
            "_view_name": "LayoutView",
            "align_content": null,
            "align_items": null,
            "align_self": null,
            "border": null,
            "bottom": null,
            "display": null,
            "flex": null,
            "flex_flow": null,
            "grid_area": null,
            "grid_auto_columns": null,
            "grid_auto_flow": null,
            "grid_auto_rows": null,
            "grid_column": null,
            "grid_gap": null,
            "grid_row": null,
            "grid_template_areas": null,
            "grid_template_columns": null,
            "grid_template_rows": null,
            "height": null,
            "justify_content": null,
            "justify_items": null,
            "left": null,
            "margin": null,
            "max_height": null,
            "max_width": null,
            "min_height": null,
            "min_width": null,
            "object_fit": null,
            "object_position": null,
            "order": null,
            "overflow": null,
            "overflow_x": null,
            "overflow_y": null,
            "padding": null,
            "right": null,
            "top": null,
            "visibility": null,
            "width": null
          }
        },
        "766d6356a0a743f8952b6be9bba93d5e": {
          "model_module": "@jupyter-widgets/base",
          "model_name": "LayoutModel",
          "model_module_version": "1.2.0",
          "state": {
            "_model_module": "@jupyter-widgets/base",
            "_model_module_version": "1.2.0",
            "_model_name": "LayoutModel",
            "_view_count": null,
            "_view_module": "@jupyter-widgets/base",
            "_view_module_version": "1.2.0",
            "_view_name": "LayoutView",
            "align_content": null,
            "align_items": null,
            "align_self": null,
            "border": null,
            "bottom": null,
            "display": null,
            "flex": null,
            "flex_flow": null,
            "grid_area": null,
            "grid_auto_columns": null,
            "grid_auto_flow": null,
            "grid_auto_rows": null,
            "grid_column": null,
            "grid_gap": null,
            "grid_row": null,
            "grid_template_areas": null,
            "grid_template_columns": null,
            "grid_template_rows": null,
            "height": null,
            "justify_content": null,
            "justify_items": null,
            "left": null,
            "margin": null,
            "max_height": null,
            "max_width": null,
            "min_height": null,
            "min_width": null,
            "object_fit": null,
            "object_position": null,
            "order": null,
            "overflow": null,
            "overflow_x": null,
            "overflow_y": null,
            "padding": null,
            "right": null,
            "top": null,
            "visibility": null,
            "width": null
          }
        },
        "62afbb340fac423b94180a2b9f0fc25c": {
          "model_module": "@jupyter-widgets/controls",
          "model_name": "DescriptionStyleModel",
          "model_module_version": "1.5.0",
          "state": {
            "_model_module": "@jupyter-widgets/controls",
            "_model_module_version": "1.5.0",
            "_model_name": "DescriptionStyleModel",
            "_view_count": null,
            "_view_module": "@jupyter-widgets/base",
            "_view_module_version": "1.2.0",
            "_view_name": "StyleView",
            "description_width": ""
          }
        },
        "6b25652e93494690ae1218ba9196e53b": {
          "model_module": "@jupyter-widgets/base",
          "model_name": "LayoutModel",
          "model_module_version": "1.2.0",
          "state": {
            "_model_module": "@jupyter-widgets/base",
            "_model_module_version": "1.2.0",
            "_model_name": "LayoutModel",
            "_view_count": null,
            "_view_module": "@jupyter-widgets/base",
            "_view_module_version": "1.2.0",
            "_view_name": "LayoutView",
            "align_content": null,
            "align_items": null,
            "align_self": null,
            "border": null,
            "bottom": null,
            "display": null,
            "flex": null,
            "flex_flow": null,
            "grid_area": null,
            "grid_auto_columns": null,
            "grid_auto_flow": null,
            "grid_auto_rows": null,
            "grid_column": null,
            "grid_gap": null,
            "grid_row": null,
            "grid_template_areas": null,
            "grid_template_columns": null,
            "grid_template_rows": null,
            "height": null,
            "justify_content": null,
            "justify_items": null,
            "left": null,
            "margin": null,
            "max_height": null,
            "max_width": null,
            "min_height": null,
            "min_width": null,
            "object_fit": null,
            "object_position": null,
            "order": null,
            "overflow": null,
            "overflow_x": null,
            "overflow_y": null,
            "padding": null,
            "right": null,
            "top": null,
            "visibility": null,
            "width": null
          }
        },
        "6f91e6d3a0d544a5a297d7a3d91037a2": {
          "model_module": "@jupyter-widgets/controls",
          "model_name": "ProgressStyleModel",
          "model_module_version": "1.5.0",
          "state": {
            "_model_module": "@jupyter-widgets/controls",
            "_model_module_version": "1.5.0",
            "_model_name": "ProgressStyleModel",
            "_view_count": null,
            "_view_module": "@jupyter-widgets/base",
            "_view_module_version": "1.2.0",
            "_view_name": "StyleView",
            "bar_color": null,
            "description_width": ""
          }
        },
        "333a5e97402142c191837fc95e9795ef": {
          "model_module": "@jupyter-widgets/base",
          "model_name": "LayoutModel",
          "model_module_version": "1.2.0",
          "state": {
            "_model_module": "@jupyter-widgets/base",
            "_model_module_version": "1.2.0",
            "_model_name": "LayoutModel",
            "_view_count": null,
            "_view_module": "@jupyter-widgets/base",
            "_view_module_version": "1.2.0",
            "_view_name": "LayoutView",
            "align_content": null,
            "align_items": null,
            "align_self": null,
            "border": null,
            "bottom": null,
            "display": null,
            "flex": null,
            "flex_flow": null,
            "grid_area": null,
            "grid_auto_columns": null,
            "grid_auto_flow": null,
            "grid_auto_rows": null,
            "grid_column": null,
            "grid_gap": null,
            "grid_row": null,
            "grid_template_areas": null,
            "grid_template_columns": null,
            "grid_template_rows": null,
            "height": null,
            "justify_content": null,
            "justify_items": null,
            "left": null,
            "margin": null,
            "max_height": null,
            "max_width": null,
            "min_height": null,
            "min_width": null,
            "object_fit": null,
            "object_position": null,
            "order": null,
            "overflow": null,
            "overflow_x": null,
            "overflow_y": null,
            "padding": null,
            "right": null,
            "top": null,
            "visibility": null,
            "width": null
          }
        },
        "fb6e9c1ccee1487d909680db435063eb": {
          "model_module": "@jupyter-widgets/controls",
          "model_name": "DescriptionStyleModel",
          "model_module_version": "1.5.0",
          "state": {
            "_model_module": "@jupyter-widgets/controls",
            "_model_module_version": "1.5.0",
            "_model_name": "DescriptionStyleModel",
            "_view_count": null,
            "_view_module": "@jupyter-widgets/base",
            "_view_module_version": "1.2.0",
            "_view_name": "StyleView",
            "description_width": ""
          }
        },
        "1cffdd8200644475b94e4b52cf15f52e": {
          "model_module": "@jupyter-widgets/controls",
          "model_name": "HBoxModel",
          "model_module_version": "1.5.0",
          "state": {
            "_dom_classes": [],
            "_model_module": "@jupyter-widgets/controls",
            "_model_module_version": "1.5.0",
            "_model_name": "HBoxModel",
            "_view_count": null,
            "_view_module": "@jupyter-widgets/controls",
            "_view_module_version": "1.5.0",
            "_view_name": "HBoxView",
            "box_style": "",
            "children": [
              "IPY_MODEL_0353962026ec494bacd93c3f81d71927",
              "IPY_MODEL_b0aa005783994b86a5cb917fe70b8511",
              "IPY_MODEL_98d1262752604e4cb03d4ccfbc939036"
            ],
            "layout": "IPY_MODEL_85923ea0afaa4a3891baf4936f491e52"
          }
        },
        "0353962026ec494bacd93c3f81d71927": {
          "model_module": "@jupyter-widgets/controls",
          "model_name": "HTMLModel",
          "model_module_version": "1.5.0",
          "state": {
            "_dom_classes": [],
            "_model_module": "@jupyter-widgets/controls",
            "_model_module_version": "1.5.0",
            "_model_name": "HTMLModel",
            "_view_count": null,
            "_view_module": "@jupyter-widgets/controls",
            "_view_module_version": "1.5.0",
            "_view_name": "HTMLView",
            "description": "",
            "description_tooltip": null,
            "layout": "IPY_MODEL_21a1bc8b7d1e4485a45525b56c9e9c5a",
            "placeholder": "​",
            "style": "IPY_MODEL_f97219da589542789b388409a363ce32",
            "value": "special_tokens_map.json: 100%"
          }
        },
        "b0aa005783994b86a5cb917fe70b8511": {
          "model_module": "@jupyter-widgets/controls",
          "model_name": "FloatProgressModel",
          "model_module_version": "1.5.0",
          "state": {
            "_dom_classes": [],
            "_model_module": "@jupyter-widgets/controls",
            "_model_module_version": "1.5.0",
            "_model_name": "FloatProgressModel",
            "_view_count": null,
            "_view_module": "@jupyter-widgets/controls",
            "_view_module_version": "1.5.0",
            "_view_name": "ProgressView",
            "bar_style": "success",
            "description": "",
            "description_tooltip": null,
            "layout": "IPY_MODEL_77c08dca6df34f0985c7a3e5404eda31",
            "max": 416,
            "min": 0,
            "orientation": "horizontal",
            "style": "IPY_MODEL_1ed04596f3f043d0bbbfa2e0e99ea17b",
            "value": 416
          }
        },
        "98d1262752604e4cb03d4ccfbc939036": {
          "model_module": "@jupyter-widgets/controls",
          "model_name": "HTMLModel",
          "model_module_version": "1.5.0",
          "state": {
            "_dom_classes": [],
            "_model_module": "@jupyter-widgets/controls",
            "_model_module_version": "1.5.0",
            "_model_name": "HTMLModel",
            "_view_count": null,
            "_view_module": "@jupyter-widgets/controls",
            "_view_module_version": "1.5.0",
            "_view_name": "HTMLView",
            "description": "",
            "description_tooltip": null,
            "layout": "IPY_MODEL_61beb04a6a0044dbac02c371d044b6d3",
            "placeholder": "​",
            "style": "IPY_MODEL_32167a3ba17c432687cdb27adcbf9af3",
            "value": " 416/416 [00:00&lt;00:00, 28.8kB/s]"
          }
        },
        "85923ea0afaa4a3891baf4936f491e52": {
          "model_module": "@jupyter-widgets/base",
          "model_name": "LayoutModel",
          "model_module_version": "1.2.0",
          "state": {
            "_model_module": "@jupyter-widgets/base",
            "_model_module_version": "1.2.0",
            "_model_name": "LayoutModel",
            "_view_count": null,
            "_view_module": "@jupyter-widgets/base",
            "_view_module_version": "1.2.0",
            "_view_name": "LayoutView",
            "align_content": null,
            "align_items": null,
            "align_self": null,
            "border": null,
            "bottom": null,
            "display": null,
            "flex": null,
            "flex_flow": null,
            "grid_area": null,
            "grid_auto_columns": null,
            "grid_auto_flow": null,
            "grid_auto_rows": null,
            "grid_column": null,
            "grid_gap": null,
            "grid_row": null,
            "grid_template_areas": null,
            "grid_template_columns": null,
            "grid_template_rows": null,
            "height": null,
            "justify_content": null,
            "justify_items": null,
            "left": null,
            "margin": null,
            "max_height": null,
            "max_width": null,
            "min_height": null,
            "min_width": null,
            "object_fit": null,
            "object_position": null,
            "order": null,
            "overflow": null,
            "overflow_x": null,
            "overflow_y": null,
            "padding": null,
            "right": null,
            "top": null,
            "visibility": null,
            "width": null
          }
        },
        "21a1bc8b7d1e4485a45525b56c9e9c5a": {
          "model_module": "@jupyter-widgets/base",
          "model_name": "LayoutModel",
          "model_module_version": "1.2.0",
          "state": {
            "_model_module": "@jupyter-widgets/base",
            "_model_module_version": "1.2.0",
            "_model_name": "LayoutModel",
            "_view_count": null,
            "_view_module": "@jupyter-widgets/base",
            "_view_module_version": "1.2.0",
            "_view_name": "LayoutView",
            "align_content": null,
            "align_items": null,
            "align_self": null,
            "border": null,
            "bottom": null,
            "display": null,
            "flex": null,
            "flex_flow": null,
            "grid_area": null,
            "grid_auto_columns": null,
            "grid_auto_flow": null,
            "grid_auto_rows": null,
            "grid_column": null,
            "grid_gap": null,
            "grid_row": null,
            "grid_template_areas": null,
            "grid_template_columns": null,
            "grid_template_rows": null,
            "height": null,
            "justify_content": null,
            "justify_items": null,
            "left": null,
            "margin": null,
            "max_height": null,
            "max_width": null,
            "min_height": null,
            "min_width": null,
            "object_fit": null,
            "object_position": null,
            "order": null,
            "overflow": null,
            "overflow_x": null,
            "overflow_y": null,
            "padding": null,
            "right": null,
            "top": null,
            "visibility": null,
            "width": null
          }
        },
        "f97219da589542789b388409a363ce32": {
          "model_module": "@jupyter-widgets/controls",
          "model_name": "DescriptionStyleModel",
          "model_module_version": "1.5.0",
          "state": {
            "_model_module": "@jupyter-widgets/controls",
            "_model_module_version": "1.5.0",
            "_model_name": "DescriptionStyleModel",
            "_view_count": null,
            "_view_module": "@jupyter-widgets/base",
            "_view_module_version": "1.2.0",
            "_view_name": "StyleView",
            "description_width": ""
          }
        },
        "77c08dca6df34f0985c7a3e5404eda31": {
          "model_module": "@jupyter-widgets/base",
          "model_name": "LayoutModel",
          "model_module_version": "1.2.0",
          "state": {
            "_model_module": "@jupyter-widgets/base",
            "_model_module_version": "1.2.0",
            "_model_name": "LayoutModel",
            "_view_count": null,
            "_view_module": "@jupyter-widgets/base",
            "_view_module_version": "1.2.0",
            "_view_name": "LayoutView",
            "align_content": null,
            "align_items": null,
            "align_self": null,
            "border": null,
            "bottom": null,
            "display": null,
            "flex": null,
            "flex_flow": null,
            "grid_area": null,
            "grid_auto_columns": null,
            "grid_auto_flow": null,
            "grid_auto_rows": null,
            "grid_column": null,
            "grid_gap": null,
            "grid_row": null,
            "grid_template_areas": null,
            "grid_template_columns": null,
            "grid_template_rows": null,
            "height": null,
            "justify_content": null,
            "justify_items": null,
            "left": null,
            "margin": null,
            "max_height": null,
            "max_width": null,
            "min_height": null,
            "min_width": null,
            "object_fit": null,
            "object_position": null,
            "order": null,
            "overflow": null,
            "overflow_x": null,
            "overflow_y": null,
            "padding": null,
            "right": null,
            "top": null,
            "visibility": null,
            "width": null
          }
        },
        "1ed04596f3f043d0bbbfa2e0e99ea17b": {
          "model_module": "@jupyter-widgets/controls",
          "model_name": "ProgressStyleModel",
          "model_module_version": "1.5.0",
          "state": {
            "_model_module": "@jupyter-widgets/controls",
            "_model_module_version": "1.5.0",
            "_model_name": "ProgressStyleModel",
            "_view_count": null,
            "_view_module": "@jupyter-widgets/base",
            "_view_module_version": "1.2.0",
            "_view_name": "StyleView",
            "bar_color": null,
            "description_width": ""
          }
        },
        "61beb04a6a0044dbac02c371d044b6d3": {
          "model_module": "@jupyter-widgets/base",
          "model_name": "LayoutModel",
          "model_module_version": "1.2.0",
          "state": {
            "_model_module": "@jupyter-widgets/base",
            "_model_module_version": "1.2.0",
            "_model_name": "LayoutModel",
            "_view_count": null,
            "_view_module": "@jupyter-widgets/base",
            "_view_module_version": "1.2.0",
            "_view_name": "LayoutView",
            "align_content": null,
            "align_items": null,
            "align_self": null,
            "border": null,
            "bottom": null,
            "display": null,
            "flex": null,
            "flex_flow": null,
            "grid_area": null,
            "grid_auto_columns": null,
            "grid_auto_flow": null,
            "grid_auto_rows": null,
            "grid_column": null,
            "grid_gap": null,
            "grid_row": null,
            "grid_template_areas": null,
            "grid_template_columns": null,
            "grid_template_rows": null,
            "height": null,
            "justify_content": null,
            "justify_items": null,
            "left": null,
            "margin": null,
            "max_height": null,
            "max_width": null,
            "min_height": null,
            "min_width": null,
            "object_fit": null,
            "object_position": null,
            "order": null,
            "overflow": null,
            "overflow_x": null,
            "overflow_y": null,
            "padding": null,
            "right": null,
            "top": null,
            "visibility": null,
            "width": null
          }
        },
        "32167a3ba17c432687cdb27adcbf9af3": {
          "model_module": "@jupyter-widgets/controls",
          "model_name": "DescriptionStyleModel",
          "model_module_version": "1.5.0",
          "state": {
            "_model_module": "@jupyter-widgets/controls",
            "_model_module_version": "1.5.0",
            "_model_name": "DescriptionStyleModel",
            "_view_count": null,
            "_view_module": "@jupyter-widgets/base",
            "_view_module_version": "1.2.0",
            "_view_name": "StyleView",
            "description_width": ""
          }
        },
        "5647dae8e0e140c7b82d7a1d788ed24c": {
          "model_module": "@jupyter-widgets/controls",
          "model_name": "HBoxModel",
          "model_module_version": "1.5.0",
          "state": {
            "_dom_classes": [],
            "_model_module": "@jupyter-widgets/controls",
            "_model_module_version": "1.5.0",
            "_model_name": "HBoxModel",
            "_view_count": null,
            "_view_module": "@jupyter-widgets/controls",
            "_view_module_version": "1.5.0",
            "_view_name": "HBoxView",
            "box_style": "",
            "children": [
              "IPY_MODEL_33f6578eac49431f8c04ffe4a1906b50",
              "IPY_MODEL_713742b0e4e54d6faa5dc0769cd2d0d5",
              "IPY_MODEL_b59880761d554acb9b1b49ae63475d63"
            ],
            "layout": "IPY_MODEL_4a0ffc0e08d54599a04b4507d7b67087"
          }
        },
        "33f6578eac49431f8c04ffe4a1906b50": {
          "model_module": "@jupyter-widgets/controls",
          "model_name": "HTMLModel",
          "model_module_version": "1.5.0",
          "state": {
            "_dom_classes": [],
            "_model_module": "@jupyter-widgets/controls",
            "_model_module_version": "1.5.0",
            "_model_name": "HTMLModel",
            "_view_count": null,
            "_view_module": "@jupyter-widgets/controls",
            "_view_module_version": "1.5.0",
            "_view_name": "HTMLView",
            "description": "",
            "description_tooltip": null,
            "layout": "IPY_MODEL_e61e2bda3e144ea88c356ffce6251aa6",
            "placeholder": "​",
            "style": "IPY_MODEL_61cf9ecc8fb84d898c45bdcf706089d1",
            "value": "100%"
          }
        },
        "713742b0e4e54d6faa5dc0769cd2d0d5": {
          "model_module": "@jupyter-widgets/controls",
          "model_name": "FloatProgressModel",
          "model_module_version": "1.5.0",
          "state": {
            "_dom_classes": [],
            "_model_module": "@jupyter-widgets/controls",
            "_model_module_version": "1.5.0",
            "_model_name": "FloatProgressModel",
            "_view_count": null,
            "_view_module": "@jupyter-widgets/controls",
            "_view_module_version": "1.5.0",
            "_view_name": "ProgressView",
            "bar_style": "success",
            "description": "",
            "description_tooltip": null,
            "layout": "IPY_MODEL_f25045d3d96b456090e355b4f6e723ed",
            "max": 1,
            "min": 0,
            "orientation": "horizontal",
            "style": "IPY_MODEL_a938a3cecc2c4c719e7e1fc0bcf9f370",
            "value": 1
          }
        },
        "b59880761d554acb9b1b49ae63475d63": {
          "model_module": "@jupyter-widgets/controls",
          "model_name": "HTMLModel",
          "model_module_version": "1.5.0",
          "state": {
            "_dom_classes": [],
            "_model_module": "@jupyter-widgets/controls",
            "_model_module_version": "1.5.0",
            "_model_name": "HTMLModel",
            "_view_count": null,
            "_view_module": "@jupyter-widgets/controls",
            "_view_module_version": "1.5.0",
            "_view_name": "HTMLView",
            "description": "",
            "description_tooltip": null,
            "layout": "IPY_MODEL_efb81a491ab345d8a8d17289ccef0c96",
            "placeholder": "​",
            "style": "IPY_MODEL_59c4fbd204f04344a7c5731685ade57f",
            "value": " 1/1 [04:15&lt;00:00, 178.84s/it]"
          }
        },
        "4a0ffc0e08d54599a04b4507d7b67087": {
          "model_module": "@jupyter-widgets/base",
          "model_name": "LayoutModel",
          "model_module_version": "1.2.0",
          "state": {
            "_model_module": "@jupyter-widgets/base",
            "_model_module_version": "1.2.0",
            "_model_name": "LayoutModel",
            "_view_count": null,
            "_view_module": "@jupyter-widgets/base",
            "_view_module_version": "1.2.0",
            "_view_name": "LayoutView",
            "align_content": null,
            "align_items": null,
            "align_self": null,
            "border": null,
            "bottom": null,
            "display": null,
            "flex": null,
            "flex_flow": null,
            "grid_area": null,
            "grid_auto_columns": null,
            "grid_auto_flow": null,
            "grid_auto_rows": null,
            "grid_column": null,
            "grid_gap": null,
            "grid_row": null,
            "grid_template_areas": null,
            "grid_template_columns": null,
            "grid_template_rows": null,
            "height": null,
            "justify_content": null,
            "justify_items": null,
            "left": null,
            "margin": null,
            "max_height": null,
            "max_width": null,
            "min_height": null,
            "min_width": null,
            "object_fit": null,
            "object_position": null,
            "order": null,
            "overflow": null,
            "overflow_x": null,
            "overflow_y": null,
            "padding": null,
            "right": null,
            "top": null,
            "visibility": null,
            "width": null
          }
        },
        "e61e2bda3e144ea88c356ffce6251aa6": {
          "model_module": "@jupyter-widgets/base",
          "model_name": "LayoutModel",
          "model_module_version": "1.2.0",
          "state": {
            "_model_module": "@jupyter-widgets/base",
            "_model_module_version": "1.2.0",
            "_model_name": "LayoutModel",
            "_view_count": null,
            "_view_module": "@jupyter-widgets/base",
            "_view_module_version": "1.2.0",
            "_view_name": "LayoutView",
            "align_content": null,
            "align_items": null,
            "align_self": null,
            "border": null,
            "bottom": null,
            "display": null,
            "flex": null,
            "flex_flow": null,
            "grid_area": null,
            "grid_auto_columns": null,
            "grid_auto_flow": null,
            "grid_auto_rows": null,
            "grid_column": null,
            "grid_gap": null,
            "grid_row": null,
            "grid_template_areas": null,
            "grid_template_columns": null,
            "grid_template_rows": null,
            "height": null,
            "justify_content": null,
            "justify_items": null,
            "left": null,
            "margin": null,
            "max_height": null,
            "max_width": null,
            "min_height": null,
            "min_width": null,
            "object_fit": null,
            "object_position": null,
            "order": null,
            "overflow": null,
            "overflow_x": null,
            "overflow_y": null,
            "padding": null,
            "right": null,
            "top": null,
            "visibility": null,
            "width": null
          }
        },
        "61cf9ecc8fb84d898c45bdcf706089d1": {
          "model_module": "@jupyter-widgets/controls",
          "model_name": "DescriptionStyleModel",
          "model_module_version": "1.5.0",
          "state": {
            "_model_module": "@jupyter-widgets/controls",
            "_model_module_version": "1.5.0",
            "_model_name": "DescriptionStyleModel",
            "_view_count": null,
            "_view_module": "@jupyter-widgets/base",
            "_view_module_version": "1.2.0",
            "_view_name": "StyleView",
            "description_width": ""
          }
        },
        "f25045d3d96b456090e355b4f6e723ed": {
          "model_module": "@jupyter-widgets/base",
          "model_name": "LayoutModel",
          "model_module_version": "1.2.0",
          "state": {
            "_model_module": "@jupyter-widgets/base",
            "_model_module_version": "1.2.0",
            "_model_name": "LayoutModel",
            "_view_count": null,
            "_view_module": "@jupyter-widgets/base",
            "_view_module_version": "1.2.0",
            "_view_name": "LayoutView",
            "align_content": null,
            "align_items": null,
            "align_self": null,
            "border": null,
            "bottom": null,
            "display": null,
            "flex": null,
            "flex_flow": null,
            "grid_area": null,
            "grid_auto_columns": null,
            "grid_auto_flow": null,
            "grid_auto_rows": null,
            "grid_column": null,
            "grid_gap": null,
            "grid_row": null,
            "grid_template_areas": null,
            "grid_template_columns": null,
            "grid_template_rows": null,
            "height": null,
            "justify_content": null,
            "justify_items": null,
            "left": null,
            "margin": null,
            "max_height": null,
            "max_width": null,
            "min_height": null,
            "min_width": null,
            "object_fit": null,
            "object_position": null,
            "order": null,
            "overflow": null,
            "overflow_x": null,
            "overflow_y": null,
            "padding": null,
            "right": null,
            "top": null,
            "visibility": null,
            "width": null
          }
        },
        "a938a3cecc2c4c719e7e1fc0bcf9f370": {
          "model_module": "@jupyter-widgets/controls",
          "model_name": "ProgressStyleModel",
          "model_module_version": "1.5.0",
          "state": {
            "_model_module": "@jupyter-widgets/controls",
            "_model_module_version": "1.5.0",
            "_model_name": "ProgressStyleModel",
            "_view_count": null,
            "_view_module": "@jupyter-widgets/base",
            "_view_module_version": "1.2.0",
            "_view_name": "StyleView",
            "bar_color": null,
            "description_width": ""
          }
        },
        "efb81a491ab345d8a8d17289ccef0c96": {
          "model_module": "@jupyter-widgets/base",
          "model_name": "LayoutModel",
          "model_module_version": "1.2.0",
          "state": {
            "_model_module": "@jupyter-widgets/base",
            "_model_module_version": "1.2.0",
            "_model_name": "LayoutModel",
            "_view_count": null,
            "_view_module": "@jupyter-widgets/base",
            "_view_module_version": "1.2.0",
            "_view_name": "LayoutView",
            "align_content": null,
            "align_items": null,
            "align_self": null,
            "border": null,
            "bottom": null,
            "display": null,
            "flex": null,
            "flex_flow": null,
            "grid_area": null,
            "grid_auto_columns": null,
            "grid_auto_flow": null,
            "grid_auto_rows": null,
            "grid_column": null,
            "grid_gap": null,
            "grid_row": null,
            "grid_template_areas": null,
            "grid_template_columns": null,
            "grid_template_rows": null,
            "height": null,
            "justify_content": null,
            "justify_items": null,
            "left": null,
            "margin": null,
            "max_height": null,
            "max_width": null,
            "min_height": null,
            "min_width": null,
            "object_fit": null,
            "object_position": null,
            "order": null,
            "overflow": null,
            "overflow_x": null,
            "overflow_y": null,
            "padding": null,
            "right": null,
            "top": null,
            "visibility": null,
            "width": null
          }
        },
        "59c4fbd204f04344a7c5731685ade57f": {
          "model_module": "@jupyter-widgets/controls",
          "model_name": "DescriptionStyleModel",
          "model_module_version": "1.5.0",
          "state": {
            "_model_module": "@jupyter-widgets/controls",
            "_model_module_version": "1.5.0",
            "_model_name": "DescriptionStyleModel",
            "_view_count": null,
            "_view_module": "@jupyter-widgets/base",
            "_view_module_version": "1.2.0",
            "_view_name": "StyleView",
            "description_width": ""
          }
        },
        "705ab5d3d3814cf8b224b01f28850a13": {
          "model_module": "@jupyter-widgets/controls",
          "model_name": "HBoxModel",
          "model_module_version": "1.5.0",
          "state": {
            "_dom_classes": [],
            "_model_module": "@jupyter-widgets/controls",
            "_model_module_version": "1.5.0",
            "_model_name": "HBoxModel",
            "_view_count": null,
            "_view_module": "@jupyter-widgets/controls",
            "_view_module_version": "1.5.0",
            "_view_name": "HBoxView",
            "box_style": "",
            "children": [
              "IPY_MODEL_d3797c25b8a64f46802c8e3a3ec7678b",
              "IPY_MODEL_8ebbfd95e6d64eaa92e6ad2f2eb9809f",
              "IPY_MODEL_42a0354c8c574fa5bfde8fd39bc0e035"
            ],
            "layout": "IPY_MODEL_4210301ad3c348f687a2b4c5b1a59f97"
          }
        },
        "d3797c25b8a64f46802c8e3a3ec7678b": {
          "model_module": "@jupyter-widgets/controls",
          "model_name": "HTMLModel",
          "model_module_version": "1.5.0",
          "state": {
            "_dom_classes": [],
            "_model_module": "@jupyter-widgets/controls",
            "_model_module_version": "1.5.0",
            "_model_name": "HTMLModel",
            "_view_count": null,
            "_view_module": "@jupyter-widgets/controls",
            "_view_module_version": "1.5.0",
            "_view_name": "HTMLView",
            "description": "",
            "description_tooltip": null,
            "layout": "IPY_MODEL_33346d2b326b488ba1712247b8fa12c9",
            "placeholder": "​",
            "style": "IPY_MODEL_276b0cd57c1340cfadf41c8d3b3f26d3",
            "value": "100%"
          }
        },
        "8ebbfd95e6d64eaa92e6ad2f2eb9809f": {
          "model_module": "@jupyter-widgets/controls",
          "model_name": "FloatProgressModel",
          "model_module_version": "1.5.0",
          "state": {
            "_dom_classes": [],
            "_model_module": "@jupyter-widgets/controls",
            "_model_module_version": "1.5.0",
            "_model_name": "FloatProgressModel",
            "_view_count": null,
            "_view_module": "@jupyter-widgets/controls",
            "_view_module_version": "1.5.0",
            "_view_name": "ProgressView",
            "bar_style": "success",
            "description": "",
            "description_tooltip": null,
            "layout": "IPY_MODEL_197bb744f6944f408659fbefacff7531",
            "max": 1,
            "min": 0,
            "orientation": "horizontal",
            "style": "IPY_MODEL_560aa1f669a34ab88be7c91be1c1a703",
            "value": 1
          }
        },
        "42a0354c8c574fa5bfde8fd39bc0e035": {
          "model_module": "@jupyter-widgets/controls",
          "model_name": "HTMLModel",
          "model_module_version": "1.5.0",
          "state": {
            "_dom_classes": [],
            "_model_module": "@jupyter-widgets/controls",
            "_model_module_version": "1.5.0",
            "_model_name": "HTMLModel",
            "_view_count": null,
            "_view_module": "@jupyter-widgets/controls",
            "_view_module_version": "1.5.0",
            "_view_name": "HTMLView",
            "description": "",
            "description_tooltip": null,
            "layout": "IPY_MODEL_fe19d84b210b4b92bb4bd81e26a69460",
            "placeholder": "​",
            "style": "IPY_MODEL_eefe8c0612074ae0b50e5bd3649036ad",
            "value": " 1/1 [1:37:52&lt;00:00, 358.92s/it]"
          }
        },
        "4210301ad3c348f687a2b4c5b1a59f97": {
          "model_module": "@jupyter-widgets/base",
          "model_name": "LayoutModel",
          "model_module_version": "1.2.0",
          "state": {
            "_model_module": "@jupyter-widgets/base",
            "_model_module_version": "1.2.0",
            "_model_name": "LayoutModel",
            "_view_count": null,
            "_view_module": "@jupyter-widgets/base",
            "_view_module_version": "1.2.0",
            "_view_name": "LayoutView",
            "align_content": null,
            "align_items": null,
            "align_self": null,
            "border": null,
            "bottom": null,
            "display": null,
            "flex": null,
            "flex_flow": null,
            "grid_area": null,
            "grid_auto_columns": null,
            "grid_auto_flow": null,
            "grid_auto_rows": null,
            "grid_column": null,
            "grid_gap": null,
            "grid_row": null,
            "grid_template_areas": null,
            "grid_template_columns": null,
            "grid_template_rows": null,
            "height": null,
            "justify_content": null,
            "justify_items": null,
            "left": null,
            "margin": null,
            "max_height": null,
            "max_width": null,
            "min_height": null,
            "min_width": null,
            "object_fit": null,
            "object_position": null,
            "order": null,
            "overflow": null,
            "overflow_x": null,
            "overflow_y": null,
            "padding": null,
            "right": null,
            "top": null,
            "visibility": null,
            "width": null
          }
        },
        "33346d2b326b488ba1712247b8fa12c9": {
          "model_module": "@jupyter-widgets/base",
          "model_name": "LayoutModel",
          "model_module_version": "1.2.0",
          "state": {
            "_model_module": "@jupyter-widgets/base",
            "_model_module_version": "1.2.0",
            "_model_name": "LayoutModel",
            "_view_count": null,
            "_view_module": "@jupyter-widgets/base",
            "_view_module_version": "1.2.0",
            "_view_name": "LayoutView",
            "align_content": null,
            "align_items": null,
            "align_self": null,
            "border": null,
            "bottom": null,
            "display": null,
            "flex": null,
            "flex_flow": null,
            "grid_area": null,
            "grid_auto_columns": null,
            "grid_auto_flow": null,
            "grid_auto_rows": null,
            "grid_column": null,
            "grid_gap": null,
            "grid_row": null,
            "grid_template_areas": null,
            "grid_template_columns": null,
            "grid_template_rows": null,
            "height": null,
            "justify_content": null,
            "justify_items": null,
            "left": null,
            "margin": null,
            "max_height": null,
            "max_width": null,
            "min_height": null,
            "min_width": null,
            "object_fit": null,
            "object_position": null,
            "order": null,
            "overflow": null,
            "overflow_x": null,
            "overflow_y": null,
            "padding": null,
            "right": null,
            "top": null,
            "visibility": null,
            "width": null
          }
        },
        "276b0cd57c1340cfadf41c8d3b3f26d3": {
          "model_module": "@jupyter-widgets/controls",
          "model_name": "DescriptionStyleModel",
          "model_module_version": "1.5.0",
          "state": {
            "_model_module": "@jupyter-widgets/controls",
            "_model_module_version": "1.5.0",
            "_model_name": "DescriptionStyleModel",
            "_view_count": null,
            "_view_module": "@jupyter-widgets/base",
            "_view_module_version": "1.2.0",
            "_view_name": "StyleView",
            "description_width": ""
          }
        },
        "197bb744f6944f408659fbefacff7531": {
          "model_module": "@jupyter-widgets/base",
          "model_name": "LayoutModel",
          "model_module_version": "1.2.0",
          "state": {
            "_model_module": "@jupyter-widgets/base",
            "_model_module_version": "1.2.0",
            "_model_name": "LayoutModel",
            "_view_count": null,
            "_view_module": "@jupyter-widgets/base",
            "_view_module_version": "1.2.0",
            "_view_name": "LayoutView",
            "align_content": null,
            "align_items": null,
            "align_self": null,
            "border": null,
            "bottom": null,
            "display": null,
            "flex": null,
            "flex_flow": null,
            "grid_area": null,
            "grid_auto_columns": null,
            "grid_auto_flow": null,
            "grid_auto_rows": null,
            "grid_column": null,
            "grid_gap": null,
            "grid_row": null,
            "grid_template_areas": null,
            "grid_template_columns": null,
            "grid_template_rows": null,
            "height": null,
            "justify_content": null,
            "justify_items": null,
            "left": null,
            "margin": null,
            "max_height": null,
            "max_width": null,
            "min_height": null,
            "min_width": null,
            "object_fit": null,
            "object_position": null,
            "order": null,
            "overflow": null,
            "overflow_x": null,
            "overflow_y": null,
            "padding": null,
            "right": null,
            "top": null,
            "visibility": null,
            "width": null
          }
        },
        "560aa1f669a34ab88be7c91be1c1a703": {
          "model_module": "@jupyter-widgets/controls",
          "model_name": "ProgressStyleModel",
          "model_module_version": "1.5.0",
          "state": {
            "_model_module": "@jupyter-widgets/controls",
            "_model_module_version": "1.5.0",
            "_model_name": "ProgressStyleModel",
            "_view_count": null,
            "_view_module": "@jupyter-widgets/base",
            "_view_module_version": "1.2.0",
            "_view_name": "StyleView",
            "bar_color": null,
            "description_width": ""
          }
        },
        "fe19d84b210b4b92bb4bd81e26a69460": {
          "model_module": "@jupyter-widgets/base",
          "model_name": "LayoutModel",
          "model_module_version": "1.2.0",
          "state": {
            "_model_module": "@jupyter-widgets/base",
            "_model_module_version": "1.2.0",
            "_model_name": "LayoutModel",
            "_view_count": null,
            "_view_module": "@jupyter-widgets/base",
            "_view_module_version": "1.2.0",
            "_view_name": "LayoutView",
            "align_content": null,
            "align_items": null,
            "align_self": null,
            "border": null,
            "bottom": null,
            "display": null,
            "flex": null,
            "flex_flow": null,
            "grid_area": null,
            "grid_auto_columns": null,
            "grid_auto_flow": null,
            "grid_auto_rows": null,
            "grid_column": null,
            "grid_gap": null,
            "grid_row": null,
            "grid_template_areas": null,
            "grid_template_columns": null,
            "grid_template_rows": null,
            "height": null,
            "justify_content": null,
            "justify_items": null,
            "left": null,
            "margin": null,
            "max_height": null,
            "max_width": null,
            "min_height": null,
            "min_width": null,
            "object_fit": null,
            "object_position": null,
            "order": null,
            "overflow": null,
            "overflow_x": null,
            "overflow_y": null,
            "padding": null,
            "right": null,
            "top": null,
            "visibility": null,
            "width": null
          }
        },
        "eefe8c0612074ae0b50e5bd3649036ad": {
          "model_module": "@jupyter-widgets/controls",
          "model_name": "DescriptionStyleModel",
          "model_module_version": "1.5.0",
          "state": {
            "_model_module": "@jupyter-widgets/controls",
            "_model_module_version": "1.5.0",
            "_model_name": "DescriptionStyleModel",
            "_view_count": null,
            "_view_module": "@jupyter-widgets/base",
            "_view_module_version": "1.2.0",
            "_view_name": "StyleView",
            "description_width": ""
          }
        },
        "25f92c2064c9461784732a58194adc6e": {
          "model_module": "@jupyter-widgets/controls",
          "model_name": "HBoxModel",
          "model_module_version": "1.5.0",
          "state": {
            "_dom_classes": [],
            "_model_module": "@jupyter-widgets/controls",
            "_model_module_version": "1.5.0",
            "_model_name": "HBoxModel",
            "_view_count": null,
            "_view_module": "@jupyter-widgets/controls",
            "_view_module_version": "1.5.0",
            "_view_name": "HBoxView",
            "box_style": "",
            "children": [
              "IPY_MODEL_0d247f5259354f43b5e3b921617b8cb8",
              "IPY_MODEL_a38a1a3a67e746bfb75b5ec1d519892e",
              "IPY_MODEL_8a137d0ba60044228ccc645edd8132a9"
            ],
            "layout": "IPY_MODEL_40ed11a01bc441afa6f47eb5259c80df"
          }
        },
        "0d247f5259354f43b5e3b921617b8cb8": {
          "model_module": "@jupyter-widgets/controls",
          "model_name": "HTMLModel",
          "model_module_version": "1.5.0",
          "state": {
            "_dom_classes": [],
            "_model_module": "@jupyter-widgets/controls",
            "_model_module_version": "1.5.0",
            "_model_name": "HTMLModel",
            "_view_count": null,
            "_view_module": "@jupyter-widgets/controls",
            "_view_module_version": "1.5.0",
            "_view_name": "HTMLView",
            "description": "",
            "description_tooltip": null,
            "layout": "IPY_MODEL_1001531860694e3fbd54313e4e63666c",
            "placeholder": "​",
            "style": "IPY_MODEL_e201f5ca5bd945ee8e0815c8d2a1e70f",
            "value": "100%"
          }
        },
        "a38a1a3a67e746bfb75b5ec1d519892e": {
          "model_module": "@jupyter-widgets/controls",
          "model_name": "FloatProgressModel",
          "model_module_version": "1.5.0",
          "state": {
            "_dom_classes": [],
            "_model_module": "@jupyter-widgets/controls",
            "_model_module_version": "1.5.0",
            "_model_name": "FloatProgressModel",
            "_view_count": null,
            "_view_module": "@jupyter-widgets/controls",
            "_view_module_version": "1.5.0",
            "_view_name": "ProgressView",
            "bar_style": "success",
            "description": "",
            "description_tooltip": null,
            "layout": "IPY_MODEL_dfd23d3caf9b491b9f30d73fca638638",
            "max": 1,
            "min": 0,
            "orientation": "horizontal",
            "style": "IPY_MODEL_2c30a45651fa4f9fb3499da3e7bd9ae7",
            "value": 1
          }
        },
        "8a137d0ba60044228ccc645edd8132a9": {
          "model_module": "@jupyter-widgets/controls",
          "model_name": "HTMLModel",
          "model_module_version": "1.5.0",
          "state": {
            "_dom_classes": [],
            "_model_module": "@jupyter-widgets/controls",
            "_model_module_version": "1.5.0",
            "_model_name": "HTMLModel",
            "_view_count": null,
            "_view_module": "@jupyter-widgets/controls",
            "_view_module_version": "1.5.0",
            "_view_name": "HTMLView",
            "description": "",
            "description_tooltip": null,
            "layout": "IPY_MODEL_2649fb53205945daac5654de412b41ed",
            "placeholder": "​",
            "style": "IPY_MODEL_6828f68c60504b3ba124beff29ee84ab",
            "value": " 1/1 [39:28&lt;00:00, 172.57s/it]"
          }
        },
        "40ed11a01bc441afa6f47eb5259c80df": {
          "model_module": "@jupyter-widgets/base",
          "model_name": "LayoutModel",
          "model_module_version": "1.2.0",
          "state": {
            "_model_module": "@jupyter-widgets/base",
            "_model_module_version": "1.2.0",
            "_model_name": "LayoutModel",
            "_view_count": null,
            "_view_module": "@jupyter-widgets/base",
            "_view_module_version": "1.2.0",
            "_view_name": "LayoutView",
            "align_content": null,
            "align_items": null,
            "align_self": null,
            "border": null,
            "bottom": null,
            "display": null,
            "flex": null,
            "flex_flow": null,
            "grid_area": null,
            "grid_auto_columns": null,
            "grid_auto_flow": null,
            "grid_auto_rows": null,
            "grid_column": null,
            "grid_gap": null,
            "grid_row": null,
            "grid_template_areas": null,
            "grid_template_columns": null,
            "grid_template_rows": null,
            "height": null,
            "justify_content": null,
            "justify_items": null,
            "left": null,
            "margin": null,
            "max_height": null,
            "max_width": null,
            "min_height": null,
            "min_width": null,
            "object_fit": null,
            "object_position": null,
            "order": null,
            "overflow": null,
            "overflow_x": null,
            "overflow_y": null,
            "padding": null,
            "right": null,
            "top": null,
            "visibility": null,
            "width": null
          }
        },
        "1001531860694e3fbd54313e4e63666c": {
          "model_module": "@jupyter-widgets/base",
          "model_name": "LayoutModel",
          "model_module_version": "1.2.0",
          "state": {
            "_model_module": "@jupyter-widgets/base",
            "_model_module_version": "1.2.0",
            "_model_name": "LayoutModel",
            "_view_count": null,
            "_view_module": "@jupyter-widgets/base",
            "_view_module_version": "1.2.0",
            "_view_name": "LayoutView",
            "align_content": null,
            "align_items": null,
            "align_self": null,
            "border": null,
            "bottom": null,
            "display": null,
            "flex": null,
            "flex_flow": null,
            "grid_area": null,
            "grid_auto_columns": null,
            "grid_auto_flow": null,
            "grid_auto_rows": null,
            "grid_column": null,
            "grid_gap": null,
            "grid_row": null,
            "grid_template_areas": null,
            "grid_template_columns": null,
            "grid_template_rows": null,
            "height": null,
            "justify_content": null,
            "justify_items": null,
            "left": null,
            "margin": null,
            "max_height": null,
            "max_width": null,
            "min_height": null,
            "min_width": null,
            "object_fit": null,
            "object_position": null,
            "order": null,
            "overflow": null,
            "overflow_x": null,
            "overflow_y": null,
            "padding": null,
            "right": null,
            "top": null,
            "visibility": null,
            "width": null
          }
        },
        "e201f5ca5bd945ee8e0815c8d2a1e70f": {
          "model_module": "@jupyter-widgets/controls",
          "model_name": "DescriptionStyleModel",
          "model_module_version": "1.5.0",
          "state": {
            "_model_module": "@jupyter-widgets/controls",
            "_model_module_version": "1.5.0",
            "_model_name": "DescriptionStyleModel",
            "_view_count": null,
            "_view_module": "@jupyter-widgets/base",
            "_view_module_version": "1.2.0",
            "_view_name": "StyleView",
            "description_width": ""
          }
        },
        "dfd23d3caf9b491b9f30d73fca638638": {
          "model_module": "@jupyter-widgets/base",
          "model_name": "LayoutModel",
          "model_module_version": "1.2.0",
          "state": {
            "_model_module": "@jupyter-widgets/base",
            "_model_module_version": "1.2.0",
            "_model_name": "LayoutModel",
            "_view_count": null,
            "_view_module": "@jupyter-widgets/base",
            "_view_module_version": "1.2.0",
            "_view_name": "LayoutView",
            "align_content": null,
            "align_items": null,
            "align_self": null,
            "border": null,
            "bottom": null,
            "display": null,
            "flex": null,
            "flex_flow": null,
            "grid_area": null,
            "grid_auto_columns": null,
            "grid_auto_flow": null,
            "grid_auto_rows": null,
            "grid_column": null,
            "grid_gap": null,
            "grid_row": null,
            "grid_template_areas": null,
            "grid_template_columns": null,
            "grid_template_rows": null,
            "height": null,
            "justify_content": null,
            "justify_items": null,
            "left": null,
            "margin": null,
            "max_height": null,
            "max_width": null,
            "min_height": null,
            "min_width": null,
            "object_fit": null,
            "object_position": null,
            "order": null,
            "overflow": null,
            "overflow_x": null,
            "overflow_y": null,
            "padding": null,
            "right": null,
            "top": null,
            "visibility": null,
            "width": null
          }
        },
        "2c30a45651fa4f9fb3499da3e7bd9ae7": {
          "model_module": "@jupyter-widgets/controls",
          "model_name": "ProgressStyleModel",
          "model_module_version": "1.5.0",
          "state": {
            "_model_module": "@jupyter-widgets/controls",
            "_model_module_version": "1.5.0",
            "_model_name": "ProgressStyleModel",
            "_view_count": null,
            "_view_module": "@jupyter-widgets/base",
            "_view_module_version": "1.2.0",
            "_view_name": "StyleView",
            "bar_color": null,
            "description_width": ""
          }
        },
        "2649fb53205945daac5654de412b41ed": {
          "model_module": "@jupyter-widgets/base",
          "model_name": "LayoutModel",
          "model_module_version": "1.2.0",
          "state": {
            "_model_module": "@jupyter-widgets/base",
            "_model_module_version": "1.2.0",
            "_model_name": "LayoutModel",
            "_view_count": null,
            "_view_module": "@jupyter-widgets/base",
            "_view_module_version": "1.2.0",
            "_view_name": "LayoutView",
            "align_content": null,
            "align_items": null,
            "align_self": null,
            "border": null,
            "bottom": null,
            "display": null,
            "flex": null,
            "flex_flow": null,
            "grid_area": null,
            "grid_auto_columns": null,
            "grid_auto_flow": null,
            "grid_auto_rows": null,
            "grid_column": null,
            "grid_gap": null,
            "grid_row": null,
            "grid_template_areas": null,
            "grid_template_columns": null,
            "grid_template_rows": null,
            "height": null,
            "justify_content": null,
            "justify_items": null,
            "left": null,
            "margin": null,
            "max_height": null,
            "max_width": null,
            "min_height": null,
            "min_width": null,
            "object_fit": null,
            "object_position": null,
            "order": null,
            "overflow": null,
            "overflow_x": null,
            "overflow_y": null,
            "padding": null,
            "right": null,
            "top": null,
            "visibility": null,
            "width": null
          }
        },
        "6828f68c60504b3ba124beff29ee84ab": {
          "model_module": "@jupyter-widgets/controls",
          "model_name": "DescriptionStyleModel",
          "model_module_version": "1.5.0",
          "state": {
            "_model_module": "@jupyter-widgets/controls",
            "_model_module_version": "1.5.0",
            "_model_name": "DescriptionStyleModel",
            "_view_count": null,
            "_view_module": "@jupyter-widgets/base",
            "_view_module_version": "1.2.0",
            "_view_name": "StyleView",
            "description_width": ""
          }
        },
        "0a0a902ebc0044c0a4a2c157d96f5400": {
          "model_module": "@jupyter-widgets/controls",
          "model_name": "HBoxModel",
          "model_module_version": "1.5.0",
          "state": {
            "_dom_classes": [],
            "_model_module": "@jupyter-widgets/controls",
            "_model_module_version": "1.5.0",
            "_model_name": "HBoxModel",
            "_view_count": null,
            "_view_module": "@jupyter-widgets/controls",
            "_view_module_version": "1.5.0",
            "_view_name": "HBoxView",
            "box_style": "",
            "children": [
              "IPY_MODEL_aad0f0c6561c4eb98b539422a4207c58",
              "IPY_MODEL_23d827b2bce34b239bdbf3e2be049d2b",
              "IPY_MODEL_cab8a18cce2d42cd8256cb82ac5d9794"
            ],
            "layout": "IPY_MODEL_fb7b84bbbb6a43e8bbda40bd7ffb105b"
          }
        },
        "aad0f0c6561c4eb98b539422a4207c58": {
          "model_module": "@jupyter-widgets/controls",
          "model_name": "HTMLModel",
          "model_module_version": "1.5.0",
          "state": {
            "_dom_classes": [],
            "_model_module": "@jupyter-widgets/controls",
            "_model_module_version": "1.5.0",
            "_model_name": "HTMLModel",
            "_view_count": null,
            "_view_module": "@jupyter-widgets/controls",
            "_view_module_version": "1.5.0",
            "_view_name": "HTMLView",
            "description": "",
            "description_tooltip": null,
            "layout": "IPY_MODEL_709530551ec148678eeeae4a504c162d",
            "placeholder": "​",
            "style": "IPY_MODEL_347d01b23e774792a6b5bc90a48df6dc",
            "value": "100%"
          }
        },
        "23d827b2bce34b239bdbf3e2be049d2b": {
          "model_module": "@jupyter-widgets/controls",
          "model_name": "FloatProgressModel",
          "model_module_version": "1.5.0",
          "state": {
            "_dom_classes": [],
            "_model_module": "@jupyter-widgets/controls",
            "_model_module_version": "1.5.0",
            "_model_name": "FloatProgressModel",
            "_view_count": null,
            "_view_module": "@jupyter-widgets/controls",
            "_view_module_version": "1.5.0",
            "_view_name": "ProgressView",
            "bar_style": "success",
            "description": "",
            "description_tooltip": null,
            "layout": "IPY_MODEL_ac48891a5fa54bc29a333924f2cef747",
            "max": 1,
            "min": 0,
            "orientation": "horizontal",
            "style": "IPY_MODEL_daefd7a07ea942f9a7b9e1327a87121b",
            "value": 1
          }
        },
        "cab8a18cce2d42cd8256cb82ac5d9794": {
          "model_module": "@jupyter-widgets/controls",
          "model_name": "HTMLModel",
          "model_module_version": "1.5.0",
          "state": {
            "_dom_classes": [],
            "_model_module": "@jupyter-widgets/controls",
            "_model_module_version": "1.5.0",
            "_model_name": "HTMLModel",
            "_view_count": null,
            "_view_module": "@jupyter-widgets/controls",
            "_view_module_version": "1.5.0",
            "_view_name": "HTMLView",
            "description": "",
            "description_tooltip": null,
            "layout": "IPY_MODEL_3680836c0ddb4821a793cd0c8ed244d8",
            "placeholder": "​",
            "style": "IPY_MODEL_92c92c6599cb491cae2915c0c848ea7b",
            "value": " 1/1 [21:26&lt;00:00, 200.08s/it]"
          }
        },
        "fb7b84bbbb6a43e8bbda40bd7ffb105b": {
          "model_module": "@jupyter-widgets/base",
          "model_name": "LayoutModel",
          "model_module_version": "1.2.0",
          "state": {
            "_model_module": "@jupyter-widgets/base",
            "_model_module_version": "1.2.0",
            "_model_name": "LayoutModel",
            "_view_count": null,
            "_view_module": "@jupyter-widgets/base",
            "_view_module_version": "1.2.0",
            "_view_name": "LayoutView",
            "align_content": null,
            "align_items": null,
            "align_self": null,
            "border": null,
            "bottom": null,
            "display": null,
            "flex": null,
            "flex_flow": null,
            "grid_area": null,
            "grid_auto_columns": null,
            "grid_auto_flow": null,
            "grid_auto_rows": null,
            "grid_column": null,
            "grid_gap": null,
            "grid_row": null,
            "grid_template_areas": null,
            "grid_template_columns": null,
            "grid_template_rows": null,
            "height": null,
            "justify_content": null,
            "justify_items": null,
            "left": null,
            "margin": null,
            "max_height": null,
            "max_width": null,
            "min_height": null,
            "min_width": null,
            "object_fit": null,
            "object_position": null,
            "order": null,
            "overflow": null,
            "overflow_x": null,
            "overflow_y": null,
            "padding": null,
            "right": null,
            "top": null,
            "visibility": null,
            "width": null
          }
        },
        "709530551ec148678eeeae4a504c162d": {
          "model_module": "@jupyter-widgets/base",
          "model_name": "LayoutModel",
          "model_module_version": "1.2.0",
          "state": {
            "_model_module": "@jupyter-widgets/base",
            "_model_module_version": "1.2.0",
            "_model_name": "LayoutModel",
            "_view_count": null,
            "_view_module": "@jupyter-widgets/base",
            "_view_module_version": "1.2.0",
            "_view_name": "LayoutView",
            "align_content": null,
            "align_items": null,
            "align_self": null,
            "border": null,
            "bottom": null,
            "display": null,
            "flex": null,
            "flex_flow": null,
            "grid_area": null,
            "grid_auto_columns": null,
            "grid_auto_flow": null,
            "grid_auto_rows": null,
            "grid_column": null,
            "grid_gap": null,
            "grid_row": null,
            "grid_template_areas": null,
            "grid_template_columns": null,
            "grid_template_rows": null,
            "height": null,
            "justify_content": null,
            "justify_items": null,
            "left": null,
            "margin": null,
            "max_height": null,
            "max_width": null,
            "min_height": null,
            "min_width": null,
            "object_fit": null,
            "object_position": null,
            "order": null,
            "overflow": null,
            "overflow_x": null,
            "overflow_y": null,
            "padding": null,
            "right": null,
            "top": null,
            "visibility": null,
            "width": null
          }
        },
        "347d01b23e774792a6b5bc90a48df6dc": {
          "model_module": "@jupyter-widgets/controls",
          "model_name": "DescriptionStyleModel",
          "model_module_version": "1.5.0",
          "state": {
            "_model_module": "@jupyter-widgets/controls",
            "_model_module_version": "1.5.0",
            "_model_name": "DescriptionStyleModel",
            "_view_count": null,
            "_view_module": "@jupyter-widgets/base",
            "_view_module_version": "1.2.0",
            "_view_name": "StyleView",
            "description_width": ""
          }
        },
        "ac48891a5fa54bc29a333924f2cef747": {
          "model_module": "@jupyter-widgets/base",
          "model_name": "LayoutModel",
          "model_module_version": "1.2.0",
          "state": {
            "_model_module": "@jupyter-widgets/base",
            "_model_module_version": "1.2.0",
            "_model_name": "LayoutModel",
            "_view_count": null,
            "_view_module": "@jupyter-widgets/base",
            "_view_module_version": "1.2.0",
            "_view_name": "LayoutView",
            "align_content": null,
            "align_items": null,
            "align_self": null,
            "border": null,
            "bottom": null,
            "display": null,
            "flex": null,
            "flex_flow": null,
            "grid_area": null,
            "grid_auto_columns": null,
            "grid_auto_flow": null,
            "grid_auto_rows": null,
            "grid_column": null,
            "grid_gap": null,
            "grid_row": null,
            "grid_template_areas": null,
            "grid_template_columns": null,
            "grid_template_rows": null,
            "height": null,
            "justify_content": null,
            "justify_items": null,
            "left": null,
            "margin": null,
            "max_height": null,
            "max_width": null,
            "min_height": null,
            "min_width": null,
            "object_fit": null,
            "object_position": null,
            "order": null,
            "overflow": null,
            "overflow_x": null,
            "overflow_y": null,
            "padding": null,
            "right": null,
            "top": null,
            "visibility": null,
            "width": null
          }
        },
        "daefd7a07ea942f9a7b9e1327a87121b": {
          "model_module": "@jupyter-widgets/controls",
          "model_name": "ProgressStyleModel",
          "model_module_version": "1.5.0",
          "state": {
            "_model_module": "@jupyter-widgets/controls",
            "_model_module_version": "1.5.0",
            "_model_name": "ProgressStyleModel",
            "_view_count": null,
            "_view_module": "@jupyter-widgets/base",
            "_view_module_version": "1.2.0",
            "_view_name": "StyleView",
            "bar_color": null,
            "description_width": ""
          }
        },
        "3680836c0ddb4821a793cd0c8ed244d8": {
          "model_module": "@jupyter-widgets/base",
          "model_name": "LayoutModel",
          "model_module_version": "1.2.0",
          "state": {
            "_model_module": "@jupyter-widgets/base",
            "_model_module_version": "1.2.0",
            "_model_name": "LayoutModel",
            "_view_count": null,
            "_view_module": "@jupyter-widgets/base",
            "_view_module_version": "1.2.0",
            "_view_name": "LayoutView",
            "align_content": null,
            "align_items": null,
            "align_self": null,
            "border": null,
            "bottom": null,
            "display": null,
            "flex": null,
            "flex_flow": null,
            "grid_area": null,
            "grid_auto_columns": null,
            "grid_auto_flow": null,
            "grid_auto_rows": null,
            "grid_column": null,
            "grid_gap": null,
            "grid_row": null,
            "grid_template_areas": null,
            "grid_template_columns": null,
            "grid_template_rows": null,
            "height": null,
            "justify_content": null,
            "justify_items": null,
            "left": null,
            "margin": null,
            "max_height": null,
            "max_width": null,
            "min_height": null,
            "min_width": null,
            "object_fit": null,
            "object_position": null,
            "order": null,
            "overflow": null,
            "overflow_x": null,
            "overflow_y": null,
            "padding": null,
            "right": null,
            "top": null,
            "visibility": null,
            "width": null
          }
        },
        "92c92c6599cb491cae2915c0c848ea7b": {
          "model_module": "@jupyter-widgets/controls",
          "model_name": "DescriptionStyleModel",
          "model_module_version": "1.5.0",
          "state": {
            "_model_module": "@jupyter-widgets/controls",
            "_model_module_version": "1.5.0",
            "_model_name": "DescriptionStyleModel",
            "_view_count": null,
            "_view_module": "@jupyter-widgets/base",
            "_view_module_version": "1.2.0",
            "_view_name": "StyleView",
            "description_width": ""
          }
        },
        "60d443cc4050446fa6188e61829ef17c": {
          "model_module": "@jupyter-widgets/controls",
          "model_name": "HBoxModel",
          "model_module_version": "1.5.0",
          "state": {
            "_dom_classes": [],
            "_model_module": "@jupyter-widgets/controls",
            "_model_module_version": "1.5.0",
            "_model_name": "HBoxModel",
            "_view_count": null,
            "_view_module": "@jupyter-widgets/controls",
            "_view_module_version": "1.5.0",
            "_view_name": "HBoxView",
            "box_style": "",
            "children": [
              "IPY_MODEL_3d61ea5b4ba14c02b7ac2ac2830285ff",
              "IPY_MODEL_416deb27afcc47d8bc319774760c7e11",
              "IPY_MODEL_d04e5718c7ea41b2b190784606caad16"
            ],
            "layout": "IPY_MODEL_56b89343be564e9f838cc8e1b5982058"
          }
        },
        "3d61ea5b4ba14c02b7ac2ac2830285ff": {
          "model_module": "@jupyter-widgets/controls",
          "model_name": "HTMLModel",
          "model_module_version": "1.5.0",
          "state": {
            "_dom_classes": [],
            "_model_module": "@jupyter-widgets/controls",
            "_model_module_version": "1.5.0",
            "_model_name": "HTMLModel",
            "_view_count": null,
            "_view_module": "@jupyter-widgets/controls",
            "_view_module_version": "1.5.0",
            "_view_name": "HTMLView",
            "description": "",
            "description_tooltip": null,
            "layout": "IPY_MODEL_cb1d02b38c1f4c568bbdc2d6c12bf584",
            "placeholder": "​",
            "style": "IPY_MODEL_dc0aa2c30d644d1ab8e1a2fcb55864b7",
            "value": "100%"
          }
        },
        "416deb27afcc47d8bc319774760c7e11": {
          "model_module": "@jupyter-widgets/controls",
          "model_name": "FloatProgressModel",
          "model_module_version": "1.5.0",
          "state": {
            "_dom_classes": [],
            "_model_module": "@jupyter-widgets/controls",
            "_model_module_version": "1.5.0",
            "_model_name": "FloatProgressModel",
            "_view_count": null,
            "_view_module": "@jupyter-widgets/controls",
            "_view_module_version": "1.5.0",
            "_view_name": "ProgressView",
            "bar_style": "success",
            "description": "",
            "description_tooltip": null,
            "layout": "IPY_MODEL_5bcb574d83d748fe974ada2c4c7e142f",
            "max": 1,
            "min": 0,
            "orientation": "horizontal",
            "style": "IPY_MODEL_be829d9880864522a429153ae2998109",
            "value": 1
          }
        },
        "d04e5718c7ea41b2b190784606caad16": {
          "model_module": "@jupyter-widgets/controls",
          "model_name": "HTMLModel",
          "model_module_version": "1.5.0",
          "state": {
            "_dom_classes": [],
            "_model_module": "@jupyter-widgets/controls",
            "_model_module_version": "1.5.0",
            "_model_name": "HTMLModel",
            "_view_count": null,
            "_view_module": "@jupyter-widgets/controls",
            "_view_module_version": "1.5.0",
            "_view_name": "HTMLView",
            "description": "",
            "description_tooltip": null,
            "layout": "IPY_MODEL_6e67d3f6d038429fbf3c4a3e8d6c31db",
            "placeholder": "​",
            "style": "IPY_MODEL_7ce1f2c52a224d239015d280036bfda3",
            "value": " 1/1 [10:50&lt;00:00, 138.48s/it]"
          }
        },
        "56b89343be564e9f838cc8e1b5982058": {
          "model_module": "@jupyter-widgets/base",
          "model_name": "LayoutModel",
          "model_module_version": "1.2.0",
          "state": {
            "_model_module": "@jupyter-widgets/base",
            "_model_module_version": "1.2.0",
            "_model_name": "LayoutModel",
            "_view_count": null,
            "_view_module": "@jupyter-widgets/base",
            "_view_module_version": "1.2.0",
            "_view_name": "LayoutView",
            "align_content": null,
            "align_items": null,
            "align_self": null,
            "border": null,
            "bottom": null,
            "display": null,
            "flex": null,
            "flex_flow": null,
            "grid_area": null,
            "grid_auto_columns": null,
            "grid_auto_flow": null,
            "grid_auto_rows": null,
            "grid_column": null,
            "grid_gap": null,
            "grid_row": null,
            "grid_template_areas": null,
            "grid_template_columns": null,
            "grid_template_rows": null,
            "height": null,
            "justify_content": null,
            "justify_items": null,
            "left": null,
            "margin": null,
            "max_height": null,
            "max_width": null,
            "min_height": null,
            "min_width": null,
            "object_fit": null,
            "object_position": null,
            "order": null,
            "overflow": null,
            "overflow_x": null,
            "overflow_y": null,
            "padding": null,
            "right": null,
            "top": null,
            "visibility": null,
            "width": null
          }
        },
        "cb1d02b38c1f4c568bbdc2d6c12bf584": {
          "model_module": "@jupyter-widgets/base",
          "model_name": "LayoutModel",
          "model_module_version": "1.2.0",
          "state": {
            "_model_module": "@jupyter-widgets/base",
            "_model_module_version": "1.2.0",
            "_model_name": "LayoutModel",
            "_view_count": null,
            "_view_module": "@jupyter-widgets/base",
            "_view_module_version": "1.2.0",
            "_view_name": "LayoutView",
            "align_content": null,
            "align_items": null,
            "align_self": null,
            "border": null,
            "bottom": null,
            "display": null,
            "flex": null,
            "flex_flow": null,
            "grid_area": null,
            "grid_auto_columns": null,
            "grid_auto_flow": null,
            "grid_auto_rows": null,
            "grid_column": null,
            "grid_gap": null,
            "grid_row": null,
            "grid_template_areas": null,
            "grid_template_columns": null,
            "grid_template_rows": null,
            "height": null,
            "justify_content": null,
            "justify_items": null,
            "left": null,
            "margin": null,
            "max_height": null,
            "max_width": null,
            "min_height": null,
            "min_width": null,
            "object_fit": null,
            "object_position": null,
            "order": null,
            "overflow": null,
            "overflow_x": null,
            "overflow_y": null,
            "padding": null,
            "right": null,
            "top": null,
            "visibility": null,
            "width": null
          }
        },
        "dc0aa2c30d644d1ab8e1a2fcb55864b7": {
          "model_module": "@jupyter-widgets/controls",
          "model_name": "DescriptionStyleModel",
          "model_module_version": "1.5.0",
          "state": {
            "_model_module": "@jupyter-widgets/controls",
            "_model_module_version": "1.5.0",
            "_model_name": "DescriptionStyleModel",
            "_view_count": null,
            "_view_module": "@jupyter-widgets/base",
            "_view_module_version": "1.2.0",
            "_view_name": "StyleView",
            "description_width": ""
          }
        },
        "5bcb574d83d748fe974ada2c4c7e142f": {
          "model_module": "@jupyter-widgets/base",
          "model_name": "LayoutModel",
          "model_module_version": "1.2.0",
          "state": {
            "_model_module": "@jupyter-widgets/base",
            "_model_module_version": "1.2.0",
            "_model_name": "LayoutModel",
            "_view_count": null,
            "_view_module": "@jupyter-widgets/base",
            "_view_module_version": "1.2.0",
            "_view_name": "LayoutView",
            "align_content": null,
            "align_items": null,
            "align_self": null,
            "border": null,
            "bottom": null,
            "display": null,
            "flex": null,
            "flex_flow": null,
            "grid_area": null,
            "grid_auto_columns": null,
            "grid_auto_flow": null,
            "grid_auto_rows": null,
            "grid_column": null,
            "grid_gap": null,
            "grid_row": null,
            "grid_template_areas": null,
            "grid_template_columns": null,
            "grid_template_rows": null,
            "height": null,
            "justify_content": null,
            "justify_items": null,
            "left": null,
            "margin": null,
            "max_height": null,
            "max_width": null,
            "min_height": null,
            "min_width": null,
            "object_fit": null,
            "object_position": null,
            "order": null,
            "overflow": null,
            "overflow_x": null,
            "overflow_y": null,
            "padding": null,
            "right": null,
            "top": null,
            "visibility": null,
            "width": null
          }
        },
        "be829d9880864522a429153ae2998109": {
          "model_module": "@jupyter-widgets/controls",
          "model_name": "ProgressStyleModel",
          "model_module_version": "1.5.0",
          "state": {
            "_model_module": "@jupyter-widgets/controls",
            "_model_module_version": "1.5.0",
            "_model_name": "ProgressStyleModel",
            "_view_count": null,
            "_view_module": "@jupyter-widgets/base",
            "_view_module_version": "1.2.0",
            "_view_name": "StyleView",
            "bar_color": null,
            "description_width": ""
          }
        },
        "6e67d3f6d038429fbf3c4a3e8d6c31db": {
          "model_module": "@jupyter-widgets/base",
          "model_name": "LayoutModel",
          "model_module_version": "1.2.0",
          "state": {
            "_model_module": "@jupyter-widgets/base",
            "_model_module_version": "1.2.0",
            "_model_name": "LayoutModel",
            "_view_count": null,
            "_view_module": "@jupyter-widgets/base",
            "_view_module_version": "1.2.0",
            "_view_name": "LayoutView",
            "align_content": null,
            "align_items": null,
            "align_self": null,
            "border": null,
            "bottom": null,
            "display": null,
            "flex": null,
            "flex_flow": null,
            "grid_area": null,
            "grid_auto_columns": null,
            "grid_auto_flow": null,
            "grid_auto_rows": null,
            "grid_column": null,
            "grid_gap": null,
            "grid_row": null,
            "grid_template_areas": null,
            "grid_template_columns": null,
            "grid_template_rows": null,
            "height": null,
            "justify_content": null,
            "justify_items": null,
            "left": null,
            "margin": null,
            "max_height": null,
            "max_width": null,
            "min_height": null,
            "min_width": null,
            "object_fit": null,
            "object_position": null,
            "order": null,
            "overflow": null,
            "overflow_x": null,
            "overflow_y": null,
            "padding": null,
            "right": null,
            "top": null,
            "visibility": null,
            "width": null
          }
        },
        "7ce1f2c52a224d239015d280036bfda3": {
          "model_module": "@jupyter-widgets/controls",
          "model_name": "DescriptionStyleModel",
          "model_module_version": "1.5.0",
          "state": {
            "_model_module": "@jupyter-widgets/controls",
            "_model_module_version": "1.5.0",
            "_model_name": "DescriptionStyleModel",
            "_view_count": null,
            "_view_module": "@jupyter-widgets/base",
            "_view_module_version": "1.2.0",
            "_view_name": "StyleView",
            "description_width": ""
          }
        },
        "75569f4a737f49f394809ede8b1e8834": {
          "model_module": "@jupyter-widgets/controls",
          "model_name": "HBoxModel",
          "model_module_version": "1.5.0",
          "state": {
            "_dom_classes": [],
            "_model_module": "@jupyter-widgets/controls",
            "_model_module_version": "1.5.0",
            "_model_name": "HBoxModel",
            "_view_count": null,
            "_view_module": "@jupyter-widgets/controls",
            "_view_module_version": "1.5.0",
            "_view_name": "HBoxView",
            "box_style": "",
            "children": [
              "IPY_MODEL_65cba5762a924c6bb737ee591e79ede1",
              "IPY_MODEL_254d639d80fd48aca649df9bbb02663a",
              "IPY_MODEL_4f01526b284c45198a2f8a4c203dc945"
            ],
            "layout": "IPY_MODEL_470244a743c24d69867abe2f60c76cd3"
          }
        },
        "65cba5762a924c6bb737ee591e79ede1": {
          "model_module": "@jupyter-widgets/controls",
          "model_name": "HTMLModel",
          "model_module_version": "1.5.0",
          "state": {
            "_dom_classes": [],
            "_model_module": "@jupyter-widgets/controls",
            "_model_module_version": "1.5.0",
            "_model_name": "HTMLModel",
            "_view_count": null,
            "_view_module": "@jupyter-widgets/controls",
            "_view_module_version": "1.5.0",
            "_view_name": "HTMLView",
            "description": "",
            "description_tooltip": null,
            "layout": "IPY_MODEL_e98f7137ba4b4e7e8e39c1d048f7a7a8",
            "placeholder": "​",
            "style": "IPY_MODEL_7aa6d3db50be4f6ca8cc856365cb6763",
            "value": "100%"
          }
        },
        "254d639d80fd48aca649df9bbb02663a": {
          "model_module": "@jupyter-widgets/controls",
          "model_name": "FloatProgressModel",
          "model_module_version": "1.5.0",
          "state": {
            "_dom_classes": [],
            "_model_module": "@jupyter-widgets/controls",
            "_model_module_version": "1.5.0",
            "_model_name": "FloatProgressModel",
            "_view_count": null,
            "_view_module": "@jupyter-widgets/controls",
            "_view_module_version": "1.5.0",
            "_view_name": "ProgressView",
            "bar_style": "success",
            "description": "",
            "description_tooltip": null,
            "layout": "IPY_MODEL_1de06c97a1894589a0fe5442cb3378be",
            "max": 1,
            "min": 0,
            "orientation": "horizontal",
            "style": "IPY_MODEL_e912698507d24800826cd4138d42a614",
            "value": 1
          }
        },
        "4f01526b284c45198a2f8a4c203dc945": {
          "model_module": "@jupyter-widgets/controls",
          "model_name": "HTMLModel",
          "model_module_version": "1.5.0",
          "state": {
            "_dom_classes": [],
            "_model_module": "@jupyter-widgets/controls",
            "_model_module_version": "1.5.0",
            "_model_name": "HTMLModel",
            "_view_count": null,
            "_view_module": "@jupyter-widgets/controls",
            "_view_module_version": "1.5.0",
            "_view_name": "HTMLView",
            "description": "",
            "description_tooltip": null,
            "layout": "IPY_MODEL_f0c17afc22db4ca9977a19f6c60de298",
            "placeholder": "​",
            "style": "IPY_MODEL_d2159fa34c2340af9564cbb29dbae7d7",
            "value": " 1/1 [42:22&lt;00:00, 170.30s/it]"
          }
        },
        "470244a743c24d69867abe2f60c76cd3": {
          "model_module": "@jupyter-widgets/base",
          "model_name": "LayoutModel",
          "model_module_version": "1.2.0",
          "state": {
            "_model_module": "@jupyter-widgets/base",
            "_model_module_version": "1.2.0",
            "_model_name": "LayoutModel",
            "_view_count": null,
            "_view_module": "@jupyter-widgets/base",
            "_view_module_version": "1.2.0",
            "_view_name": "LayoutView",
            "align_content": null,
            "align_items": null,
            "align_self": null,
            "border": null,
            "bottom": null,
            "display": null,
            "flex": null,
            "flex_flow": null,
            "grid_area": null,
            "grid_auto_columns": null,
            "grid_auto_flow": null,
            "grid_auto_rows": null,
            "grid_column": null,
            "grid_gap": null,
            "grid_row": null,
            "grid_template_areas": null,
            "grid_template_columns": null,
            "grid_template_rows": null,
            "height": null,
            "justify_content": null,
            "justify_items": null,
            "left": null,
            "margin": null,
            "max_height": null,
            "max_width": null,
            "min_height": null,
            "min_width": null,
            "object_fit": null,
            "object_position": null,
            "order": null,
            "overflow": null,
            "overflow_x": null,
            "overflow_y": null,
            "padding": null,
            "right": null,
            "top": null,
            "visibility": null,
            "width": null
          }
        },
        "e98f7137ba4b4e7e8e39c1d048f7a7a8": {
          "model_module": "@jupyter-widgets/base",
          "model_name": "LayoutModel",
          "model_module_version": "1.2.0",
          "state": {
            "_model_module": "@jupyter-widgets/base",
            "_model_module_version": "1.2.0",
            "_model_name": "LayoutModel",
            "_view_count": null,
            "_view_module": "@jupyter-widgets/base",
            "_view_module_version": "1.2.0",
            "_view_name": "LayoutView",
            "align_content": null,
            "align_items": null,
            "align_self": null,
            "border": null,
            "bottom": null,
            "display": null,
            "flex": null,
            "flex_flow": null,
            "grid_area": null,
            "grid_auto_columns": null,
            "grid_auto_flow": null,
            "grid_auto_rows": null,
            "grid_column": null,
            "grid_gap": null,
            "grid_row": null,
            "grid_template_areas": null,
            "grid_template_columns": null,
            "grid_template_rows": null,
            "height": null,
            "justify_content": null,
            "justify_items": null,
            "left": null,
            "margin": null,
            "max_height": null,
            "max_width": null,
            "min_height": null,
            "min_width": null,
            "object_fit": null,
            "object_position": null,
            "order": null,
            "overflow": null,
            "overflow_x": null,
            "overflow_y": null,
            "padding": null,
            "right": null,
            "top": null,
            "visibility": null,
            "width": null
          }
        },
        "7aa6d3db50be4f6ca8cc856365cb6763": {
          "model_module": "@jupyter-widgets/controls",
          "model_name": "DescriptionStyleModel",
          "model_module_version": "1.5.0",
          "state": {
            "_model_module": "@jupyter-widgets/controls",
            "_model_module_version": "1.5.0",
            "_model_name": "DescriptionStyleModel",
            "_view_count": null,
            "_view_module": "@jupyter-widgets/base",
            "_view_module_version": "1.2.0",
            "_view_name": "StyleView",
            "description_width": ""
          }
        },
        "1de06c97a1894589a0fe5442cb3378be": {
          "model_module": "@jupyter-widgets/base",
          "model_name": "LayoutModel",
          "model_module_version": "1.2.0",
          "state": {
            "_model_module": "@jupyter-widgets/base",
            "_model_module_version": "1.2.0",
            "_model_name": "LayoutModel",
            "_view_count": null,
            "_view_module": "@jupyter-widgets/base",
            "_view_module_version": "1.2.0",
            "_view_name": "LayoutView",
            "align_content": null,
            "align_items": null,
            "align_self": null,
            "border": null,
            "bottom": null,
            "display": null,
            "flex": null,
            "flex_flow": null,
            "grid_area": null,
            "grid_auto_columns": null,
            "grid_auto_flow": null,
            "grid_auto_rows": null,
            "grid_column": null,
            "grid_gap": null,
            "grid_row": null,
            "grid_template_areas": null,
            "grid_template_columns": null,
            "grid_template_rows": null,
            "height": null,
            "justify_content": null,
            "justify_items": null,
            "left": null,
            "margin": null,
            "max_height": null,
            "max_width": null,
            "min_height": null,
            "min_width": null,
            "object_fit": null,
            "object_position": null,
            "order": null,
            "overflow": null,
            "overflow_x": null,
            "overflow_y": null,
            "padding": null,
            "right": null,
            "top": null,
            "visibility": null,
            "width": null
          }
        },
        "e912698507d24800826cd4138d42a614": {
          "model_module": "@jupyter-widgets/controls",
          "model_name": "ProgressStyleModel",
          "model_module_version": "1.5.0",
          "state": {
            "_model_module": "@jupyter-widgets/controls",
            "_model_module_version": "1.5.0",
            "_model_name": "ProgressStyleModel",
            "_view_count": null,
            "_view_module": "@jupyter-widgets/base",
            "_view_module_version": "1.2.0",
            "_view_name": "StyleView",
            "bar_color": null,
            "description_width": ""
          }
        },
        "f0c17afc22db4ca9977a19f6c60de298": {
          "model_module": "@jupyter-widgets/base",
          "model_name": "LayoutModel",
          "model_module_version": "1.2.0",
          "state": {
            "_model_module": "@jupyter-widgets/base",
            "_model_module_version": "1.2.0",
            "_model_name": "LayoutModel",
            "_view_count": null,
            "_view_module": "@jupyter-widgets/base",
            "_view_module_version": "1.2.0",
            "_view_name": "LayoutView",
            "align_content": null,
            "align_items": null,
            "align_self": null,
            "border": null,
            "bottom": null,
            "display": null,
            "flex": null,
            "flex_flow": null,
            "grid_area": null,
            "grid_auto_columns": null,
            "grid_auto_flow": null,
            "grid_auto_rows": null,
            "grid_column": null,
            "grid_gap": null,
            "grid_row": null,
            "grid_template_areas": null,
            "grid_template_columns": null,
            "grid_template_rows": null,
            "height": null,
            "justify_content": null,
            "justify_items": null,
            "left": null,
            "margin": null,
            "max_height": null,
            "max_width": null,
            "min_height": null,
            "min_width": null,
            "object_fit": null,
            "object_position": null,
            "order": null,
            "overflow": null,
            "overflow_x": null,
            "overflow_y": null,
            "padding": null,
            "right": null,
            "top": null,
            "visibility": null,
            "width": null
          }
        },
        "d2159fa34c2340af9564cbb29dbae7d7": {
          "model_module": "@jupyter-widgets/controls",
          "model_name": "DescriptionStyleModel",
          "model_module_version": "1.5.0",
          "state": {
            "_model_module": "@jupyter-widgets/controls",
            "_model_module_version": "1.5.0",
            "_model_name": "DescriptionStyleModel",
            "_view_count": null,
            "_view_module": "@jupyter-widgets/base",
            "_view_module_version": "1.2.0",
            "_view_name": "StyleView",
            "description_width": ""
          }
        },
        "03d353d3a4f1444692e406a280b1d2ad": {
          "model_module": "@jupyter-widgets/controls",
          "model_name": "HBoxModel",
          "model_module_version": "1.5.0",
          "state": {
            "_dom_classes": [],
            "_model_module": "@jupyter-widgets/controls",
            "_model_module_version": "1.5.0",
            "_model_name": "HBoxModel",
            "_view_count": null,
            "_view_module": "@jupyter-widgets/controls",
            "_view_module_version": "1.5.0",
            "_view_name": "HBoxView",
            "box_style": "",
            "children": [
              "IPY_MODEL_334c4963628a4429b3e42e5c84535a3e",
              "IPY_MODEL_9ef2b307f8964dae90aaf2b6f02ec541",
              "IPY_MODEL_d2ea4fe9411c4ec7be5d9eff6447d6fc"
            ],
            "layout": "IPY_MODEL_0e4df2ec298d479eb9ae8a10c020c698"
          }
        },
        "334c4963628a4429b3e42e5c84535a3e": {
          "model_module": "@jupyter-widgets/controls",
          "model_name": "HTMLModel",
          "model_module_version": "1.5.0",
          "state": {
            "_dom_classes": [],
            "_model_module": "@jupyter-widgets/controls",
            "_model_module_version": "1.5.0",
            "_model_name": "HTMLModel",
            "_view_count": null,
            "_view_module": "@jupyter-widgets/controls",
            "_view_module_version": "1.5.0",
            "_view_name": "HTMLView",
            "description": "",
            "description_tooltip": null,
            "layout": "IPY_MODEL_395d0974eacf4c4581eb3a6449fd9b48",
            "placeholder": "​",
            "style": "IPY_MODEL_297da58231274957bea22d28c93cc1c8",
            "value": "100%"
          }
        },
        "9ef2b307f8964dae90aaf2b6f02ec541": {
          "model_module": "@jupyter-widgets/controls",
          "model_name": "FloatProgressModel",
          "model_module_version": "1.5.0",
          "state": {
            "_dom_classes": [],
            "_model_module": "@jupyter-widgets/controls",
            "_model_module_version": "1.5.0",
            "_model_name": "FloatProgressModel",
            "_view_count": null,
            "_view_module": "@jupyter-widgets/controls",
            "_view_module_version": "1.5.0",
            "_view_name": "ProgressView",
            "bar_style": "success",
            "description": "",
            "description_tooltip": null,
            "layout": "IPY_MODEL_665b10ddeab845a4b9dd42730e012a23",
            "max": 1,
            "min": 0,
            "orientation": "horizontal",
            "style": "IPY_MODEL_fba4f8d0c6fd4ee6b7b1e91e41e8514d",
            "value": 1
          }
        },
        "d2ea4fe9411c4ec7be5d9eff6447d6fc": {
          "model_module": "@jupyter-widgets/controls",
          "model_name": "HTMLModel",
          "model_module_version": "1.5.0",
          "state": {
            "_dom_classes": [],
            "_model_module": "@jupyter-widgets/controls",
            "_model_module_version": "1.5.0",
            "_model_name": "HTMLModel",
            "_view_count": null,
            "_view_module": "@jupyter-widgets/controls",
            "_view_module_version": "1.5.0",
            "_view_name": "HTMLView",
            "description": "",
            "description_tooltip": null,
            "layout": "IPY_MODEL_60d3eac4df074e5cac13a481f0c2a210",
            "placeholder": "​",
            "style": "IPY_MODEL_f46dfb1a6fb04c3795740106dfaecb1a",
            "value": " 1/1 [04:25&lt;00:00,  7.36s/it]"
          }
        },
        "0e4df2ec298d479eb9ae8a10c020c698": {
          "model_module": "@jupyter-widgets/base",
          "model_name": "LayoutModel",
          "model_module_version": "1.2.0",
          "state": {
            "_model_module": "@jupyter-widgets/base",
            "_model_module_version": "1.2.0",
            "_model_name": "LayoutModel",
            "_view_count": null,
            "_view_module": "@jupyter-widgets/base",
            "_view_module_version": "1.2.0",
            "_view_name": "LayoutView",
            "align_content": null,
            "align_items": null,
            "align_self": null,
            "border": null,
            "bottom": null,
            "display": null,
            "flex": null,
            "flex_flow": null,
            "grid_area": null,
            "grid_auto_columns": null,
            "grid_auto_flow": null,
            "grid_auto_rows": null,
            "grid_column": null,
            "grid_gap": null,
            "grid_row": null,
            "grid_template_areas": null,
            "grid_template_columns": null,
            "grid_template_rows": null,
            "height": null,
            "justify_content": null,
            "justify_items": null,
            "left": null,
            "margin": null,
            "max_height": null,
            "max_width": null,
            "min_height": null,
            "min_width": null,
            "object_fit": null,
            "object_position": null,
            "order": null,
            "overflow": null,
            "overflow_x": null,
            "overflow_y": null,
            "padding": null,
            "right": null,
            "top": null,
            "visibility": null,
            "width": null
          }
        },
        "395d0974eacf4c4581eb3a6449fd9b48": {
          "model_module": "@jupyter-widgets/base",
          "model_name": "LayoutModel",
          "model_module_version": "1.2.0",
          "state": {
            "_model_module": "@jupyter-widgets/base",
            "_model_module_version": "1.2.0",
            "_model_name": "LayoutModel",
            "_view_count": null,
            "_view_module": "@jupyter-widgets/base",
            "_view_module_version": "1.2.0",
            "_view_name": "LayoutView",
            "align_content": null,
            "align_items": null,
            "align_self": null,
            "border": null,
            "bottom": null,
            "display": null,
            "flex": null,
            "flex_flow": null,
            "grid_area": null,
            "grid_auto_columns": null,
            "grid_auto_flow": null,
            "grid_auto_rows": null,
            "grid_column": null,
            "grid_gap": null,
            "grid_row": null,
            "grid_template_areas": null,
            "grid_template_columns": null,
            "grid_template_rows": null,
            "height": null,
            "justify_content": null,
            "justify_items": null,
            "left": null,
            "margin": null,
            "max_height": null,
            "max_width": null,
            "min_height": null,
            "min_width": null,
            "object_fit": null,
            "object_position": null,
            "order": null,
            "overflow": null,
            "overflow_x": null,
            "overflow_y": null,
            "padding": null,
            "right": null,
            "top": null,
            "visibility": null,
            "width": null
          }
        },
        "297da58231274957bea22d28c93cc1c8": {
          "model_module": "@jupyter-widgets/controls",
          "model_name": "DescriptionStyleModel",
          "model_module_version": "1.5.0",
          "state": {
            "_model_module": "@jupyter-widgets/controls",
            "_model_module_version": "1.5.0",
            "_model_name": "DescriptionStyleModel",
            "_view_count": null,
            "_view_module": "@jupyter-widgets/base",
            "_view_module_version": "1.2.0",
            "_view_name": "StyleView",
            "description_width": ""
          }
        },
        "665b10ddeab845a4b9dd42730e012a23": {
          "model_module": "@jupyter-widgets/base",
          "model_name": "LayoutModel",
          "model_module_version": "1.2.0",
          "state": {
            "_model_module": "@jupyter-widgets/base",
            "_model_module_version": "1.2.0",
            "_model_name": "LayoutModel",
            "_view_count": null,
            "_view_module": "@jupyter-widgets/base",
            "_view_module_version": "1.2.0",
            "_view_name": "LayoutView",
            "align_content": null,
            "align_items": null,
            "align_self": null,
            "border": null,
            "bottom": null,
            "display": null,
            "flex": null,
            "flex_flow": null,
            "grid_area": null,
            "grid_auto_columns": null,
            "grid_auto_flow": null,
            "grid_auto_rows": null,
            "grid_column": null,
            "grid_gap": null,
            "grid_row": null,
            "grid_template_areas": null,
            "grid_template_columns": null,
            "grid_template_rows": null,
            "height": null,
            "justify_content": null,
            "justify_items": null,
            "left": null,
            "margin": null,
            "max_height": null,
            "max_width": null,
            "min_height": null,
            "min_width": null,
            "object_fit": null,
            "object_position": null,
            "order": null,
            "overflow": null,
            "overflow_x": null,
            "overflow_y": null,
            "padding": null,
            "right": null,
            "top": null,
            "visibility": null,
            "width": null
          }
        },
        "fba4f8d0c6fd4ee6b7b1e91e41e8514d": {
          "model_module": "@jupyter-widgets/controls",
          "model_name": "ProgressStyleModel",
          "model_module_version": "1.5.0",
          "state": {
            "_model_module": "@jupyter-widgets/controls",
            "_model_module_version": "1.5.0",
            "_model_name": "ProgressStyleModel",
            "_view_count": null,
            "_view_module": "@jupyter-widgets/base",
            "_view_module_version": "1.2.0",
            "_view_name": "StyleView",
            "bar_color": null,
            "description_width": ""
          }
        },
        "60d3eac4df074e5cac13a481f0c2a210": {
          "model_module": "@jupyter-widgets/base",
          "model_name": "LayoutModel",
          "model_module_version": "1.2.0",
          "state": {
            "_model_module": "@jupyter-widgets/base",
            "_model_module_version": "1.2.0",
            "_model_name": "LayoutModel",
            "_view_count": null,
            "_view_module": "@jupyter-widgets/base",
            "_view_module_version": "1.2.0",
            "_view_name": "LayoutView",
            "align_content": null,
            "align_items": null,
            "align_self": null,
            "border": null,
            "bottom": null,
            "display": null,
            "flex": null,
            "flex_flow": null,
            "grid_area": null,
            "grid_auto_columns": null,
            "grid_auto_flow": null,
            "grid_auto_rows": null,
            "grid_column": null,
            "grid_gap": null,
            "grid_row": null,
            "grid_template_areas": null,
            "grid_template_columns": null,
            "grid_template_rows": null,
            "height": null,
            "justify_content": null,
            "justify_items": null,
            "left": null,
            "margin": null,
            "max_height": null,
            "max_width": null,
            "min_height": null,
            "min_width": null,
            "object_fit": null,
            "object_position": null,
            "order": null,
            "overflow": null,
            "overflow_x": null,
            "overflow_y": null,
            "padding": null,
            "right": null,
            "top": null,
            "visibility": null,
            "width": null
          }
        },
        "f46dfb1a6fb04c3795740106dfaecb1a": {
          "model_module": "@jupyter-widgets/controls",
          "model_name": "DescriptionStyleModel",
          "model_module_version": "1.5.0",
          "state": {
            "_model_module": "@jupyter-widgets/controls",
            "_model_module_version": "1.5.0",
            "_model_name": "DescriptionStyleModel",
            "_view_count": null,
            "_view_module": "@jupyter-widgets/base",
            "_view_module_version": "1.2.0",
            "_view_name": "StyleView",
            "description_width": ""
          }
        },
        "3b455e1b124a41d7818f45837ade2bbb": {
          "model_module": "@jupyter-widgets/controls",
          "model_name": "HBoxModel",
          "model_module_version": "1.5.0",
          "state": {
            "_dom_classes": [],
            "_model_module": "@jupyter-widgets/controls",
            "_model_module_version": "1.5.0",
            "_model_name": "HBoxModel",
            "_view_count": null,
            "_view_module": "@jupyter-widgets/controls",
            "_view_module_version": "1.5.0",
            "_view_name": "HBoxView",
            "box_style": "",
            "children": [
              "IPY_MODEL_97187758e7f942548fd8d130fca4dab0",
              "IPY_MODEL_a97b533b6f5048e698170980a17b1043",
              "IPY_MODEL_d84e6dd0ee12434ba875ceee9fb309a5"
            ],
            "layout": "IPY_MODEL_f97c55920ca844c9bd54bbb8332399da"
          }
        },
        "97187758e7f942548fd8d130fca4dab0": {
          "model_module": "@jupyter-widgets/controls",
          "model_name": "HTMLModel",
          "model_module_version": "1.5.0",
          "state": {
            "_dom_classes": [],
            "_model_module": "@jupyter-widgets/controls",
            "_model_module_version": "1.5.0",
            "_model_name": "HTMLModel",
            "_view_count": null,
            "_view_module": "@jupyter-widgets/controls",
            "_view_module_version": "1.5.0",
            "_view_name": "HTMLView",
            "description": "",
            "description_tooltip": null,
            "layout": "IPY_MODEL_1db26f36ac534bceac4b17bffeb66efa",
            "placeholder": "​",
            "style": "IPY_MODEL_5dcfd9e6d83448f7b53591690888ed02",
            "value": "100%"
          }
        },
        "a97b533b6f5048e698170980a17b1043": {
          "model_module": "@jupyter-widgets/controls",
          "model_name": "FloatProgressModel",
          "model_module_version": "1.5.0",
          "state": {
            "_dom_classes": [],
            "_model_module": "@jupyter-widgets/controls",
            "_model_module_version": "1.5.0",
            "_model_name": "FloatProgressModel",
            "_view_count": null,
            "_view_module": "@jupyter-widgets/controls",
            "_view_module_version": "1.5.0",
            "_view_name": "ProgressView",
            "bar_style": "success",
            "description": "",
            "description_tooltip": null,
            "layout": "IPY_MODEL_c0b0abb89cd447aa9ed748f2d36e6f3c",
            "max": 1,
            "min": 0,
            "orientation": "horizontal",
            "style": "IPY_MODEL_9226ffbffe9a48f689b8d81458b98f89",
            "value": 1
          }
        },
        "d84e6dd0ee12434ba875ceee9fb309a5": {
          "model_module": "@jupyter-widgets/controls",
          "model_name": "HTMLModel",
          "model_module_version": "1.5.0",
          "state": {
            "_dom_classes": [],
            "_model_module": "@jupyter-widgets/controls",
            "_model_module_version": "1.5.0",
            "_model_name": "HTMLModel",
            "_view_count": null,
            "_view_module": "@jupyter-widgets/controls",
            "_view_module_version": "1.5.0",
            "_view_name": "HTMLView",
            "description": "",
            "description_tooltip": null,
            "layout": "IPY_MODEL_a9afb9412f2c4ee6b004e1d994d5ec1f",
            "placeholder": "​",
            "style": "IPY_MODEL_2d9387b5a9ff4c998fa5dae526609014",
            "value": " 1/1 [10:40&lt;00:00, 37.74s/it]"
          }
        },
        "f97c55920ca844c9bd54bbb8332399da": {
          "model_module": "@jupyter-widgets/base",
          "model_name": "LayoutModel",
          "model_module_version": "1.2.0",
          "state": {
            "_model_module": "@jupyter-widgets/base",
            "_model_module_version": "1.2.0",
            "_model_name": "LayoutModel",
            "_view_count": null,
            "_view_module": "@jupyter-widgets/base",
            "_view_module_version": "1.2.0",
            "_view_name": "LayoutView",
            "align_content": null,
            "align_items": null,
            "align_self": null,
            "border": null,
            "bottom": null,
            "display": null,
            "flex": null,
            "flex_flow": null,
            "grid_area": null,
            "grid_auto_columns": null,
            "grid_auto_flow": null,
            "grid_auto_rows": null,
            "grid_column": null,
            "grid_gap": null,
            "grid_row": null,
            "grid_template_areas": null,
            "grid_template_columns": null,
            "grid_template_rows": null,
            "height": null,
            "justify_content": null,
            "justify_items": null,
            "left": null,
            "margin": null,
            "max_height": null,
            "max_width": null,
            "min_height": null,
            "min_width": null,
            "object_fit": null,
            "object_position": null,
            "order": null,
            "overflow": null,
            "overflow_x": null,
            "overflow_y": null,
            "padding": null,
            "right": null,
            "top": null,
            "visibility": null,
            "width": null
          }
        },
        "1db26f36ac534bceac4b17bffeb66efa": {
          "model_module": "@jupyter-widgets/base",
          "model_name": "LayoutModel",
          "model_module_version": "1.2.0",
          "state": {
            "_model_module": "@jupyter-widgets/base",
            "_model_module_version": "1.2.0",
            "_model_name": "LayoutModel",
            "_view_count": null,
            "_view_module": "@jupyter-widgets/base",
            "_view_module_version": "1.2.0",
            "_view_name": "LayoutView",
            "align_content": null,
            "align_items": null,
            "align_self": null,
            "border": null,
            "bottom": null,
            "display": null,
            "flex": null,
            "flex_flow": null,
            "grid_area": null,
            "grid_auto_columns": null,
            "grid_auto_flow": null,
            "grid_auto_rows": null,
            "grid_column": null,
            "grid_gap": null,
            "grid_row": null,
            "grid_template_areas": null,
            "grid_template_columns": null,
            "grid_template_rows": null,
            "height": null,
            "justify_content": null,
            "justify_items": null,
            "left": null,
            "margin": null,
            "max_height": null,
            "max_width": null,
            "min_height": null,
            "min_width": null,
            "object_fit": null,
            "object_position": null,
            "order": null,
            "overflow": null,
            "overflow_x": null,
            "overflow_y": null,
            "padding": null,
            "right": null,
            "top": null,
            "visibility": null,
            "width": null
          }
        },
        "5dcfd9e6d83448f7b53591690888ed02": {
          "model_module": "@jupyter-widgets/controls",
          "model_name": "DescriptionStyleModel",
          "model_module_version": "1.5.0",
          "state": {
            "_model_module": "@jupyter-widgets/controls",
            "_model_module_version": "1.5.0",
            "_model_name": "DescriptionStyleModel",
            "_view_count": null,
            "_view_module": "@jupyter-widgets/base",
            "_view_module_version": "1.2.0",
            "_view_name": "StyleView",
            "description_width": ""
          }
        },
        "c0b0abb89cd447aa9ed748f2d36e6f3c": {
          "model_module": "@jupyter-widgets/base",
          "model_name": "LayoutModel",
          "model_module_version": "1.2.0",
          "state": {
            "_model_module": "@jupyter-widgets/base",
            "_model_module_version": "1.2.0",
            "_model_name": "LayoutModel",
            "_view_count": null,
            "_view_module": "@jupyter-widgets/base",
            "_view_module_version": "1.2.0",
            "_view_name": "LayoutView",
            "align_content": null,
            "align_items": null,
            "align_self": null,
            "border": null,
            "bottom": null,
            "display": null,
            "flex": null,
            "flex_flow": null,
            "grid_area": null,
            "grid_auto_columns": null,
            "grid_auto_flow": null,
            "grid_auto_rows": null,
            "grid_column": null,
            "grid_gap": null,
            "grid_row": null,
            "grid_template_areas": null,
            "grid_template_columns": null,
            "grid_template_rows": null,
            "height": null,
            "justify_content": null,
            "justify_items": null,
            "left": null,
            "margin": null,
            "max_height": null,
            "max_width": null,
            "min_height": null,
            "min_width": null,
            "object_fit": null,
            "object_position": null,
            "order": null,
            "overflow": null,
            "overflow_x": null,
            "overflow_y": null,
            "padding": null,
            "right": null,
            "top": null,
            "visibility": null,
            "width": null
          }
        },
        "9226ffbffe9a48f689b8d81458b98f89": {
          "model_module": "@jupyter-widgets/controls",
          "model_name": "ProgressStyleModel",
          "model_module_version": "1.5.0",
          "state": {
            "_model_module": "@jupyter-widgets/controls",
            "_model_module_version": "1.5.0",
            "_model_name": "ProgressStyleModel",
            "_view_count": null,
            "_view_module": "@jupyter-widgets/base",
            "_view_module_version": "1.2.0",
            "_view_name": "StyleView",
            "bar_color": null,
            "description_width": ""
          }
        },
        "a9afb9412f2c4ee6b004e1d994d5ec1f": {
          "model_module": "@jupyter-widgets/base",
          "model_name": "LayoutModel",
          "model_module_version": "1.2.0",
          "state": {
            "_model_module": "@jupyter-widgets/base",
            "_model_module_version": "1.2.0",
            "_model_name": "LayoutModel",
            "_view_count": null,
            "_view_module": "@jupyter-widgets/base",
            "_view_module_version": "1.2.0",
            "_view_name": "LayoutView",
            "align_content": null,
            "align_items": null,
            "align_self": null,
            "border": null,
            "bottom": null,
            "display": null,
            "flex": null,
            "flex_flow": null,
            "grid_area": null,
            "grid_auto_columns": null,
            "grid_auto_flow": null,
            "grid_auto_rows": null,
            "grid_column": null,
            "grid_gap": null,
            "grid_row": null,
            "grid_template_areas": null,
            "grid_template_columns": null,
            "grid_template_rows": null,
            "height": null,
            "justify_content": null,
            "justify_items": null,
            "left": null,
            "margin": null,
            "max_height": null,
            "max_width": null,
            "min_height": null,
            "min_width": null,
            "object_fit": null,
            "object_position": null,
            "order": null,
            "overflow": null,
            "overflow_x": null,
            "overflow_y": null,
            "padding": null,
            "right": null,
            "top": null,
            "visibility": null,
            "width": null
          }
        },
        "2d9387b5a9ff4c998fa5dae526609014": {
          "model_module": "@jupyter-widgets/controls",
          "model_name": "DescriptionStyleModel",
          "model_module_version": "1.5.0",
          "state": {
            "_model_module": "@jupyter-widgets/controls",
            "_model_module_version": "1.5.0",
            "_model_name": "DescriptionStyleModel",
            "_view_count": null,
            "_view_module": "@jupyter-widgets/base",
            "_view_module_version": "1.2.0",
            "_view_name": "StyleView",
            "description_width": ""
          }
        },
        "5a0339b394ac40a2aabaff7245f551e2": {
          "model_module": "@jupyter-widgets/controls",
          "model_name": "HBoxModel",
          "model_module_version": "1.5.0",
          "state": {
            "_dom_classes": [],
            "_model_module": "@jupyter-widgets/controls",
            "_model_module_version": "1.5.0",
            "_model_name": "HBoxModel",
            "_view_count": null,
            "_view_module": "@jupyter-widgets/controls",
            "_view_module_version": "1.5.0",
            "_view_name": "HBoxView",
            "box_style": "",
            "children": [
              "IPY_MODEL_b19314847b014725b5c2bf2cd5e2a8d0",
              "IPY_MODEL_0aa99efbd45e40a287b0f56c3a008e27",
              "IPY_MODEL_81b0ae09ce574092987c917295b31a30"
            ],
            "layout": "IPY_MODEL_01518b37beb94b66a673ffc8a136ea07"
          }
        },
        "b19314847b014725b5c2bf2cd5e2a8d0": {
          "model_module": "@jupyter-widgets/controls",
          "model_name": "HTMLModel",
          "model_module_version": "1.5.0",
          "state": {
            "_dom_classes": [],
            "_model_module": "@jupyter-widgets/controls",
            "_model_module_version": "1.5.0",
            "_model_name": "HTMLModel",
            "_view_count": null,
            "_view_module": "@jupyter-widgets/controls",
            "_view_module_version": "1.5.0",
            "_view_name": "HTMLView",
            "description": "",
            "description_tooltip": null,
            "layout": "IPY_MODEL_4e3d3032c6ec45909a3ffac5056c8456",
            "placeholder": "​",
            "style": "IPY_MODEL_25e2425f288149ba8061eb0d4c7f85ed",
            "value": "config.json: 100%"
          }
        },
        "0aa99efbd45e40a287b0f56c3a008e27": {
          "model_module": "@jupyter-widgets/controls",
          "model_name": "FloatProgressModel",
          "model_module_version": "1.5.0",
          "state": {
            "_dom_classes": [],
            "_model_module": "@jupyter-widgets/controls",
            "_model_module_version": "1.5.0",
            "_model_name": "FloatProgressModel",
            "_view_count": null,
            "_view_module": "@jupyter-widgets/controls",
            "_view_module_version": "1.5.0",
            "_view_name": "ProgressView",
            "bar_style": "success",
            "description": "",
            "description_tooltip": null,
            "layout": "IPY_MODEL_9d1df44c4c5d49cba233037f1c25b073",
            "max": 789,
            "min": 0,
            "orientation": "horizontal",
            "style": "IPY_MODEL_ba8be197f72040128d0c4e9be964fb8d",
            "value": 789
          }
        },
        "81b0ae09ce574092987c917295b31a30": {
          "model_module": "@jupyter-widgets/controls",
          "model_name": "HTMLModel",
          "model_module_version": "1.5.0",
          "state": {
            "_dom_classes": [],
            "_model_module": "@jupyter-widgets/controls",
            "_model_module_version": "1.5.0",
            "_model_name": "HTMLModel",
            "_view_count": null,
            "_view_module": "@jupyter-widgets/controls",
            "_view_module_version": "1.5.0",
            "_view_name": "HTMLView",
            "description": "",
            "description_tooltip": null,
            "layout": "IPY_MODEL_435c8309ea5f4dc2b99486fcf1fd4ef1",
            "placeholder": "​",
            "style": "IPY_MODEL_40af66fd3fbf41e39a2c121b6b9dd627",
            "value": " 789/789 [00:00&lt;00:00, 10.8kB/s]"
          }
        },
        "01518b37beb94b66a673ffc8a136ea07": {
          "model_module": "@jupyter-widgets/base",
          "model_name": "LayoutModel",
          "model_module_version": "1.2.0",
          "state": {
            "_model_module": "@jupyter-widgets/base",
            "_model_module_version": "1.2.0",
            "_model_name": "LayoutModel",
            "_view_count": null,
            "_view_module": "@jupyter-widgets/base",
            "_view_module_version": "1.2.0",
            "_view_name": "LayoutView",
            "align_content": null,
            "align_items": null,
            "align_self": null,
            "border": null,
            "bottom": null,
            "display": null,
            "flex": null,
            "flex_flow": null,
            "grid_area": null,
            "grid_auto_columns": null,
            "grid_auto_flow": null,
            "grid_auto_rows": null,
            "grid_column": null,
            "grid_gap": null,
            "grid_row": null,
            "grid_template_areas": null,
            "grid_template_columns": null,
            "grid_template_rows": null,
            "height": null,
            "justify_content": null,
            "justify_items": null,
            "left": null,
            "margin": null,
            "max_height": null,
            "max_width": null,
            "min_height": null,
            "min_width": null,
            "object_fit": null,
            "object_position": null,
            "order": null,
            "overflow": null,
            "overflow_x": null,
            "overflow_y": null,
            "padding": null,
            "right": null,
            "top": null,
            "visibility": null,
            "width": null
          }
        },
        "4e3d3032c6ec45909a3ffac5056c8456": {
          "model_module": "@jupyter-widgets/base",
          "model_name": "LayoutModel",
          "model_module_version": "1.2.0",
          "state": {
            "_model_module": "@jupyter-widgets/base",
            "_model_module_version": "1.2.0",
            "_model_name": "LayoutModel",
            "_view_count": null,
            "_view_module": "@jupyter-widgets/base",
            "_view_module_version": "1.2.0",
            "_view_name": "LayoutView",
            "align_content": null,
            "align_items": null,
            "align_self": null,
            "border": null,
            "bottom": null,
            "display": null,
            "flex": null,
            "flex_flow": null,
            "grid_area": null,
            "grid_auto_columns": null,
            "grid_auto_flow": null,
            "grid_auto_rows": null,
            "grid_column": null,
            "grid_gap": null,
            "grid_row": null,
            "grid_template_areas": null,
            "grid_template_columns": null,
            "grid_template_rows": null,
            "height": null,
            "justify_content": null,
            "justify_items": null,
            "left": null,
            "margin": null,
            "max_height": null,
            "max_width": null,
            "min_height": null,
            "min_width": null,
            "object_fit": null,
            "object_position": null,
            "order": null,
            "overflow": null,
            "overflow_x": null,
            "overflow_y": null,
            "padding": null,
            "right": null,
            "top": null,
            "visibility": null,
            "width": null
          }
        },
        "25e2425f288149ba8061eb0d4c7f85ed": {
          "model_module": "@jupyter-widgets/controls",
          "model_name": "DescriptionStyleModel",
          "model_module_version": "1.5.0",
          "state": {
            "_model_module": "@jupyter-widgets/controls",
            "_model_module_version": "1.5.0",
            "_model_name": "DescriptionStyleModel",
            "_view_count": null,
            "_view_module": "@jupyter-widgets/base",
            "_view_module_version": "1.2.0",
            "_view_name": "StyleView",
            "description_width": ""
          }
        },
        "9d1df44c4c5d49cba233037f1c25b073": {
          "model_module": "@jupyter-widgets/base",
          "model_name": "LayoutModel",
          "model_module_version": "1.2.0",
          "state": {
            "_model_module": "@jupyter-widgets/base",
            "_model_module_version": "1.2.0",
            "_model_name": "LayoutModel",
            "_view_count": null,
            "_view_module": "@jupyter-widgets/base",
            "_view_module_version": "1.2.0",
            "_view_name": "LayoutView",
            "align_content": null,
            "align_items": null,
            "align_self": null,
            "border": null,
            "bottom": null,
            "display": null,
            "flex": null,
            "flex_flow": null,
            "grid_area": null,
            "grid_auto_columns": null,
            "grid_auto_flow": null,
            "grid_auto_rows": null,
            "grid_column": null,
            "grid_gap": null,
            "grid_row": null,
            "grid_template_areas": null,
            "grid_template_columns": null,
            "grid_template_rows": null,
            "height": null,
            "justify_content": null,
            "justify_items": null,
            "left": null,
            "margin": null,
            "max_height": null,
            "max_width": null,
            "min_height": null,
            "min_width": null,
            "object_fit": null,
            "object_position": null,
            "order": null,
            "overflow": null,
            "overflow_x": null,
            "overflow_y": null,
            "padding": null,
            "right": null,
            "top": null,
            "visibility": null,
            "width": null
          }
        },
        "ba8be197f72040128d0c4e9be964fb8d": {
          "model_module": "@jupyter-widgets/controls",
          "model_name": "ProgressStyleModel",
          "model_module_version": "1.5.0",
          "state": {
            "_model_module": "@jupyter-widgets/controls",
            "_model_module_version": "1.5.0",
            "_model_name": "ProgressStyleModel",
            "_view_count": null,
            "_view_module": "@jupyter-widgets/base",
            "_view_module_version": "1.2.0",
            "_view_name": "StyleView",
            "bar_color": null,
            "description_width": ""
          }
        },
        "435c8309ea5f4dc2b99486fcf1fd4ef1": {
          "model_module": "@jupyter-widgets/base",
          "model_name": "LayoutModel",
          "model_module_version": "1.2.0",
          "state": {
            "_model_module": "@jupyter-widgets/base",
            "_model_module_version": "1.2.0",
            "_model_name": "LayoutModel",
            "_view_count": null,
            "_view_module": "@jupyter-widgets/base",
            "_view_module_version": "1.2.0",
            "_view_name": "LayoutView",
            "align_content": null,
            "align_items": null,
            "align_self": null,
            "border": null,
            "bottom": null,
            "display": null,
            "flex": null,
            "flex_flow": null,
            "grid_area": null,
            "grid_auto_columns": null,
            "grid_auto_flow": null,
            "grid_auto_rows": null,
            "grid_column": null,
            "grid_gap": null,
            "grid_row": null,
            "grid_template_areas": null,
            "grid_template_columns": null,
            "grid_template_rows": null,
            "height": null,
            "justify_content": null,
            "justify_items": null,
            "left": null,
            "margin": null,
            "max_height": null,
            "max_width": null,
            "min_height": null,
            "min_width": null,
            "object_fit": null,
            "object_position": null,
            "order": null,
            "overflow": null,
            "overflow_x": null,
            "overflow_y": null,
            "padding": null,
            "right": null,
            "top": null,
            "visibility": null,
            "width": null
          }
        },
        "40af66fd3fbf41e39a2c121b6b9dd627": {
          "model_module": "@jupyter-widgets/controls",
          "model_name": "DescriptionStyleModel",
          "model_module_version": "1.5.0",
          "state": {
            "_model_module": "@jupyter-widgets/controls",
            "_model_module_version": "1.5.0",
            "_model_name": "DescriptionStyleModel",
            "_view_count": null,
            "_view_module": "@jupyter-widgets/base",
            "_view_module_version": "1.2.0",
            "_view_name": "StyleView",
            "description_width": ""
          }
        },
        "4b4f0c5fdfea4ee88ebdb148a4b63116": {
          "model_module": "@jupyter-widgets/controls",
          "model_name": "HBoxModel",
          "model_module_version": "1.5.0",
          "state": {
            "_dom_classes": [],
            "_model_module": "@jupyter-widgets/controls",
            "_model_module_version": "1.5.0",
            "_model_name": "HBoxModel",
            "_view_count": null,
            "_view_module": "@jupyter-widgets/controls",
            "_view_module_version": "1.5.0",
            "_view_name": "HBoxView",
            "box_style": "",
            "children": [
              "IPY_MODEL_9875303aab7149418158ffad92e97111",
              "IPY_MODEL_f3729726545f4dedbb18b4e131f66a4c",
              "IPY_MODEL_0cea51ca30524080a47478b46d0f759a"
            ],
            "layout": "IPY_MODEL_812eb16f180948b6b997724410a30e7b"
          }
        },
        "9875303aab7149418158ffad92e97111": {
          "model_module": "@jupyter-widgets/controls",
          "model_name": "HTMLModel",
          "model_module_version": "1.5.0",
          "state": {
            "_dom_classes": [],
            "_model_module": "@jupyter-widgets/controls",
            "_model_module_version": "1.5.0",
            "_model_name": "HTMLModel",
            "_view_count": null,
            "_view_module": "@jupyter-widgets/controls",
            "_view_module_version": "1.5.0",
            "_view_name": "HTMLView",
            "description": "",
            "description_tooltip": null,
            "layout": "IPY_MODEL_d5e976320b4c4eb58c1b75c80cb96754",
            "placeholder": "​",
            "style": "IPY_MODEL_8f9992987781446ba79b592aac7ddf02",
            "value": "model.safetensors: 100%"
          }
        },
        "f3729726545f4dedbb18b4e131f66a4c": {
          "model_module": "@jupyter-widgets/controls",
          "model_name": "FloatProgressModel",
          "model_module_version": "1.5.0",
          "state": {
            "_dom_classes": [],
            "_model_module": "@jupyter-widgets/controls",
            "_model_module_version": "1.5.0",
            "_model_name": "FloatProgressModel",
            "_view_count": null,
            "_view_module": "@jupyter-widgets/controls",
            "_view_module_version": "1.5.0",
            "_view_name": "ProgressView",
            "bar_style": "success",
            "description": "",
            "description_tooltip": null,
            "layout": "IPY_MODEL_b50dc0a894444585bd8268f855d52e08",
            "max": 382561704,
            "min": 0,
            "orientation": "horizontal",
            "style": "IPY_MODEL_cc38af903694449c995b1668ade6badf",
            "value": 382561704
          }
        },
        "0cea51ca30524080a47478b46d0f759a": {
          "model_module": "@jupyter-widgets/controls",
          "model_name": "HTMLModel",
          "model_module_version": "1.5.0",
          "state": {
            "_dom_classes": [],
            "_model_module": "@jupyter-widgets/controls",
            "_model_module_version": "1.5.0",
            "_model_name": "HTMLModel",
            "_view_count": null,
            "_view_module": "@jupyter-widgets/controls",
            "_view_module_version": "1.5.0",
            "_view_name": "HTMLView",
            "description": "",
            "description_tooltip": null,
            "layout": "IPY_MODEL_317f96f0e4854da095443aac6983b405",
            "placeholder": "​",
            "style": "IPY_MODEL_a5b3034c699642b7bf4b25067cf62bb8",
            "value": " 383M/383M [00:04&lt;00:00, 84.3MB/s]"
          }
        },
        "812eb16f180948b6b997724410a30e7b": {
          "model_module": "@jupyter-widgets/base",
          "model_name": "LayoutModel",
          "model_module_version": "1.2.0",
          "state": {
            "_model_module": "@jupyter-widgets/base",
            "_model_module_version": "1.2.0",
            "_model_name": "LayoutModel",
            "_view_count": null,
            "_view_module": "@jupyter-widgets/base",
            "_view_module_version": "1.2.0",
            "_view_name": "LayoutView",
            "align_content": null,
            "align_items": null,
            "align_self": null,
            "border": null,
            "bottom": null,
            "display": null,
            "flex": null,
            "flex_flow": null,
            "grid_area": null,
            "grid_auto_columns": null,
            "grid_auto_flow": null,
            "grid_auto_rows": null,
            "grid_column": null,
            "grid_gap": null,
            "grid_row": null,
            "grid_template_areas": null,
            "grid_template_columns": null,
            "grid_template_rows": null,
            "height": null,
            "justify_content": null,
            "justify_items": null,
            "left": null,
            "margin": null,
            "max_height": null,
            "max_width": null,
            "min_height": null,
            "min_width": null,
            "object_fit": null,
            "object_position": null,
            "order": null,
            "overflow": null,
            "overflow_x": null,
            "overflow_y": null,
            "padding": null,
            "right": null,
            "top": null,
            "visibility": null,
            "width": null
          }
        },
        "d5e976320b4c4eb58c1b75c80cb96754": {
          "model_module": "@jupyter-widgets/base",
          "model_name": "LayoutModel",
          "model_module_version": "1.2.0",
          "state": {
            "_model_module": "@jupyter-widgets/base",
            "_model_module_version": "1.2.0",
            "_model_name": "LayoutModel",
            "_view_count": null,
            "_view_module": "@jupyter-widgets/base",
            "_view_module_version": "1.2.0",
            "_view_name": "LayoutView",
            "align_content": null,
            "align_items": null,
            "align_self": null,
            "border": null,
            "bottom": null,
            "display": null,
            "flex": null,
            "flex_flow": null,
            "grid_area": null,
            "grid_auto_columns": null,
            "grid_auto_flow": null,
            "grid_auto_rows": null,
            "grid_column": null,
            "grid_gap": null,
            "grid_row": null,
            "grid_template_areas": null,
            "grid_template_columns": null,
            "grid_template_rows": null,
            "height": null,
            "justify_content": null,
            "justify_items": null,
            "left": null,
            "margin": null,
            "max_height": null,
            "max_width": null,
            "min_height": null,
            "min_width": null,
            "object_fit": null,
            "object_position": null,
            "order": null,
            "overflow": null,
            "overflow_x": null,
            "overflow_y": null,
            "padding": null,
            "right": null,
            "top": null,
            "visibility": null,
            "width": null
          }
        },
        "8f9992987781446ba79b592aac7ddf02": {
          "model_module": "@jupyter-widgets/controls",
          "model_name": "DescriptionStyleModel",
          "model_module_version": "1.5.0",
          "state": {
            "_model_module": "@jupyter-widgets/controls",
            "_model_module_version": "1.5.0",
            "_model_name": "DescriptionStyleModel",
            "_view_count": null,
            "_view_module": "@jupyter-widgets/base",
            "_view_module_version": "1.2.0",
            "_view_name": "StyleView",
            "description_width": ""
          }
        },
        "b50dc0a894444585bd8268f855d52e08": {
          "model_module": "@jupyter-widgets/base",
          "model_name": "LayoutModel",
          "model_module_version": "1.2.0",
          "state": {
            "_model_module": "@jupyter-widgets/base",
            "_model_module_version": "1.2.0",
            "_model_name": "LayoutModel",
            "_view_count": null,
            "_view_module": "@jupyter-widgets/base",
            "_view_module_version": "1.2.0",
            "_view_name": "LayoutView",
            "align_content": null,
            "align_items": null,
            "align_self": null,
            "border": null,
            "bottom": null,
            "display": null,
            "flex": null,
            "flex_flow": null,
            "grid_area": null,
            "grid_auto_columns": null,
            "grid_auto_flow": null,
            "grid_auto_rows": null,
            "grid_column": null,
            "grid_gap": null,
            "grid_row": null,
            "grid_template_areas": null,
            "grid_template_columns": null,
            "grid_template_rows": null,
            "height": null,
            "justify_content": null,
            "justify_items": null,
            "left": null,
            "margin": null,
            "max_height": null,
            "max_width": null,
            "min_height": null,
            "min_width": null,
            "object_fit": null,
            "object_position": null,
            "order": null,
            "overflow": null,
            "overflow_x": null,
            "overflow_y": null,
            "padding": null,
            "right": null,
            "top": null,
            "visibility": null,
            "width": null
          }
        },
        "cc38af903694449c995b1668ade6badf": {
          "model_module": "@jupyter-widgets/controls",
          "model_name": "ProgressStyleModel",
          "model_module_version": "1.5.0",
          "state": {
            "_model_module": "@jupyter-widgets/controls",
            "_model_module_version": "1.5.0",
            "_model_name": "ProgressStyleModel",
            "_view_count": null,
            "_view_module": "@jupyter-widgets/base",
            "_view_module_version": "1.2.0",
            "_view_name": "StyleView",
            "bar_color": null,
            "description_width": ""
          }
        },
        "317f96f0e4854da095443aac6983b405": {
          "model_module": "@jupyter-widgets/base",
          "model_name": "LayoutModel",
          "model_module_version": "1.2.0",
          "state": {
            "_model_module": "@jupyter-widgets/base",
            "_model_module_version": "1.2.0",
            "_model_name": "LayoutModel",
            "_view_count": null,
            "_view_module": "@jupyter-widgets/base",
            "_view_module_version": "1.2.0",
            "_view_name": "LayoutView",
            "align_content": null,
            "align_items": null,
            "align_self": null,
            "border": null,
            "bottom": null,
            "display": null,
            "flex": null,
            "flex_flow": null,
            "grid_area": null,
            "grid_auto_columns": null,
            "grid_auto_flow": null,
            "grid_auto_rows": null,
            "grid_column": null,
            "grid_gap": null,
            "grid_row": null,
            "grid_template_areas": null,
            "grid_template_columns": null,
            "grid_template_rows": null,
            "height": null,
            "justify_content": null,
            "justify_items": null,
            "left": null,
            "margin": null,
            "max_height": null,
            "max_width": null,
            "min_height": null,
            "min_width": null,
            "object_fit": null,
            "object_position": null,
            "order": null,
            "overflow": null,
            "overflow_x": null,
            "overflow_y": null,
            "padding": null,
            "right": null,
            "top": null,
            "visibility": null,
            "width": null
          }
        },
        "a5b3034c699642b7bf4b25067cf62bb8": {
          "model_module": "@jupyter-widgets/controls",
          "model_name": "DescriptionStyleModel",
          "model_module_version": "1.5.0",
          "state": {
            "_model_module": "@jupyter-widgets/controls",
            "_model_module_version": "1.5.0",
            "_model_name": "DescriptionStyleModel",
            "_view_count": null,
            "_view_module": "@jupyter-widgets/base",
            "_view_module_version": "1.2.0",
            "_view_name": "StyleView",
            "description_width": ""
          }
        },
        "bcaac1cf9741435badce04f55155f82a": {
          "model_module": "@jupyter-widgets/controls",
          "model_name": "HBoxModel",
          "model_module_version": "1.5.0",
          "state": {
            "_dom_classes": [],
            "_model_module": "@jupyter-widgets/controls",
            "_model_module_version": "1.5.0",
            "_model_name": "HBoxModel",
            "_view_count": null,
            "_view_module": "@jupyter-widgets/controls",
            "_view_module_version": "1.5.0",
            "_view_name": "HBoxView",
            "box_style": "",
            "children": [
              "IPY_MODEL_3700534fbdf440698ae6fc0ccbb53452",
              "IPY_MODEL_26523e9538804636b3eb52555b2521fc",
              "IPY_MODEL_ff45fe0a95c1433b925e9cb03911c24d"
            ],
            "layout": "IPY_MODEL_2173b738b03f4a9e9efca2b44c506c96"
          }
        },
        "3700534fbdf440698ae6fc0ccbb53452": {
          "model_module": "@jupyter-widgets/controls",
          "model_name": "HTMLModel",
          "model_module_version": "1.5.0",
          "state": {
            "_dom_classes": [],
            "_model_module": "@jupyter-widgets/controls",
            "_model_module_version": "1.5.0",
            "_model_name": "HTMLModel",
            "_view_count": null,
            "_view_module": "@jupyter-widgets/controls",
            "_view_module_version": "1.5.0",
            "_view_name": "HTMLView",
            "description": "",
            "description_tooltip": null,
            "layout": "IPY_MODEL_b8d802f3b3614c7bb29ce19e37f841be",
            "placeholder": "​",
            "style": "IPY_MODEL_80731bf64b45427da4ccad15df45ff95",
            "value": "generation_config.json: 100%"
          }
        },
        "26523e9538804636b3eb52555b2521fc": {
          "model_module": "@jupyter-widgets/controls",
          "model_name": "FloatProgressModel",
          "model_module_version": "1.5.0",
          "state": {
            "_dom_classes": [],
            "_model_module": "@jupyter-widgets/controls",
            "_model_module_version": "1.5.0",
            "_model_name": "FloatProgressModel",
            "_view_count": null,
            "_view_module": "@jupyter-widgets/controls",
            "_view_module_version": "1.5.0",
            "_view_name": "ProgressView",
            "bar_style": "success",
            "description": "",
            "description_tooltip": null,
            "layout": "IPY_MODEL_cd301d950e254d3ba671de13ae47e572",
            "max": 184,
            "min": 0,
            "orientation": "horizontal",
            "style": "IPY_MODEL_4d69764721a04356a393ed7d60903ab4",
            "value": 184
          }
        },
        "ff45fe0a95c1433b925e9cb03911c24d": {
          "model_module": "@jupyter-widgets/controls",
          "model_name": "HTMLModel",
          "model_module_version": "1.5.0",
          "state": {
            "_dom_classes": [],
            "_model_module": "@jupyter-widgets/controls",
            "_model_module_version": "1.5.0",
            "_model_name": "HTMLModel",
            "_view_count": null,
            "_view_module": "@jupyter-widgets/controls",
            "_view_module_version": "1.5.0",
            "_view_name": "HTMLView",
            "description": "",
            "description_tooltip": null,
            "layout": "IPY_MODEL_5afae642149c40e281a93bad06c54686",
            "placeholder": "​",
            "style": "IPY_MODEL_196cafdf78dc4abea6cf45ede2167383",
            "value": " 184/184 [00:00&lt;00:00, 4.60kB/s]"
          }
        },
        "2173b738b03f4a9e9efca2b44c506c96": {
          "model_module": "@jupyter-widgets/base",
          "model_name": "LayoutModel",
          "model_module_version": "1.2.0",
          "state": {
            "_model_module": "@jupyter-widgets/base",
            "_model_module_version": "1.2.0",
            "_model_name": "LayoutModel",
            "_view_count": null,
            "_view_module": "@jupyter-widgets/base",
            "_view_module_version": "1.2.0",
            "_view_name": "LayoutView",
            "align_content": null,
            "align_items": null,
            "align_self": null,
            "border": null,
            "bottom": null,
            "display": null,
            "flex": null,
            "flex_flow": null,
            "grid_area": null,
            "grid_auto_columns": null,
            "grid_auto_flow": null,
            "grid_auto_rows": null,
            "grid_column": null,
            "grid_gap": null,
            "grid_row": null,
            "grid_template_areas": null,
            "grid_template_columns": null,
            "grid_template_rows": null,
            "height": null,
            "justify_content": null,
            "justify_items": null,
            "left": null,
            "margin": null,
            "max_height": null,
            "max_width": null,
            "min_height": null,
            "min_width": null,
            "object_fit": null,
            "object_position": null,
            "order": null,
            "overflow": null,
            "overflow_x": null,
            "overflow_y": null,
            "padding": null,
            "right": null,
            "top": null,
            "visibility": null,
            "width": null
          }
        },
        "b8d802f3b3614c7bb29ce19e37f841be": {
          "model_module": "@jupyter-widgets/base",
          "model_name": "LayoutModel",
          "model_module_version": "1.2.0",
          "state": {
            "_model_module": "@jupyter-widgets/base",
            "_model_module_version": "1.2.0",
            "_model_name": "LayoutModel",
            "_view_count": null,
            "_view_module": "@jupyter-widgets/base",
            "_view_module_version": "1.2.0",
            "_view_name": "LayoutView",
            "align_content": null,
            "align_items": null,
            "align_self": null,
            "border": null,
            "bottom": null,
            "display": null,
            "flex": null,
            "flex_flow": null,
            "grid_area": null,
            "grid_auto_columns": null,
            "grid_auto_flow": null,
            "grid_auto_rows": null,
            "grid_column": null,
            "grid_gap": null,
            "grid_row": null,
            "grid_template_areas": null,
            "grid_template_columns": null,
            "grid_template_rows": null,
            "height": null,
            "justify_content": null,
            "justify_items": null,
            "left": null,
            "margin": null,
            "max_height": null,
            "max_width": null,
            "min_height": null,
            "min_width": null,
            "object_fit": null,
            "object_position": null,
            "order": null,
            "overflow": null,
            "overflow_x": null,
            "overflow_y": null,
            "padding": null,
            "right": null,
            "top": null,
            "visibility": null,
            "width": null
          }
        },
        "80731bf64b45427da4ccad15df45ff95": {
          "model_module": "@jupyter-widgets/controls",
          "model_name": "DescriptionStyleModel",
          "model_module_version": "1.5.0",
          "state": {
            "_model_module": "@jupyter-widgets/controls",
            "_model_module_version": "1.5.0",
            "_model_name": "DescriptionStyleModel",
            "_view_count": null,
            "_view_module": "@jupyter-widgets/base",
            "_view_module_version": "1.2.0",
            "_view_name": "StyleView",
            "description_width": ""
          }
        },
        "cd301d950e254d3ba671de13ae47e572": {
          "model_module": "@jupyter-widgets/base",
          "model_name": "LayoutModel",
          "model_module_version": "1.2.0",
          "state": {
            "_model_module": "@jupyter-widgets/base",
            "_model_module_version": "1.2.0",
            "_model_name": "LayoutModel",
            "_view_count": null,
            "_view_module": "@jupyter-widgets/base",
            "_view_module_version": "1.2.0",
            "_view_name": "LayoutView",
            "align_content": null,
            "align_items": null,
            "align_self": null,
            "border": null,
            "bottom": null,
            "display": null,
            "flex": null,
            "flex_flow": null,
            "grid_area": null,
            "grid_auto_columns": null,
            "grid_auto_flow": null,
            "grid_auto_rows": null,
            "grid_column": null,
            "grid_gap": null,
            "grid_row": null,
            "grid_template_areas": null,
            "grid_template_columns": null,
            "grid_template_rows": null,
            "height": null,
            "justify_content": null,
            "justify_items": null,
            "left": null,
            "margin": null,
            "max_height": null,
            "max_width": null,
            "min_height": null,
            "min_width": null,
            "object_fit": null,
            "object_position": null,
            "order": null,
            "overflow": null,
            "overflow_x": null,
            "overflow_y": null,
            "padding": null,
            "right": null,
            "top": null,
            "visibility": null,
            "width": null
          }
        },
        "4d69764721a04356a393ed7d60903ab4": {
          "model_module": "@jupyter-widgets/controls",
          "model_name": "ProgressStyleModel",
          "model_module_version": "1.5.0",
          "state": {
            "_model_module": "@jupyter-widgets/controls",
            "_model_module_version": "1.5.0",
            "_model_name": "ProgressStyleModel",
            "_view_count": null,
            "_view_module": "@jupyter-widgets/base",
            "_view_module_version": "1.2.0",
            "_view_name": "StyleView",
            "bar_color": null,
            "description_width": ""
          }
        },
        "5afae642149c40e281a93bad06c54686": {
          "model_module": "@jupyter-widgets/base",
          "model_name": "LayoutModel",
          "model_module_version": "1.2.0",
          "state": {
            "_model_module": "@jupyter-widgets/base",
            "_model_module_version": "1.2.0",
            "_model_name": "LayoutModel",
            "_view_count": null,
            "_view_module": "@jupyter-widgets/base",
            "_view_module_version": "1.2.0",
            "_view_name": "LayoutView",
            "align_content": null,
            "align_items": null,
            "align_self": null,
            "border": null,
            "bottom": null,
            "display": null,
            "flex": null,
            "flex_flow": null,
            "grid_area": null,
            "grid_auto_columns": null,
            "grid_auto_flow": null,
            "grid_auto_rows": null,
            "grid_column": null,
            "grid_gap": null,
            "grid_row": null,
            "grid_template_areas": null,
            "grid_template_columns": null,
            "grid_template_rows": null,
            "height": null,
            "justify_content": null,
            "justify_items": null,
            "left": null,
            "margin": null,
            "max_height": null,
            "max_width": null,
            "min_height": null,
            "min_width": null,
            "object_fit": null,
            "object_position": null,
            "order": null,
            "overflow": null,
            "overflow_x": null,
            "overflow_y": null,
            "padding": null,
            "right": null,
            "top": null,
            "visibility": null,
            "width": null
          }
        },
        "196cafdf78dc4abea6cf45ede2167383": {
          "model_module": "@jupyter-widgets/controls",
          "model_name": "DescriptionStyleModel",
          "model_module_version": "1.5.0",
          "state": {
            "_model_module": "@jupyter-widgets/controls",
            "_model_module_version": "1.5.0",
            "_model_name": "DescriptionStyleModel",
            "_view_count": null,
            "_view_module": "@jupyter-widgets/base",
            "_view_module_version": "1.2.0",
            "_view_name": "StyleView",
            "description_width": ""
          }
        },
        "b9725cd5dfb84702a051b5a5bd3b3ccb": {
          "model_module": "@jupyter-widgets/controls",
          "model_name": "HBoxModel",
          "model_module_version": "1.5.0",
          "state": {
            "_dom_classes": [],
            "_model_module": "@jupyter-widgets/controls",
            "_model_module_version": "1.5.0",
            "_model_name": "HBoxModel",
            "_view_count": null,
            "_view_module": "@jupyter-widgets/controls",
            "_view_module_version": "1.5.0",
            "_view_name": "HBoxView",
            "box_style": "",
            "children": [
              "IPY_MODEL_16a9fc2d193247e0b1afea123873fe0c",
              "IPY_MODEL_666a5c3e862647038f8b9337fa9cd814",
              "IPY_MODEL_92d2e3c451b146f2bf4f76484101511e"
            ],
            "layout": "IPY_MODEL_ca9a39627c634a838147f168e937c618"
          }
        },
        "16a9fc2d193247e0b1afea123873fe0c": {
          "model_module": "@jupyter-widgets/controls",
          "model_name": "HTMLModel",
          "model_module_version": "1.5.0",
          "state": {
            "_dom_classes": [],
            "_model_module": "@jupyter-widgets/controls",
            "_model_module_version": "1.5.0",
            "_model_name": "HTMLModel",
            "_view_count": null,
            "_view_module": "@jupyter-widgets/controls",
            "_view_module_version": "1.5.0",
            "_view_name": "HTMLView",
            "description": "",
            "description_tooltip": null,
            "layout": "IPY_MODEL_9e853810a2dd4c8e8408db951297e455",
            "placeholder": "​",
            "style": "IPY_MODEL_cf5def5a8d8e498492af10f20a51af5c",
            "value": "tokenizer_config.json: 100%"
          }
        },
        "666a5c3e862647038f8b9337fa9cd814": {
          "model_module": "@jupyter-widgets/controls",
          "model_name": "FloatProgressModel",
          "model_module_version": "1.5.0",
          "state": {
            "_dom_classes": [],
            "_model_module": "@jupyter-widgets/controls",
            "_model_module_version": "1.5.0",
            "_model_name": "FloatProgressModel",
            "_view_count": null,
            "_view_module": "@jupyter-widgets/controls",
            "_view_module_version": "1.5.0",
            "_view_name": "ProgressView",
            "bar_style": "success",
            "description": "",
            "description_tooltip": null,
            "layout": "IPY_MODEL_07ac2e4d54254d729dec228fb90f982c",
            "max": 20309,
            "min": 0,
            "orientation": "horizontal",
            "style": "IPY_MODEL_5dbc2cb8108b47b69a883f39e08f416e",
            "value": 20309
          }
        },
        "92d2e3c451b146f2bf4f76484101511e": {
          "model_module": "@jupyter-widgets/controls",
          "model_name": "HTMLModel",
          "model_module_version": "1.5.0",
          "state": {
            "_dom_classes": [],
            "_model_module": "@jupyter-widgets/controls",
            "_model_module_version": "1.5.0",
            "_model_name": "HTMLModel",
            "_view_count": null,
            "_view_module": "@jupyter-widgets/controls",
            "_view_module_version": "1.5.0",
            "_view_name": "HTMLView",
            "description": "",
            "description_tooltip": null,
            "layout": "IPY_MODEL_7263d118fba1498ab9304864bbba19c7",
            "placeholder": "​",
            "style": "IPY_MODEL_b3618c8338174b428230d2c703271ef3",
            "value": " 20.3k/20.3k [00:00&lt;00:00, 1.01MB/s]"
          }
        },
        "ca9a39627c634a838147f168e937c618": {
          "model_module": "@jupyter-widgets/base",
          "model_name": "LayoutModel",
          "model_module_version": "1.2.0",
          "state": {
            "_model_module": "@jupyter-widgets/base",
            "_model_module_version": "1.2.0",
            "_model_name": "LayoutModel",
            "_view_count": null,
            "_view_module": "@jupyter-widgets/base",
            "_view_module_version": "1.2.0",
            "_view_name": "LayoutView",
            "align_content": null,
            "align_items": null,
            "align_self": null,
            "border": null,
            "bottom": null,
            "display": null,
            "flex": null,
            "flex_flow": null,
            "grid_area": null,
            "grid_auto_columns": null,
            "grid_auto_flow": null,
            "grid_auto_rows": null,
            "grid_column": null,
            "grid_gap": null,
            "grid_row": null,
            "grid_template_areas": null,
            "grid_template_columns": null,
            "grid_template_rows": null,
            "height": null,
            "justify_content": null,
            "justify_items": null,
            "left": null,
            "margin": null,
            "max_height": null,
            "max_width": null,
            "min_height": null,
            "min_width": null,
            "object_fit": null,
            "object_position": null,
            "order": null,
            "overflow": null,
            "overflow_x": null,
            "overflow_y": null,
            "padding": null,
            "right": null,
            "top": null,
            "visibility": null,
            "width": null
          }
        },
        "9e853810a2dd4c8e8408db951297e455": {
          "model_module": "@jupyter-widgets/base",
          "model_name": "LayoutModel",
          "model_module_version": "1.2.0",
          "state": {
            "_model_module": "@jupyter-widgets/base",
            "_model_module_version": "1.2.0",
            "_model_name": "LayoutModel",
            "_view_count": null,
            "_view_module": "@jupyter-widgets/base",
            "_view_module_version": "1.2.0",
            "_view_name": "LayoutView",
            "align_content": null,
            "align_items": null,
            "align_self": null,
            "border": null,
            "bottom": null,
            "display": null,
            "flex": null,
            "flex_flow": null,
            "grid_area": null,
            "grid_auto_columns": null,
            "grid_auto_flow": null,
            "grid_auto_rows": null,
            "grid_column": null,
            "grid_gap": null,
            "grid_row": null,
            "grid_template_areas": null,
            "grid_template_columns": null,
            "grid_template_rows": null,
            "height": null,
            "justify_content": null,
            "justify_items": null,
            "left": null,
            "margin": null,
            "max_height": null,
            "max_width": null,
            "min_height": null,
            "min_width": null,
            "object_fit": null,
            "object_position": null,
            "order": null,
            "overflow": null,
            "overflow_x": null,
            "overflow_y": null,
            "padding": null,
            "right": null,
            "top": null,
            "visibility": null,
            "width": null
          }
        },
        "cf5def5a8d8e498492af10f20a51af5c": {
          "model_module": "@jupyter-widgets/controls",
          "model_name": "DescriptionStyleModel",
          "model_module_version": "1.5.0",
          "state": {
            "_model_module": "@jupyter-widgets/controls",
            "_model_module_version": "1.5.0",
            "_model_name": "DescriptionStyleModel",
            "_view_count": null,
            "_view_module": "@jupyter-widgets/base",
            "_view_module_version": "1.2.0",
            "_view_name": "StyleView",
            "description_width": ""
          }
        },
        "07ac2e4d54254d729dec228fb90f982c": {
          "model_module": "@jupyter-widgets/base",
          "model_name": "LayoutModel",
          "model_module_version": "1.2.0",
          "state": {
            "_model_module": "@jupyter-widgets/base",
            "_model_module_version": "1.2.0",
            "_model_name": "LayoutModel",
            "_view_count": null,
            "_view_module": "@jupyter-widgets/base",
            "_view_module_version": "1.2.0",
            "_view_name": "LayoutView",
            "align_content": null,
            "align_items": null,
            "align_self": null,
            "border": null,
            "bottom": null,
            "display": null,
            "flex": null,
            "flex_flow": null,
            "grid_area": null,
            "grid_auto_columns": null,
            "grid_auto_flow": null,
            "grid_auto_rows": null,
            "grid_column": null,
            "grid_gap": null,
            "grid_row": null,
            "grid_template_areas": null,
            "grid_template_columns": null,
            "grid_template_rows": null,
            "height": null,
            "justify_content": null,
            "justify_items": null,
            "left": null,
            "margin": null,
            "max_height": null,
            "max_width": null,
            "min_height": null,
            "min_width": null,
            "object_fit": null,
            "object_position": null,
            "order": null,
            "overflow": null,
            "overflow_x": null,
            "overflow_y": null,
            "padding": null,
            "right": null,
            "top": null,
            "visibility": null,
            "width": null
          }
        },
        "5dbc2cb8108b47b69a883f39e08f416e": {
          "model_module": "@jupyter-widgets/controls",
          "model_name": "ProgressStyleModel",
          "model_module_version": "1.5.0",
          "state": {
            "_model_module": "@jupyter-widgets/controls",
            "_model_module_version": "1.5.0",
            "_model_name": "ProgressStyleModel",
            "_view_count": null,
            "_view_module": "@jupyter-widgets/base",
            "_view_module_version": "1.2.0",
            "_view_name": "StyleView",
            "bar_color": null,
            "description_width": ""
          }
        },
        "7263d118fba1498ab9304864bbba19c7": {
          "model_module": "@jupyter-widgets/base",
          "model_name": "LayoutModel",
          "model_module_version": "1.2.0",
          "state": {
            "_model_module": "@jupyter-widgets/base",
            "_model_module_version": "1.2.0",
            "_model_name": "LayoutModel",
            "_view_count": null,
            "_view_module": "@jupyter-widgets/base",
            "_view_module_version": "1.2.0",
            "_view_name": "LayoutView",
            "align_content": null,
            "align_items": null,
            "align_self": null,
            "border": null,
            "bottom": null,
            "display": null,
            "flex": null,
            "flex_flow": null,
            "grid_area": null,
            "grid_auto_columns": null,
            "grid_auto_flow": null,
            "grid_auto_rows": null,
            "grid_column": null,
            "grid_gap": null,
            "grid_row": null,
            "grid_template_areas": null,
            "grid_template_columns": null,
            "grid_template_rows": null,
            "height": null,
            "justify_content": null,
            "justify_items": null,
            "left": null,
            "margin": null,
            "max_height": null,
            "max_width": null,
            "min_height": null,
            "min_width": null,
            "object_fit": null,
            "object_position": null,
            "order": null,
            "overflow": null,
            "overflow_x": null,
            "overflow_y": null,
            "padding": null,
            "right": null,
            "top": null,
            "visibility": null,
            "width": null
          }
        },
        "b3618c8338174b428230d2c703271ef3": {
          "model_module": "@jupyter-widgets/controls",
          "model_name": "DescriptionStyleModel",
          "model_module_version": "1.5.0",
          "state": {
            "_model_module": "@jupyter-widgets/controls",
            "_model_module_version": "1.5.0",
            "_model_name": "DescriptionStyleModel",
            "_view_count": null,
            "_view_module": "@jupyter-widgets/base",
            "_view_module_version": "1.2.0",
            "_view_name": "StyleView",
            "description_width": ""
          }
        },
        "aaa790d1bce94c7fa29ff1f3435c4062": {
          "model_module": "@jupyter-widgets/controls",
          "model_name": "HBoxModel",
          "model_module_version": "1.5.0",
          "state": {
            "_dom_classes": [],
            "_model_module": "@jupyter-widgets/controls",
            "_model_module_version": "1.5.0",
            "_model_name": "HBoxModel",
            "_view_count": null,
            "_view_module": "@jupyter-widgets/controls",
            "_view_module_version": "1.5.0",
            "_view_name": "HBoxView",
            "box_style": "",
            "children": [
              "IPY_MODEL_725e82c4e8c944a6823ef211bbc4a21a",
              "IPY_MODEL_807f434768074e5c979415bd46e68ac9",
              "IPY_MODEL_ea45c7c44cb94906bcadea8eb201273c"
            ],
            "layout": "IPY_MODEL_65f263aaf94e4e418546a63d38ced721"
          }
        },
        "725e82c4e8c944a6823ef211bbc4a21a": {
          "model_module": "@jupyter-widgets/controls",
          "model_name": "HTMLModel",
          "model_module_version": "1.5.0",
          "state": {
            "_dom_classes": [],
            "_model_module": "@jupyter-widgets/controls",
            "_model_module_version": "1.5.0",
            "_model_name": "HTMLModel",
            "_view_count": null,
            "_view_module": "@jupyter-widgets/controls",
            "_view_module_version": "1.5.0",
            "_view_name": "HTMLView",
            "description": "",
            "description_tooltip": null,
            "layout": "IPY_MODEL_a21ff7f133964ebd9d35343ae71b3696",
            "placeholder": "​",
            "style": "IPY_MODEL_f091e33b0ee94676a87a08f3f0a725cb",
            "value": "vocab.json: 100%"
          }
        },
        "807f434768074e5c979415bd46e68ac9": {
          "model_module": "@jupyter-widgets/controls",
          "model_name": "FloatProgressModel",
          "model_module_version": "1.5.0",
          "state": {
            "_dom_classes": [],
            "_model_module": "@jupyter-widgets/controls",
            "_model_module_version": "1.5.0",
            "_model_name": "FloatProgressModel",
            "_view_count": null,
            "_view_module": "@jupyter-widgets/controls",
            "_view_module_version": "1.5.0",
            "_view_name": "ProgressView",
            "bar_style": "success",
            "description": "",
            "description_tooltip": null,
            "layout": "IPY_MODEL_85f72824c8d74496967b4dc50b871a8b",
            "max": 1813640,
            "min": 0,
            "orientation": "horizontal",
            "style": "IPY_MODEL_1c2ede7abb59480091fc28f935d0cee9",
            "value": 1813640
          }
        },
        "ea45c7c44cb94906bcadea8eb201273c": {
          "model_module": "@jupyter-widgets/controls",
          "model_name": "HTMLModel",
          "model_module_version": "1.5.0",
          "state": {
            "_dom_classes": [],
            "_model_module": "@jupyter-widgets/controls",
            "_model_module_version": "1.5.0",
            "_model_name": "HTMLModel",
            "_view_count": null,
            "_view_module": "@jupyter-widgets/controls",
            "_view_module_version": "1.5.0",
            "_view_name": "HTMLView",
            "description": "",
            "description_tooltip": null,
            "layout": "IPY_MODEL_03fd1c56cb99435d97caba9803d36472",
            "placeholder": "​",
            "style": "IPY_MODEL_719a447cf5b44dbca66a1945eca3c6a3",
            "value": " 1.81M/1.81M [00:00&lt;00:00, 5.83MB/s]"
          }
        },
        "65f263aaf94e4e418546a63d38ced721": {
          "model_module": "@jupyter-widgets/base",
          "model_name": "LayoutModel",
          "model_module_version": "1.2.0",
          "state": {
            "_model_module": "@jupyter-widgets/base",
            "_model_module_version": "1.2.0",
            "_model_name": "LayoutModel",
            "_view_count": null,
            "_view_module": "@jupyter-widgets/base",
            "_view_module_version": "1.2.0",
            "_view_name": "LayoutView",
            "align_content": null,
            "align_items": null,
            "align_self": null,
            "border": null,
            "bottom": null,
            "display": null,
            "flex": null,
            "flex_flow": null,
            "grid_area": null,
            "grid_auto_columns": null,
            "grid_auto_flow": null,
            "grid_auto_rows": null,
            "grid_column": null,
            "grid_gap": null,
            "grid_row": null,
            "grid_template_areas": null,
            "grid_template_columns": null,
            "grid_template_rows": null,
            "height": null,
            "justify_content": null,
            "justify_items": null,
            "left": null,
            "margin": null,
            "max_height": null,
            "max_width": null,
            "min_height": null,
            "min_width": null,
            "object_fit": null,
            "object_position": null,
            "order": null,
            "overflow": null,
            "overflow_x": null,
            "overflow_y": null,
            "padding": null,
            "right": null,
            "top": null,
            "visibility": null,
            "width": null
          }
        },
        "a21ff7f133964ebd9d35343ae71b3696": {
          "model_module": "@jupyter-widgets/base",
          "model_name": "LayoutModel",
          "model_module_version": "1.2.0",
          "state": {
            "_model_module": "@jupyter-widgets/base",
            "_model_module_version": "1.2.0",
            "_model_name": "LayoutModel",
            "_view_count": null,
            "_view_module": "@jupyter-widgets/base",
            "_view_module_version": "1.2.0",
            "_view_name": "LayoutView",
            "align_content": null,
            "align_items": null,
            "align_self": null,
            "border": null,
            "bottom": null,
            "display": null,
            "flex": null,
            "flex_flow": null,
            "grid_area": null,
            "grid_auto_columns": null,
            "grid_auto_flow": null,
            "grid_auto_rows": null,
            "grid_column": null,
            "grid_gap": null,
            "grid_row": null,
            "grid_template_areas": null,
            "grid_template_columns": null,
            "grid_template_rows": null,
            "height": null,
            "justify_content": null,
            "justify_items": null,
            "left": null,
            "margin": null,
            "max_height": null,
            "max_width": null,
            "min_height": null,
            "min_width": null,
            "object_fit": null,
            "object_position": null,
            "order": null,
            "overflow": null,
            "overflow_x": null,
            "overflow_y": null,
            "padding": null,
            "right": null,
            "top": null,
            "visibility": null,
            "width": null
          }
        },
        "f091e33b0ee94676a87a08f3f0a725cb": {
          "model_module": "@jupyter-widgets/controls",
          "model_name": "DescriptionStyleModel",
          "model_module_version": "1.5.0",
          "state": {
            "_model_module": "@jupyter-widgets/controls",
            "_model_module_version": "1.5.0",
            "_model_name": "DescriptionStyleModel",
            "_view_count": null,
            "_view_module": "@jupyter-widgets/base",
            "_view_module_version": "1.2.0",
            "_view_name": "StyleView",
            "description_width": ""
          }
        },
        "85f72824c8d74496967b4dc50b871a8b": {
          "model_module": "@jupyter-widgets/base",
          "model_name": "LayoutModel",
          "model_module_version": "1.2.0",
          "state": {
            "_model_module": "@jupyter-widgets/base",
            "_model_module_version": "1.2.0",
            "_model_name": "LayoutModel",
            "_view_count": null,
            "_view_module": "@jupyter-widgets/base",
            "_view_module_version": "1.2.0",
            "_view_name": "LayoutView",
            "align_content": null,
            "align_items": null,
            "align_self": null,
            "border": null,
            "bottom": null,
            "display": null,
            "flex": null,
            "flex_flow": null,
            "grid_area": null,
            "grid_auto_columns": null,
            "grid_auto_flow": null,
            "grid_auto_rows": null,
            "grid_column": null,
            "grid_gap": null,
            "grid_row": null,
            "grid_template_areas": null,
            "grid_template_columns": null,
            "grid_template_rows": null,
            "height": null,
            "justify_content": null,
            "justify_items": null,
            "left": null,
            "margin": null,
            "max_height": null,
            "max_width": null,
            "min_height": null,
            "min_width": null,
            "object_fit": null,
            "object_position": null,
            "order": null,
            "overflow": null,
            "overflow_x": null,
            "overflow_y": null,
            "padding": null,
            "right": null,
            "top": null,
            "visibility": null,
            "width": null
          }
        },
        "1c2ede7abb59480091fc28f935d0cee9": {
          "model_module": "@jupyter-widgets/controls",
          "model_name": "ProgressStyleModel",
          "model_module_version": "1.5.0",
          "state": {
            "_model_module": "@jupyter-widgets/controls",
            "_model_module_version": "1.5.0",
            "_model_name": "ProgressStyleModel",
            "_view_count": null,
            "_view_module": "@jupyter-widgets/base",
            "_view_module_version": "1.2.0",
            "_view_name": "StyleView",
            "bar_color": null,
            "description_width": ""
          }
        },
        "03fd1c56cb99435d97caba9803d36472": {
          "model_module": "@jupyter-widgets/base",
          "model_name": "LayoutModel",
          "model_module_version": "1.2.0",
          "state": {
            "_model_module": "@jupyter-widgets/base",
            "_model_module_version": "1.2.0",
            "_model_name": "LayoutModel",
            "_view_count": null,
            "_view_module": "@jupyter-widgets/base",
            "_view_module_version": "1.2.0",
            "_view_name": "LayoutView",
            "align_content": null,
            "align_items": null,
            "align_self": null,
            "border": null,
            "bottom": null,
            "display": null,
            "flex": null,
            "flex_flow": null,
            "grid_area": null,
            "grid_auto_columns": null,
            "grid_auto_flow": null,
            "grid_auto_rows": null,
            "grid_column": null,
            "grid_gap": null,
            "grid_row": null,
            "grid_template_areas": null,
            "grid_template_columns": null,
            "grid_template_rows": null,
            "height": null,
            "justify_content": null,
            "justify_items": null,
            "left": null,
            "margin": null,
            "max_height": null,
            "max_width": null,
            "min_height": null,
            "min_width": null,
            "object_fit": null,
            "object_position": null,
            "order": null,
            "overflow": null,
            "overflow_x": null,
            "overflow_y": null,
            "padding": null,
            "right": null,
            "top": null,
            "visibility": null,
            "width": null
          }
        },
        "719a447cf5b44dbca66a1945eca3c6a3": {
          "model_module": "@jupyter-widgets/controls",
          "model_name": "DescriptionStyleModel",
          "model_module_version": "1.5.0",
          "state": {
            "_model_module": "@jupyter-widgets/controls",
            "_model_module_version": "1.5.0",
            "_model_name": "DescriptionStyleModel",
            "_view_count": null,
            "_view_module": "@jupyter-widgets/base",
            "_view_module_version": "1.2.0",
            "_view_name": "StyleView",
            "description_width": ""
          }
        },
        "2ba89992a297418f8f39f82272b0c5ad": {
          "model_module": "@jupyter-widgets/controls",
          "model_name": "HBoxModel",
          "model_module_version": "1.5.0",
          "state": {
            "_dom_classes": [],
            "_model_module": "@jupyter-widgets/controls",
            "_model_module_version": "1.5.0",
            "_model_name": "HBoxModel",
            "_view_count": null,
            "_view_module": "@jupyter-widgets/controls",
            "_view_module_version": "1.5.0",
            "_view_name": "HBoxView",
            "box_style": "",
            "children": [
              "IPY_MODEL_d1d6964d30254128b372db25a170c960",
              "IPY_MODEL_b3d6535618e145308756d7c983f38a46",
              "IPY_MODEL_6c7a696935e945c2a4a5df782a2b4e86"
            ],
            "layout": "IPY_MODEL_1b548ba202e54a329cf3c3f20ab140d5"
          }
        },
        "d1d6964d30254128b372db25a170c960": {
          "model_module": "@jupyter-widgets/controls",
          "model_name": "HTMLModel",
          "model_module_version": "1.5.0",
          "state": {
            "_dom_classes": [],
            "_model_module": "@jupyter-widgets/controls",
            "_model_module_version": "1.5.0",
            "_model_name": "HTMLModel",
            "_view_count": null,
            "_view_module": "@jupyter-widgets/controls",
            "_view_module_version": "1.5.0",
            "_view_name": "HTMLView",
            "description": "",
            "description_tooltip": null,
            "layout": "IPY_MODEL_457ca23aaae640d9b7fd83008ff79f58",
            "placeholder": "​",
            "style": "IPY_MODEL_488a1f7c162a4a1c88bc02df137ce4f7",
            "value": "merges.txt: 100%"
          }
        },
        "b3d6535618e145308756d7c983f38a46": {
          "model_module": "@jupyter-widgets/controls",
          "model_name": "FloatProgressModel",
          "model_module_version": "1.5.0",
          "state": {
            "_dom_classes": [],
            "_model_module": "@jupyter-widgets/controls",
            "_model_module_version": "1.5.0",
            "_model_name": "FloatProgressModel",
            "_view_count": null,
            "_view_module": "@jupyter-widgets/controls",
            "_view_module_version": "1.5.0",
            "_view_name": "ProgressView",
            "bar_style": "success",
            "description": "",
            "description_tooltip": null,
            "layout": "IPY_MODEL_6f744a70906a4669b85bfc6d406fa0d0",
            "max": 1270925,
            "min": 0,
            "orientation": "horizontal",
            "style": "IPY_MODEL_d02d2a8a2f794b879739f80c528d6453",
            "value": 1270925
          }
        },
        "6c7a696935e945c2a4a5df782a2b4e86": {
          "model_module": "@jupyter-widgets/controls",
          "model_name": "HTMLModel",
          "model_module_version": "1.5.0",
          "state": {
            "_dom_classes": [],
            "_model_module": "@jupyter-widgets/controls",
            "_model_module_version": "1.5.0",
            "_model_name": "HTMLModel",
            "_view_count": null,
            "_view_module": "@jupyter-widgets/controls",
            "_view_module_version": "1.5.0",
            "_view_name": "HTMLView",
            "description": "",
            "description_tooltip": null,
            "layout": "IPY_MODEL_36045edb3a0941d2b7a65a6c0cfbca42",
            "placeholder": "​",
            "style": "IPY_MODEL_15186186b7f6400e8d45bcd6a66f12aa",
            "value": " 1.27M/1.27M [00:00&lt;00:00, 4.17MB/s]"
          }
        },
        "1b548ba202e54a329cf3c3f20ab140d5": {
          "model_module": "@jupyter-widgets/base",
          "model_name": "LayoutModel",
          "model_module_version": "1.2.0",
          "state": {
            "_model_module": "@jupyter-widgets/base",
            "_model_module_version": "1.2.0",
            "_model_name": "LayoutModel",
            "_view_count": null,
            "_view_module": "@jupyter-widgets/base",
            "_view_module_version": "1.2.0",
            "_view_name": "LayoutView",
            "align_content": null,
            "align_items": null,
            "align_self": null,
            "border": null,
            "bottom": null,
            "display": null,
            "flex": null,
            "flex_flow": null,
            "grid_area": null,
            "grid_auto_columns": null,
            "grid_auto_flow": null,
            "grid_auto_rows": null,
            "grid_column": null,
            "grid_gap": null,
            "grid_row": null,
            "grid_template_areas": null,
            "grid_template_columns": null,
            "grid_template_rows": null,
            "height": null,
            "justify_content": null,
            "justify_items": null,
            "left": null,
            "margin": null,
            "max_height": null,
            "max_width": null,
            "min_height": null,
            "min_width": null,
            "object_fit": null,
            "object_position": null,
            "order": null,
            "overflow": null,
            "overflow_x": null,
            "overflow_y": null,
            "padding": null,
            "right": null,
            "top": null,
            "visibility": null,
            "width": null
          }
        },
        "457ca23aaae640d9b7fd83008ff79f58": {
          "model_module": "@jupyter-widgets/base",
          "model_name": "LayoutModel",
          "model_module_version": "1.2.0",
          "state": {
            "_model_module": "@jupyter-widgets/base",
            "_model_module_version": "1.2.0",
            "_model_name": "LayoutModel",
            "_view_count": null,
            "_view_module": "@jupyter-widgets/base",
            "_view_module_version": "1.2.0",
            "_view_name": "LayoutView",
            "align_content": null,
            "align_items": null,
            "align_self": null,
            "border": null,
            "bottom": null,
            "display": null,
            "flex": null,
            "flex_flow": null,
            "grid_area": null,
            "grid_auto_columns": null,
            "grid_auto_flow": null,
            "grid_auto_rows": null,
            "grid_column": null,
            "grid_gap": null,
            "grid_row": null,
            "grid_template_areas": null,
            "grid_template_columns": null,
            "grid_template_rows": null,
            "height": null,
            "justify_content": null,
            "justify_items": null,
            "left": null,
            "margin": null,
            "max_height": null,
            "max_width": null,
            "min_height": null,
            "min_width": null,
            "object_fit": null,
            "object_position": null,
            "order": null,
            "overflow": null,
            "overflow_x": null,
            "overflow_y": null,
            "padding": null,
            "right": null,
            "top": null,
            "visibility": null,
            "width": null
          }
        },
        "488a1f7c162a4a1c88bc02df137ce4f7": {
          "model_module": "@jupyter-widgets/controls",
          "model_name": "DescriptionStyleModel",
          "model_module_version": "1.5.0",
          "state": {
            "_model_module": "@jupyter-widgets/controls",
            "_model_module_version": "1.5.0",
            "_model_name": "DescriptionStyleModel",
            "_view_count": null,
            "_view_module": "@jupyter-widgets/base",
            "_view_module_version": "1.2.0",
            "_view_name": "StyleView",
            "description_width": ""
          }
        },
        "6f744a70906a4669b85bfc6d406fa0d0": {
          "model_module": "@jupyter-widgets/base",
          "model_name": "LayoutModel",
          "model_module_version": "1.2.0",
          "state": {
            "_model_module": "@jupyter-widgets/base",
            "_model_module_version": "1.2.0",
            "_model_name": "LayoutModel",
            "_view_count": null,
            "_view_module": "@jupyter-widgets/base",
            "_view_module_version": "1.2.0",
            "_view_name": "LayoutView",
            "align_content": null,
            "align_items": null,
            "align_self": null,
            "border": null,
            "bottom": null,
            "display": null,
            "flex": null,
            "flex_flow": null,
            "grid_area": null,
            "grid_auto_columns": null,
            "grid_auto_flow": null,
            "grid_auto_rows": null,
            "grid_column": null,
            "grid_gap": null,
            "grid_row": null,
            "grid_template_areas": null,
            "grid_template_columns": null,
            "grid_template_rows": null,
            "height": null,
            "justify_content": null,
            "justify_items": null,
            "left": null,
            "margin": null,
            "max_height": null,
            "max_width": null,
            "min_height": null,
            "min_width": null,
            "object_fit": null,
            "object_position": null,
            "order": null,
            "overflow": null,
            "overflow_x": null,
            "overflow_y": null,
            "padding": null,
            "right": null,
            "top": null,
            "visibility": null,
            "width": null
          }
        },
        "d02d2a8a2f794b879739f80c528d6453": {
          "model_module": "@jupyter-widgets/controls",
          "model_name": "ProgressStyleModel",
          "model_module_version": "1.5.0",
          "state": {
            "_model_module": "@jupyter-widgets/controls",
            "_model_module_version": "1.5.0",
            "_model_name": "ProgressStyleModel",
            "_view_count": null,
            "_view_module": "@jupyter-widgets/base",
            "_view_module_version": "1.2.0",
            "_view_name": "StyleView",
            "bar_color": null,
            "description_width": ""
          }
        },
        "36045edb3a0941d2b7a65a6c0cfbca42": {
          "model_module": "@jupyter-widgets/base",
          "model_name": "LayoutModel",
          "model_module_version": "1.2.0",
          "state": {
            "_model_module": "@jupyter-widgets/base",
            "_model_module_version": "1.2.0",
            "_model_name": "LayoutModel",
            "_view_count": null,
            "_view_module": "@jupyter-widgets/base",
            "_view_module_version": "1.2.0",
            "_view_name": "LayoutView",
            "align_content": null,
            "align_items": null,
            "align_self": null,
            "border": null,
            "bottom": null,
            "display": null,
            "flex": null,
            "flex_flow": null,
            "grid_area": null,
            "grid_auto_columns": null,
            "grid_auto_flow": null,
            "grid_auto_rows": null,
            "grid_column": null,
            "grid_gap": null,
            "grid_row": null,
            "grid_template_areas": null,
            "grid_template_columns": null,
            "grid_template_rows": null,
            "height": null,
            "justify_content": null,
            "justify_items": null,
            "left": null,
            "margin": null,
            "max_height": null,
            "max_width": null,
            "min_height": null,
            "min_width": null,
            "object_fit": null,
            "object_position": null,
            "order": null,
            "overflow": null,
            "overflow_x": null,
            "overflow_y": null,
            "padding": null,
            "right": null,
            "top": null,
            "visibility": null,
            "width": null
          }
        },
        "15186186b7f6400e8d45bcd6a66f12aa": {
          "model_module": "@jupyter-widgets/controls",
          "model_name": "DescriptionStyleModel",
          "model_module_version": "1.5.0",
          "state": {
            "_model_module": "@jupyter-widgets/controls",
            "_model_module_version": "1.5.0",
            "_model_name": "DescriptionStyleModel",
            "_view_count": null,
            "_view_module": "@jupyter-widgets/base",
            "_view_module_version": "1.2.0",
            "_view_name": "StyleView",
            "description_width": ""
          }
        },
        "db7a3d770fcc4bb5940d8935dbd76c8b": {
          "model_module": "@jupyter-widgets/controls",
          "model_name": "HBoxModel",
          "model_module_version": "1.5.0",
          "state": {
            "_dom_classes": [],
            "_model_module": "@jupyter-widgets/controls",
            "_model_module_version": "1.5.0",
            "_model_name": "HBoxModel",
            "_view_count": null,
            "_view_module": "@jupyter-widgets/controls",
            "_view_module_version": "1.5.0",
            "_view_name": "HBoxView",
            "box_style": "",
            "children": [
              "IPY_MODEL_89792b780fff4bd6a16f0a938b967433",
              "IPY_MODEL_3c198a451fb942b5b361d7ea3bb14e57",
              "IPY_MODEL_2a5b20aed397492cac3b79185ec34dcd"
            ],
            "layout": "IPY_MODEL_aaa7120bce9f4b378e59129b8cd9b89e"
          }
        },
        "89792b780fff4bd6a16f0a938b967433": {
          "model_module": "@jupyter-widgets/controls",
          "model_name": "HTMLModel",
          "model_module_version": "1.5.0",
          "state": {
            "_dom_classes": [],
            "_model_module": "@jupyter-widgets/controls",
            "_model_module_version": "1.5.0",
            "_model_name": "HTMLModel",
            "_view_count": null,
            "_view_module": "@jupyter-widgets/controls",
            "_view_module_version": "1.5.0",
            "_view_name": "HTMLView",
            "description": "",
            "description_tooltip": null,
            "layout": "IPY_MODEL_6e9197019def49f49c7256430559285b",
            "placeholder": "​",
            "style": "IPY_MODEL_fe06cbecb608448b8c36be8ae6fef957",
            "value": "added_tokens.json: 100%"
          }
        },
        "3c198a451fb942b5b361d7ea3bb14e57": {
          "model_module": "@jupyter-widgets/controls",
          "model_name": "FloatProgressModel",
          "model_module_version": "1.5.0",
          "state": {
            "_dom_classes": [],
            "_model_module": "@jupyter-widgets/controls",
            "_model_module_version": "1.5.0",
            "_model_name": "FloatProgressModel",
            "_view_count": null,
            "_view_module": "@jupyter-widgets/controls",
            "_view_module_version": "1.5.0",
            "_view_name": "ProgressView",
            "bar_style": "success",
            "description": "",
            "description_tooltip": null,
            "layout": "IPY_MODEL_bf7a1547623a42cd96056c9b68c32f6f",
            "max": 2718,
            "min": 0,
            "orientation": "horizontal",
            "style": "IPY_MODEL_a522c768365b4b458a2cbec0ca93b377",
            "value": 2718
          }
        },
        "2a5b20aed397492cac3b79185ec34dcd": {
          "model_module": "@jupyter-widgets/controls",
          "model_name": "HTMLModel",
          "model_module_version": "1.5.0",
          "state": {
            "_dom_classes": [],
            "_model_module": "@jupyter-widgets/controls",
            "_model_module_version": "1.5.0",
            "_model_name": "HTMLModel",
            "_view_count": null,
            "_view_module": "@jupyter-widgets/controls",
            "_view_module_version": "1.5.0",
            "_view_name": "HTMLView",
            "description": "",
            "description_tooltip": null,
            "layout": "IPY_MODEL_253f3031c7a547b7a264e353bf280236",
            "placeholder": "​",
            "style": "IPY_MODEL_1076d06800f948f8ad0d2d4295842d12",
            "value": " 2.72k/2.72k [00:00&lt;00:00, 142kB/s]"
          }
        },
        "aaa7120bce9f4b378e59129b8cd9b89e": {
          "model_module": "@jupyter-widgets/base",
          "model_name": "LayoutModel",
          "model_module_version": "1.2.0",
          "state": {
            "_model_module": "@jupyter-widgets/base",
            "_model_module_version": "1.2.0",
            "_model_name": "LayoutModel",
            "_view_count": null,
            "_view_module": "@jupyter-widgets/base",
            "_view_module_version": "1.2.0",
            "_view_name": "LayoutView",
            "align_content": null,
            "align_items": null,
            "align_self": null,
            "border": null,
            "bottom": null,
            "display": null,
            "flex": null,
            "flex_flow": null,
            "grid_area": null,
            "grid_auto_columns": null,
            "grid_auto_flow": null,
            "grid_auto_rows": null,
            "grid_column": null,
            "grid_gap": null,
            "grid_row": null,
            "grid_template_areas": null,
            "grid_template_columns": null,
            "grid_template_rows": null,
            "height": null,
            "justify_content": null,
            "justify_items": null,
            "left": null,
            "margin": null,
            "max_height": null,
            "max_width": null,
            "min_height": null,
            "min_width": null,
            "object_fit": null,
            "object_position": null,
            "order": null,
            "overflow": null,
            "overflow_x": null,
            "overflow_y": null,
            "padding": null,
            "right": null,
            "top": null,
            "visibility": null,
            "width": null
          }
        },
        "6e9197019def49f49c7256430559285b": {
          "model_module": "@jupyter-widgets/base",
          "model_name": "LayoutModel",
          "model_module_version": "1.2.0",
          "state": {
            "_model_module": "@jupyter-widgets/base",
            "_model_module_version": "1.2.0",
            "_model_name": "LayoutModel",
            "_view_count": null,
            "_view_module": "@jupyter-widgets/base",
            "_view_module_version": "1.2.0",
            "_view_name": "LayoutView",
            "align_content": null,
            "align_items": null,
            "align_self": null,
            "border": null,
            "bottom": null,
            "display": null,
            "flex": null,
            "flex_flow": null,
            "grid_area": null,
            "grid_auto_columns": null,
            "grid_auto_flow": null,
            "grid_auto_rows": null,
            "grid_column": null,
            "grid_gap": null,
            "grid_row": null,
            "grid_template_areas": null,
            "grid_template_columns": null,
            "grid_template_rows": null,
            "height": null,
            "justify_content": null,
            "justify_items": null,
            "left": null,
            "margin": null,
            "max_height": null,
            "max_width": null,
            "min_height": null,
            "min_width": null,
            "object_fit": null,
            "object_position": null,
            "order": null,
            "overflow": null,
            "overflow_x": null,
            "overflow_y": null,
            "padding": null,
            "right": null,
            "top": null,
            "visibility": null,
            "width": null
          }
        },
        "fe06cbecb608448b8c36be8ae6fef957": {
          "model_module": "@jupyter-widgets/controls",
          "model_name": "DescriptionStyleModel",
          "model_module_version": "1.5.0",
          "state": {
            "_model_module": "@jupyter-widgets/controls",
            "_model_module_version": "1.5.0",
            "_model_name": "DescriptionStyleModel",
            "_view_count": null,
            "_view_module": "@jupyter-widgets/base",
            "_view_module_version": "1.2.0",
            "_view_name": "StyleView",
            "description_width": ""
          }
        },
        "bf7a1547623a42cd96056c9b68c32f6f": {
          "model_module": "@jupyter-widgets/base",
          "model_name": "LayoutModel",
          "model_module_version": "1.2.0",
          "state": {
            "_model_module": "@jupyter-widgets/base",
            "_model_module_version": "1.2.0",
            "_model_name": "LayoutModel",
            "_view_count": null,
            "_view_module": "@jupyter-widgets/base",
            "_view_module_version": "1.2.0",
            "_view_name": "LayoutView",
            "align_content": null,
            "align_items": null,
            "align_self": null,
            "border": null,
            "bottom": null,
            "display": null,
            "flex": null,
            "flex_flow": null,
            "grid_area": null,
            "grid_auto_columns": null,
            "grid_auto_flow": null,
            "grid_auto_rows": null,
            "grid_column": null,
            "grid_gap": null,
            "grid_row": null,
            "grid_template_areas": null,
            "grid_template_columns": null,
            "grid_template_rows": null,
            "height": null,
            "justify_content": null,
            "justify_items": null,
            "left": null,
            "margin": null,
            "max_height": null,
            "max_width": null,
            "min_height": null,
            "min_width": null,
            "object_fit": null,
            "object_position": null,
            "order": null,
            "overflow": null,
            "overflow_x": null,
            "overflow_y": null,
            "padding": null,
            "right": null,
            "top": null,
            "visibility": null,
            "width": null
          }
        },
        "a522c768365b4b458a2cbec0ca93b377": {
          "model_module": "@jupyter-widgets/controls",
          "model_name": "ProgressStyleModel",
          "model_module_version": "1.5.0",
          "state": {
            "_model_module": "@jupyter-widgets/controls",
            "_model_module_version": "1.5.0",
            "_model_name": "ProgressStyleModel",
            "_view_count": null,
            "_view_module": "@jupyter-widgets/base",
            "_view_module_version": "1.2.0",
            "_view_name": "StyleView",
            "bar_color": null,
            "description_width": ""
          }
        },
        "253f3031c7a547b7a264e353bf280236": {
          "model_module": "@jupyter-widgets/base",
          "model_name": "LayoutModel",
          "model_module_version": "1.2.0",
          "state": {
            "_model_module": "@jupyter-widgets/base",
            "_model_module_version": "1.2.0",
            "_model_name": "LayoutModel",
            "_view_count": null,
            "_view_module": "@jupyter-widgets/base",
            "_view_module_version": "1.2.0",
            "_view_name": "LayoutView",
            "align_content": null,
            "align_items": null,
            "align_self": null,
            "border": null,
            "bottom": null,
            "display": null,
            "flex": null,
            "flex_flow": null,
            "grid_area": null,
            "grid_auto_columns": null,
            "grid_auto_flow": null,
            "grid_auto_rows": null,
            "grid_column": null,
            "grid_gap": null,
            "grid_row": null,
            "grid_template_areas": null,
            "grid_template_columns": null,
            "grid_template_rows": null,
            "height": null,
            "justify_content": null,
            "justify_items": null,
            "left": null,
            "margin": null,
            "max_height": null,
            "max_width": null,
            "min_height": null,
            "min_width": null,
            "object_fit": null,
            "object_position": null,
            "order": null,
            "overflow": null,
            "overflow_x": null,
            "overflow_y": null,
            "padding": null,
            "right": null,
            "top": null,
            "visibility": null,
            "width": null
          }
        },
        "1076d06800f948f8ad0d2d4295842d12": {
          "model_module": "@jupyter-widgets/controls",
          "model_name": "DescriptionStyleModel",
          "model_module_version": "1.5.0",
          "state": {
            "_model_module": "@jupyter-widgets/controls",
            "_model_module_version": "1.5.0",
            "_model_name": "DescriptionStyleModel",
            "_view_count": null,
            "_view_module": "@jupyter-widgets/base",
            "_view_module_version": "1.2.0",
            "_view_name": "StyleView",
            "description_width": ""
          }
        },
        "021c90b5ec7c42d59ac34fb739f8b6d5": {
          "model_module": "@jupyter-widgets/controls",
          "model_name": "HBoxModel",
          "model_module_version": "1.5.0",
          "state": {
            "_dom_classes": [],
            "_model_module": "@jupyter-widgets/controls",
            "_model_module_version": "1.5.0",
            "_model_name": "HBoxModel",
            "_view_count": null,
            "_view_module": "@jupyter-widgets/controls",
            "_view_module_version": "1.5.0",
            "_view_name": "HBoxView",
            "box_style": "",
            "children": [
              "IPY_MODEL_ce973a38945b4da6bb8d1b772e44af63",
              "IPY_MODEL_e80c878bd33a4d29897fdd593ab56c35",
              "IPY_MODEL_c3fca76e2c40498cb909eec84b06a965"
            ],
            "layout": "IPY_MODEL_e5353fe3546e40b99412437bfc8d1da3"
          }
        },
        "ce973a38945b4da6bb8d1b772e44af63": {
          "model_module": "@jupyter-widgets/controls",
          "model_name": "HTMLModel",
          "model_module_version": "1.5.0",
          "state": {
            "_dom_classes": [],
            "_model_module": "@jupyter-widgets/controls",
            "_model_module_version": "1.5.0",
            "_model_name": "HTMLModel",
            "_view_count": null,
            "_view_module": "@jupyter-widgets/controls",
            "_view_module_version": "1.5.0",
            "_view_name": "HTMLView",
            "description": "",
            "description_tooltip": null,
            "layout": "IPY_MODEL_7ef2aacb1ed748c695af2eb8be49d8d9",
            "placeholder": "​",
            "style": "IPY_MODEL_d2541f0814b64d028c9cec411a86d5aa",
            "value": "special_tokens_map.json: 100%"
          }
        },
        "e80c878bd33a4d29897fdd593ab56c35": {
          "model_module": "@jupyter-widgets/controls",
          "model_name": "FloatProgressModel",
          "model_module_version": "1.5.0",
          "state": {
            "_dom_classes": [],
            "_model_module": "@jupyter-widgets/controls",
            "_model_module_version": "1.5.0",
            "_model_name": "FloatProgressModel",
            "_view_count": null,
            "_view_module": "@jupyter-widgets/controls",
            "_view_module_version": "1.5.0",
            "_view_name": "ProgressView",
            "bar_style": "success",
            "description": "",
            "description_tooltip": null,
            "layout": "IPY_MODEL_700327ab62d949aca6099d0ed1beb7fe",
            "max": 689,
            "min": 0,
            "orientation": "horizontal",
            "style": "IPY_MODEL_0c56d70aaf7b4ca2a5030f30ea1521f5",
            "value": 689
          }
        },
        "c3fca76e2c40498cb909eec84b06a965": {
          "model_module": "@jupyter-widgets/controls",
          "model_name": "HTMLModel",
          "model_module_version": "1.5.0",
          "state": {
            "_dom_classes": [],
            "_model_module": "@jupyter-widgets/controls",
            "_model_module_version": "1.5.0",
            "_model_name": "HTMLModel",
            "_view_count": null,
            "_view_module": "@jupyter-widgets/controls",
            "_view_module_version": "1.5.0",
            "_view_name": "HTMLView",
            "description": "",
            "description_tooltip": null,
            "layout": "IPY_MODEL_612939e3b7ba4e2296d168abcfec6c3a",
            "placeholder": "​",
            "style": "IPY_MODEL_946bce3f6bb542f2a0d8cd9fab41b0bf",
            "value": " 689/689 [00:00&lt;00:00, 34.5kB/s]"
          }
        },
        "e5353fe3546e40b99412437bfc8d1da3": {
          "model_module": "@jupyter-widgets/base",
          "model_name": "LayoutModel",
          "model_module_version": "1.2.0",
          "state": {
            "_model_module": "@jupyter-widgets/base",
            "_model_module_version": "1.2.0",
            "_model_name": "LayoutModel",
            "_view_count": null,
            "_view_module": "@jupyter-widgets/base",
            "_view_module_version": "1.2.0",
            "_view_name": "LayoutView",
            "align_content": null,
            "align_items": null,
            "align_self": null,
            "border": null,
            "bottom": null,
            "display": null,
            "flex": null,
            "flex_flow": null,
            "grid_area": null,
            "grid_auto_columns": null,
            "grid_auto_flow": null,
            "grid_auto_rows": null,
            "grid_column": null,
            "grid_gap": null,
            "grid_row": null,
            "grid_template_areas": null,
            "grid_template_columns": null,
            "grid_template_rows": null,
            "height": null,
            "justify_content": null,
            "justify_items": null,
            "left": null,
            "margin": null,
            "max_height": null,
            "max_width": null,
            "min_height": null,
            "min_width": null,
            "object_fit": null,
            "object_position": null,
            "order": null,
            "overflow": null,
            "overflow_x": null,
            "overflow_y": null,
            "padding": null,
            "right": null,
            "top": null,
            "visibility": null,
            "width": null
          }
        },
        "7ef2aacb1ed748c695af2eb8be49d8d9": {
          "model_module": "@jupyter-widgets/base",
          "model_name": "LayoutModel",
          "model_module_version": "1.2.0",
          "state": {
            "_model_module": "@jupyter-widgets/base",
            "_model_module_version": "1.2.0",
            "_model_name": "LayoutModel",
            "_view_count": null,
            "_view_module": "@jupyter-widgets/base",
            "_view_module_version": "1.2.0",
            "_view_name": "LayoutView",
            "align_content": null,
            "align_items": null,
            "align_self": null,
            "border": null,
            "bottom": null,
            "display": null,
            "flex": null,
            "flex_flow": null,
            "grid_area": null,
            "grid_auto_columns": null,
            "grid_auto_flow": null,
            "grid_auto_rows": null,
            "grid_column": null,
            "grid_gap": null,
            "grid_row": null,
            "grid_template_areas": null,
            "grid_template_columns": null,
            "grid_template_rows": null,
            "height": null,
            "justify_content": null,
            "justify_items": null,
            "left": null,
            "margin": null,
            "max_height": null,
            "max_width": null,
            "min_height": null,
            "min_width": null,
            "object_fit": null,
            "object_position": null,
            "order": null,
            "overflow": null,
            "overflow_x": null,
            "overflow_y": null,
            "padding": null,
            "right": null,
            "top": null,
            "visibility": null,
            "width": null
          }
        },
        "d2541f0814b64d028c9cec411a86d5aa": {
          "model_module": "@jupyter-widgets/controls",
          "model_name": "DescriptionStyleModel",
          "model_module_version": "1.5.0",
          "state": {
            "_model_module": "@jupyter-widgets/controls",
            "_model_module_version": "1.5.0",
            "_model_name": "DescriptionStyleModel",
            "_view_count": null,
            "_view_module": "@jupyter-widgets/base",
            "_view_module_version": "1.2.0",
            "_view_name": "StyleView",
            "description_width": ""
          }
        },
        "700327ab62d949aca6099d0ed1beb7fe": {
          "model_module": "@jupyter-widgets/base",
          "model_name": "LayoutModel",
          "model_module_version": "1.2.0",
          "state": {
            "_model_module": "@jupyter-widgets/base",
            "_model_module_version": "1.2.0",
            "_model_name": "LayoutModel",
            "_view_count": null,
            "_view_module": "@jupyter-widgets/base",
            "_view_module_version": "1.2.0",
            "_view_name": "LayoutView",
            "align_content": null,
            "align_items": null,
            "align_self": null,
            "border": null,
            "bottom": null,
            "display": null,
            "flex": null,
            "flex_flow": null,
            "grid_area": null,
            "grid_auto_columns": null,
            "grid_auto_flow": null,
            "grid_auto_rows": null,
            "grid_column": null,
            "grid_gap": null,
            "grid_row": null,
            "grid_template_areas": null,
            "grid_template_columns": null,
            "grid_template_rows": null,
            "height": null,
            "justify_content": null,
            "justify_items": null,
            "left": null,
            "margin": null,
            "max_height": null,
            "max_width": null,
            "min_height": null,
            "min_width": null,
            "object_fit": null,
            "object_position": null,
            "order": null,
            "overflow": null,
            "overflow_x": null,
            "overflow_y": null,
            "padding": null,
            "right": null,
            "top": null,
            "visibility": null,
            "width": null
          }
        },
        "0c56d70aaf7b4ca2a5030f30ea1521f5": {
          "model_module": "@jupyter-widgets/controls",
          "model_name": "ProgressStyleModel",
          "model_module_version": "1.5.0",
          "state": {
            "_model_module": "@jupyter-widgets/controls",
            "_model_module_version": "1.5.0",
            "_model_name": "ProgressStyleModel",
            "_view_count": null,
            "_view_module": "@jupyter-widgets/base",
            "_view_module_version": "1.2.0",
            "_view_name": "StyleView",
            "bar_color": null,
            "description_width": ""
          }
        },
        "612939e3b7ba4e2296d168abcfec6c3a": {
          "model_module": "@jupyter-widgets/base",
          "model_name": "LayoutModel",
          "model_module_version": "1.2.0",
          "state": {
            "_model_module": "@jupyter-widgets/base",
            "_model_module_version": "1.2.0",
            "_model_name": "LayoutModel",
            "_view_count": null,
            "_view_module": "@jupyter-widgets/base",
            "_view_module_version": "1.2.0",
            "_view_name": "LayoutView",
            "align_content": null,
            "align_items": null,
            "align_self": null,
            "border": null,
            "bottom": null,
            "display": null,
            "flex": null,
            "flex_flow": null,
            "grid_area": null,
            "grid_auto_columns": null,
            "grid_auto_flow": null,
            "grid_auto_rows": null,
            "grid_column": null,
            "grid_gap": null,
            "grid_row": null,
            "grid_template_areas": null,
            "grid_template_columns": null,
            "grid_template_rows": null,
            "height": null,
            "justify_content": null,
            "justify_items": null,
            "left": null,
            "margin": null,
            "max_height": null,
            "max_width": null,
            "min_height": null,
            "min_width": null,
            "object_fit": null,
            "object_position": null,
            "order": null,
            "overflow": null,
            "overflow_x": null,
            "overflow_y": null,
            "padding": null,
            "right": null,
            "top": null,
            "visibility": null,
            "width": null
          }
        },
        "946bce3f6bb542f2a0d8cd9fab41b0bf": {
          "model_module": "@jupyter-widgets/controls",
          "model_name": "DescriptionStyleModel",
          "model_module_version": "1.5.0",
          "state": {
            "_model_module": "@jupyter-widgets/controls",
            "_model_module_version": "1.5.0",
            "_model_name": "DescriptionStyleModel",
            "_view_count": null,
            "_view_module": "@jupyter-widgets/base",
            "_view_module_version": "1.2.0",
            "_view_name": "StyleView",
            "description_width": ""
          }
        },
        "e276d6809a914e08a5526bf86180b79d": {
          "model_module": "@jupyter-widgets/controls",
          "model_name": "HBoxModel",
          "model_module_version": "1.5.0",
          "state": {
            "_dom_classes": [],
            "_model_module": "@jupyter-widgets/controls",
            "_model_module_version": "1.5.0",
            "_model_name": "HBoxModel",
            "_view_count": null,
            "_view_module": "@jupyter-widgets/controls",
            "_view_module_version": "1.5.0",
            "_view_name": "HBoxView",
            "box_style": "",
            "children": [
              "IPY_MODEL_7d15dd99d9d24edcb9bb90d4537f7c6b",
              "IPY_MODEL_dbd6b4b0adba4b8ab1eca07ea016b774",
              "IPY_MODEL_5b2551ef26e5461890b1baaa4cebc179"
            ],
            "layout": "IPY_MODEL_4f699336f8654e7b906984354fe88770"
          }
        },
        "7d15dd99d9d24edcb9bb90d4537f7c6b": {
          "model_module": "@jupyter-widgets/controls",
          "model_name": "HTMLModel",
          "model_module_version": "1.5.0",
          "state": {
            "_dom_classes": [],
            "_model_module": "@jupyter-widgets/controls",
            "_model_module_version": "1.5.0",
            "_model_name": "HTMLModel",
            "_view_count": null,
            "_view_module": "@jupyter-widgets/controls",
            "_view_module_version": "1.5.0",
            "_view_name": "HTMLView",
            "description": "",
            "description_tooltip": null,
            "layout": "IPY_MODEL_848a234615e94e16ba44e70f72c192c7",
            "placeholder": "​",
            "style": "IPY_MODEL_3b46098fe881433588358aa0949ac346",
            "value": "100%"
          }
        },
        "dbd6b4b0adba4b8ab1eca07ea016b774": {
          "model_module": "@jupyter-widgets/controls",
          "model_name": "FloatProgressModel",
          "model_module_version": "1.5.0",
          "state": {
            "_dom_classes": [],
            "_model_module": "@jupyter-widgets/controls",
            "_model_module_version": "1.5.0",
            "_model_name": "FloatProgressModel",
            "_view_count": null,
            "_view_module": "@jupyter-widgets/controls",
            "_view_module_version": "1.5.0",
            "_view_name": "ProgressView",
            "bar_style": "success",
            "description": "",
            "description_tooltip": null,
            "layout": "IPY_MODEL_8850586452d947c4956bbddbd13c823e",
            "max": 1,
            "min": 0,
            "orientation": "horizontal",
            "style": "IPY_MODEL_b768a1076fc74bec9bc011190058b7b0",
            "value": 1
          }
        },
        "5b2551ef26e5461890b1baaa4cebc179": {
          "model_module": "@jupyter-widgets/controls",
          "model_name": "HTMLModel",
          "model_module_version": "1.5.0",
          "state": {
            "_dom_classes": [],
            "_model_module": "@jupyter-widgets/controls",
            "_model_module_version": "1.5.0",
            "_model_name": "HTMLModel",
            "_view_count": null,
            "_view_module": "@jupyter-widgets/controls",
            "_view_module_version": "1.5.0",
            "_view_name": "HTMLView",
            "description": "",
            "description_tooltip": null,
            "layout": "IPY_MODEL_e458d6a258c74b0c8e7837f291db4b6b",
            "placeholder": "​",
            "style": "IPY_MODEL_e40b0bab2aba477488a4c6d4b641e393",
            "value": " 1/1 [1:15:03&lt;00:00, 18.13s/it]"
          }
        },
        "4f699336f8654e7b906984354fe88770": {
          "model_module": "@jupyter-widgets/base",
          "model_name": "LayoutModel",
          "model_module_version": "1.2.0",
          "state": {
            "_model_module": "@jupyter-widgets/base",
            "_model_module_version": "1.2.0",
            "_model_name": "LayoutModel",
            "_view_count": null,
            "_view_module": "@jupyter-widgets/base",
            "_view_module_version": "1.2.0",
            "_view_name": "LayoutView",
            "align_content": null,
            "align_items": null,
            "align_self": null,
            "border": null,
            "bottom": null,
            "display": null,
            "flex": null,
            "flex_flow": null,
            "grid_area": null,
            "grid_auto_columns": null,
            "grid_auto_flow": null,
            "grid_auto_rows": null,
            "grid_column": null,
            "grid_gap": null,
            "grid_row": null,
            "grid_template_areas": null,
            "grid_template_columns": null,
            "grid_template_rows": null,
            "height": null,
            "justify_content": null,
            "justify_items": null,
            "left": null,
            "margin": null,
            "max_height": null,
            "max_width": null,
            "min_height": null,
            "min_width": null,
            "object_fit": null,
            "object_position": null,
            "order": null,
            "overflow": null,
            "overflow_x": null,
            "overflow_y": null,
            "padding": null,
            "right": null,
            "top": null,
            "visibility": null,
            "width": null
          }
        },
        "848a234615e94e16ba44e70f72c192c7": {
          "model_module": "@jupyter-widgets/base",
          "model_name": "LayoutModel",
          "model_module_version": "1.2.0",
          "state": {
            "_model_module": "@jupyter-widgets/base",
            "_model_module_version": "1.2.0",
            "_model_name": "LayoutModel",
            "_view_count": null,
            "_view_module": "@jupyter-widgets/base",
            "_view_module_version": "1.2.0",
            "_view_name": "LayoutView",
            "align_content": null,
            "align_items": null,
            "align_self": null,
            "border": null,
            "bottom": null,
            "display": null,
            "flex": null,
            "flex_flow": null,
            "grid_area": null,
            "grid_auto_columns": null,
            "grid_auto_flow": null,
            "grid_auto_rows": null,
            "grid_column": null,
            "grid_gap": null,
            "grid_row": null,
            "grid_template_areas": null,
            "grid_template_columns": null,
            "grid_template_rows": null,
            "height": null,
            "justify_content": null,
            "justify_items": null,
            "left": null,
            "margin": null,
            "max_height": null,
            "max_width": null,
            "min_height": null,
            "min_width": null,
            "object_fit": null,
            "object_position": null,
            "order": null,
            "overflow": null,
            "overflow_x": null,
            "overflow_y": null,
            "padding": null,
            "right": null,
            "top": null,
            "visibility": null,
            "width": null
          }
        },
        "3b46098fe881433588358aa0949ac346": {
          "model_module": "@jupyter-widgets/controls",
          "model_name": "DescriptionStyleModel",
          "model_module_version": "1.5.0",
          "state": {
            "_model_module": "@jupyter-widgets/controls",
            "_model_module_version": "1.5.0",
            "_model_name": "DescriptionStyleModel",
            "_view_count": null,
            "_view_module": "@jupyter-widgets/base",
            "_view_module_version": "1.2.0",
            "_view_name": "StyleView",
            "description_width": ""
          }
        },
        "8850586452d947c4956bbddbd13c823e": {
          "model_module": "@jupyter-widgets/base",
          "model_name": "LayoutModel",
          "model_module_version": "1.2.0",
          "state": {
            "_model_module": "@jupyter-widgets/base",
            "_model_module_version": "1.2.0",
            "_model_name": "LayoutModel",
            "_view_count": null,
            "_view_module": "@jupyter-widgets/base",
            "_view_module_version": "1.2.0",
            "_view_name": "LayoutView",
            "align_content": null,
            "align_items": null,
            "align_self": null,
            "border": null,
            "bottom": null,
            "display": null,
            "flex": null,
            "flex_flow": null,
            "grid_area": null,
            "grid_auto_columns": null,
            "grid_auto_flow": null,
            "grid_auto_rows": null,
            "grid_column": null,
            "grid_gap": null,
            "grid_row": null,
            "grid_template_areas": null,
            "grid_template_columns": null,
            "grid_template_rows": null,
            "height": null,
            "justify_content": null,
            "justify_items": null,
            "left": null,
            "margin": null,
            "max_height": null,
            "max_width": null,
            "min_height": null,
            "min_width": null,
            "object_fit": null,
            "object_position": null,
            "order": null,
            "overflow": null,
            "overflow_x": null,
            "overflow_y": null,
            "padding": null,
            "right": null,
            "top": null,
            "visibility": null,
            "width": null
          }
        },
        "b768a1076fc74bec9bc011190058b7b0": {
          "model_module": "@jupyter-widgets/controls",
          "model_name": "ProgressStyleModel",
          "model_module_version": "1.5.0",
          "state": {
            "_model_module": "@jupyter-widgets/controls",
            "_model_module_version": "1.5.0",
            "_model_name": "ProgressStyleModel",
            "_view_count": null,
            "_view_module": "@jupyter-widgets/base",
            "_view_module_version": "1.2.0",
            "_view_name": "StyleView",
            "bar_color": null,
            "description_width": ""
          }
        },
        "e458d6a258c74b0c8e7837f291db4b6b": {
          "model_module": "@jupyter-widgets/base",
          "model_name": "LayoutModel",
          "model_module_version": "1.2.0",
          "state": {
            "_model_module": "@jupyter-widgets/base",
            "_model_module_version": "1.2.0",
            "_model_name": "LayoutModel",
            "_view_count": null,
            "_view_module": "@jupyter-widgets/base",
            "_view_module_version": "1.2.0",
            "_view_name": "LayoutView",
            "align_content": null,
            "align_items": null,
            "align_self": null,
            "border": null,
            "bottom": null,
            "display": null,
            "flex": null,
            "flex_flow": null,
            "grid_area": null,
            "grid_auto_columns": null,
            "grid_auto_flow": null,
            "grid_auto_rows": null,
            "grid_column": null,
            "grid_gap": null,
            "grid_row": null,
            "grid_template_areas": null,
            "grid_template_columns": null,
            "grid_template_rows": null,
            "height": null,
            "justify_content": null,
            "justify_items": null,
            "left": null,
            "margin": null,
            "max_height": null,
            "max_width": null,
            "min_height": null,
            "min_width": null,
            "object_fit": null,
            "object_position": null,
            "order": null,
            "overflow": null,
            "overflow_x": null,
            "overflow_y": null,
            "padding": null,
            "right": null,
            "top": null,
            "visibility": null,
            "width": null
          }
        },
        "e40b0bab2aba477488a4c6d4b641e393": {
          "model_module": "@jupyter-widgets/controls",
          "model_name": "DescriptionStyleModel",
          "model_module_version": "1.5.0",
          "state": {
            "_model_module": "@jupyter-widgets/controls",
            "_model_module_version": "1.5.0",
            "_model_name": "DescriptionStyleModel",
            "_view_count": null,
            "_view_module": "@jupyter-widgets/base",
            "_view_module_version": "1.2.0",
            "_view_name": "StyleView",
            "description_width": ""
          }
        },
        "e1c6c304514f4370bda8afe01b7419ed": {
          "model_module": "@jupyter-widgets/controls",
          "model_name": "HBoxModel",
          "model_module_version": "1.5.0",
          "state": {
            "_dom_classes": [],
            "_model_module": "@jupyter-widgets/controls",
            "_model_module_version": "1.5.0",
            "_model_name": "HBoxModel",
            "_view_count": null,
            "_view_module": "@jupyter-widgets/controls",
            "_view_module_version": "1.5.0",
            "_view_name": "HBoxView",
            "box_style": "",
            "children": [
              "IPY_MODEL_d269d5e5dfc14333a50658b172d83b7e",
              "IPY_MODEL_444109b698d54ae680019f758ed7c3ef",
              "IPY_MODEL_3e540ab5dd0842be89c1e4a769155930"
            ],
            "layout": "IPY_MODEL_9af7828e46a74b38955a7160bdb459bb"
          }
        },
        "d269d5e5dfc14333a50658b172d83b7e": {
          "model_module": "@jupyter-widgets/controls",
          "model_name": "HTMLModel",
          "model_module_version": "1.5.0",
          "state": {
            "_dom_classes": [],
            "_model_module": "@jupyter-widgets/controls",
            "_model_module_version": "1.5.0",
            "_model_name": "HTMLModel",
            "_view_count": null,
            "_view_module": "@jupyter-widgets/controls",
            "_view_module_version": "1.5.0",
            "_view_name": "HTMLView",
            "description": "",
            "description_tooltip": null,
            "layout": "IPY_MODEL_4c13e630783c49c8859b4ba097e72160",
            "placeholder": "​",
            "style": "IPY_MODEL_3af296682ab0493195213684104c656f",
            "value": "100%"
          }
        },
        "444109b698d54ae680019f758ed7c3ef": {
          "model_module": "@jupyter-widgets/controls",
          "model_name": "FloatProgressModel",
          "model_module_version": "1.5.0",
          "state": {
            "_dom_classes": [],
            "_model_module": "@jupyter-widgets/controls",
            "_model_module_version": "1.5.0",
            "_model_name": "FloatProgressModel",
            "_view_count": null,
            "_view_module": "@jupyter-widgets/controls",
            "_view_module_version": "1.5.0",
            "_view_name": "ProgressView",
            "bar_style": "success",
            "description": "",
            "description_tooltip": null,
            "layout": "IPY_MODEL_021b1c39271549048d89ec1d81cacb38",
            "max": 1,
            "min": 0,
            "orientation": "horizontal",
            "style": "IPY_MODEL_96f89b38937b4d77a592a0f48ec6c5de",
            "value": 1
          }
        },
        "3e540ab5dd0842be89c1e4a769155930": {
          "model_module": "@jupyter-widgets/controls",
          "model_name": "HTMLModel",
          "model_module_version": "1.5.0",
          "state": {
            "_dom_classes": [],
            "_model_module": "@jupyter-widgets/controls",
            "_model_module_version": "1.5.0",
            "_model_name": "HTMLModel",
            "_view_count": null,
            "_view_module": "@jupyter-widgets/controls",
            "_view_module_version": "1.5.0",
            "_view_name": "HTMLView",
            "description": "",
            "description_tooltip": null,
            "layout": "IPY_MODEL_5187f1c51aa24d9cae28a16624d3ab07",
            "placeholder": "​",
            "style": "IPY_MODEL_b544a8475c3e444b82888e3129585bd7",
            "value": " 1/1 [08:19&lt;00:00, 14.95s/it]"
          }
        },
        "9af7828e46a74b38955a7160bdb459bb": {
          "model_module": "@jupyter-widgets/base",
          "model_name": "LayoutModel",
          "model_module_version": "1.2.0",
          "state": {
            "_model_module": "@jupyter-widgets/base",
            "_model_module_version": "1.2.0",
            "_model_name": "LayoutModel",
            "_view_count": null,
            "_view_module": "@jupyter-widgets/base",
            "_view_module_version": "1.2.0",
            "_view_name": "LayoutView",
            "align_content": null,
            "align_items": null,
            "align_self": null,
            "border": null,
            "bottom": null,
            "display": null,
            "flex": null,
            "flex_flow": null,
            "grid_area": null,
            "grid_auto_columns": null,
            "grid_auto_flow": null,
            "grid_auto_rows": null,
            "grid_column": null,
            "grid_gap": null,
            "grid_row": null,
            "grid_template_areas": null,
            "grid_template_columns": null,
            "grid_template_rows": null,
            "height": null,
            "justify_content": null,
            "justify_items": null,
            "left": null,
            "margin": null,
            "max_height": null,
            "max_width": null,
            "min_height": null,
            "min_width": null,
            "object_fit": null,
            "object_position": null,
            "order": null,
            "overflow": null,
            "overflow_x": null,
            "overflow_y": null,
            "padding": null,
            "right": null,
            "top": null,
            "visibility": null,
            "width": null
          }
        },
        "4c13e630783c49c8859b4ba097e72160": {
          "model_module": "@jupyter-widgets/base",
          "model_name": "LayoutModel",
          "model_module_version": "1.2.0",
          "state": {
            "_model_module": "@jupyter-widgets/base",
            "_model_module_version": "1.2.0",
            "_model_name": "LayoutModel",
            "_view_count": null,
            "_view_module": "@jupyter-widgets/base",
            "_view_module_version": "1.2.0",
            "_view_name": "LayoutView",
            "align_content": null,
            "align_items": null,
            "align_self": null,
            "border": null,
            "bottom": null,
            "display": null,
            "flex": null,
            "flex_flow": null,
            "grid_area": null,
            "grid_auto_columns": null,
            "grid_auto_flow": null,
            "grid_auto_rows": null,
            "grid_column": null,
            "grid_gap": null,
            "grid_row": null,
            "grid_template_areas": null,
            "grid_template_columns": null,
            "grid_template_rows": null,
            "height": null,
            "justify_content": null,
            "justify_items": null,
            "left": null,
            "margin": null,
            "max_height": null,
            "max_width": null,
            "min_height": null,
            "min_width": null,
            "object_fit": null,
            "object_position": null,
            "order": null,
            "overflow": null,
            "overflow_x": null,
            "overflow_y": null,
            "padding": null,
            "right": null,
            "top": null,
            "visibility": null,
            "width": null
          }
        },
        "3af296682ab0493195213684104c656f": {
          "model_module": "@jupyter-widgets/controls",
          "model_name": "DescriptionStyleModel",
          "model_module_version": "1.5.0",
          "state": {
            "_model_module": "@jupyter-widgets/controls",
            "_model_module_version": "1.5.0",
            "_model_name": "DescriptionStyleModel",
            "_view_count": null,
            "_view_module": "@jupyter-widgets/base",
            "_view_module_version": "1.2.0",
            "_view_name": "StyleView",
            "description_width": ""
          }
        },
        "021b1c39271549048d89ec1d81cacb38": {
          "model_module": "@jupyter-widgets/base",
          "model_name": "LayoutModel",
          "model_module_version": "1.2.0",
          "state": {
            "_model_module": "@jupyter-widgets/base",
            "_model_module_version": "1.2.0",
            "_model_name": "LayoutModel",
            "_view_count": null,
            "_view_module": "@jupyter-widgets/base",
            "_view_module_version": "1.2.0",
            "_view_name": "LayoutView",
            "align_content": null,
            "align_items": null,
            "align_self": null,
            "border": null,
            "bottom": null,
            "display": null,
            "flex": null,
            "flex_flow": null,
            "grid_area": null,
            "grid_auto_columns": null,
            "grid_auto_flow": null,
            "grid_auto_rows": null,
            "grid_column": null,
            "grid_gap": null,
            "grid_row": null,
            "grid_template_areas": null,
            "grid_template_columns": null,
            "grid_template_rows": null,
            "height": null,
            "justify_content": null,
            "justify_items": null,
            "left": null,
            "margin": null,
            "max_height": null,
            "max_width": null,
            "min_height": null,
            "min_width": null,
            "object_fit": null,
            "object_position": null,
            "order": null,
            "overflow": null,
            "overflow_x": null,
            "overflow_y": null,
            "padding": null,
            "right": null,
            "top": null,
            "visibility": null,
            "width": null
          }
        },
        "96f89b38937b4d77a592a0f48ec6c5de": {
          "model_module": "@jupyter-widgets/controls",
          "model_name": "ProgressStyleModel",
          "model_module_version": "1.5.0",
          "state": {
            "_model_module": "@jupyter-widgets/controls",
            "_model_module_version": "1.5.0",
            "_model_name": "ProgressStyleModel",
            "_view_count": null,
            "_view_module": "@jupyter-widgets/base",
            "_view_module_version": "1.2.0",
            "_view_name": "StyleView",
            "bar_color": null,
            "description_width": ""
          }
        },
        "5187f1c51aa24d9cae28a16624d3ab07": {
          "model_module": "@jupyter-widgets/base",
          "model_name": "LayoutModel",
          "model_module_version": "1.2.0",
          "state": {
            "_model_module": "@jupyter-widgets/base",
            "_model_module_version": "1.2.0",
            "_model_name": "LayoutModel",
            "_view_count": null,
            "_view_module": "@jupyter-widgets/base",
            "_view_module_version": "1.2.0",
            "_view_name": "LayoutView",
            "align_content": null,
            "align_items": null,
            "align_self": null,
            "border": null,
            "bottom": null,
            "display": null,
            "flex": null,
            "flex_flow": null,
            "grid_area": null,
            "grid_auto_columns": null,
            "grid_auto_flow": null,
            "grid_auto_rows": null,
            "grid_column": null,
            "grid_gap": null,
            "grid_row": null,
            "grid_template_areas": null,
            "grid_template_columns": null,
            "grid_template_rows": null,
            "height": null,
            "justify_content": null,
            "justify_items": null,
            "left": null,
            "margin": null,
            "max_height": null,
            "max_width": null,
            "min_height": null,
            "min_width": null,
            "object_fit": null,
            "object_position": null,
            "order": null,
            "overflow": null,
            "overflow_x": null,
            "overflow_y": null,
            "padding": null,
            "right": null,
            "top": null,
            "visibility": null,
            "width": null
          }
        },
        "b544a8475c3e444b82888e3129585bd7": {
          "model_module": "@jupyter-widgets/controls",
          "model_name": "DescriptionStyleModel",
          "model_module_version": "1.5.0",
          "state": {
            "_model_module": "@jupyter-widgets/controls",
            "_model_module_version": "1.5.0",
            "_model_name": "DescriptionStyleModel",
            "_view_count": null,
            "_view_module": "@jupyter-widgets/base",
            "_view_module_version": "1.2.0",
            "_view_name": "StyleView",
            "description_width": ""
          }
        },
        "7653839d9f5e42f6b0c282d50b0479ed": {
          "model_module": "@jupyter-widgets/controls",
          "model_name": "HBoxModel",
          "model_module_version": "1.5.0",
          "state": {
            "_dom_classes": [],
            "_model_module": "@jupyter-widgets/controls",
            "_model_module_version": "1.5.0",
            "_model_name": "HBoxModel",
            "_view_count": null,
            "_view_module": "@jupyter-widgets/controls",
            "_view_module_version": "1.5.0",
            "_view_name": "HBoxView",
            "box_style": "",
            "children": [
              "IPY_MODEL_0a8f5901d1364326bc6e0c1cb29ceaf2",
              "IPY_MODEL_bec79a26410a4db18d67e5f3fc61ec66",
              "IPY_MODEL_668cc753e41c4086b04f43eccceb6231"
            ],
            "layout": "IPY_MODEL_ac8c3954ec564ccb96852bdb69aa9792"
          }
        },
        "0a8f5901d1364326bc6e0c1cb29ceaf2": {
          "model_module": "@jupyter-widgets/controls",
          "model_name": "HTMLModel",
          "model_module_version": "1.5.0",
          "state": {
            "_dom_classes": [],
            "_model_module": "@jupyter-widgets/controls",
            "_model_module_version": "1.5.0",
            "_model_name": "HTMLModel",
            "_view_count": null,
            "_view_module": "@jupyter-widgets/controls",
            "_view_module_version": "1.5.0",
            "_view_name": "HTMLView",
            "description": "",
            "description_tooltip": null,
            "layout": "IPY_MODEL_68b3f8121a924349bb21cae67d5e501b",
            "placeholder": "​",
            "style": "IPY_MODEL_e3fd1f3a3a0a4b4c8cb77163f130c3b1",
            "value": "100%"
          }
        },
        "bec79a26410a4db18d67e5f3fc61ec66": {
          "model_module": "@jupyter-widgets/controls",
          "model_name": "FloatProgressModel",
          "model_module_version": "1.5.0",
          "state": {
            "_dom_classes": [],
            "_model_module": "@jupyter-widgets/controls",
            "_model_module_version": "1.5.0",
            "_model_name": "FloatProgressModel",
            "_view_count": null,
            "_view_module": "@jupyter-widgets/controls",
            "_view_module_version": "1.5.0",
            "_view_name": "ProgressView",
            "bar_style": "success",
            "description": "",
            "description_tooltip": null,
            "layout": "IPY_MODEL_9d95db190fb34452b2039a60a429524e",
            "max": 1,
            "min": 0,
            "orientation": "horizontal",
            "style": "IPY_MODEL_fde1164429b54230a25a935602d6ad9e",
            "value": 1
          }
        },
        "668cc753e41c4086b04f43eccceb6231": {
          "model_module": "@jupyter-widgets/controls",
          "model_name": "HTMLModel",
          "model_module_version": "1.5.0",
          "state": {
            "_dom_classes": [],
            "_model_module": "@jupyter-widgets/controls",
            "_model_module_version": "1.5.0",
            "_model_name": "HTMLModel",
            "_view_count": null,
            "_view_module": "@jupyter-widgets/controls",
            "_view_module_version": "1.5.0",
            "_view_name": "HTMLView",
            "description": "",
            "description_tooltip": null,
            "layout": "IPY_MODEL_558abc5a47b04ba6a667b957d5fbcc36",
            "placeholder": "​",
            "style": "IPY_MODEL_500c9e4089b04783a5add82bf5d69958",
            "value": " 1/1 [05:50&lt;00:00, 23.60s/it]"
          }
        },
        "ac8c3954ec564ccb96852bdb69aa9792": {
          "model_module": "@jupyter-widgets/base",
          "model_name": "LayoutModel",
          "model_module_version": "1.2.0",
          "state": {
            "_model_module": "@jupyter-widgets/base",
            "_model_module_version": "1.2.0",
            "_model_name": "LayoutModel",
            "_view_count": null,
            "_view_module": "@jupyter-widgets/base",
            "_view_module_version": "1.2.0",
            "_view_name": "LayoutView",
            "align_content": null,
            "align_items": null,
            "align_self": null,
            "border": null,
            "bottom": null,
            "display": null,
            "flex": null,
            "flex_flow": null,
            "grid_area": null,
            "grid_auto_columns": null,
            "grid_auto_flow": null,
            "grid_auto_rows": null,
            "grid_column": null,
            "grid_gap": null,
            "grid_row": null,
            "grid_template_areas": null,
            "grid_template_columns": null,
            "grid_template_rows": null,
            "height": null,
            "justify_content": null,
            "justify_items": null,
            "left": null,
            "margin": null,
            "max_height": null,
            "max_width": null,
            "min_height": null,
            "min_width": null,
            "object_fit": null,
            "object_position": null,
            "order": null,
            "overflow": null,
            "overflow_x": null,
            "overflow_y": null,
            "padding": null,
            "right": null,
            "top": null,
            "visibility": null,
            "width": null
          }
        },
        "68b3f8121a924349bb21cae67d5e501b": {
          "model_module": "@jupyter-widgets/base",
          "model_name": "LayoutModel",
          "model_module_version": "1.2.0",
          "state": {
            "_model_module": "@jupyter-widgets/base",
            "_model_module_version": "1.2.0",
            "_model_name": "LayoutModel",
            "_view_count": null,
            "_view_module": "@jupyter-widgets/base",
            "_view_module_version": "1.2.0",
            "_view_name": "LayoutView",
            "align_content": null,
            "align_items": null,
            "align_self": null,
            "border": null,
            "bottom": null,
            "display": null,
            "flex": null,
            "flex_flow": null,
            "grid_area": null,
            "grid_auto_columns": null,
            "grid_auto_flow": null,
            "grid_auto_rows": null,
            "grid_column": null,
            "grid_gap": null,
            "grid_row": null,
            "grid_template_areas": null,
            "grid_template_columns": null,
            "grid_template_rows": null,
            "height": null,
            "justify_content": null,
            "justify_items": null,
            "left": null,
            "margin": null,
            "max_height": null,
            "max_width": null,
            "min_height": null,
            "min_width": null,
            "object_fit": null,
            "object_position": null,
            "order": null,
            "overflow": null,
            "overflow_x": null,
            "overflow_y": null,
            "padding": null,
            "right": null,
            "top": null,
            "visibility": null,
            "width": null
          }
        },
        "e3fd1f3a3a0a4b4c8cb77163f130c3b1": {
          "model_module": "@jupyter-widgets/controls",
          "model_name": "DescriptionStyleModel",
          "model_module_version": "1.5.0",
          "state": {
            "_model_module": "@jupyter-widgets/controls",
            "_model_module_version": "1.5.0",
            "_model_name": "DescriptionStyleModel",
            "_view_count": null,
            "_view_module": "@jupyter-widgets/base",
            "_view_module_version": "1.2.0",
            "_view_name": "StyleView",
            "description_width": ""
          }
        },
        "9d95db190fb34452b2039a60a429524e": {
          "model_module": "@jupyter-widgets/base",
          "model_name": "LayoutModel",
          "model_module_version": "1.2.0",
          "state": {
            "_model_module": "@jupyter-widgets/base",
            "_model_module_version": "1.2.0",
            "_model_name": "LayoutModel",
            "_view_count": null,
            "_view_module": "@jupyter-widgets/base",
            "_view_module_version": "1.2.0",
            "_view_name": "LayoutView",
            "align_content": null,
            "align_items": null,
            "align_self": null,
            "border": null,
            "bottom": null,
            "display": null,
            "flex": null,
            "flex_flow": null,
            "grid_area": null,
            "grid_auto_columns": null,
            "grid_auto_flow": null,
            "grid_auto_rows": null,
            "grid_column": null,
            "grid_gap": null,
            "grid_row": null,
            "grid_template_areas": null,
            "grid_template_columns": null,
            "grid_template_rows": null,
            "height": null,
            "justify_content": null,
            "justify_items": null,
            "left": null,
            "margin": null,
            "max_height": null,
            "max_width": null,
            "min_height": null,
            "min_width": null,
            "object_fit": null,
            "object_position": null,
            "order": null,
            "overflow": null,
            "overflow_x": null,
            "overflow_y": null,
            "padding": null,
            "right": null,
            "top": null,
            "visibility": null,
            "width": null
          }
        },
        "fde1164429b54230a25a935602d6ad9e": {
          "model_module": "@jupyter-widgets/controls",
          "model_name": "ProgressStyleModel",
          "model_module_version": "1.5.0",
          "state": {
            "_model_module": "@jupyter-widgets/controls",
            "_model_module_version": "1.5.0",
            "_model_name": "ProgressStyleModel",
            "_view_count": null,
            "_view_module": "@jupyter-widgets/base",
            "_view_module_version": "1.2.0",
            "_view_name": "StyleView",
            "bar_color": null,
            "description_width": ""
          }
        },
        "558abc5a47b04ba6a667b957d5fbcc36": {
          "model_module": "@jupyter-widgets/base",
          "model_name": "LayoutModel",
          "model_module_version": "1.2.0",
          "state": {
            "_model_module": "@jupyter-widgets/base",
            "_model_module_version": "1.2.0",
            "_model_name": "LayoutModel",
            "_view_count": null,
            "_view_module": "@jupyter-widgets/base",
            "_view_module_version": "1.2.0",
            "_view_name": "LayoutView",
            "align_content": null,
            "align_items": null,
            "align_self": null,
            "border": null,
            "bottom": null,
            "display": null,
            "flex": null,
            "flex_flow": null,
            "grid_area": null,
            "grid_auto_columns": null,
            "grid_auto_flow": null,
            "grid_auto_rows": null,
            "grid_column": null,
            "grid_gap": null,
            "grid_row": null,
            "grid_template_areas": null,
            "grid_template_columns": null,
            "grid_template_rows": null,
            "height": null,
            "justify_content": null,
            "justify_items": null,
            "left": null,
            "margin": null,
            "max_height": null,
            "max_width": null,
            "min_height": null,
            "min_width": null,
            "object_fit": null,
            "object_position": null,
            "order": null,
            "overflow": null,
            "overflow_x": null,
            "overflow_y": null,
            "padding": null,
            "right": null,
            "top": null,
            "visibility": null,
            "width": null
          }
        },
        "500c9e4089b04783a5add82bf5d69958": {
          "model_module": "@jupyter-widgets/controls",
          "model_name": "DescriptionStyleModel",
          "model_module_version": "1.5.0",
          "state": {
            "_model_module": "@jupyter-widgets/controls",
            "_model_module_version": "1.5.0",
            "_model_name": "DescriptionStyleModel",
            "_view_count": null,
            "_view_module": "@jupyter-widgets/base",
            "_view_module_version": "1.2.0",
            "_view_name": "StyleView",
            "description_width": ""
          }
        },
        "f1688fbb0cd74b7dac0a60459c8d932c": {
          "model_module": "@jupyter-widgets/controls",
          "model_name": "HBoxModel",
          "model_module_version": "1.5.0",
          "state": {
            "_dom_classes": [],
            "_model_module": "@jupyter-widgets/controls",
            "_model_module_version": "1.5.0",
            "_model_name": "HBoxModel",
            "_view_count": null,
            "_view_module": "@jupyter-widgets/controls",
            "_view_module_version": "1.5.0",
            "_view_name": "HBoxView",
            "box_style": "",
            "children": [
              "IPY_MODEL_094fa0bfae514b48a684dae6b3e002a7",
              "IPY_MODEL_1ecee499b0654b00b707fa7bb83fa0ea",
              "IPY_MODEL_be21fbdd7be14e3e9abf6edce4edc091"
            ],
            "layout": "IPY_MODEL_837d1ada294248d1bb464d0691f805eb"
          }
        },
        "094fa0bfae514b48a684dae6b3e002a7": {
          "model_module": "@jupyter-widgets/controls",
          "model_name": "HTMLModel",
          "model_module_version": "1.5.0",
          "state": {
            "_dom_classes": [],
            "_model_module": "@jupyter-widgets/controls",
            "_model_module_version": "1.5.0",
            "_model_name": "HTMLModel",
            "_view_count": null,
            "_view_module": "@jupyter-widgets/controls",
            "_view_module_version": "1.5.0",
            "_view_name": "HTMLView",
            "description": "",
            "description_tooltip": null,
            "layout": "IPY_MODEL_f947e5bcd8af4f1da5c9b7290fd4620b",
            "placeholder": "​",
            "style": "IPY_MODEL_78f54503afb04a25bd58b77641cb0a7f",
            "value": "100%"
          }
        },
        "1ecee499b0654b00b707fa7bb83fa0ea": {
          "model_module": "@jupyter-widgets/controls",
          "model_name": "FloatProgressModel",
          "model_module_version": "1.5.0",
          "state": {
            "_dom_classes": [],
            "_model_module": "@jupyter-widgets/controls",
            "_model_module_version": "1.5.0",
            "_model_name": "FloatProgressModel",
            "_view_count": null,
            "_view_module": "@jupyter-widgets/controls",
            "_view_module_version": "1.5.0",
            "_view_name": "ProgressView",
            "bar_style": "success",
            "description": "",
            "description_tooltip": null,
            "layout": "IPY_MODEL_78168060ab0b4488b6722f9252de2ee9",
            "max": 1,
            "min": 0,
            "orientation": "horizontal",
            "style": "IPY_MODEL_be3d3ead939e423b8ca9d0e2922c0725",
            "value": 1
          }
        },
        "be21fbdd7be14e3e9abf6edce4edc091": {
          "model_module": "@jupyter-widgets/controls",
          "model_name": "HTMLModel",
          "model_module_version": "1.5.0",
          "state": {
            "_dom_classes": [],
            "_model_module": "@jupyter-widgets/controls",
            "_model_module_version": "1.5.0",
            "_model_name": "HTMLModel",
            "_view_count": null,
            "_view_module": "@jupyter-widgets/controls",
            "_view_module_version": "1.5.0",
            "_view_name": "HTMLView",
            "description": "",
            "description_tooltip": null,
            "layout": "IPY_MODEL_67aee35f2d5640e58e20fd61edebefc0",
            "placeholder": "​",
            "style": "IPY_MODEL_3cf723fa276a40499a6ab1d19b507052",
            "value": " 1/1 [01:39&lt;00:00, 12.47s/it]"
          }
        },
        "837d1ada294248d1bb464d0691f805eb": {
          "model_module": "@jupyter-widgets/base",
          "model_name": "LayoutModel",
          "model_module_version": "1.2.0",
          "state": {
            "_model_module": "@jupyter-widgets/base",
            "_model_module_version": "1.2.0",
            "_model_name": "LayoutModel",
            "_view_count": null,
            "_view_module": "@jupyter-widgets/base",
            "_view_module_version": "1.2.0",
            "_view_name": "LayoutView",
            "align_content": null,
            "align_items": null,
            "align_self": null,
            "border": null,
            "bottom": null,
            "display": null,
            "flex": null,
            "flex_flow": null,
            "grid_area": null,
            "grid_auto_columns": null,
            "grid_auto_flow": null,
            "grid_auto_rows": null,
            "grid_column": null,
            "grid_gap": null,
            "grid_row": null,
            "grid_template_areas": null,
            "grid_template_columns": null,
            "grid_template_rows": null,
            "height": null,
            "justify_content": null,
            "justify_items": null,
            "left": null,
            "margin": null,
            "max_height": null,
            "max_width": null,
            "min_height": null,
            "min_width": null,
            "object_fit": null,
            "object_position": null,
            "order": null,
            "overflow": null,
            "overflow_x": null,
            "overflow_y": null,
            "padding": null,
            "right": null,
            "top": null,
            "visibility": null,
            "width": null
          }
        },
        "f947e5bcd8af4f1da5c9b7290fd4620b": {
          "model_module": "@jupyter-widgets/base",
          "model_name": "LayoutModel",
          "model_module_version": "1.2.0",
          "state": {
            "_model_module": "@jupyter-widgets/base",
            "_model_module_version": "1.2.0",
            "_model_name": "LayoutModel",
            "_view_count": null,
            "_view_module": "@jupyter-widgets/base",
            "_view_module_version": "1.2.0",
            "_view_name": "LayoutView",
            "align_content": null,
            "align_items": null,
            "align_self": null,
            "border": null,
            "bottom": null,
            "display": null,
            "flex": null,
            "flex_flow": null,
            "grid_area": null,
            "grid_auto_columns": null,
            "grid_auto_flow": null,
            "grid_auto_rows": null,
            "grid_column": null,
            "grid_gap": null,
            "grid_row": null,
            "grid_template_areas": null,
            "grid_template_columns": null,
            "grid_template_rows": null,
            "height": null,
            "justify_content": null,
            "justify_items": null,
            "left": null,
            "margin": null,
            "max_height": null,
            "max_width": null,
            "min_height": null,
            "min_width": null,
            "object_fit": null,
            "object_position": null,
            "order": null,
            "overflow": null,
            "overflow_x": null,
            "overflow_y": null,
            "padding": null,
            "right": null,
            "top": null,
            "visibility": null,
            "width": null
          }
        },
        "78f54503afb04a25bd58b77641cb0a7f": {
          "model_module": "@jupyter-widgets/controls",
          "model_name": "DescriptionStyleModel",
          "model_module_version": "1.5.0",
          "state": {
            "_model_module": "@jupyter-widgets/controls",
            "_model_module_version": "1.5.0",
            "_model_name": "DescriptionStyleModel",
            "_view_count": null,
            "_view_module": "@jupyter-widgets/base",
            "_view_module_version": "1.2.0",
            "_view_name": "StyleView",
            "description_width": ""
          }
        },
        "78168060ab0b4488b6722f9252de2ee9": {
          "model_module": "@jupyter-widgets/base",
          "model_name": "LayoutModel",
          "model_module_version": "1.2.0",
          "state": {
            "_model_module": "@jupyter-widgets/base",
            "_model_module_version": "1.2.0",
            "_model_name": "LayoutModel",
            "_view_count": null,
            "_view_module": "@jupyter-widgets/base",
            "_view_module_version": "1.2.0",
            "_view_name": "LayoutView",
            "align_content": null,
            "align_items": null,
            "align_self": null,
            "border": null,
            "bottom": null,
            "display": null,
            "flex": null,
            "flex_flow": null,
            "grid_area": null,
            "grid_auto_columns": null,
            "grid_auto_flow": null,
            "grid_auto_rows": null,
            "grid_column": null,
            "grid_gap": null,
            "grid_row": null,
            "grid_template_areas": null,
            "grid_template_columns": null,
            "grid_template_rows": null,
            "height": null,
            "justify_content": null,
            "justify_items": null,
            "left": null,
            "margin": null,
            "max_height": null,
            "max_width": null,
            "min_height": null,
            "min_width": null,
            "object_fit": null,
            "object_position": null,
            "order": null,
            "overflow": null,
            "overflow_x": null,
            "overflow_y": null,
            "padding": null,
            "right": null,
            "top": null,
            "visibility": null,
            "width": null
          }
        },
        "be3d3ead939e423b8ca9d0e2922c0725": {
          "model_module": "@jupyter-widgets/controls",
          "model_name": "ProgressStyleModel",
          "model_module_version": "1.5.0",
          "state": {
            "_model_module": "@jupyter-widgets/controls",
            "_model_module_version": "1.5.0",
            "_model_name": "ProgressStyleModel",
            "_view_count": null,
            "_view_module": "@jupyter-widgets/base",
            "_view_module_version": "1.2.0",
            "_view_name": "StyleView",
            "bar_color": null,
            "description_width": ""
          }
        },
        "67aee35f2d5640e58e20fd61edebefc0": {
          "model_module": "@jupyter-widgets/base",
          "model_name": "LayoutModel",
          "model_module_version": "1.2.0",
          "state": {
            "_model_module": "@jupyter-widgets/base",
            "_model_module_version": "1.2.0",
            "_model_name": "LayoutModel",
            "_view_count": null,
            "_view_module": "@jupyter-widgets/base",
            "_view_module_version": "1.2.0",
            "_view_name": "LayoutView",
            "align_content": null,
            "align_items": null,
            "align_self": null,
            "border": null,
            "bottom": null,
            "display": null,
            "flex": null,
            "flex_flow": null,
            "grid_area": null,
            "grid_auto_columns": null,
            "grid_auto_flow": null,
            "grid_auto_rows": null,
            "grid_column": null,
            "grid_gap": null,
            "grid_row": null,
            "grid_template_areas": null,
            "grid_template_columns": null,
            "grid_template_rows": null,
            "height": null,
            "justify_content": null,
            "justify_items": null,
            "left": null,
            "margin": null,
            "max_height": null,
            "max_width": null,
            "min_height": null,
            "min_width": null,
            "object_fit": null,
            "object_position": null,
            "order": null,
            "overflow": null,
            "overflow_x": null,
            "overflow_y": null,
            "padding": null,
            "right": null,
            "top": null,
            "visibility": null,
            "width": null
          }
        },
        "3cf723fa276a40499a6ab1d19b507052": {
          "model_module": "@jupyter-widgets/controls",
          "model_name": "DescriptionStyleModel",
          "model_module_version": "1.5.0",
          "state": {
            "_model_module": "@jupyter-widgets/controls",
            "_model_module_version": "1.5.0",
            "_model_name": "DescriptionStyleModel",
            "_view_count": null,
            "_view_module": "@jupyter-widgets/base",
            "_view_module_version": "1.2.0",
            "_view_name": "StyleView",
            "description_width": ""
          }
        },
        "3b117a11e4224eaabe370cf62e1c54e1": {
          "model_module": "@jupyter-widgets/controls",
          "model_name": "HBoxModel",
          "model_module_version": "1.5.0",
          "state": {
            "_dom_classes": [],
            "_model_module": "@jupyter-widgets/controls",
            "_model_module_version": "1.5.0",
            "_model_name": "HBoxModel",
            "_view_count": null,
            "_view_module": "@jupyter-widgets/controls",
            "_view_module_version": "1.5.0",
            "_view_name": "HBoxView",
            "box_style": "",
            "children": [
              "IPY_MODEL_875eed91e23242bea02f5a0012856a04",
              "IPY_MODEL_f772597cb1cd486aa48a96b66398155a",
              "IPY_MODEL_88de7899b44e467191f7358267101993"
            ],
            "layout": "IPY_MODEL_be6060c2314a417aaeaadc88912ab099"
          }
        },
        "875eed91e23242bea02f5a0012856a04": {
          "model_module": "@jupyter-widgets/controls",
          "model_name": "HTMLModel",
          "model_module_version": "1.5.0",
          "state": {
            "_dom_classes": [],
            "_model_module": "@jupyter-widgets/controls",
            "_model_module_version": "1.5.0",
            "_model_name": "HTMLModel",
            "_view_count": null,
            "_view_module": "@jupyter-widgets/controls",
            "_view_module_version": "1.5.0",
            "_view_name": "HTMLView",
            "description": "",
            "description_tooltip": null,
            "layout": "IPY_MODEL_802dc22a6fb7473a8e7cae984fdc9e13",
            "placeholder": "​",
            "style": "IPY_MODEL_2f87ff42fc934dcf8a4dc7a9ff26af7b",
            "value": "100%"
          }
        },
        "f772597cb1cd486aa48a96b66398155a": {
          "model_module": "@jupyter-widgets/controls",
          "model_name": "FloatProgressModel",
          "model_module_version": "1.5.0",
          "state": {
            "_dom_classes": [],
            "_model_module": "@jupyter-widgets/controls",
            "_model_module_version": "1.5.0",
            "_model_name": "FloatProgressModel",
            "_view_count": null,
            "_view_module": "@jupyter-widgets/controls",
            "_view_module_version": "1.5.0",
            "_view_name": "ProgressView",
            "bar_style": "success",
            "description": "",
            "description_tooltip": null,
            "layout": "IPY_MODEL_f97e2aa8e6eb49a3aaf8f65bc1abd966",
            "max": 1,
            "min": 0,
            "orientation": "horizontal",
            "style": "IPY_MODEL_e13f73cd74d54d889920a3ef568ead4c",
            "value": 1
          }
        },
        "88de7899b44e467191f7358267101993": {
          "model_module": "@jupyter-widgets/controls",
          "model_name": "HTMLModel",
          "model_module_version": "1.5.0",
          "state": {
            "_dom_classes": [],
            "_model_module": "@jupyter-widgets/controls",
            "_model_module_version": "1.5.0",
            "_model_name": "HTMLModel",
            "_view_count": null,
            "_view_module": "@jupyter-widgets/controls",
            "_view_module_version": "1.5.0",
            "_view_name": "HTMLView",
            "description": "",
            "description_tooltip": null,
            "layout": "IPY_MODEL_2f95c0f9521d450f9725a8ce4c5489e4",
            "placeholder": "​",
            "style": "IPY_MODEL_dda589ca8ef74b1eb0ecd2f4c3704394",
            "value": " 1/1 [31:28&lt;00:00, 17.80s/it]"
          }
        },
        "be6060c2314a417aaeaadc88912ab099": {
          "model_module": "@jupyter-widgets/base",
          "model_name": "LayoutModel",
          "model_module_version": "1.2.0",
          "state": {
            "_model_module": "@jupyter-widgets/base",
            "_model_module_version": "1.2.0",
            "_model_name": "LayoutModel",
            "_view_count": null,
            "_view_module": "@jupyter-widgets/base",
            "_view_module_version": "1.2.0",
            "_view_name": "LayoutView",
            "align_content": null,
            "align_items": null,
            "align_self": null,
            "border": null,
            "bottom": null,
            "display": null,
            "flex": null,
            "flex_flow": null,
            "grid_area": null,
            "grid_auto_columns": null,
            "grid_auto_flow": null,
            "grid_auto_rows": null,
            "grid_column": null,
            "grid_gap": null,
            "grid_row": null,
            "grid_template_areas": null,
            "grid_template_columns": null,
            "grid_template_rows": null,
            "height": null,
            "justify_content": null,
            "justify_items": null,
            "left": null,
            "margin": null,
            "max_height": null,
            "max_width": null,
            "min_height": null,
            "min_width": null,
            "object_fit": null,
            "object_position": null,
            "order": null,
            "overflow": null,
            "overflow_x": null,
            "overflow_y": null,
            "padding": null,
            "right": null,
            "top": null,
            "visibility": null,
            "width": null
          }
        },
        "802dc22a6fb7473a8e7cae984fdc9e13": {
          "model_module": "@jupyter-widgets/base",
          "model_name": "LayoutModel",
          "model_module_version": "1.2.0",
          "state": {
            "_model_module": "@jupyter-widgets/base",
            "_model_module_version": "1.2.0",
            "_model_name": "LayoutModel",
            "_view_count": null,
            "_view_module": "@jupyter-widgets/base",
            "_view_module_version": "1.2.0",
            "_view_name": "LayoutView",
            "align_content": null,
            "align_items": null,
            "align_self": null,
            "border": null,
            "bottom": null,
            "display": null,
            "flex": null,
            "flex_flow": null,
            "grid_area": null,
            "grid_auto_columns": null,
            "grid_auto_flow": null,
            "grid_auto_rows": null,
            "grid_column": null,
            "grid_gap": null,
            "grid_row": null,
            "grid_template_areas": null,
            "grid_template_columns": null,
            "grid_template_rows": null,
            "height": null,
            "justify_content": null,
            "justify_items": null,
            "left": null,
            "margin": null,
            "max_height": null,
            "max_width": null,
            "min_height": null,
            "min_width": null,
            "object_fit": null,
            "object_position": null,
            "order": null,
            "overflow": null,
            "overflow_x": null,
            "overflow_y": null,
            "padding": null,
            "right": null,
            "top": null,
            "visibility": null,
            "width": null
          }
        },
        "2f87ff42fc934dcf8a4dc7a9ff26af7b": {
          "model_module": "@jupyter-widgets/controls",
          "model_name": "DescriptionStyleModel",
          "model_module_version": "1.5.0",
          "state": {
            "_model_module": "@jupyter-widgets/controls",
            "_model_module_version": "1.5.0",
            "_model_name": "DescriptionStyleModel",
            "_view_count": null,
            "_view_module": "@jupyter-widgets/base",
            "_view_module_version": "1.2.0",
            "_view_name": "StyleView",
            "description_width": ""
          }
        },
        "f97e2aa8e6eb49a3aaf8f65bc1abd966": {
          "model_module": "@jupyter-widgets/base",
          "model_name": "LayoutModel",
          "model_module_version": "1.2.0",
          "state": {
            "_model_module": "@jupyter-widgets/base",
            "_model_module_version": "1.2.0",
            "_model_name": "LayoutModel",
            "_view_count": null,
            "_view_module": "@jupyter-widgets/base",
            "_view_module_version": "1.2.0",
            "_view_name": "LayoutView",
            "align_content": null,
            "align_items": null,
            "align_self": null,
            "border": null,
            "bottom": null,
            "display": null,
            "flex": null,
            "flex_flow": null,
            "grid_area": null,
            "grid_auto_columns": null,
            "grid_auto_flow": null,
            "grid_auto_rows": null,
            "grid_column": null,
            "grid_gap": null,
            "grid_row": null,
            "grid_template_areas": null,
            "grid_template_columns": null,
            "grid_template_rows": null,
            "height": null,
            "justify_content": null,
            "justify_items": null,
            "left": null,
            "margin": null,
            "max_height": null,
            "max_width": null,
            "min_height": null,
            "min_width": null,
            "object_fit": null,
            "object_position": null,
            "order": null,
            "overflow": null,
            "overflow_x": null,
            "overflow_y": null,
            "padding": null,
            "right": null,
            "top": null,
            "visibility": null,
            "width": null
          }
        },
        "e13f73cd74d54d889920a3ef568ead4c": {
          "model_module": "@jupyter-widgets/controls",
          "model_name": "ProgressStyleModel",
          "model_module_version": "1.5.0",
          "state": {
            "_model_module": "@jupyter-widgets/controls",
            "_model_module_version": "1.5.0",
            "_model_name": "ProgressStyleModel",
            "_view_count": null,
            "_view_module": "@jupyter-widgets/base",
            "_view_module_version": "1.2.0",
            "_view_name": "StyleView",
            "bar_color": null,
            "description_width": ""
          }
        },
        "2f95c0f9521d450f9725a8ce4c5489e4": {
          "model_module": "@jupyter-widgets/base",
          "model_name": "LayoutModel",
          "model_module_version": "1.2.0",
          "state": {
            "_model_module": "@jupyter-widgets/base",
            "_model_module_version": "1.2.0",
            "_model_name": "LayoutModel",
            "_view_count": null,
            "_view_module": "@jupyter-widgets/base",
            "_view_module_version": "1.2.0",
            "_view_name": "LayoutView",
            "align_content": null,
            "align_items": null,
            "align_self": null,
            "border": null,
            "bottom": null,
            "display": null,
            "flex": null,
            "flex_flow": null,
            "grid_area": null,
            "grid_auto_columns": null,
            "grid_auto_flow": null,
            "grid_auto_rows": null,
            "grid_column": null,
            "grid_gap": null,
            "grid_row": null,
            "grid_template_areas": null,
            "grid_template_columns": null,
            "grid_template_rows": null,
            "height": null,
            "justify_content": null,
            "justify_items": null,
            "left": null,
            "margin": null,
            "max_height": null,
            "max_width": null,
            "min_height": null,
            "min_width": null,
            "object_fit": null,
            "object_position": null,
            "order": null,
            "overflow": null,
            "overflow_x": null,
            "overflow_y": null,
            "padding": null,
            "right": null,
            "top": null,
            "visibility": null,
            "width": null
          }
        },
        "dda589ca8ef74b1eb0ecd2f4c3704394": {
          "model_module": "@jupyter-widgets/controls",
          "model_name": "DescriptionStyleModel",
          "model_module_version": "1.5.0",
          "state": {
            "_model_module": "@jupyter-widgets/controls",
            "_model_module_version": "1.5.0",
            "_model_name": "DescriptionStyleModel",
            "_view_count": null,
            "_view_module": "@jupyter-widgets/base",
            "_view_module_version": "1.2.0",
            "_view_name": "StyleView",
            "description_width": ""
          }
        },
        "280a78400b134cc9b271216593f09c69": {
          "model_module": "@jupyter-widgets/controls",
          "model_name": "HBoxModel",
          "model_module_version": "1.5.0",
          "state": {
            "_dom_classes": [],
            "_model_module": "@jupyter-widgets/controls",
            "_model_module_version": "1.5.0",
            "_model_name": "HBoxModel",
            "_view_count": null,
            "_view_module": "@jupyter-widgets/controls",
            "_view_module_version": "1.5.0",
            "_view_name": "HBoxView",
            "box_style": "",
            "children": [
              "IPY_MODEL_41ce52bb0c0c42549b17e01b6135dcc2",
              "IPY_MODEL_2f2679450be944d99d41b27f9991e255",
              "IPY_MODEL_94a4799097e14342a016585398382c04"
            ],
            "layout": "IPY_MODEL_ad289c19b93c427f9642ff452b8e7f24"
          }
        },
        "41ce52bb0c0c42549b17e01b6135dcc2": {
          "model_module": "@jupyter-widgets/controls",
          "model_name": "HTMLModel",
          "model_module_version": "1.5.0",
          "state": {
            "_dom_classes": [],
            "_model_module": "@jupyter-widgets/controls",
            "_model_module_version": "1.5.0",
            "_model_name": "HTMLModel",
            "_view_count": null,
            "_view_module": "@jupyter-widgets/controls",
            "_view_module_version": "1.5.0",
            "_view_name": "HTMLView",
            "description": "",
            "description_tooltip": null,
            "layout": "IPY_MODEL_037e3332dbc74840a53ad6e4979e278e",
            "placeholder": "​",
            "style": "IPY_MODEL_60c30220c40e44a0babdcd8a2dc931c5",
            "value": "100%"
          }
        },
        "2f2679450be944d99d41b27f9991e255": {
          "model_module": "@jupyter-widgets/controls",
          "model_name": "FloatProgressModel",
          "model_module_version": "1.5.0",
          "state": {
            "_dom_classes": [],
            "_model_module": "@jupyter-widgets/controls",
            "_model_module_version": "1.5.0",
            "_model_name": "FloatProgressModel",
            "_view_count": null,
            "_view_module": "@jupyter-widgets/controls",
            "_view_module_version": "1.5.0",
            "_view_name": "ProgressView",
            "bar_style": "success",
            "description": "",
            "description_tooltip": null,
            "layout": "IPY_MODEL_4d7e28aec8e9453cb91075c1a8ebe903",
            "max": 1,
            "min": 0,
            "orientation": "horizontal",
            "style": "IPY_MODEL_a017fcc03381406eab7870cfc97aa0d3",
            "value": 1
          }
        },
        "94a4799097e14342a016585398382c04": {
          "model_module": "@jupyter-widgets/controls",
          "model_name": "HTMLModel",
          "model_module_version": "1.5.0",
          "state": {
            "_dom_classes": [],
            "_model_module": "@jupyter-widgets/controls",
            "_model_module_version": "1.5.0",
            "_model_name": "HTMLModel",
            "_view_count": null,
            "_view_module": "@jupyter-widgets/controls",
            "_view_module_version": "1.5.0",
            "_view_name": "HTMLView",
            "description": "",
            "description_tooltip": null,
            "layout": "IPY_MODEL_929bba3ad67b4535b7214d5fa3db2ea2",
            "placeholder": "​",
            "style": "IPY_MODEL_de0a36f6bd20439e85d6273f9381ce21",
            "value": " 1/1 [00:28&lt;00:00,  1.24s/it]"
          }
        },
        "ad289c19b93c427f9642ff452b8e7f24": {
          "model_module": "@jupyter-widgets/base",
          "model_name": "LayoutModel",
          "model_module_version": "1.2.0",
          "state": {
            "_model_module": "@jupyter-widgets/base",
            "_model_module_version": "1.2.0",
            "_model_name": "LayoutModel",
            "_view_count": null,
            "_view_module": "@jupyter-widgets/base",
            "_view_module_version": "1.2.0",
            "_view_name": "LayoutView",
            "align_content": null,
            "align_items": null,
            "align_self": null,
            "border": null,
            "bottom": null,
            "display": null,
            "flex": null,
            "flex_flow": null,
            "grid_area": null,
            "grid_auto_columns": null,
            "grid_auto_flow": null,
            "grid_auto_rows": null,
            "grid_column": null,
            "grid_gap": null,
            "grid_row": null,
            "grid_template_areas": null,
            "grid_template_columns": null,
            "grid_template_rows": null,
            "height": null,
            "justify_content": null,
            "justify_items": null,
            "left": null,
            "margin": null,
            "max_height": null,
            "max_width": null,
            "min_height": null,
            "min_width": null,
            "object_fit": null,
            "object_position": null,
            "order": null,
            "overflow": null,
            "overflow_x": null,
            "overflow_y": null,
            "padding": null,
            "right": null,
            "top": null,
            "visibility": null,
            "width": null
          }
        },
        "037e3332dbc74840a53ad6e4979e278e": {
          "model_module": "@jupyter-widgets/base",
          "model_name": "LayoutModel",
          "model_module_version": "1.2.0",
          "state": {
            "_model_module": "@jupyter-widgets/base",
            "_model_module_version": "1.2.0",
            "_model_name": "LayoutModel",
            "_view_count": null,
            "_view_module": "@jupyter-widgets/base",
            "_view_module_version": "1.2.0",
            "_view_name": "LayoutView",
            "align_content": null,
            "align_items": null,
            "align_self": null,
            "border": null,
            "bottom": null,
            "display": null,
            "flex": null,
            "flex_flow": null,
            "grid_area": null,
            "grid_auto_columns": null,
            "grid_auto_flow": null,
            "grid_auto_rows": null,
            "grid_column": null,
            "grid_gap": null,
            "grid_row": null,
            "grid_template_areas": null,
            "grid_template_columns": null,
            "grid_template_rows": null,
            "height": null,
            "justify_content": null,
            "justify_items": null,
            "left": null,
            "margin": null,
            "max_height": null,
            "max_width": null,
            "min_height": null,
            "min_width": null,
            "object_fit": null,
            "object_position": null,
            "order": null,
            "overflow": null,
            "overflow_x": null,
            "overflow_y": null,
            "padding": null,
            "right": null,
            "top": null,
            "visibility": null,
            "width": null
          }
        },
        "60c30220c40e44a0babdcd8a2dc931c5": {
          "model_module": "@jupyter-widgets/controls",
          "model_name": "DescriptionStyleModel",
          "model_module_version": "1.5.0",
          "state": {
            "_model_module": "@jupyter-widgets/controls",
            "_model_module_version": "1.5.0",
            "_model_name": "DescriptionStyleModel",
            "_view_count": null,
            "_view_module": "@jupyter-widgets/base",
            "_view_module_version": "1.2.0",
            "_view_name": "StyleView",
            "description_width": ""
          }
        },
        "4d7e28aec8e9453cb91075c1a8ebe903": {
          "model_module": "@jupyter-widgets/base",
          "model_name": "LayoutModel",
          "model_module_version": "1.2.0",
          "state": {
            "_model_module": "@jupyter-widgets/base",
            "_model_module_version": "1.2.0",
            "_model_name": "LayoutModel",
            "_view_count": null,
            "_view_module": "@jupyter-widgets/base",
            "_view_module_version": "1.2.0",
            "_view_name": "LayoutView",
            "align_content": null,
            "align_items": null,
            "align_self": null,
            "border": null,
            "bottom": null,
            "display": null,
            "flex": null,
            "flex_flow": null,
            "grid_area": null,
            "grid_auto_columns": null,
            "grid_auto_flow": null,
            "grid_auto_rows": null,
            "grid_column": null,
            "grid_gap": null,
            "grid_row": null,
            "grid_template_areas": null,
            "grid_template_columns": null,
            "grid_template_rows": null,
            "height": null,
            "justify_content": null,
            "justify_items": null,
            "left": null,
            "margin": null,
            "max_height": null,
            "max_width": null,
            "min_height": null,
            "min_width": null,
            "object_fit": null,
            "object_position": null,
            "order": null,
            "overflow": null,
            "overflow_x": null,
            "overflow_y": null,
            "padding": null,
            "right": null,
            "top": null,
            "visibility": null,
            "width": null
          }
        },
        "a017fcc03381406eab7870cfc97aa0d3": {
          "model_module": "@jupyter-widgets/controls",
          "model_name": "ProgressStyleModel",
          "model_module_version": "1.5.0",
          "state": {
            "_model_module": "@jupyter-widgets/controls",
            "_model_module_version": "1.5.0",
            "_model_name": "ProgressStyleModel",
            "_view_count": null,
            "_view_module": "@jupyter-widgets/base",
            "_view_module_version": "1.2.0",
            "_view_name": "StyleView",
            "bar_color": null,
            "description_width": ""
          }
        },
        "929bba3ad67b4535b7214d5fa3db2ea2": {
          "model_module": "@jupyter-widgets/base",
          "model_name": "LayoutModel",
          "model_module_version": "1.2.0",
          "state": {
            "_model_module": "@jupyter-widgets/base",
            "_model_module_version": "1.2.0",
            "_model_name": "LayoutModel",
            "_view_count": null,
            "_view_module": "@jupyter-widgets/base",
            "_view_module_version": "1.2.0",
            "_view_name": "LayoutView",
            "align_content": null,
            "align_items": null,
            "align_self": null,
            "border": null,
            "bottom": null,
            "display": null,
            "flex": null,
            "flex_flow": null,
            "grid_area": null,
            "grid_auto_columns": null,
            "grid_auto_flow": null,
            "grid_auto_rows": null,
            "grid_column": null,
            "grid_gap": null,
            "grid_row": null,
            "grid_template_areas": null,
            "grid_template_columns": null,
            "grid_template_rows": null,
            "height": null,
            "justify_content": null,
            "justify_items": null,
            "left": null,
            "margin": null,
            "max_height": null,
            "max_width": null,
            "min_height": null,
            "min_width": null,
            "object_fit": null,
            "object_position": null,
            "order": null,
            "overflow": null,
            "overflow_x": null,
            "overflow_y": null,
            "padding": null,
            "right": null,
            "top": null,
            "visibility": null,
            "width": null
          }
        },
        "de0a36f6bd20439e85d6273f9381ce21": {
          "model_module": "@jupyter-widgets/controls",
          "model_name": "DescriptionStyleModel",
          "model_module_version": "1.5.0",
          "state": {
            "_model_module": "@jupyter-widgets/controls",
            "_model_module_version": "1.5.0",
            "_model_name": "DescriptionStyleModel",
            "_view_count": null,
            "_view_module": "@jupyter-widgets/base",
            "_view_module_version": "1.2.0",
            "_view_name": "StyleView",
            "description_width": ""
          }
        }
      }
    }
  },
  "cells": [
    {
      "cell_type": "markdown",
      "source": [
        "**Введение:** для задачи коррекции правописания обратилась к проекту SberDevices **SAGE**. Использовала две открытые предобученные генеративные модели для коррекции правописания на русском:\n",
        "\n",
        "*   sage-fredt5-large\n",
        "*   sage-fredt5-distilled-95m\n",
        "\n",
        "[Github:](https://github.com/ai-forever/sage?tab=readme-ov-file)\n",
        "\n",
        "**Статья на Habr:** https://habr.com/ru/companies/sberdevices/articles/763932/"
      ],
      "metadata": {
        "id": "hRdf-_s4TwQm"
      }
    },
    {
      "cell_type": "code",
      "execution_count": null,
      "metadata": {
        "colab": {
          "base_uri": "https://localhost:8080/"
        },
        "collapsed": true,
        "id": "0IpJ8lgjt2jt",
        "outputId": "8f32686a-aa4a-4a62-b976-c3d6c2f5b6b3"
      },
      "outputs": [
        {
          "output_type": "stream",
          "name": "stdout",
          "text": [
            "Drive already mounted at /content/drive; to attempt to forcibly remount, call drive.mount(\"/content/drive\", force_remount=True).\n"
          ]
        }
      ],
      "source": [
        "from google.colab import drive\n",
        "drive.mount('/content/drive')"
      ]
    },
    {
      "cell_type": "markdown",
      "source": [
        "# **Необходимые установки**"
      ],
      "metadata": {
        "id": "1zbGfu_-t_N5"
      }
    },
    {
      "cell_type": "code",
      "source": [
        "!pip install PyPDF2"
      ],
      "metadata": {
        "colab": {
          "base_uri": "https://localhost:8080/"
        },
        "collapsed": true,
        "id": "gU-PL47ht8Qp",
        "outputId": "afbae6a5-f52c-427d-a9dc-226de740a365"
      },
      "execution_count": null,
      "outputs": [
        {
          "output_type": "stream",
          "name": "stdout",
          "text": [
            "Requirement already satisfied: PyPDF2 in /usr/local/lib/python3.10/dist-packages (3.0.1)\n"
          ]
        }
      ]
    },
    {
      "cell_type": "code",
      "source": [
        "!pip install pdfminer.six"
      ],
      "metadata": {
        "colab": {
          "base_uri": "https://localhost:8080/"
        },
        "collapsed": true,
        "id": "b0Y2gTZjt8TZ",
        "outputId": "14b1ecc7-cf9b-421a-fd31-bf2eb74c18dc"
      },
      "execution_count": null,
      "outputs": [
        {
          "output_type": "stream",
          "name": "stdout",
          "text": [
            "Requirement already satisfied: pdfminer.six in /usr/local/lib/python3.10/dist-packages (20231228)\n",
            "Requirement already satisfied: charset-normalizer>=2.0.0 in /usr/local/lib/python3.10/dist-packages (from pdfminer.six) (3.3.2)\n",
            "Requirement already satisfied: cryptography>=36.0.0 in /usr/local/lib/python3.10/dist-packages (from pdfminer.six) (42.0.8)\n",
            "Requirement already satisfied: cffi>=1.12 in /usr/local/lib/python3.10/dist-packages (from cryptography>=36.0.0->pdfminer.six) (1.17.0)\n",
            "Requirement already satisfied: pycparser in /usr/local/lib/python3.10/dist-packages (from cffi>=1.12->cryptography>=36.0.0->pdfminer.six) (2.22)\n"
          ]
        }
      ]
    },
    {
      "cell_type": "code",
      "source": [
        "!pip install pdfplumber"
      ],
      "metadata": {
        "colab": {
          "base_uri": "https://localhost:8080/"
        },
        "collapsed": true,
        "id": "CD2tnPJsuAih",
        "outputId": "5369afa6-fa4d-472f-9228-a770ad6680dc"
      },
      "execution_count": null,
      "outputs": [
        {
          "output_type": "stream",
          "name": "stdout",
          "text": [
            "Collecting pdfplumber\n",
            "  Downloading pdfplumber-0.11.4-py3-none-any.whl.metadata (41 kB)\n",
            "\u001b[?25l     \u001b[90m━━━━━━━━━━━━━━━━━━━━━━━━━━━━━━━━━━━━━━━━\u001b[0m \u001b[32m0.0/42.0 kB\u001b[0m \u001b[31m?\u001b[0m eta \u001b[36m-:--:--\u001b[0m\r\u001b[2K     \u001b[90m━━━━━━━━━━━━━━━━━━━━━━━━━━━━━━━━━━━━━━━━\u001b[0m \u001b[32m42.0/42.0 kB\u001b[0m \u001b[31m1.7 MB/s\u001b[0m eta \u001b[36m0:00:00\u001b[0m\n",
            "\u001b[?25hCollecting pdfminer.six==20231228 (from pdfplumber)\n",
            "  Downloading pdfminer.six-20231228-py3-none-any.whl.metadata (4.2 kB)\n",
            "Requirement already satisfied: Pillow>=9.1 in /usr/local/lib/python3.10/dist-packages (from pdfplumber) (9.4.0)\n",
            "Collecting pypdfium2>=4.18.0 (from pdfplumber)\n",
            "  Downloading pypdfium2-4.30.0-py3-none-manylinux_2_17_x86_64.manylinux2014_x86_64.whl.metadata (48 kB)\n",
            "\u001b[2K     \u001b[90m━━━━━━━━━━━━━━━━━━━━━━━━━━━━━━━━━━━━━━━━\u001b[0m \u001b[32m48.5/48.5 kB\u001b[0m \u001b[31m1.6 MB/s\u001b[0m eta \u001b[36m0:00:00\u001b[0m\n",
            "\u001b[?25hRequirement already satisfied: charset-normalizer>=2.0.0 in /usr/local/lib/python3.10/dist-packages (from pdfminer.six==20231228->pdfplumber) (3.3.2)\n",
            "Requirement already satisfied: cryptography>=36.0.0 in /usr/local/lib/python3.10/dist-packages (from pdfminer.six==20231228->pdfplumber) (42.0.8)\n",
            "Requirement already satisfied: cffi>=1.12 in /usr/local/lib/python3.10/dist-packages (from cryptography>=36.0.0->pdfminer.six==20231228->pdfplumber) (1.17.0)\n",
            "Requirement already satisfied: pycparser in /usr/local/lib/python3.10/dist-packages (from cffi>=1.12->cryptography>=36.0.0->pdfminer.six==20231228->pdfplumber) (2.22)\n",
            "Downloading pdfplumber-0.11.4-py3-none-any.whl (59 kB)\n",
            "\u001b[2K   \u001b[90m━━━━━━━━━━━━━━━━━━━━━━━━━━━━━━━━━━━━━━━━\u001b[0m \u001b[32m59.2/59.2 kB\u001b[0m \u001b[31m2.1 MB/s\u001b[0m eta \u001b[36m0:00:00\u001b[0m\n",
            "\u001b[?25hDownloading pdfminer.six-20231228-py3-none-any.whl (5.6 MB)\n",
            "\u001b[2K   \u001b[90m━━━━━━━━━━━━━━━━━━━━━━━━━━━━━━━━━━━━━━━━\u001b[0m \u001b[32m5.6/5.6 MB\u001b[0m \u001b[31m31.1 MB/s\u001b[0m eta \u001b[36m0:00:00\u001b[0m\n",
            "\u001b[?25hDownloading pypdfium2-4.30.0-py3-none-manylinux_2_17_x86_64.manylinux2014_x86_64.whl (2.8 MB)\n",
            "\u001b[2K   \u001b[90m━━━━━━━━━━━━━━━━━━━━━━━━━━━━━━━━━━━━━━━━\u001b[0m \u001b[32m2.8/2.8 MB\u001b[0m \u001b[31m24.0 MB/s\u001b[0m eta \u001b[36m0:00:00\u001b[0m\n",
            "\u001b[?25hInstalling collected packages: pypdfium2, pdfminer.six, pdfplumber\n",
            "  Attempting uninstall: pdfminer.six\n",
            "    Found existing installation: pdfminer.six 20240706\n",
            "    Uninstalling pdfminer.six-20240706:\n",
            "      Successfully uninstalled pdfminer.six-20240706\n",
            "Successfully installed pdfminer.six-20231228 pdfplumber-0.11.4 pypdfium2-4.30.0\n"
          ]
        }
      ]
    },
    {
      "cell_type": "code",
      "source": [
        "# Для считывания PDF\n",
        "import PyPDF2\n",
        "\n",
        "# Для анализа структуры PDF и извлечения текста\n",
        "from pdfminer.high_level import extract_pages, extract_text\n",
        "from pdfminer.layout import LTTextContainer, LTChar, LTRect, LTFigure, LTTextLine\n",
        "\n",
        "# Для извлечения текста из таблиц в PDF\n",
        "import pdfplumber\n",
        "\n",
        "from PyPDF2 import PdfReader\n",
        "\n",
        "import re\n",
        "\n",
        "import pandas as pd\n",
        "\n",
        "import csv"
      ],
      "metadata": {
        "id": "Vw7aDXmluAmJ"
      },
      "execution_count": null,
      "outputs": []
    },
    {
      "cell_type": "code",
      "source": [
        "! git clone https://github.com/ai-forever/sage.git"
      ],
      "metadata": {
        "colab": {
          "base_uri": "https://localhost:8080/"
        },
        "id": "Pg36n7V6I9IU",
        "outputId": "017d6aeb-be56-4552-d96f-c2243a03dcc9",
        "collapsed": true
      },
      "execution_count": null,
      "outputs": [
        {
          "output_type": "stream",
          "name": "stdout",
          "text": [
            "fatal: destination path 'sage' already exists and is not an empty directory.\n"
          ]
        }
      ]
    },
    {
      "cell_type": "code",
      "source": [
        "cd sage"
      ],
      "metadata": {
        "colab": {
          "base_uri": "https://localhost:8080/"
        },
        "id": "EQWBqb3RI9Os",
        "outputId": "8814d222-2f75-42de-a13f-616f47e9fd37"
      },
      "execution_count": null,
      "outputs": [
        {
          "output_type": "stream",
          "name": "stdout",
          "text": [
            "/content/sage\n"
          ]
        }
      ]
    },
    {
      "cell_type": "code",
      "source": [
        "! pip install .\n",
        "! pip install -e .[errant]"
      ],
      "metadata": {
        "colab": {
          "base_uri": "https://localhost:8080/"
        },
        "collapsed": true,
        "id": "WUrGGDDYJC0F",
        "outputId": "fbf855a5-61de-46c8-ed85-3a9e998025ba"
      },
      "execution_count": null,
      "outputs": [
        {
          "output_type": "stream",
          "name": "stdout",
          "text": [
            "Processing /content/sage\n",
            "  Preparing metadata (setup.py) ... \u001b[?25l\u001b[?25hdone\n",
            "Processing ./wheels/augmentex-1.0.3-py3-none-any.whl (from sage==1.1.0)\n",
            "Requirement already satisfied: numpy in /usr/local/lib/python3.10/dist-packages (from sage==1.1.0) (1.26.4)\n",
            "Requirement already satisfied: pandas in /usr/local/lib/python3.10/dist-packages (from sage==1.1.0) (2.1.4)\n",
            "Requirement already satisfied: tqdm in /usr/local/lib/python3.10/dist-packages (from sage==1.1.0) (4.66.5)\n",
            "Requirement already satisfied: pyyaml in /usr/local/lib/python3.10/dist-packages (from sage==1.1.0) (6.0.2)\n",
            "Requirement already satisfied: packaging in /usr/local/lib/python3.10/dist-packages (from sage==1.1.0) (24.1)\n",
            "Requirement already satisfied: requests in /usr/local/lib/python3.10/dist-packages (from sage==1.1.0) (2.32.3)\n",
            "Requirement already satisfied: sentencepiece in /usr/local/lib/python3.10/dist-packages (from sage==1.1.0) (0.1.99)\n",
            "Requirement already satisfied: datasets in /usr/local/lib/python3.10/dist-packages (from sage==1.1.0) (2.21.0)\n",
            "Requirement already satisfied: protobuf in /usr/local/lib/python3.10/dist-packages (from sage==1.1.0) (3.20.3)\n",
            "Requirement already satisfied: timeout_decorator in /usr/local/lib/python3.10/dist-packages (from sage==1.1.0) (0.5.0)\n",
            "Requirement already satisfied: matplotlib<3.7,>=3.2 in /usr/local/lib/python3.10/dist-packages (from sage==1.1.0) (3.6.3)\n",
            "Requirement already satisfied: torch<=2.2.0,>=1.9.0 in /usr/local/lib/python3.10/dist-packages (from sage==1.1.0) (2.2.0)\n",
            "Requirement already satisfied: transformers>=4.20.0 in /usr/local/lib/python3.10/dist-packages (from sage==1.1.0) (4.42.4)\n",
            "Requirement already satisfied: contourpy>=1.0.1 in /usr/local/lib/python3.10/dist-packages (from matplotlib<3.7,>=3.2->sage==1.1.0) (1.2.1)\n",
            "Requirement already satisfied: cycler>=0.10 in /usr/local/lib/python3.10/dist-packages (from matplotlib<3.7,>=3.2->sage==1.1.0) (0.12.1)\n",
            "Requirement already satisfied: fonttools>=4.22.0 in /usr/local/lib/python3.10/dist-packages (from matplotlib<3.7,>=3.2->sage==1.1.0) (4.53.1)\n",
            "Requirement already satisfied: kiwisolver>=1.0.1 in /usr/local/lib/python3.10/dist-packages (from matplotlib<3.7,>=3.2->sage==1.1.0) (1.4.5)\n",
            "Requirement already satisfied: pillow>=6.2.0 in /usr/local/lib/python3.10/dist-packages (from matplotlib<3.7,>=3.2->sage==1.1.0) (9.4.0)\n",
            "Requirement already satisfied: pyparsing>=2.2.1 in /usr/local/lib/python3.10/dist-packages (from matplotlib<3.7,>=3.2->sage==1.1.0) (3.1.2)\n",
            "Requirement already satisfied: python-dateutil>=2.7 in /usr/local/lib/python3.10/dist-packages (from matplotlib<3.7,>=3.2->sage==1.1.0) (2.8.2)\n",
            "Requirement already satisfied: filelock in /usr/local/lib/python3.10/dist-packages (from torch<=2.2.0,>=1.9.0->sage==1.1.0) (3.15.4)\n",
            "Requirement already satisfied: typing-extensions>=4.8.0 in /usr/local/lib/python3.10/dist-packages (from torch<=2.2.0,>=1.9.0->sage==1.1.0) (4.12.2)\n",
            "Requirement already satisfied: sympy in /usr/local/lib/python3.10/dist-packages (from torch<=2.2.0,>=1.9.0->sage==1.1.0) (1.13.1)\n",
            "Requirement already satisfied: networkx in /usr/local/lib/python3.10/dist-packages (from torch<=2.2.0,>=1.9.0->sage==1.1.0) (3.3)\n",
            "Requirement already satisfied: jinja2 in /usr/local/lib/python3.10/dist-packages (from torch<=2.2.0,>=1.9.0->sage==1.1.0) (3.1.4)\n",
            "Requirement already satisfied: fsspec in /usr/local/lib/python3.10/dist-packages (from torch<=2.2.0,>=1.9.0->sage==1.1.0) (2024.6.1)\n",
            "Requirement already satisfied: nvidia-cuda-nvrtc-cu12==12.1.105 in /usr/local/lib/python3.10/dist-packages (from torch<=2.2.0,>=1.9.0->sage==1.1.0) (12.1.105)\n",
            "Requirement already satisfied: nvidia-cuda-runtime-cu12==12.1.105 in /usr/local/lib/python3.10/dist-packages (from torch<=2.2.0,>=1.9.0->sage==1.1.0) (12.1.105)\n",
            "Requirement already satisfied: nvidia-cuda-cupti-cu12==12.1.105 in /usr/local/lib/python3.10/dist-packages (from torch<=2.2.0,>=1.9.0->sage==1.1.0) (12.1.105)\n",
            "Requirement already satisfied: nvidia-cudnn-cu12==8.9.2.26 in /usr/local/lib/python3.10/dist-packages (from torch<=2.2.0,>=1.9.0->sage==1.1.0) (8.9.2.26)\n",
            "Requirement already satisfied: nvidia-cublas-cu12==12.1.3.1 in /usr/local/lib/python3.10/dist-packages (from torch<=2.2.0,>=1.9.0->sage==1.1.0) (12.1.3.1)\n",
            "Requirement already satisfied: nvidia-cufft-cu12==11.0.2.54 in /usr/local/lib/python3.10/dist-packages (from torch<=2.2.0,>=1.9.0->sage==1.1.0) (11.0.2.54)\n",
            "Requirement already satisfied: nvidia-curand-cu12==10.3.2.106 in /usr/local/lib/python3.10/dist-packages (from torch<=2.2.0,>=1.9.0->sage==1.1.0) (10.3.2.106)\n",
            "Requirement already satisfied: nvidia-cusolver-cu12==11.4.5.107 in /usr/local/lib/python3.10/dist-packages (from torch<=2.2.0,>=1.9.0->sage==1.1.0) (11.4.5.107)\n",
            "Requirement already satisfied: nvidia-cusparse-cu12==12.1.0.106 in /usr/local/lib/python3.10/dist-packages (from torch<=2.2.0,>=1.9.0->sage==1.1.0) (12.1.0.106)\n",
            "Requirement already satisfied: nvidia-nccl-cu12==2.19.3 in /usr/local/lib/python3.10/dist-packages (from torch<=2.2.0,>=1.9.0->sage==1.1.0) (2.19.3)\n",
            "Requirement already satisfied: nvidia-nvtx-cu12==12.1.105 in /usr/local/lib/python3.10/dist-packages (from torch<=2.2.0,>=1.9.0->sage==1.1.0) (12.1.105)\n",
            "Requirement already satisfied: triton==2.2.0 in /usr/local/lib/python3.10/dist-packages (from torch<=2.2.0,>=1.9.0->sage==1.1.0) (2.2.0)\n",
            "Requirement already satisfied: nvidia-nvjitlink-cu12 in /usr/local/lib/python3.10/dist-packages (from nvidia-cusolver-cu12==11.4.5.107->torch<=2.2.0,>=1.9.0->sage==1.1.0) (12.6.20)\n",
            "Requirement already satisfied: huggingface-hub<1.0,>=0.23.2 in /usr/local/lib/python3.10/dist-packages (from transformers>=4.20.0->sage==1.1.0) (0.23.5)\n",
            "Requirement already satisfied: regex!=2019.12.17 in /usr/local/lib/python3.10/dist-packages (from transformers>=4.20.0->sage==1.1.0) (2024.5.15)\n",
            "Requirement already satisfied: safetensors>=0.4.1 in /usr/local/lib/python3.10/dist-packages (from transformers>=4.20.0->sage==1.1.0) (0.4.4)\n",
            "Requirement already satisfied: tokenizers<0.20,>=0.19 in /usr/local/lib/python3.10/dist-packages (from transformers>=4.20.0->sage==1.1.0) (0.19.1)\n",
            "Requirement already satisfied: pyarrow>=15.0.0 in /usr/local/lib/python3.10/dist-packages (from datasets->sage==1.1.0) (17.0.0)\n",
            "Requirement already satisfied: dill<0.3.9,>=0.3.0 in /usr/local/lib/python3.10/dist-packages (from datasets->sage==1.1.0) (0.3.8)\n",
            "Requirement already satisfied: xxhash in /usr/local/lib/python3.10/dist-packages (from datasets->sage==1.1.0) (3.5.0)\n",
            "Requirement already satisfied: multiprocess in /usr/local/lib/python3.10/dist-packages (from datasets->sage==1.1.0) (0.70.16)\n",
            "Requirement already satisfied: aiohttp in /usr/local/lib/python3.10/dist-packages (from datasets->sage==1.1.0) (3.10.2)\n",
            "Requirement already satisfied: charset-normalizer<4,>=2 in /usr/local/lib/python3.10/dist-packages (from requests->sage==1.1.0) (3.3.2)\n",
            "Requirement already satisfied: idna<4,>=2.5 in /usr/local/lib/python3.10/dist-packages (from requests->sage==1.1.0) (3.7)\n",
            "Requirement already satisfied: urllib3<3,>=1.21.1 in /usr/local/lib/python3.10/dist-packages (from requests->sage==1.1.0) (2.0.7)\n",
            "Requirement already satisfied: certifi>=2017.4.17 in /usr/local/lib/python3.10/dist-packages (from requests->sage==1.1.0) (2024.7.4)\n",
            "Requirement already satisfied: pytz>=2020.1 in /usr/local/lib/python3.10/dist-packages (from pandas->sage==1.1.0) (2024.1)\n",
            "Requirement already satisfied: tzdata>=2022.1 in /usr/local/lib/python3.10/dist-packages (from pandas->sage==1.1.0) (2024.1)\n",
            "Requirement already satisfied: aiohappyeyeballs>=2.3.0 in /usr/local/lib/python3.10/dist-packages (from aiohttp->datasets->sage==1.1.0) (2.3.5)\n",
            "Requirement already satisfied: aiosignal>=1.1.2 in /usr/local/lib/python3.10/dist-packages (from aiohttp->datasets->sage==1.1.0) (1.3.1)\n",
            "Requirement already satisfied: attrs>=17.3.0 in /usr/local/lib/python3.10/dist-packages (from aiohttp->datasets->sage==1.1.0) (24.2.0)\n",
            "Requirement already satisfied: frozenlist>=1.1.1 in /usr/local/lib/python3.10/dist-packages (from aiohttp->datasets->sage==1.1.0) (1.4.1)\n",
            "Requirement already satisfied: multidict<7.0,>=4.5 in /usr/local/lib/python3.10/dist-packages (from aiohttp->datasets->sage==1.1.0) (6.0.5)\n",
            "Requirement already satisfied: yarl<2.0,>=1.0 in /usr/local/lib/python3.10/dist-packages (from aiohttp->datasets->sage==1.1.0) (1.9.4)\n",
            "Requirement already satisfied: async-timeout<5.0,>=4.0 in /usr/local/lib/python3.10/dist-packages (from aiohttp->datasets->sage==1.1.0) (4.0.3)\n",
            "Requirement already satisfied: six>=1.5 in /usr/local/lib/python3.10/dist-packages (from python-dateutil>=2.7->matplotlib<3.7,>=3.2->sage==1.1.0) (1.16.0)\n",
            "Requirement already satisfied: MarkupSafe>=2.0 in /usr/local/lib/python3.10/dist-packages (from jinja2->torch<=2.2.0,>=1.9.0->sage==1.1.0) (2.1.5)\n",
            "Requirement already satisfied: mpmath<1.4,>=1.1.0 in /usr/local/lib/python3.10/dist-packages (from sympy->torch<=2.2.0,>=1.9.0->sage==1.1.0) (1.3.0)\n",
            "augmentex is already installed with the same version as the provided wheel. Use --force-reinstall to force an installation of the wheel.\n",
            "Building wheels for collected packages: sage\n",
            "  Building wheel for sage (setup.py) ... \u001b[?25l\u001b[?25hdone\n",
            "  Created wheel for sage: filename=sage-1.1.0-py3-none-any.whl size=47180 sha256=0e7923defc8e33c012a3f4ed0242d99752d658115fd74b76442c3eba72e476a1\n",
            "  Stored in directory: /tmp/pip-ephem-wheel-cache-zi7cc_bz/wheels/f6/fb/b3/1a788356f44a49d04bc8fdc67921c8b7f36cef909ee0b9615e\n",
            "Successfully built sage\n",
            "Installing collected packages: sage\n",
            "  Attempting uninstall: sage\n",
            "    Found existing installation: sage 1.1.0\n",
            "    Uninstalling sage-1.1.0:\n",
            "      Successfully uninstalled sage-1.1.0\n",
            "Successfully installed sage-1.1.0\n",
            "Obtaining file:///content/sage\n",
            "  Preparing metadata (setup.py) ... \u001b[?25l\u001b[?25hdone\n",
            "Processing ./wheels/augmentex-1.0.3-py3-none-any.whl (from sage==1.1.0)\n",
            "Requirement already satisfied: numpy in /usr/local/lib/python3.10/dist-packages (from sage==1.1.0) (1.26.4)\n",
            "Requirement already satisfied: pandas in /usr/local/lib/python3.10/dist-packages (from sage==1.1.0) (2.1.4)\n",
            "Requirement already satisfied: tqdm in /usr/local/lib/python3.10/dist-packages (from sage==1.1.0) (4.66.5)\n",
            "Requirement already satisfied: pyyaml in /usr/local/lib/python3.10/dist-packages (from sage==1.1.0) (6.0.2)\n",
            "Requirement already satisfied: packaging in /usr/local/lib/python3.10/dist-packages (from sage==1.1.0) (24.1)\n",
            "Requirement already satisfied: requests in /usr/local/lib/python3.10/dist-packages (from sage==1.1.0) (2.32.3)\n",
            "Requirement already satisfied: sentencepiece in /usr/local/lib/python3.10/dist-packages (from sage==1.1.0) (0.1.99)\n",
            "Requirement already satisfied: datasets in /usr/local/lib/python3.10/dist-packages (from sage==1.1.0) (2.21.0)\n",
            "Requirement already satisfied: protobuf in /usr/local/lib/python3.10/dist-packages (from sage==1.1.0) (3.20.3)\n",
            "Requirement already satisfied: timeout_decorator in /usr/local/lib/python3.10/dist-packages (from sage==1.1.0) (0.5.0)\n",
            "Requirement already satisfied: matplotlib<3.7,>=3.2 in /usr/local/lib/python3.10/dist-packages (from sage==1.1.0) (3.6.3)\n",
            "Requirement already satisfied: torch<=2.2.0,>=1.9.0 in /usr/local/lib/python3.10/dist-packages (from sage==1.1.0) (2.2.0)\n",
            "Requirement already satisfied: transformers>=4.20.0 in /usr/local/lib/python3.10/dist-packages (from sage==1.1.0) (4.42.4)\n",
            "Collecting ru-core-news-lg@ https://huggingface.co/spacy/ru_core_news_lg/resolve/main/ru_core_news_lg-any-py3-none-any.whl (from sage==1.1.0)\n",
            "  Downloading https://huggingface.co/spacy/ru_core_news_lg/resolve/main/ru_core_news_lg-any-py3-none-any.whl (513.4 MB)\n",
            "\u001b[2K     \u001b[90m━━━━━━━━━━━━━━━━━━━━━━━━━━━━━━━━━━━━━━━━\u001b[0m \u001b[32m513.4/513.4 MB\u001b[0m \u001b[31m3.2 MB/s\u001b[0m eta \u001b[36m0:00:00\u001b[0m\n",
            "\u001b[?25hCollecting errant@ git+https://github.com/Askinkaty/errant/@4183e57 (from sage==1.1.0)\n",
            "  Cloning https://github.com/Askinkaty/errant/ (to revision 4183e57) to /tmp/pip-install-p449gu9j/errant_91948444706545c985a088b52da9666a\n",
            "  Running command git clone --filter=blob:none --quiet https://github.com/Askinkaty/errant/ /tmp/pip-install-p449gu9j/errant_91948444706545c985a088b52da9666a\n",
            "\u001b[33m  WARNING: Did not find branch or tag '4183e57', assuming revision or ref.\u001b[0m\u001b[33m\n",
            "\u001b[0m  Running command git checkout -q 4183e57\n",
            "  Resolved https://github.com/Askinkaty/errant/ to commit 4183e57\n",
            "  Preparing metadata (setup.py) ... \u001b[?25l\u001b[?25hdone\n",
            "Requirement already satisfied: Levenshtein in /usr/local/lib/python3.10/dist-packages (from sage==1.1.0) (0.25.1)\n",
            "Requirement already satisfied: contourpy>=1.0.1 in /usr/local/lib/python3.10/dist-packages (from matplotlib<3.7,>=3.2->sage==1.1.0) (1.2.1)\n",
            "Requirement already satisfied: cycler>=0.10 in /usr/local/lib/python3.10/dist-packages (from matplotlib<3.7,>=3.2->sage==1.1.0) (0.12.1)\n",
            "Requirement already satisfied: fonttools>=4.22.0 in /usr/local/lib/python3.10/dist-packages (from matplotlib<3.7,>=3.2->sage==1.1.0) (4.53.1)\n",
            "Requirement already satisfied: kiwisolver>=1.0.1 in /usr/local/lib/python3.10/dist-packages (from matplotlib<3.7,>=3.2->sage==1.1.0) (1.4.5)\n",
            "Requirement already satisfied: pillow>=6.2.0 in /usr/local/lib/python3.10/dist-packages (from matplotlib<3.7,>=3.2->sage==1.1.0) (9.4.0)\n",
            "Requirement already satisfied: pyparsing>=2.2.1 in /usr/local/lib/python3.10/dist-packages (from matplotlib<3.7,>=3.2->sage==1.1.0) (3.1.2)\n",
            "Requirement already satisfied: python-dateutil>=2.7 in /usr/local/lib/python3.10/dist-packages (from matplotlib<3.7,>=3.2->sage==1.1.0) (2.8.2)\n",
            "Requirement already satisfied: filelock in /usr/local/lib/python3.10/dist-packages (from torch<=2.2.0,>=1.9.0->sage==1.1.0) (3.15.4)\n",
            "Requirement already satisfied: typing-extensions>=4.8.0 in /usr/local/lib/python3.10/dist-packages (from torch<=2.2.0,>=1.9.0->sage==1.1.0) (4.12.2)\n",
            "Requirement already satisfied: sympy in /usr/local/lib/python3.10/dist-packages (from torch<=2.2.0,>=1.9.0->sage==1.1.0) (1.13.1)\n",
            "Requirement already satisfied: networkx in /usr/local/lib/python3.10/dist-packages (from torch<=2.2.0,>=1.9.0->sage==1.1.0) (3.3)\n",
            "Requirement already satisfied: jinja2 in /usr/local/lib/python3.10/dist-packages (from torch<=2.2.0,>=1.9.0->sage==1.1.0) (3.1.4)\n",
            "Requirement already satisfied: fsspec in /usr/local/lib/python3.10/dist-packages (from torch<=2.2.0,>=1.9.0->sage==1.1.0) (2024.6.1)\n",
            "Requirement already satisfied: nvidia-cuda-nvrtc-cu12==12.1.105 in /usr/local/lib/python3.10/dist-packages (from torch<=2.2.0,>=1.9.0->sage==1.1.0) (12.1.105)\n",
            "Requirement already satisfied: nvidia-cuda-runtime-cu12==12.1.105 in /usr/local/lib/python3.10/dist-packages (from torch<=2.2.0,>=1.9.0->sage==1.1.0) (12.1.105)\n",
            "Requirement already satisfied: nvidia-cuda-cupti-cu12==12.1.105 in /usr/local/lib/python3.10/dist-packages (from torch<=2.2.0,>=1.9.0->sage==1.1.0) (12.1.105)\n",
            "Requirement already satisfied: nvidia-cudnn-cu12==8.9.2.26 in /usr/local/lib/python3.10/dist-packages (from torch<=2.2.0,>=1.9.0->sage==1.1.0) (8.9.2.26)\n",
            "Requirement already satisfied: nvidia-cublas-cu12==12.1.3.1 in /usr/local/lib/python3.10/dist-packages (from torch<=2.2.0,>=1.9.0->sage==1.1.0) (12.1.3.1)\n",
            "Requirement already satisfied: nvidia-cufft-cu12==11.0.2.54 in /usr/local/lib/python3.10/dist-packages (from torch<=2.2.0,>=1.9.0->sage==1.1.0) (11.0.2.54)\n",
            "Requirement already satisfied: nvidia-curand-cu12==10.3.2.106 in /usr/local/lib/python3.10/dist-packages (from torch<=2.2.0,>=1.9.0->sage==1.1.0) (10.3.2.106)\n",
            "Requirement already satisfied: nvidia-cusolver-cu12==11.4.5.107 in /usr/local/lib/python3.10/dist-packages (from torch<=2.2.0,>=1.9.0->sage==1.1.0) (11.4.5.107)\n",
            "Requirement already satisfied: nvidia-cusparse-cu12==12.1.0.106 in /usr/local/lib/python3.10/dist-packages (from torch<=2.2.0,>=1.9.0->sage==1.1.0) (12.1.0.106)\n",
            "Requirement already satisfied: nvidia-nccl-cu12==2.19.3 in /usr/local/lib/python3.10/dist-packages (from torch<=2.2.0,>=1.9.0->sage==1.1.0) (2.19.3)\n",
            "Requirement already satisfied: nvidia-nvtx-cu12==12.1.105 in /usr/local/lib/python3.10/dist-packages (from torch<=2.2.0,>=1.9.0->sage==1.1.0) (12.1.105)\n",
            "Requirement already satisfied: triton==2.2.0 in /usr/local/lib/python3.10/dist-packages (from torch<=2.2.0,>=1.9.0->sage==1.1.0) (2.2.0)\n",
            "Requirement already satisfied: nvidia-nvjitlink-cu12 in /usr/local/lib/python3.10/dist-packages (from nvidia-cusolver-cu12==11.4.5.107->torch<=2.2.0,>=1.9.0->sage==1.1.0) (12.6.20)\n",
            "Requirement already satisfied: huggingface-hub<1.0,>=0.23.2 in /usr/local/lib/python3.10/dist-packages (from transformers>=4.20.0->sage==1.1.0) (0.23.5)\n",
            "Requirement already satisfied: regex!=2019.12.17 in /usr/local/lib/python3.10/dist-packages (from transformers>=4.20.0->sage==1.1.0) (2024.5.15)\n",
            "Requirement already satisfied: safetensors>=0.4.1 in /usr/local/lib/python3.10/dist-packages (from transformers>=4.20.0->sage==1.1.0) (0.4.4)\n",
            "Requirement already satisfied: tokenizers<0.20,>=0.19 in /usr/local/lib/python3.10/dist-packages (from transformers>=4.20.0->sage==1.1.0) (0.19.1)\n",
            "Requirement already satisfied: pyarrow>=15.0.0 in /usr/local/lib/python3.10/dist-packages (from datasets->sage==1.1.0) (17.0.0)\n",
            "Requirement already satisfied: dill<0.3.9,>=0.3.0 in /usr/local/lib/python3.10/dist-packages (from datasets->sage==1.1.0) (0.3.8)\n",
            "Requirement already satisfied: xxhash in /usr/local/lib/python3.10/dist-packages (from datasets->sage==1.1.0) (3.5.0)\n",
            "Requirement already satisfied: multiprocess in /usr/local/lib/python3.10/dist-packages (from datasets->sage==1.1.0) (0.70.16)\n",
            "Requirement already satisfied: aiohttp in /usr/local/lib/python3.10/dist-packages (from datasets->sage==1.1.0) (3.10.2)\n",
            "Requirement already satisfied: charset-normalizer<4,>=2 in /usr/local/lib/python3.10/dist-packages (from requests->sage==1.1.0) (3.3.2)\n",
            "Requirement already satisfied: idna<4,>=2.5 in /usr/local/lib/python3.10/dist-packages (from requests->sage==1.1.0) (3.7)\n",
            "Requirement already satisfied: urllib3<3,>=1.21.1 in /usr/local/lib/python3.10/dist-packages (from requests->sage==1.1.0) (2.0.7)\n",
            "Requirement already satisfied: certifi>=2017.4.17 in /usr/local/lib/python3.10/dist-packages (from requests->sage==1.1.0) (2024.7.4)\n",
            "Requirement already satisfied: rapidfuzz<4.0.0,>=3.8.0 in /usr/local/lib/python3.10/dist-packages (from Levenshtein->sage==1.1.0) (3.9.6)\n",
            "Requirement already satisfied: pytz>=2020.1 in /usr/local/lib/python3.10/dist-packages (from pandas->sage==1.1.0) (2024.1)\n",
            "Requirement already satisfied: tzdata>=2022.1 in /usr/local/lib/python3.10/dist-packages (from pandas->sage==1.1.0) (2024.1)\n",
            "Requirement already satisfied: spacy<3.8.0,>=3.7.0 in /usr/local/lib/python3.10/dist-packages (from ru-core-news-lg@ https://huggingface.co/spacy/ru_core_news_lg/resolve/main/ru_core_news_lg-any-py3-none-any.whl->sage==1.1.0) (3.7.5)\n",
            "Requirement already satisfied: pymorphy3>=1.0.0 in /usr/local/lib/python3.10/dist-packages (from ru-core-news-lg@ https://huggingface.co/spacy/ru_core_news_lg/resolve/main/ru_core_news_lg-any-py3-none-any.whl->sage==1.1.0) (2.0.2)\n",
            "Requirement already satisfied: aiohappyeyeballs>=2.3.0 in /usr/local/lib/python3.10/dist-packages (from aiohttp->datasets->sage==1.1.0) (2.3.5)\n",
            "Requirement already satisfied: aiosignal>=1.1.2 in /usr/local/lib/python3.10/dist-packages (from aiohttp->datasets->sage==1.1.0) (1.3.1)\n",
            "Requirement already satisfied: attrs>=17.3.0 in /usr/local/lib/python3.10/dist-packages (from aiohttp->datasets->sage==1.1.0) (24.2.0)\n",
            "Requirement already satisfied: frozenlist>=1.1.1 in /usr/local/lib/python3.10/dist-packages (from aiohttp->datasets->sage==1.1.0) (1.4.1)\n",
            "Requirement already satisfied: multidict<7.0,>=4.5 in /usr/local/lib/python3.10/dist-packages (from aiohttp->datasets->sage==1.1.0) (6.0.5)\n",
            "Requirement already satisfied: yarl<2.0,>=1.0 in /usr/local/lib/python3.10/dist-packages (from aiohttp->datasets->sage==1.1.0) (1.9.4)\n",
            "Requirement already satisfied: async-timeout<5.0,>=4.0 in /usr/local/lib/python3.10/dist-packages (from aiohttp->datasets->sage==1.1.0) (4.0.3)\n",
            "Requirement already satisfied: dawg-python>=0.7.1 in /usr/local/lib/python3.10/dist-packages (from pymorphy3>=1.0.0->ru-core-news-lg@ https://huggingface.co/spacy/ru_core_news_lg/resolve/main/ru_core_news_lg-any-py3-none-any.whl->sage==1.1.0) (0.7.2)\n",
            "Requirement already satisfied: pymorphy3-dicts-ru in /usr/local/lib/python3.10/dist-packages (from pymorphy3>=1.0.0->ru-core-news-lg@ https://huggingface.co/spacy/ru_core_news_lg/resolve/main/ru_core_news_lg-any-py3-none-any.whl->sage==1.1.0) (2.4.417150.4580142)\n",
            "Requirement already satisfied: six>=1.5 in /usr/local/lib/python3.10/dist-packages (from python-dateutil>=2.7->matplotlib<3.7,>=3.2->sage==1.1.0) (1.16.0)\n",
            "Requirement already satisfied: spacy-legacy<3.1.0,>=3.0.11 in /usr/local/lib/python3.10/dist-packages (from spacy<3.8.0,>=3.7.0->ru-core-news-lg@ https://huggingface.co/spacy/ru_core_news_lg/resolve/main/ru_core_news_lg-any-py3-none-any.whl->sage==1.1.0) (3.0.12)\n",
            "Requirement already satisfied: spacy-loggers<2.0.0,>=1.0.0 in /usr/local/lib/python3.10/dist-packages (from spacy<3.8.0,>=3.7.0->ru-core-news-lg@ https://huggingface.co/spacy/ru_core_news_lg/resolve/main/ru_core_news_lg-any-py3-none-any.whl->sage==1.1.0) (1.0.5)\n",
            "Requirement already satisfied: murmurhash<1.1.0,>=0.28.0 in /usr/local/lib/python3.10/dist-packages (from spacy<3.8.0,>=3.7.0->ru-core-news-lg@ https://huggingface.co/spacy/ru_core_news_lg/resolve/main/ru_core_news_lg-any-py3-none-any.whl->sage==1.1.0) (1.0.10)\n",
            "Requirement already satisfied: cymem<2.1.0,>=2.0.2 in /usr/local/lib/python3.10/dist-packages (from spacy<3.8.0,>=3.7.0->ru-core-news-lg@ https://huggingface.co/spacy/ru_core_news_lg/resolve/main/ru_core_news_lg-any-py3-none-any.whl->sage==1.1.0) (2.0.8)\n",
            "Requirement already satisfied: preshed<3.1.0,>=3.0.2 in /usr/local/lib/python3.10/dist-packages (from spacy<3.8.0,>=3.7.0->ru-core-news-lg@ https://huggingface.co/spacy/ru_core_news_lg/resolve/main/ru_core_news_lg-any-py3-none-any.whl->sage==1.1.0) (3.0.9)\n",
            "Requirement already satisfied: thinc<8.3.0,>=8.2.2 in /usr/local/lib/python3.10/dist-packages (from spacy<3.8.0,>=3.7.0->ru-core-news-lg@ https://huggingface.co/spacy/ru_core_news_lg/resolve/main/ru_core_news_lg-any-py3-none-any.whl->sage==1.1.0) (8.2.5)\n",
            "Requirement already satisfied: wasabi<1.2.0,>=0.9.1 in /usr/local/lib/python3.10/dist-packages (from spacy<3.8.0,>=3.7.0->ru-core-news-lg@ https://huggingface.co/spacy/ru_core_news_lg/resolve/main/ru_core_news_lg-any-py3-none-any.whl->sage==1.1.0) (1.1.3)\n",
            "Requirement already satisfied: srsly<3.0.0,>=2.4.3 in /usr/local/lib/python3.10/dist-packages (from spacy<3.8.0,>=3.7.0->ru-core-news-lg@ https://huggingface.co/spacy/ru_core_news_lg/resolve/main/ru_core_news_lg-any-py3-none-any.whl->sage==1.1.0) (2.4.8)\n",
            "Requirement already satisfied: catalogue<2.1.0,>=2.0.6 in /usr/local/lib/python3.10/dist-packages (from spacy<3.8.0,>=3.7.0->ru-core-news-lg@ https://huggingface.co/spacy/ru_core_news_lg/resolve/main/ru_core_news_lg-any-py3-none-any.whl->sage==1.1.0) (2.0.10)\n",
            "Requirement already satisfied: weasel<0.5.0,>=0.1.0 in /usr/local/lib/python3.10/dist-packages (from spacy<3.8.0,>=3.7.0->ru-core-news-lg@ https://huggingface.co/spacy/ru_core_news_lg/resolve/main/ru_core_news_lg-any-py3-none-any.whl->sage==1.1.0) (0.4.1)\n",
            "Requirement already satisfied: typer<1.0.0,>=0.3.0 in /usr/local/lib/python3.10/dist-packages (from spacy<3.8.0,>=3.7.0->ru-core-news-lg@ https://huggingface.co/spacy/ru_core_news_lg/resolve/main/ru_core_news_lg-any-py3-none-any.whl->sage==1.1.0) (0.12.3)\n",
            "Requirement already satisfied: pydantic!=1.8,!=1.8.1,<3.0.0,>=1.7.4 in /usr/local/lib/python3.10/dist-packages (from spacy<3.8.0,>=3.7.0->ru-core-news-lg@ https://huggingface.co/spacy/ru_core_news_lg/resolve/main/ru_core_news_lg-any-py3-none-any.whl->sage==1.1.0) (2.8.2)\n",
            "Requirement already satisfied: setuptools in /usr/local/lib/python3.10/dist-packages (from spacy<3.8.0,>=3.7.0->ru-core-news-lg@ https://huggingface.co/spacy/ru_core_news_lg/resolve/main/ru_core_news_lg-any-py3-none-any.whl->sage==1.1.0) (71.0.4)\n",
            "Requirement already satisfied: langcodes<4.0.0,>=3.2.0 in /usr/local/lib/python3.10/dist-packages (from spacy<3.8.0,>=3.7.0->ru-core-news-lg@ https://huggingface.co/spacy/ru_core_news_lg/resolve/main/ru_core_news_lg-any-py3-none-any.whl->sage==1.1.0) (3.4.0)\n",
            "Requirement already satisfied: MarkupSafe>=2.0 in /usr/local/lib/python3.10/dist-packages (from jinja2->torch<=2.2.0,>=1.9.0->sage==1.1.0) (2.1.5)\n",
            "Requirement already satisfied: mpmath<1.4,>=1.1.0 in /usr/local/lib/python3.10/dist-packages (from sympy->torch<=2.2.0,>=1.9.0->sage==1.1.0) (1.3.0)\n",
            "Requirement already satisfied: language-data>=1.2 in /usr/local/lib/python3.10/dist-packages (from langcodes<4.0.0,>=3.2.0->spacy<3.8.0,>=3.7.0->ru-core-news-lg@ https://huggingface.co/spacy/ru_core_news_lg/resolve/main/ru_core_news_lg-any-py3-none-any.whl->sage==1.1.0) (1.2.0)\n",
            "Requirement already satisfied: annotated-types>=0.4.0 in /usr/local/lib/python3.10/dist-packages (from pydantic!=1.8,!=1.8.1,<3.0.0,>=1.7.4->spacy<3.8.0,>=3.7.0->ru-core-news-lg@ https://huggingface.co/spacy/ru_core_news_lg/resolve/main/ru_core_news_lg-any-py3-none-any.whl->sage==1.1.0) (0.7.0)\n",
            "Requirement already satisfied: pydantic-core==2.20.1 in /usr/local/lib/python3.10/dist-packages (from pydantic!=1.8,!=1.8.1,<3.0.0,>=1.7.4->spacy<3.8.0,>=3.7.0->ru-core-news-lg@ https://huggingface.co/spacy/ru_core_news_lg/resolve/main/ru_core_news_lg-any-py3-none-any.whl->sage==1.1.0) (2.20.1)\n",
            "Requirement already satisfied: blis<0.8.0,>=0.7.8 in /usr/local/lib/python3.10/dist-packages (from thinc<8.3.0,>=8.2.2->spacy<3.8.0,>=3.7.0->ru-core-news-lg@ https://huggingface.co/spacy/ru_core_news_lg/resolve/main/ru_core_news_lg-any-py3-none-any.whl->sage==1.1.0) (0.7.11)\n",
            "Requirement already satisfied: confection<1.0.0,>=0.0.1 in /usr/local/lib/python3.10/dist-packages (from thinc<8.3.0,>=8.2.2->spacy<3.8.0,>=3.7.0->ru-core-news-lg@ https://huggingface.co/spacy/ru_core_news_lg/resolve/main/ru_core_news_lg-any-py3-none-any.whl->sage==1.1.0) (0.1.5)\n",
            "Requirement already satisfied: click>=8.0.0 in /usr/local/lib/python3.10/dist-packages (from typer<1.0.0,>=0.3.0->spacy<3.8.0,>=3.7.0->ru-core-news-lg@ https://huggingface.co/spacy/ru_core_news_lg/resolve/main/ru_core_news_lg-any-py3-none-any.whl->sage==1.1.0) (8.1.7)\n",
            "Requirement already satisfied: shellingham>=1.3.0 in /usr/local/lib/python3.10/dist-packages (from typer<1.0.0,>=0.3.0->spacy<3.8.0,>=3.7.0->ru-core-news-lg@ https://huggingface.co/spacy/ru_core_news_lg/resolve/main/ru_core_news_lg-any-py3-none-any.whl->sage==1.1.0) (1.5.4)\n",
            "Requirement already satisfied: rich>=10.11.0 in /usr/local/lib/python3.10/dist-packages (from typer<1.0.0,>=0.3.0->spacy<3.8.0,>=3.7.0->ru-core-news-lg@ https://huggingface.co/spacy/ru_core_news_lg/resolve/main/ru_core_news_lg-any-py3-none-any.whl->sage==1.1.0) (13.7.1)\n",
            "Requirement already satisfied: cloudpathlib<1.0.0,>=0.7.0 in /usr/local/lib/python3.10/dist-packages (from weasel<0.5.0,>=0.1.0->spacy<3.8.0,>=3.7.0->ru-core-news-lg@ https://huggingface.co/spacy/ru_core_news_lg/resolve/main/ru_core_news_lg-any-py3-none-any.whl->sage==1.1.0) (0.18.1)\n",
            "Requirement already satisfied: smart-open<8.0.0,>=5.2.1 in /usr/local/lib/python3.10/dist-packages (from weasel<0.5.0,>=0.1.0->spacy<3.8.0,>=3.7.0->ru-core-news-lg@ https://huggingface.co/spacy/ru_core_news_lg/resolve/main/ru_core_news_lg-any-py3-none-any.whl->sage==1.1.0) (7.0.4)\n",
            "Requirement already satisfied: marisa-trie>=0.7.7 in /usr/local/lib/python3.10/dist-packages (from language-data>=1.2->langcodes<4.0.0,>=3.2.0->spacy<3.8.0,>=3.7.0->ru-core-news-lg@ https://huggingface.co/spacy/ru_core_news_lg/resolve/main/ru_core_news_lg-any-py3-none-any.whl->sage==1.1.0) (1.2.0)\n",
            "Requirement already satisfied: markdown-it-py>=2.2.0 in /usr/local/lib/python3.10/dist-packages (from rich>=10.11.0->typer<1.0.0,>=0.3.0->spacy<3.8.0,>=3.7.0->ru-core-news-lg@ https://huggingface.co/spacy/ru_core_news_lg/resolve/main/ru_core_news_lg-any-py3-none-any.whl->sage==1.1.0) (3.0.0)\n",
            "Requirement already satisfied: pygments<3.0.0,>=2.13.0 in /usr/local/lib/python3.10/dist-packages (from rich>=10.11.0->typer<1.0.0,>=0.3.0->spacy<3.8.0,>=3.7.0->ru-core-news-lg@ https://huggingface.co/spacy/ru_core_news_lg/resolve/main/ru_core_news_lg-any-py3-none-any.whl->sage==1.1.0) (2.16.1)\n",
            "Requirement already satisfied: wrapt in /usr/local/lib/python3.10/dist-packages (from smart-open<8.0.0,>=5.2.1->weasel<0.5.0,>=0.1.0->spacy<3.8.0,>=3.7.0->ru-core-news-lg@ https://huggingface.co/spacy/ru_core_news_lg/resolve/main/ru_core_news_lg-any-py3-none-any.whl->sage==1.1.0) (1.16.0)\n",
            "Requirement already satisfied: mdurl~=0.1 in /usr/local/lib/python3.10/dist-packages (from markdown-it-py>=2.2.0->rich>=10.11.0->typer<1.0.0,>=0.3.0->spacy<3.8.0,>=3.7.0->ru-core-news-lg@ https://huggingface.co/spacy/ru_core_news_lg/resolve/main/ru_core_news_lg-any-py3-none-any.whl->sage==1.1.0) (0.1.2)\n",
            "augmentex is already installed with the same version as the provided wheel. Use --force-reinstall to force an installation of the wheel.\n",
            "Installing collected packages: sage\n",
            "  Attempting uninstall: sage\n",
            "    Found existing installation: sage 1.1.0\n",
            "    Uninstalling sage-1.1.0:\n",
            "      Successfully uninstalled sage-1.1.0\n",
            "  Running setup.py develop for sage\n",
            "Successfully installed sage-1.1.0\n"
          ]
        }
      ]
    },
    {
      "cell_type": "code",
      "source": [
        "import os\n",
        "import torch\n",
        "from sage.spelling_correction import T5ModelForSpellingCorruption, RuM2M100ModelForSpellingCorrection, AvailableCorrectors"
      ],
      "metadata": {
        "id": "dzbsyvQsJC3d"
      },
      "execution_count": null,
      "outputs": []
    },
    {
      "cell_type": "markdown",
      "source": [
        "# **Текст учебника**"
      ],
      "metadata": {
        "id": "Ft9Ncj_xXM_e"
      }
    },
    {
      "cell_type": "markdown",
      "source": [
        "## ***Весь текст учебника***"
      ],
      "metadata": {
        "id": "racmW6ZezKYK"
      }
    },
    {
      "cell_type": "code",
      "source": [
        "reader = PdfReader('/content/drive/MyDrive/Internship_2024/Copy of 7_биология_Константинов_расп.pdf')\n",
        "number_of_pages = len(reader.pages)"
      ],
      "metadata": {
        "id": "A_73EknIuG1x"
      },
      "execution_count": null,
      "outputs": []
    },
    {
      "cell_type": "code",
      "source": [
        "all_text = [(reader.pages[page]).extract_text() for page in range(number_of_pages)]"
      ],
      "metadata": {
        "id": "az3MeEuOIaPU"
      },
      "execution_count": null,
      "outputs": []
    },
    {
      "cell_type": "code",
      "source": [
        "all_text[4]"
      ],
      "metadata": {
        "colab": {
          "base_uri": "https://localhost:8080/",
          "height": 140
        },
        "id": "hi8rZqNeIq-s",
        "outputId": "015887ea-5993-4de3-d3d6-0f19a278b984"
      },
      "execution_count": null,
      "outputs": [
        {
          "output_type": "execute_result",
          "data": {
            "text/plain": [
              "'Глава 1 ____________\\nО бщ ие с в е д е н и я  о м и р е ж и в о т н ы х\\n1\\nЗоология — наука о ж ивотны х\\nВы узнаете:\\n• какие науки входят в состав зоологии;\\n• каковы общие свойства объектов, изучаемых зоологией;\\n• по каким признакам животные отличаются от растений.\\nВспомните\\n• Каковы общие признаки растений?\\nВведение\\nВ предыдущ их классах вы познакомились с представителями трёх \\nцарств: Бактерии, Грибы, Растения. Теперь вы приступаете к изучению \\nнового царства живых организмов — Животные.\\nРаздел биологии, посвящённый изучению животных, их разнообразия, \\nстроения и ж изнедеятельности, связей со средой обитания, распростране\\xad\\nния, индивидуального и исторического развития, роли в природе и зн а\\xad\\nчения для человека, назы вается зоологи ей  (от греч. зоон  — «животное», \\nлогос  — «учение»).\\nСовременная зоология —  это система наук. Например, м орф ологи я  \\nи анат ом ия ж ивот ны х  изучаю т внешнее и внутреннее строение орга\\xad\\nнизмов. Ф и зи ол оги я ж ивот ны х  исследует деятельность клеток, орга\\xad\\nнов, систем органов и целых организмов. Важную часть зоологии составля\\xad\\nет эк ологи я ж ивот ны х,  изучаю щ ая взаимоотношения животных между \\nсобой, с другими организмами и со средой обитания. П алеонт ология  \\nрассматривает ископаемых животных и их изменения в процессе истори\\xad\\nческого развития. Э т ология  изучает поведение животных.\\nЗоология изучает различны х животных — беспозвоночных и позвоноч\\xad\\nных (рис. 1). Особый мир представлен животными, состоящими всего из од\\xad\\nной клетки, — простейшими (рис. 2).\\n4\\n'"
            ],
            "application/vnd.google.colaboratory.intrinsic+json": {
              "type": "string"
            }
          },
          "metadata": {},
          "execution_count": 44
        }
      ]
    },
    {
      "cell_type": "code",
      "source": [
        "def preprocessing(text): # Минимальный препроцессинг\n",
        "  text_clean = [item.replace('\\xad', '') for item in text]\n",
        "  text_clean = [item.replace('\\n', ' ') for item in text_clean]\n",
        "  return text_clean"
      ],
      "metadata": {
        "id": "I_7bWhtRPXwt"
      },
      "execution_count": null,
      "outputs": []
    },
    {
      "cell_type": "code",
      "source": [
        "all_text_clean0 = preprocessing(all_text) # Предобработаем текст"
      ],
      "metadata": {
        "id": "ct_WuS7ZPcY1"
      },
      "execution_count": null,
      "outputs": []
    },
    {
      "cell_type": "markdown",
      "source": [
        "## ***Глава 1, параграф 1***"
      ],
      "metadata": {
        "id": "hJCR8UQFXRCf"
      }
    },
    {
      "cell_type": "code",
      "source": [
        "chapter_1 = [(reader.pages[ch]).extract_text() for ch in range(4, 9)] # извлечем текст параграфа 1"
      ],
      "metadata": {
        "id": "RmHrZ2MsXZBn"
      },
      "execution_count": null,
      "outputs": []
    },
    {
      "cell_type": "code",
      "source": [
        "chapter_1"
      ],
      "metadata": {
        "collapsed": true,
        "colab": {
          "base_uri": "https://localhost:8080/"
        },
        "id": "iufBARP-Xxnf",
        "outputId": "92cdb5b8-b6f0-4b67-8c9c-c0c975222db4"
      },
      "execution_count": null,
      "outputs": [
        {
          "output_type": "execute_result",
          "data": {
            "text/plain": [
              "['Глава 1 ____________\\nО бщ ие с в е д е н и я  о м и р е ж и в о т н ы х\\n1\\nЗоология — наука о ж ивотны х\\nВы узнаете:\\n• какие науки входят в состав зоологии;\\n• каковы общие свойства объектов, изучаемых зоологией;\\n• по каким признакам животные отличаются от растений.\\nВспомните\\n• Каковы общие признаки растений?\\nВведение\\nВ предыдущ их классах вы познакомились с представителями трёх \\nцарств: Бактерии, Грибы, Растения. Теперь вы приступаете к изучению \\nнового царства живых организмов — Животные.\\nРаздел биологии, посвящённый изучению животных, их разнообразия, \\nстроения и ж изнедеятельности, связей со средой обитания, распростране\\xad\\nния, индивидуального и исторического развития, роли в природе и зн а\\xad\\nчения для человека, назы вается зоологи ей  (от греч. зоон  — «животное», \\nлогос  — «учение»).\\nСовременная зоология —  это система наук. Например, м орф ологи я  \\nи анат ом ия ж ивот ны х  изучаю т внешнее и внутреннее строение орга\\xad\\nнизмов. Ф и зи ол оги я ж ивот ны х  исследует деятельность клеток, орга\\xad\\nнов, систем органов и целых организмов. Важную часть зоологии составля\\xad\\nет эк ологи я ж ивот ны х,  изучаю щ ая взаимоотношения животных между \\nсобой, с другими организмами и со средой обитания. П алеонт ология  \\nрассматривает ископаемых животных и их изменения в процессе истори\\xad\\nческого развития. Э т ология  изучает поведение животных.\\nЗоология изучает различны х животных — беспозвоночных и позвоноч\\xad\\nных (рис. 1). Особый мир представлен животными, состоящими всего из од\\xad\\nной клетки, — простейшими (рис. 2).\\n4\\n',\n",
              " 'Рис. 1. Разнообразие многоклеточных животных: А — беспозвоночные; Б — позвоночные\\n5\\n',\n",
              " 'Рис. 2. Разнообразие одноклеточных животных (простейших)\\nСходство и различие животных и растений\\nДля животных, как и для большинства других ж ивых организмов, ха\\xad\\nрактерны следующие особенности: клеточное строение, способность к пи\\xad\\nтанию, дыханию, выделению, наличие обмена веществ меж ду организмом \\nи окружаю щ ей средой, способность к размножению, росту, развитию.\\nЖ ивотные отличаются от растений по следующим признакам. Клетки \\nживотных не имеют твёрдой целлюлозной оболочки. В отличие от расте\\xad\\nний животные питаю тся готовыми органическими веществами. В природ\\xad\\nных сообществах они играют роль потребителей органического вещества. \\nЖ ивотные способны воспринимать раздраж ения и реагировать на них. \\nОни могут активно передвигаться. Большинство сами добывают себе пищу, \\nпреследуют добычу.\\nРазнообразие животных\\nПо данным Всемирного (М еждународного) союза охраны природы I \\n(ВСОП), на Земле сущ ествует более 1,2 млн видов животных. Больш е все- I \\nго насекомых — около 1  млн видов. Известно около 70 тыс. видов моллюс- I \\nков, свыше 29 тыс. видов рыб. Современных птиц насчитывают по сравне- I  \\nнию с другими группами немного —  около 9000 видов, ещ ё меньше млеко- I  \\nпитающих —  около 5000 видов.\\nРаспространены животные по всему земному шару. Они освоили раз- I  \\nные среды ж изни — водную, наземно-воздушную, почвенную. Известны | \\nи такие животные, которые обитают в растениях. Некоторые паразитиру\\xad\\nют в организмах других животных и человека.\\nЖ ивотные очень разнообразны по облику и строению, размерам, обра- ;  \\n3У  жизни. Одни передвигаются в воде с помощью ресничек, другие —  за I  \\nсчет плавников. Большинство наземных животных при движении опира\\xad\\nются на парные конечности. Насекомые, птицы, летучие мыши для полёта I \\nиспользуют крылья.\\nб\\n',\n",
              " 'Рис. 3. Сравнительные размеры животных (простейшие даны в поле оптического \\nмикроскопа)\\nСамых маленьких животных можно увидеть только под микроскопом. \\nКрупные наземные животные, например слоны, достигают в высоту 3,5 м, \\nа масса их тела около 5 т. Самое большое животное из когда-либо живш их \\nи живущих на Земле —  синий кит длиной более 30 м и массой до 150 т (рис. 3).\\nЗначение животных\\nЖ ивотные различаю тся не только по внешнему облику, строению, об\\xad\\nразу ж изни, но и по той роли, которую  они играю т в природны х сооб\\xad\\nществах. Велика роль в природе животных — опы лит елей  растений \\n(рис. 4). Это бабочки, жуки, мухи, шмели, пчёлы и другие организмы. Без \\nних облик наш их лесов, лугов, полей был бы совсем другим. Многие ж ивот\\xad\\nные распространяют плоды и семена растений, перенося их на шерсти \\nи перьях или питаясь сочными плодами. М якоть переваривается, а семена \\nпроходят через киш ечник и разносятся на большие расстояния.\\nНекоторые животные играют отрицательную роль в природных сооб\\xad\\nществах. Массовое появление гусениц непарного ш елкопряда наносит \\n0громный вред лесам. Они поедают листья, почки, молодые побеги. Стаи\\n7\\n',\n",
              " 'Рис. 4. Насекомые — опылители растений\\nазиатской перелётной саранчи (рис. 5) уничтожаю т растительность на \\nогромных площ адях, лиш ая пищи другие растительноядные организмы. \\nЕсть животные, вызываю щ ие болезни у растений, других животных и че\\xad\\nловека.\\nОтдельные животные, наоборот, снижают число вредителей лесных \\nи культурных растений, питаясь ими.\\nБольшую ценность для человека имеют дикие животные как объекты \\nохоты. Значительную  часть белковой пищи человек получает за счёт вы\\xad\\nлова рыбы в морях и океанах, промысла морского зверя, охоты на каба\\xad\\nнов, оленей, водоплавающих и лесных птиц.\\nИсключительно важное значение \\nдля людей имеют домашние живот\\xad\\nные. Мы получаем от них продукты \\nпитания (молоко, яйца, мёд), шерсть, \\nпух, кожу, шёлк. Домашние ж ивот\\xad\\nные выполняю т различную  работу \\nв сельском хозяйстве, служ ат транс\\xad\\nпортными средствами. Декоративные \\nживотные ж ивут вместе с человеком \\nв квартирах и домах, скраш ивая до\\xad\\nсуг горожан. Больш инство одомаш- \\nРис. 5. Азиатская перелётная ненных животных — это млекопита-\\nсаранча ющие и птицы.\\nСовременная зоология — это система наук, имеющих важное теоре- \\n:  тическое и практическое значение.\\nЗоология, морфология, анатомия, физиология, экология, пале\\xad\\nонтология, этология, опылители.\\n8\\n']"
            ]
          },
          "metadata": {},
          "execution_count": 9
        }
      ]
    },
    {
      "cell_type": "code",
      "source": [
        "chapter_1_clean = preprocessing(chapter_1) # предобработаем"
      ],
      "metadata": {
        "id": "XYVHRBpeXZGX"
      },
      "execution_count": null,
      "outputs": []
    },
    {
      "cell_type": "code",
      "source": [
        "chapter_1_clean_joined = [' '.join(chapter_1_clean)] # внутри списка объединим строки, чтобы получился список, длиной 1, затем скормим модели и посмоттрим результат"
      ],
      "metadata": {
        "id": "gXDipTtpX1YP"
      },
      "execution_count": null,
      "outputs": []
    },
    {
      "cell_type": "code",
      "source": [
        "chapter_1_clean_joined"
      ],
      "metadata": {
        "colab": {
          "base_uri": "https://localhost:8080/"
        },
        "id": "Mlt-an0YYATo",
        "outputId": "a0fa4005-c6b2-4c11-e1d7-9425517f5eb9"
      },
      "execution_count": null,
      "outputs": [
        {
          "output_type": "execute_result",
          "data": {
            "text/plain": [
              "['Глава 1 ____________ О бщ ие с в е д е н и я  о м и р е ж и в о т н ы х 1 Зоология — наука о ж ивотны х Вы узнаете: • какие науки входят в состав зоологии; • каковы общие свойства объектов, изучаемых зоологией; • по каким признакам животные отличаются от растений. Вспомните • Каковы общие признаки растений? Введение В предыдущ их классах вы познакомились с представителями трёх  царств: Бактерии, Грибы, Растения. Теперь вы приступаете к изучению  нового царства живых организмов — Животные. Раздел биологии, посвящённый изучению животных, их разнообразия,  строения и ж изнедеятельности, связей со средой обитания, распростране ния, индивидуального и исторического развития, роли в природе и зн а чения для человека, назы вается зоологи ей  (от греч. зоон  — «животное»,  логос  — «учение»). Современная зоология —  это система наук. Например, м орф ологи я   и анат ом ия ж ивот ны х  изучаю т внешнее и внутреннее строение орга низмов. Ф и зи ол оги я ж ивот ны х  исследует деятельность клеток, орга нов, систем органов и целых организмов. Важную часть зоологии составля ет эк ологи я ж ивот ны х,  изучаю щ ая взаимоотношения животных между  собой, с другими организмами и со средой обитания. П алеонт ология   рассматривает ископаемых животных и их изменения в процессе истори ческого развития. Э т ология  изучает поведение животных. Зоология изучает различны х животных — беспозвоночных и позвоноч ных (рис. 1). Особый мир представлен животными, состоящими всего из од ной клетки, — простейшими (рис. 2). 4  Рис. 1. Разнообразие многоклеточных животных: А — беспозвоночные; Б — позвоночные 5  Рис. 2. Разнообразие одноклеточных животных (простейших) Сходство и различие животных и растений Для животных, как и для большинства других ж ивых организмов, ха рактерны следующие особенности: клеточное строение, способность к пи танию, дыханию, выделению, наличие обмена веществ меж ду организмом  и окружаю щ ей средой, способность к размножению, росту, развитию. Ж ивотные отличаются от растений по следующим признакам. Клетки  животных не имеют твёрдой целлюлозной оболочки. В отличие от расте ний животные питаю тся готовыми органическими веществами. В природ ных сообществах они играют роль потребителей органического вещества.  Ж ивотные способны воспринимать раздраж ения и реагировать на них.  Они могут активно передвигаться. Большинство сами добывают себе пищу,  преследуют добычу. Разнообразие животных По данным Всемирного (М еждународного) союза охраны природы I  (ВСОП), на Земле сущ ествует более 1,2 млн видов животных. Больш е все- I  го насекомых — около 1  млн видов. Известно около 70 тыс. видов моллюс- I  ков, свыше 29 тыс. видов рыб. Современных птиц насчитывают по сравне- I   нию с другими группами немного —  около 9000 видов, ещ ё меньше млеко- I   питающих —  около 5000 видов. Распространены животные по всему земному шару. Они освоили раз- I   ные среды ж изни — водную, наземно-воздушную, почвенную. Известны |  и такие животные, которые обитают в растениях. Некоторые паразитиру ют в организмах других животных и человека. Ж ивотные очень разнообразны по облику и строению, размерам, обра- ;   3У  жизни. Одни передвигаются в воде с помощью ресничек, другие —  за I   счет плавников. Большинство наземных животных при движении опира ются на парные конечности. Насекомые, птицы, летучие мыши для полёта I  используют крылья. б  Рис. 3. Сравнительные размеры животных (простейшие даны в поле оптического  микроскопа) Самых маленьких животных можно увидеть только под микроскопом.  Крупные наземные животные, например слоны, достигают в высоту 3,5 м,  а масса их тела около 5 т. Самое большое животное из когда-либо живш их  и живущих на Земле —  синий кит длиной более 30 м и массой до 150 т (рис. 3). Значение животных Ж ивотные различаю тся не только по внешнему облику, строению, об разу ж изни, но и по той роли, которую  они играю т в природны х сооб ществах. Велика роль в природе животных — опы лит елей  растений  (рис. 4). Это бабочки, жуки, мухи, шмели, пчёлы и другие организмы. Без  них облик наш их лесов, лугов, полей был бы совсем другим. Многие ж ивот ные распространяют плоды и семена растений, перенося их на шерсти  и перьях или питаясь сочными плодами. М якоть переваривается, а семена  проходят через киш ечник и разносятся на большие расстояния. Некоторые животные играют отрицательную роль в природных сооб ществах. Массовое появление гусениц непарного ш елкопряда наносит  0громный вред лесам. Они поедают листья, почки, молодые побеги. Стаи 7  Рис. 4. Насекомые — опылители растений азиатской перелётной саранчи (рис. 5) уничтожаю т растительность на  огромных площ адях, лиш ая пищи другие растительноядные организмы.  Есть животные, вызываю щ ие болезни у растений, других животных и че ловека. Отдельные животные, наоборот, снижают число вредителей лесных  и культурных растений, питаясь ими. Большую ценность для человека имеют дикие животные как объекты  охоты. Значительную  часть белковой пищи человек получает за счёт вы лова рыбы в морях и океанах, промысла морского зверя, охоты на каба нов, оленей, водоплавающих и лесных птиц. Исключительно важное значение  для людей имеют домашние живот ные. Мы получаем от них продукты  питания (молоко, яйца, мёд), шерсть,  пух, кожу, шёлк. Домашние ж ивот ные выполняю т различную  работу  в сельском хозяйстве, служ ат транс портными средствами. Декоративные  животные ж ивут вместе с человеком  в квартирах и домах, скраш ивая до суг горожан. Больш инство одомаш-  Рис. 5. Азиатская перелётная ненных животных — это млекопита- саранча ющие и птицы. Современная зоология — это система наук, имеющих важное теоре-  :  тическое и практическое значение. Зоология, морфология, анатомия, физиология, экология, пале онтология, этология, опылители. 8 ']"
            ]
          },
          "metadata": {},
          "execution_count": 31
        }
      ]
    },
    {
      "cell_type": "markdown",
      "source": [
        "# **sage-fredt5-large**"
      ],
      "metadata": {
        "id": "YYlrzIO2TFFP"
      }
    },
    {
      "cell_type": "code",
      "source": [
        "sage_fredt5_large_corrector = T5ModelForSpellingCorruption.from_pretrained(AvailableCorrectors.sage_mt5_large.value)"
      ],
      "metadata": {
        "colab": {
          "base_uri": "https://localhost:8080/",
          "height": 385,
          "referenced_widgets": [
            "3e0f06b484b847a189e1f31045bc2db5",
            "5dfa2b2b3db842cf8427d6d22b917e66",
            "97f24072fec448cab357e0bb973e632d",
            "7607b4a2c33b4e708b64c23b94a1f136",
            "a8db5c0742eb4442815087b052a99c7f",
            "702dd88207f94ab69a1fe01a287ce222",
            "5287d982e3e043349c4ce03f6def37be",
            "5ab052826eef498cab32bf38f1891984",
            "79adcd7a352648cc81478dc5246cf92b",
            "3e239d3557764429b7a06c3131ecbe47",
            "f425e2bd98bc4934826fc78e4861c9d6",
            "3aa6f3669272458292665fde9e250fb6",
            "a3aa1b43381f4383a62e7b5ae97744e1",
            "9ac1b11da6624675acf23916c5b9ce35",
            "2295de058d394f12808a08dfa4e7ca9f",
            "08dcb6ceb7c2436b9ea33fa52c721b7c",
            "045092e0c30e448a845e3cefd6dfdf06",
            "802cda5dd76140fdb683d1a7fd964fbc",
            "0476e756c3cb4850952ffb254adf31c5",
            "a2cd19a8fbe949b4943604c68701465e",
            "2db48e99c7d346dba1c96b08737c668f",
            "14707c09e0be4256ab60e2134710697d",
            "82647f6ba6ed4cdabf8bb7e971599f3b",
            "4ee4017c5ec84bec9a9d7ef8f1580d05",
            "20af83ca1c7c4d4d8285532216b3d614",
            "beab1e30ff1846cca659e1f7bd134636",
            "07cab485252a4a7f9f96524111e22eea",
            "6c2b595adcef4f0a94c5d9288d59d2d5",
            "5377b3f3f9ba4632a0470eb5108f0d88",
            "f83c084e69e647349479848d771e108d",
            "69eeaba32846415e8155130cd9d48120",
            "ef157f26ec1149e6a11834673b126dba",
            "9543e2380aa24f3d8dabf8ae24f403fc",
            "d927969bcc1443518ed22d41e84a537b",
            "2b69332039514c97a471be76cfba6197",
            "1bf2cfff57c740c4ac0d331119274c6e",
            "1902907d7f30491db0368497eab92b10",
            "0e5ecf54a36f4449acbe3df00fb5bac5",
            "f35f0073b05948048025fd09183da1f4",
            "c0534d99452749449806122e20cf94ef",
            "54e7c1d25b4c47f0a48b8e45daf90474",
            "8a8fffce12de4991bb2d809b5bf6b437",
            "3b3a982c89b84a25a43a73b7cbe3f3c2",
            "cee869af0e514b86b8e5df7c10e24828",
            "4035839db16247a8beb68c893f1366fb",
            "adee2e5355b846f0b83dc3522e902bdf",
            "4d04f89120a14735b0af47bc02428d4a",
            "396c2c2b62ab404f8a86def868208936",
            "d206cab3cfb6470384e4a8e4fc06eeb7",
            "766d6356a0a743f8952b6be9bba93d5e",
            "62afbb340fac423b94180a2b9f0fc25c",
            "6b25652e93494690ae1218ba9196e53b",
            "6f91e6d3a0d544a5a297d7a3d91037a2",
            "333a5e97402142c191837fc95e9795ef",
            "fb6e9c1ccee1487d909680db435063eb",
            "1cffdd8200644475b94e4b52cf15f52e",
            "0353962026ec494bacd93c3f81d71927",
            "b0aa005783994b86a5cb917fe70b8511",
            "98d1262752604e4cb03d4ccfbc939036",
            "85923ea0afaa4a3891baf4936f491e52",
            "21a1bc8b7d1e4485a45525b56c9e9c5a",
            "f97219da589542789b388409a363ce32",
            "77c08dca6df34f0985c7a3e5404eda31",
            "1ed04596f3f043d0bbbfa2e0e99ea17b",
            "61beb04a6a0044dbac02c371d044b6d3",
            "32167a3ba17c432687cdb27adcbf9af3"
          ]
        },
        "id": "I2T6vL_3L_ju",
        "outputId": "16b55856-d132-43f2-f4d9-24f06808e2c9"
      },
      "execution_count": null,
      "outputs": [
        {
          "output_type": "stream",
          "name": "stderr",
          "text": [
            "/usr/local/lib/python3.10/dist-packages/huggingface_hub/utils/_token.py:89: UserWarning: \n",
            "The secret `HF_TOKEN` does not exist in your Colab secrets.\n",
            "To authenticate with the Hugging Face Hub, create a token in your settings tab (https://huggingface.co/settings/tokens), set it as secret in your Google Colab and restart your session.\n",
            "You will be able to reuse this secret in all of your notebooks.\n",
            "Please note that authentication is recommended but still optional to access public models or datasets.\n",
            "  warnings.warn(\n"
          ]
        },
        {
          "output_type": "display_data",
          "data": {
            "text/plain": [
              "config.json:   0%|          | 0.00/827 [00:00<?, ?B/s]"
            ],
            "application/vnd.jupyter.widget-view+json": {
              "version_major": 2,
              "version_minor": 0,
              "model_id": "3e0f06b484b847a189e1f31045bc2db5"
            }
          },
          "metadata": {}
        },
        {
          "output_type": "display_data",
          "data": {
            "text/plain": [
              "model.safetensors:   0%|          | 0.00/4.92G [00:00<?, ?B/s]"
            ],
            "application/vnd.jupyter.widget-view+json": {
              "version_major": 2,
              "version_minor": 0,
              "model_id": "3aa6f3669272458292665fde9e250fb6"
            }
          },
          "metadata": {}
        },
        {
          "output_type": "display_data",
          "data": {
            "text/plain": [
              "generation_config.json:   0%|          | 0.00/163 [00:00<?, ?B/s]"
            ],
            "application/vnd.jupyter.widget-view+json": {
              "version_major": 2,
              "version_minor": 0,
              "model_id": "82647f6ba6ed4cdabf8bb7e971599f3b"
            }
          },
          "metadata": {}
        },
        {
          "output_type": "display_data",
          "data": {
            "text/plain": [
              "tokenizer_config.json:   0%|          | 0.00/862 [00:00<?, ?B/s]"
            ],
            "application/vnd.jupyter.widget-view+json": {
              "version_major": 2,
              "version_minor": 0,
              "model_id": "d927969bcc1443518ed22d41e84a537b"
            }
          },
          "metadata": {}
        },
        {
          "output_type": "display_data",
          "data": {
            "text/plain": [
              "spiece.model:   0%|          | 0.00/4.31M [00:00<?, ?B/s]"
            ],
            "application/vnd.jupyter.widget-view+json": {
              "version_major": 2,
              "version_minor": 0,
              "model_id": "4035839db16247a8beb68c893f1366fb"
            }
          },
          "metadata": {}
        },
        {
          "output_type": "display_data",
          "data": {
            "text/plain": [
              "special_tokens_map.json:   0%|          | 0.00/416 [00:00<?, ?B/s]"
            ],
            "application/vnd.jupyter.widget-view+json": {
              "version_major": 2,
              "version_minor": 0,
              "model_id": "1cffdd8200644475b94e4b52cf15f52e"
            }
          },
          "metadata": {}
        },
        {
          "output_type": "stream",
          "name": "stderr",
          "text": [
            "You set `add_prefix_space`. The tokenizer needs to be converted from the slow tokenizers\n",
            "/usr/local/lib/python3.10/dist-packages/transformers/convert_slow_tokenizer.py:562: UserWarning: The sentencepiece tokenizer that you are converting to a fast tokenizer uses the byte fallback option which is not implemented in the fast tokenizers. In practice this means that the fast version of the tokenizer can produce unknown tokens whereas the sentencepiece version would have converted these unknown tokens into a sequence of byte tokens matching the original piece of text.\n",
            "  warnings.warn(\n"
          ]
        }
      ]
    },
    {
      "cell_type": "markdown",
      "source": [
        "## ***Применение***"
      ],
      "metadata": {
        "id": "7Psj8rddPU1G"
      }
    },
    {
      "cell_type": "code",
      "source": [
        "all_text_clean0[4] # из всего текста учебника возьмем фрагмент под индексом 4 (длина строки 1517)"
      ],
      "metadata": {
        "colab": {
          "base_uri": "https://localhost:8080/",
          "height": 209
        },
        "id": "jlYe8hWLPfJt",
        "outputId": "6a8fdf04-2b32-48c1-fb24-a9d6e0499fbe"
      },
      "execution_count": null,
      "outputs": [
        {
          "output_type": "execute_result",
          "data": {
            "text/plain": [
              "'Глава 1 ____________ О бщ ие с в е д е н и я  о м и р е ж и в о т н ы х 1 Зоология — наука о ж ивотны х Вы узнаете: • какие науки входят в состав зоологии; • каковы общие свойства объектов, изучаемых зоологией; • по каким признакам животные отличаются от растений. Вспомните • Каковы общие признаки растений? Введение В предыдущ их классах вы познакомились с представителями трёх  царств: Бактерии, Грибы, Растения. Теперь вы приступаете к изучению  нового царства живых организмов — Животные. Раздел биологии, посвящённый изучению животных, их разнообразия,  строения и ж изнедеятельности, связей со средой обитания, распростране ния, индивидуального и исторического развития, роли в природе и зн а чения для человека, назы вается зоологи ей  (от греч. зоон  — «животное»,  логос  — «учение»). Современная зоология —  это система наук. Например, м орф ологи я   и анат ом ия ж ивот ны х  изучаю т внешнее и внутреннее строение орга низмов. Ф и зи ол оги я ж ивот ны х  исследует деятельность клеток, орга нов, систем органов и целых организмов. Важную часть зоологии составля ет эк ологи я ж ивот ны х,  изучаю щ ая взаимоотношения животных между  собой, с другими организмами и со средой обитания. П алеонт ология   рассматривает ископаемых животных и их изменения в процессе истори ческого развития. Э т ология  изучает поведение животных. Зоология изучает различны х животных — беспозвоночных и позвоноч ных (рис. 1). Особый мир представлен животными, состоящими всего из од ной клетки, — простейшими (рис. 2). 4 '"
            ],
            "application/vnd.google.colaboratory.intrinsic+json": {
              "type": "string"
            }
          },
          "metadata": {},
          "execution_count": 20
        }
      ]
    },
    {
      "cell_type": "code",
      "source": [
        "result_large0 = sage_fredt5_large_corrector.correct(all_text_clean0[4])"
      ],
      "metadata": {
        "colab": {
          "base_uri": "https://localhost:8080/",
          "height": 49,
          "referenced_widgets": [
            "5647dae8e0e140c7b82d7a1d788ed24c",
            "33f6578eac49431f8c04ffe4a1906b50",
            "713742b0e4e54d6faa5dc0769cd2d0d5",
            "b59880761d554acb9b1b49ae63475d63",
            "4a0ffc0e08d54599a04b4507d7b67087",
            "e61e2bda3e144ea88c356ffce6251aa6",
            "61cf9ecc8fb84d898c45bdcf706089d1",
            "f25045d3d96b456090e355b4f6e723ed",
            "a938a3cecc2c4c719e7e1fc0bcf9f370",
            "efb81a491ab345d8a8d17289ccef0c96",
            "59c4fbd204f04344a7c5731685ade57f"
          ]
        },
        "id": "1eUIPpiEPph-",
        "outputId": "4d8ed0a8-885b-431e-d530-26c489f61a16"
      },
      "execution_count": null,
      "outputs": [
        {
          "output_type": "display_data",
          "data": {
            "text/plain": [
              "  0%|          | 0/1 [00:00<?, ?it/s]"
            ],
            "application/vnd.jupyter.widget-view+json": {
              "version_major": 2,
              "version_minor": 0,
              "model_id": "5647dae8e0e140c7b82d7a1d788ed24c"
            }
          },
          "metadata": {}
        }
      ]
    },
    {
      "cell_type": "code",
      "source": [
        "result_large0"
      ],
      "metadata": {
        "colab": {
          "base_uri": "https://localhost:8080/"
        },
        "id": "hTyIclyEQdiN",
        "outputId": "f7fc77f2-c954-413c-d2ba-e7f5efe007ab"
      },
      "execution_count": null,
      "outputs": [
        {
          "output_type": "execute_result",
          "data": {
            "text/plain": [
              "['Глава 1 ____________ О б и е с в е д е н и я о м и р е ж и в о т н ы х. 1 Зоология — наука о животных — Вы узнаете: \\xad какие науки входят в состав зоологии; \\xad каковы общие свойства объектов, изучаемых зоологией; \\xad по каким признакам животные отличаются от растений. Вспомните: \\xad каковы общие признаки растений? Введение: В предыдущих их классах вы познакомились с представителями трёх царств: Бактерии, Грибы, Растения. Теперь вы приступаете к изучению нового царства живых организмов — Животные. Раздел биологии, посвящённый изучению животных, их разнообразия, строения и их жизнедеятельности, связей со средой обитания, распространения их индивидуального и исторического развития, роли в природе и т. д. Учения для человека, называется зоологией (от греч. зоон — «животное», логос — «учение»). Современная зоология — это система наук. Например, м о ология я и а н а и я и вот ны х изучают и внешнее и внутреннее строение органов и м и о логи я и вот ны х изучают и взаимоотношения животных между собой, с другими организмами и со средой обитания. П а леонт ология рассматривает ископаемых животных и их изменения в процессе истории человеческого развития. Э т ология изучает поведение животных. Зоология изучает различны х животных — беспозвоночных и позвоночных ных (рис. 1). Особый мир представлен животными, состоящими всего из одной одной клетки — простейшими (рис. 2). ']"
            ]
          },
          "metadata": {},
          "execution_count": 23
        }
      ]
    },
    {
      "cell_type": "code",
      "source": [
        "len(result_large0[0])"
      ],
      "metadata": {
        "colab": {
          "base_uri": "https://localhost:8080/"
        },
        "id": "jgqd2u_CQqkF",
        "outputId": "d98ceef1-5fb3-48e8-e20b-8236aa7562f1"
      },
      "execution_count": null,
      "outputs": [
        {
          "output_type": "execute_result",
          "data": {
            "text/plain": [
              "1375"
            ]
          },
          "metadata": {},
          "execution_count": 25
        }
      ]
    },
    {
      "cell_type": "markdown",
      "source": [
        "**Попробую применить модель на всем тексте параграфа 1**"
      ],
      "metadata": {
        "id": "Iv0A7E6Wbkao"
      }
    },
    {
      "cell_type": "code",
      "source": [
        "result_large_ch_1 = sage_fredt5_large_corrector.correct(chapter_1_clean_joined[0])  # применим модель к минимально предобр. тексту параграфа 1"
      ],
      "metadata": {
        "colab": {
          "base_uri": "https://localhost:8080/",
          "height": 49,
          "referenced_widgets": [
            "705ab5d3d3814cf8b224b01f28850a13",
            "d3797c25b8a64f46802c8e3a3ec7678b",
            "8ebbfd95e6d64eaa92e6ad2f2eb9809f",
            "42a0354c8c574fa5bfde8fd39bc0e035",
            "4210301ad3c348f687a2b4c5b1a59f97",
            "33346d2b326b488ba1712247b8fa12c9",
            "276b0cd57c1340cfadf41c8d3b3f26d3",
            "197bb744f6944f408659fbefacff7531",
            "560aa1f669a34ab88be7c91be1c1a703",
            "fe19d84b210b4b92bb4bd81e26a69460",
            "eefe8c0612074ae0b50e5bd3649036ad"
          ]
        },
        "id": "cZkFClRGYakP",
        "outputId": "fa4f64d2-9848-4b57-f011-218d47e74fd9"
      },
      "execution_count": null,
      "outputs": [
        {
          "output_type": "display_data",
          "data": {
            "text/plain": [
              "  0%|          | 0/1 [00:00<?, ?it/s]"
            ],
            "application/vnd.jupyter.widget-view+json": {
              "version_major": 2,
              "version_minor": 0,
              "model_id": "705ab5d3d3814cf8b224b01f28850a13"
            }
          },
          "metadata": {}
        }
      ]
    },
    {
      "cell_type": "code",
      "source": [
        "chapter_1_clean_joined[0]"
      ],
      "metadata": {
        "colab": {
          "base_uri": "https://localhost:8080/",
          "height": 140
        },
        "id": "UE3c0qRRaguX",
        "outputId": "9811a444-9bc4-4035-d18e-896554a15ae0"
      },
      "execution_count": null,
      "outputs": [
        {
          "output_type": "execute_result",
          "data": {
            "text/plain": [
              "'Глава 1 ____________ О бщ ие с в е д е н и я  о м и р е ж и в о т н ы х 1 Зоология — наука о ж ивотны х Вы узнаете: • какие науки входят в состав зоологии; • каковы общие свойства объектов, изучаемых зоологией; • по каким признакам животные отличаются от растений. Вспомните • Каковы общие признаки растений? Введение В предыдущ их классах вы познакомились с представителями трёх  царств: Бактерии, Грибы, Растения. Теперь вы приступаете к изучению  нового царства живых организмов — Животные. Раздел биологии, посвящённый изучению животных, их разнообразия,  строения и ж изнедеятельности, связей со средой обитания, распростране ния, индивидуального и исторического развития, роли в природе и зн а чения для человека, назы вается зоологи ей  (от греч. зоон  — «животное»,  логос  — «учение»). Современная зоология —  это система наук. Например, м орф ологи я   и анат ом ия ж ивот ны х  изучаю т внешнее и внутреннее строение орга низмов. Ф и зи ол оги я ж ивот ны х  исследует деятельность клеток, орга нов, систем органов и целых организмов. Важную часть зоологии составля ет эк ологи я ж ивот ны х,  изучаю щ ая взаимоотношения животных между  собой, с другими организмами и со средой обитания. П алеонт ология   рассматривает ископаемых животных и их изменения в процессе истори ческого развития. Э т ология  изучает поведение животных. Зоология изучает различны х животных — беспозвоночных и позвоноч ных (рис. 1). Особый мир представлен животными, состоящими всего из од ной клетки, — простейшими (рис. 2). 4  Рис. 1. Разнообразие многоклеточных животных: А — беспозвоночные; Б — позвоночные 5  Рис. 2. Разнообразие одноклеточных животных (простейших) Сходство и различие животных и растений Для животных, как и для большинства других ж ивых организмов, ха рактерны следующие особенности: клеточное строение, способность к пи танию, дыханию, выделению, наличие обмена веществ меж ду организмом  и окружаю щ ей средой, способность к размножению, росту, развитию. Ж ивотные отличаются от растений по следующим признакам. Клетки  животных не имеют твёрдой целлюлозной оболочки. В отличие от расте ний животные питаю тся готовыми органическими веществами. В природ ных сообществах они играют роль потребителей органического вещества.  Ж ивотные способны воспринимать раздраж ения и реагировать на них.  Они могут активно передвигаться. Большинство сами добывают себе пищу,  преследуют добычу. Разнообразие животных По данным Всемирного (М еждународного) союза охраны природы I  (ВСОП), на Земле сущ ествует более 1,2 млн видов животных. Больш е все- I  го насекомых — около 1  млн видов. Известно около 70 тыс. видов моллюс- I  ков, свыше 29 тыс. видов рыб. Современных птиц насчитывают по сравне- I   нию с другими группами немного —  около 9000 видов, ещ ё меньше млеко- I   питающих —  около 5000 видов. Распространены животные по всему земному шару. Они освоили раз- I   ные среды ж изни — водную, наземно-воздушную, почвенную. Известны |  и такие животные, которые обитают в растениях. Некоторые паразитиру ют в организмах других животных и человека. Ж ивотные очень разнообразны по облику и строению, размерам, обра- ;   3У  жизни. Одни передвигаются в воде с помощью ресничек, другие —  за I   счет плавников. Большинство наземных животных при движении опира ются на парные конечности. Насекомые, птицы, летучие мыши для полёта I  используют крылья. б  Рис. 3. Сравнительные размеры животных (простейшие даны в поле оптического  микроскопа) Самых маленьких животных можно увидеть только под микроскопом.  Крупные наземные животные, например слоны, достигают в высоту 3,5 м,  а масса их тела около 5 т. Самое большое животное из когда-либо живш их  и живущих на Земле —  синий кит длиной более 30 м и массой до 150 т (рис. 3). Значение животных Ж ивотные различаю тся не только по внешнему облику, строению, об разу ж изни, но и по той роли, которую  они играю т в природны х сооб ществах. Велика роль в природе животных — опы лит елей  растений  (рис. 4). Это бабочки, жуки, мухи, шмели, пчёлы и другие организмы. Без  них облик наш их лесов, лугов, полей был бы совсем другим. Многие ж ивот ные распространяют плоды и семена растений, перенося их на шерсти  и перьях или питаясь сочными плодами. М якоть переваривается, а семена  проходят через киш ечник и разносятся на большие расстояния. Некоторые животные играют отрицательную роль в природных сооб ществах. Массовое появление гусениц непарного ш елкопряда наносит  0громный вред лесам. Они поедают листья, почки, молодые побеги. Стаи 7  Рис. 4. Насекомые — опылители растений азиатской перелётной саранчи (рис. 5) уничтожаю т растительность на  огромных площ адях, лиш ая пищи другие растительноядные организмы.  Есть животные, вызываю щ ие болезни у растений, других животных и че ловека. Отдельные животные, наоборот, снижают число вредителей лесных  и культурных растений, питаясь ими. Большую ценность для человека имеют дикие животные как объекты  охоты. Значительную  часть белковой пищи человек получает за счёт вы лова рыбы в морях и океанах, промысла морского зверя, охоты на каба нов, оленей, водоплавающих и лесных птиц. Исключительно важное значение  для людей имеют домашние живот ные. Мы получаем от них продукты  питания (молоко, яйца, мёд), шерсть,  пух, кожу, шёлк. Домашние ж ивот ные выполняю т различную  работу  в сельском хозяйстве, служ ат транс портными средствами. Декоративные  животные ж ивут вместе с человеком  в квартирах и домах, скраш ивая до суг горожан. Больш инство одомаш-  Рис. 5. Азиатская перелётная ненных животных — это млекопита- саранча ющие и птицы. Современная зоология — это система наук, имеющих важное теоре-  :  тическое и практическое значение. Зоология, морфология, анатомия, физиология, экология, пале онтология, этология, опылители. 8 '"
            ],
            "application/vnd.google.colaboratory.intrinsic+json": {
              "type": "string"
            }
          },
          "metadata": {},
          "execution_count": 35
        }
      ]
    },
    {
      "cell_type": "code",
      "source": [
        "result_large_ch_1 # очень странный результат на большом фрагменте."
      ],
      "metadata": {
        "colab": {
          "base_uri": "https://localhost:8080/"
        },
        "id": "9Q-f0CqKae5H",
        "outputId": "8c0e31bf-39c2-40db-b6b3-d46cb90b1fd6"
      },
      "execution_count": null,
      "outputs": [
        {
          "output_type": "execute_result",
          "data": {
            "text/plain": [
              "['Глава 1 ____________ О б и е с в е д е н и я о м и р е ж и в о т н ы х. 1 Зоология — наука о животных. Вы узнаете: * какие науки входят в состав зоологии; * каковы общие свойства объектов, изучаемых зоологией; * способность к различению животных и растений. Для животных, как и для большинства других живых организмов, их изучают и взаимодействующие клетки, и в организме их организмов, и в их среде. Разнообразие животных и растений. Для животных, как и для других видов животных и их организмов, их различают по облику и строению, размерам, образу жизни. Зоология изучает различные виды животных и растений. Для животных, как и для других видов животных и существ, их организмы и их организмы, их животные, их организмы, их организмы, их организмы, их организмы, их организмы, их организмы, их организмы, их организмы, их организмы, их организмы, их организмы, их организмы, их организмы, их организмы, их организмы, их организмы, их организмы, их организмы, их организмы, их организмы, их организмы, их организмы, их организмы, их организмы, их организмы, их организмы, их организмы, их организмы, их организмы, их организмы, их организмы, их организмы, их организмы, их организмы, их организмы, их организмы, их организмы, их организмы, их организмы, их организмы, их организмы, их организмы, их организмы, их организмы, их организмы, их организмы, их организмы, их организмы, их организмы, их организмы, их организмы, их организмы, их организмы, их организмы, их организмы, их организмы, их организмы, их организмы, их организмы, их организмы, их организмы, их организмы, их организмы, их организмы, их организмы, их организмы, их организмы, их организмы, их организмы, их организмы, их организмы, их организмы, их организмы, их организмы, их организмы, их организмы, их организмы, их организмы, их организмы, их организмы, их организмы, их организмы, их организмы, их организмы, их организмы, их ']"
            ]
          },
          "metadata": {},
          "execution_count": 36
        }
      ]
    },
    {
      "cell_type": "markdown",
      "source": [
        "**Попробую по одному элементу (их всего 5) извлеченного первого параграфа**"
      ],
      "metadata": {
        "id": "qZzixe1HbrlQ"
      }
    },
    {
      "cell_type": "code",
      "source": [
        "# 1"
      ],
      "metadata": {
        "id": "C8oAH_RecqHX"
      },
      "execution_count": null,
      "outputs": []
    },
    {
      "cell_type": "code",
      "source": [
        "chapter_1_clean[0]"
      ],
      "metadata": {
        "colab": {
          "base_uri": "https://localhost:8080/",
          "height": 209
        },
        "id": "RBONA6Bha52v",
        "outputId": "88faf2c4-3f14-41c5-ff95-02cbaae508b3"
      },
      "execution_count": null,
      "outputs": [
        {
          "output_type": "execute_result",
          "data": {
            "text/plain": [
              "'Глава 1 ____________ О бщ ие с в е д е н и я  о м и р е ж и в о т н ы х 1 Зоология — наука о ж ивотны х Вы узнаете: • какие науки входят в состав зоологии; • каковы общие свойства объектов, изучаемых зоологией; • по каким признакам животные отличаются от растений. Вспомните • Каковы общие признаки растений? Введение В предыдущ их классах вы познакомились с представителями трёх  царств: Бактерии, Грибы, Растения. Теперь вы приступаете к изучению  нового царства живых организмов — Животные. Раздел биологии, посвящённый изучению животных, их разнообразия,  строения и ж изнедеятельности, связей со средой обитания, распростране ния, индивидуального и исторического развития, роли в природе и зн а чения для человека, назы вается зоологи ей  (от греч. зоон  — «животное»,  логос  — «учение»). Современная зоология —  это система наук. Например, м орф ологи я   и анат ом ия ж ивот ны х  изучаю т внешнее и внутреннее строение орга низмов. Ф и зи ол оги я ж ивот ны х  исследует деятельность клеток, орга нов, систем органов и целых организмов. Важную часть зоологии составля ет эк ологи я ж ивот ны х,  изучаю щ ая взаимоотношения животных между  собой, с другими организмами и со средой обитания. П алеонт ология   рассматривает ископаемых животных и их изменения в процессе истори ческого развития. Э т ология  изучает поведение животных. Зоология изучает различны х животных — беспозвоночных и позвоноч ных (рис. 1). Особый мир представлен животными, состоящими всего из од ной клетки, — простейшими (рис. 2). 4 '"
            ],
            "application/vnd.google.colaboratory.intrinsic+json": {
              "type": "string"
            }
          },
          "metadata": {},
          "execution_count": 43
        }
      ]
    },
    {
      "cell_type": "code",
      "source": [
        "result_ch_1_1 = sage_fredt5_large_corrector.correct(chapter_1_clean[0])"
      ],
      "metadata": {
        "colab": {
          "base_uri": "https://localhost:8080/",
          "height": 49,
          "referenced_widgets": [
            "25f92c2064c9461784732a58194adc6e",
            "0d247f5259354f43b5e3b921617b8cb8",
            "a38a1a3a67e746bfb75b5ec1d519892e",
            "8a137d0ba60044228ccc645edd8132a9",
            "40ed11a01bc441afa6f47eb5259c80df",
            "1001531860694e3fbd54313e4e63666c",
            "e201f5ca5bd945ee8e0815c8d2a1e70f",
            "dfd23d3caf9b491b9f30d73fca638638",
            "2c30a45651fa4f9fb3499da3e7bd9ae7",
            "2649fb53205945daac5654de412b41ed",
            "6828f68c60504b3ba124beff29ee84ab"
          ]
        },
        "id": "GarxLwB-cubQ",
        "outputId": "e76bb0eb-b17a-43da-d17f-c070c545f424"
      },
      "execution_count": null,
      "outputs": [
        {
          "output_type": "display_data",
          "data": {
            "text/plain": [
              "  0%|          | 0/1 [00:00<?, ?it/s]"
            ],
            "application/vnd.jupyter.widget-view+json": {
              "version_major": 2,
              "version_minor": 0,
              "model_id": "25f92c2064c9461784732a58194adc6e"
            }
          },
          "metadata": {}
        }
      ]
    },
    {
      "cell_type": "code",
      "source": [
        "result_ch_1_1"
      ],
      "metadata": {
        "colab": {
          "base_uri": "https://localhost:8080/"
        },
        "id": "1yq6bciNdmBI",
        "outputId": "f119ee37-2a7f-40a1-84ca-535d6508264e"
      },
      "execution_count": null,
      "outputs": [
        {
          "output_type": "execute_result",
          "data": {
            "text/plain": [
              "['Глава 1 ____________ О б и е с в е д е н и я о м и р е ж и в о т н ы х. 1 Зоология — наука о животных — Вы узнаете: \\xad какие науки входят в состав зоологии; \\xad каковы общие свойства объектов, изучаемых зоологией; \\xad по каким признакам животные отличаются от растений. Вспомните: \\xad каковы общие признаки растений? Введение: В предыдущих их классах вы познакомились с представителями трёх царств: Бактерии, Грибы, Растения. Теперь вы приступаете к изучению нового царства живых организмов — Животные. Раздел биологии, посвящённый изучению животных, их разнообразия, строения и их жизнедеятельности, связей со средой обитания, распространения их индивидуального и исторического развития, роли в природе и т. д. Учения для человека, называется зоологией (от греч. зоон — «животное», логос — «учение»). Современная зоология — это система наук. Например, м о ология я и а н а и я и вот ны х изучают и внешнее и внутреннее строение органов и м и о логи я и вот ны х изучают и взаимоотношения животных между собой, с другими организмами и со средой обитания. П а леонт ология рассматривает ископаемых животных и их изменения в процессе истории человеческого развития. Э т ология изучает поведение животных. Зоология изучает различны х животных — беспозвоночных и позвоночных ных (рис. 1). Особый мир представлен животными, состоящими всего из одной одной клетки — простейшими (рис. 2). ']"
            ]
          },
          "metadata": {},
          "execution_count": 45
        }
      ]
    },
    {
      "cell_type": "code",
      "source": [
        "# 2 В данном пункте нет надобности применять генеративную модель"
      ],
      "metadata": {
        "id": "lScEdc9WepZQ"
      },
      "execution_count": null,
      "outputs": []
    },
    {
      "cell_type": "code",
      "source": [
        "chapter_1_clean[1]"
      ],
      "metadata": {
        "colab": {
          "base_uri": "https://localhost:8080/",
          "height": 36
        },
        "id": "LdzoXMM1fHPh",
        "outputId": "f6778734-3812-468a-e70c-921aac45de0e"
      },
      "execution_count": null,
      "outputs": [
        {
          "output_type": "execute_result",
          "data": {
            "text/plain": [
              "'Рис. 1. Разнообразие многоклеточных животных: А — беспозвоночные; Б — позвоночные 5 '"
            ],
            "application/vnd.google.colaboratory.intrinsic+json": {
              "type": "string"
            }
          },
          "metadata": {},
          "execution_count": 46
        }
      ]
    },
    {
      "cell_type": "code",
      "source": [
        "# 3"
      ],
      "metadata": {
        "id": "TwNn6SZsfHwf"
      },
      "execution_count": null,
      "outputs": []
    },
    {
      "cell_type": "code",
      "source": [
        "chapter_1_clean[2]"
      ],
      "metadata": {
        "colab": {
          "base_uri": "https://localhost:8080/",
          "height": 244
        },
        "id": "c6YaH79jfHzP",
        "outputId": "07a141eb-7ddb-43c1-efa3-2bfbdb428f4b"
      },
      "execution_count": null,
      "outputs": [
        {
          "output_type": "execute_result",
          "data": {
            "text/plain": [
              "'Рис. 2. Разнообразие одноклеточных животных (простейших) Сходство и различие животных и растений Для животных, как и для большинства других ж ивых организмов, ха рактерны следующие особенности: клеточное строение, способность к пи танию, дыханию, выделению, наличие обмена веществ меж ду организмом  и окружаю щ ей средой, способность к размножению, росту, развитию. Ж ивотные отличаются от растений по следующим признакам. Клетки  животных не имеют твёрдой целлюлозной оболочки. В отличие от расте ний животные питаю тся готовыми органическими веществами. В природ ных сообществах они играют роль потребителей органического вещества.  Ж ивотные способны воспринимать раздраж ения и реагировать на них.  Они могут активно передвигаться. Большинство сами добывают себе пищу,  преследуют добычу. Разнообразие животных По данным Всемирного (М еждународного) союза охраны природы I  (ВСОП), на Земле сущ ествует более 1,2 млн видов животных. Больш е все- I  го насекомых — около 1  млн видов. Известно около 70 тыс. видов моллюс- I  ков, свыше 29 тыс. видов рыб. Современных птиц насчитывают по сравне- I   нию с другими группами немного —  около 9000 видов, ещ ё меньше млеко- I   питающих —  около 5000 видов. Распространены животные по всему земному шару. Они освоили раз- I   ные среды ж изни — водную, наземно-воздушную, почвенную. Известны |  и такие животные, которые обитают в растениях. Некоторые паразитиру ют в организмах других животных и человека. Ж ивотные очень разнообразны по облику и строению, размерам, обра- ;   3У  жизни. Одни передвигаются в воде с помощью ресничек, другие —  за I   счет плавников. Большинство наземных животных при движении опира ются на парные конечности. Насекомые, птицы, летучие мыши для полёта I  используют крылья. б '"
            ],
            "application/vnd.google.colaboratory.intrinsic+json": {
              "type": "string"
            }
          },
          "metadata": {},
          "execution_count": 47
        }
      ]
    },
    {
      "cell_type": "code",
      "source": [
        "result_ch_1_3 = sage_fredt5_large_corrector.correct(chapter_1_clean[2])"
      ],
      "metadata": {
        "colab": {
          "base_uri": "https://localhost:8080/",
          "height": 49,
          "referenced_widgets": [
            "0a0a902ebc0044c0a4a2c157d96f5400",
            "aad0f0c6561c4eb98b539422a4207c58",
            "23d827b2bce34b239bdbf3e2be049d2b",
            "cab8a18cce2d42cd8256cb82ac5d9794",
            "fb7b84bbbb6a43e8bbda40bd7ffb105b",
            "709530551ec148678eeeae4a504c162d",
            "347d01b23e774792a6b5bc90a48df6dc",
            "ac48891a5fa54bc29a333924f2cef747",
            "daefd7a07ea942f9a7b9e1327a87121b",
            "3680836c0ddb4821a793cd0c8ed244d8",
            "92c92c6599cb491cae2915c0c848ea7b"
          ]
        },
        "id": "4tHnYr7ifH2i",
        "outputId": "945eb67b-d902-414d-f61d-03acc8deda3d"
      },
      "execution_count": null,
      "outputs": [
        {
          "output_type": "display_data",
          "data": {
            "text/plain": [
              "  0%|          | 0/1 [00:00<?, ?it/s]"
            ],
            "application/vnd.jupyter.widget-view+json": {
              "version_major": 2,
              "version_minor": 0,
              "model_id": "0a0a902ebc0044c0a4a2c157d96f5400"
            }
          },
          "metadata": {}
        }
      ]
    },
    {
      "cell_type": "code",
      "source": [
        "result_ch_1_3"
      ],
      "metadata": {
        "colab": {
          "base_uri": "https://localhost:8080/"
        },
        "id": "nTMTySn5fLuY",
        "outputId": "8a309323-88de-4773-92d7-c46c58711c99"
      },
      "execution_count": null,
      "outputs": [
        {
          "output_type": "execute_result",
          "data": {
            "text/plain": [
              "['Рис. 2. Разнообразие одноклеточных животных (простейших). Сходство и различие животных и растений. Для животных, как и для большинства других живых организмов, их характерны следующие особенности: клеточное строение, способность к питанию, дыханию, выделению, наличие обмена веществ между их организмом и окружающей их ей средой, способность к размножению, росту, развитию. Животные отличаются от растений по следующим признакам. Клетки животных не имеют твёрдой целлюлозной оболочки. В отличие от растений, живые животные питаются готовыми органическими веществами. В природе и сообществах они играют роль потребителей органического вещества. Животные способны воспринимать раздражения и реагировать на них. Они могут активно передвигаться. Большинство сами добывают себе пищу, преследуют добычу. Разнообразие животных. По данным Всемирного ( ) Международного союза охраны природы I (ВСОП), на Земле уже существует более 1,2 млн видов животных. Больше I всех I, но насекомых около 1 млн видов. Известно около 70 тыс. видов моллюсков, I коров, свыше 20 тыс. видов рыб. Современных птиц насчитывают по сравнению I и с другими группами немного (около 9000 видов), ещё меньше млеко- I, питающих около 5000 видов. Распространены животные по всему земному шару. Они освоили раз- I иные среды ж жизни (водную, наземно-воздушную, почвенную). Известны | и такие животные, которые обитают в растениях. Некоторые паразитируют и в организмах других животных и человека. Животные очень разнообразны по облику и строению, размерам, образу - 3У жизни. Одни передвигаются в воде с помощью ресничек, другие за I, счет плавников. Большинство наземных животных при движении опира ются на парные конечности. Насекомые, птицы, летучие мыши для полёта I используют крылья ']"
            ]
          },
          "metadata": {},
          "execution_count": 50
        }
      ]
    },
    {
      "cell_type": "code",
      "source": [
        "# 4"
      ],
      "metadata": {
        "id": "yEYuKLB2fLyQ"
      },
      "execution_count": null,
      "outputs": []
    },
    {
      "cell_type": "code",
      "source": [
        "chapter_1_clean[3]"
      ],
      "metadata": {
        "colab": {
          "base_uri": "https://localhost:8080/",
          "height": 157
        },
        "id": "ozk4sNNRfOJg",
        "outputId": "8b69f7f4-8936-483b-84e9-8ff931839c36"
      },
      "execution_count": null,
      "outputs": [
        {
          "output_type": "execute_result",
          "data": {
            "text/plain": [
              "'Рис. 3. Сравнительные размеры животных (простейшие даны в поле оптического  микроскопа) Самых маленьких животных можно увидеть только под микроскопом.  Крупные наземные животные, например слоны, достигают в высоту 3,5 м,  а масса их тела около 5 т. Самое большое животное из когда-либо живш их  и живущих на Земле —  синий кит длиной более 30 м и массой до 150 т (рис. 3). Значение животных Ж ивотные различаю тся не только по внешнему облику, строению, об разу ж изни, но и по той роли, которую  они играю т в природны х сооб ществах. Велика роль в природе животных — опы лит елей  растений  (рис. 4). Это бабочки, жуки, мухи, шмели, пчёлы и другие организмы. Без  них облик наш их лесов, лугов, полей был бы совсем другим. Многие ж ивот ные распространяют плоды и семена растений, перенося их на шерсти  и перьях или питаясь сочными плодами. М якоть переваривается, а семена  проходят через киш ечник и разносятся на большие расстояния. Некоторые животные играют отрицательную роль в природных сооб ществах. Массовое появление гусениц непарного ш елкопряда наносит  0громный вред лесам. Они поедают листья, почки, молодые побеги. Стаи 7 '"
            ],
            "application/vnd.google.colaboratory.intrinsic+json": {
              "type": "string"
            }
          },
          "metadata": {},
          "execution_count": 48
        }
      ]
    },
    {
      "cell_type": "code",
      "source": [
        "result_ch_1_4 = sage_fredt5_large_corrector.correct(chapter_1_clean[3])"
      ],
      "metadata": {
        "colab": {
          "base_uri": "https://localhost:8080/",
          "height": 49,
          "referenced_widgets": [
            "60d443cc4050446fa6188e61829ef17c",
            "3d61ea5b4ba14c02b7ac2ac2830285ff",
            "416deb27afcc47d8bc319774760c7e11",
            "d04e5718c7ea41b2b190784606caad16",
            "56b89343be564e9f838cc8e1b5982058",
            "cb1d02b38c1f4c568bbdc2d6c12bf584",
            "dc0aa2c30d644d1ab8e1a2fcb55864b7",
            "5bcb574d83d748fe974ada2c4c7e142f",
            "be829d9880864522a429153ae2998109",
            "6e67d3f6d038429fbf3c4a3e8d6c31db",
            "7ce1f2c52a224d239015d280036bfda3"
          ]
        },
        "id": "WszhpDvVfOQI",
        "outputId": "e207c790-6208-4bce-aca8-c18df46f417a"
      },
      "execution_count": null,
      "outputs": [
        {
          "output_type": "display_data",
          "data": {
            "text/plain": [
              "  0%|          | 0/1 [00:00<?, ?it/s]"
            ],
            "application/vnd.jupyter.widget-view+json": {
              "version_major": 2,
              "version_minor": 0,
              "model_id": "60d443cc4050446fa6188e61829ef17c"
            }
          },
          "metadata": {}
        }
      ]
    },
    {
      "cell_type": "code",
      "source": [
        "result_ch_1_4"
      ],
      "metadata": {
        "colab": {
          "base_uri": "https://localhost:8080/"
        },
        "id": "7bo2kcngfOYg",
        "outputId": "22319331-a3d8-46be-c37a-81e53f057d05"
      },
      "execution_count": null,
      "outputs": [
        {
          "output_type": "execute_result",
          "data": {
            "text/plain": [
              "['Рис. 3. Сравнительные размеры животных (простейшие) даны в поле оптического микроскопа. Самых маленьких животных можно увидеть только под микроскопом. Крупные наземные животные, например, слоны, достигают в высоту 3,5 м, а масса их тела около 5 т. Самое большое животное из когда-либо живших и не живущих на Земле — синий кит длиной более 30 м и массой до 150 т (рис. 3). Значение животных. Животные различаются не только по внешнему облику, строению и образу жизни, но и по той роли, которую они играют и в природных их сообществах. Велика роль в природе животных — осы или тлей растений (рис. 4). Это бабочки, жуки, мухи, шмели, пчёлы и другие организмы. Без них облик наших лесов, лугов, полей был бы совсем другим. Многие же животные распространяют плоды и семена растений, перенося их на шерсти и перья или питаясь сочными плодами. Мякоть переваривается, а семена проходят через их яичники и разносятся на большие расстояния. Некоторые животные играют отрицательную роль в природных их сообществах. Массовое появление гусениц непарного и шелкопряда наносит огромный вред лесам. Они поедают листья, почки, молодые побеги. Статус 7.']"
            ]
          },
          "metadata": {},
          "execution_count": 52
        }
      ]
    },
    {
      "cell_type": "code",
      "source": [
        "# 5"
      ],
      "metadata": {
        "id": "yemdJyMWfOeK"
      },
      "execution_count": null,
      "outputs": []
    },
    {
      "cell_type": "code",
      "source": [
        "chapter_1_clean[4]"
      ],
      "metadata": {
        "colab": {
          "base_uri": "https://localhost:8080/",
          "height": 175
        },
        "id": "52JT72wrfQvR",
        "outputId": "b2161087-264e-4500-9ce3-18a97732d9b0"
      },
      "execution_count": null,
      "outputs": [
        {
          "output_type": "execute_result",
          "data": {
            "text/plain": [
              "'Рис. 4. Насекомые — опылители растений азиатской перелётной саранчи (рис. 5) уничтожаю т растительность на  огромных площ адях, лиш ая пищи другие растительноядные организмы.  Есть животные, вызываю щ ие болезни у растений, других животных и че ловека. Отдельные животные, наоборот, снижают число вредителей лесных  и культурных растений, питаясь ими. Большую ценность для человека имеют дикие животные как объекты  охоты. Значительную  часть белковой пищи человек получает за счёт вы лова рыбы в морях и океанах, промысла морского зверя, охоты на каба нов, оленей, водоплавающих и лесных птиц. Исключительно важное значение  для людей имеют домашние живот ные. Мы получаем от них продукты  питания (молоко, яйца, мёд), шерсть,  пух, кожу, шёлк. Домашние ж ивот ные выполняю т различную  работу  в сельском хозяйстве, служ ат транс портными средствами. Декоративные  животные ж ивут вместе с человеком  в квартирах и домах, скраш ивая до суг горожан. Больш инство одомаш-  Рис. 5. Азиатская перелётная ненных животных — это млекопита- саранча ющие и птицы. Современная зоология — это система наук, имеющих важное теоре-  :  тическое и практическое значение. Зоология, морфология, анатомия, физиология, экология, пале онтология, этология, опылители. 8 '"
            ],
            "application/vnd.google.colaboratory.intrinsic+json": {
              "type": "string"
            }
          },
          "metadata": {},
          "execution_count": 53
        }
      ]
    },
    {
      "cell_type": "code",
      "source": [
        "result_ch_1_5 = sage_fredt5_large_corrector.correct(chapter_1_clean[4])"
      ],
      "metadata": {
        "colab": {
          "base_uri": "https://localhost:8080/",
          "height": 49,
          "referenced_widgets": [
            "75569f4a737f49f394809ede8b1e8834",
            "65cba5762a924c6bb737ee591e79ede1",
            "254d639d80fd48aca649df9bbb02663a",
            "4f01526b284c45198a2f8a4c203dc945",
            "470244a743c24d69867abe2f60c76cd3",
            "e98f7137ba4b4e7e8e39c1d048f7a7a8",
            "7aa6d3db50be4f6ca8cc856365cb6763",
            "1de06c97a1894589a0fe5442cb3378be",
            "e912698507d24800826cd4138d42a614",
            "f0c17afc22db4ca9977a19f6c60de298",
            "d2159fa34c2340af9564cbb29dbae7d7"
          ]
        },
        "id": "QTCLLAS8fOpw",
        "outputId": "b9305209-1b39-4379-aed5-36beabe775b3"
      },
      "execution_count": null,
      "outputs": [
        {
          "output_type": "display_data",
          "data": {
            "text/plain": [
              "  0%|          | 0/1 [00:00<?, ?it/s]"
            ],
            "application/vnd.jupyter.widget-view+json": {
              "version_major": 2,
              "version_minor": 0,
              "model_id": "75569f4a737f49f394809ede8b1e8834"
            }
          },
          "metadata": {}
        }
      ]
    },
    {
      "cell_type": "code",
      "source": [
        "result_ch_1_5"
      ],
      "metadata": {
        "colab": {
          "base_uri": "https://localhost:8080/"
        },
        "id": "LnJ-De5rfL3w",
        "outputId": "5f3a564f-deba-479d-e5b0-9c41985c371b"
      },
      "execution_count": null,
      "outputs": [
        {
          "output_type": "execute_result",
          "data": {
            "text/plain": [
              "['Рис. 4. Насекомые и опылители растений азиатской перелётной саранчи (рис. 5) уничтожают и растительность на огромных площадях, даже для пищи другие растительноядные организмы. Есть животные, вызывающие и те болезни у растений, других животных и у человека. Отдельные животные, наоборот, снижают число вредителей лесных и культурных растений, питаясь ими. Большую ценность для человека имеют дикие животные как объекты охоты. Значительную часть белковой пищи человек получает за счёт воды, лова рыбы в морях и океанах, промысла морского зверя, охоты на кабанов, коров, оленей, водоплавающих и лесных птиц. Исключительно важное значение для людей имеют домашние животные - мы получаем от них продукты питания (молоко, яйца, мёд), шерсть, пух, кожу, шёлк. Домашние же животные выполняют и различную работу в сельском хозяйстве, служат нам транспортными средствами. Декоративные животные - живут вместе с человеком в квартирах и домах, спрашивая о друге горожан. Большинство домов. Рис. 5. Азиатская перелётная - генных животных - это млекопитающие, саранча, лающие и птицы. Современная зоология - это система наук, имеющих важное теор. - техническое и практическое значение. Зоология, морфология, анатомия, физиология, экология, а также онтология, этология, опылители ']"
            ]
          },
          "metadata": {},
          "execution_count": 56
        }
      ]
    },
    {
      "cell_type": "code",
      "source": [
        "# Объединим все фрагменты в один список"
      ],
      "metadata": {
        "id": "zaS7pfPC-ix0"
      },
      "execution_count": null,
      "outputs": []
    },
    {
      "cell_type": "code",
      "source": [
        "ch_1_result = result_ch_1_1 + [chapter_1_clean[1]] + result_ch_1_3 + result_ch_1_4 + result_ch_1_5"
      ],
      "metadata": {
        "id": "8--ICAvt-oOk"
      },
      "execution_count": null,
      "outputs": []
    },
    {
      "cell_type": "code",
      "source": [
        "ch_1_result"
      ],
      "metadata": {
        "colab": {
          "base_uri": "https://localhost:8080/"
        },
        "collapsed": true,
        "id": "gl-KC5fO_QTc",
        "outputId": "f06c1be4-6147-4ee8-a13b-a19653d0c55a"
      },
      "execution_count": null,
      "outputs": [
        {
          "output_type": "execute_result",
          "data": {
            "text/plain": [
              "['Глава 1 ____________ О б и е с в е д е н и я о м и р е ж и в о т н ы х. 1 Зоология — наука о животных — Вы узнаете: \\xad какие науки входят в состав зоологии; \\xad каковы общие свойства объектов, изучаемых зоологией; \\xad по каким признакам животные отличаются от растений. Вспомните: \\xad каковы общие признаки растений? Введение: В предыдущих их классах вы познакомились с представителями трёх царств: Бактерии, Грибы, Растения. Теперь вы приступаете к изучению нового царства живых организмов — Животные. Раздел биологии, посвящённый изучению животных, их разнообразия, строения и их жизнедеятельности, связей со средой обитания, распространения их индивидуального и исторического развития, роли в природе и т. д. Учения для человека, называется зоологией (от греч. зоон — «животное», логос — «учение»). Современная зоология — это система наук. Например, м о ология я и а н а и я и вот ны х изучают и внешнее и внутреннее строение органов и м и о логи я и вот ны х изучают и взаимоотношения животных между собой, с другими организмами и со средой обитания. П а леонт ология рассматривает ископаемых животных и их изменения в процессе истории человеческого развития. Э т ология изучает поведение животных. Зоология изучает различны х животных — беспозвоночных и позвоночных ных (рис. 1). Особый мир представлен животными, состоящими всего из одной одной клетки — простейшими (рис. 2). ',\n",
              " 'Рис. 1. Разнообразие многоклеточных животных: А — беспозвоночные; Б — позвоночные 5 ',\n",
              " 'Рис. 2. Разнообразие одноклеточных животных (простейших). Сходство и различие животных и растений. Для животных, как и для большинства других живых организмов, их характерны следующие особенности: клеточное строение, способность к питанию, дыханию, выделению, наличие обмена веществ между их организмом и окружающей их ей средой, способность к размножению, росту, развитию. Животные отличаются от растений по следующим признакам. Клетки животных не имеют твёрдой целлюлозной оболочки. В отличие от растений, живые животные питаются готовыми органическими веществами. В природе и сообществах они играют роль потребителей органического вещества. Животные способны воспринимать раздражения и реагировать на них. Они могут активно передвигаться. Большинство сами добывают себе пищу, преследуют добычу. Разнообразие животных. По данным Всемирного ( ) Международного союза охраны природы I (ВСОП), на Земле уже существует более 1,2 млн видов животных. Больше I всех I, но насекомых около 1 млн видов. Известно около 70 тыс. видов моллюсков, I коров, свыше 20 тыс. видов рыб. Современных птиц насчитывают по сравнению I и с другими группами немного (около 9000 видов), ещё меньше млеко- I, питающих около 5000 видов. Распространены животные по всему земному шару. Они освоили раз- I иные среды ж жизни (водную, наземно-воздушную, почвенную). Известны | и такие животные, которые обитают в растениях. Некоторые паразитируют и в организмах других животных и человека. Животные очень разнообразны по облику и строению, размерам, образу - 3У жизни. Одни передвигаются в воде с помощью ресничек, другие за I, счет плавников. Большинство наземных животных при движении опира ются на парные конечности. Насекомые, птицы, летучие мыши для полёта I используют крылья ',\n",
              " 'Рис. 3. Сравнительные размеры животных (простейшие) даны в поле оптического микроскопа. Самых маленьких животных можно увидеть только под микроскопом. Крупные наземные животные, например, слоны, достигают в высоту 3,5 м, а масса их тела около 5 т. Самое большое животное из когда-либо живших и не живущих на Земле — синий кит длиной более 30 м и массой до 150 т (рис. 3). Значение животных. Животные различаются не только по внешнему облику, строению и образу жизни, но и по той роли, которую они играют и в природных их сообществах. Велика роль в природе животных — осы или тлей растений (рис. 4). Это бабочки, жуки, мухи, шмели, пчёлы и другие организмы. Без них облик наших лесов, лугов, полей был бы совсем другим. Многие же животные распространяют плоды и семена растений, перенося их на шерсти и перья или питаясь сочными плодами. Мякоть переваривается, а семена проходят через их яичники и разносятся на большие расстояния. Некоторые животные играют отрицательную роль в природных их сообществах. Массовое появление гусениц непарного и шелкопряда наносит огромный вред лесам. Они поедают листья, почки, молодые побеги. Статус 7.',\n",
              " 'Рис. 4. Насекомые и опылители растений азиатской перелётной саранчи (рис. 5) уничтожают и растительность на огромных площадях, даже для пищи другие растительноядные организмы. Есть животные, вызывающие и те болезни у растений, других животных и у человека. Отдельные животные, наоборот, снижают число вредителей лесных и культурных растений, питаясь ими. Большую ценность для человека имеют дикие животные как объекты охоты. Значительную часть белковой пищи человек получает за счёт воды, лова рыбы в морях и океанах, промысла морского зверя, охоты на кабанов, коров, оленей, водоплавающих и лесных птиц. Исключительно важное значение для людей имеют домашние животные - мы получаем от них продукты питания (молоко, яйца, мёд), шерсть, пух, кожу, шёлк. Домашние же животные выполняют и различную работу в сельском хозяйстве, служат нам транспортными средствами. Декоративные животные - живут вместе с человеком в квартирах и домах, спрашивая о друге горожан. Большинство домов. Рис. 5. Азиатская перелётная - генных животных - это млекопитающие, саранча, лающие и птицы. Современная зоология - это система наук, имеющих важное теор. - техническое и практическое значение. Зоология, морфология, анатомия, физиология, экология, а также онтология, этология, опылители ']"
            ]
          },
          "metadata": {},
          "execution_count": 105
        }
      ]
    },
    {
      "cell_type": "code",
      "source": [
        "ch_1_result_fin = [' '.join(ch_1_result)] # внутри списка объединим строки, чтобы получился список, длиной 1 и передадим в DataFrame"
      ],
      "metadata": {
        "id": "HsRZZ0Us_dEU"
      },
      "execution_count": null,
      "outputs": []
    },
    {
      "cell_type": "code",
      "source": [
        "ch_1_result_fin"
      ],
      "metadata": {
        "collapsed": true,
        "colab": {
          "base_uri": "https://localhost:8080/"
        },
        "id": "R_WQ3Rni_qIk",
        "outputId": "6081f2b0-ca0f-4f8d-b49b-2fb1757a19b8"
      },
      "execution_count": null,
      "outputs": [
        {
          "output_type": "execute_result",
          "data": {
            "text/plain": [
              "['Глава 1 ____________ О б и е с в е д е н и я о м и р е ж и в о т н ы х. 1 Зоология — наука о животных — Вы узнаете: \\xad какие науки входят в состав зоологии; \\xad каковы общие свойства объектов, изучаемых зоологией; \\xad по каким признакам животные отличаются от растений. Вспомните: \\xad каковы общие признаки растений? Введение: В предыдущих их классах вы познакомились с представителями трёх царств: Бактерии, Грибы, Растения. Теперь вы приступаете к изучению нового царства живых организмов — Животные. Раздел биологии, посвящённый изучению животных, их разнообразия, строения и их жизнедеятельности, связей со средой обитания, распространения их индивидуального и исторического развития, роли в природе и т. д. Учения для человека, называется зоологией (от греч. зоон — «животное», логос — «учение»). Современная зоология — это система наук. Например, м о ология я и а н а и я и вот ны х изучают и внешнее и внутреннее строение органов и м и о логи я и вот ны х изучают и взаимоотношения животных между собой, с другими организмами и со средой обитания. П а леонт ология рассматривает ископаемых животных и их изменения в процессе истории человеческого развития. Э т ология изучает поведение животных. Зоология изучает различны х животных — беспозвоночных и позвоночных ных (рис. 1). Особый мир представлен животными, состоящими всего из одной одной клетки — простейшими (рис. 2).  Рис. 1. Разнообразие многоклеточных животных: А — беспозвоночные; Б — позвоночные 5  Рис. 2. Разнообразие одноклеточных животных (простейших). Сходство и различие животных и растений. Для животных, как и для большинства других живых организмов, их характерны следующие особенности: клеточное строение, способность к питанию, дыханию, выделению, наличие обмена веществ между их организмом и окружающей их ей средой, способность к размножению, росту, развитию. Животные отличаются от растений по следующим признакам. Клетки животных не имеют твёрдой целлюлозной оболочки. В отличие от растений, живые животные питаются готовыми органическими веществами. В природе и сообществах они играют роль потребителей органического вещества. Животные способны воспринимать раздражения и реагировать на них. Они могут активно передвигаться. Большинство сами добывают себе пищу, преследуют добычу. Разнообразие животных. По данным Всемирного ( ) Международного союза охраны природы I (ВСОП), на Земле уже существует более 1,2 млн видов животных. Больше I всех I, но насекомых около 1 млн видов. Известно около 70 тыс. видов моллюсков, I коров, свыше 20 тыс. видов рыб. Современных птиц насчитывают по сравнению I и с другими группами немного (около 9000 видов), ещё меньше млеко- I, питающих около 5000 видов. Распространены животные по всему земному шару. Они освоили раз- I иные среды ж жизни (водную, наземно-воздушную, почвенную). Известны | и такие животные, которые обитают в растениях. Некоторые паразитируют и в организмах других животных и человека. Животные очень разнообразны по облику и строению, размерам, образу - 3У жизни. Одни передвигаются в воде с помощью ресничек, другие за I, счет плавников. Большинство наземных животных при движении опира ются на парные конечности. Насекомые, птицы, летучие мыши для полёта I используют крылья  Рис. 3. Сравнительные размеры животных (простейшие) даны в поле оптического микроскопа. Самых маленьких животных можно увидеть только под микроскопом. Крупные наземные животные, например, слоны, достигают в высоту 3,5 м, а масса их тела около 5 т. Самое большое животное из когда-либо живших и не живущих на Земле — синий кит длиной более 30 м и массой до 150 т (рис. 3). Значение животных. Животные различаются не только по внешнему облику, строению и образу жизни, но и по той роли, которую они играют и в природных их сообществах. Велика роль в природе животных — осы или тлей растений (рис. 4). Это бабочки, жуки, мухи, шмели, пчёлы и другие организмы. Без них облик наших лесов, лугов, полей был бы совсем другим. Многие же животные распространяют плоды и семена растений, перенося их на шерсти и перья или питаясь сочными плодами. Мякоть переваривается, а семена проходят через их яичники и разносятся на большие расстояния. Некоторые животные играют отрицательную роль в природных их сообществах. Массовое появление гусениц непарного и шелкопряда наносит огромный вред лесам. Они поедают листья, почки, молодые побеги. Статус 7. Рис. 4. Насекомые и опылители растений азиатской перелётной саранчи (рис. 5) уничтожают и растительность на огромных площадях, даже для пищи другие растительноядные организмы. Есть животные, вызывающие и те болезни у растений, других животных и у человека. Отдельные животные, наоборот, снижают число вредителей лесных и культурных растений, питаясь ими. Большую ценность для человека имеют дикие животные как объекты охоты. Значительную часть белковой пищи человек получает за счёт воды, лова рыбы в морях и океанах, промысла морского зверя, охоты на кабанов, коров, оленей, водоплавающих и лесных птиц. Исключительно важное значение для людей имеют домашние животные - мы получаем от них продукты питания (молоко, яйца, мёд), шерсть, пух, кожу, шёлк. Домашние же животные выполняют и различную работу в сельском хозяйстве, служат нам транспортными средствами. Декоративные животные - живут вместе с человеком в квартирах и домах, спрашивая о друге горожан. Большинство домов. Рис. 5. Азиатская перелётная - генных животных - это млекопитающие, саранча, лающие и птицы. Современная зоология - это система наук, имеющих важное теор. - техническое и практическое значение. Зоология, морфология, анатомия, физиология, экология, а также онтология, этология, опылители ']"
            ]
          },
          "metadata": {},
          "execution_count": 108
        }
      ]
    },
    {
      "cell_type": "markdown",
      "source": [
        "# **sage-fredt5-distilled-95m**"
      ],
      "metadata": {
        "id": "ZinZil6JS5mP"
      }
    },
    {
      "cell_type": "code",
      "source": [
        "sage_fredt5_95m_corrector = T5ModelForSpellingCorruption.from_pretrained(AvailableCorrectors.sage_fredt5_distilled_95m.value)"
      ],
      "metadata": {
        "id": "BYrYQVBHS5uP",
        "colab": {
          "base_uri": "https://localhost:8080/",
          "height": 432,
          "referenced_widgets": [
            "5a0339b394ac40a2aabaff7245f551e2",
            "b19314847b014725b5c2bf2cd5e2a8d0",
            "0aa99efbd45e40a287b0f56c3a008e27",
            "81b0ae09ce574092987c917295b31a30",
            "01518b37beb94b66a673ffc8a136ea07",
            "4e3d3032c6ec45909a3ffac5056c8456",
            "25e2425f288149ba8061eb0d4c7f85ed",
            "9d1df44c4c5d49cba233037f1c25b073",
            "ba8be197f72040128d0c4e9be964fb8d",
            "435c8309ea5f4dc2b99486fcf1fd4ef1",
            "40af66fd3fbf41e39a2c121b6b9dd627",
            "4b4f0c5fdfea4ee88ebdb148a4b63116",
            "9875303aab7149418158ffad92e97111",
            "f3729726545f4dedbb18b4e131f66a4c",
            "0cea51ca30524080a47478b46d0f759a",
            "812eb16f180948b6b997724410a30e7b",
            "d5e976320b4c4eb58c1b75c80cb96754",
            "8f9992987781446ba79b592aac7ddf02",
            "b50dc0a894444585bd8268f855d52e08",
            "cc38af903694449c995b1668ade6badf",
            "317f96f0e4854da095443aac6983b405",
            "a5b3034c699642b7bf4b25067cf62bb8",
            "bcaac1cf9741435badce04f55155f82a",
            "3700534fbdf440698ae6fc0ccbb53452",
            "26523e9538804636b3eb52555b2521fc",
            "ff45fe0a95c1433b925e9cb03911c24d",
            "2173b738b03f4a9e9efca2b44c506c96",
            "b8d802f3b3614c7bb29ce19e37f841be",
            "80731bf64b45427da4ccad15df45ff95",
            "cd301d950e254d3ba671de13ae47e572",
            "4d69764721a04356a393ed7d60903ab4",
            "5afae642149c40e281a93bad06c54686",
            "196cafdf78dc4abea6cf45ede2167383",
            "b9725cd5dfb84702a051b5a5bd3b3ccb",
            "16a9fc2d193247e0b1afea123873fe0c",
            "666a5c3e862647038f8b9337fa9cd814",
            "92d2e3c451b146f2bf4f76484101511e",
            "ca9a39627c634a838147f168e937c618",
            "9e853810a2dd4c8e8408db951297e455",
            "cf5def5a8d8e498492af10f20a51af5c",
            "07ac2e4d54254d729dec228fb90f982c",
            "5dbc2cb8108b47b69a883f39e08f416e",
            "7263d118fba1498ab9304864bbba19c7",
            "b3618c8338174b428230d2c703271ef3",
            "aaa790d1bce94c7fa29ff1f3435c4062",
            "725e82c4e8c944a6823ef211bbc4a21a",
            "807f434768074e5c979415bd46e68ac9",
            "ea45c7c44cb94906bcadea8eb201273c",
            "65f263aaf94e4e418546a63d38ced721",
            "a21ff7f133964ebd9d35343ae71b3696",
            "f091e33b0ee94676a87a08f3f0a725cb",
            "85f72824c8d74496967b4dc50b871a8b",
            "1c2ede7abb59480091fc28f935d0cee9",
            "03fd1c56cb99435d97caba9803d36472",
            "719a447cf5b44dbca66a1945eca3c6a3",
            "2ba89992a297418f8f39f82272b0c5ad",
            "d1d6964d30254128b372db25a170c960",
            "b3d6535618e145308756d7c983f38a46",
            "6c7a696935e945c2a4a5df782a2b4e86",
            "1b548ba202e54a329cf3c3f20ab140d5",
            "457ca23aaae640d9b7fd83008ff79f58",
            "488a1f7c162a4a1c88bc02df137ce4f7",
            "6f744a70906a4669b85bfc6d406fa0d0",
            "d02d2a8a2f794b879739f80c528d6453",
            "36045edb3a0941d2b7a65a6c0cfbca42",
            "15186186b7f6400e8d45bcd6a66f12aa",
            "db7a3d770fcc4bb5940d8935dbd76c8b",
            "89792b780fff4bd6a16f0a938b967433",
            "3c198a451fb942b5b361d7ea3bb14e57",
            "2a5b20aed397492cac3b79185ec34dcd",
            "aaa7120bce9f4b378e59129b8cd9b89e",
            "6e9197019def49f49c7256430559285b",
            "fe06cbecb608448b8c36be8ae6fef957",
            "bf7a1547623a42cd96056c9b68c32f6f",
            "a522c768365b4b458a2cbec0ca93b377",
            "253f3031c7a547b7a264e353bf280236",
            "1076d06800f948f8ad0d2d4295842d12",
            "021c90b5ec7c42d59ac34fb739f8b6d5",
            "ce973a38945b4da6bb8d1b772e44af63",
            "e80c878bd33a4d29897fdd593ab56c35",
            "c3fca76e2c40498cb909eec84b06a965",
            "e5353fe3546e40b99412437bfc8d1da3",
            "7ef2aacb1ed748c695af2eb8be49d8d9",
            "d2541f0814b64d028c9cec411a86d5aa",
            "700327ab62d949aca6099d0ed1beb7fe",
            "0c56d70aaf7b4ca2a5030f30ea1521f5",
            "612939e3b7ba4e2296d168abcfec6c3a",
            "946bce3f6bb542f2a0d8cd9fab41b0bf"
          ]
        },
        "collapsed": true,
        "outputId": "47b099b9-df54-4bd2-c340-aaea9faee878"
      },
      "execution_count": null,
      "outputs": [
        {
          "output_type": "stream",
          "name": "stderr",
          "text": [
            "/usr/local/lib/python3.10/dist-packages/huggingface_hub/utils/_token.py:89: UserWarning: \n",
            "The secret `HF_TOKEN` does not exist in your Colab secrets.\n",
            "To authenticate with the Hugging Face Hub, create a token in your settings tab (https://huggingface.co/settings/tokens), set it as secret in your Google Colab and restart your session.\n",
            "You will be able to reuse this secret in all of your notebooks.\n",
            "Please note that authentication is recommended but still optional to access public models or datasets.\n",
            "  warnings.warn(\n"
          ]
        },
        {
          "output_type": "display_data",
          "data": {
            "text/plain": [
              "config.json:   0%|          | 0.00/789 [00:00<?, ?B/s]"
            ],
            "application/vnd.jupyter.widget-view+json": {
              "version_major": 2,
              "version_minor": 0,
              "model_id": "5a0339b394ac40a2aabaff7245f551e2"
            }
          },
          "metadata": {}
        },
        {
          "output_type": "display_data",
          "data": {
            "text/plain": [
              "model.safetensors:   0%|          | 0.00/383M [00:00<?, ?B/s]"
            ],
            "application/vnd.jupyter.widget-view+json": {
              "version_major": 2,
              "version_minor": 0,
              "model_id": "4b4f0c5fdfea4ee88ebdb148a4b63116"
            }
          },
          "metadata": {}
        },
        {
          "output_type": "display_data",
          "data": {
            "text/plain": [
              "generation_config.json:   0%|          | 0.00/184 [00:00<?, ?B/s]"
            ],
            "application/vnd.jupyter.widget-view+json": {
              "version_major": 2,
              "version_minor": 0,
              "model_id": "bcaac1cf9741435badce04f55155f82a"
            }
          },
          "metadata": {}
        },
        {
          "output_type": "display_data",
          "data": {
            "text/plain": [
              "tokenizer_config.json:   0%|          | 0.00/20.3k [00:00<?, ?B/s]"
            ],
            "application/vnd.jupyter.widget-view+json": {
              "version_major": 2,
              "version_minor": 0,
              "model_id": "b9725cd5dfb84702a051b5a5bd3b3ccb"
            }
          },
          "metadata": {}
        },
        {
          "output_type": "display_data",
          "data": {
            "text/plain": [
              "vocab.json:   0%|          | 0.00/1.81M [00:00<?, ?B/s]"
            ],
            "application/vnd.jupyter.widget-view+json": {
              "version_major": 2,
              "version_minor": 0,
              "model_id": "aaa790d1bce94c7fa29ff1f3435c4062"
            }
          },
          "metadata": {}
        },
        {
          "output_type": "display_data",
          "data": {
            "text/plain": [
              "merges.txt:   0%|          | 0.00/1.27M [00:00<?, ?B/s]"
            ],
            "application/vnd.jupyter.widget-view+json": {
              "version_major": 2,
              "version_minor": 0,
              "model_id": "2ba89992a297418f8f39f82272b0c5ad"
            }
          },
          "metadata": {}
        },
        {
          "output_type": "display_data",
          "data": {
            "text/plain": [
              "added_tokens.json:   0%|          | 0.00/2.72k [00:00<?, ?B/s]"
            ],
            "application/vnd.jupyter.widget-view+json": {
              "version_major": 2,
              "version_minor": 0,
              "model_id": "db7a3d770fcc4bb5940d8935dbd76c8b"
            }
          },
          "metadata": {}
        },
        {
          "output_type": "display_data",
          "data": {
            "text/plain": [
              "special_tokens_map.json:   0%|          | 0.00/689 [00:00<?, ?B/s]"
            ],
            "application/vnd.jupyter.widget-view+json": {
              "version_major": 2,
              "version_minor": 0,
              "model_id": "021c90b5ec7c42d59ac34fb739f8b6d5"
            }
          },
          "metadata": {}
        },
        {
          "output_type": "stream",
          "name": "stderr",
          "text": [
            "Special tokens have been added in the vocabulary, make sure the associated word embeddings are fine-tuned or trained.\n",
            "Special tokens have been added in the vocabulary, make sure the associated word embeddings are fine-tuned or trained.\n"
          ]
        }
      ]
    },
    {
      "cell_type": "markdown",
      "source": [
        "## ***Применение***"
      ],
      "metadata": {
        "id": "wskuHnoWUdTj"
      }
    },
    {
      "cell_type": "markdown",
      "source": [
        "**Попробую применить модель на всем тексте параграфа 1**"
      ],
      "metadata": {
        "id": "5Efgp15tX6SL"
      }
    },
    {
      "cell_type": "code",
      "source": [
        "chapter_1_clean_joined[0] # Мин. предобр.текст параграфа №1"
      ],
      "metadata": {
        "colab": {
          "base_uri": "https://localhost:8080/",
          "height": 140
        },
        "id": "ju6vsRiqZu-S",
        "outputId": "c77ea064-f241-41b6-81e1-4cc7f2fcdde7"
      },
      "execution_count": null,
      "outputs": [
        {
          "output_type": "execute_result",
          "data": {
            "text/plain": [
              "'Глава 1 ____________ О бщ ие с в е д е н и я  о м и р е ж и в о т н ы х 1 Зоология — наука о ж ивотны х Вы узнаете: • какие науки входят в состав зоологии; • каковы общие свойства объектов, изучаемых зоологией; • по каким признакам животные отличаются от растений. Вспомните • Каковы общие признаки растений? Введение В предыдущ их классах вы познакомились с представителями трёх  царств: Бактерии, Грибы, Растения. Теперь вы приступаете к изучению  нового царства живых организмов — Животные. Раздел биологии, посвящённый изучению животных, их разнообразия,  строения и ж изнедеятельности, связей со средой обитания, распростране ния, индивидуального и исторического развития, роли в природе и зн а чения для человека, назы вается зоологи ей  (от греч. зоон  — «животное»,  логос  — «учение»). Современная зоология —  это система наук. Например, м орф ологи я   и анат ом ия ж ивот ны х  изучаю т внешнее и внутреннее строение орга низмов. Ф и зи ол оги я ж ивот ны х  исследует деятельность клеток, орга нов, систем органов и целых организмов. Важную часть зоологии составля ет эк ологи я ж ивот ны х,  изучаю щ ая взаимоотношения животных между  собой, с другими организмами и со средой обитания. П алеонт ология   рассматривает ископаемых животных и их изменения в процессе истори ческого развития. Э т ология  изучает поведение животных. Зоология изучает различны х животных — беспозвоночных и позвоноч ных (рис. 1). Особый мир представлен животными, состоящими всего из од ной клетки, — простейшими (рис. 2). 4  Рис. 1. Разнообразие многоклеточных животных: А — беспозвоночные; Б — позвоночные 5  Рис. 2. Разнообразие одноклеточных животных (простейших) Сходство и различие животных и растений Для животных, как и для большинства других ж ивых организмов, ха рактерны следующие особенности: клеточное строение, способность к пи танию, дыханию, выделению, наличие обмена веществ меж ду организмом  и окружаю щ ей средой, способность к размножению, росту, развитию. Ж ивотные отличаются от растений по следующим признакам. Клетки  животных не имеют твёрдой целлюлозной оболочки. В отличие от расте ний животные питаю тся готовыми органическими веществами. В природ ных сообществах они играют роль потребителей органического вещества.  Ж ивотные способны воспринимать раздраж ения и реагировать на них.  Они могут активно передвигаться. Большинство сами добывают себе пищу,  преследуют добычу. Разнообразие животных По данным Всемирного (М еждународного) союза охраны природы I  (ВСОП), на Земле сущ ествует более 1,2 млн видов животных. Больш е все- I  го насекомых — около 1  млн видов. Известно около 70 тыс. видов моллюс- I  ков, свыше 29 тыс. видов рыб. Современных птиц насчитывают по сравне- I   нию с другими группами немного —  около 9000 видов, ещ ё меньше млеко- I   питающих —  около 5000 видов. Распространены животные по всему земному шару. Они освоили раз- I   ные среды ж изни — водную, наземно-воздушную, почвенную. Известны |  и такие животные, которые обитают в растениях. Некоторые паразитиру ют в организмах других животных и человека. Ж ивотные очень разнообразны по облику и строению, размерам, обра- ;   3У  жизни. Одни передвигаются в воде с помощью ресничек, другие —  за I   счет плавников. Большинство наземных животных при движении опира ются на парные конечности. Насекомые, птицы, летучие мыши для полёта I  используют крылья. б  Рис. 3. Сравнительные размеры животных (простейшие даны в поле оптического  микроскопа) Самых маленьких животных можно увидеть только под микроскопом.  Крупные наземные животные, например слоны, достигают в высоту 3,5 м,  а масса их тела около 5 т. Самое большое животное из когда-либо живш их  и живущих на Земле —  синий кит длиной более 30 м и массой до 150 т (рис. 3). Значение животных Ж ивотные различаю тся не только по внешнему облику, строению, об разу ж изни, но и по той роли, которую  они играю т в природны х сооб ществах. Велика роль в природе животных — опы лит елей  растений  (рис. 4). Это бабочки, жуки, мухи, шмели, пчёлы и другие организмы. Без  них облик наш их лесов, лугов, полей был бы совсем другим. Многие ж ивот ные распространяют плоды и семена растений, перенося их на шерсти  и перьях или питаясь сочными плодами. М якоть переваривается, а семена  проходят через киш ечник и разносятся на большие расстояния. Некоторые животные играют отрицательную роль в природных сооб ществах. Массовое появление гусениц непарного ш елкопряда наносит  0громный вред лесам. Они поедают листья, почки, молодые побеги. Стаи 7  Рис. 4. Насекомые — опылители растений азиатской перелётной саранчи (рис. 5) уничтожаю т растительность на  огромных площ адях, лиш ая пищи другие растительноядные организмы.  Есть животные, вызываю щ ие болезни у растений, других животных и че ловека. Отдельные животные, наоборот, снижают число вредителей лесных  и культурных растений, питаясь ими. Большую ценность для человека имеют дикие животные как объекты  охоты. Значительную  часть белковой пищи человек получает за счёт вы лова рыбы в морях и океанах, промысла морского зверя, охоты на каба нов, оленей, водоплавающих и лесных птиц. Исключительно важное значение  для людей имеют домашние живот ные. Мы получаем от них продукты  питания (молоко, яйца, мёд), шерсть,  пух, кожу, шёлк. Домашние ж ивот ные выполняю т различную  работу  в сельском хозяйстве, служ ат транс портными средствами. Декоративные  животные ж ивут вместе с человеком  в квартирах и домах, скраш ивая до суг горожан. Больш инство одомаш-  Рис. 5. Азиатская перелётная ненных животных — это млекопита- саранча ющие и птицы. Современная зоология — это система наук, имеющих важное теоре-  :  тическое и практическое значение. Зоология, морфология, анатомия, физиология, экология, пале онтология, этология, опылители. 8 '"
            ],
            "application/vnd.google.colaboratory.intrinsic+json": {
              "type": "string"
            }
          },
          "metadata": {},
          "execution_count": 19
        }
      ]
    },
    {
      "cell_type": "code",
      "source": [
        "result_95m = sage_fredt5_95m_corrector.correct(chapter_1_clean_joined[0])  # применим модель к минимально предобр. тексту параграфа 1"
      ],
      "metadata": {
        "colab": {
          "base_uri": "https://localhost:8080/",
          "height": 49,
          "referenced_widgets": [
            "e276d6809a914e08a5526bf86180b79d",
            "7d15dd99d9d24edcb9bb90d4537f7c6b",
            "dbd6b4b0adba4b8ab1eca07ea016b774",
            "5b2551ef26e5461890b1baaa4cebc179",
            "4f699336f8654e7b906984354fe88770",
            "848a234615e94e16ba44e70f72c192c7",
            "3b46098fe881433588358aa0949ac346",
            "8850586452d947c4956bbddbd13c823e",
            "b768a1076fc74bec9bc011190058b7b0",
            "e458d6a258c74b0c8e7837f291db4b6b",
            "e40b0bab2aba477488a4c6d4b641e393"
          ]
        },
        "id": "JrDwBdLsUeW1",
        "outputId": "aa8d66dd-02da-480c-92c9-b2ad7b2e5c53"
      },
      "execution_count": null,
      "outputs": [
        {
          "output_type": "display_data",
          "data": {
            "text/plain": [
              "  0%|          | 0/1 [00:00<?, ?it/s]"
            ],
            "application/vnd.jupyter.widget-view+json": {
              "version_major": 2,
              "version_minor": 0,
              "model_id": "e276d6809a914e08a5526bf86180b79d"
            }
          },
          "metadata": {}
        }
      ]
    },
    {
      "cell_type": "code",
      "source": [
        "result_95m # Результат работы модели"
      ],
      "metadata": {
        "colab": {
          "base_uri": "https://localhost:8080/"
        },
        "id": "x5IhzgFGZomy",
        "outputId": "e54c2b21-fab3-4b31-e1c4-903b57514d6a"
      },
      "execution_count": null,
      "outputs": [
        {
          "output_type": "execute_result",
          "data": {
            "text/plain": [
              "['Глава 1. Объёмы и вес в еде, дё н и я, о м и р е ж и в о т н ы х 1. Зоология — наука о животных. Вы узнаете, какие науки входят в состав зоологии; каковы общие свойства объектов, изучаемых зоологией; по каким признакам животные отличаются от растений. Вспомните, каковы общие признаки растений. Введение в предыдущих классах вы познакомились с представителями трёх царств: бактерии, грибы, растения. Теперь вы приступаете к изучению нового царства живых организмов — животных. Раздел биологии, посвящённый изучению животных, их разнообразия, строения и жизнедеятельности, связей со средой обитания, распространения индивидуального и исторического развития, роли в природе и зн. ачения для человека, называют зоологи ей (от греч. зоон  — \"животное\", этология — \"опылители\").  - это система наук. Например, м орфологии я и животных животных  - исследуют деятельность клеток, органов, систем органов и целых организмов. \\nЕсть животные, имеют различную работу в сельском хозяйстве,  - это млекопитающие, животные, способны воспринимать раздражения и реагировать на них.  Они могут активно передвигаться. Большинство сами добывают себе пищу,  преследуют ']"
            ]
          },
          "metadata": {},
          "execution_count": 18
        }
      ]
    },
    {
      "cell_type": "markdown",
      "source": [
        "**Попробую по одному элементу (их всего 5) извлеченного первого параграфа**"
      ],
      "metadata": {
        "id": "b495NRd8YD-D"
      }
    },
    {
      "cell_type": "code",
      "source": [
        "# 1"
      ],
      "metadata": {
        "id": "YHlMBrpzffni"
      },
      "execution_count": null,
      "outputs": []
    },
    {
      "cell_type": "code",
      "source": [
        "chapter_1_clean[0]"
      ],
      "metadata": {
        "colab": {
          "base_uri": "https://localhost:8080/",
          "height": 209
        },
        "id": "Q8N7ImNOgECa",
        "outputId": "aab50f35-7723-43c6-8313-eeac3f358c76"
      },
      "execution_count": null,
      "outputs": [
        {
          "output_type": "execute_result",
          "data": {
            "text/plain": [
              "'Глава 1 ____________ О бщ ие с в е д е н и я  о м и р е ж и в о т н ы х 1 Зоология — наука о ж ивотны х Вы узнаете: • какие науки входят в состав зоологии; • каковы общие свойства объектов, изучаемых зоологией; • по каким признакам животные отличаются от растений. Вспомните • Каковы общие признаки растений? Введение В предыдущ их классах вы познакомились с представителями трёх  царств: Бактерии, Грибы, Растения. Теперь вы приступаете к изучению  нового царства живых организмов — Животные. Раздел биологии, посвящённый изучению животных, их разнообразия,  строения и ж изнедеятельности, связей со средой обитания, распростране ния, индивидуального и исторического развития, роли в природе и зн а чения для человека, назы вается зоологи ей  (от греч. зоон  — «животное»,  логос  — «учение»). Современная зоология —  это система наук. Например, м орф ологи я   и анат ом ия ж ивот ны х  изучаю т внешнее и внутреннее строение орга низмов. Ф и зи ол оги я ж ивот ны х  исследует деятельность клеток, орга нов, систем органов и целых организмов. Важную часть зоологии составля ет эк ологи я ж ивот ны х,  изучаю щ ая взаимоотношения животных между  собой, с другими организмами и со средой обитания. П алеонт ология   рассматривает ископаемых животных и их изменения в процессе истори ческого развития. Э т ология  изучает поведение животных. Зоология изучает различны х животных — беспозвоночных и позвоноч ных (рис. 1). Особый мир представлен животными, состоящими всего из од ной клетки, — простейшими (рис. 2). 4 '"
            ],
            "application/vnd.google.colaboratory.intrinsic+json": {
              "type": "string"
            }
          },
          "metadata": {},
          "execution_count": 32
        }
      ]
    },
    {
      "cell_type": "code",
      "source": [
        "result_95_ch_1_1 = sage_fredt5_95m_corrector.correct(chapter_1_clean[0])"
      ],
      "metadata": {
        "colab": {
          "base_uri": "https://localhost:8080/",
          "height": 49,
          "referenced_widgets": [
            "e1c6c304514f4370bda8afe01b7419ed",
            "d269d5e5dfc14333a50658b172d83b7e",
            "444109b698d54ae680019f758ed7c3ef",
            "3e540ab5dd0842be89c1e4a769155930",
            "9af7828e46a74b38955a7160bdb459bb",
            "4c13e630783c49c8859b4ba097e72160",
            "3af296682ab0493195213684104c656f",
            "021b1c39271549048d89ec1d81cacb38",
            "96f89b38937b4d77a592a0f48ec6c5de",
            "5187f1c51aa24d9cae28a16624d3ab07",
            "b544a8475c3e444b82888e3129585bd7"
          ]
        },
        "id": "hNos3utPfn15",
        "outputId": "fe18b9a2-be23-4cc6-f5be-41efecf560f9"
      },
      "execution_count": null,
      "outputs": [
        {
          "output_type": "display_data",
          "data": {
            "text/plain": [
              "  0%|          | 0/1 [00:00<?, ?it/s]"
            ],
            "application/vnd.jupyter.widget-view+json": {
              "version_major": 2,
              "version_minor": 0,
              "model_id": "e1c6c304514f4370bda8afe01b7419ed"
            }
          },
          "metadata": {}
        }
      ]
    },
    {
      "cell_type": "code",
      "source": [
        "result_95_ch_1_1"
      ],
      "metadata": {
        "colab": {
          "base_uri": "https://localhost:8080/"
        },
        "id": "wxxveyK-gzrg",
        "outputId": "4a1731cc-60d1-443c-ec76-85148f1c829d"
      },
      "execution_count": null,
      "outputs": [
        {
          "output_type": "execute_result",
          "data": {
            "text/plain": [
              "['Глава 1. Об общ. ие с в е д е н и я о м и р е ж и в о т н ы х 1. Зоология — наука о животных. Вы узнаете: какие науки входят в состав зоологии; каковы общие свойства объектов, изучаемых зоологией; по каким признакам животные отличаются от растений. Вспомните: каковы общие признаки растений? Введение: в предыдущих классах вы познакомились с представителями трёх царств: Бактерии, Грибы, Растения. Теперь вы приступаете к изучению нового царства живых организмов — Животные. Раздел биологии, посвящённый изучению животных, их разнообразия, строения и жизнедеятельности, связей со средой обитания, распространения индивидуального и исторического развития, роли в природе и зн. ачения для человека, называется зоологией (от греч. зоон  — \"животное\", логос  — \"учение\"). Современная зоология — это система наук. Например, м орфологии я и анат о м и я ж живот ны х  изучаю и внешнее и внутреннее строение органов, низмов. Ф и з и ол оги я ж живот ны х  исследует деятельность клеток, органов, систем органов и целых организмов. Важную часть зоологии составляет экология я ж живот ны х, изучаю щ ая взаимоотношения животных между собой, с другими организмами и со средой обитания. Э т ология рассматривает поведение животных. Зоология изучает различных животных — беспозвоночных и позвоночных (рис. 1). Особый мир представлен животными, состоящими всего из одной клетки, простейшими (рис. 2). 4 ']"
            ]
          },
          "metadata": {},
          "execution_count": 21
        }
      ]
    },
    {
      "cell_type": "code",
      "source": [
        "# 3"
      ],
      "metadata": {
        "id": "kzvPD7wtfoUQ"
      },
      "execution_count": null,
      "outputs": []
    },
    {
      "cell_type": "code",
      "source": [
        "chapter_1_clean[2]"
      ],
      "metadata": {
        "colab": {
          "base_uri": "https://localhost:8080/",
          "height": 244
        },
        "id": "pmpxRbSlfzdY",
        "outputId": "6cc50671-21ce-498e-ab6d-40188a253c4a"
      },
      "execution_count": null,
      "outputs": [
        {
          "output_type": "execute_result",
          "data": {
            "text/plain": [
              "'Рис. 2. Разнообразие одноклеточных животных (простейших) Сходство и различие животных и растений Для животных, как и для большинства других ж ивых организмов, ха рактерны следующие особенности: клеточное строение, способность к пи танию, дыханию, выделению, наличие обмена веществ меж ду организмом  и окружаю щ ей средой, способность к размножению, росту, развитию. Ж ивотные отличаются от растений по следующим признакам. Клетки  животных не имеют твёрдой целлюлозной оболочки. В отличие от расте ний животные питаю тся готовыми органическими веществами. В природ ных сообществах они играют роль потребителей органического вещества.  Ж ивотные способны воспринимать раздраж ения и реагировать на них.  Они могут активно передвигаться. Большинство сами добывают себе пищу,  преследуют добычу. Разнообразие животных По данным Всемирного (М еждународного) союза охраны природы I  (ВСОП), на Земле сущ ествует более 1,2 млн видов животных. Больш е все- I  го насекомых — около 1  млн видов. Известно около 70 тыс. видов моллюс- I  ков, свыше 29 тыс. видов рыб. Современных птиц насчитывают по сравне- I   нию с другими группами немного —  около 9000 видов, ещ ё меньше млеко- I   питающих —  около 5000 видов. Распространены животные по всему земному шару. Они освоили раз- I   ные среды ж изни — водную, наземно-воздушную, почвенную. Известны |  и такие животные, которые обитают в растениях. Некоторые паразитиру ют в организмах других животных и человека. Ж ивотные очень разнообразны по облику и строению, размерам, обра- ;   3У  жизни. Одни передвигаются в воде с помощью ресничек, другие —  за I   счет плавников. Большинство наземных животных при движении опира ются на парные конечности. Насекомые, птицы, летучие мыши для полёта I  используют крылья. б '"
            ],
            "application/vnd.google.colaboratory.intrinsic+json": {
              "type": "string"
            }
          },
          "metadata": {},
          "execution_count": 22
        }
      ]
    },
    {
      "cell_type": "code",
      "source": [
        "result_95_ch_1_3 = sage_fredt5_95m_corrector.correct(chapter_1_clean[2])"
      ],
      "metadata": {
        "colab": {
          "base_uri": "https://localhost:8080/",
          "referenced_widgets": [
            "7653839d9f5e42f6b0c282d50b0479ed",
            "0a8f5901d1364326bc6e0c1cb29ceaf2",
            "bec79a26410a4db18d67e5f3fc61ec66",
            "668cc753e41c4086b04f43eccceb6231",
            "ac8c3954ec564ccb96852bdb69aa9792",
            "68b3f8121a924349bb21cae67d5e501b",
            "e3fd1f3a3a0a4b4c8cb77163f130c3b1",
            "9d95db190fb34452b2039a60a429524e",
            "fde1164429b54230a25a935602d6ad9e",
            "558abc5a47b04ba6a667b957d5fbcc36",
            "500c9e4089b04783a5add82bf5d69958"
          ]
        },
        "collapsed": true,
        "id": "xRNlHJnDfzh-",
        "outputId": "3a1d9b66-63e9-4381-b88a-c6f4d7813dd6"
      },
      "execution_count": null,
      "outputs": [
        {
          "output_type": "display_data",
          "data": {
            "text/plain": [
              "  0%|          | 0/1 [00:00<?, ?it/s]"
            ],
            "application/vnd.jupyter.widget-view+json": {
              "version_major": 2,
              "version_minor": 0,
              "model_id": "7653839d9f5e42f6b0c282d50b0479ed"
            }
          },
          "metadata": {}
        }
      ]
    },
    {
      "cell_type": "code",
      "source": [
        "result_95_ch_1_3"
      ],
      "metadata": {
        "colab": {
          "base_uri": "https://localhost:8080/"
        },
        "id": "Rs6FOw5dgSXg",
        "outputId": "f13235ae-604e-4ba6-9879-93761a2ab6c9"
      },
      "execution_count": null,
      "outputs": [
        {
          "output_type": "execute_result",
          "data": {
            "text/plain": [
              "['Рис. 2. Разнообразие одноклеточных животных (простейших). Сходство и различие животных и растений. Для животных, как и для большинства других живых организмов, характерны следующие особенности: клеточное строение, способность к питанию, дыханию, выделению, наличие обмена веществ между организмом и окружающей ей средой, способность к размножению, росту, развитию. Животные отличаются от растений по следующим признакам. Клетки животных не имеют твёрдой целлюлозной оболочки. В отличие от растений, животные питаются готовыми органическими веществами. В природных сообществах они играют роль потребителей органического вещества. Животные способны воспринимать раздражения и реагировать на них. Они могут активно передвигаться. Большинство сами добывают себе пищу, преследуют добычу. Разнообразие животных по данным Всемирного (Международного) союза охраны природы I (ВСОП) на Земле существует более 1,2 млн видов животных. Больше всех I его насекомых — около 1 млн видов. Известно около 70 тыс. видов моллюсков, I  ков, свыше 29 тыс. видов рыб. Современных птиц насчитывают по сравнению I ни с другими группами немного — около 9000 видов, ещё меньше млеко- I, питающих около 5000 видов. Распространены животные по всему земному шару. Они освоили раз- I, ные среды жизни — водную, наземно-воздушную, почвенную. Известны и такие животные, которые обитают в растениях. Некоторые паразитируют в организмах других животных и человека. Животные очень разнообразны по облику и строению, размерам, образу жизни. Одни передвигаются в воде с помощью ресничек, другие — за I счёт плавников. Большинство наземных животных при движении опираются на парные конечности. Насекомые, птицы, летучие мыши для полёта I используют крылья. Б']"
            ]
          },
          "metadata": {},
          "execution_count": 24
        }
      ]
    },
    {
      "cell_type": "code",
      "source": [
        "# 4"
      ],
      "metadata": {
        "id": "mOHA9I11foXp"
      },
      "execution_count": null,
      "outputs": []
    },
    {
      "cell_type": "code",
      "source": [
        "chapter_1_clean[3]"
      ],
      "metadata": {
        "colab": {
          "base_uri": "https://localhost:8080/",
          "height": 157
        },
        "id": "xzI77S3Wf5zZ",
        "outputId": "88732bc1-0084-4231-e167-7f58d9748d5a"
      },
      "execution_count": null,
      "outputs": [
        {
          "output_type": "execute_result",
          "data": {
            "text/plain": [
              "'Рис. 3. Сравнительные размеры животных (простейшие даны в поле оптического  микроскопа) Самых маленьких животных можно увидеть только под микроскопом.  Крупные наземные животные, например слоны, достигают в высоту 3,5 м,  а масса их тела около 5 т. Самое большое животное из когда-либо живш их  и живущих на Земле —  синий кит длиной более 30 м и массой до 150 т (рис. 3). Значение животных Ж ивотные различаю тся не только по внешнему облику, строению, об разу ж изни, но и по той роли, которую  они играю т в природны х сооб ществах. Велика роль в природе животных — опы лит елей  растений  (рис. 4). Это бабочки, жуки, мухи, шмели, пчёлы и другие организмы. Без  них облик наш их лесов, лугов, полей был бы совсем другим. Многие ж ивот ные распространяют плоды и семена растений, перенося их на шерсти  и перьях или питаясь сочными плодами. М якоть переваривается, а семена  проходят через киш ечник и разносятся на большие расстояния. Некоторые животные играют отрицательную роль в природных сооб ществах. Массовое появление гусениц непарного ш елкопряда наносит  0громный вред лесам. Они поедают листья, почки, молодые побеги. Стаи 7 '"
            ],
            "application/vnd.google.colaboratory.intrinsic+json": {
              "type": "string"
            }
          },
          "metadata": {},
          "execution_count": 27
        }
      ]
    },
    {
      "cell_type": "code",
      "source": [
        "result_95_ch_1_4 = sage_fredt5_95m_corrector.correct(chapter_1_clean[3])"
      ],
      "metadata": {
        "colab": {
          "base_uri": "https://localhost:8080/",
          "height": 49,
          "referenced_widgets": [
            "f1688fbb0cd74b7dac0a60459c8d932c",
            "094fa0bfae514b48a684dae6b3e002a7",
            "1ecee499b0654b00b707fa7bb83fa0ea",
            "be21fbdd7be14e3e9abf6edce4edc091",
            "837d1ada294248d1bb464d0691f805eb",
            "f947e5bcd8af4f1da5c9b7290fd4620b",
            "78f54503afb04a25bd58b77641cb0a7f",
            "78168060ab0b4488b6722f9252de2ee9",
            "be3d3ead939e423b8ca9d0e2922c0725",
            "67aee35f2d5640e58e20fd61edebefc0",
            "3cf723fa276a40499a6ab1d19b507052"
          ]
        },
        "id": "TmEvCQuQfofo",
        "outputId": "637464f9-950c-4242-9aba-1197cd1db533"
      },
      "execution_count": null,
      "outputs": [
        {
          "output_type": "display_data",
          "data": {
            "text/plain": [
              "  0%|          | 0/1 [00:00<?, ?it/s]"
            ],
            "application/vnd.jupyter.widget-view+json": {
              "version_major": 2,
              "version_minor": 0,
              "model_id": "f1688fbb0cd74b7dac0a60459c8d932c"
            }
          },
          "metadata": {}
        }
      ]
    },
    {
      "cell_type": "code",
      "source": [
        "result_95_ch_1_4"
      ],
      "metadata": {
        "colab": {
          "base_uri": "https://localhost:8080/"
        },
        "id": "UawpnUtpgRWx",
        "outputId": "0f942a0d-d550-411d-c6f9-f6ed70e4af6c"
      },
      "execution_count": null,
      "outputs": [
        {
          "output_type": "execute_result",
          "data": {
            "text/plain": [
              "['Рис. 3. Сравнительные размеры животных (простейшие даны в поле оптического микроскопа). Самых маленьких животных можно увидеть только под микроскопом. Крупные наземные животные, например слоны, достигают в высоту 3,5 м, а масса их тела около 5 т. Самое большое животное из когда-либо живших и живущих на Земле — синий кит длиной более 30 м и массой до 150 т (рис. 3). Значение животных. Животные различаются не только по внешнему облику, строению, образу жизни, но и по той роли, которую они играют в природных сообществах. Велика роль в природе животных — опы лит елей растений (рис. 4). Это бабочки, жуки, мухи, шмели, пчёлы и другие организмы. Без них облик наших лесов, лугов, полей был бы совсем другим. Многие животные распространяют плоды и семена растений, перенося их на шерсти и перьях или питаясь сочными плодами. Мякьь переваривается, а семена проходят через киш, ечник и разносятся на большие расстояния. Некоторые животные играют отрицательную роль в природных сообществах. Массовое появление гусениц непарного шелкопряда наносит огромный вред лесам. Они поедают листья, почки, молодые побеги. Стаи 7 ']"
            ]
          },
          "metadata": {},
          "execution_count": 26
        }
      ]
    },
    {
      "cell_type": "code",
      "source": [
        "# 5"
      ],
      "metadata": {
        "id": "YdInFHEpfoaa"
      },
      "execution_count": null,
      "outputs": []
    },
    {
      "cell_type": "code",
      "source": [
        "chapter_1_clean[4]"
      ],
      "metadata": {
        "colab": {
          "base_uri": "https://localhost:8080/",
          "height": 175
        },
        "id": "UhsCQBFFfodS",
        "outputId": "a09d96fb-db66-4f04-e157-b3767424bd74"
      },
      "execution_count": null,
      "outputs": [
        {
          "output_type": "execute_result",
          "data": {
            "text/plain": [
              "'Рис. 4. Насекомые — опылители растений азиатской перелётной саранчи (рис. 5) уничтожаю т растительность на  огромных площ адях, лиш ая пищи другие растительноядные организмы.  Есть животные, вызываю щ ие болезни у растений, других животных и че ловека. Отдельные животные, наоборот, снижают число вредителей лесных  и культурных растений, питаясь ими. Большую ценность для человека имеют дикие животные как объекты  охоты. Значительную  часть белковой пищи человек получает за счёт вы лова рыбы в морях и океанах, промысла морского зверя, охоты на каба нов, оленей, водоплавающих и лесных птиц. Исключительно важное значение  для людей имеют домашние живот ные. Мы получаем от них продукты  питания (молоко, яйца, мёд), шерсть,  пух, кожу, шёлк. Домашние ж ивот ные выполняю т различную  работу  в сельском хозяйстве, служ ат транс портными средствами. Декоративные  животные ж ивут вместе с человеком  в квартирах и домах, скраш ивая до суг горожан. Больш инство одомаш-  Рис. 5. Азиатская перелётная ненных животных — это млекопита- саранча ющие и птицы. Современная зоология — это система наук, имеющих важное теоре-  :  тическое и практическое значение. Зоология, морфология, анатомия, физиология, экология, пале онтология, этология, опылители. 8 '"
            ],
            "application/vnd.google.colaboratory.intrinsic+json": {
              "type": "string"
            }
          },
          "metadata": {},
          "execution_count": 28
        }
      ]
    },
    {
      "cell_type": "code",
      "source": [
        "result_95_ch_1_5 = sage_fredt5_95m_corrector.correct(chapter_1_clean[4])"
      ],
      "metadata": {
        "colab": {
          "base_uri": "https://localhost:8080/",
          "height": 49,
          "referenced_widgets": [
            "3b117a11e4224eaabe370cf62e1c54e1",
            "875eed91e23242bea02f5a0012856a04",
            "f772597cb1cd486aa48a96b66398155a",
            "88de7899b44e467191f7358267101993",
            "be6060c2314a417aaeaadc88912ab099",
            "802dc22a6fb7473a8e7cae984fdc9e13",
            "2f87ff42fc934dcf8a4dc7a9ff26af7b",
            "f97e2aa8e6eb49a3aaf8f65bc1abd966",
            "e13f73cd74d54d889920a3ef568ead4c",
            "2f95c0f9521d450f9725a8ce4c5489e4",
            "dda589ca8ef74b1eb0ecd2f4c3704394"
          ]
        },
        "id": "I0-ZWh7ffoiO",
        "outputId": "b86aadc0-7c5f-457b-9202-3c89fdec2a9a"
      },
      "execution_count": null,
      "outputs": [
        {
          "output_type": "display_data",
          "data": {
            "text/plain": [
              "  0%|          | 0/1 [00:00<?, ?it/s]"
            ],
            "application/vnd.jupyter.widget-view+json": {
              "version_major": 2,
              "version_minor": 0,
              "model_id": "3b117a11e4224eaabe370cf62e1c54e1"
            }
          },
          "metadata": {}
        }
      ]
    },
    {
      "cell_type": "code",
      "source": [
        "result_95_ch_1_5"
      ],
      "metadata": {
        "colab": {
          "base_uri": "https://localhost:8080/"
        },
        "id": "sdUVU3l6fok5",
        "outputId": "90a2785e-9cd6-4cb8-f82f-0589a493e762"
      },
      "execution_count": null,
      "outputs": [
        {
          "output_type": "execute_result",
          "data": {
            "text/plain": [
              "['Рис. 4. Насекомые — опылители растений азиатской перелётной саранчи (рис. 5) уничтожают растительность на огромных площадях, лишая пищи другие растительноядные организмы. Есть животные, вызывающие те болезни у растений, других животных и человека. Отдельные животные, наоборот, снижают число вредителей лесных и культурных растений, питаясь ими. Большую ценность для человека имеют дикие животные как объекты охоты. Значительную часть белковой пищи человек получает за счёт вылова рыбы в морях и океанах, промысла морского зверя, охоты на кабанов, оленей, водоплавающих и лесных птиц. Исключительно важное значение для людей имеют домашние животные ные. Мы получаем от них продукты питания (молоко, яйца, мёд), шерсть, пух, кожу, шёлк. Домашние животные живут ные, выполняют различную работу в сельском хозяйстве, служат транс портными средствами. Декоративные животные живут вместе с человеком в квартирах и домах, скрашивая до суг горожан. Большинство одомаш. Рис. 5. Азиатская перелётная ненных животных — это млекопита-саранча ющие и птицы. Современная зоология — это система наук, имеющих важное теоре-  -  -  - тактическое и практическое значение. Зоология, морфология, анатомия, физиология, экология, палеоантология, этология, опылители. 8 ']"
            ]
          },
          "metadata": {},
          "execution_count": 31
        }
      ]
    },
    {
      "cell_type": "code",
      "source": [
        "# Объединим все фрагменты в один список"
      ],
      "metadata": {
        "id": "gymwOC2Pooi-"
      },
      "execution_count": null,
      "outputs": []
    },
    {
      "cell_type": "code",
      "source": [
        "ch_1_result_95 = result_95_ch_1_1 + [chapter_1_clean[1]] + result_95_ch_1_3 + result_95_ch_1_4 + result_95_ch_1_5"
      ],
      "metadata": {
        "id": "K9BP4dHuoomG"
      },
      "execution_count": null,
      "outputs": []
    },
    {
      "cell_type": "code",
      "source": [
        "ch_1_result_95"
      ],
      "metadata": {
        "colab": {
          "base_uri": "https://localhost:8080/"
        },
        "collapsed": true,
        "id": "cs_v7Bjyooo-",
        "outputId": "a32cc074-b78d-4f59-c804-0a04076639cb"
      },
      "execution_count": null,
      "outputs": [
        {
          "output_type": "execute_result",
          "data": {
            "text/plain": [
              "['Глава 1. Об общ. ие с в е д е н и я о м и р е ж и в о т н ы х 1. Зоология — наука о животных. Вы узнаете: какие науки входят в состав зоологии; каковы общие свойства объектов, изучаемых зоологией; по каким признакам животные отличаются от растений. Вспомните: каковы общие признаки растений? Введение: в предыдущих классах вы познакомились с представителями трёх царств: Бактерии, Грибы, Растения. Теперь вы приступаете к изучению нового царства живых организмов — Животные. Раздел биологии, посвящённый изучению животных, их разнообразия, строения и жизнедеятельности, связей со средой обитания, распространения индивидуального и исторического развития, роли в природе и зн. ачения для человека, называется зоологией (от греч. зоон  — \"животное\", логос  — \"учение\"). Современная зоология — это система наук. Например, м орфологии я и анат о м и я ж живот ны х  изучаю и внешнее и внутреннее строение органов, низмов. Ф и з и ол оги я ж живот ны х  исследует деятельность клеток, органов, систем органов и целых организмов. Важную часть зоологии составляет экология я ж живот ны х, изучаю щ ая взаимоотношения животных между собой, с другими организмами и со средой обитания. Э т ология рассматривает поведение животных. Зоология изучает различных животных — беспозвоночных и позвоночных (рис. 1). Особый мир представлен животными, состоящими всего из одной клетки, простейшими (рис. 2). 4 ',\n",
              " 'Рис. 1. Разнообразие многоклеточных животных: А — беспозвоночные; Б — позвоночные 5 ',\n",
              " 'Рис. 2. Разнообразие одноклеточных животных (простейших). Сходство и различие животных и растений. Для животных, как и для большинства других живых организмов, характерны следующие особенности: клеточное строение, способность к питанию, дыханию, выделению, наличие обмена веществ между организмом и окружающей ей средой, способность к размножению, росту, развитию. Животные отличаются от растений по следующим признакам. Клетки животных не имеют твёрдой целлюлозной оболочки. В отличие от растений, животные питаются готовыми органическими веществами. В природных сообществах они играют роль потребителей органического вещества. Животные способны воспринимать раздражения и реагировать на них. Они могут активно передвигаться. Большинство сами добывают себе пищу, преследуют добычу. Разнообразие животных по данным Всемирного (Международного) союза охраны природы I (ВСОП) на Земле существует более 1,2 млн видов животных. Больше всех I его насекомых — около 1 млн видов. Известно около 70 тыс. видов моллюсков, I  ков, свыше 29 тыс. видов рыб. Современных птиц насчитывают по сравнению I ни с другими группами немного — около 9000 видов, ещё меньше млеко- I, питающих около 5000 видов. Распространены животные по всему земному шару. Они освоили раз- I, ные среды жизни — водную, наземно-воздушную, почвенную. Известны и такие животные, которые обитают в растениях. Некоторые паразитируют в организмах других животных и человека. Животные очень разнообразны по облику и строению, размерам, образу жизни. Одни передвигаются в воде с помощью ресничек, другие — за I счёт плавников. Большинство наземных животных при движении опираются на парные конечности. Насекомые, птицы, летучие мыши для полёта I используют крылья. Б',\n",
              " 'Рис. 3. Сравнительные размеры животных (простейшие даны в поле оптического микроскопа). Самых маленьких животных можно увидеть только под микроскопом. Крупные наземные животные, например слоны, достигают в высоту 3,5 м, а масса их тела около 5 т. Самое большое животное из когда-либо живших и живущих на Земле — синий кит длиной более 30 м и массой до 150 т (рис. 3). Значение животных. Животные различаются не только по внешнему облику, строению, образу жизни, но и по той роли, которую они играют в природных сообществах. Велика роль в природе животных — опы лит елей растений (рис. 4). Это бабочки, жуки, мухи, шмели, пчёлы и другие организмы. Без них облик наших лесов, лугов, полей был бы совсем другим. Многие животные распространяют плоды и семена растений, перенося их на шерсти и перьях или питаясь сочными плодами. Мякьь переваривается, а семена проходят через киш, ечник и разносятся на большие расстояния. Некоторые животные играют отрицательную роль в природных сообществах. Массовое появление гусениц непарного шелкопряда наносит огромный вред лесам. Они поедают листья, почки, молодые побеги. Стаи 7 ',\n",
              " 'Рис. 4. Насекомые — опылители растений азиатской перелётной саранчи (рис. 5) уничтожают растительность на огромных площадях, лишая пищи другие растительноядные организмы. Есть животные, вызывающие те болезни у растений, других животных и человека. Отдельные животные, наоборот, снижают число вредителей лесных и культурных растений, питаясь ими. Большую ценность для человека имеют дикие животные как объекты охоты. Значительную часть белковой пищи человек получает за счёт вылова рыбы в морях и океанах, промысла морского зверя, охоты на кабанов, оленей, водоплавающих и лесных птиц. Исключительно важное значение для людей имеют домашние животные ные. Мы получаем от них продукты питания (молоко, яйца, мёд), шерсть, пух, кожу, шёлк. Домашние животные живут ные, выполняют различную работу в сельском хозяйстве, служат транс портными средствами. Декоративные животные живут вместе с человеком в квартирах и домах, скрашивая до суг горожан. Большинство одомаш. Рис. 5. Азиатская перелётная ненных животных — это млекопита-саранча ющие и птицы. Современная зоология — это система наук, имеющих важное теоре-  -  -  - тактическое и практическое значение. Зоология, морфология, анатомия, физиология, экология, палеоантология, этология, опылители. 8 ']"
            ]
          },
          "metadata": {},
          "execution_count": 34
        }
      ]
    },
    {
      "cell_type": "code",
      "source": [
        "ch_1_result_95_fin = [' '.join(ch_1_result_95)] # внутри списка объединим строки, чтобы получился список, длиной 1 и передадим в DataFrame"
      ],
      "metadata": {
        "id": "wxEuxOhmoorm"
      },
      "execution_count": null,
      "outputs": []
    },
    {
      "cell_type": "code",
      "source": [
        "ch_1_result_95_fin"
      ],
      "metadata": {
        "colab": {
          "base_uri": "https://localhost:8080/"
        },
        "collapsed": true,
        "id": "2cXIvRMZooua",
        "outputId": "fb3f4f08-768b-47a9-81b3-068c479390bf"
      },
      "execution_count": null,
      "outputs": [
        {
          "output_type": "execute_result",
          "data": {
            "text/plain": [
              "['Глава 1. Об общ. ие с в е д е н и я о м и р е ж и в о т н ы х 1. Зоология — наука о животных. Вы узнаете: какие науки входят в состав зоологии; каковы общие свойства объектов, изучаемых зоологией; по каким признакам животные отличаются от растений. Вспомните: каковы общие признаки растений? Введение: в предыдущих классах вы познакомились с представителями трёх царств: Бактерии, Грибы, Растения. Теперь вы приступаете к изучению нового царства живых организмов — Животные. Раздел биологии, посвящённый изучению животных, их разнообразия, строения и жизнедеятельности, связей со средой обитания, распространения индивидуального и исторического развития, роли в природе и зн. ачения для человека, называется зоологией (от греч. зоон  — \"животное\", логос  — \"учение\"). Современная зоология — это система наук. Например, м орфологии я и анат о м и я ж живот ны х  изучаю и внешнее и внутреннее строение органов, низмов. Ф и з и ол оги я ж живот ны х  исследует деятельность клеток, органов, систем органов и целых организмов. Важную часть зоологии составляет экология я ж живот ны х, изучаю щ ая взаимоотношения животных между собой, с другими организмами и со средой обитания. Э т ология рассматривает поведение животных. Зоология изучает различных животных — беспозвоночных и позвоночных (рис. 1). Особый мир представлен животными, состоящими всего из одной клетки, простейшими (рис. 2). 4  Рис. 1. Разнообразие многоклеточных животных: А — беспозвоночные; Б — позвоночные 5  Рис. 2. Разнообразие одноклеточных животных (простейших). Сходство и различие животных и растений. Для животных, как и для большинства других живых организмов, характерны следующие особенности: клеточное строение, способность к питанию, дыханию, выделению, наличие обмена веществ между организмом и окружающей ей средой, способность к размножению, росту, развитию. Животные отличаются от растений по следующим признакам. Клетки животных не имеют твёрдой целлюлозной оболочки. В отличие от растений, животные питаются готовыми органическими веществами. В природных сообществах они играют роль потребителей органического вещества. Животные способны воспринимать раздражения и реагировать на них. Они могут активно передвигаться. Большинство сами добывают себе пищу, преследуют добычу. Разнообразие животных по данным Всемирного (Международного) союза охраны природы I (ВСОП) на Земле существует более 1,2 млн видов животных. Больше всех I его насекомых — около 1 млн видов. Известно около 70 тыс. видов моллюсков, I  ков, свыше 29 тыс. видов рыб. Современных птиц насчитывают по сравнению I ни с другими группами немного — около 9000 видов, ещё меньше млеко- I, питающих около 5000 видов. Распространены животные по всему земному шару. Они освоили раз- I, ные среды жизни — водную, наземно-воздушную, почвенную. Известны и такие животные, которые обитают в растениях. Некоторые паразитируют в организмах других животных и человека. Животные очень разнообразны по облику и строению, размерам, образу жизни. Одни передвигаются в воде с помощью ресничек, другие — за I счёт плавников. Большинство наземных животных при движении опираются на парные конечности. Насекомые, птицы, летучие мыши для полёта I используют крылья. Б Рис. 3. Сравнительные размеры животных (простейшие даны в поле оптического микроскопа). Самых маленьких животных можно увидеть только под микроскопом. Крупные наземные животные, например слоны, достигают в высоту 3,5 м, а масса их тела около 5 т. Самое большое животное из когда-либо живших и живущих на Земле — синий кит длиной более 30 м и массой до 150 т (рис. 3). Значение животных. Животные различаются не только по внешнему облику, строению, образу жизни, но и по той роли, которую они играют в природных сообществах. Велика роль в природе животных — опы лит елей растений (рис. 4). Это бабочки, жуки, мухи, шмели, пчёлы и другие организмы. Без них облик наших лесов, лугов, полей был бы совсем другим. Многие животные распространяют плоды и семена растений, перенося их на шерсти и перьях или питаясь сочными плодами. Мякьь переваривается, а семена проходят через киш, ечник и разносятся на большие расстояния. Некоторые животные играют отрицательную роль в природных сообществах. Массовое появление гусениц непарного шелкопряда наносит огромный вред лесам. Они поедают листья, почки, молодые побеги. Стаи 7  Рис. 4. Насекомые — опылители растений азиатской перелётной саранчи (рис. 5) уничтожают растительность на огромных площадях, лишая пищи другие растительноядные организмы. Есть животные, вызывающие те болезни у растений, других животных и человека. Отдельные животные, наоборот, снижают число вредителей лесных и культурных растений, питаясь ими. Большую ценность для человека имеют дикие животные как объекты охоты. Значительную часть белковой пищи человек получает за счёт вылова рыбы в морях и океанах, промысла морского зверя, охоты на кабанов, оленей, водоплавающих и лесных птиц. Исключительно важное значение для людей имеют домашние животные ные. Мы получаем от них продукты питания (молоко, яйца, мёд), шерсть, пух, кожу, шёлк. Домашние животные живут ные, выполняют различную работу в сельском хозяйстве, служат транс портными средствами. Декоративные животные живут вместе с человеком в квартирах и домах, скрашивая до суг горожан. Большинство одомаш. Рис. 5. Азиатская перелётная ненных животных — это млекопита-саранча ющие и птицы. Современная зоология — это система наук, имеющих важное теоре-  -  -  - тактическое и практическое значение. Зоология, морфология, анатомия, физиология, экология, палеоантология, этология, опылители. 8 ']"
            ]
          },
          "metadata": {},
          "execution_count": 36
        }
      ]
    },
    {
      "cell_type": "markdown",
      "source": [
        "# **Извлечение наименований глав и параграфов**"
      ],
      "metadata": {
        "id": "aUxRWuIgvGYR"
      }
    },
    {
      "cell_type": "code",
      "source": [
        "title_pattern = r'(Глава \\d*\\. *\\w[^.]*)(?=§)'\n",
        "title_list = []\n",
        "\n",
        "for q in range(number_of_pages):\n",
        "  current_page = reader.pages[q]\n",
        "  page_text = current_page.extract_text()\n",
        "  if re.findall(title_pattern, page_text):\n",
        "    title_list.append(re.findall(title_pattern, page_text))"
      ],
      "metadata": {
        "id": "WRJlOOkJvN8J"
      },
      "execution_count": null,
      "outputs": []
    },
    {
      "cell_type": "code",
      "source": [
        "title_list"
      ],
      "metadata": {
        "colab": {
          "base_uri": "https://localhost:8080/"
        },
        "collapsed": true,
        "id": "TZoMs7wk0Adq",
        "outputId": "b112e52c-5998-463c-b2cb-1a12bf231e39"
      },
      "execution_count": null,
      "outputs": [
        {
          "output_type": "execute_result",
          "data": {
            "text/plain": [
              "[['Глава 1.  Общие сведения о мире животных\\n',\n",
              "  'Глава 2.  Строение тела животных\\n',\n",
              "  'Глава 3.  Подцарство Простейшие (Protozoa)\\n',\n",
              "  'Глава 4.  Тип Кишечнополостные (Coelenterata)\\n',\n",
              "  'Глава 5.  Типы Плоские черви (Plathelminthes),\\nКруглые черви (Nemathelminthes),\\nКольчатые черви (Annelida)\\n'],\n",
              " ['Глава 6.  Тип Моллюски (Mollusca)\\n',\n",
              "  'Глава 7.  Тип Членистоногие (Arthropoda)\\n',\n",
              "  'Глава 8.  Тип Хордовые (Chordata): бесчерепные, рыбы\\n',\n",
              "  'Глава 9.  Класс Земноводные, или Амфибии (Amphibia)\\n',\n",
              "  'Глава 10.  Класс Пресмыкающиеся, или Рептилии (Reptilia)\\n'],\n",
              " ['Глава 11.  Класс Птицы (Aves)\\n',\n",
              "  'Глава 12.  Класс Млекопитающие, или Звери (M ammalia)\\n',\n",
              "  'Глава 13.  Развитие животного мира на Земле\\n']]"
            ]
          },
          "metadata": {},
          "execution_count": 69
        }
      ]
    },
    {
      "cell_type": "code",
      "source": [
        "title_list0 = [titl.replace('\\n', '') for tit in title_list for titl in tit] # уберем \\n и список сделаем плоским"
      ],
      "metadata": {
        "id": "3p98a6YCz14Z"
      },
      "execution_count": null,
      "outputs": []
    },
    {
      "cell_type": "code",
      "source": [
        "title_list0"
      ],
      "metadata": {
        "colab": {
          "base_uri": "https://localhost:8080/"
        },
        "id": "rbraIZKXz8gy",
        "outputId": "37b022be-1ee0-4113-c67e-4c4fb8f82148"
      },
      "execution_count": null,
      "outputs": [
        {
          "output_type": "execute_result",
          "data": {
            "text/plain": [
              "['Глава 1.  Общие сведения о мире животных',\n",
              " 'Глава 2.  Строение тела животных',\n",
              " 'Глава 3.  Подцарство Простейшие (Protozoa)',\n",
              " 'Глава 4.  Тип Кишечнополостные (Coelenterata)',\n",
              " 'Глава 5.  Типы Плоские черви (Plathelminthes),Круглые черви (Nemathelminthes),Кольчатые черви (Annelida)',\n",
              " 'Глава 6.  Тип Моллюски (Mollusca)',\n",
              " 'Глава 7.  Тип Членистоногие (Arthropoda)',\n",
              " 'Глава 8.  Тип Хордовые (Chordata): бесчерепные, рыбы',\n",
              " 'Глава 9.  Класс Земноводные, или Амфибии (Amphibia)',\n",
              " 'Глава 10.  Класс Пресмыкающиеся, или Рептилии (Reptilia)',\n",
              " 'Глава 11.  Класс Птицы (Aves)',\n",
              " 'Глава 12.  Класс Млекопитающие, или Звери (M ammalia)',\n",
              " 'Глава 13.  Развитие животного мира на Земле']"
            ]
          },
          "metadata": {},
          "execution_count": 71
        }
      ]
    },
    {
      "cell_type": "code",
      "source": [
        "# Параграфы"
      ],
      "metadata": {
        "id": "3wqb0h_O0OF7"
      },
      "execution_count": null,
      "outputs": []
    },
    {
      "cell_type": "code",
      "source": [
        "chapter_pattern = r'§ \\d{1,2}\\. \\w[^.]*'\n",
        "chapter_list = []\n",
        "\n",
        "for c in range(number_of_pages):\n",
        "  current_page_c = reader.pages[c]\n",
        "  page_text_c = current_page_c.extract_text()\n",
        "  if re.findall(chapter_pattern, page_text_c):\n",
        "    chapter_list.append(re.findall(chapter_pattern, page_text_c))"
      ],
      "metadata": {
        "id": "h97cVW-M0PzD"
      },
      "execution_count": null,
      "outputs": []
    },
    {
      "cell_type": "code",
      "source": [
        "chapter_list0 = [chapt.replace('\\n', ' ') for chap in chapter_list for chapt in chap] # поступим аналогично как с главами"
      ],
      "metadata": {
        "id": "fQperKyq0P25"
      },
      "execution_count": null,
      "outputs": []
    },
    {
      "cell_type": "code",
      "source": [
        "chapter_list0"
      ],
      "metadata": {
        "colab": {
          "base_uri": "https://localhost:8080/"
        },
        "collapsed": true,
        "id": "N4uYFVAE0U3k",
        "outputId": "4ca68ad9-1ee6-4069-95d2-216134448010"
      },
      "execution_count": null,
      "outputs": [
        {
          "output_type": "execute_result",
          "data": {
            "text/plain": [
              "['§ 1. Зоология — наука о ж и вотн ы х ',\n",
              " '§ 2. Ж ивотные и окружаю щ ая с р е д а ',\n",
              " '§ 3. Классификация животных и основные систематические груп п ы ',\n",
              " '§ 4. Влияние человека на ж и в о тн ы х ',\n",
              " '§ 5. К раткая история развития зоологии ',\n",
              " '§ 6. К л е тк а ',\n",
              " '§ 7. Ткани, органы и системы органов ',\n",
              " '§ 8. Тип Саркодовые и жгутиконосцы (Sarcom astigophora)',\n",
              " '§ 9. Тип Саркодовые и жгутиконосцы',\n",
              " '§ 10. Тип И нфузории (C iliophora) ',\n",
              " '§ 11. Значение простейш их ',\n",
              " '§ 12. Строение и ж изнедеятельность киш ечнополостных',\n",
              " '§ 13. Разнообразие киш ечнополостных ',\n",
              " '§ 14. Тип Плоские черви (P lath elm in th es) ',\n",
              " '§ 15. Разнообразие плоских червей: сосальщ ики и цепни ',\n",
              " '§ 16. Тип Круглые черви (N em ath elm in th es) ',\n",
              " '§ 17. Тип Кольчатые черви (Annelida)',\n",
              " '§ 18. Тип Кольчатые черви (Annelida)',\n",
              " '§ 19. Общая характеристика м оллю сков ',\n",
              " '§ 20. Класс Брюхоногие моллюски (G astropoda) ',\n",
              " '§ 21. Класс Двустворчатые моллюски (B ivalvia) ',\n",
              " '§ 22. Класс Головоногие моллюски (C ephalopoda) ',\n",
              " '§ 23. Класс Ракообразные (C ru sta c ea ) ',\n",
              " '§ 24. Класс Паукообразные (A rach n id a) ',\n",
              " '§ 25. Класс Насекомые (Insecta) ',\n",
              " '§ 26. Типы развития н асек о м ы х ',\n",
              " '§ 27. Общественные насекомые —  пчёлы и муравьи',\n",
              " '§ 28. Насекомые — вредители культурных растений  и переносчики заболеваний ч ел о век а ',\n",
              " '§ 29. Бесчерепные (A cran ia) ',\n",
              " '§ 30. Черепные, или позвоночные',\n",
              " '§ 31. Внутреннее строение ры б ',\n",
              " '§ 32. Особенности размнож ения рыб ',\n",
              " '§ 33. Основные систематические группы ры б ',\n",
              " '§ 34. Промысловые рыбы',\n",
              " '§ 35. Среда обитания и строение тела зем новодны х ',\n",
              " '§ 36. Строение и функции внутренних органов зем новодны х ',\n",
              " '§ 37. Годовой жизненный цикл и происхождение зем новодны х ',\n",
              " '§ 38. Разнообразие и значение земноводных ',\n",
              " '§ 39. Внешнее строение и скелет пресмы каю щ ихся ',\n",
              " '§ 40. Внутреннее строение и жизнедеятельность пресм ы каю щ ихся ',\n",
              " '§ 41. Разнообразие пресм ы каю щ ихся ',\n",
              " '§ 42. Значение и происхождение пресм ы каю щ ихся ',\n",
              " '§ 43. Внешнее строение п т и ц ',\n",
              " '§ 44. Опорно-двигательная система п т и ц ',\n",
              " '§ 45. Внутреннее строение п т и ц ',\n",
              " '§ 46. Размножение и развитие п т и ц ',\n",
              " '§ 47. Годовой жизненный цикл и сезонные явления в жизни п ти ц ',\n",
              " '§ 48. Разнообразие п т и ц ',\n",
              " '§ 49. Значение и охрана птиц',\n",
              " '§ 50. Внешнее строение м лекопитаю щ их ',\n",
              " '§ 51. Внутреннее строение м лекопитаю щ их ',\n",
              " '§ 52. Размножение и развитие млекопитающих',\n",
              " '§ 53. Происхождение и разнообразие м лекопитаю щ их  243 § 54',\n",
              " '§ 55. Высшие, или плацентарные, звери: ластоногие  и китообразные, парнокопытные и непарнокопытные, хоботные ',\n",
              " '§ 56. Высшие, или плацентарные, звери: п р и м аты ',\n",
              " '§ 57. Экологические группы м лекопитаю щ их ',\n",
              " '§ 58. Значение млекопитающих для ч ел о в ек а ',\n",
              " '§ 59. Доказательства эволюции животного мира',\n",
              " '§ 60. Развитие животного мира на Земле']"
            ]
          },
          "metadata": {},
          "execution_count": 74
        }
      ]
    },
    {
      "cell_type": "code",
      "source": [
        "# Применим модель, чтобы объединила слова\n",
        "sage_5_large_ch_name = sage_fredt5_large_corrector.correct(chapter_list0[0])"
      ],
      "metadata": {
        "colab": {
          "base_uri": "https://localhost:8080/",
          "height": 49,
          "referenced_widgets": [
            "03d353d3a4f1444692e406a280b1d2ad",
            "334c4963628a4429b3e42e5c84535a3e",
            "9ef2b307f8964dae90aaf2b6f02ec541",
            "d2ea4fe9411c4ec7be5d9eff6447d6fc",
            "0e4df2ec298d479eb9ae8a10c020c698",
            "395d0974eacf4c4581eb3a6449fd9b48",
            "297da58231274957bea22d28c93cc1c8",
            "665b10ddeab845a4b9dd42730e012a23",
            "fba4f8d0c6fd4ee6b7b1e91e41e8514d",
            "60d3eac4df074e5cac13a481f0c2a210",
            "f46dfb1a6fb04c3795740106dfaecb1a"
          ]
        },
        "id": "l8-RdSyP0kAj",
        "outputId": "1a777c3e-02ae-4f50-8338-4900e455120f"
      },
      "execution_count": null,
      "outputs": [
        {
          "output_type": "display_data",
          "data": {
            "text/plain": [
              "  0%|          | 0/1 [00:00<?, ?it/s]"
            ],
            "application/vnd.jupyter.widget-view+json": {
              "version_major": 2,
              "version_minor": 0,
              "model_id": "03d353d3a4f1444692e406a280b1d2ad"
            }
          },
          "metadata": {}
        }
      ]
    },
    {
      "cell_type": "code",
      "source": [
        "sage_5_large_ch_name"
      ],
      "metadata": {
        "colab": {
          "base_uri": "https://localhost:8080/"
        },
        "id": "23VNzh3D1WuL",
        "outputId": "67996118-845f-4261-87c1-4746cbd531e1"
      },
      "execution_count": null,
      "outputs": [
        {
          "output_type": "execute_result",
          "data": {
            "text/plain": [
              "['P.S. 1. Зоология наука о лжи и вот о х']"
            ]
          },
          "metadata": {},
          "execution_count": 76
        }
      ]
    },
    {
      "cell_type": "code",
      "source": [
        "# Применим модель sage-fredt5-distilled-95m, чтобы объединила слова\n",
        "sage_95m_ch_name = sage_fredt5_95m_corrector.correct(chapter_list0[0])"
      ],
      "metadata": {
        "colab": {
          "base_uri": "https://localhost:8080/",
          "height": 49,
          "referenced_widgets": [
            "280a78400b134cc9b271216593f09c69",
            "41ce52bb0c0c42549b17e01b6135dcc2",
            "2f2679450be944d99d41b27f9991e255",
            "94a4799097e14342a016585398382c04",
            "ad289c19b93c427f9642ff452b8e7f24",
            "037e3332dbc74840a53ad6e4979e278e",
            "60c30220c40e44a0babdcd8a2dc931c5",
            "4d7e28aec8e9453cb91075c1a8ebe903",
            "a017fcc03381406eab7870cfc97aa0d3",
            "929bba3ad67b4535b7214d5fa3db2ea2",
            "de0a36f6bd20439e85d6273f9381ce21"
          ]
        },
        "id": "u3b6QpxCpe6O",
        "outputId": "ffe58b1f-28d7-4521-8af8-dc35cdc14351"
      },
      "execution_count": null,
      "outputs": [
        {
          "output_type": "display_data",
          "data": {
            "text/plain": [
              "  0%|          | 0/1 [00:00<?, ?it/s]"
            ],
            "application/vnd.jupyter.widget-view+json": {
              "version_major": 2,
              "version_minor": 0,
              "model_id": "280a78400b134cc9b271216593f09c69"
            }
          },
          "metadata": {}
        }
      ]
    },
    {
      "cell_type": "code",
      "source": [
        "sage_95m_ch_name"
      ],
      "metadata": {
        "colab": {
          "base_uri": "https://localhost:8080/"
        },
        "id": "b6lKrBfOp1zP",
        "outputId": "32b45815-8e3f-46f6-c4ef-3d04339af798"
      },
      "execution_count": null,
      "outputs": [
        {
          "output_type": "execute_result",
          "data": {
            "text/plain": [
              "['Ч. 1. Зоология — наука о ж и вотны х. ']"
            ]
          },
          "metadata": {},
          "execution_count": 42
        }
      ]
    },
    {
      "cell_type": "markdown",
      "source": [
        "# **Ключевые слова (по всему тексту)**"
      ],
      "metadata": {
        "id": "GE1gaxCzvAzx"
      }
    },
    {
      "cell_type": "markdown",
      "source": [
        "## *Отдельная страница параграфа*"
      ],
      "metadata": {
        "id": "pyn1G5DiyDYi"
      }
    },
    {
      "cell_type": "markdown",
      "source": [
        "Если хотим извлечь ключевые слова с конкретной страницы (как правило, последняя страница параграфа), пользуемся данным кодом, вставляя нужную страницу."
      ],
      "metadata": {
        "id": "1GP4Io1SvpOB"
      }
    },
    {
      "cell_type": "code",
      "source": [
        "#извлечение слов, выделенных курсивом, на последней стр. параграфа №2\n",
        "key_word_ch_2 = []\n",
        "with pdfplumber.open('/content/drive/MyDrive/Internship_2024/Copy of 7_биология_Константинов_расп.pdf') as pdf_bio2:\n",
        "  key_page_ch_2 = pdf_bio2.pages[15]\n",
        "  key_wd_ch_2 = key_page_ch_2.filter(lambda obj2: obj2[\"object_type\"] == \"char\" and \"Italic\" in obj2[\"fontname\"]) #TimesNewRomanPS-BoldItalicMT\n",
        "  key_word_ch_2.append(key_wd_ch_2.extract_text())\n",
        "#print(*key_word_ch_2, end = '\\n')"
      ],
      "metadata": {
        "id": "DRFaksJBwBti"
      },
      "execution_count": null,
      "outputs": []
    },
    {
      "cell_type": "code",
      "source": [
        "key_word_ch_2"
      ],
      "metadata": {
        "colab": {
          "base_uri": "https://localhost:8080/"
        },
        "id": "dNDsd3vdw4oK",
        "outputId": "8d6b2113-b081-462f-a453-8933102a7879"
      },
      "execution_count": null,
      "outputs": [
        {
          "output_type": "execute_result",
          "data": {
            "text/plain": [
              "['Среды жизни (наземно-воздушная, водная, почва, организм),\\nместа обитания, экологические факторы (биотические, абио\\xad\\nтические, антропогенные), среда обитания хищничество,\\nпаразиты и хозяева, конкурентные отношения, биоценозы,\\nпищевые связи, цепи питания.']"
            ]
          },
          "metadata": {},
          "execution_count": 60
        }
      ]
    },
    {
      "cell_type": "code",
      "source": [
        "# Можно минимально предобработать"
      ],
      "metadata": {
        "id": "beYqACSJwm2x"
      },
      "execution_count": null,
      "outputs": []
    },
    {
      "cell_type": "code",
      "source": [
        "key_word_ch_2_prep = [wd2.replace('\\n', ' ') for wd2 in key_word_ch_2]\n",
        "key_word_ch_2_prep = [wd2.replace('\\xad', '') for wd2 in key_word_ch_2_prep]\n",
        "#key_word_2_last_cl = [wd2.replace('абио тические', 'абиотические') for wd2 in key_word_2_last_cl]"
      ],
      "metadata": {
        "id": "rrNNeuhSwr8j"
      },
      "execution_count": null,
      "outputs": []
    },
    {
      "cell_type": "code",
      "source": [
        "key_word_ch_2_prep"
      ],
      "metadata": {
        "colab": {
          "base_uri": "https://localhost:8080/"
        },
        "id": "mPwhPExOw1fq",
        "outputId": "f005cbf7-9abe-47c4-f18b-12c9504f76a6"
      },
      "execution_count": null,
      "outputs": [
        {
          "output_type": "execute_result",
          "data": {
            "text/plain": [
              "['Среды жизни (наземно-воздушная, водная, почва, организм), места обитания, экологические факторы (биотические, абио тические, антропогенные), среда обитания хищничество, паразиты и хозяева, конкурентные отношения, биоценозы, пищевые связи, цепи питания.']"
            ]
          },
          "metadata": {},
          "execution_count": 62
        }
      ]
    },
    {
      "cell_type": "code",
      "source": [
        "sage_5_large_ch_2 = sage_fredt5_large_corrector.correct(key_word_ch_2_prep[0]) #применим модель, чтобы объединила слово абиотические"
      ],
      "metadata": {
        "colab": {
          "base_uri": "https://localhost:8080/",
          "height": 49,
          "referenced_widgets": [
            "3b455e1b124a41d7818f45837ade2bbb",
            "97187758e7f942548fd8d130fca4dab0",
            "a97b533b6f5048e698170980a17b1043",
            "d84e6dd0ee12434ba875ceee9fb309a5",
            "f97c55920ca844c9bd54bbb8332399da",
            "1db26f36ac534bceac4b17bffeb66efa",
            "5dcfd9e6d83448f7b53591690888ed02",
            "c0b0abb89cd447aa9ed748f2d36e6f3c",
            "9226ffbffe9a48f689b8d81458b98f89",
            "a9afb9412f2c4ee6b004e1d994d5ec1f",
            "2d9387b5a9ff4c998fa5dae526609014"
          ]
        },
        "id": "vuTJRbfgw97C",
        "outputId": "4e94ebd4-19cd-49db-d723-236bbc180f65"
      },
      "execution_count": null,
      "outputs": [
        {
          "output_type": "display_data",
          "data": {
            "text/plain": [
              "  0%|          | 0/1 [00:00<?, ?it/s]"
            ],
            "application/vnd.jupyter.widget-view+json": {
              "version_major": 2,
              "version_minor": 0,
              "model_id": "3b455e1b124a41d7818f45837ade2bbb"
            }
          },
          "metadata": {}
        }
      ]
    },
    {
      "cell_type": "code",
      "source": [
        "sage_5_large_ch_2 # модель сработала плохо - вместо \"абиотеские\" получили на выходе \"био тические\""
      ],
      "metadata": {
        "colab": {
          "base_uri": "https://localhost:8080/"
        },
        "id": "tOm3uaCzxnE6",
        "outputId": "38fdf9f4-9612-4d4d-c587-54f61fee5108"
      },
      "execution_count": null,
      "outputs": [
        {
          "output_type": "execute_result",
          "data": {
            "text/plain": [
              "['Среды жизни (наземно-воздушная, водная почва, организм), места обитания, экологические факторы (биотические, био тические, антропогенные), среда обитания (хищничество, паразиты и хозяева), конкурентные отношения, биоценозы, пищевые связи, цепи питания.']"
            ]
          },
          "metadata": {},
          "execution_count": 66
        }
      ]
    },
    {
      "cell_type": "markdown",
      "source": [
        "## *Все страницы учебника*"
      ],
      "metadata": {
        "id": "UFmyrszxyKlK"
      }
    },
    {
      "cell_type": "markdown",
      "source": [
        "Вытащим все слова, выделенные курсивом"
      ],
      "metadata": {
        "id": "wi2J_a16vX5S"
      }
    },
    {
      "cell_type": "code",
      "source": [
        "dict_word = {}\n",
        "with pdfplumber.open('/content/drive/MyDrive/Internship_2024/Copy of 7_биология_Константинов_расп.pdf') as pdf:\n",
        "  for pdf_pg in range(number_of_pages):\n",
        "    key_page = pdf.pages[pdf_pg]\n",
        "    key_word = key_page.filter(lambda obj: obj[\"object_type\"] == \"char\" and \"Italic\" in obj[\"fontname\"]) #TimesNewRomanPS-BoldItalicMT\n",
        "    dict_word[key_page] = key_word.extract_text()"
      ],
      "metadata": {
        "id": "gaWh-6WzvESJ"
      },
      "execution_count": null,
      "outputs": []
    },
    {
      "cell_type": "code",
      "source": [
        "dict_word"
      ],
      "metadata": {
        "colab": {
          "base_uri": "https://localhost:8080/"
        },
        "collapsed": true,
        "id": "mCn-drubySdq",
        "outputId": "489c8392-8164-4f99-c3f0-a6b14c8deba2"
      },
      "execution_count": null,
      "outputs": [
        {
          "output_type": "execute_result",
          "data": {
            "text/plain": [
              "{<Page:1>: '',\n",
              " <Page:2>: 'издание, переработанное',\n",
              " <Page:3>: '',\n",
              " <Page:4>: 'полужирным курсивом.',\n",
              " <Page:5>: 'Глава 1\\nзоологией зоон\\nлогос\\nморфология\\nанатомия животных\\nФизиология животных\\nэкология животных,\\nПалеонтология\\nЭтология',\n",
              " <Page:6>: '',\n",
              " <Page:7>: '',\n",
              " <Page:8>: 'опылителей',\n",
              " <Page:9>: 'Зоология, морфология, анатомия, физиология, экология, пале\\xad\\nонтология, этология, опылители.',\n",
              " <Page:10>: 'среды жизни\\nНаземно-воздушную среду\\nЛ).\\nводной среде\\nБ).\\nпланктон), (нектон),\\nбентос)',\n",
              " <Page:11>: '',\n",
              " <Page:12>: 'Почва\\nВ).\\nОрганизм\\nГ).\\nместами обитания',\n",
              " <Page:13>: 'абиотических экологи\\xad\\nческих факторов,\\nбиотические экологические факторы.\\nантропогенными экологическими фак\\xad\\nторами.\\nсредой оби\\xad\\nтания.',\n",
              " <Page:14>: 'хищничеством.\\nШ\\nГ,\\nпаразитами\\nхозяевами.\\nпаразитизмом.\\nконкурентные отношения',\n",
              " <Page:15>: 'биоценозы.\\nпи\\xad\\nщевые связи:\\nцепи питания',\n",
              " <Page:16>: 'Среды жизни (наземно-воздушная, водная, почва, организм),\\nместа обитания, экологические факторы (биотические, абио\\xad\\nтические, антропогенные), среда обитания хищничество,\\nпаразиты и хозяева, конкурентные отношения, биоценозы,\\nпищевые связи, цепи питания.',\n",
              " <Page:17>: \"систематике.\\nВид\\nПопуляция\\nареала\\nроду Larus ларус]\\n(ridibundus \\\\ридибундус\\\\\\nозёрной чайки'.\\nLarus ridibundus.\\nсемейство отряды\\nкласс, типы, царство\\nЖивотные.\",\n",
              " <Page:18>: 'Систематика, вид, популяция, ареал, род, семейство, отряд,\\nкласс, тип, царство.',\n",
              " <Page:19>: 'косвенное влияние,\\nпрямое влияние',\n",
              " <Page:20>: 'Красная книга',\n",
              " <Page:21>: 'запо\\xad\\nведники.\\nВлияние человека на животных (косвенное и прямое), Красная\\nкнига, заповедники.',\n",
              " <Page:22>: '',\n",
              " <Page:23>: '',\n",
              " <Page:24>: 'п\\nИстория развития зоологии.',\n",
              " <Page:25>: 'Глава 2\\nцитология цитос логос\\nклеточной мембра\\xad\\nной мембрана',\n",
              " <Page:26>: 'цитоплазма цитос плазма\\nвакуоли.\\nобмен веществ.\\nядРо хромосомы хрома сома\\nорганоиды',\n",
              " <Page:27>: 'Отсутствие хлоропластов\\nклеточным центром.\\nКлеточная мембрана, цитоплазма, вакуоли, обмен веществ,\\nядро, хромосомы, органоиды, клеточный центр.',\n",
              " <Page:28>: 'ткани,\\nЭпителиальные ткани (эпителии)\\n1-3).\\nУ железы',\n",
              " <Page:29>: 'соединительных тканей\\n4, 5).\\nМышечные ткани\\n6,\\nнервной ткани',\n",
              " <Page:30>: '8),\\nJ Орган\\nсистемы органов',\n",
              " <Page:31>: '',\n",
              " <Page:32>: '1). тип сим\\xad\\nметрии\\nпарные,\\nдвусто\\xad\\nронней 3).\\nУ\\nрадиальная',\n",
              " <Page:33>: 'Ткани (эпителиальные (эпителии), соединительные, мышец-\\nные, нервная), железы, орган, системы органов, типы сим\\xad\\nметрии.',\n",
              " <Page:34>: 'Глава 3\\nколонии\\nПротисты',\n",
              " <Page:35>: \"Амёба протей обыкновенная амёба,\\n'.ожноножки.\\nядро вакуоли пищеваритель\\xad\\nная сократительная.\",\n",
              " <Page:36>: '',\n",
              " <Page:37>: 'бесполом размножении\\nцисту.\\nраздражимостью,',\n",
              " <Page:38>: '',\n",
              " <Page:39>: 'Колония, ложноножки, вакуоли (пищеварительная, сократи\\xad\\nтельная), бесполое размножение, циста.\\nорганоиды движения.\\nэвглена зелёная.\\n1 2\\n6',\n",
              " <Page:40>: 'тельце,\\nН азальн ое\\nклеточный рот глазок\\nавтотрофное питание\\nгетеротрофно',\n",
              " <Page:41>: 'вольвокс и гониум',\n",
              " <Page:42>: 'Органоиды движения, базальное тельце, клеточный рот, гла-\\nзок, автотрофное и гетеротрофное питание.',\n",
              " <Page:43>: 'реснички.\\nполовом\\nпроцессе.\\nинфузо\\xad\\nрия-туфелька',\n",
              " <Page:44>: 'порошицу.\\nА).',\n",
              " <Page:45>: 'половом процессе\\nконъюгацией.\\n1).\\n3),',\n",
              " <Page:46>: '',\n",
              " <Page:47>: 'Реснички, порошица, половой процесс, конъюгация.',\n",
              " <Page:48>: 'дизентерийная амёба\\nамёбную дизентерию.\\nтрипаносомы 1).\\nсонной болезни\\n™ 1\\n2',\n",
              " <Page:49>: '',\n",
              " <Page:50>: 'малярийный\\n^^Епдий,\\nАмёбная дизентерия, сонная болезнь, малярия.\\nПодведём итоги\\nВыполните задания',\n",
              " <Page:51>: 'Какие утверждения верны?',\n",
              " <Page:52>: 'Глава 4\\nЩ .\\nиндивидуальное развитие\\nлучевая симметрия 2',\n",
              " <Page:53>: 'кишечная\\nполость,\\nэктодерма, энтодерма эктос\\nэнтос дерма\\nгидра.\\n(мезоглея),',\n",
              " <Page:54>: 'нервная систе\\xad\\nма\\nрефлексом\\nстрекательные клетки',\n",
              " <Page:55>: 'почкованием',\n",
              " <Page:56>: 'раздельнополые.\\nгермафродитами.\\nзаро\\xad\\nдыш.\\nрегенерацией.',\n",
              " <Page:57>: 'Индивидуальное развитие, лучевая симметрия, кишечная по\\xad\\nлость, эктодерма, энтодерма, мезоглея, нервная система, реф\\xad\\nлекс, стрекательные клетки, почкование, гермафродиты, реге\\xad\\nнерация.',\n",
              " <Page:58>: 'Полип\\nмедуза\\nжизненного цикла\\nчередо\\xad\\nвание поколений',\n",
              " <Page:59>: 'личинка\\nгктиний',\n",
              " <Page:60>: '',\n",
              " <Page:61>: 'нервные узлы.\\nПолип, медуза, жизненный цикл, чередование поколений, ли\\xad\\nчинка, нервные узлы.',\n",
              " <Page:62>: 'Подведём итоги\\nВыполните задания\\nКакие утверждения верны?',\n",
              " <Page:63>: 'Глава 5\\nдвусторонняя симметрия,\\n1,\\nмезодерма.',\n",
              " <Page:64>: 'ВУ1^ J\\nбелая\\nпланария 1).\\nмышц (мускулатуры).\\nкожно-мускулъный мешок,',\n",
              " <Page:65>: 'опорНо\\nдвигательная система\\nпаренхимой.\\nпищева\\xad\\nрительную систему.\\nглотки\\nкишечника',\n",
              " <Page:66>: 'нервные стволы.\\nорганы чувств\\nвыделительную\\nсистему',\n",
              " <Page:67>: 'семенники, яичники. половой сиетпе\\nсемяпроводов.\\nяй\\xad\\nцеводов.\\nДвусторонняя симметрия; мезодерма; мышцы (мускулатура);\\nкожно-мускульный мешок; опорно-двигательная, пищеваритель\\xad\\nная, выделительная, половая системы; паренхима; глотка;\\nкишечник; нервные стволы; органы чувств; семенники; семя\\xad\\nпроводы; яичники; яйцеводы.',\n",
              " <Page:68>: 'печёночного сосальщика',\n",
              " <Page:69>: 'кутикулой,',\n",
              " <Page:70>: 'mjm\\nЩ\\nокончательным хозяином,\\nпромежуточным хозяином.\\nсвиной цепень\\nчлеников',\n",
              " <Page:71>: 'человек,\\nсвинья.',\n",
              " <Page:72>: 'окончательный хозяин,\\nКутикула, промежуточный хозяин,\\nчленики.',\n",
              " <Page:73>: 'первичная полость тела,\\nанальным отверстием\\nчеловеческая аскарида.',\n",
              " <Page:74>: '',\n",
              " <Page:75>: 'выделительным отверсти\\xad\\nем\\nматка половое отверстие,\\n-\\nг■',\n",
              " <Page:76>: 'Первичная полость тела: анальное, выделительное и половое\\nотверстия; матка.',\n",
              " <Page:77>: \"сегменты,\\nвторичную полость тела,\\nелом.\\nкровеносная система замк-\\n'тая\",\n",
              " <Page:78>: 'Л).\\nпара-\\nподии\\nБ).\\nхитина.',\n",
              " <Page:79>: 'Б).',\n",
              " <Page:80>: 'пищевод желу-\\n6\\nбрюшную нервную цепочку.\\nокологлоточным нервным кольцом\\nВ),',\n",
              " <Page:81>: 'Сегменты тела, вторичная полость тела (целом), замкнИ\\nкровеносная система, параподии, хитин, пищевод, желЛ—\\nбрюшная нервная цепочка, окологлоточное нервное кольцо\\n1),\\n2)',\n",
              " <Page:82>: 'поясок,\\nаналь\\xad\\nная',\n",
              " <Page:83>: 'дождевого червя\\nзоба',\n",
              " <Page:84>: '',\n",
              " <Page:85>: '',\n",
              " <Page:86>: 'Поясок, анальная лопасть, зоб.',\n",
              " <Page:87>: 'Подведём итоги\\nВыполните задания\\nКакие утверждения верны?',\n",
              " <Page:88>: 'раковина,',\n",
              " <Page:89>: \"перламутром.\\nНога\\nмантией.\\nмантийной по\\xad\\nлостью.\\nпечени.\\nжабры\\nсердце\\nоколосердечной сумкой\\nкровеносная система незамк\\xad\\nнутая'.\",\n",
              " <Page:90>: 'почками',\n",
              " <Page:91>: 'Раковина, перламутр, нога, мантия, мантийная полость, пе\\xad\\nчень, жабры, сердце, околосердечная сумка, незамкнутая кро\\xad\\nвеносная система, почки.\\nбольшой прудовик.\\nголый слизень.',\n",
              " <Page:92>: '',\n",
              " <Page:93>: 'тёрка\\nлёгким',\n",
              " <Page:94>: 'предсердия\\nжелудочка\\nаорта артерии,\\nкапилляры.\\nвены.\\nартериальной,\\nвенозной.',\n",
              " <Page:95>: 'Тёрка, лёгкое, предсердие, желудочек, аорта, артерии, капил\\xad\\nляры, вены, артериальная и венозная кровь.',\n",
              " <Page:96>: '',\n",
              " <Page:97>: 'сифоны.\\n1',\n",
              " <Page:98>: 'пе°сЯ жемчуг\\nфилътрато-\\nрам.',\n",
              " <Page:99>: '',\n",
              " <Page:100>: 'Лабораторная №',\n",
              " <Page:101>: 'Сифоны, жемчуг, филътраторы.',\n",
              " <Page:102>: 'Реактивным способом.',\n",
              " <Page:103>: 'череп,\\nчелюсти\\nчернильного\\nмешка.',\n",
              " <Page:104>: 'головной мозг\\nжелтком\\nсперматофоры\\nА В',\n",
              " <Page:105>: 'Реактивный способ движения, череп, челюсти, чернильный ме\\xad\\nшок, головной мозг, желток, сперматофоры.\\nПодведём итоги\\nВыполните задания',\n",
              " <Page:106>: 'Какие утверждения верны?',\n",
              " <Page:107>: 'Глава 7\\nнаружного скелета\\nконечности.\\nсмешанная полость тела\\\\',\n",
              " <Page:108>: 'головы груди брюшка\\nо головогруди брюшка\\nречной\\nрак.\\nпанцирем',\n",
              " <Page:109>: 'Глаза сложные\\nБ).\\nчелюстей.\\nногочелюстеи\\nходильных ног.\\nклешни.\\nА)',\n",
              " <Page:110>: 'гемолимфа.\\nзелёных желёз,',\n",
              " <Page:111>: '',\n",
              " <Page:112>: 'у\\nНаружный скелет, конечности, смешанная полость тела, голо-\\nва, грудь, брюшко, головогрудь, панцирь, сложные глаза, ного-\\nчелюсти, ходильные ноги, клешни, гемолимфа, зелёные железы.',\n",
              " <Page:113>: 'Трахеи\\nпаука-крестовика\\nпаутины\\nхелицер.',\n",
              " <Page:114>: 'ногощупальца\\nЧетыре\\nШМ\\nпаутинные боровинки',\n",
              " <Page:115>: 'мальпигиевыми сосудами.\\nсенокос\\xad\\nцы',\n",
              " <Page:116>: 'скорпионов.\\n3\\nклещи.\\n1).',\n",
              " <Page:117>: 'Че\\xad\\nсоточный зудень\\nчесотку. Иксо-\\nдовые клещи\\nэнцефалит\\nТрахеи, паутина, хелицеры, ногощупалъца, паутинные боро\\xad\\nдавки, мальпигиевы сосуды, чесотка, клещевой энцефалит.',\n",
              " <Page:118>: 'крыльев',\n",
              " <Page:119>: 'ротовые органы 1)\\nБ).',\n",
              " <Page:120>: 'дыхаль\\xad\\nцами,',\n",
              " <Page:121>: 'надглоточный нервный узел\\nподглоточным\\nокологлоточное нервное кольцо,\\nжировым телом.\\nяйцеклад\\nКрылья, ротовые органы, дыхальца, яйцеклад.',\n",
              " <Page:122>: 'развитие\\nс неполным превращением',\n",
              " <Page:123>: 'развитии с полным превращением',\n",
              " <Page:124>: 'гусеница\\nкукол\\xad\\nку',\n",
              " <Page:125>: '',\n",
              " <Page:126>: 'с неполным и с полным превращением, гусеница, ку-\\nколка.\\nобщественные насе\\xad\\nкомые\\nА)\\nрабочие особи\\nцарица.',\n",
              " <Page:127>: 'медоносная пчела.\\nБ),\\nматка,\\nтрутнями.\\nроение.\\nИнстинкт',\n",
              " <Page:128>: 'воск.\\nсоты\\nТутовый шелкопряд',\n",
              " <Page:129>: 'дыбка стенная\\nжужелиц.\\nреликтовый ор\\nизмепя^^^^т\\nшмель степной шмель. а полти, мнемозина,\\nмутровка зенобия.',\n",
              " <Page:130>: 'Общественные насекомые, рабочие особи, царица, матка,\\nтрутни, инстинкт, воск, соты.',\n",
              " <Page:131>: 'вредителями селъскохозяй\\nныл культур\\nслепни\\nдин',\n",
              " <Page:132>: 'физическим методам борьбы\\nхимическими методами\\nагро\\xad\\nтехнические методы.\\nбиологические.',\n",
              " <Page:133>: 'Вредители сельскохозяйственных культур; методы борьбы\\nс вредителями (физические, химические, агротехнические, био\\xad\\nлогические).\\nПодведём итоги\\nВыполните задания',\n",
              " <Page:134>: 'Какие утверждения верны?',\n",
              " <Page:135>: 'Итоговая проверка знаний по главам 1-7',\n",
              " <Page:136>: 'Глава8\\nхорда\\nнервной трубкой.',\n",
              " <Page:137>: '',\n",
              " <Page:138>: 'ланцетник.\\nспинной плавник\\nхвостовой плавник,',\n",
              " <Page:139>: 'жаберные отверстия',\n",
              " <Page:140>: 'око-\\nложаберную полость.',\n",
              " <Page:141>: 'Хорда, нервная трубка, плавники (спинной, хвостовой), жа\\xad\\nберные отверстия, околожаберная полость.\\nЕ\\nпозвоночник.\\nголовной спинной мозг.\\nчереп',\n",
              " <Page:142>: 'кожей,\\nчешуи.',\n",
              " <Page:143>: 'Б, В).\\nслизистых желёз,\\nорганы боковой линии\\nжаберных крышек',\n",
              " <Page:144>: 'ноздри,\\nвнутреннее ухо.\\nорган равновесия',\n",
              " <Page:145>: 'Позвоночник, головной и спинной мозг, череп, чешуи, органы бо\\xad\\nковой линии, жаберные крышки, ноздри, внутреннее ухо, орган\\nравновесия.\\nпозвонков',\n",
              " <Page:146>: 'е.рёбра\\nчереп.\\nжаберных дуг.\\nнепарных плавников\\nпарных плавников\\nпояс конечностей свободной конеч\\xad\\nности',\n",
              " <Page:147>: 'Плавательный пузырь',\n",
              " <Page:148>: 'лепестки Б).\\nВ).\\nА).',\n",
              " <Page:149>: 'Л). передний, про\\xad\\nмежуточный, средний мозг, мозжечок продолговатый мозг\\nБ).\\nмочеточниками мочевым пузырём.',\n",
              " <Page:150>: 'Позвонки; рёбра; жаберные дуги; пояса конечностей; свобод\\xad\\nная конечность; плавательный пузырь; жаберные лепестки;\\nпередний, промежуточный, средний, продолговатый мозг; моз\\xad\\nжечок; мочеточники; мочевой пузырь.',\n",
              " <Page:151>: 'яичники\\nикринки. семенники\\nнерестом.\\nмалёк.\\nживорождение.',\n",
              " <Page:152>: 'миграции\\nпро\\xad\\nходными\\nИкринки, нерест, малёк, живорождение, миграции, проходные\\nрыбы.',\n",
              " <Page:153>: 'хрящевым рыбам\\nакулы.\\nскаты.',\n",
              " <Page:154>: '',\n",
              " <Page:155>: 'манта,\\nКостные рыбы\\nлучепёрым рыбам костистые рыбы\\nосетрообразных',\n",
              " <Page:156>: 'Кистепёрые рыбы',\n",
              " <Page:157>: 'Хрящевые, костные, лучепёрые, костистые рыбы; осетро-\\nобразные; лопастепёрые, двоякодышащие, кистепёрые рыбы.\\nРыболовство',\n",
              " <Page:158>: 'Промысловых рыб\\n\"\\nсельдеобразные\\nтрескообразных',\n",
              " <Page:159>: 'Лососёвые рыбы\\nкарпообразных\\nпрудовых хозяйствах\\n1 2',\n",
              " <Page:160>: 'акклиматизация\\nРыболовство, промысловые рыбы, сельдеобразные, треско-\\nобразные, лососёвые, карпообразные рыбы, прудовые хозяйст\\xad\\nва, акклиматизация.',\n",
              " <Page:161>: 'Подведём итоги',\n",
              " <Page:162>: 'Практические',\n",
              " <Page:163>: 'среднее ухо.',\n",
              " <Page:164>: 'Зелёная лягушка\\nоцепенение.\\nплеча предплечья кисти,\\nбедра, голени стопы.',\n",
              " <Page:165>: '1\\n2 3\\n8\\n9 10\\nвеки\\nслёзные железы\\nбарабанные перепонки',\n",
              " <Page:166>: 'шейного\\nтуловищного\\nкрестцового\\nхвостового отде\\xad\\nлов\\nзапястье пясть фаланги пальцев.\\nпредплюсну, плюсну фаланги пальцев.\\nлопаток, ключиц\\nкоракоидов',\n",
              " <Page:167>: 'Среднее ухо; плечо, предплечье, кисть; бедро, голень, стопа;\\nвеки; слёзные железы; барабанные перепонки; отделы позво\\xad\\nночника (шейный, туловищный, крестцовый, хвостовой); за\\xad\\nпястье, пясть, фаланги пальцев; предплюсна, плюсна; лопатки,\\nключицы, коракоиды.\\nЕ',\n",
              " <Page:168>: 'двенадца\\xad\\nтиперстную кишку\\nтонкого кишечника\\nтолстый кишечник.\\nклоаку.\\n9',\n",
              " <Page:169>: 'круг кровообращения,\\nмалым (лёгочным),\\nбольшим\\nсме\\xad\\nшанная кровь\\nхолоднокровным животным.',\n",
              " <Page:170>: 'полушария.\\nДвенадцатиперстная кишка, тонкий и толстый кишечник,\\nклоака, круги кровообращения (малый (лёгочный), большой),\\nсмешанная кровь, холоднокровные животные, полушария пе\\xad\\nреднего мозга.',\n",
              " <Page:171>: \"Годовой жизненный цикл\\nоцепене\\xad\\nния'.\",\n",
              " <Page:172>: '',\n",
              " <Page:173>: 'головастик',\n",
              " <Page:174>: 'Годовой жизненный цикл, оцепенение, головастик.',\n",
              " <Page:175>: 'Хвостатые земноводные\\n3\\nисполинская сала\\xad\\nмандра',\n",
              " <Page:176>: 'бесхвостым земноводным\\nпис.\\n1.',\n",
              " <Page:177>: 'Хвостатые и бесхвостые земноводные.\\nПодведём итоги',\n",
              " <Page:178>: '1.',\n",
              " <Page:179>: 'Глава 10\\nрога.\\nроговой покров',\n",
              " <Page:180>: 'yi\\nшея.\\nкогти.\\nпресмыкается.\\nБ).',\n",
              " <Page:181>: 'А 1 2\\n3\\n2 3 4 6\\nгрудную клетку.\\nРоговой покров шея, когти, грудная клетка.',\n",
              " <Page:182>: 'прыткой ящерицы\\nядовитые железы.\\nядовитым зубам.',\n",
              " <Page:183>: 'гортань\\nгпрц.\\nхею\\nбронхи,\\n1 2 3\\n8\\n10— 11\\n12 13 —\\n14\\n1 2\\n3 — 8 —\\n9— 10 — 11 — 12 —',\n",
              " <Page:184>: '3\\n8\\nмочевой кислоты\\n1\\n3',\n",
              " <Page:185>: 'яйцевыми\\nоболочками.\\nжелток,',\n",
              " <Page:186>: 'Ядовитые железы, ядовитые зубы, гортань, трахея, бронхи,\\nмочевая кислота, яйцевые оболочки, желток.',\n",
              " <Page:187>: 'Чешуйчатые\\nЯщерицы',\n",
              " <Page:188>: 'HOy!j Meu.\\nБ).',\n",
              " <Page:189>: 'Крокодилы\\nЧерепахи',\n",
              " <Page:190>: 'Чешуйчатые, ящерицы, змеи, крокодилы, черепахи.',\n",
              " <Page:191>: '',\n",
              " <Page:192>: 'гоцефалов\\nкотилозавров,\\nДинозавры',\n",
              " <Page:193>: 'Звероподобные пресмыкающиеся\\nгаттерия,',\n",
              " <Page:194>: 'Стегоцефалы, котилозавры, динозавры, звероподобные пре\\xad\\nсмыкающиеся.\\nПодведём итоги\\nВыполните задания',\n",
              " <Page:195>: 'Какие утверждения верны?\\nПрактические задания',\n",
              " <Page:196>: 'Глава\\nперьями. крылья,\\nтеплокровные животные.',\n",
              " <Page:197>: 'клюв,\\nнадклювьем подклювьем.\\nкопчиковая железа.\\nконтурные\\n1\\n1 2\\nстержня\\nопахал\\nбородками\\nочином.\\nмаховые перья, рулевые перья,',\n",
              " <Page:198>: 'пуховые.\\nпухом\\nБ).',\n",
              " <Page:199>: 'Лабораторная работа № 8\\nПерья, крылья, теплокровные животные, клюв, надклювье, под-\\nклювъе, копчиковая железа; контурные перья (маховые, руле\\xad\\nвые), пуховые перья, пух, стержень, опахало, бородки, очин.',\n",
              " <Page:200>: 'спинную кость.\\nкиль,\\nсложный\\nкрестец\\nвилочку,\\nпряжку.',\n",
              " <Page:201>: 'цевку.',\n",
              " <Page:202>: 'большие грудные мышцы,\\nподключичные мышцы\\nЛабораторная работа № 9',\n",
              " <Page:203>: 'Спинная кость, киль, сложный крестец, вилочка, пряжка, цев\\xad\\nка, большие грудные мышцы, подключичные мышцы.\\nжелезис\\xad\\nтый желудок,',\n",
              " <Page:204>: 'мус-\\nкцлъный желудок\\n8 9\\nвоздушные мешки.',\n",
              " <Page:205>: 'нижняя\\nгортань, голосо\\xad\\nвые перепонки.',\n",
              " <Page:206>: '',\n",
              " <Page:207>: 'Железистый и мускульный желудки, воздушные мешки, ниж\\xad\\nняя гортань, голосовые перепонки.',\n",
              " <Page:208>: 'яйцевыми оболоч\\xad\\nками,',\n",
              " <Page:209>: 'выводковыми 1).',\n",
              " <Page:210>: 'птенцовыми\\nгнездовыми\\nЯйцевые оболочки, выводковые и птенцовые (гнездовые) птицы.',\n",
              " <Page:211>: 'токование',\n",
              " <Page:212>: '',\n",
              " <Page:213>: 'Насиживание\\nсмена оперения.',\n",
              " <Page:214>: 'Кочёвки\\nОседлые птицы\\nКочующие птицы',\n",
              " <Page:215>: 'Перелётные птицы',\n",
              " <Page:216>: 'Токование насиживание; кочёвки; оседлые кочующие и пере\\nлётные птицы.\\nЕ',\n",
              " <Page:217>: 'Страусовые\\nПингвины',\n",
              " <Page:218>: 'Типичные птицы',\n",
              " <Page:219>: 'экологическую группу\\nпо местам гнездования\\nхищных птиц\\nнасекомоядных птиц',\n",
              " <Page:220>: 'Растительноядные птицы\\nвсеядная птица',\n",
              " <Page:221>: 'птицы леса\\nПтицы открытых пространств\\nВодоплавающие птицы',\n",
              " <Page:222>: 'Птицы берегов и болот\\nМорские птицы\\nптичьи базары.',\n",
              " <Page:223>: \"Страусовые, пингвины, типичные птицы; экологические tpyjjk\\nпы; хищные, насекомоядные, растительноядные, всеядные птпШ '\\nцы; птицы леса, открытых пространств, водоплавающие, бе\\xad\\nрегов и болот, морские; птичьи базары.\",\n",
              " <Page:224>: '',\n",
              " <Page:225>: 'инкубатор',\n",
              " <Page:226>: '^82.\\n(2)\\nаРХеопгпериксом',\n",
              " <Page:227>: 'Охотничье-промысловые и домашние птицы, инкубатор, ар\\xad\\nхеоптерикс.',\n",
              " <Page:228>: 'Подведём итоги\\nВыполните задания\\nКакие утверждения верны:?_',\n",
              " <Page:229>: 'Практические задания\\n1.',\n",
              " <Page:230>: 'Глава 12',\n",
              " <Page:231>: 'лицевой черепной\\nгубами.',\n",
              " <Page:232>: 'ушные\\n„аковипы.\\nостевые волосы\\nпод\\xad\\nшёрсток\\nвибриссами\\nволосяная сумка\\nсальные железы.',\n",
              " <Page:233>: 'потовые железы\\nV пахучие железы.\\nмлечные железы.\\nУшные раковины; остевые волосы; подшёрсток; вибриссы;\\nволосяная сумка; сальные железы; потовые, пахучие железы;\\nмлечные железы.',\n",
              " <Page:234>: '—',\n",
              " <Page:235>: 'диафрагмой.',\n",
              " <Page:236>: 'губами,\\nрезцы\\nклыки, предкоренные и ко\\xad\\nренные\\nпреддверие рта\\nУ\\nжелудок\\nслоэкный Б).',\n",
              " <Page:237>: 'бронхиолы.\\nлёгочными пузырьками, альвеолами.',\n",
              " <Page:238>: '',\n",
              " <Page:239>: 'ко\\xad\\nрой.\\nмочеиспускательный канал\\nДиафрагма; губы; резцы, клыки, предкоренные, коренные зубы;\\nпреддверие рта; сложный желудок; бронхиолы; лёгочные пу\\xad\\nзырьки (альвеолы); кора полушарий переднего мозга; мочеис\\xad\\nпускательный канал.',\n",
              " <Page:240>: 'матке.\\nА) внутриутробное\\nРазвитие\\nдетское место, плацента.',\n",
              " <Page:241>: 'Б).',\n",
              " <Page:242>: '',\n",
              " <Page:243>: 'спяч~\\nку.\\nМатка, внутриутробное развитие, детское место (плацента),\\nспячка.',\n",
              " <Page:244>: 'зверозубыми\\nрептилиями',\n",
              " <Page:245>: 'пер\\xad\\nвозвери (однопроходные) настоящие (живородящие) звери.\\nнизшие (сумчатые)\\nзвери высшие (плацентарные) звери.\\nяй\\xad\\nцекладущие млекопитающие.',\n",
              " <Page:246>: '',\n",
              " <Page:247>: 'Зверозубые рептилии, первозвери (однопроходные), настоя\\xad\\nщие (живородящие) звери, низшие (сумчатые) звери, высшие\\n(плацентарные) звери, яйцекладущие млекопитающие.',\n",
              " <Page:248>: '',\n",
              " <Page:249>: '4',\n",
              " <Page:250>: 'хищные зубы.',\n",
              " <Page:251>: '',\n",
              " <Page:252>: 'Насекомоядные, рукокрылые (летучие мыши), грызуны, зайце\\xad\\nобразные, хищные.',\n",
              " <Page:253>: 'ласты.',\n",
              " <Page:254>: 'Зубатые киты\\nУсатые киты\\nкитовый ус',\n",
              " <Page:255>: 'копыта\\nжвачных парнокопытных\\nБ,\\nжвачка.',\n",
              " <Page:256>: 'нежвачным парнокопытным',\n",
              " <Page:257>: '',\n",
              " <Page:258>: 'Ластоногие, ласты, китообразные, зубатые и усатые киты,\\nкитовый ус, парнокопытные, копыта, жвачные парнокопыт\\xad\\nные, жвачка, нежвачные парнокопытные, непарнокопытные,\\nхоботные.\\nПриматы',\n",
              " <Page:259>: 'прима\\nногти\\nчеловекообразных обезьян\\nлицо\\nчеловек разумный.\\nПриматы, ногти, лицо.',\n",
              " <Page:260>: 'Типично наземные млекопитающие',\n",
              " <Page:261>: 'Прыгающие млекопитающие\\nНаземно-древесные млекопитающие\\nПочвенные млекопитающие',\n",
              " <Page:262>: 'Летающие млекопитающие\\nВодные млекопитающие\\nОколоводные млекопитающие\\nТипично наземные, прыгающие, наземно-древесные, почвенные,\\nлетающие, водные, околоводные млекопитающие.',\n",
              " <Page:263>: '',\n",
              " <Page:264>: 'животноводством.\\nкрупный рогатый скот',\n",
              " <Page:265>: 'Мелкий рогатый скот\\nСвиноводство',\n",
              " <Page:266>: 'коневодство\\nОленеводство\\nКролиководство',\n",
              " <Page:267>: 'клеточное зверовод\\xad\\nство.\\nохотничье-промысловые звери.',\n",
              " <Page:268>: '',\n",
              " <Page:269>: 'Животноводство, крупный и мелкий рогатый скот, свиновод\\xad\\nство, коневодство, оленеводство, кролиководство, клеточное\\nзвероводство, охотничье-промысловые звери.\\nПодведём итоги\\nВыполните задания',\n",
              " <Page:270>: 'Какие утверждения верны?\\nПрактические задания\\n1.',\n",
              " <Page:271>: '',\n",
              " <Page:272>: '',\n",
              " <Page:273>: 'палеозоя\\nмезозоя\\nкайнозоя\\nпалеонтологические доказательства эволюции\\nнаслед\\xad\\nственностью.\\nизменчивостью',\n",
              " <Page:274>: 'наследственной.\\nненаследственная изменчивость,\\nискусст\\xad\\nвенным отбором.\\nестественным отбором.',\n",
              " <Page:275>: 'Палеозой, мезозой, кайнозой, палеонтологические доказательст\\xad\\nва эволюции, наследственность, наследственная и ненаследст\\xad\\nвенная изменчивость, искусственный и естественный отбор.',\n",
              " <Page:276>: 'дегенерация.',\n",
              " <Page:277>: '',\n",
              " <Page:278>: '',\n",
              " <Page:279>: 'клеточный уровень организации жизни.\\nорганизменным уровнем организации жизни.\\nпопуляционно-видовой\\nуровень организации жизни.\\nпродуценты —\\nконсументы\\nредуценты',\n",
              " <Page:280>: 'общим круговоротом веществ.',\n",
              " <Page:281>: 'экосистемой.\\nбиогеоценоз.\\nбиогеоценотическом уровне организации\\nбиосферу.\\nбиосферным',\n",
              " <Page:282>: 'Дегенерация, уровни организации жизни (клеточный, организ-\\nменный, популяционно-видовой, биогеоценотический, биосфер\\xad\\nный), продуценты, консументы, редуценты, экосистема, био\\xad\\nгеоценоз, биосфера.',\n",
              " <Page:283>: 'Итоговая проверка знаний\\n1.',\n",
              " <Page:284>: 'Правильные ответы на вопросы рубрики\\n«Какие утверждения верны?»\\nПримерные темы экскурсий',\n",
              " <Page:285>: 'Глава 1.\\nГлава 2.\\nГлава 3.\\nГлава 4.\\nГлава 5.',\n",
              " <Page:286>: 'Глава 6.\\nГлава 7.\\nГлава 8.\\nГлава 9.\\nГлава 10.',\n",
              " <Page:287>: 'Глава 11.\\nГлава 12.\\nГлава 13.',\n",
              " <Page:288>: '',\n",
              " <Page:289>: ''}"
            ]
          },
          "metadata": {},
          "execution_count": 67
        }
      ]
    },
    {
      "cell_type": "code",
      "source": [
        "# Минимально подчистим\n",
        "dict_word_prep = {key:dict_word[key].replace('\\xad\\n', '') for key in dict_word}\n",
        "dict_word_prep = {key:dict_word_prep[key].replace('\\n', ' ') for key in dict_word_prep}"
      ],
      "metadata": {
        "id": "TpNyBGcH5rzT"
      },
      "execution_count": null,
      "outputs": []
    },
    {
      "cell_type": "code",
      "source": [
        "dict_word_prep"
      ],
      "metadata": {
        "colab": {
          "base_uri": "https://localhost:8080/"
        },
        "id": "sccxwi_p6PqM",
        "outputId": "21bcb5dc-7258-4c3e-9e56-621fb1ef3b2f"
      },
      "execution_count": null,
      "outputs": [
        {
          "output_type": "execute_result",
          "data": {
            "text/plain": [
              "{<Page:1>: '',\n",
              " <Page:2>: 'издание, переработанное',\n",
              " <Page:3>: '',\n",
              " <Page:4>: 'полужирным курсивом.',\n",
              " <Page:5>: 'Глава 1 зоологией зоон логос морфология анатомия животных Физиология животных экология животных, Палеонтология Этология',\n",
              " <Page:6>: 'А Б —',\n",
              " <Page:7>: '',\n",
              " <Page:8>: 'опылителей',\n",
              " <Page:9>: 'Зоология, морфология, анатомия, физиология, экология, палеонтология, этология, опылители.',\n",
              " <Page:10>: 'среды жизни Наземно-воздушную среду Л). водной среде Б). планктон), (нектон), бентос)',\n",
              " <Page:11>: 'А Б В',\n",
              " <Page:12>: 'Почва В). Организм Г). местами обитания',\n",
              " <Page:13>: 'абиотических экологических факторов, биотические экологические факторы. антропогенными экологическими факторами. средой обитания.',\n",
              " <Page:14>: 'хищничеством. Ш 1 3 Г, паразитами хозяевами. паразитизмом. конкурентные отношения',\n",
              " <Page:15>: '1 2 3 биоценозы. пищевые связи: цепи питания',\n",
              " <Page:16>: 'Среды жизни (наземно-воздушная, водная, почва, организм), места обитания, экологические факторы (биотические, абиотические, антропогенные), среда обитания хищничество, паразиты и хозяева, конкурентные отношения, биоценозы, пищевые связи, цепи питания.',\n",
              " <Page:17>: \"систематике. Вид Популяция ареала роду Larus ларус] (ridibundus \\\\ридибундус\\\\ озёрной чайки'. Larus ridibundus. семейство отряды класс, типы, царство Животные.\",\n",
              " <Page:18>: 'серая ворона ворон галка грач Систематика, вид, популяция, ареал, род, семейство, отряд, класс, тип, царство.',\n",
              " <Page:19>: 'косвенное влияние, прямое влияние',\n",
              " <Page:20>: 'Красная книга',\n",
              " <Page:21>: 'заповедники. Влияние человека на животных (косвенное и прямое), Красная книга, заповедники.',\n",
              " <Page:22>: '',\n",
              " <Page:23>: 'щ',\n",
              " <Page:24>: 'п История развития зоологии.',\n",
              " <Page:25>: 'Глава 2 цитология цитос логос клеточной мембраной мембрана',\n",
              " <Page:26>: 'А 1 2 3 4 6 8 9 10— 11 12 — цитоплазма цитос плазма вакуоли. обмен веществ. ядРо хромосомы хрома сома органоиды',\n",
              " <Page:27>: 'Митохондрии мах аппарате Гольджи эндоплазматической сети Лизосомы Отсутствие хлоропластов клеточным центром. Клеточная мембрана, цитоплазма, вакуоли, обмен веществ, ядро, хромосомы, органоиды, клеточный центр.',\n",
              " <Page:28>: '2 ткани, Эпителиальные ткани (эпителии) 1-3). У железы',\n",
              " <Page:29>: '1, 2, 3 6, 7 8 соединительных тканей 4, 5). Мышечные ткани 6, нервной ткани',\n",
              " <Page:30>: '8), J Орган системы органов',\n",
              " <Page:31>: '',\n",
              " <Page:32>: '1). тип симметрии парные, двусторонней 3). У радиальная 1) (2) (3)',\n",
              " <Page:33>: 'Ткани (эпителиальные (эпителии), соединительные, мышец- ные, нервная), железы, орган, системы органов, типы симметрии.',\n",
              " <Page:34>: 'Глава 3 колонии Протисты',\n",
              " <Page:35>: \"Амёба протей обыкновенная амёба, '.ожноножки. ядро вакуоли пищеварительная сократительная.\",\n",
              " <Page:36>: '1 2 3 4 6',\n",
              " <Page:37>: 'бесполом размножении цисту. раздражимостью,',\n",
              " <Page:38>: 'Раковинные амёбы радиолярии фораминиферы 1 2 3',\n",
              " <Page:39>: 'Колония, ложноножки, вакуоли (пищеварительная, сократительная), бесполое размножение, циста. 1. органоиды движения. эвглена зелёная. 1 2 — 3 4 6 8',\n",
              " <Page:40>: 'тельце, Н азальн ое клеточный рот глазок автотрофное питание гетеротрофно',\n",
              " <Page:41>: 'вольвокс и гониум 1 2',\n",
              " <Page:42>: '1 2 3 4 Органоиды движения, базальное тельце, клеточный рот, гла- зок, автотрофное и гетеротрофное питание.',\n",
              " <Page:43>: 'реснички. половом процессе. 2 инфузория-туфелька 1 2 — 3 44 6 8 9 10',\n",
              " <Page:44>: 'я ш порошицу. А).',\n",
              " <Page:45>: 'половом процессе конъюгацией. 1). 3), 1 2 3 4',\n",
              " <Page:46>: '',\n",
              " <Page:47>: 'Реснички, порошица, половой процесс, конъюгация.',\n",
              " <Page:48>: 'дизентерийная амёба амёбную дизентерию. трипаносомы 1). сонной болезни г ™ 1 2',\n",
              " <Page:49>: 'лейшмании. m jjf лямблии 2). 1 3 4',\n",
              " <Page:50>: 'малярийный ^^Епдий, малярию я ш q Амёбная дизентерия, сонная болезнь, малярия. Подведём итоги Выполните задания',\n",
              " <Page:51>: 'Какие утверждения верны?',\n",
              " <Page:52>: 'Глава 4 Щ . индивидуальное развитие лучевая симметрия 2',\n",
              " <Page:53>: 'кишечная полость, эктодерма, энтодерма эктос энтос дерма гидра. (мезоглея), 1 2 3 4 6 8',\n",
              " <Page:54>: 'нервная система У 2 3 — 6 рефлексом стрекательные клетки 2 3',\n",
              " <Page:55>: 'почкованием',\n",
              " <Page:56>: 'раздельнополые. гермафродитами. зародыш. регенерацией.',\n",
              " <Page:57>: 'Индивидуальное развитие, лучевая симметрия, кишечная полость, эктодерма, энтодерма, мезоглея, нервная система, рефлекс, стрекательные клетки, почкование, гермафродиты, регенерация.',\n",
              " <Page:58>: 'Полип медуза жизненного цикла чередование поколений 1 2 — 3 4',\n",
              " <Page:59>: '1 2 3 4 — личинка гктиний',\n",
              " <Page:60>: '',\n",
              " <Page:61>: '1 2 3 4 нервные узлы. Полип, медуза, жизненный цикл, чередование поколений, личинка, нервные узлы. ч',\n",
              " <Page:62>: 'Подведём итоги Выполните задания Какие утверждения верны?',\n",
              " <Page:63>: 'Глава 5 двусторонняя симметрия, 1, мезодерма.',\n",
              " <Page:64>: 'ВУ1^ J белая планария 1). 1 2, 3 4 мышц (мускулатуры). кожно-мускулъный мешок,',\n",
              " <Page:65>: 'опорНо двигательная система 1 паренхимой. 2 3 пищеварительную систему. глотки кишечника 1 3 6 7 8',\n",
              " <Page:66>: 'нервные стволы. органы чувств выделительную систему 2 3',\n",
              " <Page:67>: 'семенники, яичники. половой сиетпе семяпроводов. яйцеводов. Двусторонняя симметрия; мезодерма; мышцы (мускулатура); кожно-мускульный мешок; опорно-двигательная, пищеварительная, выделительная, половая системы; паренхима; глотка; кишечник; нервные стволы; органы чувств; семенники; семяпроводы; яичники; яйцеводы.',\n",
              " <Page:68>: 'печёночного сосальщика 1 2 3',\n",
              " <Page:69>: 'кутикулой, 1 2 3 4 1 2 3 4',\n",
              " <Page:70>: 'mjm Щ окончательным хозяином, промежуточным хозяином. свиной цепень члеников',\n",
              " <Page:71>: '1 2 человек, свинья.',\n",
              " <Page:72>: '1 2 3 окончательный хозяин, Кутикула, промежуточный хозяин, членики.',\n",
              " <Page:73>: 'первичная полость тела, анальным отверстием человеческая аскарида. (2, 3) 2 3',\n",
              " <Page:74>: 'А) 1 2 3 4 6',\n",
              " <Page:75>: 'выделительным отверстием матка половое отверстие, остри- г■',\n",
              " <Page:76>: 'Первичная полость тела: анальное, выделительное и половое отверстия; матка.',\n",
              " <Page:77>: \"сегменты, вторичную полость тела, елом. кровеносная система замк- 'тая\",\n",
              " <Page:78>: '1 2 — 3 4 Л). пара- подии Б). хитина.',\n",
              " <Page:79>: \"А В В 1 'Я 2 3 4 -Щ А). Б). (А) (Б) 1 2 3 4 6 — У 8 — 9 — 10 —\",\n",
              " <Page:80>: 'пищевод желу- 6 брюшную нервную цепочку. окологлоточным нервным кольцом В),',\n",
              " <Page:81>: 'Сегменты тела, вторичная полость тела (целом), замкнИ кровеносная система, параподии, хитин, пищевод, желЛ— брюшная нервная цепочка, окологлоточное нервное кольцо 1), 2)',\n",
              " <Page:82>: '1 2 — поясок, анальная лопасть. Лабораторная работа № 2',\n",
              " <Page:83>: '( дождевого червя зоба',\n",
              " <Page:84>: \"1 2 - 3 8 10— 1 2-3 ц — 12 4 Лабораторная работа № 3'\",\n",
              " <Page:85>: '1 2 3 4 6',\n",
              " <Page:86>: '2 1 3 — Медицинскую пиявку Поясок, анальная лопасть, зоб.',\n",
              " <Page:87>: 'Подведём итоги Выполните задания Какие утверждения верны?',\n",
              " <Page:88>: 'W Ф* Глава 6 9 раковина, А Б В 1 2 3 4',\n",
              " <Page:89>: \"перламутром. Нога мантией. мантийной полостью. печени. жабры сердце околосердечной сумкой кровеносная система незамкнутая'.\",\n",
              " <Page:90>: 'почками',\n",
              " <Page:91>: \"Раковина, перламутр, нога, мантия, мантийная полость, печень, жабры, сердце, околосердечная сумка, незамкнутая кровеносная система, почки. 1. ш'лГ большой прудовик. голый слизень.\",\n",
              " <Page:92>: '2 3 4, 5 — 2 3 4',\n",
              " <Page:93>: 'тёрка А 1 2 3 4 лёгким 8 10 11 Б',\n",
              " <Page:94>: '2 3 4 предсердия желудочка аорта артерии, капилляры. вены. артериальной, венозной.',\n",
              " <Page:95>: 'Тёрка, лёгкое, предсердие, желудочек, аорта, артерии, капилляры, вены, артериальная и венозная кровь.',\n",
              " <Page:96>: '1 2 3 4',\n",
              " <Page:97>: 'сифоны. 1 - 3',\n",
              " <Page:98>: 'пе°сЯ жемчуг (А) 1 2 3 4 6 8 9 10 11 12 13 — 14 филътрато- рам.',\n",
              " <Page:99>: '2 1 2',\n",
              " <Page:100>: 'Лабораторная работа №',\n",
              " <Page:101>: 'Сифоны, жемчуг, филътраторы. 1.',\n",
              " <Page:102>: '1 — 2 3 Реактивным способом.',\n",
              " <Page:103>: '2 — 3 6 8 9 12 череп, челюсти чернильного мешка.',\n",
              " <Page:104>: 'головной мозг г 1 желтком сперматофоры А В',\n",
              " <Page:105>: 'Реактивный способ движения, череп, челюсти, чернильный мешок, головной мозг, желток, сперматофоры. Подведём итоги Выполните задания',\n",
              " <Page:106>: 'Какие утверждения верны?',\n",
              " <Page:107>: 'Глава 7 наружного скелета конечности. смешанная полость тела\\\\',\n",
              " <Page:108>: 'головы груди брюшка о головогруди брюшка 1 2 3 4 — 6 речной рак. панцирем',\n",
              " <Page:109>: '4 5 6 Глаза сложные Б). 1 челюстей. 1 2 3 8 ногочелюстеи ходильных ног. клешни. А)',\n",
              " <Page:110>: 'А 3 4 гемолимфа. зелёных желёз,',\n",
              " <Page:111>: '1 — 2 Щ',\n",
              " <Page:112>: 'у Наружный скелет, конечности, смешанная полость тела, голо- ва, грудь, брюшко, головогрудь, панцирь, сложные глаза, ного- челюсти, ходильные ноги, клешни, гемолимфа, зелёные железы.',\n",
              " <Page:113>: 'Трахеи паука-крестовика паутины (А) хелицер.',\n",
              " <Page:114>: 'ногощупальца Четыре ШМ паутинные боровинки 1 2 3 I 2 3 8 9 10 II',\n",
              " <Page:115>: 'мальпигиевыми сосудами. (А) сенокосцы',\n",
              " <Page:116>: '1 2 3 4 скорпионов. 3 клещи. 1). 1 2 4',\n",
              " <Page:117>: 'Чесоточный зудень чесотку. Иксо- довые клещи энцефалит Трахеи, паутина, хелицеры, ногощупалъца, паутинные бородавки, мальпигиевы сосуды, чесотка, клещевой энцефалит.',\n",
              " <Page:118>: 'крыльев 2 А 1 1 2 4',\n",
              " <Page:119>: 'ротовые органы А; 1) Б). 1 2 3 Лабораторная работа № 5',\n",
              " <Page:120>: 'дыхальцами, 2 3 4',\n",
              " <Page:121>: 'надглоточный нервный узел подглоточным узлом окологлоточное нервное кольцо, жировым телом. яйцеклад Крылья, ротовые органы, дыхальца, яйцеклад.',\n",
              " <Page:122>: 'развитие с неполным превращением 1 3, 4',\n",
              " <Page:123>: '2 3 4 6 — Прямокрылые. Полужесткокрылые. развитии с полным превращением',\n",
              " <Page:124>: \"1 2 3 гусеница куколку Чешуекрылые, ш 'ж Жесткокрылые Двукрылые\",\n",
              " <Page:125>: '11 А — 1 2 3 — Б 4 6 В 8 9 10 Г — 11 12 13 Перепончатокрылые:',\n",
              " <Page:126>: 'Развит ие с неполным и с полным превращением, гусеница, ку- колка. ^ л общественные насекомые А) рабочие особи царица.',\n",
              " <Page:127>: 'А А 1 2 3 Б медоносная пчела. Б), матка, трутнями. роение. Инстинкт',\n",
              " <Page:128>: 'воск. соты Тутовый шелкопряд WJ№',\n",
              " <Page:129>: '1 3 — 4 дыбка стенная жужелиц. реликтовый ор измепя^^^^т шмель степной шмель. а полти, мнемозина, мутровка зенобия. ш',\n",
              " <Page:130>: '1 2 3 Общественные насекомые, рабочие особи, царица, матка, трутни, инстинкт, воск, соты.',\n",
              " <Page:131>: 'вредителями селъскохозяй ныл культур слепни дин',\n",
              " <Page:132>: 'физическим методам борьбы химическими методами агротехнические методы. биологические.',\n",
              " <Page:133>: 'Вредители сельскохозяйственных культур; методы борьбы с вредителями (физические, химические, агротехнические, биологические). Подведём итоги Выполните задания',\n",
              " <Page:134>: 'Какие утверждения верны?',\n",
              " <Page:135>: 'Итоговая проверка знаний по главам 1-7',\n",
              " <Page:136>: 'Глава8 хорда нервной трубкой. 1 2 3 4',\n",
              " <Page:137>: '1 2 3, 4 6',\n",
              " <Page:138>: 'ланцетник. спинной плавник хвостовой плавник,',\n",
              " <Page:139>: '1 2 3 4 6 8 9 жаберные отверстия 2 3 4 I 2 3 — 4 6',\n",
              " <Page:140>: '1 2 3 4 1 2 3 око- ложаберную полость.',\n",
              " <Page:141>: 'Хорда, нервная трубка, плавники (спинной, хвостовой), жаберные отверстия, околожаберная полость. Е 1. позвоночник. головной спинной мозг. череп',\n",
              " <Page:142>: '1 2 3 кожей, чешуи.',\n",
              " <Page:143>: 'А 1 2 3 4 6 8 10 11 Б В Б, В). слизистых желёз, органы боковой линии жаберных крышек',\n",
              " <Page:144>: 'ноздри, внутреннее ухо. орган равновесия Лабораторная работа № б',\n",
              " <Page:145>: 'Позвоночник, головной и спинной мозг, череп, чешуи, органы боковой линии, жаберные крышки, ноздри, внутреннее ухо, орган равновесия. z позвонков',\n",
              " <Page:146>: 'А 1 — 2 — 3 — 4 — 6 8 9 10 В — 1 — 2 — 3 е.рёбра череп. жаберных дуг. непарных плавников парных плавников пояс конечностей свободной конечности',\n",
              " <Page:147>: 'Плавательный пузырь 1 2 — 3 6 8— 9 — 10— 11 — 12 — 13 — 14 15 — 16 17— 18 19—',\n",
              " <Page:148>: 'ж аберны е лепестки Б). В). А). А 1 2 3 4 8 9 Б — 1 2 В',\n",
              " <Page:149>: 'Л). передний, промежуточный, средний мозг, мозжечок продолговатый мозг Б). А 1 — 2 3 4 — Б 2 3 мочеточниками мочевым пузырём.',\n",
              " <Page:150>: 'Лабор(ипоРная работа №7* Позвонки; рёбра; жаберные дуги; пояса конечностей; свободная конечность; плавательный пузырь; жаберные лепестки; передний, промежуточный, средний, продолговатый мозг; мозжечок; мочеточники; мочевой пузырь.',\n",
              " <Page:151>: 'яичники икринки. семенники нерестом. малёк. живорождение.',\n",
              " <Page:152>: 'миграции проходными Икринки, нерест, малёк, живорождение, миграции, проходные рыбы.',\n",
              " <Page:153>: '1. хрящевым рыбам акулы. скаты.',\n",
              " <Page:154>: 'А - 1 — 2 - 3 4 — Б — 6 8',\n",
              " <Page:155>: 'манта, Костные рыбы лучепёрым рыбам костистые рыбы осетрообразных 2 3',\n",
              " <Page:156>: 'лопастепёрым рыбам Двоякодышащие Кистепёрые рыбы',\n",
              " <Page:157>: 'Хрящевые, костные, лучепёрые, костистые рыбы; осетро- образные; лопастепёрые, двоякодышащие, кистепёрые рыбы. Рыболовство',\n",
              " <Page:158>: 'Промысловых рыб \" 1 2 сельдеобразные трескообразных',\n",
              " <Page:159>: 'Лососёвые рыбы карпообразных прудовых хозяйствах А 1 2 3 6 Б 1) (3);',\n",
              " <Page:160>: 'акклиматизация 1 2 3 Рыболовство, промысловые рыбы, сельдеобразные, треско- образные, лососёвые, карпообразные рыбы, прудовые хозяйства, акклиматизация.',\n",
              " <Page:161>: 'Подведём итоги Выполните задания Какие утверждения верны?',\n",
              " <Page:162>: 'Практические задания',\n",
              " <Page:163>: 'среднее ухо. 1 — 2 — 3 4',\n",
              " <Page:164>: 'Зелёная лягушка оцепенение. плеча предплечья кисти, бедра, голени стопы.',\n",
              " <Page:165>: '1 2 3 4 6 8 9 10 веки слёзные железы барабанные перепонки',\n",
              " <Page:166>: 'шейного туловищного 1 крестцового 2 3 хвостового отде\\xad 4 лов 8 9 10 11 12 13 14 — запястье пясть фаланги пальцев. предплюсну, плюсну фаланги пальцев. лопаток, ключиц коракоидов',\n",
              " <Page:167>: 'Среднее ухо; плечо, предплечье, кисть; бедро, голень, стопа; веки; слёзные железы; барабанные перепонки; отделы позвоночника (шейный, туловищный, крестцовый, хвостовой); запястье, пясть, фаланги пальцев; предплюсна, плюсна; лопатки, ключицы, коракоиды. Е 1.',\n",
              " <Page:168>: 'двенадцатиперстную кишку тонкого кишечника 1 — 2 3 4 6 8 9 10 толстый кишечник. клоаку. 2 3 4 6 8 9 10 11 — 12 13 14',\n",
              " <Page:169>: 'круг кровообращения, малым (лёгочным), большим сме1 2 шанная кровь 3 4 6 холоднокровным животным.',\n",
              " <Page:170>: 'А 1 2 — 3 — В 1 2 — 3 4 — полушария. Двенадцатиперстная кишка, тонкий и толстый кишечник, клоака, круги кровообращения (малый (лёгочный), большой), смешанная кровь, холоднокровные животные, полушария переднего мозга.',\n",
              " <Page:171>: \"Годовой жизненный цикл оцепенения'.\",\n",
              " <Page:172>: '1 2 — 3, 6 8',\n",
              " <Page:173>: 'головастик рипидистиями. латимерии',\n",
              " <Page:174>: 'Годовой жизненный цикл, оцепенение, головастик.',\n",
              " <Page:175>: 'Хвостатые земноводные 3 исполинская саламандра 1 2 3 4',\n",
              " <Page:176>: \"бесхвостым земноводным 1пис. 1. J'\",\n",
              " <Page:177>: 'Хвостатые и бесхвостые земноводные. Подведём итоги Выполните задания Какие утверждения верны?',\n",
              " <Page:178>: 'Практические задания 1.',\n",
              " <Page:179>: 'Глава 10 рога. роговой покров',\n",
              " <Page:180>: 'yi шея. когти. пресмыкается. 1 2 3 Б).',\n",
              " <Page:181>: 'А 1 2 3 4 Б 1 2 3 — 4 — 6 8 9 10 грудную клетку. Роговой покров шея, когти, грудная клетка.',\n",
              " <Page:182>: 'Ш Wi прыткой ящерицы ядовитые железы. ядовитым зубам.',\n",
              " <Page:183>: 'гортань гпрц. хею бронхи, 1 2 3 8 10— 11 12 13 — 14 1 2 3 — 8 — 9— 10 — 11 — 12 —',\n",
              " <Page:184>: '1 3 8 мочевой кислоты 1 3',\n",
              " <Page:185>: 'яйцевыми оболочками. желток, 1 2 3 4',\n",
              " <Page:186>: 'Ядовитые железы, ядовитые зубы, гортань, трахея, бронхи, мочевая кислота, яйцевые оболочки, желток.',\n",
              " <Page:187>: 'Чешуйчатые Ящерицы 1 2 — 3 6',\n",
              " <Page:188>: '3 HOy!j Meu. Б). А 1 2 — Б 1 2 3',\n",
              " <Page:189>: 'Крокодилы 1 2 Черепахи',\n",
              " <Page:190>: '1 2 3 4 Чешуйчатые, ящерицы, змеи, крокодилы, черепахи.',\n",
              " <Page:191>: '',\n",
              " <Page:192>: 'гоцефалов котилозавров, 1 2 3 Динозавры',\n",
              " <Page:193>: 'Звероподобные пресмыкающиеся гаттерия,',\n",
              " <Page:194>: 'Стегоцефалы, котилозавры, динозавры, звероподобные пресмыкающиеся. Подведём итоги Выполните задания',\n",
              " <Page:195>: 'Какие утверждения верны? Практические задания',\n",
              " <Page:196>: 'Глава перьями. крылья, теплокровные животные.',\n",
              " <Page:197>: 'клюв, надклювьем подклювьем. копчиковая железа. контурные 1 1 2 3 4 2 3 6 стержня опахал бородками очином. маховые перья, рулевые перья,',\n",
              " <Page:198>: 'пуховые. пухом Б). А Б А 1',\n",
              " <Page:199>: 'Лабораторная работа № 8 Перья, крылья, теплокровные животные, клюв, надклювье, под- клювъе, копчиковая железа; контурные перья (маховые, рулевые), пуховые перья, пух, стержень, опахало, бородки, очин.',\n",
              " <Page:200>: 'спинную кость. киль, сложный крестец вилочку, пряжку.',\n",
              " <Page:201>: '1 2 3 (А) 6 1 — 8 9 10 2 11 12 13 14 15 16 17 18 19 20 21 цевку.',\n",
              " <Page:202>: 'большие грудные мышцы, подключичные мышцы Лабораторная работа № 9',\n",
              " <Page:203>: 'Спинная кость, киль, сложный крестец, вилочка, пряжка, цевка, большие грудные мышцы, подключичные мышцы. железистый желудок,',\n",
              " <Page:204>: 'мус- кцлъный желудок 1 2 3 4 8 9 10 11 12 13 14 15 — 16 17 воздушные мешки.',\n",
              " <Page:205>: '1 2 1 3 — 4 2 3 6 4 — 8 9 10 11 12 нижняя гортань, голосовые перепонки.',\n",
              " <Page:206>: '1 2 3 4 9 А 1 2 3 — 2 3 4',\n",
              " <Page:207>: '(А) 1 2 3 — 6 8 9 Железистый и мускульный желудки, воздушные мешки, нижняя гортань, голосовые перепонки.',\n",
              " <Page:208>: 'яйцевыми оболочками, 1 2 3 4',\n",
              " <Page:209>: '1 2 3 4 выводковыми 1).',\n",
              " <Page:210>: 'птенцовыми гнездовыми 2). Яйцевые оболочки, выводковые и птенцовые (гнездовые) птицы.',\n",
              " <Page:211>: 'токование',\n",
              " <Page:212>: '1 2',\n",
              " <Page:213>: 'Насиживание смена оперения.',\n",
              " <Page:214>: 'Кочёвки 1 2 3 Оседлые птицы Кочующие птицы 1 2',\n",
              " <Page:215>: 'Перелётные птицы 1 2',\n",
              " <Page:216>: 'Токование; насиживание; кочёвки; оседлые кочующие и пере- лётные птицы. Е 1.',\n",
              " <Page:217>: 'Страусовые Пингвины 1 2 — 3 4',\n",
              " <Page:218>: 'Типичные птицы 1 2 3 — 6 9 10 —',\n",
              " <Page:219>: 'экологическую группу по местам гнездования хищных птиц 1 2 3 насекомоядных птиц',\n",
              " <Page:220>: '1 3 Растительноядные птицы всеядная птица 1 3 —',\n",
              " <Page:221>: 'птицы леса Птицы открытых пространств Водоплавающие птицы 1 2 3',\n",
              " <Page:222>: '• Птицы берегов и болот Морские птицы птичьи базары. 1 2 3',\n",
              " <Page:223>: \"Страусовые, пингвины, типичные птицы; экологические tpyjjk пы; хищные, насекомоядные, растительноядные, всеядные птпШ ' цы; птицы леса, открытых пространств, водоплавающие, берегов и болот, морские; птичьи базары. 1.\",\n",
              " <Page:224>: '',\n",
              " <Page:225>: '1 3 инкубатор',\n",
              " <Page:226>: '^82. (2) аРХеопгпериксом',\n",
              " <Page:227>: 'Охотничье-промысловые и домашние птицы, инкубатор, археоптерикс.',\n",
              " <Page:228>: 'Подведём итоги Выполните задания Какие утверждения верны:?_',\n",
              " <Page:229>: 'Практические задания 1.',\n",
              " <Page:230>: 'Глава 12 1 3 6',\n",
              " <Page:231>: 'лицевой черепной губами. 1 2 3 4 6 8',\n",
              " <Page:232>: 'ушные „аковипы. остевые волосы подшёрсток 2 3 4 6 — вибриссами волосяная сумка сальные железы.',\n",
              " <Page:233>: 'потовые железы V пахучие железы. млечные железы. Ушные раковины; остевые волосы; подшёрсток; вибриссы; волосяная сумка; сальные железы; потовые, пахучие железы; млечные железы. 1.',\n",
              " <Page:234>: '1 2 — 3 4 6 7 8 9 10 11 12 13 14 — 15 16 — 17',\n",
              " <Page:235>: 'диафрагмой. Лабораторная работа №10',\n",
              " <Page:236>: 'губами, резцы клыки, предкоренные и коренные преддверие рта 1 2 3 А). 6 У 8 9 10 11 — 12 13 14 15 16 желудок слоэкный Б).',\n",
              " <Page:237>: 'А 1 2 — 3 4 6 8 9 10 11 12 1 2 3 4 бронхиолы. лёгочными пузырьками, альвеолами.',\n",
              " <Page:238>: '2 3 4 6 9 А — 2 3 Б 1 2 3 4 6',\n",
              " <Page:239>: 'корой. (А) 1 2 3 4 6 8 — мочеиспускательный канал Диафрагма; губы; резцы, клыки, предкоренные, коренные зубы; преддверие рта; сложный желудок; бронхиолы; лёгочные пузырьки (альвеолы); кора полушарий переднего мозга; мочеиспускательный канал.',\n",
              " <Page:240>: 'матке. А) внутриутробное Развитие детское место, плацента.',\n",
              " <Page:241>: '{А) 2 3 Б).',\n",
              " <Page:242>: '2',\n",
              " <Page:243>: 'спяч~ ку. ш Матка, внутриутробное развитие, детское место (плацента), спячка.',\n",
              " <Page:244>: 'зверозубыми рептилиями',\n",
              " <Page:245>: 'первозвери (однопроходные) настоящие (живородящие) звери. низшие (сумчатые) звери высшие (плацентарные) звери. яйцекладущие млекопитающие. (2)',\n",
              " <Page:246>: '2 3 4',\n",
              " <Page:247>: 'Зверозубые рептилии, первозвери (однопроходные), настоящие (живородящие) звери, низшие (сумчатые) звери, высшие (плацентарные) звери, яйцекладущие млекопитающие.',\n",
              " <Page:248>: '3 3',\n",
              " <Page:249>: '1 3 4',\n",
              " <Page:250>: '1 2 3 хищные зубы.',\n",
              " <Page:251>: '1 2 3 — 6',\n",
              " <Page:252>: 'Насекомоядные, рукокрылые (летучие мыши), грызуны, зайцеобразные, хищные.',\n",
              " <Page:253>: 'ласты.',\n",
              " <Page:254>: '1 2— Зубатые киты Усатые киты китовый ус',\n",
              " <Page:255>: 'копыта 1 2 — жвачных парнокопытных Б, жвачка.',\n",
              " <Page:256>: 'нежвачным парнокопытным 1 2 3',\n",
              " <Page:257>: '',\n",
              " <Page:258>: 'Ластоногие, ласты, китообразные, зубатые и усатые киты, китовый ус, парнокопытные, копыта, жвачные парнокопытные, жвачка, нежвачные парнокопытные, непарнокопытные, хоботные. Приматы',\n",
              " <Page:259>: '2 4 1 2 3 4 прима ногти человекообразных обезьян лицо человек разумный. Приматы, ногти, лицо.',\n",
              " <Page:260>: 'Типично наземные млекопитающие',\n",
              " <Page:261>: '2 3 6 8 Прыгающие млекопитающие Наземно-древесные млекопитающие Почвенные млекопитающие',\n",
              " <Page:262>: 'Летающие млекопитающие Водные млекопитающие Околоводные млекопитающие Типично наземные, прыгающие, наземно-древесные, почвенные, летающие, водные, околоводные млекопитающие.',\n",
              " <Page:263>: 'W л',\n",
              " <Page:264>: 'животноводством. крупный рогатый скот',\n",
              " <Page:265>: 'Мелкий рогатый скот Свиноводство',\n",
              " <Page:266>: 'коневодство Оленеводство Кролиководство',\n",
              " <Page:267>: 'клеточное звероводство. 1 2 3 охотничье-промысловые звери.',\n",
              " <Page:268>: '',\n",
              " <Page:269>: 'Животноводство, крупный и мелкий рогатый скот, свиноводство, коневодство, оленеводство, кролиководство, клеточное звероводство, охотничье-промысловые звери. 1. Подведём итоги Выполните задания',\n",
              " <Page:270>: 'Какие утверждения верны? Практические задания 1.',\n",
              " <Page:271>: '',\n",
              " <Page:272>: '1 2 3',\n",
              " <Page:273>: 'палеозоя мезозоя кайнозоя палеонтологические доказательства эволюции наследственностью. изменчивостью',\n",
              " <Page:274>: 'наследственной. ненаследственная изменчивость, искусственным отбором. естественным отбором.',\n",
              " <Page:275>: 'Палеозой, мезозой, кайнозой, палеонтологические доказательства эволюции, наследственность, наследственная и ненаследственная изменчивость, искусственный и естественный отбор. 1.',\n",
              " <Page:276>: 'дегенерация.',\n",
              " <Page:277>: '',\n",
              " <Page:278>: '',\n",
              " <Page:279>: 'клеточный уровень организации жизни. организменным уровнем организации жизни. популяционно-видовой уровень организации жизни. продуценты — консументы редуценты',\n",
              " <Page:280>: 'общим круговоротом веществ. 3)',\n",
              " <Page:281>: 'экосистемой. биогеоценоз. биогеоценотическом уровне организации биосферу. биосферным',\n",
              " <Page:282>: 'Дегенерация, уровни организации жизни (клеточный, организ- менный, популяционно-видовой, биогеоценотический, биосферный), продуценты, консументы, редуценты, экосистема, биогеоценоз, биосфера.',\n",
              " <Page:283>: 'Итоговая проверка знаний 1.',\n",
              " <Page:284>: 'Правильные ответы на вопросы рубрики «Какие утверждения верны?» Примерные темы экскурсий',\n",
              " <Page:285>: 'Глава 1. Глава 2. Глава 3. Глава 4. Глава 5.',\n",
              " <Page:286>: 'Глава 6. Глава 7. Глава 8. Глава 9. Глава 10.',\n",
              " <Page:287>: 'Глава 11. Глава 12. Глава 13.',\n",
              " <Page:288>: 'Учебное издание Т.В. Карпова Е.В. Чайко Л.Я. Александрова, П К. Вахонина, А.В. Ермаков, П.А. Жиличкин, Е.Е. Исакова, Ю Н. Киселева, О Н. Мальцев, М.А. Тамазова, M.JI. Удадовская, А.В. Юдин, Е.В. Чайко А.Р. Андреев, Е.В. Бочаров, К.В. Бычков, Д.В. Мокшин, А.Р. Свиридов, В.А. Смирнов, (Виктор Застольский), В.А. Андрианова Н.П. Горловой Е.А. Урвачева, Л.В. Коновалова Е.В. Плеханова, Н.А. Шарт',\n",
              " <Page:289>: ''}"
            ]
          },
          "metadata": {},
          "execution_count": 100
        }
      ]
    },
    {
      "cell_type": "code",
      "source": [
        "list(dict_word_prep.items())[8]"
      ],
      "metadata": {
        "colab": {
          "base_uri": "https://localhost:8080/"
        },
        "id": "EYAg9B5JAu-8",
        "outputId": "96b33640-84c4-4796-aa65-b2c6ac6dbcef"
      },
      "execution_count": null,
      "outputs": [
        {
          "output_type": "execute_result",
          "data": {
            "text/plain": [
              "(<Page:9>,\n",
              " 'Зоология, морфология, анатомия, физиология, экология, палеонтология, этология, опылители.')"
            ]
          },
          "metadata": {},
          "execution_count": 118
        }
      ]
    },
    {
      "cell_type": "markdown",
      "source": [
        "# **Pandas**"
      ],
      "metadata": {
        "id": "J1N5R0SSvEjJ"
      }
    },
    {
      "cell_type": "markdown",
      "source": [
        "## 1) DataFrame из данных, обработанных с помощью модели **sage-fredt5-large**"
      ],
      "metadata": {
        "id": "ppMeKK93FCrE"
      }
    },
    {
      "cell_type": "code",
      "source": [
        "df_ch_1 = pd.DataFrame(ch_1_result_fin)"
      ],
      "metadata": {
        "id": "MjAxojhn96Fs"
      },
      "execution_count": null,
      "outputs": []
    },
    {
      "cell_type": "code",
      "source": [
        "df_ch_1.columns = ['Текст'] # переименуем колонку"
      ],
      "metadata": {
        "id": "WjFjoDpP-E5s"
      },
      "execution_count": null,
      "outputs": []
    },
    {
      "cell_type": "code",
      "source": [
        "df_ch_1 = df_ch_1.join(pd.DataFrame(\n",
        "    {\n",
        "        \"Учебник\": \"Биология 7 кл. Учебник для учащихся общеобразовательных организаций В.М. Константинов, В.Г. Бабенко, B.C. Кучменко. — 5-е изд., перераб. — М. ;  Вентана-Граф 2016\",\n",
        "        \"Предмет\": \"Биология\",\n",
        "        \"Класс\" : 7,\n",
        "        \"Глава\" : title_list0[0],\n",
        "        \"Параграф\" : chapter_list0[0],\n",
        "        \"Ключевые слова\" : list(dict_word_prep.values())[8]\n",
        "        }, index=df_ch_1.index\n",
        "    ))"
      ],
      "metadata": {
        "id": "3CC5hnz7-E81"
      },
      "execution_count": null,
      "outputs": []
    },
    {
      "cell_type": "code",
      "source": [
        "df_ch_1"
      ],
      "metadata": {
        "colab": {
          "base_uri": "https://localhost:8080/",
          "height": 115
        },
        "id": "xGwMEJo_C2uV",
        "outputId": "38cb32c9-81f9-4ba5-a891-591b42f6f4d7"
      },
      "execution_count": null,
      "outputs": [
        {
          "output_type": "execute_result",
          "data": {
            "text/plain": [
              "                                               Текст  \\\n",
              "0  Глава 1 ____________ О б и е с в е д е н и я о...   \n",
              "\n",
              "                                             Учебник   Предмет  Класс  \\\n",
              "0  Биология 7 кл. Учебник для учащихся общеобразо...  Биология      7   \n",
              "\n",
              "                                      Глава  \\\n",
              "0  Глава 1.  Общие сведения о мире животных   \n",
              "\n",
              "                                Параграф  \\\n",
              "0  § 1. Зоология — наука о ж и вотн ы х    \n",
              "\n",
              "                                      Ключевые слова  \n",
              "0  Зоология, морфология, анатомия, физиология, эк...  "
            ],
            "text/html": [
              "\n",
              "  <div id=\"df-2faab240-dc6f-4ac0-9f81-fe9792de0166\" class=\"colab-df-container\">\n",
              "    <div>\n",
              "<style scoped>\n",
              "    .dataframe tbody tr th:only-of-type {\n",
              "        vertical-align: middle;\n",
              "    }\n",
              "\n",
              "    .dataframe tbody tr th {\n",
              "        vertical-align: top;\n",
              "    }\n",
              "\n",
              "    .dataframe thead th {\n",
              "        text-align: right;\n",
              "    }\n",
              "</style>\n",
              "<table border=\"1\" class=\"dataframe\">\n",
              "  <thead>\n",
              "    <tr style=\"text-align: right;\">\n",
              "      <th></th>\n",
              "      <th>Текст</th>\n",
              "      <th>Учебник</th>\n",
              "      <th>Предмет</th>\n",
              "      <th>Класс</th>\n",
              "      <th>Глава</th>\n",
              "      <th>Параграф</th>\n",
              "      <th>Ключевые слова</th>\n",
              "    </tr>\n",
              "  </thead>\n",
              "  <tbody>\n",
              "    <tr>\n",
              "      <th>0</th>\n",
              "      <td>Глава 1 ____________ О б и е с в е д е н и я о...</td>\n",
              "      <td>Биология 7 кл. Учебник для учащихся общеобразо...</td>\n",
              "      <td>Биология</td>\n",
              "      <td>7</td>\n",
              "      <td>Глава 1.  Общие сведения о мире животных</td>\n",
              "      <td>§ 1. Зоология — наука о ж и вотн ы х</td>\n",
              "      <td>Зоология, морфология, анатомия, физиология, эк...</td>\n",
              "    </tr>\n",
              "  </tbody>\n",
              "</table>\n",
              "</div>\n",
              "    <div class=\"colab-df-buttons\">\n",
              "\n",
              "  <div class=\"colab-df-container\">\n",
              "    <button class=\"colab-df-convert\" onclick=\"convertToInteractive('df-2faab240-dc6f-4ac0-9f81-fe9792de0166')\"\n",
              "            title=\"Convert this dataframe to an interactive table.\"\n",
              "            style=\"display:none;\">\n",
              "\n",
              "  <svg xmlns=\"http://www.w3.org/2000/svg\" height=\"24px\" viewBox=\"0 -960 960 960\">\n",
              "    <path d=\"M120-120v-720h720v720H120Zm60-500h600v-160H180v160Zm220 220h160v-160H400v160Zm0 220h160v-160H400v160ZM180-400h160v-160H180v160Zm440 0h160v-160H620v160ZM180-180h160v-160H180v160Zm440 0h160v-160H620v160Z\"/>\n",
              "  </svg>\n",
              "    </button>\n",
              "\n",
              "  <style>\n",
              "    .colab-df-container {\n",
              "      display:flex;\n",
              "      gap: 12px;\n",
              "    }\n",
              "\n",
              "    .colab-df-convert {\n",
              "      background-color: #E8F0FE;\n",
              "      border: none;\n",
              "      border-radius: 50%;\n",
              "      cursor: pointer;\n",
              "      display: none;\n",
              "      fill: #1967D2;\n",
              "      height: 32px;\n",
              "      padding: 0 0 0 0;\n",
              "      width: 32px;\n",
              "    }\n",
              "\n",
              "    .colab-df-convert:hover {\n",
              "      background-color: #E2EBFA;\n",
              "      box-shadow: 0px 1px 2px rgba(60, 64, 67, 0.3), 0px 1px 3px 1px rgba(60, 64, 67, 0.15);\n",
              "      fill: #174EA6;\n",
              "    }\n",
              "\n",
              "    .colab-df-buttons div {\n",
              "      margin-bottom: 4px;\n",
              "    }\n",
              "\n",
              "    [theme=dark] .colab-df-convert {\n",
              "      background-color: #3B4455;\n",
              "      fill: #D2E3FC;\n",
              "    }\n",
              "\n",
              "    [theme=dark] .colab-df-convert:hover {\n",
              "      background-color: #434B5C;\n",
              "      box-shadow: 0px 1px 3px 1px rgba(0, 0, 0, 0.15);\n",
              "      filter: drop-shadow(0px 1px 2px rgba(0, 0, 0, 0.3));\n",
              "      fill: #FFFFFF;\n",
              "    }\n",
              "  </style>\n",
              "\n",
              "    <script>\n",
              "      const buttonEl =\n",
              "        document.querySelector('#df-2faab240-dc6f-4ac0-9f81-fe9792de0166 button.colab-df-convert');\n",
              "      buttonEl.style.display =\n",
              "        google.colab.kernel.accessAllowed ? 'block' : 'none';\n",
              "\n",
              "      async function convertToInteractive(key) {\n",
              "        const element = document.querySelector('#df-2faab240-dc6f-4ac0-9f81-fe9792de0166');\n",
              "        const dataTable =\n",
              "          await google.colab.kernel.invokeFunction('convertToInteractive',\n",
              "                                                    [key], {});\n",
              "        if (!dataTable) return;\n",
              "\n",
              "        const docLinkHtml = 'Like what you see? Visit the ' +\n",
              "          '<a target=\"_blank\" href=https://colab.research.google.com/notebooks/data_table.ipynb>data table notebook</a>'\n",
              "          + ' to learn more about interactive tables.';\n",
              "        element.innerHTML = '';\n",
              "        dataTable['output_type'] = 'display_data';\n",
              "        await google.colab.output.renderOutput(dataTable, element);\n",
              "        const docLink = document.createElement('div');\n",
              "        docLink.innerHTML = docLinkHtml;\n",
              "        element.appendChild(docLink);\n",
              "      }\n",
              "    </script>\n",
              "  </div>\n",
              "\n",
              "\n",
              "  <div id=\"id_5b517a5a-be8b-4ba2-9b2f-714644073c37\">\n",
              "    <style>\n",
              "      .colab-df-generate {\n",
              "        background-color: #E8F0FE;\n",
              "        border: none;\n",
              "        border-radius: 50%;\n",
              "        cursor: pointer;\n",
              "        display: none;\n",
              "        fill: #1967D2;\n",
              "        height: 32px;\n",
              "        padding: 0 0 0 0;\n",
              "        width: 32px;\n",
              "      }\n",
              "\n",
              "      .colab-df-generate:hover {\n",
              "        background-color: #E2EBFA;\n",
              "        box-shadow: 0px 1px 2px rgba(60, 64, 67, 0.3), 0px 1px 3px 1px rgba(60, 64, 67, 0.15);\n",
              "        fill: #174EA6;\n",
              "      }\n",
              "\n",
              "      [theme=dark] .colab-df-generate {\n",
              "        background-color: #3B4455;\n",
              "        fill: #D2E3FC;\n",
              "      }\n",
              "\n",
              "      [theme=dark] .colab-df-generate:hover {\n",
              "        background-color: #434B5C;\n",
              "        box-shadow: 0px 1px 3px 1px rgba(0, 0, 0, 0.15);\n",
              "        filter: drop-shadow(0px 1px 2px rgba(0, 0, 0, 0.3));\n",
              "        fill: #FFFFFF;\n",
              "      }\n",
              "    </style>\n",
              "    <button class=\"colab-df-generate\" onclick=\"generateWithVariable('df_ch_1')\"\n",
              "            title=\"Generate code using this dataframe.\"\n",
              "            style=\"display:none;\">\n",
              "\n",
              "  <svg xmlns=\"http://www.w3.org/2000/svg\" height=\"24px\"viewBox=\"0 0 24 24\"\n",
              "       width=\"24px\">\n",
              "    <path d=\"M7,19H8.4L18.45,9,17,7.55,7,17.6ZM5,21V16.75L18.45,3.32a2,2,0,0,1,2.83,0l1.4,1.43a1.91,1.91,0,0,1,.58,1.4,1.91,1.91,0,0,1-.58,1.4L9.25,21ZM18.45,9,17,7.55Zm-12,3A5.31,5.31,0,0,0,4.9,8.1,5.31,5.31,0,0,0,1,6.5,5.31,5.31,0,0,0,4.9,4.9,5.31,5.31,0,0,0,6.5,1,5.31,5.31,0,0,0,8.1,4.9,5.31,5.31,0,0,0,12,6.5,5.46,5.46,0,0,0,6.5,12Z\"/>\n",
              "  </svg>\n",
              "    </button>\n",
              "    <script>\n",
              "      (() => {\n",
              "      const buttonEl =\n",
              "        document.querySelector('#id_5b517a5a-be8b-4ba2-9b2f-714644073c37 button.colab-df-generate');\n",
              "      buttonEl.style.display =\n",
              "        google.colab.kernel.accessAllowed ? 'block' : 'none';\n",
              "\n",
              "      buttonEl.onclick = () => {\n",
              "        google.colab.notebook.generateWithVariable('df_ch_1');\n",
              "      }\n",
              "      })();\n",
              "    </script>\n",
              "  </div>\n",
              "\n",
              "    </div>\n",
              "  </div>\n"
            ],
            "application/vnd.google.colaboratory.intrinsic+json": {
              "type": "dataframe",
              "variable_name": "df_ch_1",
              "summary": "{\n  \"name\": \"df_ch_1\",\n  \"rows\": 1,\n  \"fields\": [\n    {\n      \"column\": \"\\u0422\\u0435\\u043a\\u0441\\u0442\",\n      \"properties\": {\n        \"dtype\": \"string\",\n        \"num_unique_values\": 1,\n        \"samples\": [\n          \"\\u0413\\u043b\\u0430\\u0432\\u0430 1 ____________ \\u041e \\u0431 \\u0438 \\u0435 \\u0441 \\u0432 \\u0435 \\u0434 \\u0435 \\u043d \\u0438 \\u044f \\u043e \\u043c \\u0438 \\u0440 \\u0435 \\u0436 \\u0438 \\u0432 \\u043e \\u0442 \\u043d \\u044b \\u0445. 1 \\u0417\\u043e\\u043e\\u043b\\u043e\\u0433\\u0438\\u044f \\u2014 \\u043d\\u0430\\u0443\\u043a\\u0430 \\u043e \\u0436\\u0438\\u0432\\u043e\\u0442\\u043d\\u044b\\u0445 \\u2014 \\u0412\\u044b \\u0443\\u0437\\u043d\\u0430\\u0435\\u0442\\u0435: \\u00ad \\u043a\\u0430\\u043a\\u0438\\u0435 \\u043d\\u0430\\u0443\\u043a\\u0438 \\u0432\\u0445\\u043e\\u0434\\u044f\\u0442 \\u0432 \\u0441\\u043e\\u0441\\u0442\\u0430\\u0432 \\u0437\\u043e\\u043e\\u043b\\u043e\\u0433\\u0438\\u0438; \\u00ad \\u043a\\u0430\\u043a\\u043e\\u0432\\u044b \\u043e\\u0431\\u0449\\u0438\\u0435 \\u0441\\u0432\\u043e\\u0439\\u0441\\u0442\\u0432\\u0430 \\u043e\\u0431\\u044a\\u0435\\u043a\\u0442\\u043e\\u0432, \\u0438\\u0437\\u0443\\u0447\\u0430\\u0435\\u043c\\u044b\\u0445 \\u0437\\u043e\\u043e\\u043b\\u043e\\u0433\\u0438\\u0435\\u0439; \\u00ad \\u043f\\u043e \\u043a\\u0430\\u043a\\u0438\\u043c \\u043f\\u0440\\u0438\\u0437\\u043d\\u0430\\u043a\\u0430\\u043c \\u0436\\u0438\\u0432\\u043e\\u0442\\u043d\\u044b\\u0435 \\u043e\\u0442\\u043b\\u0438\\u0447\\u0430\\u044e\\u0442\\u0441\\u044f \\u043e\\u0442 \\u0440\\u0430\\u0441\\u0442\\u0435\\u043d\\u0438\\u0439. \\u0412\\u0441\\u043f\\u043e\\u043c\\u043d\\u0438\\u0442\\u0435: \\u00ad \\u043a\\u0430\\u043a\\u043e\\u0432\\u044b \\u043e\\u0431\\u0449\\u0438\\u0435 \\u043f\\u0440\\u0438\\u0437\\u043d\\u0430\\u043a\\u0438 \\u0440\\u0430\\u0441\\u0442\\u0435\\u043d\\u0438\\u0439? \\u0412\\u0432\\u0435\\u0434\\u0435\\u043d\\u0438\\u0435: \\u0412 \\u043f\\u0440\\u0435\\u0434\\u044b\\u0434\\u0443\\u0449\\u0438\\u0445 \\u0438\\u0445 \\u043a\\u043b\\u0430\\u0441\\u0441\\u0430\\u0445 \\u0432\\u044b \\u043f\\u043e\\u0437\\u043d\\u0430\\u043a\\u043e\\u043c\\u0438\\u043b\\u0438\\u0441\\u044c \\u0441 \\u043f\\u0440\\u0435\\u0434\\u0441\\u0442\\u0430\\u0432\\u0438\\u0442\\u0435\\u043b\\u044f\\u043c\\u0438 \\u0442\\u0440\\u0451\\u0445 \\u0446\\u0430\\u0440\\u0441\\u0442\\u0432: \\u0411\\u0430\\u043a\\u0442\\u0435\\u0440\\u0438\\u0438, \\u0413\\u0440\\u0438\\u0431\\u044b, \\u0420\\u0430\\u0441\\u0442\\u0435\\u043d\\u0438\\u044f. \\u0422\\u0435\\u043f\\u0435\\u0440\\u044c \\u0432\\u044b \\u043f\\u0440\\u0438\\u0441\\u0442\\u0443\\u043f\\u0430\\u0435\\u0442\\u0435 \\u043a \\u0438\\u0437\\u0443\\u0447\\u0435\\u043d\\u0438\\u044e \\u043d\\u043e\\u0432\\u043e\\u0433\\u043e \\u0446\\u0430\\u0440\\u0441\\u0442\\u0432\\u0430 \\u0436\\u0438\\u0432\\u044b\\u0445 \\u043e\\u0440\\u0433\\u0430\\u043d\\u0438\\u0437\\u043c\\u043e\\u0432 \\u2014 \\u0416\\u0438\\u0432\\u043e\\u0442\\u043d\\u044b\\u0435. \\u0420\\u0430\\u0437\\u0434\\u0435\\u043b \\u0431\\u0438\\u043e\\u043b\\u043e\\u0433\\u0438\\u0438, \\u043f\\u043e\\u0441\\u0432\\u044f\\u0449\\u0451\\u043d\\u043d\\u044b\\u0439 \\u0438\\u0437\\u0443\\u0447\\u0435\\u043d\\u0438\\u044e \\u0436\\u0438\\u0432\\u043e\\u0442\\u043d\\u044b\\u0445, \\u0438\\u0445 \\u0440\\u0430\\u0437\\u043d\\u043e\\u043e\\u0431\\u0440\\u0430\\u0437\\u0438\\u044f, \\u0441\\u0442\\u0440\\u043e\\u0435\\u043d\\u0438\\u044f \\u0438 \\u0438\\u0445 \\u0436\\u0438\\u0437\\u043d\\u0435\\u0434\\u0435\\u044f\\u0442\\u0435\\u043b\\u044c\\u043d\\u043e\\u0441\\u0442\\u0438, \\u0441\\u0432\\u044f\\u0437\\u0435\\u0439 \\u0441\\u043e \\u0441\\u0440\\u0435\\u0434\\u043e\\u0439 \\u043e\\u0431\\u0438\\u0442\\u0430\\u043d\\u0438\\u044f, \\u0440\\u0430\\u0441\\u043f\\u0440\\u043e\\u0441\\u0442\\u0440\\u0430\\u043d\\u0435\\u043d\\u0438\\u044f \\u0438\\u0445 \\u0438\\u043d\\u0434\\u0438\\u0432\\u0438\\u0434\\u0443\\u0430\\u043b\\u044c\\u043d\\u043e\\u0433\\u043e \\u0438 \\u0438\\u0441\\u0442\\u043e\\u0440\\u0438\\u0447\\u0435\\u0441\\u043a\\u043e\\u0433\\u043e \\u0440\\u0430\\u0437\\u0432\\u0438\\u0442\\u0438\\u044f, \\u0440\\u043e\\u043b\\u0438 \\u0432 \\u043f\\u0440\\u0438\\u0440\\u043e\\u0434\\u0435 \\u0438 \\u0442. \\u0434. \\u0423\\u0447\\u0435\\u043d\\u0438\\u044f \\u0434\\u043b\\u044f \\u0447\\u0435\\u043b\\u043e\\u0432\\u0435\\u043a\\u0430, \\u043d\\u0430\\u0437\\u044b\\u0432\\u0430\\u0435\\u0442\\u0441\\u044f \\u0437\\u043e\\u043e\\u043b\\u043e\\u0433\\u0438\\u0435\\u0439 (\\u043e\\u0442 \\u0433\\u0440\\u0435\\u0447. \\u0437\\u043e\\u043e\\u043d \\u2014 \\u00ab\\u0436\\u0438\\u0432\\u043e\\u0442\\u043d\\u043e\\u0435\\u00bb, \\u043b\\u043e\\u0433\\u043e\\u0441 \\u2014 \\u00ab\\u0443\\u0447\\u0435\\u043d\\u0438\\u0435\\u00bb). \\u0421\\u043e\\u0432\\u0440\\u0435\\u043c\\u0435\\u043d\\u043d\\u0430\\u044f \\u0437\\u043e\\u043e\\u043b\\u043e\\u0433\\u0438\\u044f \\u2014 \\u044d\\u0442\\u043e \\u0441\\u0438\\u0441\\u0442\\u0435\\u043c\\u0430 \\u043d\\u0430\\u0443\\u043a. \\u041d\\u0430\\u043f\\u0440\\u0438\\u043c\\u0435\\u0440, \\u043c \\u043e \\u043e\\u043b\\u043e\\u0433\\u0438\\u044f \\u044f \\u0438 \\u0430 \\u043d \\u0430 \\u0438 \\u044f \\u0438 \\u0432\\u043e\\u0442 \\u043d\\u044b \\u0445 \\u0438\\u0437\\u0443\\u0447\\u0430\\u044e\\u0442 \\u0438 \\u0432\\u043d\\u0435\\u0448\\u043d\\u0435\\u0435 \\u0438 \\u0432\\u043d\\u0443\\u0442\\u0440\\u0435\\u043d\\u043d\\u0435\\u0435 \\u0441\\u0442\\u0440\\u043e\\u0435\\u043d\\u0438\\u0435 \\u043e\\u0440\\u0433\\u0430\\u043d\\u043e\\u0432 \\u0438 \\u043c \\u0438 \\u043e \\u043b\\u043e\\u0433\\u0438 \\u044f \\u0438 \\u0432\\u043e\\u0442 \\u043d\\u044b \\u0445 \\u0438\\u0437\\u0443\\u0447\\u0430\\u044e\\u0442 \\u0438 \\u0432\\u0437\\u0430\\u0438\\u043c\\u043e\\u043e\\u0442\\u043d\\u043e\\u0448\\u0435\\u043d\\u0438\\u044f \\u0436\\u0438\\u0432\\u043e\\u0442\\u043d\\u044b\\u0445 \\u043c\\u0435\\u0436\\u0434\\u0443 \\u0441\\u043e\\u0431\\u043e\\u0439, \\u0441 \\u0434\\u0440\\u0443\\u0433\\u0438\\u043c\\u0438 \\u043e\\u0440\\u0433\\u0430\\u043d\\u0438\\u0437\\u043c\\u0430\\u043c\\u0438 \\u0438 \\u0441\\u043e \\u0441\\u0440\\u0435\\u0434\\u043e\\u0439 \\u043e\\u0431\\u0438\\u0442\\u0430\\u043d\\u0438\\u044f. \\u041f \\u0430 \\u043b\\u0435\\u043e\\u043d\\u0442 \\u043e\\u043b\\u043e\\u0433\\u0438\\u044f \\u0440\\u0430\\u0441\\u0441\\u043c\\u0430\\u0442\\u0440\\u0438\\u0432\\u0430\\u0435\\u0442 \\u0438\\u0441\\u043a\\u043e\\u043f\\u0430\\u0435\\u043c\\u044b\\u0445 \\u0436\\u0438\\u0432\\u043e\\u0442\\u043d\\u044b\\u0445 \\u0438 \\u0438\\u0445 \\u0438\\u0437\\u043c\\u0435\\u043d\\u0435\\u043d\\u0438\\u044f \\u0432 \\u043f\\u0440\\u043e\\u0446\\u0435\\u0441\\u0441\\u0435 \\u0438\\u0441\\u0442\\u043e\\u0440\\u0438\\u0438 \\u0447\\u0435\\u043b\\u043e\\u0432\\u0435\\u0447\\u0435\\u0441\\u043a\\u043e\\u0433\\u043e \\u0440\\u0430\\u0437\\u0432\\u0438\\u0442\\u0438\\u044f. \\u042d \\u0442 \\u043e\\u043b\\u043e\\u0433\\u0438\\u044f \\u0438\\u0437\\u0443\\u0447\\u0430\\u0435\\u0442 \\u043f\\u043e\\u0432\\u0435\\u0434\\u0435\\u043d\\u0438\\u0435 \\u0436\\u0438\\u0432\\u043e\\u0442\\u043d\\u044b\\u0445. \\u0417\\u043e\\u043e\\u043b\\u043e\\u0433\\u0438\\u044f \\u0438\\u0437\\u0443\\u0447\\u0430\\u0435\\u0442 \\u0440\\u0430\\u0437\\u043b\\u0438\\u0447\\u043d\\u044b \\u0445 \\u0436\\u0438\\u0432\\u043e\\u0442\\u043d\\u044b\\u0445 \\u2014 \\u0431\\u0435\\u0441\\u043f\\u043e\\u0437\\u0432\\u043e\\u043d\\u043e\\u0447\\u043d\\u044b\\u0445 \\u0438 \\u043f\\u043e\\u0437\\u0432\\u043e\\u043d\\u043e\\u0447\\u043d\\u044b\\u0445 \\u043d\\u044b\\u0445 (\\u0440\\u0438\\u0441. 1). \\u041e\\u0441\\u043e\\u0431\\u044b\\u0439 \\u043c\\u0438\\u0440 \\u043f\\u0440\\u0435\\u0434\\u0441\\u0442\\u0430\\u0432\\u043b\\u0435\\u043d \\u0436\\u0438\\u0432\\u043e\\u0442\\u043d\\u044b\\u043c\\u0438, \\u0441\\u043e\\u0441\\u0442\\u043e\\u044f\\u0449\\u0438\\u043c\\u0438 \\u0432\\u0441\\u0435\\u0433\\u043e \\u0438\\u0437 \\u043e\\u0434\\u043d\\u043e\\u0439 \\u043e\\u0434\\u043d\\u043e\\u0439 \\u043a\\u043b\\u0435\\u0442\\u043a\\u0438 \\u2014 \\u043f\\u0440\\u043e\\u0441\\u0442\\u0435\\u0439\\u0448\\u0438\\u043c\\u0438 (\\u0440\\u0438\\u0441. 2).  \\u0420\\u0438\\u0441. 1. \\u0420\\u0430\\u0437\\u043d\\u043e\\u043e\\u0431\\u0440\\u0430\\u0437\\u0438\\u0435 \\u043c\\u043d\\u043e\\u0433\\u043e\\u043a\\u043b\\u0435\\u0442\\u043e\\u0447\\u043d\\u044b\\u0445 \\u0436\\u0438\\u0432\\u043e\\u0442\\u043d\\u044b\\u0445: \\u0410 \\u2014 \\u0431\\u0435\\u0441\\u043f\\u043e\\u0437\\u0432\\u043e\\u043d\\u043e\\u0447\\u043d\\u044b\\u0435; \\u0411 \\u2014 \\u043f\\u043e\\u0437\\u0432\\u043e\\u043d\\u043e\\u0447\\u043d\\u044b\\u0435 5  \\u0420\\u0438\\u0441. 2. \\u0420\\u0430\\u0437\\u043d\\u043e\\u043e\\u0431\\u0440\\u0430\\u0437\\u0438\\u0435 \\u043e\\u0434\\u043d\\u043e\\u043a\\u043b\\u0435\\u0442\\u043e\\u0447\\u043d\\u044b\\u0445 \\u0436\\u0438\\u0432\\u043e\\u0442\\u043d\\u044b\\u0445 (\\u043f\\u0440\\u043e\\u0441\\u0442\\u0435\\u0439\\u0448\\u0438\\u0445). \\u0421\\u0445\\u043e\\u0434\\u0441\\u0442\\u0432\\u043e \\u0438 \\u0440\\u0430\\u0437\\u043b\\u0438\\u0447\\u0438\\u0435 \\u0436\\u0438\\u0432\\u043e\\u0442\\u043d\\u044b\\u0445 \\u0438 \\u0440\\u0430\\u0441\\u0442\\u0435\\u043d\\u0438\\u0439. \\u0414\\u043b\\u044f \\u0436\\u0438\\u0432\\u043e\\u0442\\u043d\\u044b\\u0445, \\u043a\\u0430\\u043a \\u0438 \\u0434\\u043b\\u044f \\u0431\\u043e\\u043b\\u044c\\u0448\\u0438\\u043d\\u0441\\u0442\\u0432\\u0430 \\u0434\\u0440\\u0443\\u0433\\u0438\\u0445 \\u0436\\u0438\\u0432\\u044b\\u0445 \\u043e\\u0440\\u0433\\u0430\\u043d\\u0438\\u0437\\u043c\\u043e\\u0432, \\u0438\\u0445 \\u0445\\u0430\\u0440\\u0430\\u043a\\u0442\\u0435\\u0440\\u043d\\u044b \\u0441\\u043b\\u0435\\u0434\\u0443\\u044e\\u0449\\u0438\\u0435 \\u043e\\u0441\\u043e\\u0431\\u0435\\u043d\\u043d\\u043e\\u0441\\u0442\\u0438: \\u043a\\u043b\\u0435\\u0442\\u043e\\u0447\\u043d\\u043e\\u0435 \\u0441\\u0442\\u0440\\u043e\\u0435\\u043d\\u0438\\u0435, \\u0441\\u043f\\u043e\\u0441\\u043e\\u0431\\u043d\\u043e\\u0441\\u0442\\u044c \\u043a \\u043f\\u0438\\u0442\\u0430\\u043d\\u0438\\u044e, \\u0434\\u044b\\u0445\\u0430\\u043d\\u0438\\u044e, \\u0432\\u044b\\u0434\\u0435\\u043b\\u0435\\u043d\\u0438\\u044e, \\u043d\\u0430\\u043b\\u0438\\u0447\\u0438\\u0435 \\u043e\\u0431\\u043c\\u0435\\u043d\\u0430 \\u0432\\u0435\\u0449\\u0435\\u0441\\u0442\\u0432 \\u043c\\u0435\\u0436\\u0434\\u0443 \\u0438\\u0445 \\u043e\\u0440\\u0433\\u0430\\u043d\\u0438\\u0437\\u043c\\u043e\\u043c \\u0438 \\u043e\\u043a\\u0440\\u0443\\u0436\\u0430\\u044e\\u0449\\u0435\\u0439 \\u0438\\u0445 \\u0435\\u0439 \\u0441\\u0440\\u0435\\u0434\\u043e\\u0439, \\u0441\\u043f\\u043e\\u0441\\u043e\\u0431\\u043d\\u043e\\u0441\\u0442\\u044c \\u043a \\u0440\\u0430\\u0437\\u043c\\u043d\\u043e\\u0436\\u0435\\u043d\\u0438\\u044e, \\u0440\\u043e\\u0441\\u0442\\u0443, \\u0440\\u0430\\u0437\\u0432\\u0438\\u0442\\u0438\\u044e. \\u0416\\u0438\\u0432\\u043e\\u0442\\u043d\\u044b\\u0435 \\u043e\\u0442\\u043b\\u0438\\u0447\\u0430\\u044e\\u0442\\u0441\\u044f \\u043e\\u0442 \\u0440\\u0430\\u0441\\u0442\\u0435\\u043d\\u0438\\u0439 \\u043f\\u043e \\u0441\\u043b\\u0435\\u0434\\u0443\\u044e\\u0449\\u0438\\u043c \\u043f\\u0440\\u0438\\u0437\\u043d\\u0430\\u043a\\u0430\\u043c. \\u041a\\u043b\\u0435\\u0442\\u043a\\u0438 \\u0436\\u0438\\u0432\\u043e\\u0442\\u043d\\u044b\\u0445 \\u043d\\u0435 \\u0438\\u043c\\u0435\\u044e\\u0442 \\u0442\\u0432\\u0451\\u0440\\u0434\\u043e\\u0439 \\u0446\\u0435\\u043b\\u043b\\u044e\\u043b\\u043e\\u0437\\u043d\\u043e\\u0439 \\u043e\\u0431\\u043e\\u043b\\u043e\\u0447\\u043a\\u0438. \\u0412 \\u043e\\u0442\\u043b\\u0438\\u0447\\u0438\\u0435 \\u043e\\u0442 \\u0440\\u0430\\u0441\\u0442\\u0435\\u043d\\u0438\\u0439, \\u0436\\u0438\\u0432\\u044b\\u0435 \\u0436\\u0438\\u0432\\u043e\\u0442\\u043d\\u044b\\u0435 \\u043f\\u0438\\u0442\\u0430\\u044e\\u0442\\u0441\\u044f \\u0433\\u043e\\u0442\\u043e\\u0432\\u044b\\u043c\\u0438 \\u043e\\u0440\\u0433\\u0430\\u043d\\u0438\\u0447\\u0435\\u0441\\u043a\\u0438\\u043c\\u0438 \\u0432\\u0435\\u0449\\u0435\\u0441\\u0442\\u0432\\u0430\\u043c\\u0438. \\u0412 \\u043f\\u0440\\u0438\\u0440\\u043e\\u0434\\u0435 \\u0438 \\u0441\\u043e\\u043e\\u0431\\u0449\\u0435\\u0441\\u0442\\u0432\\u0430\\u0445 \\u043e\\u043d\\u0438 \\u0438\\u0433\\u0440\\u0430\\u044e\\u0442 \\u0440\\u043e\\u043b\\u044c \\u043f\\u043e\\u0442\\u0440\\u0435\\u0431\\u0438\\u0442\\u0435\\u043b\\u0435\\u0439 \\u043e\\u0440\\u0433\\u0430\\u043d\\u0438\\u0447\\u0435\\u0441\\u043a\\u043e\\u0433\\u043e \\u0432\\u0435\\u0449\\u0435\\u0441\\u0442\\u0432\\u0430. \\u0416\\u0438\\u0432\\u043e\\u0442\\u043d\\u044b\\u0435 \\u0441\\u043f\\u043e\\u0441\\u043e\\u0431\\u043d\\u044b \\u0432\\u043e\\u0441\\u043f\\u0440\\u0438\\u043d\\u0438\\u043c\\u0430\\u0442\\u044c \\u0440\\u0430\\u0437\\u0434\\u0440\\u0430\\u0436\\u0435\\u043d\\u0438\\u044f \\u0438 \\u0440\\u0435\\u0430\\u0433\\u0438\\u0440\\u043e\\u0432\\u0430\\u0442\\u044c \\u043d\\u0430 \\u043d\\u0438\\u0445. \\u041e\\u043d\\u0438 \\u043c\\u043e\\u0433\\u0443\\u0442 \\u0430\\u043a\\u0442\\u0438\\u0432\\u043d\\u043e \\u043f\\u0435\\u0440\\u0435\\u0434\\u0432\\u0438\\u0433\\u0430\\u0442\\u044c\\u0441\\u044f. \\u0411\\u043e\\u043b\\u044c\\u0448\\u0438\\u043d\\u0441\\u0442\\u0432\\u043e \\u0441\\u0430\\u043c\\u0438 \\u0434\\u043e\\u0431\\u044b\\u0432\\u0430\\u044e\\u0442 \\u0441\\u0435\\u0431\\u0435 \\u043f\\u0438\\u0449\\u0443, \\u043f\\u0440\\u0435\\u0441\\u043b\\u0435\\u0434\\u0443\\u044e\\u0442 \\u0434\\u043e\\u0431\\u044b\\u0447\\u0443. \\u0420\\u0430\\u0437\\u043d\\u043e\\u043e\\u0431\\u0440\\u0430\\u0437\\u0438\\u0435 \\u0436\\u0438\\u0432\\u043e\\u0442\\u043d\\u044b\\u0445. \\u041f\\u043e \\u0434\\u0430\\u043d\\u043d\\u044b\\u043c \\u0412\\u0441\\u0435\\u043c\\u0438\\u0440\\u043d\\u043e\\u0433\\u043e ( ) \\u041c\\u0435\\u0436\\u0434\\u0443\\u043d\\u0430\\u0440\\u043e\\u0434\\u043d\\u043e\\u0433\\u043e \\u0441\\u043e\\u044e\\u0437\\u0430 \\u043e\\u0445\\u0440\\u0430\\u043d\\u044b \\u043f\\u0440\\u0438\\u0440\\u043e\\u0434\\u044b I (\\u0412\\u0421\\u041e\\u041f), \\u043d\\u0430 \\u0417\\u0435\\u043c\\u043b\\u0435 \\u0443\\u0436\\u0435 \\u0441\\u0443\\u0449\\u0435\\u0441\\u0442\\u0432\\u0443\\u0435\\u0442 \\u0431\\u043e\\u043b\\u0435\\u0435 1,2 \\u043c\\u043b\\u043d \\u0432\\u0438\\u0434\\u043e\\u0432 \\u0436\\u0438\\u0432\\u043e\\u0442\\u043d\\u044b\\u0445. \\u0411\\u043e\\u043b\\u044c\\u0448\\u0435 I \\u0432\\u0441\\u0435\\u0445 I, \\u043d\\u043e \\u043d\\u0430\\u0441\\u0435\\u043a\\u043e\\u043c\\u044b\\u0445 \\u043e\\u043a\\u043e\\u043b\\u043e 1 \\u043c\\u043b\\u043d \\u0432\\u0438\\u0434\\u043e\\u0432. \\u0418\\u0437\\u0432\\u0435\\u0441\\u0442\\u043d\\u043e \\u043e\\u043a\\u043e\\u043b\\u043e 70 \\u0442\\u044b\\u0441. \\u0432\\u0438\\u0434\\u043e\\u0432 \\u043c\\u043e\\u043b\\u043b\\u044e\\u0441\\u043a\\u043e\\u0432, I \\u043a\\u043e\\u0440\\u043e\\u0432, \\u0441\\u0432\\u044b\\u0448\\u0435 20 \\u0442\\u044b\\u0441. \\u0432\\u0438\\u0434\\u043e\\u0432 \\u0440\\u044b\\u0431. \\u0421\\u043e\\u0432\\u0440\\u0435\\u043c\\u0435\\u043d\\u043d\\u044b\\u0445 \\u043f\\u0442\\u0438\\u0446 \\u043d\\u0430\\u0441\\u0447\\u0438\\u0442\\u044b\\u0432\\u0430\\u044e\\u0442 \\u043f\\u043e \\u0441\\u0440\\u0430\\u0432\\u043d\\u0435\\u043d\\u0438\\u044e I \\u0438 \\u0441 \\u0434\\u0440\\u0443\\u0433\\u0438\\u043c\\u0438 \\u0433\\u0440\\u0443\\u043f\\u043f\\u0430\\u043c\\u0438 \\u043d\\u0435\\u043c\\u043d\\u043e\\u0433\\u043e (\\u043e\\u043a\\u043e\\u043b\\u043e 9000 \\u0432\\u0438\\u0434\\u043e\\u0432), \\u0435\\u0449\\u0451 \\u043c\\u0435\\u043d\\u044c\\u0448\\u0435 \\u043c\\u043b\\u0435\\u043a\\u043e- I, \\u043f\\u0438\\u0442\\u0430\\u044e\\u0449\\u0438\\u0445 \\u043e\\u043a\\u043e\\u043b\\u043e 5000 \\u0432\\u0438\\u0434\\u043e\\u0432. \\u0420\\u0430\\u0441\\u043f\\u0440\\u043e\\u0441\\u0442\\u0440\\u0430\\u043d\\u0435\\u043d\\u044b \\u0436\\u0438\\u0432\\u043e\\u0442\\u043d\\u044b\\u0435 \\u043f\\u043e \\u0432\\u0441\\u0435\\u043c\\u0443 \\u0437\\u0435\\u043c\\u043d\\u043e\\u043c\\u0443 \\u0448\\u0430\\u0440\\u0443. \\u041e\\u043d\\u0438 \\u043e\\u0441\\u0432\\u043e\\u0438\\u043b\\u0438 \\u0440\\u0430\\u0437- I \\u0438\\u043d\\u044b\\u0435 \\u0441\\u0440\\u0435\\u0434\\u044b \\u0436 \\u0436\\u0438\\u0437\\u043d\\u0438 (\\u0432\\u043e\\u0434\\u043d\\u0443\\u044e, \\u043d\\u0430\\u0437\\u0435\\u043c\\u043d\\u043e-\\u0432\\u043e\\u0437\\u0434\\u0443\\u0448\\u043d\\u0443\\u044e, \\u043f\\u043e\\u0447\\u0432\\u0435\\u043d\\u043d\\u0443\\u044e). \\u0418\\u0437\\u0432\\u0435\\u0441\\u0442\\u043d\\u044b | \\u0438 \\u0442\\u0430\\u043a\\u0438\\u0435 \\u0436\\u0438\\u0432\\u043e\\u0442\\u043d\\u044b\\u0435, \\u043a\\u043e\\u0442\\u043e\\u0440\\u044b\\u0435 \\u043e\\u0431\\u0438\\u0442\\u0430\\u044e\\u0442 \\u0432 \\u0440\\u0430\\u0441\\u0442\\u0435\\u043d\\u0438\\u044f\\u0445. \\u041d\\u0435\\u043a\\u043e\\u0442\\u043e\\u0440\\u044b\\u0435 \\u043f\\u0430\\u0440\\u0430\\u0437\\u0438\\u0442\\u0438\\u0440\\u0443\\u044e\\u0442 \\u0438 \\u0432 \\u043e\\u0440\\u0433\\u0430\\u043d\\u0438\\u0437\\u043c\\u0430\\u0445 \\u0434\\u0440\\u0443\\u0433\\u0438\\u0445 \\u0436\\u0438\\u0432\\u043e\\u0442\\u043d\\u044b\\u0445 \\u0438 \\u0447\\u0435\\u043b\\u043e\\u0432\\u0435\\u043a\\u0430. \\u0416\\u0438\\u0432\\u043e\\u0442\\u043d\\u044b\\u0435 \\u043e\\u0447\\u0435\\u043d\\u044c \\u0440\\u0430\\u0437\\u043d\\u043e\\u043e\\u0431\\u0440\\u0430\\u0437\\u043d\\u044b \\u043f\\u043e \\u043e\\u0431\\u043b\\u0438\\u043a\\u0443 \\u0438 \\u0441\\u0442\\u0440\\u043e\\u0435\\u043d\\u0438\\u044e, \\u0440\\u0430\\u0437\\u043c\\u0435\\u0440\\u0430\\u043c, \\u043e\\u0431\\u0440\\u0430\\u0437\\u0443 - 3\\u0423 \\u0436\\u0438\\u0437\\u043d\\u0438. \\u041e\\u0434\\u043d\\u0438 \\u043f\\u0435\\u0440\\u0435\\u0434\\u0432\\u0438\\u0433\\u0430\\u044e\\u0442\\u0441\\u044f \\u0432 \\u0432\\u043e\\u0434\\u0435 \\u0441 \\u043f\\u043e\\u043c\\u043e\\u0449\\u044c\\u044e \\u0440\\u0435\\u0441\\u043d\\u0438\\u0447\\u0435\\u043a, \\u0434\\u0440\\u0443\\u0433\\u0438\\u0435 \\u0437\\u0430 I, \\u0441\\u0447\\u0435\\u0442 \\u043f\\u043b\\u0430\\u0432\\u043d\\u0438\\u043a\\u043e\\u0432. \\u0411\\u043e\\u043b\\u044c\\u0448\\u0438\\u043d\\u0441\\u0442\\u0432\\u043e \\u043d\\u0430\\u0437\\u0435\\u043c\\u043d\\u044b\\u0445 \\u0436\\u0438\\u0432\\u043e\\u0442\\u043d\\u044b\\u0445 \\u043f\\u0440\\u0438 \\u0434\\u0432\\u0438\\u0436\\u0435\\u043d\\u0438\\u0438 \\u043e\\u043f\\u0438\\u0440\\u0430 \\u044e\\u0442\\u0441\\u044f \\u043d\\u0430 \\u043f\\u0430\\u0440\\u043d\\u044b\\u0435 \\u043a\\u043e\\u043d\\u0435\\u0447\\u043d\\u043e\\u0441\\u0442\\u0438. \\u041d\\u0430\\u0441\\u0435\\u043a\\u043e\\u043c\\u044b\\u0435, \\u043f\\u0442\\u0438\\u0446\\u044b, \\u043b\\u0435\\u0442\\u0443\\u0447\\u0438\\u0435 \\u043c\\u044b\\u0448\\u0438 \\u0434\\u043b\\u044f \\u043f\\u043e\\u043b\\u0451\\u0442\\u0430 I \\u0438\\u0441\\u043f\\u043e\\u043b\\u044c\\u0437\\u0443\\u044e\\u0442 \\u043a\\u0440\\u044b\\u043b\\u044c\\u044f  \\u0420\\u0438\\u0441. 3. \\u0421\\u0440\\u0430\\u0432\\u043d\\u0438\\u0442\\u0435\\u043b\\u044c\\u043d\\u044b\\u0435 \\u0440\\u0430\\u0437\\u043c\\u0435\\u0440\\u044b \\u0436\\u0438\\u0432\\u043e\\u0442\\u043d\\u044b\\u0445 (\\u043f\\u0440\\u043e\\u0441\\u0442\\u0435\\u0439\\u0448\\u0438\\u0435) \\u0434\\u0430\\u043d\\u044b \\u0432 \\u043f\\u043e\\u043b\\u0435 \\u043e\\u043f\\u0442\\u0438\\u0447\\u0435\\u0441\\u043a\\u043e\\u0433\\u043e \\u043c\\u0438\\u043a\\u0440\\u043e\\u0441\\u043a\\u043e\\u043f\\u0430. \\u0421\\u0430\\u043c\\u044b\\u0445 \\u043c\\u0430\\u043b\\u0435\\u043d\\u044c\\u043a\\u0438\\u0445 \\u0436\\u0438\\u0432\\u043e\\u0442\\u043d\\u044b\\u0445 \\u043c\\u043e\\u0436\\u043d\\u043e \\u0443\\u0432\\u0438\\u0434\\u0435\\u0442\\u044c \\u0442\\u043e\\u043b\\u044c\\u043a\\u043e \\u043f\\u043e\\u0434 \\u043c\\u0438\\u043a\\u0440\\u043e\\u0441\\u043a\\u043e\\u043f\\u043e\\u043c. \\u041a\\u0440\\u0443\\u043f\\u043d\\u044b\\u0435 \\u043d\\u0430\\u0437\\u0435\\u043c\\u043d\\u044b\\u0435 \\u0436\\u0438\\u0432\\u043e\\u0442\\u043d\\u044b\\u0435, \\u043d\\u0430\\u043f\\u0440\\u0438\\u043c\\u0435\\u0440, \\u0441\\u043b\\u043e\\u043d\\u044b, \\u0434\\u043e\\u0441\\u0442\\u0438\\u0433\\u0430\\u044e\\u0442 \\u0432 \\u0432\\u044b\\u0441\\u043e\\u0442\\u0443 3,5 \\u043c, \\u0430 \\u043c\\u0430\\u0441\\u0441\\u0430 \\u0438\\u0445 \\u0442\\u0435\\u043b\\u0430 \\u043e\\u043a\\u043e\\u043b\\u043e 5 \\u0442. \\u0421\\u0430\\u043c\\u043e\\u0435 \\u0431\\u043e\\u043b\\u044c\\u0448\\u043e\\u0435 \\u0436\\u0438\\u0432\\u043e\\u0442\\u043d\\u043e\\u0435 \\u0438\\u0437 \\u043a\\u043e\\u0433\\u0434\\u0430-\\u043b\\u0438\\u0431\\u043e \\u0436\\u0438\\u0432\\u0448\\u0438\\u0445 \\u0438 \\u043d\\u0435 \\u0436\\u0438\\u0432\\u0443\\u0449\\u0438\\u0445 \\u043d\\u0430 \\u0417\\u0435\\u043c\\u043b\\u0435 \\u2014 \\u0441\\u0438\\u043d\\u0438\\u0439 \\u043a\\u0438\\u0442 \\u0434\\u043b\\u0438\\u043d\\u043e\\u0439 \\u0431\\u043e\\u043b\\u0435\\u0435 30 \\u043c \\u0438 \\u043c\\u0430\\u0441\\u0441\\u043e\\u0439 \\u0434\\u043e 150 \\u0442 (\\u0440\\u0438\\u0441. 3). \\u0417\\u043d\\u0430\\u0447\\u0435\\u043d\\u0438\\u0435 \\u0436\\u0438\\u0432\\u043e\\u0442\\u043d\\u044b\\u0445. \\u0416\\u0438\\u0432\\u043e\\u0442\\u043d\\u044b\\u0435 \\u0440\\u0430\\u0437\\u043b\\u0438\\u0447\\u0430\\u044e\\u0442\\u0441\\u044f \\u043d\\u0435 \\u0442\\u043e\\u043b\\u044c\\u043a\\u043e \\u043f\\u043e \\u0432\\u043d\\u0435\\u0448\\u043d\\u0435\\u043c\\u0443 \\u043e\\u0431\\u043b\\u0438\\u043a\\u0443, \\u0441\\u0442\\u0440\\u043e\\u0435\\u043d\\u0438\\u044e \\u0438 \\u043e\\u0431\\u0440\\u0430\\u0437\\u0443 \\u0436\\u0438\\u0437\\u043d\\u0438, \\u043d\\u043e \\u0438 \\u043f\\u043e \\u0442\\u043e\\u0439 \\u0440\\u043e\\u043b\\u0438, \\u043a\\u043e\\u0442\\u043e\\u0440\\u0443\\u044e \\u043e\\u043d\\u0438 \\u0438\\u0433\\u0440\\u0430\\u044e\\u0442 \\u0438 \\u0432 \\u043f\\u0440\\u0438\\u0440\\u043e\\u0434\\u043d\\u044b\\u0445 \\u0438\\u0445 \\u0441\\u043e\\u043e\\u0431\\u0449\\u0435\\u0441\\u0442\\u0432\\u0430\\u0445. \\u0412\\u0435\\u043b\\u0438\\u043a\\u0430 \\u0440\\u043e\\u043b\\u044c \\u0432 \\u043f\\u0440\\u0438\\u0440\\u043e\\u0434\\u0435 \\u0436\\u0438\\u0432\\u043e\\u0442\\u043d\\u044b\\u0445 \\u2014 \\u043e\\u0441\\u044b \\u0438\\u043b\\u0438 \\u0442\\u043b\\u0435\\u0439 \\u0440\\u0430\\u0441\\u0442\\u0435\\u043d\\u0438\\u0439 (\\u0440\\u0438\\u0441. 4). \\u042d\\u0442\\u043e \\u0431\\u0430\\u0431\\u043e\\u0447\\u043a\\u0438, \\u0436\\u0443\\u043a\\u0438, \\u043c\\u0443\\u0445\\u0438, \\u0448\\u043c\\u0435\\u043b\\u0438, \\u043f\\u0447\\u0451\\u043b\\u044b \\u0438 \\u0434\\u0440\\u0443\\u0433\\u0438\\u0435 \\u043e\\u0440\\u0433\\u0430\\u043d\\u0438\\u0437\\u043c\\u044b. \\u0411\\u0435\\u0437 \\u043d\\u0438\\u0445 \\u043e\\u0431\\u043b\\u0438\\u043a \\u043d\\u0430\\u0448\\u0438\\u0445 \\u043b\\u0435\\u0441\\u043e\\u0432, \\u043b\\u0443\\u0433\\u043e\\u0432, \\u043f\\u043e\\u043b\\u0435\\u0439 \\u0431\\u044b\\u043b \\u0431\\u044b \\u0441\\u043e\\u0432\\u0441\\u0435\\u043c \\u0434\\u0440\\u0443\\u0433\\u0438\\u043c. \\u041c\\u043d\\u043e\\u0433\\u0438\\u0435 \\u0436\\u0435 \\u0436\\u0438\\u0432\\u043e\\u0442\\u043d\\u044b\\u0435 \\u0440\\u0430\\u0441\\u043f\\u0440\\u043e\\u0441\\u0442\\u0440\\u0430\\u043d\\u044f\\u044e\\u0442 \\u043f\\u043b\\u043e\\u0434\\u044b \\u0438 \\u0441\\u0435\\u043c\\u0435\\u043d\\u0430 \\u0440\\u0430\\u0441\\u0442\\u0435\\u043d\\u0438\\u0439, \\u043f\\u0435\\u0440\\u0435\\u043d\\u043e\\u0441\\u044f \\u0438\\u0445 \\u043d\\u0430 \\u0448\\u0435\\u0440\\u0441\\u0442\\u0438 \\u0438 \\u043f\\u0435\\u0440\\u044c\\u044f \\u0438\\u043b\\u0438 \\u043f\\u0438\\u0442\\u0430\\u044f\\u0441\\u044c \\u0441\\u043e\\u0447\\u043d\\u044b\\u043c\\u0438 \\u043f\\u043b\\u043e\\u0434\\u0430\\u043c\\u0438. \\u041c\\u044f\\u043a\\u043e\\u0442\\u044c \\u043f\\u0435\\u0440\\u0435\\u0432\\u0430\\u0440\\u0438\\u0432\\u0430\\u0435\\u0442\\u0441\\u044f, \\u0430 \\u0441\\u0435\\u043c\\u0435\\u043d\\u0430 \\u043f\\u0440\\u043e\\u0445\\u043e\\u0434\\u044f\\u0442 \\u0447\\u0435\\u0440\\u0435\\u0437 \\u0438\\u0445 \\u044f\\u0438\\u0447\\u043d\\u0438\\u043a\\u0438 \\u0438 \\u0440\\u0430\\u0437\\u043d\\u043e\\u0441\\u044f\\u0442\\u0441\\u044f \\u043d\\u0430 \\u0431\\u043e\\u043b\\u044c\\u0448\\u0438\\u0435 \\u0440\\u0430\\u0441\\u0441\\u0442\\u043e\\u044f\\u043d\\u0438\\u044f. \\u041d\\u0435\\u043a\\u043e\\u0442\\u043e\\u0440\\u044b\\u0435 \\u0436\\u0438\\u0432\\u043e\\u0442\\u043d\\u044b\\u0435 \\u0438\\u0433\\u0440\\u0430\\u044e\\u0442 \\u043e\\u0442\\u0440\\u0438\\u0446\\u0430\\u0442\\u0435\\u043b\\u044c\\u043d\\u0443\\u044e \\u0440\\u043e\\u043b\\u044c \\u0432 \\u043f\\u0440\\u0438\\u0440\\u043e\\u0434\\u043d\\u044b\\u0445 \\u0438\\u0445 \\u0441\\u043e\\u043e\\u0431\\u0449\\u0435\\u0441\\u0442\\u0432\\u0430\\u0445. \\u041c\\u0430\\u0441\\u0441\\u043e\\u0432\\u043e\\u0435 \\u043f\\u043e\\u044f\\u0432\\u043b\\u0435\\u043d\\u0438\\u0435 \\u0433\\u0443\\u0441\\u0435\\u043d\\u0438\\u0446 \\u043d\\u0435\\u043f\\u0430\\u0440\\u043d\\u043e\\u0433\\u043e \\u0438 \\u0448\\u0435\\u043b\\u043a\\u043e\\u043f\\u0440\\u044f\\u0434\\u0430 \\u043d\\u0430\\u043d\\u043e\\u0441\\u0438\\u0442 \\u043e\\u0433\\u0440\\u043e\\u043c\\u043d\\u044b\\u0439 \\u0432\\u0440\\u0435\\u0434 \\u043b\\u0435\\u0441\\u0430\\u043c. \\u041e\\u043d\\u0438 \\u043f\\u043e\\u0435\\u0434\\u0430\\u044e\\u0442 \\u043b\\u0438\\u0441\\u0442\\u044c\\u044f, \\u043f\\u043e\\u0447\\u043a\\u0438, \\u043c\\u043e\\u043b\\u043e\\u0434\\u044b\\u0435 \\u043f\\u043e\\u0431\\u0435\\u0433\\u0438. \\u0421\\u0442\\u0430\\u0442\\u0443\\u0441 7. \\u0420\\u0438\\u0441. 4. \\u041d\\u0430\\u0441\\u0435\\u043a\\u043e\\u043c\\u044b\\u0435 \\u0438 \\u043e\\u043f\\u044b\\u043b\\u0438\\u0442\\u0435\\u043b\\u0438 \\u0440\\u0430\\u0441\\u0442\\u0435\\u043d\\u0438\\u0439 \\u0430\\u0437\\u0438\\u0430\\u0442\\u0441\\u043a\\u043e\\u0439 \\u043f\\u0435\\u0440\\u0435\\u043b\\u0451\\u0442\\u043d\\u043e\\u0439 \\u0441\\u0430\\u0440\\u0430\\u043d\\u0447\\u0438 (\\u0440\\u0438\\u0441. 5) \\u0443\\u043d\\u0438\\u0447\\u0442\\u043e\\u0436\\u0430\\u044e\\u0442 \\u0438 \\u0440\\u0430\\u0441\\u0442\\u0438\\u0442\\u0435\\u043b\\u044c\\u043d\\u043e\\u0441\\u0442\\u044c \\u043d\\u0430 \\u043e\\u0433\\u0440\\u043e\\u043c\\u043d\\u044b\\u0445 \\u043f\\u043b\\u043e\\u0449\\u0430\\u0434\\u044f\\u0445, \\u0434\\u0430\\u0436\\u0435 \\u0434\\u043b\\u044f \\u043f\\u0438\\u0449\\u0438 \\u0434\\u0440\\u0443\\u0433\\u0438\\u0435 \\u0440\\u0430\\u0441\\u0442\\u0438\\u0442\\u0435\\u043b\\u044c\\u043d\\u043e\\u044f\\u0434\\u043d\\u044b\\u0435 \\u043e\\u0440\\u0433\\u0430\\u043d\\u0438\\u0437\\u043c\\u044b. \\u0415\\u0441\\u0442\\u044c \\u0436\\u0438\\u0432\\u043e\\u0442\\u043d\\u044b\\u0435, \\u0432\\u044b\\u0437\\u044b\\u0432\\u0430\\u044e\\u0449\\u0438\\u0435 \\u0438 \\u0442\\u0435 \\u0431\\u043e\\u043b\\u0435\\u0437\\u043d\\u0438 \\u0443 \\u0440\\u0430\\u0441\\u0442\\u0435\\u043d\\u0438\\u0439, \\u0434\\u0440\\u0443\\u0433\\u0438\\u0445 \\u0436\\u0438\\u0432\\u043e\\u0442\\u043d\\u044b\\u0445 \\u0438 \\u0443 \\u0447\\u0435\\u043b\\u043e\\u0432\\u0435\\u043a\\u0430. \\u041e\\u0442\\u0434\\u0435\\u043b\\u044c\\u043d\\u044b\\u0435 \\u0436\\u0438\\u0432\\u043e\\u0442\\u043d\\u044b\\u0435, \\u043d\\u0430\\u043e\\u0431\\u043e\\u0440\\u043e\\u0442, \\u0441\\u043d\\u0438\\u0436\\u0430\\u044e\\u0442 \\u0447\\u0438\\u0441\\u043b\\u043e \\u0432\\u0440\\u0435\\u0434\\u0438\\u0442\\u0435\\u043b\\u0435\\u0439 \\u043b\\u0435\\u0441\\u043d\\u044b\\u0445 \\u0438 \\u043a\\u0443\\u043b\\u044c\\u0442\\u0443\\u0440\\u043d\\u044b\\u0445 \\u0440\\u0430\\u0441\\u0442\\u0435\\u043d\\u0438\\u0439, \\u043f\\u0438\\u0442\\u0430\\u044f\\u0441\\u044c \\u0438\\u043c\\u0438. \\u0411\\u043e\\u043b\\u044c\\u0448\\u0443\\u044e \\u0446\\u0435\\u043d\\u043d\\u043e\\u0441\\u0442\\u044c \\u0434\\u043b\\u044f \\u0447\\u0435\\u043b\\u043e\\u0432\\u0435\\u043a\\u0430 \\u0438\\u043c\\u0435\\u044e\\u0442 \\u0434\\u0438\\u043a\\u0438\\u0435 \\u0436\\u0438\\u0432\\u043e\\u0442\\u043d\\u044b\\u0435 \\u043a\\u0430\\u043a \\u043e\\u0431\\u044a\\u0435\\u043a\\u0442\\u044b \\u043e\\u0445\\u043e\\u0442\\u044b. \\u0417\\u043d\\u0430\\u0447\\u0438\\u0442\\u0435\\u043b\\u044c\\u043d\\u0443\\u044e \\u0447\\u0430\\u0441\\u0442\\u044c \\u0431\\u0435\\u043b\\u043a\\u043e\\u0432\\u043e\\u0439 \\u043f\\u0438\\u0449\\u0438 \\u0447\\u0435\\u043b\\u043e\\u0432\\u0435\\u043a \\u043f\\u043e\\u043b\\u0443\\u0447\\u0430\\u0435\\u0442 \\u0437\\u0430 \\u0441\\u0447\\u0451\\u0442 \\u0432\\u043e\\u0434\\u044b, \\u043b\\u043e\\u0432\\u0430 \\u0440\\u044b\\u0431\\u044b \\u0432 \\u043c\\u043e\\u0440\\u044f\\u0445 \\u0438 \\u043e\\u043a\\u0435\\u0430\\u043d\\u0430\\u0445, \\u043f\\u0440\\u043e\\u043c\\u044b\\u0441\\u043b\\u0430 \\u043c\\u043e\\u0440\\u0441\\u043a\\u043e\\u0433\\u043e \\u0437\\u0432\\u0435\\u0440\\u044f, \\u043e\\u0445\\u043e\\u0442\\u044b \\u043d\\u0430 \\u043a\\u0430\\u0431\\u0430\\u043d\\u043e\\u0432, \\u043a\\u043e\\u0440\\u043e\\u0432, \\u043e\\u043b\\u0435\\u043d\\u0435\\u0439, \\u0432\\u043e\\u0434\\u043e\\u043f\\u043b\\u0430\\u0432\\u0430\\u044e\\u0449\\u0438\\u0445 \\u0438 \\u043b\\u0435\\u0441\\u043d\\u044b\\u0445 \\u043f\\u0442\\u0438\\u0446. \\u0418\\u0441\\u043a\\u043b\\u044e\\u0447\\u0438\\u0442\\u0435\\u043b\\u044c\\u043d\\u043e \\u0432\\u0430\\u0436\\u043d\\u043e\\u0435 \\u0437\\u043d\\u0430\\u0447\\u0435\\u043d\\u0438\\u0435 \\u0434\\u043b\\u044f \\u043b\\u044e\\u0434\\u0435\\u0439 \\u0438\\u043c\\u0435\\u044e\\u0442 \\u0434\\u043e\\u043c\\u0430\\u0448\\u043d\\u0438\\u0435 \\u0436\\u0438\\u0432\\u043e\\u0442\\u043d\\u044b\\u0435 - \\u043c\\u044b \\u043f\\u043e\\u043b\\u0443\\u0447\\u0430\\u0435\\u043c \\u043e\\u0442 \\u043d\\u0438\\u0445 \\u043f\\u0440\\u043e\\u0434\\u0443\\u043a\\u0442\\u044b \\u043f\\u0438\\u0442\\u0430\\u043d\\u0438\\u044f (\\u043c\\u043e\\u043b\\u043e\\u043a\\u043e, \\u044f\\u0439\\u0446\\u0430, \\u043c\\u0451\\u0434), \\u0448\\u0435\\u0440\\u0441\\u0442\\u044c, \\u043f\\u0443\\u0445, \\u043a\\u043e\\u0436\\u0443, \\u0448\\u0451\\u043b\\u043a. \\u0414\\u043e\\u043c\\u0430\\u0448\\u043d\\u0438\\u0435 \\u0436\\u0435 \\u0436\\u0438\\u0432\\u043e\\u0442\\u043d\\u044b\\u0435 \\u0432\\u044b\\u043f\\u043e\\u043b\\u043d\\u044f\\u044e\\u0442 \\u0438 \\u0440\\u0430\\u0437\\u043b\\u0438\\u0447\\u043d\\u0443\\u044e \\u0440\\u0430\\u0431\\u043e\\u0442\\u0443 \\u0432 \\u0441\\u0435\\u043b\\u044c\\u0441\\u043a\\u043e\\u043c \\u0445\\u043e\\u0437\\u044f\\u0439\\u0441\\u0442\\u0432\\u0435, \\u0441\\u043b\\u0443\\u0436\\u0430\\u0442 \\u043d\\u0430\\u043c \\u0442\\u0440\\u0430\\u043d\\u0441\\u043f\\u043e\\u0440\\u0442\\u043d\\u044b\\u043c\\u0438 \\u0441\\u0440\\u0435\\u0434\\u0441\\u0442\\u0432\\u0430\\u043c\\u0438. \\u0414\\u0435\\u043a\\u043e\\u0440\\u0430\\u0442\\u0438\\u0432\\u043d\\u044b\\u0435 \\u0436\\u0438\\u0432\\u043e\\u0442\\u043d\\u044b\\u0435 - \\u0436\\u0438\\u0432\\u0443\\u0442 \\u0432\\u043c\\u0435\\u0441\\u0442\\u0435 \\u0441 \\u0447\\u0435\\u043b\\u043e\\u0432\\u0435\\u043a\\u043e\\u043c \\u0432 \\u043a\\u0432\\u0430\\u0440\\u0442\\u0438\\u0440\\u0430\\u0445 \\u0438 \\u0434\\u043e\\u043c\\u0430\\u0445, \\u0441\\u043f\\u0440\\u0430\\u0448\\u0438\\u0432\\u0430\\u044f \\u043e \\u0434\\u0440\\u0443\\u0433\\u0435 \\u0433\\u043e\\u0440\\u043e\\u0436\\u0430\\u043d. \\u0411\\u043e\\u043b\\u044c\\u0448\\u0438\\u043d\\u0441\\u0442\\u0432\\u043e \\u0434\\u043e\\u043c\\u043e\\u0432. \\u0420\\u0438\\u0441. 5. \\u0410\\u0437\\u0438\\u0430\\u0442\\u0441\\u043a\\u0430\\u044f \\u043f\\u0435\\u0440\\u0435\\u043b\\u0451\\u0442\\u043d\\u0430\\u044f - \\u0433\\u0435\\u043d\\u043d\\u044b\\u0445 \\u0436\\u0438\\u0432\\u043e\\u0442\\u043d\\u044b\\u0445 - \\u044d\\u0442\\u043e \\u043c\\u043b\\u0435\\u043a\\u043e\\u043f\\u0438\\u0442\\u0430\\u044e\\u0449\\u0438\\u0435, \\u0441\\u0430\\u0440\\u0430\\u043d\\u0447\\u0430, \\u043b\\u0430\\u044e\\u0449\\u0438\\u0435 \\u0438 \\u043f\\u0442\\u0438\\u0446\\u044b. \\u0421\\u043e\\u0432\\u0440\\u0435\\u043c\\u0435\\u043d\\u043d\\u0430\\u044f \\u0437\\u043e\\u043e\\u043b\\u043e\\u0433\\u0438\\u044f - \\u044d\\u0442\\u043e \\u0441\\u0438\\u0441\\u0442\\u0435\\u043c\\u0430 \\u043d\\u0430\\u0443\\u043a, \\u0438\\u043c\\u0435\\u044e\\u0449\\u0438\\u0445 \\u0432\\u0430\\u0436\\u043d\\u043e\\u0435 \\u0442\\u0435\\u043e\\u0440. - \\u0442\\u0435\\u0445\\u043d\\u0438\\u0447\\u0435\\u0441\\u043a\\u043e\\u0435 \\u0438 \\u043f\\u0440\\u0430\\u043a\\u0442\\u0438\\u0447\\u0435\\u0441\\u043a\\u043e\\u0435 \\u0437\\u043d\\u0430\\u0447\\u0435\\u043d\\u0438\\u0435. \\u0417\\u043e\\u043e\\u043b\\u043e\\u0433\\u0438\\u044f, \\u043c\\u043e\\u0440\\u0444\\u043e\\u043b\\u043e\\u0433\\u0438\\u044f, \\u0430\\u043d\\u0430\\u0442\\u043e\\u043c\\u0438\\u044f, \\u0444\\u0438\\u0437\\u0438\\u043e\\u043b\\u043e\\u0433\\u0438\\u044f, \\u044d\\u043a\\u043e\\u043b\\u043e\\u0433\\u0438\\u044f, \\u0430 \\u0442\\u0430\\u043a\\u0436\\u0435 \\u043e\\u043d\\u0442\\u043e\\u043b\\u043e\\u0433\\u0438\\u044f, \\u044d\\u0442\\u043e\\u043b\\u043e\\u0433\\u0438\\u044f, \\u043e\\u043f\\u044b\\u043b\\u0438\\u0442\\u0435\\u043b\\u0438 \"\n        ],\n        \"semantic_type\": \"\",\n        \"description\": \"\"\n      }\n    },\n    {\n      \"column\": \"\\u0423\\u0447\\u0435\\u0431\\u043d\\u0438\\u043a\",\n      \"properties\": {\n        \"dtype\": \"string\",\n        \"num_unique_values\": 1,\n        \"samples\": [\n          \"\\u0411\\u0438\\u043e\\u043b\\u043e\\u0433\\u0438\\u044f 7 \\u043a\\u043b. \\u0423\\u0447\\u0435\\u0431\\u043d\\u0438\\u043a \\u0434\\u043b\\u044f \\u0443\\u0447\\u0430\\u0449\\u0438\\u0445\\u0441\\u044f \\u043e\\u0431\\u0449\\u0435\\u043e\\u0431\\u0440\\u0430\\u0437\\u043e\\u0432\\u0430\\u0442\\u0435\\u043b\\u044c\\u043d\\u044b\\u0445 \\u043e\\u0440\\u0433\\u0430\\u043d\\u0438\\u0437\\u0430\\u0446\\u0438\\u0439 \\u0412.\\u041c. \\u041a\\u043e\\u043d\\u0441\\u0442\\u0430\\u043d\\u0442\\u0438\\u043d\\u043e\\u0432, \\u0412.\\u0413. \\u0411\\u0430\\u0431\\u0435\\u043d\\u043a\\u043e, B.C. \\u041a\\u0443\\u0447\\u043c\\u0435\\u043d\\u043a\\u043e. \\u2014 5-\\u0435 \\u0438\\u0437\\u0434., \\u043f\\u0435\\u0440\\u0435\\u0440\\u0430\\u0431. \\u2014 \\u041c. ;  \\u0412\\u0435\\u043d\\u0442\\u0430\\u043d\\u0430-\\u0413\\u0440\\u0430\\u0444 2016\"\n        ],\n        \"semantic_type\": \"\",\n        \"description\": \"\"\n      }\n    },\n    {\n      \"column\": \"\\u041f\\u0440\\u0435\\u0434\\u043c\\u0435\\u0442\",\n      \"properties\": {\n        \"dtype\": \"string\",\n        \"num_unique_values\": 1,\n        \"samples\": [\n          \"\\u0411\\u0438\\u043e\\u043b\\u043e\\u0433\\u0438\\u044f\"\n        ],\n        \"semantic_type\": \"\",\n        \"description\": \"\"\n      }\n    },\n    {\n      \"column\": \"\\u041a\\u043b\\u0430\\u0441\\u0441\",\n      \"properties\": {\n        \"dtype\": \"number\",\n        \"std\": null,\n        \"min\": 7,\n        \"max\": 7,\n        \"num_unique_values\": 1,\n        \"samples\": [\n          7\n        ],\n        \"semantic_type\": \"\",\n        \"description\": \"\"\n      }\n    },\n    {\n      \"column\": \"\\u0413\\u043b\\u0430\\u0432\\u0430\",\n      \"properties\": {\n        \"dtype\": \"string\",\n        \"num_unique_values\": 1,\n        \"samples\": [\n          \"\\u0413\\u043b\\u0430\\u0432\\u0430 1.  \\u041e\\u0431\\u0449\\u0438\\u0435 \\u0441\\u0432\\u0435\\u0434\\u0435\\u043d\\u0438\\u044f \\u043e \\u043c\\u0438\\u0440\\u0435 \\u0436\\u0438\\u0432\\u043e\\u0442\\u043d\\u044b\\u0445\"\n        ],\n        \"semantic_type\": \"\",\n        \"description\": \"\"\n      }\n    },\n    {\n      \"column\": \"\\u041f\\u0430\\u0440\\u0430\\u0433\\u0440\\u0430\\u0444\",\n      \"properties\": {\n        \"dtype\": \"string\",\n        \"num_unique_values\": 1,\n        \"samples\": [\n          \"\\u00a7 1. \\u0417\\u043e\\u043e\\u043b\\u043e\\u0433\\u0438\\u044f \\u2014 \\u043d\\u0430\\u0443\\u043a\\u0430 \\u043e \\u0436 \\u0438 \\u0432\\u043e\\u0442\\u043d \\u044b \\u0445 \"\n        ],\n        \"semantic_type\": \"\",\n        \"description\": \"\"\n      }\n    },\n    {\n      \"column\": \"\\u041a\\u043b\\u044e\\u0447\\u0435\\u0432\\u044b\\u0435 \\u0441\\u043b\\u043e\\u0432\\u0430\",\n      \"properties\": {\n        \"dtype\": \"string\",\n        \"num_unique_values\": 1,\n        \"samples\": [\n          \"\\u0417\\u043e\\u043e\\u043b\\u043e\\u0433\\u0438\\u044f, \\u043c\\u043e\\u0440\\u0444\\u043e\\u043b\\u043e\\u0433\\u0438\\u044f, \\u0430\\u043d\\u0430\\u0442\\u043e\\u043c\\u0438\\u044f, \\u0444\\u0438\\u0437\\u0438\\u043e\\u043b\\u043e\\u0433\\u0438\\u044f, \\u044d\\u043a\\u043e\\u043b\\u043e\\u0433\\u0438\\u044f, \\u043f\\u0430\\u043b\\u0435\\u043e\\u043d\\u0442\\u043e\\u043b\\u043e\\u0433\\u0438\\u044f, \\u044d\\u0442\\u043e\\u043b\\u043e\\u0433\\u0438\\u044f, \\u043e\\u043f\\u044b\\u043b\\u0438\\u0442\\u0435\\u043b\\u0438.\"\n        ],\n        \"semantic_type\": \"\",\n        \"description\": \"\"\n      }\n    }\n  ]\n}"
            }
          },
          "metadata": {},
          "execution_count": 121
        }
      ]
    },
    {
      "cell_type": "code",
      "source": [
        "# Поменяем местами колонки\n",
        "cols = list(df_ch_1.columns)\n",
        "a, b, c, d, e, f, g = cols.index('Текст'), cols.index('Учебник'), cols.index('Предмет'), cols.index('Класс'), cols.index('Глава'), cols.index('Параграф'), cols.index('Ключевые слова')\n",
        "cols[a], cols[b], cols[c], cols[d], cols[e], cols[f], cols[g] = cols[b], cols[c], cols[d], cols[e], cols[f], cols[a], cols[g]\n",
        "df_ch_1 = df_ch_1[cols]"
      ],
      "metadata": {
        "id": "XMc7Hr4v-FAO"
      },
      "execution_count": null,
      "outputs": []
    },
    {
      "cell_type": "code",
      "source": [
        "df_ch_1"
      ],
      "metadata": {
        "colab": {
          "base_uri": "https://localhost:8080/",
          "height": 115
        },
        "id": "I9Mw-cabDI8t",
        "outputId": "6c7f850c-bcc5-4d0d-9abf-219610c52f1e"
      },
      "execution_count": null,
      "outputs": [
        {
          "output_type": "execute_result",
          "data": {
            "text/plain": [
              "                                             Учебник   Предмет  Класс  \\\n",
              "0  Биология 7 кл. Учебник для учащихся общеобразо...  Биология      7   \n",
              "\n",
              "                                      Глава  \\\n",
              "0  Глава 1.  Общие сведения о мире животных   \n",
              "\n",
              "                                Параграф  \\\n",
              "0  § 1. Зоология — наука о ж и вотн ы х    \n",
              "\n",
              "                                               Текст  \\\n",
              "0  Глава 1 ____________ О б и е с в е д е н и я о...   \n",
              "\n",
              "                                      Ключевые слова  \n",
              "0  Зоология, морфология, анатомия, физиология, эк...  "
            ],
            "text/html": [
              "\n",
              "  <div id=\"df-da12b2d1-65a3-4975-b3bb-44c4e392c5b4\" class=\"colab-df-container\">\n",
              "    <div>\n",
              "<style scoped>\n",
              "    .dataframe tbody tr th:only-of-type {\n",
              "        vertical-align: middle;\n",
              "    }\n",
              "\n",
              "    .dataframe tbody tr th {\n",
              "        vertical-align: top;\n",
              "    }\n",
              "\n",
              "    .dataframe thead th {\n",
              "        text-align: right;\n",
              "    }\n",
              "</style>\n",
              "<table border=\"1\" class=\"dataframe\">\n",
              "  <thead>\n",
              "    <tr style=\"text-align: right;\">\n",
              "      <th></th>\n",
              "      <th>Учебник</th>\n",
              "      <th>Предмет</th>\n",
              "      <th>Класс</th>\n",
              "      <th>Глава</th>\n",
              "      <th>Параграф</th>\n",
              "      <th>Текст</th>\n",
              "      <th>Ключевые слова</th>\n",
              "    </tr>\n",
              "  </thead>\n",
              "  <tbody>\n",
              "    <tr>\n",
              "      <th>0</th>\n",
              "      <td>Биология 7 кл. Учебник для учащихся общеобразо...</td>\n",
              "      <td>Биология</td>\n",
              "      <td>7</td>\n",
              "      <td>Глава 1.  Общие сведения о мире животных</td>\n",
              "      <td>§ 1. Зоология — наука о ж и вотн ы х</td>\n",
              "      <td>Глава 1 ____________ О б и е с в е д е н и я о...</td>\n",
              "      <td>Зоология, морфология, анатомия, физиология, эк...</td>\n",
              "    </tr>\n",
              "  </tbody>\n",
              "</table>\n",
              "</div>\n",
              "    <div class=\"colab-df-buttons\">\n",
              "\n",
              "  <div class=\"colab-df-container\">\n",
              "    <button class=\"colab-df-convert\" onclick=\"convertToInteractive('df-da12b2d1-65a3-4975-b3bb-44c4e392c5b4')\"\n",
              "            title=\"Convert this dataframe to an interactive table.\"\n",
              "            style=\"display:none;\">\n",
              "\n",
              "  <svg xmlns=\"http://www.w3.org/2000/svg\" height=\"24px\" viewBox=\"0 -960 960 960\">\n",
              "    <path d=\"M120-120v-720h720v720H120Zm60-500h600v-160H180v160Zm220 220h160v-160H400v160Zm0 220h160v-160H400v160ZM180-400h160v-160H180v160Zm440 0h160v-160H620v160ZM180-180h160v-160H180v160Zm440 0h160v-160H620v160Z\"/>\n",
              "  </svg>\n",
              "    </button>\n",
              "\n",
              "  <style>\n",
              "    .colab-df-container {\n",
              "      display:flex;\n",
              "      gap: 12px;\n",
              "    }\n",
              "\n",
              "    .colab-df-convert {\n",
              "      background-color: #E8F0FE;\n",
              "      border: none;\n",
              "      border-radius: 50%;\n",
              "      cursor: pointer;\n",
              "      display: none;\n",
              "      fill: #1967D2;\n",
              "      height: 32px;\n",
              "      padding: 0 0 0 0;\n",
              "      width: 32px;\n",
              "    }\n",
              "\n",
              "    .colab-df-convert:hover {\n",
              "      background-color: #E2EBFA;\n",
              "      box-shadow: 0px 1px 2px rgba(60, 64, 67, 0.3), 0px 1px 3px 1px rgba(60, 64, 67, 0.15);\n",
              "      fill: #174EA6;\n",
              "    }\n",
              "\n",
              "    .colab-df-buttons div {\n",
              "      margin-bottom: 4px;\n",
              "    }\n",
              "\n",
              "    [theme=dark] .colab-df-convert {\n",
              "      background-color: #3B4455;\n",
              "      fill: #D2E3FC;\n",
              "    }\n",
              "\n",
              "    [theme=dark] .colab-df-convert:hover {\n",
              "      background-color: #434B5C;\n",
              "      box-shadow: 0px 1px 3px 1px rgba(0, 0, 0, 0.15);\n",
              "      filter: drop-shadow(0px 1px 2px rgba(0, 0, 0, 0.3));\n",
              "      fill: #FFFFFF;\n",
              "    }\n",
              "  </style>\n",
              "\n",
              "    <script>\n",
              "      const buttonEl =\n",
              "        document.querySelector('#df-da12b2d1-65a3-4975-b3bb-44c4e392c5b4 button.colab-df-convert');\n",
              "      buttonEl.style.display =\n",
              "        google.colab.kernel.accessAllowed ? 'block' : 'none';\n",
              "\n",
              "      async function convertToInteractive(key) {\n",
              "        const element = document.querySelector('#df-da12b2d1-65a3-4975-b3bb-44c4e392c5b4');\n",
              "        const dataTable =\n",
              "          await google.colab.kernel.invokeFunction('convertToInteractive',\n",
              "                                                    [key], {});\n",
              "        if (!dataTable) return;\n",
              "\n",
              "        const docLinkHtml = 'Like what you see? Visit the ' +\n",
              "          '<a target=\"_blank\" href=https://colab.research.google.com/notebooks/data_table.ipynb>data table notebook</a>'\n",
              "          + ' to learn more about interactive tables.';\n",
              "        element.innerHTML = '';\n",
              "        dataTable['output_type'] = 'display_data';\n",
              "        await google.colab.output.renderOutput(dataTable, element);\n",
              "        const docLink = document.createElement('div');\n",
              "        docLink.innerHTML = docLinkHtml;\n",
              "        element.appendChild(docLink);\n",
              "      }\n",
              "    </script>\n",
              "  </div>\n",
              "\n",
              "\n",
              "  <div id=\"id_dc31300e-f088-4136-97db-0f218b6e3e18\">\n",
              "    <style>\n",
              "      .colab-df-generate {\n",
              "        background-color: #E8F0FE;\n",
              "        border: none;\n",
              "        border-radius: 50%;\n",
              "        cursor: pointer;\n",
              "        display: none;\n",
              "        fill: #1967D2;\n",
              "        height: 32px;\n",
              "        padding: 0 0 0 0;\n",
              "        width: 32px;\n",
              "      }\n",
              "\n",
              "      .colab-df-generate:hover {\n",
              "        background-color: #E2EBFA;\n",
              "        box-shadow: 0px 1px 2px rgba(60, 64, 67, 0.3), 0px 1px 3px 1px rgba(60, 64, 67, 0.15);\n",
              "        fill: #174EA6;\n",
              "      }\n",
              "\n",
              "      [theme=dark] .colab-df-generate {\n",
              "        background-color: #3B4455;\n",
              "        fill: #D2E3FC;\n",
              "      }\n",
              "\n",
              "      [theme=dark] .colab-df-generate:hover {\n",
              "        background-color: #434B5C;\n",
              "        box-shadow: 0px 1px 3px 1px rgba(0, 0, 0, 0.15);\n",
              "        filter: drop-shadow(0px 1px 2px rgba(0, 0, 0, 0.3));\n",
              "        fill: #FFFFFF;\n",
              "      }\n",
              "    </style>\n",
              "    <button class=\"colab-df-generate\" onclick=\"generateWithVariable('df_ch_1')\"\n",
              "            title=\"Generate code using this dataframe.\"\n",
              "            style=\"display:none;\">\n",
              "\n",
              "  <svg xmlns=\"http://www.w3.org/2000/svg\" height=\"24px\"viewBox=\"0 0 24 24\"\n",
              "       width=\"24px\">\n",
              "    <path d=\"M7,19H8.4L18.45,9,17,7.55,7,17.6ZM5,21V16.75L18.45,3.32a2,2,0,0,1,2.83,0l1.4,1.43a1.91,1.91,0,0,1,.58,1.4,1.91,1.91,0,0,1-.58,1.4L9.25,21ZM18.45,9,17,7.55Zm-12,3A5.31,5.31,0,0,0,4.9,8.1,5.31,5.31,0,0,0,1,6.5,5.31,5.31,0,0,0,4.9,4.9,5.31,5.31,0,0,0,6.5,1,5.31,5.31,0,0,0,8.1,4.9,5.31,5.31,0,0,0,12,6.5,5.46,5.46,0,0,0,6.5,12Z\"/>\n",
              "  </svg>\n",
              "    </button>\n",
              "    <script>\n",
              "      (() => {\n",
              "      const buttonEl =\n",
              "        document.querySelector('#id_dc31300e-f088-4136-97db-0f218b6e3e18 button.colab-df-generate');\n",
              "      buttonEl.style.display =\n",
              "        google.colab.kernel.accessAllowed ? 'block' : 'none';\n",
              "\n",
              "      buttonEl.onclick = () => {\n",
              "        google.colab.notebook.generateWithVariable('df_ch_1');\n",
              "      }\n",
              "      })();\n",
              "    </script>\n",
              "  </div>\n",
              "\n",
              "    </div>\n",
              "  </div>\n"
            ],
            "application/vnd.google.colaboratory.intrinsic+json": {
              "type": "dataframe",
              "variable_name": "df_ch_1",
              "summary": "{\n  \"name\": \"df_ch_1\",\n  \"rows\": 1,\n  \"fields\": [\n    {\n      \"column\": \"\\u0423\\u0447\\u0435\\u0431\\u043d\\u0438\\u043a\",\n      \"properties\": {\n        \"dtype\": \"string\",\n        \"num_unique_values\": 1,\n        \"samples\": [\n          \"\\u0411\\u0438\\u043e\\u043b\\u043e\\u0433\\u0438\\u044f 7 \\u043a\\u043b. \\u0423\\u0447\\u0435\\u0431\\u043d\\u0438\\u043a \\u0434\\u043b\\u044f \\u0443\\u0447\\u0430\\u0449\\u0438\\u0445\\u0441\\u044f \\u043e\\u0431\\u0449\\u0435\\u043e\\u0431\\u0440\\u0430\\u0437\\u043e\\u0432\\u0430\\u0442\\u0435\\u043b\\u044c\\u043d\\u044b\\u0445 \\u043e\\u0440\\u0433\\u0430\\u043d\\u0438\\u0437\\u0430\\u0446\\u0438\\u0439 \\u0412.\\u041c. \\u041a\\u043e\\u043d\\u0441\\u0442\\u0430\\u043d\\u0442\\u0438\\u043d\\u043e\\u0432, \\u0412.\\u0413. \\u0411\\u0430\\u0431\\u0435\\u043d\\u043a\\u043e, B.C. \\u041a\\u0443\\u0447\\u043c\\u0435\\u043d\\u043a\\u043e. \\u2014 5-\\u0435 \\u0438\\u0437\\u0434., \\u043f\\u0435\\u0440\\u0435\\u0440\\u0430\\u0431. \\u2014 \\u041c. ;  \\u0412\\u0435\\u043d\\u0442\\u0430\\u043d\\u0430-\\u0413\\u0440\\u0430\\u0444 2016\"\n        ],\n        \"semantic_type\": \"\",\n        \"description\": \"\"\n      }\n    },\n    {\n      \"column\": \"\\u041f\\u0440\\u0435\\u0434\\u043c\\u0435\\u0442\",\n      \"properties\": {\n        \"dtype\": \"string\",\n        \"num_unique_values\": 1,\n        \"samples\": [\n          \"\\u0411\\u0438\\u043e\\u043b\\u043e\\u0433\\u0438\\u044f\"\n        ],\n        \"semantic_type\": \"\",\n        \"description\": \"\"\n      }\n    },\n    {\n      \"column\": \"\\u041a\\u043b\\u0430\\u0441\\u0441\",\n      \"properties\": {\n        \"dtype\": \"number\",\n        \"std\": null,\n        \"min\": 7,\n        \"max\": 7,\n        \"num_unique_values\": 1,\n        \"samples\": [\n          7\n        ],\n        \"semantic_type\": \"\",\n        \"description\": \"\"\n      }\n    },\n    {\n      \"column\": \"\\u0413\\u043b\\u0430\\u0432\\u0430\",\n      \"properties\": {\n        \"dtype\": \"string\",\n        \"num_unique_values\": 1,\n        \"samples\": [\n          \"\\u0413\\u043b\\u0430\\u0432\\u0430 1.  \\u041e\\u0431\\u0449\\u0438\\u0435 \\u0441\\u0432\\u0435\\u0434\\u0435\\u043d\\u0438\\u044f \\u043e \\u043c\\u0438\\u0440\\u0435 \\u0436\\u0438\\u0432\\u043e\\u0442\\u043d\\u044b\\u0445\"\n        ],\n        \"semantic_type\": \"\",\n        \"description\": \"\"\n      }\n    },\n    {\n      \"column\": \"\\u041f\\u0430\\u0440\\u0430\\u0433\\u0440\\u0430\\u0444\",\n      \"properties\": {\n        \"dtype\": \"string\",\n        \"num_unique_values\": 1,\n        \"samples\": [\n          \"\\u00a7 1. \\u0417\\u043e\\u043e\\u043b\\u043e\\u0433\\u0438\\u044f \\u2014 \\u043d\\u0430\\u0443\\u043a\\u0430 \\u043e \\u0436 \\u0438 \\u0432\\u043e\\u0442\\u043d \\u044b \\u0445 \"\n        ],\n        \"semantic_type\": \"\",\n        \"description\": \"\"\n      }\n    },\n    {\n      \"column\": \"\\u0422\\u0435\\u043a\\u0441\\u0442\",\n      \"properties\": {\n        \"dtype\": \"string\",\n        \"num_unique_values\": 1,\n        \"samples\": [\n          \"\\u0413\\u043b\\u0430\\u0432\\u0430 1 ____________ \\u041e \\u0431 \\u0438 \\u0435 \\u0441 \\u0432 \\u0435 \\u0434 \\u0435 \\u043d \\u0438 \\u044f \\u043e \\u043c \\u0438 \\u0440 \\u0435 \\u0436 \\u0438 \\u0432 \\u043e \\u0442 \\u043d \\u044b \\u0445. 1 \\u0417\\u043e\\u043e\\u043b\\u043e\\u0433\\u0438\\u044f \\u2014 \\u043d\\u0430\\u0443\\u043a\\u0430 \\u043e \\u0436\\u0438\\u0432\\u043e\\u0442\\u043d\\u044b\\u0445 \\u2014 \\u0412\\u044b \\u0443\\u0437\\u043d\\u0430\\u0435\\u0442\\u0435: \\u00ad \\u043a\\u0430\\u043a\\u0438\\u0435 \\u043d\\u0430\\u0443\\u043a\\u0438 \\u0432\\u0445\\u043e\\u0434\\u044f\\u0442 \\u0432 \\u0441\\u043e\\u0441\\u0442\\u0430\\u0432 \\u0437\\u043e\\u043e\\u043b\\u043e\\u0433\\u0438\\u0438; \\u00ad \\u043a\\u0430\\u043a\\u043e\\u0432\\u044b \\u043e\\u0431\\u0449\\u0438\\u0435 \\u0441\\u0432\\u043e\\u0439\\u0441\\u0442\\u0432\\u0430 \\u043e\\u0431\\u044a\\u0435\\u043a\\u0442\\u043e\\u0432, \\u0438\\u0437\\u0443\\u0447\\u0430\\u0435\\u043c\\u044b\\u0445 \\u0437\\u043e\\u043e\\u043b\\u043e\\u0433\\u0438\\u0435\\u0439; \\u00ad \\u043f\\u043e \\u043a\\u0430\\u043a\\u0438\\u043c \\u043f\\u0440\\u0438\\u0437\\u043d\\u0430\\u043a\\u0430\\u043c \\u0436\\u0438\\u0432\\u043e\\u0442\\u043d\\u044b\\u0435 \\u043e\\u0442\\u043b\\u0438\\u0447\\u0430\\u044e\\u0442\\u0441\\u044f \\u043e\\u0442 \\u0440\\u0430\\u0441\\u0442\\u0435\\u043d\\u0438\\u0439. \\u0412\\u0441\\u043f\\u043e\\u043c\\u043d\\u0438\\u0442\\u0435: \\u00ad \\u043a\\u0430\\u043a\\u043e\\u0432\\u044b \\u043e\\u0431\\u0449\\u0438\\u0435 \\u043f\\u0440\\u0438\\u0437\\u043d\\u0430\\u043a\\u0438 \\u0440\\u0430\\u0441\\u0442\\u0435\\u043d\\u0438\\u0439? \\u0412\\u0432\\u0435\\u0434\\u0435\\u043d\\u0438\\u0435: \\u0412 \\u043f\\u0440\\u0435\\u0434\\u044b\\u0434\\u0443\\u0449\\u0438\\u0445 \\u0438\\u0445 \\u043a\\u043b\\u0430\\u0441\\u0441\\u0430\\u0445 \\u0432\\u044b \\u043f\\u043e\\u0437\\u043d\\u0430\\u043a\\u043e\\u043c\\u0438\\u043b\\u0438\\u0441\\u044c \\u0441 \\u043f\\u0440\\u0435\\u0434\\u0441\\u0442\\u0430\\u0432\\u0438\\u0442\\u0435\\u043b\\u044f\\u043c\\u0438 \\u0442\\u0440\\u0451\\u0445 \\u0446\\u0430\\u0440\\u0441\\u0442\\u0432: \\u0411\\u0430\\u043a\\u0442\\u0435\\u0440\\u0438\\u0438, \\u0413\\u0440\\u0438\\u0431\\u044b, \\u0420\\u0430\\u0441\\u0442\\u0435\\u043d\\u0438\\u044f. \\u0422\\u0435\\u043f\\u0435\\u0440\\u044c \\u0432\\u044b \\u043f\\u0440\\u0438\\u0441\\u0442\\u0443\\u043f\\u0430\\u0435\\u0442\\u0435 \\u043a \\u0438\\u0437\\u0443\\u0447\\u0435\\u043d\\u0438\\u044e \\u043d\\u043e\\u0432\\u043e\\u0433\\u043e \\u0446\\u0430\\u0440\\u0441\\u0442\\u0432\\u0430 \\u0436\\u0438\\u0432\\u044b\\u0445 \\u043e\\u0440\\u0433\\u0430\\u043d\\u0438\\u0437\\u043c\\u043e\\u0432 \\u2014 \\u0416\\u0438\\u0432\\u043e\\u0442\\u043d\\u044b\\u0435. \\u0420\\u0430\\u0437\\u0434\\u0435\\u043b \\u0431\\u0438\\u043e\\u043b\\u043e\\u0433\\u0438\\u0438, \\u043f\\u043e\\u0441\\u0432\\u044f\\u0449\\u0451\\u043d\\u043d\\u044b\\u0439 \\u0438\\u0437\\u0443\\u0447\\u0435\\u043d\\u0438\\u044e \\u0436\\u0438\\u0432\\u043e\\u0442\\u043d\\u044b\\u0445, \\u0438\\u0445 \\u0440\\u0430\\u0437\\u043d\\u043e\\u043e\\u0431\\u0440\\u0430\\u0437\\u0438\\u044f, \\u0441\\u0442\\u0440\\u043e\\u0435\\u043d\\u0438\\u044f \\u0438 \\u0438\\u0445 \\u0436\\u0438\\u0437\\u043d\\u0435\\u0434\\u0435\\u044f\\u0442\\u0435\\u043b\\u044c\\u043d\\u043e\\u0441\\u0442\\u0438, \\u0441\\u0432\\u044f\\u0437\\u0435\\u0439 \\u0441\\u043e \\u0441\\u0440\\u0435\\u0434\\u043e\\u0439 \\u043e\\u0431\\u0438\\u0442\\u0430\\u043d\\u0438\\u044f, \\u0440\\u0430\\u0441\\u043f\\u0440\\u043e\\u0441\\u0442\\u0440\\u0430\\u043d\\u0435\\u043d\\u0438\\u044f \\u0438\\u0445 \\u0438\\u043d\\u0434\\u0438\\u0432\\u0438\\u0434\\u0443\\u0430\\u043b\\u044c\\u043d\\u043e\\u0433\\u043e \\u0438 \\u0438\\u0441\\u0442\\u043e\\u0440\\u0438\\u0447\\u0435\\u0441\\u043a\\u043e\\u0433\\u043e \\u0440\\u0430\\u0437\\u0432\\u0438\\u0442\\u0438\\u044f, \\u0440\\u043e\\u043b\\u0438 \\u0432 \\u043f\\u0440\\u0438\\u0440\\u043e\\u0434\\u0435 \\u0438 \\u0442. \\u0434. \\u0423\\u0447\\u0435\\u043d\\u0438\\u044f \\u0434\\u043b\\u044f \\u0447\\u0435\\u043b\\u043e\\u0432\\u0435\\u043a\\u0430, \\u043d\\u0430\\u0437\\u044b\\u0432\\u0430\\u0435\\u0442\\u0441\\u044f \\u0437\\u043e\\u043e\\u043b\\u043e\\u0433\\u0438\\u0435\\u0439 (\\u043e\\u0442 \\u0433\\u0440\\u0435\\u0447. \\u0437\\u043e\\u043e\\u043d \\u2014 \\u00ab\\u0436\\u0438\\u0432\\u043e\\u0442\\u043d\\u043e\\u0435\\u00bb, \\u043b\\u043e\\u0433\\u043e\\u0441 \\u2014 \\u00ab\\u0443\\u0447\\u0435\\u043d\\u0438\\u0435\\u00bb). \\u0421\\u043e\\u0432\\u0440\\u0435\\u043c\\u0435\\u043d\\u043d\\u0430\\u044f \\u0437\\u043e\\u043e\\u043b\\u043e\\u0433\\u0438\\u044f \\u2014 \\u044d\\u0442\\u043e \\u0441\\u0438\\u0441\\u0442\\u0435\\u043c\\u0430 \\u043d\\u0430\\u0443\\u043a. \\u041d\\u0430\\u043f\\u0440\\u0438\\u043c\\u0435\\u0440, \\u043c \\u043e \\u043e\\u043b\\u043e\\u0433\\u0438\\u044f \\u044f \\u0438 \\u0430 \\u043d \\u0430 \\u0438 \\u044f \\u0438 \\u0432\\u043e\\u0442 \\u043d\\u044b \\u0445 \\u0438\\u0437\\u0443\\u0447\\u0430\\u044e\\u0442 \\u0438 \\u0432\\u043d\\u0435\\u0448\\u043d\\u0435\\u0435 \\u0438 \\u0432\\u043d\\u0443\\u0442\\u0440\\u0435\\u043d\\u043d\\u0435\\u0435 \\u0441\\u0442\\u0440\\u043e\\u0435\\u043d\\u0438\\u0435 \\u043e\\u0440\\u0433\\u0430\\u043d\\u043e\\u0432 \\u0438 \\u043c \\u0438 \\u043e \\u043b\\u043e\\u0433\\u0438 \\u044f \\u0438 \\u0432\\u043e\\u0442 \\u043d\\u044b \\u0445 \\u0438\\u0437\\u0443\\u0447\\u0430\\u044e\\u0442 \\u0438 \\u0432\\u0437\\u0430\\u0438\\u043c\\u043e\\u043e\\u0442\\u043d\\u043e\\u0448\\u0435\\u043d\\u0438\\u044f \\u0436\\u0438\\u0432\\u043e\\u0442\\u043d\\u044b\\u0445 \\u043c\\u0435\\u0436\\u0434\\u0443 \\u0441\\u043e\\u0431\\u043e\\u0439, \\u0441 \\u0434\\u0440\\u0443\\u0433\\u0438\\u043c\\u0438 \\u043e\\u0440\\u0433\\u0430\\u043d\\u0438\\u0437\\u043c\\u0430\\u043c\\u0438 \\u0438 \\u0441\\u043e \\u0441\\u0440\\u0435\\u0434\\u043e\\u0439 \\u043e\\u0431\\u0438\\u0442\\u0430\\u043d\\u0438\\u044f. \\u041f \\u0430 \\u043b\\u0435\\u043e\\u043d\\u0442 \\u043e\\u043b\\u043e\\u0433\\u0438\\u044f \\u0440\\u0430\\u0441\\u0441\\u043c\\u0430\\u0442\\u0440\\u0438\\u0432\\u0430\\u0435\\u0442 \\u0438\\u0441\\u043a\\u043e\\u043f\\u0430\\u0435\\u043c\\u044b\\u0445 \\u0436\\u0438\\u0432\\u043e\\u0442\\u043d\\u044b\\u0445 \\u0438 \\u0438\\u0445 \\u0438\\u0437\\u043c\\u0435\\u043d\\u0435\\u043d\\u0438\\u044f \\u0432 \\u043f\\u0440\\u043e\\u0446\\u0435\\u0441\\u0441\\u0435 \\u0438\\u0441\\u0442\\u043e\\u0440\\u0438\\u0438 \\u0447\\u0435\\u043b\\u043e\\u0432\\u0435\\u0447\\u0435\\u0441\\u043a\\u043e\\u0433\\u043e \\u0440\\u0430\\u0437\\u0432\\u0438\\u0442\\u0438\\u044f. \\u042d \\u0442 \\u043e\\u043b\\u043e\\u0433\\u0438\\u044f \\u0438\\u0437\\u0443\\u0447\\u0430\\u0435\\u0442 \\u043f\\u043e\\u0432\\u0435\\u0434\\u0435\\u043d\\u0438\\u0435 \\u0436\\u0438\\u0432\\u043e\\u0442\\u043d\\u044b\\u0445. \\u0417\\u043e\\u043e\\u043b\\u043e\\u0433\\u0438\\u044f \\u0438\\u0437\\u0443\\u0447\\u0430\\u0435\\u0442 \\u0440\\u0430\\u0437\\u043b\\u0438\\u0447\\u043d\\u044b \\u0445 \\u0436\\u0438\\u0432\\u043e\\u0442\\u043d\\u044b\\u0445 \\u2014 \\u0431\\u0435\\u0441\\u043f\\u043e\\u0437\\u0432\\u043e\\u043d\\u043e\\u0447\\u043d\\u044b\\u0445 \\u0438 \\u043f\\u043e\\u0437\\u0432\\u043e\\u043d\\u043e\\u0447\\u043d\\u044b\\u0445 \\u043d\\u044b\\u0445 (\\u0440\\u0438\\u0441. 1). \\u041e\\u0441\\u043e\\u0431\\u044b\\u0439 \\u043c\\u0438\\u0440 \\u043f\\u0440\\u0435\\u0434\\u0441\\u0442\\u0430\\u0432\\u043b\\u0435\\u043d \\u0436\\u0438\\u0432\\u043e\\u0442\\u043d\\u044b\\u043c\\u0438, \\u0441\\u043e\\u0441\\u0442\\u043e\\u044f\\u0449\\u0438\\u043c\\u0438 \\u0432\\u0441\\u0435\\u0433\\u043e \\u0438\\u0437 \\u043e\\u0434\\u043d\\u043e\\u0439 \\u043e\\u0434\\u043d\\u043e\\u0439 \\u043a\\u043b\\u0435\\u0442\\u043a\\u0438 \\u2014 \\u043f\\u0440\\u043e\\u0441\\u0442\\u0435\\u0439\\u0448\\u0438\\u043c\\u0438 (\\u0440\\u0438\\u0441. 2).  \\u0420\\u0438\\u0441. 1. \\u0420\\u0430\\u0437\\u043d\\u043e\\u043e\\u0431\\u0440\\u0430\\u0437\\u0438\\u0435 \\u043c\\u043d\\u043e\\u0433\\u043e\\u043a\\u043b\\u0435\\u0442\\u043e\\u0447\\u043d\\u044b\\u0445 \\u0436\\u0438\\u0432\\u043e\\u0442\\u043d\\u044b\\u0445: \\u0410 \\u2014 \\u0431\\u0435\\u0441\\u043f\\u043e\\u0437\\u0432\\u043e\\u043d\\u043e\\u0447\\u043d\\u044b\\u0435; \\u0411 \\u2014 \\u043f\\u043e\\u0437\\u0432\\u043e\\u043d\\u043e\\u0447\\u043d\\u044b\\u0435 5  \\u0420\\u0438\\u0441. 2. \\u0420\\u0430\\u0437\\u043d\\u043e\\u043e\\u0431\\u0440\\u0430\\u0437\\u0438\\u0435 \\u043e\\u0434\\u043d\\u043e\\u043a\\u043b\\u0435\\u0442\\u043e\\u0447\\u043d\\u044b\\u0445 \\u0436\\u0438\\u0432\\u043e\\u0442\\u043d\\u044b\\u0445 (\\u043f\\u0440\\u043e\\u0441\\u0442\\u0435\\u0439\\u0448\\u0438\\u0445). \\u0421\\u0445\\u043e\\u0434\\u0441\\u0442\\u0432\\u043e \\u0438 \\u0440\\u0430\\u0437\\u043b\\u0438\\u0447\\u0438\\u0435 \\u0436\\u0438\\u0432\\u043e\\u0442\\u043d\\u044b\\u0445 \\u0438 \\u0440\\u0430\\u0441\\u0442\\u0435\\u043d\\u0438\\u0439. \\u0414\\u043b\\u044f \\u0436\\u0438\\u0432\\u043e\\u0442\\u043d\\u044b\\u0445, \\u043a\\u0430\\u043a \\u0438 \\u0434\\u043b\\u044f \\u0431\\u043e\\u043b\\u044c\\u0448\\u0438\\u043d\\u0441\\u0442\\u0432\\u0430 \\u0434\\u0440\\u0443\\u0433\\u0438\\u0445 \\u0436\\u0438\\u0432\\u044b\\u0445 \\u043e\\u0440\\u0433\\u0430\\u043d\\u0438\\u0437\\u043c\\u043e\\u0432, \\u0438\\u0445 \\u0445\\u0430\\u0440\\u0430\\u043a\\u0442\\u0435\\u0440\\u043d\\u044b \\u0441\\u043b\\u0435\\u0434\\u0443\\u044e\\u0449\\u0438\\u0435 \\u043e\\u0441\\u043e\\u0431\\u0435\\u043d\\u043d\\u043e\\u0441\\u0442\\u0438: \\u043a\\u043b\\u0435\\u0442\\u043e\\u0447\\u043d\\u043e\\u0435 \\u0441\\u0442\\u0440\\u043e\\u0435\\u043d\\u0438\\u0435, \\u0441\\u043f\\u043e\\u0441\\u043e\\u0431\\u043d\\u043e\\u0441\\u0442\\u044c \\u043a \\u043f\\u0438\\u0442\\u0430\\u043d\\u0438\\u044e, \\u0434\\u044b\\u0445\\u0430\\u043d\\u0438\\u044e, \\u0432\\u044b\\u0434\\u0435\\u043b\\u0435\\u043d\\u0438\\u044e, \\u043d\\u0430\\u043b\\u0438\\u0447\\u0438\\u0435 \\u043e\\u0431\\u043c\\u0435\\u043d\\u0430 \\u0432\\u0435\\u0449\\u0435\\u0441\\u0442\\u0432 \\u043c\\u0435\\u0436\\u0434\\u0443 \\u0438\\u0445 \\u043e\\u0440\\u0433\\u0430\\u043d\\u0438\\u0437\\u043c\\u043e\\u043c \\u0438 \\u043e\\u043a\\u0440\\u0443\\u0436\\u0430\\u044e\\u0449\\u0435\\u0439 \\u0438\\u0445 \\u0435\\u0439 \\u0441\\u0440\\u0435\\u0434\\u043e\\u0439, \\u0441\\u043f\\u043e\\u0441\\u043e\\u0431\\u043d\\u043e\\u0441\\u0442\\u044c \\u043a \\u0440\\u0430\\u0437\\u043c\\u043d\\u043e\\u0436\\u0435\\u043d\\u0438\\u044e, \\u0440\\u043e\\u0441\\u0442\\u0443, \\u0440\\u0430\\u0437\\u0432\\u0438\\u0442\\u0438\\u044e. \\u0416\\u0438\\u0432\\u043e\\u0442\\u043d\\u044b\\u0435 \\u043e\\u0442\\u043b\\u0438\\u0447\\u0430\\u044e\\u0442\\u0441\\u044f \\u043e\\u0442 \\u0440\\u0430\\u0441\\u0442\\u0435\\u043d\\u0438\\u0439 \\u043f\\u043e \\u0441\\u043b\\u0435\\u0434\\u0443\\u044e\\u0449\\u0438\\u043c \\u043f\\u0440\\u0438\\u0437\\u043d\\u0430\\u043a\\u0430\\u043c. \\u041a\\u043b\\u0435\\u0442\\u043a\\u0438 \\u0436\\u0438\\u0432\\u043e\\u0442\\u043d\\u044b\\u0445 \\u043d\\u0435 \\u0438\\u043c\\u0435\\u044e\\u0442 \\u0442\\u0432\\u0451\\u0440\\u0434\\u043e\\u0439 \\u0446\\u0435\\u043b\\u043b\\u044e\\u043b\\u043e\\u0437\\u043d\\u043e\\u0439 \\u043e\\u0431\\u043e\\u043b\\u043e\\u0447\\u043a\\u0438. \\u0412 \\u043e\\u0442\\u043b\\u0438\\u0447\\u0438\\u0435 \\u043e\\u0442 \\u0440\\u0430\\u0441\\u0442\\u0435\\u043d\\u0438\\u0439, \\u0436\\u0438\\u0432\\u044b\\u0435 \\u0436\\u0438\\u0432\\u043e\\u0442\\u043d\\u044b\\u0435 \\u043f\\u0438\\u0442\\u0430\\u044e\\u0442\\u0441\\u044f \\u0433\\u043e\\u0442\\u043e\\u0432\\u044b\\u043c\\u0438 \\u043e\\u0440\\u0433\\u0430\\u043d\\u0438\\u0447\\u0435\\u0441\\u043a\\u0438\\u043c\\u0438 \\u0432\\u0435\\u0449\\u0435\\u0441\\u0442\\u0432\\u0430\\u043c\\u0438. \\u0412 \\u043f\\u0440\\u0438\\u0440\\u043e\\u0434\\u0435 \\u0438 \\u0441\\u043e\\u043e\\u0431\\u0449\\u0435\\u0441\\u0442\\u0432\\u0430\\u0445 \\u043e\\u043d\\u0438 \\u0438\\u0433\\u0440\\u0430\\u044e\\u0442 \\u0440\\u043e\\u043b\\u044c \\u043f\\u043e\\u0442\\u0440\\u0435\\u0431\\u0438\\u0442\\u0435\\u043b\\u0435\\u0439 \\u043e\\u0440\\u0433\\u0430\\u043d\\u0438\\u0447\\u0435\\u0441\\u043a\\u043e\\u0433\\u043e \\u0432\\u0435\\u0449\\u0435\\u0441\\u0442\\u0432\\u0430. \\u0416\\u0438\\u0432\\u043e\\u0442\\u043d\\u044b\\u0435 \\u0441\\u043f\\u043e\\u0441\\u043e\\u0431\\u043d\\u044b \\u0432\\u043e\\u0441\\u043f\\u0440\\u0438\\u043d\\u0438\\u043c\\u0430\\u0442\\u044c \\u0440\\u0430\\u0437\\u0434\\u0440\\u0430\\u0436\\u0435\\u043d\\u0438\\u044f \\u0438 \\u0440\\u0435\\u0430\\u0433\\u0438\\u0440\\u043e\\u0432\\u0430\\u0442\\u044c \\u043d\\u0430 \\u043d\\u0438\\u0445. \\u041e\\u043d\\u0438 \\u043c\\u043e\\u0433\\u0443\\u0442 \\u0430\\u043a\\u0442\\u0438\\u0432\\u043d\\u043e \\u043f\\u0435\\u0440\\u0435\\u0434\\u0432\\u0438\\u0433\\u0430\\u0442\\u044c\\u0441\\u044f. \\u0411\\u043e\\u043b\\u044c\\u0448\\u0438\\u043d\\u0441\\u0442\\u0432\\u043e \\u0441\\u0430\\u043c\\u0438 \\u0434\\u043e\\u0431\\u044b\\u0432\\u0430\\u044e\\u0442 \\u0441\\u0435\\u0431\\u0435 \\u043f\\u0438\\u0449\\u0443, \\u043f\\u0440\\u0435\\u0441\\u043b\\u0435\\u0434\\u0443\\u044e\\u0442 \\u0434\\u043e\\u0431\\u044b\\u0447\\u0443. \\u0420\\u0430\\u0437\\u043d\\u043e\\u043e\\u0431\\u0440\\u0430\\u0437\\u0438\\u0435 \\u0436\\u0438\\u0432\\u043e\\u0442\\u043d\\u044b\\u0445. \\u041f\\u043e \\u0434\\u0430\\u043d\\u043d\\u044b\\u043c \\u0412\\u0441\\u0435\\u043c\\u0438\\u0440\\u043d\\u043e\\u0433\\u043e ( ) \\u041c\\u0435\\u0436\\u0434\\u0443\\u043d\\u0430\\u0440\\u043e\\u0434\\u043d\\u043e\\u0433\\u043e \\u0441\\u043e\\u044e\\u0437\\u0430 \\u043e\\u0445\\u0440\\u0430\\u043d\\u044b \\u043f\\u0440\\u0438\\u0440\\u043e\\u0434\\u044b I (\\u0412\\u0421\\u041e\\u041f), \\u043d\\u0430 \\u0417\\u0435\\u043c\\u043b\\u0435 \\u0443\\u0436\\u0435 \\u0441\\u0443\\u0449\\u0435\\u0441\\u0442\\u0432\\u0443\\u0435\\u0442 \\u0431\\u043e\\u043b\\u0435\\u0435 1,2 \\u043c\\u043b\\u043d \\u0432\\u0438\\u0434\\u043e\\u0432 \\u0436\\u0438\\u0432\\u043e\\u0442\\u043d\\u044b\\u0445. \\u0411\\u043e\\u043b\\u044c\\u0448\\u0435 I \\u0432\\u0441\\u0435\\u0445 I, \\u043d\\u043e \\u043d\\u0430\\u0441\\u0435\\u043a\\u043e\\u043c\\u044b\\u0445 \\u043e\\u043a\\u043e\\u043b\\u043e 1 \\u043c\\u043b\\u043d \\u0432\\u0438\\u0434\\u043e\\u0432. \\u0418\\u0437\\u0432\\u0435\\u0441\\u0442\\u043d\\u043e \\u043e\\u043a\\u043e\\u043b\\u043e 70 \\u0442\\u044b\\u0441. \\u0432\\u0438\\u0434\\u043e\\u0432 \\u043c\\u043e\\u043b\\u043b\\u044e\\u0441\\u043a\\u043e\\u0432, I \\u043a\\u043e\\u0440\\u043e\\u0432, \\u0441\\u0432\\u044b\\u0448\\u0435 20 \\u0442\\u044b\\u0441. \\u0432\\u0438\\u0434\\u043e\\u0432 \\u0440\\u044b\\u0431. \\u0421\\u043e\\u0432\\u0440\\u0435\\u043c\\u0435\\u043d\\u043d\\u044b\\u0445 \\u043f\\u0442\\u0438\\u0446 \\u043d\\u0430\\u0441\\u0447\\u0438\\u0442\\u044b\\u0432\\u0430\\u044e\\u0442 \\u043f\\u043e \\u0441\\u0440\\u0430\\u0432\\u043d\\u0435\\u043d\\u0438\\u044e I \\u0438 \\u0441 \\u0434\\u0440\\u0443\\u0433\\u0438\\u043c\\u0438 \\u0433\\u0440\\u0443\\u043f\\u043f\\u0430\\u043c\\u0438 \\u043d\\u0435\\u043c\\u043d\\u043e\\u0433\\u043e (\\u043e\\u043a\\u043e\\u043b\\u043e 9000 \\u0432\\u0438\\u0434\\u043e\\u0432), \\u0435\\u0449\\u0451 \\u043c\\u0435\\u043d\\u044c\\u0448\\u0435 \\u043c\\u043b\\u0435\\u043a\\u043e- I, \\u043f\\u0438\\u0442\\u0430\\u044e\\u0449\\u0438\\u0445 \\u043e\\u043a\\u043e\\u043b\\u043e 5000 \\u0432\\u0438\\u0434\\u043e\\u0432. \\u0420\\u0430\\u0441\\u043f\\u0440\\u043e\\u0441\\u0442\\u0440\\u0430\\u043d\\u0435\\u043d\\u044b \\u0436\\u0438\\u0432\\u043e\\u0442\\u043d\\u044b\\u0435 \\u043f\\u043e \\u0432\\u0441\\u0435\\u043c\\u0443 \\u0437\\u0435\\u043c\\u043d\\u043e\\u043c\\u0443 \\u0448\\u0430\\u0440\\u0443. \\u041e\\u043d\\u0438 \\u043e\\u0441\\u0432\\u043e\\u0438\\u043b\\u0438 \\u0440\\u0430\\u0437- I \\u0438\\u043d\\u044b\\u0435 \\u0441\\u0440\\u0435\\u0434\\u044b \\u0436 \\u0436\\u0438\\u0437\\u043d\\u0438 (\\u0432\\u043e\\u0434\\u043d\\u0443\\u044e, \\u043d\\u0430\\u0437\\u0435\\u043c\\u043d\\u043e-\\u0432\\u043e\\u0437\\u0434\\u0443\\u0448\\u043d\\u0443\\u044e, \\u043f\\u043e\\u0447\\u0432\\u0435\\u043d\\u043d\\u0443\\u044e). \\u0418\\u0437\\u0432\\u0435\\u0441\\u0442\\u043d\\u044b | \\u0438 \\u0442\\u0430\\u043a\\u0438\\u0435 \\u0436\\u0438\\u0432\\u043e\\u0442\\u043d\\u044b\\u0435, \\u043a\\u043e\\u0442\\u043e\\u0440\\u044b\\u0435 \\u043e\\u0431\\u0438\\u0442\\u0430\\u044e\\u0442 \\u0432 \\u0440\\u0430\\u0441\\u0442\\u0435\\u043d\\u0438\\u044f\\u0445. \\u041d\\u0435\\u043a\\u043e\\u0442\\u043e\\u0440\\u044b\\u0435 \\u043f\\u0430\\u0440\\u0430\\u0437\\u0438\\u0442\\u0438\\u0440\\u0443\\u044e\\u0442 \\u0438 \\u0432 \\u043e\\u0440\\u0433\\u0430\\u043d\\u0438\\u0437\\u043c\\u0430\\u0445 \\u0434\\u0440\\u0443\\u0433\\u0438\\u0445 \\u0436\\u0438\\u0432\\u043e\\u0442\\u043d\\u044b\\u0445 \\u0438 \\u0447\\u0435\\u043b\\u043e\\u0432\\u0435\\u043a\\u0430. \\u0416\\u0438\\u0432\\u043e\\u0442\\u043d\\u044b\\u0435 \\u043e\\u0447\\u0435\\u043d\\u044c \\u0440\\u0430\\u0437\\u043d\\u043e\\u043e\\u0431\\u0440\\u0430\\u0437\\u043d\\u044b \\u043f\\u043e \\u043e\\u0431\\u043b\\u0438\\u043a\\u0443 \\u0438 \\u0441\\u0442\\u0440\\u043e\\u0435\\u043d\\u0438\\u044e, \\u0440\\u0430\\u0437\\u043c\\u0435\\u0440\\u0430\\u043c, \\u043e\\u0431\\u0440\\u0430\\u0437\\u0443 - 3\\u0423 \\u0436\\u0438\\u0437\\u043d\\u0438. \\u041e\\u0434\\u043d\\u0438 \\u043f\\u0435\\u0440\\u0435\\u0434\\u0432\\u0438\\u0433\\u0430\\u044e\\u0442\\u0441\\u044f \\u0432 \\u0432\\u043e\\u0434\\u0435 \\u0441 \\u043f\\u043e\\u043c\\u043e\\u0449\\u044c\\u044e \\u0440\\u0435\\u0441\\u043d\\u0438\\u0447\\u0435\\u043a, \\u0434\\u0440\\u0443\\u0433\\u0438\\u0435 \\u0437\\u0430 I, \\u0441\\u0447\\u0435\\u0442 \\u043f\\u043b\\u0430\\u0432\\u043d\\u0438\\u043a\\u043e\\u0432. \\u0411\\u043e\\u043b\\u044c\\u0448\\u0438\\u043d\\u0441\\u0442\\u0432\\u043e \\u043d\\u0430\\u0437\\u0435\\u043c\\u043d\\u044b\\u0445 \\u0436\\u0438\\u0432\\u043e\\u0442\\u043d\\u044b\\u0445 \\u043f\\u0440\\u0438 \\u0434\\u0432\\u0438\\u0436\\u0435\\u043d\\u0438\\u0438 \\u043e\\u043f\\u0438\\u0440\\u0430 \\u044e\\u0442\\u0441\\u044f \\u043d\\u0430 \\u043f\\u0430\\u0440\\u043d\\u044b\\u0435 \\u043a\\u043e\\u043d\\u0435\\u0447\\u043d\\u043e\\u0441\\u0442\\u0438. \\u041d\\u0430\\u0441\\u0435\\u043a\\u043e\\u043c\\u044b\\u0435, \\u043f\\u0442\\u0438\\u0446\\u044b, \\u043b\\u0435\\u0442\\u0443\\u0447\\u0438\\u0435 \\u043c\\u044b\\u0448\\u0438 \\u0434\\u043b\\u044f \\u043f\\u043e\\u043b\\u0451\\u0442\\u0430 I \\u0438\\u0441\\u043f\\u043e\\u043b\\u044c\\u0437\\u0443\\u044e\\u0442 \\u043a\\u0440\\u044b\\u043b\\u044c\\u044f  \\u0420\\u0438\\u0441. 3. \\u0421\\u0440\\u0430\\u0432\\u043d\\u0438\\u0442\\u0435\\u043b\\u044c\\u043d\\u044b\\u0435 \\u0440\\u0430\\u0437\\u043c\\u0435\\u0440\\u044b \\u0436\\u0438\\u0432\\u043e\\u0442\\u043d\\u044b\\u0445 (\\u043f\\u0440\\u043e\\u0441\\u0442\\u0435\\u0439\\u0448\\u0438\\u0435) \\u0434\\u0430\\u043d\\u044b \\u0432 \\u043f\\u043e\\u043b\\u0435 \\u043e\\u043f\\u0442\\u0438\\u0447\\u0435\\u0441\\u043a\\u043e\\u0433\\u043e \\u043c\\u0438\\u043a\\u0440\\u043e\\u0441\\u043a\\u043e\\u043f\\u0430. \\u0421\\u0430\\u043c\\u044b\\u0445 \\u043c\\u0430\\u043b\\u0435\\u043d\\u044c\\u043a\\u0438\\u0445 \\u0436\\u0438\\u0432\\u043e\\u0442\\u043d\\u044b\\u0445 \\u043c\\u043e\\u0436\\u043d\\u043e \\u0443\\u0432\\u0438\\u0434\\u0435\\u0442\\u044c \\u0442\\u043e\\u043b\\u044c\\u043a\\u043e \\u043f\\u043e\\u0434 \\u043c\\u0438\\u043a\\u0440\\u043e\\u0441\\u043a\\u043e\\u043f\\u043e\\u043c. \\u041a\\u0440\\u0443\\u043f\\u043d\\u044b\\u0435 \\u043d\\u0430\\u0437\\u0435\\u043c\\u043d\\u044b\\u0435 \\u0436\\u0438\\u0432\\u043e\\u0442\\u043d\\u044b\\u0435, \\u043d\\u0430\\u043f\\u0440\\u0438\\u043c\\u0435\\u0440, \\u0441\\u043b\\u043e\\u043d\\u044b, \\u0434\\u043e\\u0441\\u0442\\u0438\\u0433\\u0430\\u044e\\u0442 \\u0432 \\u0432\\u044b\\u0441\\u043e\\u0442\\u0443 3,5 \\u043c, \\u0430 \\u043c\\u0430\\u0441\\u0441\\u0430 \\u0438\\u0445 \\u0442\\u0435\\u043b\\u0430 \\u043e\\u043a\\u043e\\u043b\\u043e 5 \\u0442. \\u0421\\u0430\\u043c\\u043e\\u0435 \\u0431\\u043e\\u043b\\u044c\\u0448\\u043e\\u0435 \\u0436\\u0438\\u0432\\u043e\\u0442\\u043d\\u043e\\u0435 \\u0438\\u0437 \\u043a\\u043e\\u0433\\u0434\\u0430-\\u043b\\u0438\\u0431\\u043e \\u0436\\u0438\\u0432\\u0448\\u0438\\u0445 \\u0438 \\u043d\\u0435 \\u0436\\u0438\\u0432\\u0443\\u0449\\u0438\\u0445 \\u043d\\u0430 \\u0417\\u0435\\u043c\\u043b\\u0435 \\u2014 \\u0441\\u0438\\u043d\\u0438\\u0439 \\u043a\\u0438\\u0442 \\u0434\\u043b\\u0438\\u043d\\u043e\\u0439 \\u0431\\u043e\\u043b\\u0435\\u0435 30 \\u043c \\u0438 \\u043c\\u0430\\u0441\\u0441\\u043e\\u0439 \\u0434\\u043e 150 \\u0442 (\\u0440\\u0438\\u0441. 3). \\u0417\\u043d\\u0430\\u0447\\u0435\\u043d\\u0438\\u0435 \\u0436\\u0438\\u0432\\u043e\\u0442\\u043d\\u044b\\u0445. \\u0416\\u0438\\u0432\\u043e\\u0442\\u043d\\u044b\\u0435 \\u0440\\u0430\\u0437\\u043b\\u0438\\u0447\\u0430\\u044e\\u0442\\u0441\\u044f \\u043d\\u0435 \\u0442\\u043e\\u043b\\u044c\\u043a\\u043e \\u043f\\u043e \\u0432\\u043d\\u0435\\u0448\\u043d\\u0435\\u043c\\u0443 \\u043e\\u0431\\u043b\\u0438\\u043a\\u0443, \\u0441\\u0442\\u0440\\u043e\\u0435\\u043d\\u0438\\u044e \\u0438 \\u043e\\u0431\\u0440\\u0430\\u0437\\u0443 \\u0436\\u0438\\u0437\\u043d\\u0438, \\u043d\\u043e \\u0438 \\u043f\\u043e \\u0442\\u043e\\u0439 \\u0440\\u043e\\u043b\\u0438, \\u043a\\u043e\\u0442\\u043e\\u0440\\u0443\\u044e \\u043e\\u043d\\u0438 \\u0438\\u0433\\u0440\\u0430\\u044e\\u0442 \\u0438 \\u0432 \\u043f\\u0440\\u0438\\u0440\\u043e\\u0434\\u043d\\u044b\\u0445 \\u0438\\u0445 \\u0441\\u043e\\u043e\\u0431\\u0449\\u0435\\u0441\\u0442\\u0432\\u0430\\u0445. \\u0412\\u0435\\u043b\\u0438\\u043a\\u0430 \\u0440\\u043e\\u043b\\u044c \\u0432 \\u043f\\u0440\\u0438\\u0440\\u043e\\u0434\\u0435 \\u0436\\u0438\\u0432\\u043e\\u0442\\u043d\\u044b\\u0445 \\u2014 \\u043e\\u0441\\u044b \\u0438\\u043b\\u0438 \\u0442\\u043b\\u0435\\u0439 \\u0440\\u0430\\u0441\\u0442\\u0435\\u043d\\u0438\\u0439 (\\u0440\\u0438\\u0441. 4). \\u042d\\u0442\\u043e \\u0431\\u0430\\u0431\\u043e\\u0447\\u043a\\u0438, \\u0436\\u0443\\u043a\\u0438, \\u043c\\u0443\\u0445\\u0438, \\u0448\\u043c\\u0435\\u043b\\u0438, \\u043f\\u0447\\u0451\\u043b\\u044b \\u0438 \\u0434\\u0440\\u0443\\u0433\\u0438\\u0435 \\u043e\\u0440\\u0433\\u0430\\u043d\\u0438\\u0437\\u043c\\u044b. \\u0411\\u0435\\u0437 \\u043d\\u0438\\u0445 \\u043e\\u0431\\u043b\\u0438\\u043a \\u043d\\u0430\\u0448\\u0438\\u0445 \\u043b\\u0435\\u0441\\u043e\\u0432, \\u043b\\u0443\\u0433\\u043e\\u0432, \\u043f\\u043e\\u043b\\u0435\\u0439 \\u0431\\u044b\\u043b \\u0431\\u044b \\u0441\\u043e\\u0432\\u0441\\u0435\\u043c \\u0434\\u0440\\u0443\\u0433\\u0438\\u043c. \\u041c\\u043d\\u043e\\u0433\\u0438\\u0435 \\u0436\\u0435 \\u0436\\u0438\\u0432\\u043e\\u0442\\u043d\\u044b\\u0435 \\u0440\\u0430\\u0441\\u043f\\u0440\\u043e\\u0441\\u0442\\u0440\\u0430\\u043d\\u044f\\u044e\\u0442 \\u043f\\u043b\\u043e\\u0434\\u044b \\u0438 \\u0441\\u0435\\u043c\\u0435\\u043d\\u0430 \\u0440\\u0430\\u0441\\u0442\\u0435\\u043d\\u0438\\u0439, \\u043f\\u0435\\u0440\\u0435\\u043d\\u043e\\u0441\\u044f \\u0438\\u0445 \\u043d\\u0430 \\u0448\\u0435\\u0440\\u0441\\u0442\\u0438 \\u0438 \\u043f\\u0435\\u0440\\u044c\\u044f \\u0438\\u043b\\u0438 \\u043f\\u0438\\u0442\\u0430\\u044f\\u0441\\u044c \\u0441\\u043e\\u0447\\u043d\\u044b\\u043c\\u0438 \\u043f\\u043b\\u043e\\u0434\\u0430\\u043c\\u0438. \\u041c\\u044f\\u043a\\u043e\\u0442\\u044c \\u043f\\u0435\\u0440\\u0435\\u0432\\u0430\\u0440\\u0438\\u0432\\u0430\\u0435\\u0442\\u0441\\u044f, \\u0430 \\u0441\\u0435\\u043c\\u0435\\u043d\\u0430 \\u043f\\u0440\\u043e\\u0445\\u043e\\u0434\\u044f\\u0442 \\u0447\\u0435\\u0440\\u0435\\u0437 \\u0438\\u0445 \\u044f\\u0438\\u0447\\u043d\\u0438\\u043a\\u0438 \\u0438 \\u0440\\u0430\\u0437\\u043d\\u043e\\u0441\\u044f\\u0442\\u0441\\u044f \\u043d\\u0430 \\u0431\\u043e\\u043b\\u044c\\u0448\\u0438\\u0435 \\u0440\\u0430\\u0441\\u0441\\u0442\\u043e\\u044f\\u043d\\u0438\\u044f. \\u041d\\u0435\\u043a\\u043e\\u0442\\u043e\\u0440\\u044b\\u0435 \\u0436\\u0438\\u0432\\u043e\\u0442\\u043d\\u044b\\u0435 \\u0438\\u0433\\u0440\\u0430\\u044e\\u0442 \\u043e\\u0442\\u0440\\u0438\\u0446\\u0430\\u0442\\u0435\\u043b\\u044c\\u043d\\u0443\\u044e \\u0440\\u043e\\u043b\\u044c \\u0432 \\u043f\\u0440\\u0438\\u0440\\u043e\\u0434\\u043d\\u044b\\u0445 \\u0438\\u0445 \\u0441\\u043e\\u043e\\u0431\\u0449\\u0435\\u0441\\u0442\\u0432\\u0430\\u0445. \\u041c\\u0430\\u0441\\u0441\\u043e\\u0432\\u043e\\u0435 \\u043f\\u043e\\u044f\\u0432\\u043b\\u0435\\u043d\\u0438\\u0435 \\u0433\\u0443\\u0441\\u0435\\u043d\\u0438\\u0446 \\u043d\\u0435\\u043f\\u0430\\u0440\\u043d\\u043e\\u0433\\u043e \\u0438 \\u0448\\u0435\\u043b\\u043a\\u043e\\u043f\\u0440\\u044f\\u0434\\u0430 \\u043d\\u0430\\u043d\\u043e\\u0441\\u0438\\u0442 \\u043e\\u0433\\u0440\\u043e\\u043c\\u043d\\u044b\\u0439 \\u0432\\u0440\\u0435\\u0434 \\u043b\\u0435\\u0441\\u0430\\u043c. \\u041e\\u043d\\u0438 \\u043f\\u043e\\u0435\\u0434\\u0430\\u044e\\u0442 \\u043b\\u0438\\u0441\\u0442\\u044c\\u044f, \\u043f\\u043e\\u0447\\u043a\\u0438, \\u043c\\u043e\\u043b\\u043e\\u0434\\u044b\\u0435 \\u043f\\u043e\\u0431\\u0435\\u0433\\u0438. \\u0421\\u0442\\u0430\\u0442\\u0443\\u0441 7. \\u0420\\u0438\\u0441. 4. \\u041d\\u0430\\u0441\\u0435\\u043a\\u043e\\u043c\\u044b\\u0435 \\u0438 \\u043e\\u043f\\u044b\\u043b\\u0438\\u0442\\u0435\\u043b\\u0438 \\u0440\\u0430\\u0441\\u0442\\u0435\\u043d\\u0438\\u0439 \\u0430\\u0437\\u0438\\u0430\\u0442\\u0441\\u043a\\u043e\\u0439 \\u043f\\u0435\\u0440\\u0435\\u043b\\u0451\\u0442\\u043d\\u043e\\u0439 \\u0441\\u0430\\u0440\\u0430\\u043d\\u0447\\u0438 (\\u0440\\u0438\\u0441. 5) \\u0443\\u043d\\u0438\\u0447\\u0442\\u043e\\u0436\\u0430\\u044e\\u0442 \\u0438 \\u0440\\u0430\\u0441\\u0442\\u0438\\u0442\\u0435\\u043b\\u044c\\u043d\\u043e\\u0441\\u0442\\u044c \\u043d\\u0430 \\u043e\\u0433\\u0440\\u043e\\u043c\\u043d\\u044b\\u0445 \\u043f\\u043b\\u043e\\u0449\\u0430\\u0434\\u044f\\u0445, \\u0434\\u0430\\u0436\\u0435 \\u0434\\u043b\\u044f \\u043f\\u0438\\u0449\\u0438 \\u0434\\u0440\\u0443\\u0433\\u0438\\u0435 \\u0440\\u0430\\u0441\\u0442\\u0438\\u0442\\u0435\\u043b\\u044c\\u043d\\u043e\\u044f\\u0434\\u043d\\u044b\\u0435 \\u043e\\u0440\\u0433\\u0430\\u043d\\u0438\\u0437\\u043c\\u044b. \\u0415\\u0441\\u0442\\u044c \\u0436\\u0438\\u0432\\u043e\\u0442\\u043d\\u044b\\u0435, \\u0432\\u044b\\u0437\\u044b\\u0432\\u0430\\u044e\\u0449\\u0438\\u0435 \\u0438 \\u0442\\u0435 \\u0431\\u043e\\u043b\\u0435\\u0437\\u043d\\u0438 \\u0443 \\u0440\\u0430\\u0441\\u0442\\u0435\\u043d\\u0438\\u0439, \\u0434\\u0440\\u0443\\u0433\\u0438\\u0445 \\u0436\\u0438\\u0432\\u043e\\u0442\\u043d\\u044b\\u0445 \\u0438 \\u0443 \\u0447\\u0435\\u043b\\u043e\\u0432\\u0435\\u043a\\u0430. \\u041e\\u0442\\u0434\\u0435\\u043b\\u044c\\u043d\\u044b\\u0435 \\u0436\\u0438\\u0432\\u043e\\u0442\\u043d\\u044b\\u0435, \\u043d\\u0430\\u043e\\u0431\\u043e\\u0440\\u043e\\u0442, \\u0441\\u043d\\u0438\\u0436\\u0430\\u044e\\u0442 \\u0447\\u0438\\u0441\\u043b\\u043e \\u0432\\u0440\\u0435\\u0434\\u0438\\u0442\\u0435\\u043b\\u0435\\u0439 \\u043b\\u0435\\u0441\\u043d\\u044b\\u0445 \\u0438 \\u043a\\u0443\\u043b\\u044c\\u0442\\u0443\\u0440\\u043d\\u044b\\u0445 \\u0440\\u0430\\u0441\\u0442\\u0435\\u043d\\u0438\\u0439, \\u043f\\u0438\\u0442\\u0430\\u044f\\u0441\\u044c \\u0438\\u043c\\u0438. \\u0411\\u043e\\u043b\\u044c\\u0448\\u0443\\u044e \\u0446\\u0435\\u043d\\u043d\\u043e\\u0441\\u0442\\u044c \\u0434\\u043b\\u044f \\u0447\\u0435\\u043b\\u043e\\u0432\\u0435\\u043a\\u0430 \\u0438\\u043c\\u0435\\u044e\\u0442 \\u0434\\u0438\\u043a\\u0438\\u0435 \\u0436\\u0438\\u0432\\u043e\\u0442\\u043d\\u044b\\u0435 \\u043a\\u0430\\u043a \\u043e\\u0431\\u044a\\u0435\\u043a\\u0442\\u044b \\u043e\\u0445\\u043e\\u0442\\u044b. \\u0417\\u043d\\u0430\\u0447\\u0438\\u0442\\u0435\\u043b\\u044c\\u043d\\u0443\\u044e \\u0447\\u0430\\u0441\\u0442\\u044c \\u0431\\u0435\\u043b\\u043a\\u043e\\u0432\\u043e\\u0439 \\u043f\\u0438\\u0449\\u0438 \\u0447\\u0435\\u043b\\u043e\\u0432\\u0435\\u043a \\u043f\\u043e\\u043b\\u0443\\u0447\\u0430\\u0435\\u0442 \\u0437\\u0430 \\u0441\\u0447\\u0451\\u0442 \\u0432\\u043e\\u0434\\u044b, \\u043b\\u043e\\u0432\\u0430 \\u0440\\u044b\\u0431\\u044b \\u0432 \\u043c\\u043e\\u0440\\u044f\\u0445 \\u0438 \\u043e\\u043a\\u0435\\u0430\\u043d\\u0430\\u0445, \\u043f\\u0440\\u043e\\u043c\\u044b\\u0441\\u043b\\u0430 \\u043c\\u043e\\u0440\\u0441\\u043a\\u043e\\u0433\\u043e \\u0437\\u0432\\u0435\\u0440\\u044f, \\u043e\\u0445\\u043e\\u0442\\u044b \\u043d\\u0430 \\u043a\\u0430\\u0431\\u0430\\u043d\\u043e\\u0432, \\u043a\\u043e\\u0440\\u043e\\u0432, \\u043e\\u043b\\u0435\\u043d\\u0435\\u0439, \\u0432\\u043e\\u0434\\u043e\\u043f\\u043b\\u0430\\u0432\\u0430\\u044e\\u0449\\u0438\\u0445 \\u0438 \\u043b\\u0435\\u0441\\u043d\\u044b\\u0445 \\u043f\\u0442\\u0438\\u0446. \\u0418\\u0441\\u043a\\u043b\\u044e\\u0447\\u0438\\u0442\\u0435\\u043b\\u044c\\u043d\\u043e \\u0432\\u0430\\u0436\\u043d\\u043e\\u0435 \\u0437\\u043d\\u0430\\u0447\\u0435\\u043d\\u0438\\u0435 \\u0434\\u043b\\u044f \\u043b\\u044e\\u0434\\u0435\\u0439 \\u0438\\u043c\\u0435\\u044e\\u0442 \\u0434\\u043e\\u043c\\u0430\\u0448\\u043d\\u0438\\u0435 \\u0436\\u0438\\u0432\\u043e\\u0442\\u043d\\u044b\\u0435 - \\u043c\\u044b \\u043f\\u043e\\u043b\\u0443\\u0447\\u0430\\u0435\\u043c \\u043e\\u0442 \\u043d\\u0438\\u0445 \\u043f\\u0440\\u043e\\u0434\\u0443\\u043a\\u0442\\u044b \\u043f\\u0438\\u0442\\u0430\\u043d\\u0438\\u044f (\\u043c\\u043e\\u043b\\u043e\\u043a\\u043e, \\u044f\\u0439\\u0446\\u0430, \\u043c\\u0451\\u0434), \\u0448\\u0435\\u0440\\u0441\\u0442\\u044c, \\u043f\\u0443\\u0445, \\u043a\\u043e\\u0436\\u0443, \\u0448\\u0451\\u043b\\u043a. \\u0414\\u043e\\u043c\\u0430\\u0448\\u043d\\u0438\\u0435 \\u0436\\u0435 \\u0436\\u0438\\u0432\\u043e\\u0442\\u043d\\u044b\\u0435 \\u0432\\u044b\\u043f\\u043e\\u043b\\u043d\\u044f\\u044e\\u0442 \\u0438 \\u0440\\u0430\\u0437\\u043b\\u0438\\u0447\\u043d\\u0443\\u044e \\u0440\\u0430\\u0431\\u043e\\u0442\\u0443 \\u0432 \\u0441\\u0435\\u043b\\u044c\\u0441\\u043a\\u043e\\u043c \\u0445\\u043e\\u0437\\u044f\\u0439\\u0441\\u0442\\u0432\\u0435, \\u0441\\u043b\\u0443\\u0436\\u0430\\u0442 \\u043d\\u0430\\u043c \\u0442\\u0440\\u0430\\u043d\\u0441\\u043f\\u043e\\u0440\\u0442\\u043d\\u044b\\u043c\\u0438 \\u0441\\u0440\\u0435\\u0434\\u0441\\u0442\\u0432\\u0430\\u043c\\u0438. \\u0414\\u0435\\u043a\\u043e\\u0440\\u0430\\u0442\\u0438\\u0432\\u043d\\u044b\\u0435 \\u0436\\u0438\\u0432\\u043e\\u0442\\u043d\\u044b\\u0435 - \\u0436\\u0438\\u0432\\u0443\\u0442 \\u0432\\u043c\\u0435\\u0441\\u0442\\u0435 \\u0441 \\u0447\\u0435\\u043b\\u043e\\u0432\\u0435\\u043a\\u043e\\u043c \\u0432 \\u043a\\u0432\\u0430\\u0440\\u0442\\u0438\\u0440\\u0430\\u0445 \\u0438 \\u0434\\u043e\\u043c\\u0430\\u0445, \\u0441\\u043f\\u0440\\u0430\\u0448\\u0438\\u0432\\u0430\\u044f \\u043e \\u0434\\u0440\\u0443\\u0433\\u0435 \\u0433\\u043e\\u0440\\u043e\\u0436\\u0430\\u043d. \\u0411\\u043e\\u043b\\u044c\\u0448\\u0438\\u043d\\u0441\\u0442\\u0432\\u043e \\u0434\\u043e\\u043c\\u043e\\u0432. \\u0420\\u0438\\u0441. 5. \\u0410\\u0437\\u0438\\u0430\\u0442\\u0441\\u043a\\u0430\\u044f \\u043f\\u0435\\u0440\\u0435\\u043b\\u0451\\u0442\\u043d\\u0430\\u044f - \\u0433\\u0435\\u043d\\u043d\\u044b\\u0445 \\u0436\\u0438\\u0432\\u043e\\u0442\\u043d\\u044b\\u0445 - \\u044d\\u0442\\u043e \\u043c\\u043b\\u0435\\u043a\\u043e\\u043f\\u0438\\u0442\\u0430\\u044e\\u0449\\u0438\\u0435, \\u0441\\u0430\\u0440\\u0430\\u043d\\u0447\\u0430, \\u043b\\u0430\\u044e\\u0449\\u0438\\u0435 \\u0438 \\u043f\\u0442\\u0438\\u0446\\u044b. \\u0421\\u043e\\u0432\\u0440\\u0435\\u043c\\u0435\\u043d\\u043d\\u0430\\u044f \\u0437\\u043e\\u043e\\u043b\\u043e\\u0433\\u0438\\u044f - \\u044d\\u0442\\u043e \\u0441\\u0438\\u0441\\u0442\\u0435\\u043c\\u0430 \\u043d\\u0430\\u0443\\u043a, \\u0438\\u043c\\u0435\\u044e\\u0449\\u0438\\u0445 \\u0432\\u0430\\u0436\\u043d\\u043e\\u0435 \\u0442\\u0435\\u043e\\u0440. - \\u0442\\u0435\\u0445\\u043d\\u0438\\u0447\\u0435\\u0441\\u043a\\u043e\\u0435 \\u0438 \\u043f\\u0440\\u0430\\u043a\\u0442\\u0438\\u0447\\u0435\\u0441\\u043a\\u043e\\u0435 \\u0437\\u043d\\u0430\\u0447\\u0435\\u043d\\u0438\\u0435. \\u0417\\u043e\\u043e\\u043b\\u043e\\u0433\\u0438\\u044f, \\u043c\\u043e\\u0440\\u0444\\u043e\\u043b\\u043e\\u0433\\u0438\\u044f, \\u0430\\u043d\\u0430\\u0442\\u043e\\u043c\\u0438\\u044f, \\u0444\\u0438\\u0437\\u0438\\u043e\\u043b\\u043e\\u0433\\u0438\\u044f, \\u044d\\u043a\\u043e\\u043b\\u043e\\u0433\\u0438\\u044f, \\u0430 \\u0442\\u0430\\u043a\\u0436\\u0435 \\u043e\\u043d\\u0442\\u043e\\u043b\\u043e\\u0433\\u0438\\u044f, \\u044d\\u0442\\u043e\\u043b\\u043e\\u0433\\u0438\\u044f, \\u043e\\u043f\\u044b\\u043b\\u0438\\u0442\\u0435\\u043b\\u0438 \"\n        ],\n        \"semantic_type\": \"\",\n        \"description\": \"\"\n      }\n    },\n    {\n      \"column\": \"\\u041a\\u043b\\u044e\\u0447\\u0435\\u0432\\u044b\\u0435 \\u0441\\u043b\\u043e\\u0432\\u0430\",\n      \"properties\": {\n        \"dtype\": \"string\",\n        \"num_unique_values\": 1,\n        \"samples\": [\n          \"\\u0417\\u043e\\u043e\\u043b\\u043e\\u0433\\u0438\\u044f, \\u043c\\u043e\\u0440\\u0444\\u043e\\u043b\\u043e\\u0433\\u0438\\u044f, \\u0430\\u043d\\u0430\\u0442\\u043e\\u043c\\u0438\\u044f, \\u0444\\u0438\\u0437\\u0438\\u043e\\u043b\\u043e\\u0433\\u0438\\u044f, \\u044d\\u043a\\u043e\\u043b\\u043e\\u0433\\u0438\\u044f, \\u043f\\u0430\\u043b\\u0435\\u043e\\u043d\\u0442\\u043e\\u043b\\u043e\\u0433\\u0438\\u044f, \\u044d\\u0442\\u043e\\u043b\\u043e\\u0433\\u0438\\u044f, \\u043e\\u043f\\u044b\\u043b\\u0438\\u0442\\u0435\\u043b\\u0438.\"\n        ],\n        \"semantic_type\": \"\",\n        \"description\": \"\"\n      }\n    }\n  ]\n}"
            }
          },
          "metadata": {},
          "execution_count": 123
        }
      ]
    },
    {
      "cell_type": "code",
      "source": [
        "df_ch_1.to_excel(\"Chapter_1_prep.xlsx\") # сохраняем в эксель"
      ],
      "metadata": {
        "id": "1YYUVNENDLfF"
      },
      "execution_count": null,
      "outputs": []
    },
    {
      "cell_type": "markdown",
      "source": [
        "## 2) DataFrame из данных, обработанных с помощью модели **sage-fredt5-distilled-95m**"
      ],
      "metadata": {
        "id": "8GAcwvUoFXIs"
      }
    },
    {
      "cell_type": "code",
      "source": [
        "df_ch_1_95 = pd.DataFrame(ch_1_result_95_fin)"
      ],
      "metadata": {
        "id": "9AWT91wqp-bH"
      },
      "execution_count": null,
      "outputs": []
    },
    {
      "cell_type": "code",
      "source": [
        "df_ch_1_95.columns = ['Текст'] # переименуем колонку"
      ],
      "metadata": {
        "id": "8H7WJivqp-eD"
      },
      "execution_count": null,
      "outputs": []
    },
    {
      "cell_type": "code",
      "source": [
        "df_ch_1_95 = df_ch_1_95.join(pd.DataFrame(\n",
        "    {\n",
        "        \"Учебник\": \"Биология 7 кл. Учебник для учащихся общеобразовательных организаций В.М. Константинов, В.Г. Бабенко, B.C. Кучменко. — 5-е изд., перераб. — М. ;  Вентана-Граф 2016\",\n",
        "        \"Предмет\": \"Биология\",\n",
        "        \"Класс\" : 7,\n",
        "        \"Глава\" : title_list0[0],\n",
        "        \"Параграф\" : chapter_list0[0],\n",
        "        \"Ключевые слова\" : list(dict_word_prep.values())[8]\n",
        "        }, index=df_ch_1_95.index\n",
        "    ))"
      ],
      "metadata": {
        "id": "Ne2WYl_wp-g6"
      },
      "execution_count": null,
      "outputs": []
    },
    {
      "cell_type": "code",
      "source": [
        "df_ch_1_95"
      ],
      "metadata": {
        "colab": {
          "base_uri": "https://localhost:8080/",
          "height": 115
        },
        "id": "BhByxzfVp-j2",
        "outputId": "cb89580a-690d-42b2-893e-1998b862724c"
      },
      "execution_count": null,
      "outputs": [
        {
          "output_type": "execute_result",
          "data": {
            "text/plain": [
              "                                               Текст  \\\n",
              "0  Глава 1. Об общ. ие с в е д е н и я о м и р е ...   \n",
              "\n",
              "                                             Учебник   Предмет  Класс  \\\n",
              "0  Биология 7 кл. Учебник для учащихся общеобразо...  Биология      7   \n",
              "\n",
              "                                      Глава  \\\n",
              "0  Глава 1.  Общие сведения о мире животных   \n",
              "\n",
              "                                Параграф  \\\n",
              "0  § 1. Зоология — наука о ж и вотн ы х    \n",
              "\n",
              "                                      Ключевые слова  \n",
              "0  Зоология, морфология, анатомия, физиология, эк...  "
            ],
            "text/html": [
              "\n",
              "  <div id=\"df-d5f5ddcb-d57c-492e-9be2-5bb1d7be449c\" class=\"colab-df-container\">\n",
              "    <div>\n",
              "<style scoped>\n",
              "    .dataframe tbody tr th:only-of-type {\n",
              "        vertical-align: middle;\n",
              "    }\n",
              "\n",
              "    .dataframe tbody tr th {\n",
              "        vertical-align: top;\n",
              "    }\n",
              "\n",
              "    .dataframe thead th {\n",
              "        text-align: right;\n",
              "    }\n",
              "</style>\n",
              "<table border=\"1\" class=\"dataframe\">\n",
              "  <thead>\n",
              "    <tr style=\"text-align: right;\">\n",
              "      <th></th>\n",
              "      <th>Текст</th>\n",
              "      <th>Учебник</th>\n",
              "      <th>Предмет</th>\n",
              "      <th>Класс</th>\n",
              "      <th>Глава</th>\n",
              "      <th>Параграф</th>\n",
              "      <th>Ключевые слова</th>\n",
              "    </tr>\n",
              "  </thead>\n",
              "  <tbody>\n",
              "    <tr>\n",
              "      <th>0</th>\n",
              "      <td>Глава 1. Об общ. ие с в е д е н и я о м и р е ...</td>\n",
              "      <td>Биология 7 кл. Учебник для учащихся общеобразо...</td>\n",
              "      <td>Биология</td>\n",
              "      <td>7</td>\n",
              "      <td>Глава 1.  Общие сведения о мире животных</td>\n",
              "      <td>§ 1. Зоология — наука о ж и вотн ы х</td>\n",
              "      <td>Зоология, морфология, анатомия, физиология, эк...</td>\n",
              "    </tr>\n",
              "  </tbody>\n",
              "</table>\n",
              "</div>\n",
              "    <div class=\"colab-df-buttons\">\n",
              "\n",
              "  <div class=\"colab-df-container\">\n",
              "    <button class=\"colab-df-convert\" onclick=\"convertToInteractive('df-d5f5ddcb-d57c-492e-9be2-5bb1d7be449c')\"\n",
              "            title=\"Convert this dataframe to an interactive table.\"\n",
              "            style=\"display:none;\">\n",
              "\n",
              "  <svg xmlns=\"http://www.w3.org/2000/svg\" height=\"24px\" viewBox=\"0 -960 960 960\">\n",
              "    <path d=\"M120-120v-720h720v720H120Zm60-500h600v-160H180v160Zm220 220h160v-160H400v160Zm0 220h160v-160H400v160ZM180-400h160v-160H180v160Zm440 0h160v-160H620v160ZM180-180h160v-160H180v160Zm440 0h160v-160H620v160Z\"/>\n",
              "  </svg>\n",
              "    </button>\n",
              "\n",
              "  <style>\n",
              "    .colab-df-container {\n",
              "      display:flex;\n",
              "      gap: 12px;\n",
              "    }\n",
              "\n",
              "    .colab-df-convert {\n",
              "      background-color: #E8F0FE;\n",
              "      border: none;\n",
              "      border-radius: 50%;\n",
              "      cursor: pointer;\n",
              "      display: none;\n",
              "      fill: #1967D2;\n",
              "      height: 32px;\n",
              "      padding: 0 0 0 0;\n",
              "      width: 32px;\n",
              "    }\n",
              "\n",
              "    .colab-df-convert:hover {\n",
              "      background-color: #E2EBFA;\n",
              "      box-shadow: 0px 1px 2px rgba(60, 64, 67, 0.3), 0px 1px 3px 1px rgba(60, 64, 67, 0.15);\n",
              "      fill: #174EA6;\n",
              "    }\n",
              "\n",
              "    .colab-df-buttons div {\n",
              "      margin-bottom: 4px;\n",
              "    }\n",
              "\n",
              "    [theme=dark] .colab-df-convert {\n",
              "      background-color: #3B4455;\n",
              "      fill: #D2E3FC;\n",
              "    }\n",
              "\n",
              "    [theme=dark] .colab-df-convert:hover {\n",
              "      background-color: #434B5C;\n",
              "      box-shadow: 0px 1px 3px 1px rgba(0, 0, 0, 0.15);\n",
              "      filter: drop-shadow(0px 1px 2px rgba(0, 0, 0, 0.3));\n",
              "      fill: #FFFFFF;\n",
              "    }\n",
              "  </style>\n",
              "\n",
              "    <script>\n",
              "      const buttonEl =\n",
              "        document.querySelector('#df-d5f5ddcb-d57c-492e-9be2-5bb1d7be449c button.colab-df-convert');\n",
              "      buttonEl.style.display =\n",
              "        google.colab.kernel.accessAllowed ? 'block' : 'none';\n",
              "\n",
              "      async function convertToInteractive(key) {\n",
              "        const element = document.querySelector('#df-d5f5ddcb-d57c-492e-9be2-5bb1d7be449c');\n",
              "        const dataTable =\n",
              "          await google.colab.kernel.invokeFunction('convertToInteractive',\n",
              "                                                    [key], {});\n",
              "        if (!dataTable) return;\n",
              "\n",
              "        const docLinkHtml = 'Like what you see? Visit the ' +\n",
              "          '<a target=\"_blank\" href=https://colab.research.google.com/notebooks/data_table.ipynb>data table notebook</a>'\n",
              "          + ' to learn more about interactive tables.';\n",
              "        element.innerHTML = '';\n",
              "        dataTable['output_type'] = 'display_data';\n",
              "        await google.colab.output.renderOutput(dataTable, element);\n",
              "        const docLink = document.createElement('div');\n",
              "        docLink.innerHTML = docLinkHtml;\n",
              "        element.appendChild(docLink);\n",
              "      }\n",
              "    </script>\n",
              "  </div>\n",
              "\n",
              "\n",
              "  <div id=\"id_4e6da3b3-9dc3-49fd-af2f-e986d881f3c6\">\n",
              "    <style>\n",
              "      .colab-df-generate {\n",
              "        background-color: #E8F0FE;\n",
              "        border: none;\n",
              "        border-radius: 50%;\n",
              "        cursor: pointer;\n",
              "        display: none;\n",
              "        fill: #1967D2;\n",
              "        height: 32px;\n",
              "        padding: 0 0 0 0;\n",
              "        width: 32px;\n",
              "      }\n",
              "\n",
              "      .colab-df-generate:hover {\n",
              "        background-color: #E2EBFA;\n",
              "        box-shadow: 0px 1px 2px rgba(60, 64, 67, 0.3), 0px 1px 3px 1px rgba(60, 64, 67, 0.15);\n",
              "        fill: #174EA6;\n",
              "      }\n",
              "\n",
              "      [theme=dark] .colab-df-generate {\n",
              "        background-color: #3B4455;\n",
              "        fill: #D2E3FC;\n",
              "      }\n",
              "\n",
              "      [theme=dark] .colab-df-generate:hover {\n",
              "        background-color: #434B5C;\n",
              "        box-shadow: 0px 1px 3px 1px rgba(0, 0, 0, 0.15);\n",
              "        filter: drop-shadow(0px 1px 2px rgba(0, 0, 0, 0.3));\n",
              "        fill: #FFFFFF;\n",
              "      }\n",
              "    </style>\n",
              "    <button class=\"colab-df-generate\" onclick=\"generateWithVariable('df_ch_1_95')\"\n",
              "            title=\"Generate code using this dataframe.\"\n",
              "            style=\"display:none;\">\n",
              "\n",
              "  <svg xmlns=\"http://www.w3.org/2000/svg\" height=\"24px\"viewBox=\"0 0 24 24\"\n",
              "       width=\"24px\">\n",
              "    <path d=\"M7,19H8.4L18.45,9,17,7.55,7,17.6ZM5,21V16.75L18.45,3.32a2,2,0,0,1,2.83,0l1.4,1.43a1.91,1.91,0,0,1,.58,1.4,1.91,1.91,0,0,1-.58,1.4L9.25,21ZM18.45,9,17,7.55Zm-12,3A5.31,5.31,0,0,0,4.9,8.1,5.31,5.31,0,0,0,1,6.5,5.31,5.31,0,0,0,4.9,4.9,5.31,5.31,0,0,0,6.5,1,5.31,5.31,0,0,0,8.1,4.9,5.31,5.31,0,0,0,12,6.5,5.46,5.46,0,0,0,6.5,12Z\"/>\n",
              "  </svg>\n",
              "    </button>\n",
              "    <script>\n",
              "      (() => {\n",
              "      const buttonEl =\n",
              "        document.querySelector('#id_4e6da3b3-9dc3-49fd-af2f-e986d881f3c6 button.colab-df-generate');\n",
              "      buttonEl.style.display =\n",
              "        google.colab.kernel.accessAllowed ? 'block' : 'none';\n",
              "\n",
              "      buttonEl.onclick = () => {\n",
              "        google.colab.notebook.generateWithVariable('df_ch_1_95');\n",
              "      }\n",
              "      })();\n",
              "    </script>\n",
              "  </div>\n",
              "\n",
              "    </div>\n",
              "  </div>\n"
            ],
            "application/vnd.google.colaboratory.intrinsic+json": {
              "type": "dataframe",
              "variable_name": "df_ch_1_95",
              "summary": "{\n  \"name\": \"df_ch_1_95\",\n  \"rows\": 1,\n  \"fields\": [\n    {\n      \"column\": \"\\u0422\\u0435\\u043a\\u0441\\u0442\",\n      \"properties\": {\n        \"dtype\": \"string\",\n        \"num_unique_values\": 1,\n        \"samples\": [\n          \"\\u0413\\u043b\\u0430\\u0432\\u0430 1. \\u041e\\u0431 \\u043e\\u0431\\u0449. \\u0438\\u0435 \\u0441 \\u0432 \\u0435 \\u0434 \\u0435 \\u043d \\u0438 \\u044f \\u043e \\u043c \\u0438 \\u0440 \\u0435 \\u0436 \\u0438 \\u0432 \\u043e \\u0442 \\u043d \\u044b \\u0445 1. \\u0417\\u043e\\u043e\\u043b\\u043e\\u0433\\u0438\\u044f \\u2014 \\u043d\\u0430\\u0443\\u043a\\u0430 \\u043e \\u0436\\u0438\\u0432\\u043e\\u0442\\u043d\\u044b\\u0445. \\u0412\\u044b \\u0443\\u0437\\u043d\\u0430\\u0435\\u0442\\u0435: \\u043a\\u0430\\u043a\\u0438\\u0435 \\u043d\\u0430\\u0443\\u043a\\u0438 \\u0432\\u0445\\u043e\\u0434\\u044f\\u0442 \\u0432 \\u0441\\u043e\\u0441\\u0442\\u0430\\u0432 \\u0437\\u043e\\u043e\\u043b\\u043e\\u0433\\u0438\\u0438; \\u043a\\u0430\\u043a\\u043e\\u0432\\u044b \\u043e\\u0431\\u0449\\u0438\\u0435 \\u0441\\u0432\\u043e\\u0439\\u0441\\u0442\\u0432\\u0430 \\u043e\\u0431\\u044a\\u0435\\u043a\\u0442\\u043e\\u0432, \\u0438\\u0437\\u0443\\u0447\\u0430\\u0435\\u043c\\u044b\\u0445 \\u0437\\u043e\\u043e\\u043b\\u043e\\u0433\\u0438\\u0435\\u0439; \\u043f\\u043e \\u043a\\u0430\\u043a\\u0438\\u043c \\u043f\\u0440\\u0438\\u0437\\u043d\\u0430\\u043a\\u0430\\u043c \\u0436\\u0438\\u0432\\u043e\\u0442\\u043d\\u044b\\u0435 \\u043e\\u0442\\u043b\\u0438\\u0447\\u0430\\u044e\\u0442\\u0441\\u044f \\u043e\\u0442 \\u0440\\u0430\\u0441\\u0442\\u0435\\u043d\\u0438\\u0439. \\u0412\\u0441\\u043f\\u043e\\u043c\\u043d\\u0438\\u0442\\u0435: \\u043a\\u0430\\u043a\\u043e\\u0432\\u044b \\u043e\\u0431\\u0449\\u0438\\u0435 \\u043f\\u0440\\u0438\\u0437\\u043d\\u0430\\u043a\\u0438 \\u0440\\u0430\\u0441\\u0442\\u0435\\u043d\\u0438\\u0439? \\u0412\\u0432\\u0435\\u0434\\u0435\\u043d\\u0438\\u0435: \\u0432 \\u043f\\u0440\\u0435\\u0434\\u044b\\u0434\\u0443\\u0449\\u0438\\u0445 \\u043a\\u043b\\u0430\\u0441\\u0441\\u0430\\u0445 \\u0432\\u044b \\u043f\\u043e\\u0437\\u043d\\u0430\\u043a\\u043e\\u043c\\u0438\\u043b\\u0438\\u0441\\u044c \\u0441 \\u043f\\u0440\\u0435\\u0434\\u0441\\u0442\\u0430\\u0432\\u0438\\u0442\\u0435\\u043b\\u044f\\u043c\\u0438 \\u0442\\u0440\\u0451\\u0445 \\u0446\\u0430\\u0440\\u0441\\u0442\\u0432: \\u0411\\u0430\\u043a\\u0442\\u0435\\u0440\\u0438\\u0438, \\u0413\\u0440\\u0438\\u0431\\u044b, \\u0420\\u0430\\u0441\\u0442\\u0435\\u043d\\u0438\\u044f. \\u0422\\u0435\\u043f\\u0435\\u0440\\u044c \\u0432\\u044b \\u043f\\u0440\\u0438\\u0441\\u0442\\u0443\\u043f\\u0430\\u0435\\u0442\\u0435 \\u043a \\u0438\\u0437\\u0443\\u0447\\u0435\\u043d\\u0438\\u044e \\u043d\\u043e\\u0432\\u043e\\u0433\\u043e \\u0446\\u0430\\u0440\\u0441\\u0442\\u0432\\u0430 \\u0436\\u0438\\u0432\\u044b\\u0445 \\u043e\\u0440\\u0433\\u0430\\u043d\\u0438\\u0437\\u043c\\u043e\\u0432 \\u2014 \\u0416\\u0438\\u0432\\u043e\\u0442\\u043d\\u044b\\u0435. \\u0420\\u0430\\u0437\\u0434\\u0435\\u043b \\u0431\\u0438\\u043e\\u043b\\u043e\\u0433\\u0438\\u0438, \\u043f\\u043e\\u0441\\u0432\\u044f\\u0449\\u0451\\u043d\\u043d\\u044b\\u0439 \\u0438\\u0437\\u0443\\u0447\\u0435\\u043d\\u0438\\u044e \\u0436\\u0438\\u0432\\u043e\\u0442\\u043d\\u044b\\u0445, \\u0438\\u0445 \\u0440\\u0430\\u0437\\u043d\\u043e\\u043e\\u0431\\u0440\\u0430\\u0437\\u0438\\u044f, \\u0441\\u0442\\u0440\\u043e\\u0435\\u043d\\u0438\\u044f \\u0438 \\u0436\\u0438\\u0437\\u043d\\u0435\\u0434\\u0435\\u044f\\u0442\\u0435\\u043b\\u044c\\u043d\\u043e\\u0441\\u0442\\u0438, \\u0441\\u0432\\u044f\\u0437\\u0435\\u0439 \\u0441\\u043e \\u0441\\u0440\\u0435\\u0434\\u043e\\u0439 \\u043e\\u0431\\u0438\\u0442\\u0430\\u043d\\u0438\\u044f, \\u0440\\u0430\\u0441\\u043f\\u0440\\u043e\\u0441\\u0442\\u0440\\u0430\\u043d\\u0435\\u043d\\u0438\\u044f \\u0438\\u043d\\u0434\\u0438\\u0432\\u0438\\u0434\\u0443\\u0430\\u043b\\u044c\\u043d\\u043e\\u0433\\u043e \\u0438 \\u0438\\u0441\\u0442\\u043e\\u0440\\u0438\\u0447\\u0435\\u0441\\u043a\\u043e\\u0433\\u043e \\u0440\\u0430\\u0437\\u0432\\u0438\\u0442\\u0438\\u044f, \\u0440\\u043e\\u043b\\u0438 \\u0432 \\u043f\\u0440\\u0438\\u0440\\u043e\\u0434\\u0435 \\u0438 \\u0437\\u043d. \\u0430\\u0447\\u0435\\u043d\\u0438\\u044f \\u0434\\u043b\\u044f \\u0447\\u0435\\u043b\\u043e\\u0432\\u0435\\u043a\\u0430, \\u043d\\u0430\\u0437\\u044b\\u0432\\u0430\\u0435\\u0442\\u0441\\u044f \\u0437\\u043e\\u043e\\u043b\\u043e\\u0433\\u0438\\u0435\\u0439 (\\u043e\\u0442 \\u0433\\u0440\\u0435\\u0447. \\u0437\\u043e\\u043e\\u043d  \\u2014 \\\"\\u0436\\u0438\\u0432\\u043e\\u0442\\u043d\\u043e\\u0435\\\", \\u043b\\u043e\\u0433\\u043e\\u0441  \\u2014 \\\"\\u0443\\u0447\\u0435\\u043d\\u0438\\u0435\\\"). \\u0421\\u043e\\u0432\\u0440\\u0435\\u043c\\u0435\\u043d\\u043d\\u0430\\u044f \\u0437\\u043e\\u043e\\u043b\\u043e\\u0433\\u0438\\u044f \\u2014 \\u044d\\u0442\\u043e \\u0441\\u0438\\u0441\\u0442\\u0435\\u043c\\u0430 \\u043d\\u0430\\u0443\\u043a. \\u041d\\u0430\\u043f\\u0440\\u0438\\u043c\\u0435\\u0440, \\u043c \\u043e\\u0440\\u0444\\u043e\\u043b\\u043e\\u0433\\u0438\\u0438 \\u044f \\u0438 \\u0430\\u043d\\u0430\\u0442 \\u043e \\u043c \\u0438 \\u044f \\u0436 \\u0436\\u0438\\u0432\\u043e\\u0442 \\u043d\\u044b \\u0445  \\u0438\\u0437\\u0443\\u0447\\u0430\\u044e \\u0438 \\u0432\\u043d\\u0435\\u0448\\u043d\\u0435\\u0435 \\u0438 \\u0432\\u043d\\u0443\\u0442\\u0440\\u0435\\u043d\\u043d\\u0435\\u0435 \\u0441\\u0442\\u0440\\u043e\\u0435\\u043d\\u0438\\u0435 \\u043e\\u0440\\u0433\\u0430\\u043d\\u043e\\u0432, \\u043d\\u0438\\u0437\\u043c\\u043e\\u0432. \\u0424 \\u0438 \\u0437 \\u0438 \\u043e\\u043b \\u043e\\u0433\\u0438 \\u044f \\u0436 \\u0436\\u0438\\u0432\\u043e\\u0442 \\u043d\\u044b \\u0445  \\u0438\\u0441\\u0441\\u043b\\u0435\\u0434\\u0443\\u0435\\u0442 \\u0434\\u0435\\u044f\\u0442\\u0435\\u043b\\u044c\\u043d\\u043e\\u0441\\u0442\\u044c \\u043a\\u043b\\u0435\\u0442\\u043e\\u043a, \\u043e\\u0440\\u0433\\u0430\\u043d\\u043e\\u0432, \\u0441\\u0438\\u0441\\u0442\\u0435\\u043c \\u043e\\u0440\\u0433\\u0430\\u043d\\u043e\\u0432 \\u0438 \\u0446\\u0435\\u043b\\u044b\\u0445 \\u043e\\u0440\\u0433\\u0430\\u043d\\u0438\\u0437\\u043c\\u043e\\u0432. \\u0412\\u0430\\u0436\\u043d\\u0443\\u044e \\u0447\\u0430\\u0441\\u0442\\u044c \\u0437\\u043e\\u043e\\u043b\\u043e\\u0433\\u0438\\u0438 \\u0441\\u043e\\u0441\\u0442\\u0430\\u0432\\u043b\\u044f\\u0435\\u0442 \\u044d\\u043a\\u043e\\u043b\\u043e\\u0433\\u0438\\u044f \\u044f \\u0436 \\u0436\\u0438\\u0432\\u043e\\u0442 \\u043d\\u044b \\u0445, \\u0438\\u0437\\u0443\\u0447\\u0430\\u044e \\u0449 \\u0430\\u044f \\u0432\\u0437\\u0430\\u0438\\u043c\\u043e\\u043e\\u0442\\u043d\\u043e\\u0448\\u0435\\u043d\\u0438\\u044f \\u0436\\u0438\\u0432\\u043e\\u0442\\u043d\\u044b\\u0445 \\u043c\\u0435\\u0436\\u0434\\u0443 \\u0441\\u043e\\u0431\\u043e\\u0439, \\u0441 \\u0434\\u0440\\u0443\\u0433\\u0438\\u043c\\u0438 \\u043e\\u0440\\u0433\\u0430\\u043d\\u0438\\u0437\\u043c\\u0430\\u043c\\u0438 \\u0438 \\u0441\\u043e \\u0441\\u0440\\u0435\\u0434\\u043e\\u0439 \\u043e\\u0431\\u0438\\u0442\\u0430\\u043d\\u0438\\u044f. \\u042d \\u0442 \\u043e\\u043b\\u043e\\u0433\\u0438\\u044f \\u0440\\u0430\\u0441\\u0441\\u043c\\u0430\\u0442\\u0440\\u0438\\u0432\\u0430\\u0435\\u0442 \\u043f\\u043e\\u0432\\u0435\\u0434\\u0435\\u043d\\u0438\\u0435 \\u0436\\u0438\\u0432\\u043e\\u0442\\u043d\\u044b\\u0445. \\u0417\\u043e\\u043e\\u043b\\u043e\\u0433\\u0438\\u044f \\u0438\\u0437\\u0443\\u0447\\u0430\\u0435\\u0442 \\u0440\\u0430\\u0437\\u043b\\u0438\\u0447\\u043d\\u044b\\u0445 \\u0436\\u0438\\u0432\\u043e\\u0442\\u043d\\u044b\\u0445 \\u2014 \\u0431\\u0435\\u0441\\u043f\\u043e\\u0437\\u0432\\u043e\\u043d\\u043e\\u0447\\u043d\\u044b\\u0445 \\u0438 \\u043f\\u043e\\u0437\\u0432\\u043e\\u043d\\u043e\\u0447\\u043d\\u044b\\u0445 (\\u0440\\u0438\\u0441. 1). \\u041e\\u0441\\u043e\\u0431\\u044b\\u0439 \\u043c\\u0438\\u0440 \\u043f\\u0440\\u0435\\u0434\\u0441\\u0442\\u0430\\u0432\\u043b\\u0435\\u043d \\u0436\\u0438\\u0432\\u043e\\u0442\\u043d\\u044b\\u043c\\u0438, \\u0441\\u043e\\u0441\\u0442\\u043e\\u044f\\u0449\\u0438\\u043c\\u0438 \\u0432\\u0441\\u0435\\u0433\\u043e \\u0438\\u0437 \\u043e\\u0434\\u043d\\u043e\\u0439 \\u043a\\u043b\\u0435\\u0442\\u043a\\u0438, \\u043f\\u0440\\u043e\\u0441\\u0442\\u0435\\u0439\\u0448\\u0438\\u043c\\u0438 (\\u0440\\u0438\\u0441. 2). 4  \\u0420\\u0438\\u0441. 1. \\u0420\\u0430\\u0437\\u043d\\u043e\\u043e\\u0431\\u0440\\u0430\\u0437\\u0438\\u0435 \\u043c\\u043d\\u043e\\u0433\\u043e\\u043a\\u043b\\u0435\\u0442\\u043e\\u0447\\u043d\\u044b\\u0445 \\u0436\\u0438\\u0432\\u043e\\u0442\\u043d\\u044b\\u0445: \\u0410 \\u2014 \\u0431\\u0435\\u0441\\u043f\\u043e\\u0437\\u0432\\u043e\\u043d\\u043e\\u0447\\u043d\\u044b\\u0435; \\u0411 \\u2014 \\u043f\\u043e\\u0437\\u0432\\u043e\\u043d\\u043e\\u0447\\u043d\\u044b\\u0435 5  \\u0420\\u0438\\u0441. 2. \\u0420\\u0430\\u0437\\u043d\\u043e\\u043e\\u0431\\u0440\\u0430\\u0437\\u0438\\u0435 \\u043e\\u0434\\u043d\\u043e\\u043a\\u043b\\u0435\\u0442\\u043e\\u0447\\u043d\\u044b\\u0445 \\u0436\\u0438\\u0432\\u043e\\u0442\\u043d\\u044b\\u0445 (\\u043f\\u0440\\u043e\\u0441\\u0442\\u0435\\u0439\\u0448\\u0438\\u0445). \\u0421\\u0445\\u043e\\u0434\\u0441\\u0442\\u0432\\u043e \\u0438 \\u0440\\u0430\\u0437\\u043b\\u0438\\u0447\\u0438\\u0435 \\u0436\\u0438\\u0432\\u043e\\u0442\\u043d\\u044b\\u0445 \\u0438 \\u0440\\u0430\\u0441\\u0442\\u0435\\u043d\\u0438\\u0439. \\u0414\\u043b\\u044f \\u0436\\u0438\\u0432\\u043e\\u0442\\u043d\\u044b\\u0445, \\u043a\\u0430\\u043a \\u0438 \\u0434\\u043b\\u044f \\u0431\\u043e\\u043b\\u044c\\u0448\\u0438\\u043d\\u0441\\u0442\\u0432\\u0430 \\u0434\\u0440\\u0443\\u0433\\u0438\\u0445 \\u0436\\u0438\\u0432\\u044b\\u0445 \\u043e\\u0440\\u0433\\u0430\\u043d\\u0438\\u0437\\u043c\\u043e\\u0432, \\u0445\\u0430\\u0440\\u0430\\u043a\\u0442\\u0435\\u0440\\u043d\\u044b \\u0441\\u043b\\u0435\\u0434\\u0443\\u044e\\u0449\\u0438\\u0435 \\u043e\\u0441\\u043e\\u0431\\u0435\\u043d\\u043d\\u043e\\u0441\\u0442\\u0438: \\u043a\\u043b\\u0435\\u0442\\u043e\\u0447\\u043d\\u043e\\u0435 \\u0441\\u0442\\u0440\\u043e\\u0435\\u043d\\u0438\\u0435, \\u0441\\u043f\\u043e\\u0441\\u043e\\u0431\\u043d\\u043e\\u0441\\u0442\\u044c \\u043a \\u043f\\u0438\\u0442\\u0430\\u043d\\u0438\\u044e, \\u0434\\u044b\\u0445\\u0430\\u043d\\u0438\\u044e, \\u0432\\u044b\\u0434\\u0435\\u043b\\u0435\\u043d\\u0438\\u044e, \\u043d\\u0430\\u043b\\u0438\\u0447\\u0438\\u0435 \\u043e\\u0431\\u043c\\u0435\\u043d\\u0430 \\u0432\\u0435\\u0449\\u0435\\u0441\\u0442\\u0432 \\u043c\\u0435\\u0436\\u0434\\u0443 \\u043e\\u0440\\u0433\\u0430\\u043d\\u0438\\u0437\\u043c\\u043e\\u043c \\u0438 \\u043e\\u043a\\u0440\\u0443\\u0436\\u0430\\u044e\\u0449\\u0435\\u0439 \\u0435\\u0439 \\u0441\\u0440\\u0435\\u0434\\u043e\\u0439, \\u0441\\u043f\\u043e\\u0441\\u043e\\u0431\\u043d\\u043e\\u0441\\u0442\\u044c \\u043a \\u0440\\u0430\\u0437\\u043c\\u043d\\u043e\\u0436\\u0435\\u043d\\u0438\\u044e, \\u0440\\u043e\\u0441\\u0442\\u0443, \\u0440\\u0430\\u0437\\u0432\\u0438\\u0442\\u0438\\u044e. \\u0416\\u0438\\u0432\\u043e\\u0442\\u043d\\u044b\\u0435 \\u043e\\u0442\\u043b\\u0438\\u0447\\u0430\\u044e\\u0442\\u0441\\u044f \\u043e\\u0442 \\u0440\\u0430\\u0441\\u0442\\u0435\\u043d\\u0438\\u0439 \\u043f\\u043e \\u0441\\u043b\\u0435\\u0434\\u0443\\u044e\\u0449\\u0438\\u043c \\u043f\\u0440\\u0438\\u0437\\u043d\\u0430\\u043a\\u0430\\u043c. \\u041a\\u043b\\u0435\\u0442\\u043a\\u0438 \\u0436\\u0438\\u0432\\u043e\\u0442\\u043d\\u044b\\u0445 \\u043d\\u0435 \\u0438\\u043c\\u0435\\u044e\\u0442 \\u0442\\u0432\\u0451\\u0440\\u0434\\u043e\\u0439 \\u0446\\u0435\\u043b\\u043b\\u044e\\u043b\\u043e\\u0437\\u043d\\u043e\\u0439 \\u043e\\u0431\\u043e\\u043b\\u043e\\u0447\\u043a\\u0438. \\u0412 \\u043e\\u0442\\u043b\\u0438\\u0447\\u0438\\u0435 \\u043e\\u0442 \\u0440\\u0430\\u0441\\u0442\\u0435\\u043d\\u0438\\u0439, \\u0436\\u0438\\u0432\\u043e\\u0442\\u043d\\u044b\\u0435 \\u043f\\u0438\\u0442\\u0430\\u044e\\u0442\\u0441\\u044f \\u0433\\u043e\\u0442\\u043e\\u0432\\u044b\\u043c\\u0438 \\u043e\\u0440\\u0433\\u0430\\u043d\\u0438\\u0447\\u0435\\u0441\\u043a\\u0438\\u043c\\u0438 \\u0432\\u0435\\u0449\\u0435\\u0441\\u0442\\u0432\\u0430\\u043c\\u0438. \\u0412 \\u043f\\u0440\\u0438\\u0440\\u043e\\u0434\\u043d\\u044b\\u0445 \\u0441\\u043e\\u043e\\u0431\\u0449\\u0435\\u0441\\u0442\\u0432\\u0430\\u0445 \\u043e\\u043d\\u0438 \\u0438\\u0433\\u0440\\u0430\\u044e\\u0442 \\u0440\\u043e\\u043b\\u044c \\u043f\\u043e\\u0442\\u0440\\u0435\\u0431\\u0438\\u0442\\u0435\\u043b\\u0435\\u0439 \\u043e\\u0440\\u0433\\u0430\\u043d\\u0438\\u0447\\u0435\\u0441\\u043a\\u043e\\u0433\\u043e \\u0432\\u0435\\u0449\\u0435\\u0441\\u0442\\u0432\\u0430. \\u0416\\u0438\\u0432\\u043e\\u0442\\u043d\\u044b\\u0435 \\u0441\\u043f\\u043e\\u0441\\u043e\\u0431\\u043d\\u044b \\u0432\\u043e\\u0441\\u043f\\u0440\\u0438\\u043d\\u0438\\u043c\\u0430\\u0442\\u044c \\u0440\\u0430\\u0437\\u0434\\u0440\\u0430\\u0436\\u0435\\u043d\\u0438\\u044f \\u0438 \\u0440\\u0435\\u0430\\u0433\\u0438\\u0440\\u043e\\u0432\\u0430\\u0442\\u044c \\u043d\\u0430 \\u043d\\u0438\\u0445. \\u041e\\u043d\\u0438 \\u043c\\u043e\\u0433\\u0443\\u0442 \\u0430\\u043a\\u0442\\u0438\\u0432\\u043d\\u043e \\u043f\\u0435\\u0440\\u0435\\u0434\\u0432\\u0438\\u0433\\u0430\\u0442\\u044c\\u0441\\u044f. \\u0411\\u043e\\u043b\\u044c\\u0448\\u0438\\u043d\\u0441\\u0442\\u0432\\u043e \\u0441\\u0430\\u043c\\u0438 \\u0434\\u043e\\u0431\\u044b\\u0432\\u0430\\u044e\\u0442 \\u0441\\u0435\\u0431\\u0435 \\u043f\\u0438\\u0449\\u0443, \\u043f\\u0440\\u0435\\u0441\\u043b\\u0435\\u0434\\u0443\\u044e\\u0442 \\u0434\\u043e\\u0431\\u044b\\u0447\\u0443. \\u0420\\u0430\\u0437\\u043d\\u043e\\u043e\\u0431\\u0440\\u0430\\u0437\\u0438\\u0435 \\u0436\\u0438\\u0432\\u043e\\u0442\\u043d\\u044b\\u0445 \\u043f\\u043e \\u0434\\u0430\\u043d\\u043d\\u044b\\u043c \\u0412\\u0441\\u0435\\u043c\\u0438\\u0440\\u043d\\u043e\\u0433\\u043e (\\u041c\\u0435\\u0436\\u0434\\u0443\\u043d\\u0430\\u0440\\u043e\\u0434\\u043d\\u043e\\u0433\\u043e) \\u0441\\u043e\\u044e\\u0437\\u0430 \\u043e\\u0445\\u0440\\u0430\\u043d\\u044b \\u043f\\u0440\\u0438\\u0440\\u043e\\u0434\\u044b I (\\u0412\\u0421\\u041e\\u041f) \\u043d\\u0430 \\u0417\\u0435\\u043c\\u043b\\u0435 \\u0441\\u0443\\u0449\\u0435\\u0441\\u0442\\u0432\\u0443\\u0435\\u0442 \\u0431\\u043e\\u043b\\u0435\\u0435 1,2 \\u043c\\u043b\\u043d \\u0432\\u0438\\u0434\\u043e\\u0432 \\u0436\\u0438\\u0432\\u043e\\u0442\\u043d\\u044b\\u0445. \\u0411\\u043e\\u043b\\u044c\\u0448\\u0435 \\u0432\\u0441\\u0435\\u0445 I \\u0435\\u0433\\u043e \\u043d\\u0430\\u0441\\u0435\\u043a\\u043e\\u043c\\u044b\\u0445 \\u2014 \\u043e\\u043a\\u043e\\u043b\\u043e 1 \\u043c\\u043b\\u043d \\u0432\\u0438\\u0434\\u043e\\u0432. \\u0418\\u0437\\u0432\\u0435\\u0441\\u0442\\u043d\\u043e \\u043e\\u043a\\u043e\\u043b\\u043e 70 \\u0442\\u044b\\u0441. \\u0432\\u0438\\u0434\\u043e\\u0432 \\u043c\\u043e\\u043b\\u043b\\u044e\\u0441\\u043a\\u043e\\u0432, I  \\u043a\\u043e\\u0432, \\u0441\\u0432\\u044b\\u0448\\u0435 29 \\u0442\\u044b\\u0441. \\u0432\\u0438\\u0434\\u043e\\u0432 \\u0440\\u044b\\u0431. \\u0421\\u043e\\u0432\\u0440\\u0435\\u043c\\u0435\\u043d\\u043d\\u044b\\u0445 \\u043f\\u0442\\u0438\\u0446 \\u043d\\u0430\\u0441\\u0447\\u0438\\u0442\\u044b\\u0432\\u0430\\u044e\\u0442 \\u043f\\u043e \\u0441\\u0440\\u0430\\u0432\\u043d\\u0435\\u043d\\u0438\\u044e I \\u043d\\u0438 \\u0441 \\u0434\\u0440\\u0443\\u0433\\u0438\\u043c\\u0438 \\u0433\\u0440\\u0443\\u043f\\u043f\\u0430\\u043c\\u0438 \\u043d\\u0435\\u043c\\u043d\\u043e\\u0433\\u043e \\u2014 \\u043e\\u043a\\u043e\\u043b\\u043e 9000 \\u0432\\u0438\\u0434\\u043e\\u0432, \\u0435\\u0449\\u0451 \\u043c\\u0435\\u043d\\u044c\\u0448\\u0435 \\u043c\\u043b\\u0435\\u043a\\u043e- I, \\u043f\\u0438\\u0442\\u0430\\u044e\\u0449\\u0438\\u0445 \\u043e\\u043a\\u043e\\u043b\\u043e 5000 \\u0432\\u0438\\u0434\\u043e\\u0432. \\u0420\\u0430\\u0441\\u043f\\u0440\\u043e\\u0441\\u0442\\u0440\\u0430\\u043d\\u0435\\u043d\\u044b \\u0436\\u0438\\u0432\\u043e\\u0442\\u043d\\u044b\\u0435 \\u043f\\u043e \\u0432\\u0441\\u0435\\u043c\\u0443 \\u0437\\u0435\\u043c\\u043d\\u043e\\u043c\\u0443 \\u0448\\u0430\\u0440\\u0443. \\u041e\\u043d\\u0438 \\u043e\\u0441\\u0432\\u043e\\u0438\\u043b\\u0438 \\u0440\\u0430\\u0437- I, \\u043d\\u044b\\u0435 \\u0441\\u0440\\u0435\\u0434\\u044b \\u0436\\u0438\\u0437\\u043d\\u0438 \\u2014 \\u0432\\u043e\\u0434\\u043d\\u0443\\u044e, \\u043d\\u0430\\u0437\\u0435\\u043c\\u043d\\u043e-\\u0432\\u043e\\u0437\\u0434\\u0443\\u0448\\u043d\\u0443\\u044e, \\u043f\\u043e\\u0447\\u0432\\u0435\\u043d\\u043d\\u0443\\u044e. \\u0418\\u0437\\u0432\\u0435\\u0441\\u0442\\u043d\\u044b \\u0438 \\u0442\\u0430\\u043a\\u0438\\u0435 \\u0436\\u0438\\u0432\\u043e\\u0442\\u043d\\u044b\\u0435, \\u043a\\u043e\\u0442\\u043e\\u0440\\u044b\\u0435 \\u043e\\u0431\\u0438\\u0442\\u0430\\u044e\\u0442 \\u0432 \\u0440\\u0430\\u0441\\u0442\\u0435\\u043d\\u0438\\u044f\\u0445. \\u041d\\u0435\\u043a\\u043e\\u0442\\u043e\\u0440\\u044b\\u0435 \\u043f\\u0430\\u0440\\u0430\\u0437\\u0438\\u0442\\u0438\\u0440\\u0443\\u044e\\u0442 \\u0432 \\u043e\\u0440\\u0433\\u0430\\u043d\\u0438\\u0437\\u043c\\u0430\\u0445 \\u0434\\u0440\\u0443\\u0433\\u0438\\u0445 \\u0436\\u0438\\u0432\\u043e\\u0442\\u043d\\u044b\\u0445 \\u0438 \\u0447\\u0435\\u043b\\u043e\\u0432\\u0435\\u043a\\u0430. \\u0416\\u0438\\u0432\\u043e\\u0442\\u043d\\u044b\\u0435 \\u043e\\u0447\\u0435\\u043d\\u044c \\u0440\\u0430\\u0437\\u043d\\u043e\\u043e\\u0431\\u0440\\u0430\\u0437\\u043d\\u044b \\u043f\\u043e \\u043e\\u0431\\u043b\\u0438\\u043a\\u0443 \\u0438 \\u0441\\u0442\\u0440\\u043e\\u0435\\u043d\\u0438\\u044e, \\u0440\\u0430\\u0437\\u043c\\u0435\\u0440\\u0430\\u043c, \\u043e\\u0431\\u0440\\u0430\\u0437\\u0443 \\u0436\\u0438\\u0437\\u043d\\u0438. \\u041e\\u0434\\u043d\\u0438 \\u043f\\u0435\\u0440\\u0435\\u0434\\u0432\\u0438\\u0433\\u0430\\u044e\\u0442\\u0441\\u044f \\u0432 \\u0432\\u043e\\u0434\\u0435 \\u0441 \\u043f\\u043e\\u043c\\u043e\\u0449\\u044c\\u044e \\u0440\\u0435\\u0441\\u043d\\u0438\\u0447\\u0435\\u043a, \\u0434\\u0440\\u0443\\u0433\\u0438\\u0435 \\u2014 \\u0437\\u0430 I \\u0441\\u0447\\u0451\\u0442 \\u043f\\u043b\\u0430\\u0432\\u043d\\u0438\\u043a\\u043e\\u0432. \\u0411\\u043e\\u043b\\u044c\\u0448\\u0438\\u043d\\u0441\\u0442\\u0432\\u043e \\u043d\\u0430\\u0437\\u0435\\u043c\\u043d\\u044b\\u0445 \\u0436\\u0438\\u0432\\u043e\\u0442\\u043d\\u044b\\u0445 \\u043f\\u0440\\u0438 \\u0434\\u0432\\u0438\\u0436\\u0435\\u043d\\u0438\\u0438 \\u043e\\u043f\\u0438\\u0440\\u0430\\u044e\\u0442\\u0441\\u044f \\u043d\\u0430 \\u043f\\u0430\\u0440\\u043d\\u044b\\u0435 \\u043a\\u043e\\u043d\\u0435\\u0447\\u043d\\u043e\\u0441\\u0442\\u0438. \\u041d\\u0430\\u0441\\u0435\\u043a\\u043e\\u043c\\u044b\\u0435, \\u043f\\u0442\\u0438\\u0446\\u044b, \\u043b\\u0435\\u0442\\u0443\\u0447\\u0438\\u0435 \\u043c\\u044b\\u0448\\u0438 \\u0434\\u043b\\u044f \\u043f\\u043e\\u043b\\u0451\\u0442\\u0430 I \\u0438\\u0441\\u043f\\u043e\\u043b\\u044c\\u0437\\u0443\\u044e\\u0442 \\u043a\\u0440\\u044b\\u043b\\u044c\\u044f. \\u0411 \\u0420\\u0438\\u0441. 3. \\u0421\\u0440\\u0430\\u0432\\u043d\\u0438\\u0442\\u0435\\u043b\\u044c\\u043d\\u044b\\u0435 \\u0440\\u0430\\u0437\\u043c\\u0435\\u0440\\u044b \\u0436\\u0438\\u0432\\u043e\\u0442\\u043d\\u044b\\u0445 (\\u043f\\u0440\\u043e\\u0441\\u0442\\u0435\\u0439\\u0448\\u0438\\u0435 \\u0434\\u0430\\u043d\\u044b \\u0432 \\u043f\\u043e\\u043b\\u0435 \\u043e\\u043f\\u0442\\u0438\\u0447\\u0435\\u0441\\u043a\\u043e\\u0433\\u043e \\u043c\\u0438\\u043a\\u0440\\u043e\\u0441\\u043a\\u043e\\u043f\\u0430). \\u0421\\u0430\\u043c\\u044b\\u0445 \\u043c\\u0430\\u043b\\u0435\\u043d\\u044c\\u043a\\u0438\\u0445 \\u0436\\u0438\\u0432\\u043e\\u0442\\u043d\\u044b\\u0445 \\u043c\\u043e\\u0436\\u043d\\u043e \\u0443\\u0432\\u0438\\u0434\\u0435\\u0442\\u044c \\u0442\\u043e\\u043b\\u044c\\u043a\\u043e \\u043f\\u043e\\u0434 \\u043c\\u0438\\u043a\\u0440\\u043e\\u0441\\u043a\\u043e\\u043f\\u043e\\u043c. \\u041a\\u0440\\u0443\\u043f\\u043d\\u044b\\u0435 \\u043d\\u0430\\u0437\\u0435\\u043c\\u043d\\u044b\\u0435 \\u0436\\u0438\\u0432\\u043e\\u0442\\u043d\\u044b\\u0435, \\u043d\\u0430\\u043f\\u0440\\u0438\\u043c\\u0435\\u0440 \\u0441\\u043b\\u043e\\u043d\\u044b, \\u0434\\u043e\\u0441\\u0442\\u0438\\u0433\\u0430\\u044e\\u0442 \\u0432 \\u0432\\u044b\\u0441\\u043e\\u0442\\u0443 3,5 \\u043c, \\u0430 \\u043c\\u0430\\u0441\\u0441\\u0430 \\u0438\\u0445 \\u0442\\u0435\\u043b\\u0430 \\u043e\\u043a\\u043e\\u043b\\u043e 5 \\u0442. \\u0421\\u0430\\u043c\\u043e\\u0435 \\u0431\\u043e\\u043b\\u044c\\u0448\\u043e\\u0435 \\u0436\\u0438\\u0432\\u043e\\u0442\\u043d\\u043e\\u0435 \\u0438\\u0437 \\u043a\\u043e\\u0433\\u0434\\u0430-\\u043b\\u0438\\u0431\\u043e \\u0436\\u0438\\u0432\\u0448\\u0438\\u0445 \\u0438 \\u0436\\u0438\\u0432\\u0443\\u0449\\u0438\\u0445 \\u043d\\u0430 \\u0417\\u0435\\u043c\\u043b\\u0435 \\u2014 \\u0441\\u0438\\u043d\\u0438\\u0439 \\u043a\\u0438\\u0442 \\u0434\\u043b\\u0438\\u043d\\u043e\\u0439 \\u0431\\u043e\\u043b\\u0435\\u0435 30 \\u043c \\u0438 \\u043c\\u0430\\u0441\\u0441\\u043e\\u0439 \\u0434\\u043e 150 \\u0442 (\\u0440\\u0438\\u0441. 3). \\u0417\\u043d\\u0430\\u0447\\u0435\\u043d\\u0438\\u0435 \\u0436\\u0438\\u0432\\u043e\\u0442\\u043d\\u044b\\u0445. \\u0416\\u0438\\u0432\\u043e\\u0442\\u043d\\u044b\\u0435 \\u0440\\u0430\\u0437\\u043b\\u0438\\u0447\\u0430\\u044e\\u0442\\u0441\\u044f \\u043d\\u0435 \\u0442\\u043e\\u043b\\u044c\\u043a\\u043e \\u043f\\u043e \\u0432\\u043d\\u0435\\u0448\\u043d\\u0435\\u043c\\u0443 \\u043e\\u0431\\u043b\\u0438\\u043a\\u0443, \\u0441\\u0442\\u0440\\u043e\\u0435\\u043d\\u0438\\u044e, \\u043e\\u0431\\u0440\\u0430\\u0437\\u0443 \\u0436\\u0438\\u0437\\u043d\\u0438, \\u043d\\u043e \\u0438 \\u043f\\u043e \\u0442\\u043e\\u0439 \\u0440\\u043e\\u043b\\u0438, \\u043a\\u043e\\u0442\\u043e\\u0440\\u0443\\u044e \\u043e\\u043d\\u0438 \\u0438\\u0433\\u0440\\u0430\\u044e\\u0442 \\u0432 \\u043f\\u0440\\u0438\\u0440\\u043e\\u0434\\u043d\\u044b\\u0445 \\u0441\\u043e\\u043e\\u0431\\u0449\\u0435\\u0441\\u0442\\u0432\\u0430\\u0445. \\u0412\\u0435\\u043b\\u0438\\u043a\\u0430 \\u0440\\u043e\\u043b\\u044c \\u0432 \\u043f\\u0440\\u0438\\u0440\\u043e\\u0434\\u0435 \\u0436\\u0438\\u0432\\u043e\\u0442\\u043d\\u044b\\u0445 \\u2014 \\u043e\\u043f\\u044b \\u043b\\u0438\\u0442 \\u0435\\u043b\\u0435\\u0439 \\u0440\\u0430\\u0441\\u0442\\u0435\\u043d\\u0438\\u0439 (\\u0440\\u0438\\u0441. 4). \\u042d\\u0442\\u043e \\u0431\\u0430\\u0431\\u043e\\u0447\\u043a\\u0438, \\u0436\\u0443\\u043a\\u0438, \\u043c\\u0443\\u0445\\u0438, \\u0448\\u043c\\u0435\\u043b\\u0438, \\u043f\\u0447\\u0451\\u043b\\u044b \\u0438 \\u0434\\u0440\\u0443\\u0433\\u0438\\u0435 \\u043e\\u0440\\u0433\\u0430\\u043d\\u0438\\u0437\\u043c\\u044b. \\u0411\\u0435\\u0437 \\u043d\\u0438\\u0445 \\u043e\\u0431\\u043b\\u0438\\u043a \\u043d\\u0430\\u0448\\u0438\\u0445 \\u043b\\u0435\\u0441\\u043e\\u0432, \\u043b\\u0443\\u0433\\u043e\\u0432, \\u043f\\u043e\\u043b\\u0435\\u0439 \\u0431\\u044b\\u043b \\u0431\\u044b \\u0441\\u043e\\u0432\\u0441\\u0435\\u043c \\u0434\\u0440\\u0443\\u0433\\u0438\\u043c. \\u041c\\u043d\\u043e\\u0433\\u0438\\u0435 \\u0436\\u0438\\u0432\\u043e\\u0442\\u043d\\u044b\\u0435 \\u0440\\u0430\\u0441\\u043f\\u0440\\u043e\\u0441\\u0442\\u0440\\u0430\\u043d\\u044f\\u044e\\u0442 \\u043f\\u043b\\u043e\\u0434\\u044b \\u0438 \\u0441\\u0435\\u043c\\u0435\\u043d\\u0430 \\u0440\\u0430\\u0441\\u0442\\u0435\\u043d\\u0438\\u0439, \\u043f\\u0435\\u0440\\u0435\\u043d\\u043e\\u0441\\u044f \\u0438\\u0445 \\u043d\\u0430 \\u0448\\u0435\\u0440\\u0441\\u0442\\u0438 \\u0438 \\u043f\\u0435\\u0440\\u044c\\u044f\\u0445 \\u0438\\u043b\\u0438 \\u043f\\u0438\\u0442\\u0430\\u044f\\u0441\\u044c \\u0441\\u043e\\u0447\\u043d\\u044b\\u043c\\u0438 \\u043f\\u043b\\u043e\\u0434\\u0430\\u043c\\u0438. \\u041c\\u044f\\u043a\\u044c\\u044c \\u043f\\u0435\\u0440\\u0435\\u0432\\u0430\\u0440\\u0438\\u0432\\u0430\\u0435\\u0442\\u0441\\u044f, \\u0430 \\u0441\\u0435\\u043c\\u0435\\u043d\\u0430 \\u043f\\u0440\\u043e\\u0445\\u043e\\u0434\\u044f\\u0442 \\u0447\\u0435\\u0440\\u0435\\u0437 \\u043a\\u0438\\u0448, \\u0435\\u0447\\u043d\\u0438\\u043a \\u0438 \\u0440\\u0430\\u0437\\u043d\\u043e\\u0441\\u044f\\u0442\\u0441\\u044f \\u043d\\u0430 \\u0431\\u043e\\u043b\\u044c\\u0448\\u0438\\u0435 \\u0440\\u0430\\u0441\\u0441\\u0442\\u043e\\u044f\\u043d\\u0438\\u044f. \\u041d\\u0435\\u043a\\u043e\\u0442\\u043e\\u0440\\u044b\\u0435 \\u0436\\u0438\\u0432\\u043e\\u0442\\u043d\\u044b\\u0435 \\u0438\\u0433\\u0440\\u0430\\u044e\\u0442 \\u043e\\u0442\\u0440\\u0438\\u0446\\u0430\\u0442\\u0435\\u043b\\u044c\\u043d\\u0443\\u044e \\u0440\\u043e\\u043b\\u044c \\u0432 \\u043f\\u0440\\u0438\\u0440\\u043e\\u0434\\u043d\\u044b\\u0445 \\u0441\\u043e\\u043e\\u0431\\u0449\\u0435\\u0441\\u0442\\u0432\\u0430\\u0445. \\u041c\\u0430\\u0441\\u0441\\u043e\\u0432\\u043e\\u0435 \\u043f\\u043e\\u044f\\u0432\\u043b\\u0435\\u043d\\u0438\\u0435 \\u0433\\u0443\\u0441\\u0435\\u043d\\u0438\\u0446 \\u043d\\u0435\\u043f\\u0430\\u0440\\u043d\\u043e\\u0433\\u043e \\u0448\\u0435\\u043b\\u043a\\u043e\\u043f\\u0440\\u044f\\u0434\\u0430 \\u043d\\u0430\\u043d\\u043e\\u0441\\u0438\\u0442 \\u043e\\u0433\\u0440\\u043e\\u043c\\u043d\\u044b\\u0439 \\u0432\\u0440\\u0435\\u0434 \\u043b\\u0435\\u0441\\u0430\\u043c. \\u041e\\u043d\\u0438 \\u043f\\u043e\\u0435\\u0434\\u0430\\u044e\\u0442 \\u043b\\u0438\\u0441\\u0442\\u044c\\u044f, \\u043f\\u043e\\u0447\\u043a\\u0438, \\u043c\\u043e\\u043b\\u043e\\u0434\\u044b\\u0435 \\u043f\\u043e\\u0431\\u0435\\u0433\\u0438. \\u0421\\u0442\\u0430\\u0438 7  \\u0420\\u0438\\u0441. 4. \\u041d\\u0430\\u0441\\u0435\\u043a\\u043e\\u043c\\u044b\\u0435 \\u2014 \\u043e\\u043f\\u044b\\u043b\\u0438\\u0442\\u0435\\u043b\\u0438 \\u0440\\u0430\\u0441\\u0442\\u0435\\u043d\\u0438\\u0439 \\u0430\\u0437\\u0438\\u0430\\u0442\\u0441\\u043a\\u043e\\u0439 \\u043f\\u0435\\u0440\\u0435\\u043b\\u0451\\u0442\\u043d\\u043e\\u0439 \\u0441\\u0430\\u0440\\u0430\\u043d\\u0447\\u0438 (\\u0440\\u0438\\u0441. 5) \\u0443\\u043d\\u0438\\u0447\\u0442\\u043e\\u0436\\u0430\\u044e\\u0442 \\u0440\\u0430\\u0441\\u0442\\u0438\\u0442\\u0435\\u043b\\u044c\\u043d\\u043e\\u0441\\u0442\\u044c \\u043d\\u0430 \\u043e\\u0433\\u0440\\u043e\\u043c\\u043d\\u044b\\u0445 \\u043f\\u043b\\u043e\\u0449\\u0430\\u0434\\u044f\\u0445, \\u043b\\u0438\\u0448\\u0430\\u044f \\u043f\\u0438\\u0449\\u0438 \\u0434\\u0440\\u0443\\u0433\\u0438\\u0435 \\u0440\\u0430\\u0441\\u0442\\u0438\\u0442\\u0435\\u043b\\u044c\\u043d\\u043e\\u044f\\u0434\\u043d\\u044b\\u0435 \\u043e\\u0440\\u0433\\u0430\\u043d\\u0438\\u0437\\u043c\\u044b. \\u0415\\u0441\\u0442\\u044c \\u0436\\u0438\\u0432\\u043e\\u0442\\u043d\\u044b\\u0435, \\u0432\\u044b\\u0437\\u044b\\u0432\\u0430\\u044e\\u0449\\u0438\\u0435 \\u0442\\u0435 \\u0431\\u043e\\u043b\\u0435\\u0437\\u043d\\u0438 \\u0443 \\u0440\\u0430\\u0441\\u0442\\u0435\\u043d\\u0438\\u0439, \\u0434\\u0440\\u0443\\u0433\\u0438\\u0445 \\u0436\\u0438\\u0432\\u043e\\u0442\\u043d\\u044b\\u0445 \\u0438 \\u0447\\u0435\\u043b\\u043e\\u0432\\u0435\\u043a\\u0430. \\u041e\\u0442\\u0434\\u0435\\u043b\\u044c\\u043d\\u044b\\u0435 \\u0436\\u0438\\u0432\\u043e\\u0442\\u043d\\u044b\\u0435, \\u043d\\u0430\\u043e\\u0431\\u043e\\u0440\\u043e\\u0442, \\u0441\\u043d\\u0438\\u0436\\u0430\\u044e\\u0442 \\u0447\\u0438\\u0441\\u043b\\u043e \\u0432\\u0440\\u0435\\u0434\\u0438\\u0442\\u0435\\u043b\\u0435\\u0439 \\u043b\\u0435\\u0441\\u043d\\u044b\\u0445 \\u0438 \\u043a\\u0443\\u043b\\u044c\\u0442\\u0443\\u0440\\u043d\\u044b\\u0445 \\u0440\\u0430\\u0441\\u0442\\u0435\\u043d\\u0438\\u0439, \\u043f\\u0438\\u0442\\u0430\\u044f\\u0441\\u044c \\u0438\\u043c\\u0438. \\u0411\\u043e\\u043b\\u044c\\u0448\\u0443\\u044e \\u0446\\u0435\\u043d\\u043d\\u043e\\u0441\\u0442\\u044c \\u0434\\u043b\\u044f \\u0447\\u0435\\u043b\\u043e\\u0432\\u0435\\u043a\\u0430 \\u0438\\u043c\\u0435\\u044e\\u0442 \\u0434\\u0438\\u043a\\u0438\\u0435 \\u0436\\u0438\\u0432\\u043e\\u0442\\u043d\\u044b\\u0435 \\u043a\\u0430\\u043a \\u043e\\u0431\\u044a\\u0435\\u043a\\u0442\\u044b \\u043e\\u0445\\u043e\\u0442\\u044b. \\u0417\\u043d\\u0430\\u0447\\u0438\\u0442\\u0435\\u043b\\u044c\\u043d\\u0443\\u044e \\u0447\\u0430\\u0441\\u0442\\u044c \\u0431\\u0435\\u043b\\u043a\\u043e\\u0432\\u043e\\u0439 \\u043f\\u0438\\u0449\\u0438 \\u0447\\u0435\\u043b\\u043e\\u0432\\u0435\\u043a \\u043f\\u043e\\u043b\\u0443\\u0447\\u0430\\u0435\\u0442 \\u0437\\u0430 \\u0441\\u0447\\u0451\\u0442 \\u0432\\u044b\\u043b\\u043e\\u0432\\u0430 \\u0440\\u044b\\u0431\\u044b \\u0432 \\u043c\\u043e\\u0440\\u044f\\u0445 \\u0438 \\u043e\\u043a\\u0435\\u0430\\u043d\\u0430\\u0445, \\u043f\\u0440\\u043e\\u043c\\u044b\\u0441\\u043b\\u0430 \\u043c\\u043e\\u0440\\u0441\\u043a\\u043e\\u0433\\u043e \\u0437\\u0432\\u0435\\u0440\\u044f, \\u043e\\u0445\\u043e\\u0442\\u044b \\u043d\\u0430 \\u043a\\u0430\\u0431\\u0430\\u043d\\u043e\\u0432, \\u043e\\u043b\\u0435\\u043d\\u0435\\u0439, \\u0432\\u043e\\u0434\\u043e\\u043f\\u043b\\u0430\\u0432\\u0430\\u044e\\u0449\\u0438\\u0445 \\u0438 \\u043b\\u0435\\u0441\\u043d\\u044b\\u0445 \\u043f\\u0442\\u0438\\u0446. \\u0418\\u0441\\u043a\\u043b\\u044e\\u0447\\u0438\\u0442\\u0435\\u043b\\u044c\\u043d\\u043e \\u0432\\u0430\\u0436\\u043d\\u043e\\u0435 \\u0437\\u043d\\u0430\\u0447\\u0435\\u043d\\u0438\\u0435 \\u0434\\u043b\\u044f \\u043b\\u044e\\u0434\\u0435\\u0439 \\u0438\\u043c\\u0435\\u044e\\u0442 \\u0434\\u043e\\u043c\\u0430\\u0448\\u043d\\u0438\\u0435 \\u0436\\u0438\\u0432\\u043e\\u0442\\u043d\\u044b\\u0435 \\u043d\\u044b\\u0435. \\u041c\\u044b \\u043f\\u043e\\u043b\\u0443\\u0447\\u0430\\u0435\\u043c \\u043e\\u0442 \\u043d\\u0438\\u0445 \\u043f\\u0440\\u043e\\u0434\\u0443\\u043a\\u0442\\u044b \\u043f\\u0438\\u0442\\u0430\\u043d\\u0438\\u044f (\\u043c\\u043e\\u043b\\u043e\\u043a\\u043e, \\u044f\\u0439\\u0446\\u0430, \\u043c\\u0451\\u0434), \\u0448\\u0435\\u0440\\u0441\\u0442\\u044c, \\u043f\\u0443\\u0445, \\u043a\\u043e\\u0436\\u0443, \\u0448\\u0451\\u043b\\u043a. \\u0414\\u043e\\u043c\\u0430\\u0448\\u043d\\u0438\\u0435 \\u0436\\u0438\\u0432\\u043e\\u0442\\u043d\\u044b\\u0435 \\u0436\\u0438\\u0432\\u0443\\u0442 \\u043d\\u044b\\u0435, \\u0432\\u044b\\u043f\\u043e\\u043b\\u043d\\u044f\\u044e\\u0442 \\u0440\\u0430\\u0437\\u043b\\u0438\\u0447\\u043d\\u0443\\u044e \\u0440\\u0430\\u0431\\u043e\\u0442\\u0443 \\u0432 \\u0441\\u0435\\u043b\\u044c\\u0441\\u043a\\u043e\\u043c \\u0445\\u043e\\u0437\\u044f\\u0439\\u0441\\u0442\\u0432\\u0435, \\u0441\\u043b\\u0443\\u0436\\u0430\\u0442 \\u0442\\u0440\\u0430\\u043d\\u0441 \\u043f\\u043e\\u0440\\u0442\\u043d\\u044b\\u043c\\u0438 \\u0441\\u0440\\u0435\\u0434\\u0441\\u0442\\u0432\\u0430\\u043c\\u0438. \\u0414\\u0435\\u043a\\u043e\\u0440\\u0430\\u0442\\u0438\\u0432\\u043d\\u044b\\u0435 \\u0436\\u0438\\u0432\\u043e\\u0442\\u043d\\u044b\\u0435 \\u0436\\u0438\\u0432\\u0443\\u0442 \\u0432\\u043c\\u0435\\u0441\\u0442\\u0435 \\u0441 \\u0447\\u0435\\u043b\\u043e\\u0432\\u0435\\u043a\\u043e\\u043c \\u0432 \\u043a\\u0432\\u0430\\u0440\\u0442\\u0438\\u0440\\u0430\\u0445 \\u0438 \\u0434\\u043e\\u043c\\u0430\\u0445, \\u0441\\u043a\\u0440\\u0430\\u0448\\u0438\\u0432\\u0430\\u044f \\u0434\\u043e \\u0441\\u0443\\u0433 \\u0433\\u043e\\u0440\\u043e\\u0436\\u0430\\u043d. \\u0411\\u043e\\u043b\\u044c\\u0448\\u0438\\u043d\\u0441\\u0442\\u0432\\u043e \\u043e\\u0434\\u043e\\u043c\\u0430\\u0448. \\u0420\\u0438\\u0441. 5. \\u0410\\u0437\\u0438\\u0430\\u0442\\u0441\\u043a\\u0430\\u044f \\u043f\\u0435\\u0440\\u0435\\u043b\\u0451\\u0442\\u043d\\u0430\\u044f \\u043d\\u0435\\u043d\\u043d\\u044b\\u0445 \\u0436\\u0438\\u0432\\u043e\\u0442\\u043d\\u044b\\u0445 \\u2014 \\u044d\\u0442\\u043e \\u043c\\u043b\\u0435\\u043a\\u043e\\u043f\\u0438\\u0442\\u0430-\\u0441\\u0430\\u0440\\u0430\\u043d\\u0447\\u0430 \\u044e\\u0449\\u0438\\u0435 \\u0438 \\u043f\\u0442\\u0438\\u0446\\u044b. \\u0421\\u043e\\u0432\\u0440\\u0435\\u043c\\u0435\\u043d\\u043d\\u0430\\u044f \\u0437\\u043e\\u043e\\u043b\\u043e\\u0433\\u0438\\u044f \\u2014 \\u044d\\u0442\\u043e \\u0441\\u0438\\u0441\\u0442\\u0435\\u043c\\u0430 \\u043d\\u0430\\u0443\\u043a, \\u0438\\u043c\\u0435\\u044e\\u0449\\u0438\\u0445 \\u0432\\u0430\\u0436\\u043d\\u043e\\u0435 \\u0442\\u0435\\u043e\\u0440\\u0435-  -  -  - \\u0442\\u0430\\u043a\\u0442\\u0438\\u0447\\u0435\\u0441\\u043a\\u043e\\u0435 \\u0438 \\u043f\\u0440\\u0430\\u043a\\u0442\\u0438\\u0447\\u0435\\u0441\\u043a\\u043e\\u0435 \\u0437\\u043d\\u0430\\u0447\\u0435\\u043d\\u0438\\u0435. \\u0417\\u043e\\u043e\\u043b\\u043e\\u0433\\u0438\\u044f, \\u043c\\u043e\\u0440\\u0444\\u043e\\u043b\\u043e\\u0433\\u0438\\u044f, \\u0430\\u043d\\u0430\\u0442\\u043e\\u043c\\u0438\\u044f, \\u0444\\u0438\\u0437\\u0438\\u043e\\u043b\\u043e\\u0433\\u0438\\u044f, \\u044d\\u043a\\u043e\\u043b\\u043e\\u0433\\u0438\\u044f, \\u043f\\u0430\\u043b\\u0435\\u043e\\u0430\\u043d\\u0442\\u043e\\u043b\\u043e\\u0433\\u0438\\u044f, \\u044d\\u0442\\u043e\\u043b\\u043e\\u0433\\u0438\\u044f, \\u043e\\u043f\\u044b\\u043b\\u0438\\u0442\\u0435\\u043b\\u0438. 8 \"\n        ],\n        \"semantic_type\": \"\",\n        \"description\": \"\"\n      }\n    },\n    {\n      \"column\": \"\\u0423\\u0447\\u0435\\u0431\\u043d\\u0438\\u043a\",\n      \"properties\": {\n        \"dtype\": \"string\",\n        \"num_unique_values\": 1,\n        \"samples\": [\n          \"\\u0411\\u0438\\u043e\\u043b\\u043e\\u0433\\u0438\\u044f 7 \\u043a\\u043b. \\u0423\\u0447\\u0435\\u0431\\u043d\\u0438\\u043a \\u0434\\u043b\\u044f \\u0443\\u0447\\u0430\\u0449\\u0438\\u0445\\u0441\\u044f \\u043e\\u0431\\u0449\\u0435\\u043e\\u0431\\u0440\\u0430\\u0437\\u043e\\u0432\\u0430\\u0442\\u0435\\u043b\\u044c\\u043d\\u044b\\u0445 \\u043e\\u0440\\u0433\\u0430\\u043d\\u0438\\u0437\\u0430\\u0446\\u0438\\u0439 \\u0412.\\u041c. \\u041a\\u043e\\u043d\\u0441\\u0442\\u0430\\u043d\\u0442\\u0438\\u043d\\u043e\\u0432, \\u0412.\\u0413. \\u0411\\u0430\\u0431\\u0435\\u043d\\u043a\\u043e, B.C. \\u041a\\u0443\\u0447\\u043c\\u0435\\u043d\\u043a\\u043e. \\u2014 5-\\u0435 \\u0438\\u0437\\u0434., \\u043f\\u0435\\u0440\\u0435\\u0440\\u0430\\u0431. \\u2014 \\u041c. ;  \\u0412\\u0435\\u043d\\u0442\\u0430\\u043d\\u0430-\\u0413\\u0440\\u0430\\u0444 2016\"\n        ],\n        \"semantic_type\": \"\",\n        \"description\": \"\"\n      }\n    },\n    {\n      \"column\": \"\\u041f\\u0440\\u0435\\u0434\\u043c\\u0435\\u0442\",\n      \"properties\": {\n        \"dtype\": \"string\",\n        \"num_unique_values\": 1,\n        \"samples\": [\n          \"\\u0411\\u0438\\u043e\\u043b\\u043e\\u0433\\u0438\\u044f\"\n        ],\n        \"semantic_type\": \"\",\n        \"description\": \"\"\n      }\n    },\n    {\n      \"column\": \"\\u041a\\u043b\\u0430\\u0441\\u0441\",\n      \"properties\": {\n        \"dtype\": \"number\",\n        \"std\": null,\n        \"min\": 7,\n        \"max\": 7,\n        \"num_unique_values\": 1,\n        \"samples\": [\n          7\n        ],\n        \"semantic_type\": \"\",\n        \"description\": \"\"\n      }\n    },\n    {\n      \"column\": \"\\u0413\\u043b\\u0430\\u0432\\u0430\",\n      \"properties\": {\n        \"dtype\": \"string\",\n        \"num_unique_values\": 1,\n        \"samples\": [\n          \"\\u0413\\u043b\\u0430\\u0432\\u0430 1.  \\u041e\\u0431\\u0449\\u0438\\u0435 \\u0441\\u0432\\u0435\\u0434\\u0435\\u043d\\u0438\\u044f \\u043e \\u043c\\u0438\\u0440\\u0435 \\u0436\\u0438\\u0432\\u043e\\u0442\\u043d\\u044b\\u0445\"\n        ],\n        \"semantic_type\": \"\",\n        \"description\": \"\"\n      }\n    },\n    {\n      \"column\": \"\\u041f\\u0430\\u0440\\u0430\\u0433\\u0440\\u0430\\u0444\",\n      \"properties\": {\n        \"dtype\": \"string\",\n        \"num_unique_values\": 1,\n        \"samples\": [\n          \"\\u00a7 1. \\u0417\\u043e\\u043e\\u043b\\u043e\\u0433\\u0438\\u044f \\u2014 \\u043d\\u0430\\u0443\\u043a\\u0430 \\u043e \\u0436 \\u0438 \\u0432\\u043e\\u0442\\u043d \\u044b \\u0445 \"\n        ],\n        \"semantic_type\": \"\",\n        \"description\": \"\"\n      }\n    },\n    {\n      \"column\": \"\\u041a\\u043b\\u044e\\u0447\\u0435\\u0432\\u044b\\u0435 \\u0441\\u043b\\u043e\\u0432\\u0430\",\n      \"properties\": {\n        \"dtype\": \"string\",\n        \"num_unique_values\": 1,\n        \"samples\": [\n          \"\\u0417\\u043e\\u043e\\u043b\\u043e\\u0433\\u0438\\u044f, \\u043c\\u043e\\u0440\\u0444\\u043e\\u043b\\u043e\\u0433\\u0438\\u044f, \\u0430\\u043d\\u0430\\u0442\\u043e\\u043c\\u0438\\u044f, \\u0444\\u0438\\u0437\\u0438\\u043e\\u043b\\u043e\\u0433\\u0438\\u044f, \\u044d\\u043a\\u043e\\u043b\\u043e\\u0433\\u0438\\u044f, \\u043f\\u0430\\u043b\\u0435\\u043e\\u043d\\u0442\\u043e\\u043b\\u043e\\u0433\\u0438\\u044f, \\u044d\\u0442\\u043e\\u043b\\u043e\\u0433\\u0438\\u044f, \\u043e\\u043f\\u044b\\u043b\\u0438\\u0442\\u0435\\u043b\\u0438.\"\n        ],\n        \"semantic_type\": \"\",\n        \"description\": \"\"\n      }\n    }\n  ]\n}"
            }
          },
          "metadata": {},
          "execution_count": 48
        }
      ]
    },
    {
      "cell_type": "code",
      "source": [
        "# Поменяем местами колонки\n",
        "cols_95 = list(df_ch_1_95.columns)\n",
        "a_95, b_95, c_95, d_95, e_95, f_95, g_95 = cols_95.index('Текст'), cols_95.index('Учебник'), cols_95.index('Предмет'), cols_95.index('Класс'), cols_95.index('Глава'), cols_95.index('Параграф'), cols_95.index('Ключевые слова')\n",
        "cols_95[a_95], cols_95[b_95], cols_95[c_95], cols_95[d_95], cols_95[e_95], cols_95[f_95], cols_95[g_95] = cols_95[b_95], cols_95[c_95], cols_95[d_95], cols_95[e_95], cols_95[f_95], cols_95[a_95], cols_95[g_95]\n",
        "df_ch_1_95 = df_ch_1_95[cols_95]"
      ],
      "metadata": {
        "id": "7X8mWHZKqjVu"
      },
      "execution_count": null,
      "outputs": []
    },
    {
      "cell_type": "code",
      "source": [
        "df_ch_1_95"
      ],
      "metadata": {
        "colab": {
          "base_uri": "https://localhost:8080/",
          "height": 115
        },
        "id": "cV1fLtETrWk2",
        "outputId": "47869b9d-eebf-4e02-a4f5-29ab1aef186b"
      },
      "execution_count": null,
      "outputs": [
        {
          "output_type": "execute_result",
          "data": {
            "text/plain": [
              "                                             Учебник   Предмет  Класс  \\\n",
              "0  Биология 7 кл. Учебник для учащихся общеобразо...  Биология      7   \n",
              "\n",
              "                                      Глава  \\\n",
              "0  Глава 1.  Общие сведения о мире животных   \n",
              "\n",
              "                                Параграф  \\\n",
              "0  § 1. Зоология — наука о ж и вотн ы х    \n",
              "\n",
              "                                               Текст  \\\n",
              "0  Глава 1. Об общ. ие с в е д е н и я о м и р е ...   \n",
              "\n",
              "                                      Ключевые слова  \n",
              "0  Зоология, морфология, анатомия, физиология, эк...  "
            ],
            "text/html": [
              "\n",
              "  <div id=\"df-28b669ef-c928-469c-ab1c-8de4ea6e571a\" class=\"colab-df-container\">\n",
              "    <div>\n",
              "<style scoped>\n",
              "    .dataframe tbody tr th:only-of-type {\n",
              "        vertical-align: middle;\n",
              "    }\n",
              "\n",
              "    .dataframe tbody tr th {\n",
              "        vertical-align: top;\n",
              "    }\n",
              "\n",
              "    .dataframe thead th {\n",
              "        text-align: right;\n",
              "    }\n",
              "</style>\n",
              "<table border=\"1\" class=\"dataframe\">\n",
              "  <thead>\n",
              "    <tr style=\"text-align: right;\">\n",
              "      <th></th>\n",
              "      <th>Учебник</th>\n",
              "      <th>Предмет</th>\n",
              "      <th>Класс</th>\n",
              "      <th>Глава</th>\n",
              "      <th>Параграф</th>\n",
              "      <th>Текст</th>\n",
              "      <th>Ключевые слова</th>\n",
              "    </tr>\n",
              "  </thead>\n",
              "  <tbody>\n",
              "    <tr>\n",
              "      <th>0</th>\n",
              "      <td>Биология 7 кл. Учебник для учащихся общеобразо...</td>\n",
              "      <td>Биология</td>\n",
              "      <td>7</td>\n",
              "      <td>Глава 1.  Общие сведения о мире животных</td>\n",
              "      <td>§ 1. Зоология — наука о ж и вотн ы х</td>\n",
              "      <td>Глава 1. Об общ. ие с в е д е н и я о м и р е ...</td>\n",
              "      <td>Зоология, морфология, анатомия, физиология, эк...</td>\n",
              "    </tr>\n",
              "  </tbody>\n",
              "</table>\n",
              "</div>\n",
              "    <div class=\"colab-df-buttons\">\n",
              "\n",
              "  <div class=\"colab-df-container\">\n",
              "    <button class=\"colab-df-convert\" onclick=\"convertToInteractive('df-28b669ef-c928-469c-ab1c-8de4ea6e571a')\"\n",
              "            title=\"Convert this dataframe to an interactive table.\"\n",
              "            style=\"display:none;\">\n",
              "\n",
              "  <svg xmlns=\"http://www.w3.org/2000/svg\" height=\"24px\" viewBox=\"0 -960 960 960\">\n",
              "    <path d=\"M120-120v-720h720v720H120Zm60-500h600v-160H180v160Zm220 220h160v-160H400v160Zm0 220h160v-160H400v160ZM180-400h160v-160H180v160Zm440 0h160v-160H620v160ZM180-180h160v-160H180v160Zm440 0h160v-160H620v160Z\"/>\n",
              "  </svg>\n",
              "    </button>\n",
              "\n",
              "  <style>\n",
              "    .colab-df-container {\n",
              "      display:flex;\n",
              "      gap: 12px;\n",
              "    }\n",
              "\n",
              "    .colab-df-convert {\n",
              "      background-color: #E8F0FE;\n",
              "      border: none;\n",
              "      border-radius: 50%;\n",
              "      cursor: pointer;\n",
              "      display: none;\n",
              "      fill: #1967D2;\n",
              "      height: 32px;\n",
              "      padding: 0 0 0 0;\n",
              "      width: 32px;\n",
              "    }\n",
              "\n",
              "    .colab-df-convert:hover {\n",
              "      background-color: #E2EBFA;\n",
              "      box-shadow: 0px 1px 2px rgba(60, 64, 67, 0.3), 0px 1px 3px 1px rgba(60, 64, 67, 0.15);\n",
              "      fill: #174EA6;\n",
              "    }\n",
              "\n",
              "    .colab-df-buttons div {\n",
              "      margin-bottom: 4px;\n",
              "    }\n",
              "\n",
              "    [theme=dark] .colab-df-convert {\n",
              "      background-color: #3B4455;\n",
              "      fill: #D2E3FC;\n",
              "    }\n",
              "\n",
              "    [theme=dark] .colab-df-convert:hover {\n",
              "      background-color: #434B5C;\n",
              "      box-shadow: 0px 1px 3px 1px rgba(0, 0, 0, 0.15);\n",
              "      filter: drop-shadow(0px 1px 2px rgba(0, 0, 0, 0.3));\n",
              "      fill: #FFFFFF;\n",
              "    }\n",
              "  </style>\n",
              "\n",
              "    <script>\n",
              "      const buttonEl =\n",
              "        document.querySelector('#df-28b669ef-c928-469c-ab1c-8de4ea6e571a button.colab-df-convert');\n",
              "      buttonEl.style.display =\n",
              "        google.colab.kernel.accessAllowed ? 'block' : 'none';\n",
              "\n",
              "      async function convertToInteractive(key) {\n",
              "        const element = document.querySelector('#df-28b669ef-c928-469c-ab1c-8de4ea6e571a');\n",
              "        const dataTable =\n",
              "          await google.colab.kernel.invokeFunction('convertToInteractive',\n",
              "                                                    [key], {});\n",
              "        if (!dataTable) return;\n",
              "\n",
              "        const docLinkHtml = 'Like what you see? Visit the ' +\n",
              "          '<a target=\"_blank\" href=https://colab.research.google.com/notebooks/data_table.ipynb>data table notebook</a>'\n",
              "          + ' to learn more about interactive tables.';\n",
              "        element.innerHTML = '';\n",
              "        dataTable['output_type'] = 'display_data';\n",
              "        await google.colab.output.renderOutput(dataTable, element);\n",
              "        const docLink = document.createElement('div');\n",
              "        docLink.innerHTML = docLinkHtml;\n",
              "        element.appendChild(docLink);\n",
              "      }\n",
              "    </script>\n",
              "  </div>\n",
              "\n",
              "\n",
              "  <div id=\"id_d7b9b421-46e1-4ac1-97d5-45a0cec331a5\">\n",
              "    <style>\n",
              "      .colab-df-generate {\n",
              "        background-color: #E8F0FE;\n",
              "        border: none;\n",
              "        border-radius: 50%;\n",
              "        cursor: pointer;\n",
              "        display: none;\n",
              "        fill: #1967D2;\n",
              "        height: 32px;\n",
              "        padding: 0 0 0 0;\n",
              "        width: 32px;\n",
              "      }\n",
              "\n",
              "      .colab-df-generate:hover {\n",
              "        background-color: #E2EBFA;\n",
              "        box-shadow: 0px 1px 2px rgba(60, 64, 67, 0.3), 0px 1px 3px 1px rgba(60, 64, 67, 0.15);\n",
              "        fill: #174EA6;\n",
              "      }\n",
              "\n",
              "      [theme=dark] .colab-df-generate {\n",
              "        background-color: #3B4455;\n",
              "        fill: #D2E3FC;\n",
              "      }\n",
              "\n",
              "      [theme=dark] .colab-df-generate:hover {\n",
              "        background-color: #434B5C;\n",
              "        box-shadow: 0px 1px 3px 1px rgba(0, 0, 0, 0.15);\n",
              "        filter: drop-shadow(0px 1px 2px rgba(0, 0, 0, 0.3));\n",
              "        fill: #FFFFFF;\n",
              "      }\n",
              "    </style>\n",
              "    <button class=\"colab-df-generate\" onclick=\"generateWithVariable('df_ch_1_95')\"\n",
              "            title=\"Generate code using this dataframe.\"\n",
              "            style=\"display:none;\">\n",
              "\n",
              "  <svg xmlns=\"http://www.w3.org/2000/svg\" height=\"24px\"viewBox=\"0 0 24 24\"\n",
              "       width=\"24px\">\n",
              "    <path d=\"M7,19H8.4L18.45,9,17,7.55,7,17.6ZM5,21V16.75L18.45,3.32a2,2,0,0,1,2.83,0l1.4,1.43a1.91,1.91,0,0,1,.58,1.4,1.91,1.91,0,0,1-.58,1.4L9.25,21ZM18.45,9,17,7.55Zm-12,3A5.31,5.31,0,0,0,4.9,8.1,5.31,5.31,0,0,0,1,6.5,5.31,5.31,0,0,0,4.9,4.9,5.31,5.31,0,0,0,6.5,1,5.31,5.31,0,0,0,8.1,4.9,5.31,5.31,0,0,0,12,6.5,5.46,5.46,0,0,0,6.5,12Z\"/>\n",
              "  </svg>\n",
              "    </button>\n",
              "    <script>\n",
              "      (() => {\n",
              "      const buttonEl =\n",
              "        document.querySelector('#id_d7b9b421-46e1-4ac1-97d5-45a0cec331a5 button.colab-df-generate');\n",
              "      buttonEl.style.display =\n",
              "        google.colab.kernel.accessAllowed ? 'block' : 'none';\n",
              "\n",
              "      buttonEl.onclick = () => {\n",
              "        google.colab.notebook.generateWithVariable('df_ch_1_95');\n",
              "      }\n",
              "      })();\n",
              "    </script>\n",
              "  </div>\n",
              "\n",
              "    </div>\n",
              "  </div>\n"
            ],
            "application/vnd.google.colaboratory.intrinsic+json": {
              "type": "dataframe",
              "variable_name": "df_ch_1_95",
              "summary": "{\n  \"name\": \"df_ch_1_95\",\n  \"rows\": 1,\n  \"fields\": [\n    {\n      \"column\": \"\\u0423\\u0447\\u0435\\u0431\\u043d\\u0438\\u043a\",\n      \"properties\": {\n        \"dtype\": \"string\",\n        \"num_unique_values\": 1,\n        \"samples\": [\n          \"\\u0411\\u0438\\u043e\\u043b\\u043e\\u0433\\u0438\\u044f 7 \\u043a\\u043b. \\u0423\\u0447\\u0435\\u0431\\u043d\\u0438\\u043a \\u0434\\u043b\\u044f \\u0443\\u0447\\u0430\\u0449\\u0438\\u0445\\u0441\\u044f \\u043e\\u0431\\u0449\\u0435\\u043e\\u0431\\u0440\\u0430\\u0437\\u043e\\u0432\\u0430\\u0442\\u0435\\u043b\\u044c\\u043d\\u044b\\u0445 \\u043e\\u0440\\u0433\\u0430\\u043d\\u0438\\u0437\\u0430\\u0446\\u0438\\u0439 \\u0412.\\u041c. \\u041a\\u043e\\u043d\\u0441\\u0442\\u0430\\u043d\\u0442\\u0438\\u043d\\u043e\\u0432, \\u0412.\\u0413. \\u0411\\u0430\\u0431\\u0435\\u043d\\u043a\\u043e, B.C. \\u041a\\u0443\\u0447\\u043c\\u0435\\u043d\\u043a\\u043e. \\u2014 5-\\u0435 \\u0438\\u0437\\u0434., \\u043f\\u0435\\u0440\\u0435\\u0440\\u0430\\u0431. \\u2014 \\u041c. ;  \\u0412\\u0435\\u043d\\u0442\\u0430\\u043d\\u0430-\\u0413\\u0440\\u0430\\u0444 2016\"\n        ],\n        \"semantic_type\": \"\",\n        \"description\": \"\"\n      }\n    },\n    {\n      \"column\": \"\\u041f\\u0440\\u0435\\u0434\\u043c\\u0435\\u0442\",\n      \"properties\": {\n        \"dtype\": \"string\",\n        \"num_unique_values\": 1,\n        \"samples\": [\n          \"\\u0411\\u0438\\u043e\\u043b\\u043e\\u0433\\u0438\\u044f\"\n        ],\n        \"semantic_type\": \"\",\n        \"description\": \"\"\n      }\n    },\n    {\n      \"column\": \"\\u041a\\u043b\\u0430\\u0441\\u0441\",\n      \"properties\": {\n        \"dtype\": \"number\",\n        \"std\": null,\n        \"min\": 7,\n        \"max\": 7,\n        \"num_unique_values\": 1,\n        \"samples\": [\n          7\n        ],\n        \"semantic_type\": \"\",\n        \"description\": \"\"\n      }\n    },\n    {\n      \"column\": \"\\u0413\\u043b\\u0430\\u0432\\u0430\",\n      \"properties\": {\n        \"dtype\": \"string\",\n        \"num_unique_values\": 1,\n        \"samples\": [\n          \"\\u0413\\u043b\\u0430\\u0432\\u0430 1.  \\u041e\\u0431\\u0449\\u0438\\u0435 \\u0441\\u0432\\u0435\\u0434\\u0435\\u043d\\u0438\\u044f \\u043e \\u043c\\u0438\\u0440\\u0435 \\u0436\\u0438\\u0432\\u043e\\u0442\\u043d\\u044b\\u0445\"\n        ],\n        \"semantic_type\": \"\",\n        \"description\": \"\"\n      }\n    },\n    {\n      \"column\": \"\\u041f\\u0430\\u0440\\u0430\\u0433\\u0440\\u0430\\u0444\",\n      \"properties\": {\n        \"dtype\": \"string\",\n        \"num_unique_values\": 1,\n        \"samples\": [\n          \"\\u00a7 1. \\u0417\\u043e\\u043e\\u043b\\u043e\\u0433\\u0438\\u044f \\u2014 \\u043d\\u0430\\u0443\\u043a\\u0430 \\u043e \\u0436 \\u0438 \\u0432\\u043e\\u0442\\u043d \\u044b \\u0445 \"\n        ],\n        \"semantic_type\": \"\",\n        \"description\": \"\"\n      }\n    },\n    {\n      \"column\": \"\\u0422\\u0435\\u043a\\u0441\\u0442\",\n      \"properties\": {\n        \"dtype\": \"string\",\n        \"num_unique_values\": 1,\n        \"samples\": [\n          \"\\u0413\\u043b\\u0430\\u0432\\u0430 1. \\u041e\\u0431 \\u043e\\u0431\\u0449. \\u0438\\u0435 \\u0441 \\u0432 \\u0435 \\u0434 \\u0435 \\u043d \\u0438 \\u044f \\u043e \\u043c \\u0438 \\u0440 \\u0435 \\u0436 \\u0438 \\u0432 \\u043e \\u0442 \\u043d \\u044b \\u0445 1. \\u0417\\u043e\\u043e\\u043b\\u043e\\u0433\\u0438\\u044f \\u2014 \\u043d\\u0430\\u0443\\u043a\\u0430 \\u043e \\u0436\\u0438\\u0432\\u043e\\u0442\\u043d\\u044b\\u0445. \\u0412\\u044b \\u0443\\u0437\\u043d\\u0430\\u0435\\u0442\\u0435: \\u043a\\u0430\\u043a\\u0438\\u0435 \\u043d\\u0430\\u0443\\u043a\\u0438 \\u0432\\u0445\\u043e\\u0434\\u044f\\u0442 \\u0432 \\u0441\\u043e\\u0441\\u0442\\u0430\\u0432 \\u0437\\u043e\\u043e\\u043b\\u043e\\u0433\\u0438\\u0438; \\u043a\\u0430\\u043a\\u043e\\u0432\\u044b \\u043e\\u0431\\u0449\\u0438\\u0435 \\u0441\\u0432\\u043e\\u0439\\u0441\\u0442\\u0432\\u0430 \\u043e\\u0431\\u044a\\u0435\\u043a\\u0442\\u043e\\u0432, \\u0438\\u0437\\u0443\\u0447\\u0430\\u0435\\u043c\\u044b\\u0445 \\u0437\\u043e\\u043e\\u043b\\u043e\\u0433\\u0438\\u0435\\u0439; \\u043f\\u043e \\u043a\\u0430\\u043a\\u0438\\u043c \\u043f\\u0440\\u0438\\u0437\\u043d\\u0430\\u043a\\u0430\\u043c \\u0436\\u0438\\u0432\\u043e\\u0442\\u043d\\u044b\\u0435 \\u043e\\u0442\\u043b\\u0438\\u0447\\u0430\\u044e\\u0442\\u0441\\u044f \\u043e\\u0442 \\u0440\\u0430\\u0441\\u0442\\u0435\\u043d\\u0438\\u0439. \\u0412\\u0441\\u043f\\u043e\\u043c\\u043d\\u0438\\u0442\\u0435: \\u043a\\u0430\\u043a\\u043e\\u0432\\u044b \\u043e\\u0431\\u0449\\u0438\\u0435 \\u043f\\u0440\\u0438\\u0437\\u043d\\u0430\\u043a\\u0438 \\u0440\\u0430\\u0441\\u0442\\u0435\\u043d\\u0438\\u0439? \\u0412\\u0432\\u0435\\u0434\\u0435\\u043d\\u0438\\u0435: \\u0432 \\u043f\\u0440\\u0435\\u0434\\u044b\\u0434\\u0443\\u0449\\u0438\\u0445 \\u043a\\u043b\\u0430\\u0441\\u0441\\u0430\\u0445 \\u0432\\u044b \\u043f\\u043e\\u0437\\u043d\\u0430\\u043a\\u043e\\u043c\\u0438\\u043b\\u0438\\u0441\\u044c \\u0441 \\u043f\\u0440\\u0435\\u0434\\u0441\\u0442\\u0430\\u0432\\u0438\\u0442\\u0435\\u043b\\u044f\\u043c\\u0438 \\u0442\\u0440\\u0451\\u0445 \\u0446\\u0430\\u0440\\u0441\\u0442\\u0432: \\u0411\\u0430\\u043a\\u0442\\u0435\\u0440\\u0438\\u0438, \\u0413\\u0440\\u0438\\u0431\\u044b, \\u0420\\u0430\\u0441\\u0442\\u0435\\u043d\\u0438\\u044f. \\u0422\\u0435\\u043f\\u0435\\u0440\\u044c \\u0432\\u044b \\u043f\\u0440\\u0438\\u0441\\u0442\\u0443\\u043f\\u0430\\u0435\\u0442\\u0435 \\u043a \\u0438\\u0437\\u0443\\u0447\\u0435\\u043d\\u0438\\u044e \\u043d\\u043e\\u0432\\u043e\\u0433\\u043e \\u0446\\u0430\\u0440\\u0441\\u0442\\u0432\\u0430 \\u0436\\u0438\\u0432\\u044b\\u0445 \\u043e\\u0440\\u0433\\u0430\\u043d\\u0438\\u0437\\u043c\\u043e\\u0432 \\u2014 \\u0416\\u0438\\u0432\\u043e\\u0442\\u043d\\u044b\\u0435. \\u0420\\u0430\\u0437\\u0434\\u0435\\u043b \\u0431\\u0438\\u043e\\u043b\\u043e\\u0433\\u0438\\u0438, \\u043f\\u043e\\u0441\\u0432\\u044f\\u0449\\u0451\\u043d\\u043d\\u044b\\u0439 \\u0438\\u0437\\u0443\\u0447\\u0435\\u043d\\u0438\\u044e \\u0436\\u0438\\u0432\\u043e\\u0442\\u043d\\u044b\\u0445, \\u0438\\u0445 \\u0440\\u0430\\u0437\\u043d\\u043e\\u043e\\u0431\\u0440\\u0430\\u0437\\u0438\\u044f, \\u0441\\u0442\\u0440\\u043e\\u0435\\u043d\\u0438\\u044f \\u0438 \\u0436\\u0438\\u0437\\u043d\\u0435\\u0434\\u0435\\u044f\\u0442\\u0435\\u043b\\u044c\\u043d\\u043e\\u0441\\u0442\\u0438, \\u0441\\u0432\\u044f\\u0437\\u0435\\u0439 \\u0441\\u043e \\u0441\\u0440\\u0435\\u0434\\u043e\\u0439 \\u043e\\u0431\\u0438\\u0442\\u0430\\u043d\\u0438\\u044f, \\u0440\\u0430\\u0441\\u043f\\u0440\\u043e\\u0441\\u0442\\u0440\\u0430\\u043d\\u0435\\u043d\\u0438\\u044f \\u0438\\u043d\\u0434\\u0438\\u0432\\u0438\\u0434\\u0443\\u0430\\u043b\\u044c\\u043d\\u043e\\u0433\\u043e \\u0438 \\u0438\\u0441\\u0442\\u043e\\u0440\\u0438\\u0447\\u0435\\u0441\\u043a\\u043e\\u0433\\u043e \\u0440\\u0430\\u0437\\u0432\\u0438\\u0442\\u0438\\u044f, \\u0440\\u043e\\u043b\\u0438 \\u0432 \\u043f\\u0440\\u0438\\u0440\\u043e\\u0434\\u0435 \\u0438 \\u0437\\u043d. \\u0430\\u0447\\u0435\\u043d\\u0438\\u044f \\u0434\\u043b\\u044f \\u0447\\u0435\\u043b\\u043e\\u0432\\u0435\\u043a\\u0430, \\u043d\\u0430\\u0437\\u044b\\u0432\\u0430\\u0435\\u0442\\u0441\\u044f \\u0437\\u043e\\u043e\\u043b\\u043e\\u0433\\u0438\\u0435\\u0439 (\\u043e\\u0442 \\u0433\\u0440\\u0435\\u0447. \\u0437\\u043e\\u043e\\u043d  \\u2014 \\\"\\u0436\\u0438\\u0432\\u043e\\u0442\\u043d\\u043e\\u0435\\\", \\u043b\\u043e\\u0433\\u043e\\u0441  \\u2014 \\\"\\u0443\\u0447\\u0435\\u043d\\u0438\\u0435\\\"). \\u0421\\u043e\\u0432\\u0440\\u0435\\u043c\\u0435\\u043d\\u043d\\u0430\\u044f \\u0437\\u043e\\u043e\\u043b\\u043e\\u0433\\u0438\\u044f \\u2014 \\u044d\\u0442\\u043e \\u0441\\u0438\\u0441\\u0442\\u0435\\u043c\\u0430 \\u043d\\u0430\\u0443\\u043a. \\u041d\\u0430\\u043f\\u0440\\u0438\\u043c\\u0435\\u0440, \\u043c \\u043e\\u0440\\u0444\\u043e\\u043b\\u043e\\u0433\\u0438\\u0438 \\u044f \\u0438 \\u0430\\u043d\\u0430\\u0442 \\u043e \\u043c \\u0438 \\u044f \\u0436 \\u0436\\u0438\\u0432\\u043e\\u0442 \\u043d\\u044b \\u0445  \\u0438\\u0437\\u0443\\u0447\\u0430\\u044e \\u0438 \\u0432\\u043d\\u0435\\u0448\\u043d\\u0435\\u0435 \\u0438 \\u0432\\u043d\\u0443\\u0442\\u0440\\u0435\\u043d\\u043d\\u0435\\u0435 \\u0441\\u0442\\u0440\\u043e\\u0435\\u043d\\u0438\\u0435 \\u043e\\u0440\\u0433\\u0430\\u043d\\u043e\\u0432, \\u043d\\u0438\\u0437\\u043c\\u043e\\u0432. \\u0424 \\u0438 \\u0437 \\u0438 \\u043e\\u043b \\u043e\\u0433\\u0438 \\u044f \\u0436 \\u0436\\u0438\\u0432\\u043e\\u0442 \\u043d\\u044b \\u0445  \\u0438\\u0441\\u0441\\u043b\\u0435\\u0434\\u0443\\u0435\\u0442 \\u0434\\u0435\\u044f\\u0442\\u0435\\u043b\\u044c\\u043d\\u043e\\u0441\\u0442\\u044c \\u043a\\u043b\\u0435\\u0442\\u043e\\u043a, \\u043e\\u0440\\u0433\\u0430\\u043d\\u043e\\u0432, \\u0441\\u0438\\u0441\\u0442\\u0435\\u043c \\u043e\\u0440\\u0433\\u0430\\u043d\\u043e\\u0432 \\u0438 \\u0446\\u0435\\u043b\\u044b\\u0445 \\u043e\\u0440\\u0433\\u0430\\u043d\\u0438\\u0437\\u043c\\u043e\\u0432. \\u0412\\u0430\\u0436\\u043d\\u0443\\u044e \\u0447\\u0430\\u0441\\u0442\\u044c \\u0437\\u043e\\u043e\\u043b\\u043e\\u0433\\u0438\\u0438 \\u0441\\u043e\\u0441\\u0442\\u0430\\u0432\\u043b\\u044f\\u0435\\u0442 \\u044d\\u043a\\u043e\\u043b\\u043e\\u0433\\u0438\\u044f \\u044f \\u0436 \\u0436\\u0438\\u0432\\u043e\\u0442 \\u043d\\u044b \\u0445, \\u0438\\u0437\\u0443\\u0447\\u0430\\u044e \\u0449 \\u0430\\u044f \\u0432\\u0437\\u0430\\u0438\\u043c\\u043e\\u043e\\u0442\\u043d\\u043e\\u0448\\u0435\\u043d\\u0438\\u044f \\u0436\\u0438\\u0432\\u043e\\u0442\\u043d\\u044b\\u0445 \\u043c\\u0435\\u0436\\u0434\\u0443 \\u0441\\u043e\\u0431\\u043e\\u0439, \\u0441 \\u0434\\u0440\\u0443\\u0433\\u0438\\u043c\\u0438 \\u043e\\u0440\\u0433\\u0430\\u043d\\u0438\\u0437\\u043c\\u0430\\u043c\\u0438 \\u0438 \\u0441\\u043e \\u0441\\u0440\\u0435\\u0434\\u043e\\u0439 \\u043e\\u0431\\u0438\\u0442\\u0430\\u043d\\u0438\\u044f. \\u042d \\u0442 \\u043e\\u043b\\u043e\\u0433\\u0438\\u044f \\u0440\\u0430\\u0441\\u0441\\u043c\\u0430\\u0442\\u0440\\u0438\\u0432\\u0430\\u0435\\u0442 \\u043f\\u043e\\u0432\\u0435\\u0434\\u0435\\u043d\\u0438\\u0435 \\u0436\\u0438\\u0432\\u043e\\u0442\\u043d\\u044b\\u0445. \\u0417\\u043e\\u043e\\u043b\\u043e\\u0433\\u0438\\u044f \\u0438\\u0437\\u0443\\u0447\\u0430\\u0435\\u0442 \\u0440\\u0430\\u0437\\u043b\\u0438\\u0447\\u043d\\u044b\\u0445 \\u0436\\u0438\\u0432\\u043e\\u0442\\u043d\\u044b\\u0445 \\u2014 \\u0431\\u0435\\u0441\\u043f\\u043e\\u0437\\u0432\\u043e\\u043d\\u043e\\u0447\\u043d\\u044b\\u0445 \\u0438 \\u043f\\u043e\\u0437\\u0432\\u043e\\u043d\\u043e\\u0447\\u043d\\u044b\\u0445 (\\u0440\\u0438\\u0441. 1). \\u041e\\u0441\\u043e\\u0431\\u044b\\u0439 \\u043c\\u0438\\u0440 \\u043f\\u0440\\u0435\\u0434\\u0441\\u0442\\u0430\\u0432\\u043b\\u0435\\u043d \\u0436\\u0438\\u0432\\u043e\\u0442\\u043d\\u044b\\u043c\\u0438, \\u0441\\u043e\\u0441\\u0442\\u043e\\u044f\\u0449\\u0438\\u043c\\u0438 \\u0432\\u0441\\u0435\\u0433\\u043e \\u0438\\u0437 \\u043e\\u0434\\u043d\\u043e\\u0439 \\u043a\\u043b\\u0435\\u0442\\u043a\\u0438, \\u043f\\u0440\\u043e\\u0441\\u0442\\u0435\\u0439\\u0448\\u0438\\u043c\\u0438 (\\u0440\\u0438\\u0441. 2). 4  \\u0420\\u0438\\u0441. 1. \\u0420\\u0430\\u0437\\u043d\\u043e\\u043e\\u0431\\u0440\\u0430\\u0437\\u0438\\u0435 \\u043c\\u043d\\u043e\\u0433\\u043e\\u043a\\u043b\\u0435\\u0442\\u043e\\u0447\\u043d\\u044b\\u0445 \\u0436\\u0438\\u0432\\u043e\\u0442\\u043d\\u044b\\u0445: \\u0410 \\u2014 \\u0431\\u0435\\u0441\\u043f\\u043e\\u0437\\u0432\\u043e\\u043d\\u043e\\u0447\\u043d\\u044b\\u0435; \\u0411 \\u2014 \\u043f\\u043e\\u0437\\u0432\\u043e\\u043d\\u043e\\u0447\\u043d\\u044b\\u0435 5  \\u0420\\u0438\\u0441. 2. \\u0420\\u0430\\u0437\\u043d\\u043e\\u043e\\u0431\\u0440\\u0430\\u0437\\u0438\\u0435 \\u043e\\u0434\\u043d\\u043e\\u043a\\u043b\\u0435\\u0442\\u043e\\u0447\\u043d\\u044b\\u0445 \\u0436\\u0438\\u0432\\u043e\\u0442\\u043d\\u044b\\u0445 (\\u043f\\u0440\\u043e\\u0441\\u0442\\u0435\\u0439\\u0448\\u0438\\u0445). \\u0421\\u0445\\u043e\\u0434\\u0441\\u0442\\u0432\\u043e \\u0438 \\u0440\\u0430\\u0437\\u043b\\u0438\\u0447\\u0438\\u0435 \\u0436\\u0438\\u0432\\u043e\\u0442\\u043d\\u044b\\u0445 \\u0438 \\u0440\\u0430\\u0441\\u0442\\u0435\\u043d\\u0438\\u0439. \\u0414\\u043b\\u044f \\u0436\\u0438\\u0432\\u043e\\u0442\\u043d\\u044b\\u0445, \\u043a\\u0430\\u043a \\u0438 \\u0434\\u043b\\u044f \\u0431\\u043e\\u043b\\u044c\\u0448\\u0438\\u043d\\u0441\\u0442\\u0432\\u0430 \\u0434\\u0440\\u0443\\u0433\\u0438\\u0445 \\u0436\\u0438\\u0432\\u044b\\u0445 \\u043e\\u0440\\u0433\\u0430\\u043d\\u0438\\u0437\\u043c\\u043e\\u0432, \\u0445\\u0430\\u0440\\u0430\\u043a\\u0442\\u0435\\u0440\\u043d\\u044b \\u0441\\u043b\\u0435\\u0434\\u0443\\u044e\\u0449\\u0438\\u0435 \\u043e\\u0441\\u043e\\u0431\\u0435\\u043d\\u043d\\u043e\\u0441\\u0442\\u0438: \\u043a\\u043b\\u0435\\u0442\\u043e\\u0447\\u043d\\u043e\\u0435 \\u0441\\u0442\\u0440\\u043e\\u0435\\u043d\\u0438\\u0435, \\u0441\\u043f\\u043e\\u0441\\u043e\\u0431\\u043d\\u043e\\u0441\\u0442\\u044c \\u043a \\u043f\\u0438\\u0442\\u0430\\u043d\\u0438\\u044e, \\u0434\\u044b\\u0445\\u0430\\u043d\\u0438\\u044e, \\u0432\\u044b\\u0434\\u0435\\u043b\\u0435\\u043d\\u0438\\u044e, \\u043d\\u0430\\u043b\\u0438\\u0447\\u0438\\u0435 \\u043e\\u0431\\u043c\\u0435\\u043d\\u0430 \\u0432\\u0435\\u0449\\u0435\\u0441\\u0442\\u0432 \\u043c\\u0435\\u0436\\u0434\\u0443 \\u043e\\u0440\\u0433\\u0430\\u043d\\u0438\\u0437\\u043c\\u043e\\u043c \\u0438 \\u043e\\u043a\\u0440\\u0443\\u0436\\u0430\\u044e\\u0449\\u0435\\u0439 \\u0435\\u0439 \\u0441\\u0440\\u0435\\u0434\\u043e\\u0439, \\u0441\\u043f\\u043e\\u0441\\u043e\\u0431\\u043d\\u043e\\u0441\\u0442\\u044c \\u043a \\u0440\\u0430\\u0437\\u043c\\u043d\\u043e\\u0436\\u0435\\u043d\\u0438\\u044e, \\u0440\\u043e\\u0441\\u0442\\u0443, \\u0440\\u0430\\u0437\\u0432\\u0438\\u0442\\u0438\\u044e. \\u0416\\u0438\\u0432\\u043e\\u0442\\u043d\\u044b\\u0435 \\u043e\\u0442\\u043b\\u0438\\u0447\\u0430\\u044e\\u0442\\u0441\\u044f \\u043e\\u0442 \\u0440\\u0430\\u0441\\u0442\\u0435\\u043d\\u0438\\u0439 \\u043f\\u043e \\u0441\\u043b\\u0435\\u0434\\u0443\\u044e\\u0449\\u0438\\u043c \\u043f\\u0440\\u0438\\u0437\\u043d\\u0430\\u043a\\u0430\\u043c. \\u041a\\u043b\\u0435\\u0442\\u043a\\u0438 \\u0436\\u0438\\u0432\\u043e\\u0442\\u043d\\u044b\\u0445 \\u043d\\u0435 \\u0438\\u043c\\u0435\\u044e\\u0442 \\u0442\\u0432\\u0451\\u0440\\u0434\\u043e\\u0439 \\u0446\\u0435\\u043b\\u043b\\u044e\\u043b\\u043e\\u0437\\u043d\\u043e\\u0439 \\u043e\\u0431\\u043e\\u043b\\u043e\\u0447\\u043a\\u0438. \\u0412 \\u043e\\u0442\\u043b\\u0438\\u0447\\u0438\\u0435 \\u043e\\u0442 \\u0440\\u0430\\u0441\\u0442\\u0435\\u043d\\u0438\\u0439, \\u0436\\u0438\\u0432\\u043e\\u0442\\u043d\\u044b\\u0435 \\u043f\\u0438\\u0442\\u0430\\u044e\\u0442\\u0441\\u044f \\u0433\\u043e\\u0442\\u043e\\u0432\\u044b\\u043c\\u0438 \\u043e\\u0440\\u0433\\u0430\\u043d\\u0438\\u0447\\u0435\\u0441\\u043a\\u0438\\u043c\\u0438 \\u0432\\u0435\\u0449\\u0435\\u0441\\u0442\\u0432\\u0430\\u043c\\u0438. \\u0412 \\u043f\\u0440\\u0438\\u0440\\u043e\\u0434\\u043d\\u044b\\u0445 \\u0441\\u043e\\u043e\\u0431\\u0449\\u0435\\u0441\\u0442\\u0432\\u0430\\u0445 \\u043e\\u043d\\u0438 \\u0438\\u0433\\u0440\\u0430\\u044e\\u0442 \\u0440\\u043e\\u043b\\u044c \\u043f\\u043e\\u0442\\u0440\\u0435\\u0431\\u0438\\u0442\\u0435\\u043b\\u0435\\u0439 \\u043e\\u0440\\u0433\\u0430\\u043d\\u0438\\u0447\\u0435\\u0441\\u043a\\u043e\\u0433\\u043e \\u0432\\u0435\\u0449\\u0435\\u0441\\u0442\\u0432\\u0430. \\u0416\\u0438\\u0432\\u043e\\u0442\\u043d\\u044b\\u0435 \\u0441\\u043f\\u043e\\u0441\\u043e\\u0431\\u043d\\u044b \\u0432\\u043e\\u0441\\u043f\\u0440\\u0438\\u043d\\u0438\\u043c\\u0430\\u0442\\u044c \\u0440\\u0430\\u0437\\u0434\\u0440\\u0430\\u0436\\u0435\\u043d\\u0438\\u044f \\u0438 \\u0440\\u0435\\u0430\\u0433\\u0438\\u0440\\u043e\\u0432\\u0430\\u0442\\u044c \\u043d\\u0430 \\u043d\\u0438\\u0445. \\u041e\\u043d\\u0438 \\u043c\\u043e\\u0433\\u0443\\u0442 \\u0430\\u043a\\u0442\\u0438\\u0432\\u043d\\u043e \\u043f\\u0435\\u0440\\u0435\\u0434\\u0432\\u0438\\u0433\\u0430\\u0442\\u044c\\u0441\\u044f. \\u0411\\u043e\\u043b\\u044c\\u0448\\u0438\\u043d\\u0441\\u0442\\u0432\\u043e \\u0441\\u0430\\u043c\\u0438 \\u0434\\u043e\\u0431\\u044b\\u0432\\u0430\\u044e\\u0442 \\u0441\\u0435\\u0431\\u0435 \\u043f\\u0438\\u0449\\u0443, \\u043f\\u0440\\u0435\\u0441\\u043b\\u0435\\u0434\\u0443\\u044e\\u0442 \\u0434\\u043e\\u0431\\u044b\\u0447\\u0443. \\u0420\\u0430\\u0437\\u043d\\u043e\\u043e\\u0431\\u0440\\u0430\\u0437\\u0438\\u0435 \\u0436\\u0438\\u0432\\u043e\\u0442\\u043d\\u044b\\u0445 \\u043f\\u043e \\u0434\\u0430\\u043d\\u043d\\u044b\\u043c \\u0412\\u0441\\u0435\\u043c\\u0438\\u0440\\u043d\\u043e\\u0433\\u043e (\\u041c\\u0435\\u0436\\u0434\\u0443\\u043d\\u0430\\u0440\\u043e\\u0434\\u043d\\u043e\\u0433\\u043e) \\u0441\\u043e\\u044e\\u0437\\u0430 \\u043e\\u0445\\u0440\\u0430\\u043d\\u044b \\u043f\\u0440\\u0438\\u0440\\u043e\\u0434\\u044b I (\\u0412\\u0421\\u041e\\u041f) \\u043d\\u0430 \\u0417\\u0435\\u043c\\u043b\\u0435 \\u0441\\u0443\\u0449\\u0435\\u0441\\u0442\\u0432\\u0443\\u0435\\u0442 \\u0431\\u043e\\u043b\\u0435\\u0435 1,2 \\u043c\\u043b\\u043d \\u0432\\u0438\\u0434\\u043e\\u0432 \\u0436\\u0438\\u0432\\u043e\\u0442\\u043d\\u044b\\u0445. \\u0411\\u043e\\u043b\\u044c\\u0448\\u0435 \\u0432\\u0441\\u0435\\u0445 I \\u0435\\u0433\\u043e \\u043d\\u0430\\u0441\\u0435\\u043a\\u043e\\u043c\\u044b\\u0445 \\u2014 \\u043e\\u043a\\u043e\\u043b\\u043e 1 \\u043c\\u043b\\u043d \\u0432\\u0438\\u0434\\u043e\\u0432. \\u0418\\u0437\\u0432\\u0435\\u0441\\u0442\\u043d\\u043e \\u043e\\u043a\\u043e\\u043b\\u043e 70 \\u0442\\u044b\\u0441. \\u0432\\u0438\\u0434\\u043e\\u0432 \\u043c\\u043e\\u043b\\u043b\\u044e\\u0441\\u043a\\u043e\\u0432, I  \\u043a\\u043e\\u0432, \\u0441\\u0432\\u044b\\u0448\\u0435 29 \\u0442\\u044b\\u0441. \\u0432\\u0438\\u0434\\u043e\\u0432 \\u0440\\u044b\\u0431. \\u0421\\u043e\\u0432\\u0440\\u0435\\u043c\\u0435\\u043d\\u043d\\u044b\\u0445 \\u043f\\u0442\\u0438\\u0446 \\u043d\\u0430\\u0441\\u0447\\u0438\\u0442\\u044b\\u0432\\u0430\\u044e\\u0442 \\u043f\\u043e \\u0441\\u0440\\u0430\\u0432\\u043d\\u0435\\u043d\\u0438\\u044e I \\u043d\\u0438 \\u0441 \\u0434\\u0440\\u0443\\u0433\\u0438\\u043c\\u0438 \\u0433\\u0440\\u0443\\u043f\\u043f\\u0430\\u043c\\u0438 \\u043d\\u0435\\u043c\\u043d\\u043e\\u0433\\u043e \\u2014 \\u043e\\u043a\\u043e\\u043b\\u043e 9000 \\u0432\\u0438\\u0434\\u043e\\u0432, \\u0435\\u0449\\u0451 \\u043c\\u0435\\u043d\\u044c\\u0448\\u0435 \\u043c\\u043b\\u0435\\u043a\\u043e- I, \\u043f\\u0438\\u0442\\u0430\\u044e\\u0449\\u0438\\u0445 \\u043e\\u043a\\u043e\\u043b\\u043e 5000 \\u0432\\u0438\\u0434\\u043e\\u0432. \\u0420\\u0430\\u0441\\u043f\\u0440\\u043e\\u0441\\u0442\\u0440\\u0430\\u043d\\u0435\\u043d\\u044b \\u0436\\u0438\\u0432\\u043e\\u0442\\u043d\\u044b\\u0435 \\u043f\\u043e \\u0432\\u0441\\u0435\\u043c\\u0443 \\u0437\\u0435\\u043c\\u043d\\u043e\\u043c\\u0443 \\u0448\\u0430\\u0440\\u0443. \\u041e\\u043d\\u0438 \\u043e\\u0441\\u0432\\u043e\\u0438\\u043b\\u0438 \\u0440\\u0430\\u0437- I, \\u043d\\u044b\\u0435 \\u0441\\u0440\\u0435\\u0434\\u044b \\u0436\\u0438\\u0437\\u043d\\u0438 \\u2014 \\u0432\\u043e\\u0434\\u043d\\u0443\\u044e, \\u043d\\u0430\\u0437\\u0435\\u043c\\u043d\\u043e-\\u0432\\u043e\\u0437\\u0434\\u0443\\u0448\\u043d\\u0443\\u044e, \\u043f\\u043e\\u0447\\u0432\\u0435\\u043d\\u043d\\u0443\\u044e. \\u0418\\u0437\\u0432\\u0435\\u0441\\u0442\\u043d\\u044b \\u0438 \\u0442\\u0430\\u043a\\u0438\\u0435 \\u0436\\u0438\\u0432\\u043e\\u0442\\u043d\\u044b\\u0435, \\u043a\\u043e\\u0442\\u043e\\u0440\\u044b\\u0435 \\u043e\\u0431\\u0438\\u0442\\u0430\\u044e\\u0442 \\u0432 \\u0440\\u0430\\u0441\\u0442\\u0435\\u043d\\u0438\\u044f\\u0445. \\u041d\\u0435\\u043a\\u043e\\u0442\\u043e\\u0440\\u044b\\u0435 \\u043f\\u0430\\u0440\\u0430\\u0437\\u0438\\u0442\\u0438\\u0440\\u0443\\u044e\\u0442 \\u0432 \\u043e\\u0440\\u0433\\u0430\\u043d\\u0438\\u0437\\u043c\\u0430\\u0445 \\u0434\\u0440\\u0443\\u0433\\u0438\\u0445 \\u0436\\u0438\\u0432\\u043e\\u0442\\u043d\\u044b\\u0445 \\u0438 \\u0447\\u0435\\u043b\\u043e\\u0432\\u0435\\u043a\\u0430. \\u0416\\u0438\\u0432\\u043e\\u0442\\u043d\\u044b\\u0435 \\u043e\\u0447\\u0435\\u043d\\u044c \\u0440\\u0430\\u0437\\u043d\\u043e\\u043e\\u0431\\u0440\\u0430\\u0437\\u043d\\u044b \\u043f\\u043e \\u043e\\u0431\\u043b\\u0438\\u043a\\u0443 \\u0438 \\u0441\\u0442\\u0440\\u043e\\u0435\\u043d\\u0438\\u044e, \\u0440\\u0430\\u0437\\u043c\\u0435\\u0440\\u0430\\u043c, \\u043e\\u0431\\u0440\\u0430\\u0437\\u0443 \\u0436\\u0438\\u0437\\u043d\\u0438. \\u041e\\u0434\\u043d\\u0438 \\u043f\\u0435\\u0440\\u0435\\u0434\\u0432\\u0438\\u0433\\u0430\\u044e\\u0442\\u0441\\u044f \\u0432 \\u0432\\u043e\\u0434\\u0435 \\u0441 \\u043f\\u043e\\u043c\\u043e\\u0449\\u044c\\u044e \\u0440\\u0435\\u0441\\u043d\\u0438\\u0447\\u0435\\u043a, \\u0434\\u0440\\u0443\\u0433\\u0438\\u0435 \\u2014 \\u0437\\u0430 I \\u0441\\u0447\\u0451\\u0442 \\u043f\\u043b\\u0430\\u0432\\u043d\\u0438\\u043a\\u043e\\u0432. \\u0411\\u043e\\u043b\\u044c\\u0448\\u0438\\u043d\\u0441\\u0442\\u0432\\u043e \\u043d\\u0430\\u0437\\u0435\\u043c\\u043d\\u044b\\u0445 \\u0436\\u0438\\u0432\\u043e\\u0442\\u043d\\u044b\\u0445 \\u043f\\u0440\\u0438 \\u0434\\u0432\\u0438\\u0436\\u0435\\u043d\\u0438\\u0438 \\u043e\\u043f\\u0438\\u0440\\u0430\\u044e\\u0442\\u0441\\u044f \\u043d\\u0430 \\u043f\\u0430\\u0440\\u043d\\u044b\\u0435 \\u043a\\u043e\\u043d\\u0435\\u0447\\u043d\\u043e\\u0441\\u0442\\u0438. \\u041d\\u0430\\u0441\\u0435\\u043a\\u043e\\u043c\\u044b\\u0435, \\u043f\\u0442\\u0438\\u0446\\u044b, \\u043b\\u0435\\u0442\\u0443\\u0447\\u0438\\u0435 \\u043c\\u044b\\u0448\\u0438 \\u0434\\u043b\\u044f \\u043f\\u043e\\u043b\\u0451\\u0442\\u0430 I \\u0438\\u0441\\u043f\\u043e\\u043b\\u044c\\u0437\\u0443\\u044e\\u0442 \\u043a\\u0440\\u044b\\u043b\\u044c\\u044f. \\u0411 \\u0420\\u0438\\u0441. 3. \\u0421\\u0440\\u0430\\u0432\\u043d\\u0438\\u0442\\u0435\\u043b\\u044c\\u043d\\u044b\\u0435 \\u0440\\u0430\\u0437\\u043c\\u0435\\u0440\\u044b \\u0436\\u0438\\u0432\\u043e\\u0442\\u043d\\u044b\\u0445 (\\u043f\\u0440\\u043e\\u0441\\u0442\\u0435\\u0439\\u0448\\u0438\\u0435 \\u0434\\u0430\\u043d\\u044b \\u0432 \\u043f\\u043e\\u043b\\u0435 \\u043e\\u043f\\u0442\\u0438\\u0447\\u0435\\u0441\\u043a\\u043e\\u0433\\u043e \\u043c\\u0438\\u043a\\u0440\\u043e\\u0441\\u043a\\u043e\\u043f\\u0430). \\u0421\\u0430\\u043c\\u044b\\u0445 \\u043c\\u0430\\u043b\\u0435\\u043d\\u044c\\u043a\\u0438\\u0445 \\u0436\\u0438\\u0432\\u043e\\u0442\\u043d\\u044b\\u0445 \\u043c\\u043e\\u0436\\u043d\\u043e \\u0443\\u0432\\u0438\\u0434\\u0435\\u0442\\u044c \\u0442\\u043e\\u043b\\u044c\\u043a\\u043e \\u043f\\u043e\\u0434 \\u043c\\u0438\\u043a\\u0440\\u043e\\u0441\\u043a\\u043e\\u043f\\u043e\\u043c. \\u041a\\u0440\\u0443\\u043f\\u043d\\u044b\\u0435 \\u043d\\u0430\\u0437\\u0435\\u043c\\u043d\\u044b\\u0435 \\u0436\\u0438\\u0432\\u043e\\u0442\\u043d\\u044b\\u0435, \\u043d\\u0430\\u043f\\u0440\\u0438\\u043c\\u0435\\u0440 \\u0441\\u043b\\u043e\\u043d\\u044b, \\u0434\\u043e\\u0441\\u0442\\u0438\\u0433\\u0430\\u044e\\u0442 \\u0432 \\u0432\\u044b\\u0441\\u043e\\u0442\\u0443 3,5 \\u043c, \\u0430 \\u043c\\u0430\\u0441\\u0441\\u0430 \\u0438\\u0445 \\u0442\\u0435\\u043b\\u0430 \\u043e\\u043a\\u043e\\u043b\\u043e 5 \\u0442. \\u0421\\u0430\\u043c\\u043e\\u0435 \\u0431\\u043e\\u043b\\u044c\\u0448\\u043e\\u0435 \\u0436\\u0438\\u0432\\u043e\\u0442\\u043d\\u043e\\u0435 \\u0438\\u0437 \\u043a\\u043e\\u0433\\u0434\\u0430-\\u043b\\u0438\\u0431\\u043e \\u0436\\u0438\\u0432\\u0448\\u0438\\u0445 \\u0438 \\u0436\\u0438\\u0432\\u0443\\u0449\\u0438\\u0445 \\u043d\\u0430 \\u0417\\u0435\\u043c\\u043b\\u0435 \\u2014 \\u0441\\u0438\\u043d\\u0438\\u0439 \\u043a\\u0438\\u0442 \\u0434\\u043b\\u0438\\u043d\\u043e\\u0439 \\u0431\\u043e\\u043b\\u0435\\u0435 30 \\u043c \\u0438 \\u043c\\u0430\\u0441\\u0441\\u043e\\u0439 \\u0434\\u043e 150 \\u0442 (\\u0440\\u0438\\u0441. 3). \\u0417\\u043d\\u0430\\u0447\\u0435\\u043d\\u0438\\u0435 \\u0436\\u0438\\u0432\\u043e\\u0442\\u043d\\u044b\\u0445. \\u0416\\u0438\\u0432\\u043e\\u0442\\u043d\\u044b\\u0435 \\u0440\\u0430\\u0437\\u043b\\u0438\\u0447\\u0430\\u044e\\u0442\\u0441\\u044f \\u043d\\u0435 \\u0442\\u043e\\u043b\\u044c\\u043a\\u043e \\u043f\\u043e \\u0432\\u043d\\u0435\\u0448\\u043d\\u0435\\u043c\\u0443 \\u043e\\u0431\\u043b\\u0438\\u043a\\u0443, \\u0441\\u0442\\u0440\\u043e\\u0435\\u043d\\u0438\\u044e, \\u043e\\u0431\\u0440\\u0430\\u0437\\u0443 \\u0436\\u0438\\u0437\\u043d\\u0438, \\u043d\\u043e \\u0438 \\u043f\\u043e \\u0442\\u043e\\u0439 \\u0440\\u043e\\u043b\\u0438, \\u043a\\u043e\\u0442\\u043e\\u0440\\u0443\\u044e \\u043e\\u043d\\u0438 \\u0438\\u0433\\u0440\\u0430\\u044e\\u0442 \\u0432 \\u043f\\u0440\\u0438\\u0440\\u043e\\u0434\\u043d\\u044b\\u0445 \\u0441\\u043e\\u043e\\u0431\\u0449\\u0435\\u0441\\u0442\\u0432\\u0430\\u0445. \\u0412\\u0435\\u043b\\u0438\\u043a\\u0430 \\u0440\\u043e\\u043b\\u044c \\u0432 \\u043f\\u0440\\u0438\\u0440\\u043e\\u0434\\u0435 \\u0436\\u0438\\u0432\\u043e\\u0442\\u043d\\u044b\\u0445 \\u2014 \\u043e\\u043f\\u044b \\u043b\\u0438\\u0442 \\u0435\\u043b\\u0435\\u0439 \\u0440\\u0430\\u0441\\u0442\\u0435\\u043d\\u0438\\u0439 (\\u0440\\u0438\\u0441. 4). \\u042d\\u0442\\u043e \\u0431\\u0430\\u0431\\u043e\\u0447\\u043a\\u0438, \\u0436\\u0443\\u043a\\u0438, \\u043c\\u0443\\u0445\\u0438, \\u0448\\u043c\\u0435\\u043b\\u0438, \\u043f\\u0447\\u0451\\u043b\\u044b \\u0438 \\u0434\\u0440\\u0443\\u0433\\u0438\\u0435 \\u043e\\u0440\\u0433\\u0430\\u043d\\u0438\\u0437\\u043c\\u044b. \\u0411\\u0435\\u0437 \\u043d\\u0438\\u0445 \\u043e\\u0431\\u043b\\u0438\\u043a \\u043d\\u0430\\u0448\\u0438\\u0445 \\u043b\\u0435\\u0441\\u043e\\u0432, \\u043b\\u0443\\u0433\\u043e\\u0432, \\u043f\\u043e\\u043b\\u0435\\u0439 \\u0431\\u044b\\u043b \\u0431\\u044b \\u0441\\u043e\\u0432\\u0441\\u0435\\u043c \\u0434\\u0440\\u0443\\u0433\\u0438\\u043c. \\u041c\\u043d\\u043e\\u0433\\u0438\\u0435 \\u0436\\u0438\\u0432\\u043e\\u0442\\u043d\\u044b\\u0435 \\u0440\\u0430\\u0441\\u043f\\u0440\\u043e\\u0441\\u0442\\u0440\\u0430\\u043d\\u044f\\u044e\\u0442 \\u043f\\u043b\\u043e\\u0434\\u044b \\u0438 \\u0441\\u0435\\u043c\\u0435\\u043d\\u0430 \\u0440\\u0430\\u0441\\u0442\\u0435\\u043d\\u0438\\u0439, \\u043f\\u0435\\u0440\\u0435\\u043d\\u043e\\u0441\\u044f \\u0438\\u0445 \\u043d\\u0430 \\u0448\\u0435\\u0440\\u0441\\u0442\\u0438 \\u0438 \\u043f\\u0435\\u0440\\u044c\\u044f\\u0445 \\u0438\\u043b\\u0438 \\u043f\\u0438\\u0442\\u0430\\u044f\\u0441\\u044c \\u0441\\u043e\\u0447\\u043d\\u044b\\u043c\\u0438 \\u043f\\u043b\\u043e\\u0434\\u0430\\u043c\\u0438. \\u041c\\u044f\\u043a\\u044c\\u044c \\u043f\\u0435\\u0440\\u0435\\u0432\\u0430\\u0440\\u0438\\u0432\\u0430\\u0435\\u0442\\u0441\\u044f, \\u0430 \\u0441\\u0435\\u043c\\u0435\\u043d\\u0430 \\u043f\\u0440\\u043e\\u0445\\u043e\\u0434\\u044f\\u0442 \\u0447\\u0435\\u0440\\u0435\\u0437 \\u043a\\u0438\\u0448, \\u0435\\u0447\\u043d\\u0438\\u043a \\u0438 \\u0440\\u0430\\u0437\\u043d\\u043e\\u0441\\u044f\\u0442\\u0441\\u044f \\u043d\\u0430 \\u0431\\u043e\\u043b\\u044c\\u0448\\u0438\\u0435 \\u0440\\u0430\\u0441\\u0441\\u0442\\u043e\\u044f\\u043d\\u0438\\u044f. \\u041d\\u0435\\u043a\\u043e\\u0442\\u043e\\u0440\\u044b\\u0435 \\u0436\\u0438\\u0432\\u043e\\u0442\\u043d\\u044b\\u0435 \\u0438\\u0433\\u0440\\u0430\\u044e\\u0442 \\u043e\\u0442\\u0440\\u0438\\u0446\\u0430\\u0442\\u0435\\u043b\\u044c\\u043d\\u0443\\u044e \\u0440\\u043e\\u043b\\u044c \\u0432 \\u043f\\u0440\\u0438\\u0440\\u043e\\u0434\\u043d\\u044b\\u0445 \\u0441\\u043e\\u043e\\u0431\\u0449\\u0435\\u0441\\u0442\\u0432\\u0430\\u0445. \\u041c\\u0430\\u0441\\u0441\\u043e\\u0432\\u043e\\u0435 \\u043f\\u043e\\u044f\\u0432\\u043b\\u0435\\u043d\\u0438\\u0435 \\u0433\\u0443\\u0441\\u0435\\u043d\\u0438\\u0446 \\u043d\\u0435\\u043f\\u0430\\u0440\\u043d\\u043e\\u0433\\u043e \\u0448\\u0435\\u043b\\u043a\\u043e\\u043f\\u0440\\u044f\\u0434\\u0430 \\u043d\\u0430\\u043d\\u043e\\u0441\\u0438\\u0442 \\u043e\\u0433\\u0440\\u043e\\u043c\\u043d\\u044b\\u0439 \\u0432\\u0440\\u0435\\u0434 \\u043b\\u0435\\u0441\\u0430\\u043c. \\u041e\\u043d\\u0438 \\u043f\\u043e\\u0435\\u0434\\u0430\\u044e\\u0442 \\u043b\\u0438\\u0441\\u0442\\u044c\\u044f, \\u043f\\u043e\\u0447\\u043a\\u0438, \\u043c\\u043e\\u043b\\u043e\\u0434\\u044b\\u0435 \\u043f\\u043e\\u0431\\u0435\\u0433\\u0438. \\u0421\\u0442\\u0430\\u0438 7  \\u0420\\u0438\\u0441. 4. \\u041d\\u0430\\u0441\\u0435\\u043a\\u043e\\u043c\\u044b\\u0435 \\u2014 \\u043e\\u043f\\u044b\\u043b\\u0438\\u0442\\u0435\\u043b\\u0438 \\u0440\\u0430\\u0441\\u0442\\u0435\\u043d\\u0438\\u0439 \\u0430\\u0437\\u0438\\u0430\\u0442\\u0441\\u043a\\u043e\\u0439 \\u043f\\u0435\\u0440\\u0435\\u043b\\u0451\\u0442\\u043d\\u043e\\u0439 \\u0441\\u0430\\u0440\\u0430\\u043d\\u0447\\u0438 (\\u0440\\u0438\\u0441. 5) \\u0443\\u043d\\u0438\\u0447\\u0442\\u043e\\u0436\\u0430\\u044e\\u0442 \\u0440\\u0430\\u0441\\u0442\\u0438\\u0442\\u0435\\u043b\\u044c\\u043d\\u043e\\u0441\\u0442\\u044c \\u043d\\u0430 \\u043e\\u0433\\u0440\\u043e\\u043c\\u043d\\u044b\\u0445 \\u043f\\u043b\\u043e\\u0449\\u0430\\u0434\\u044f\\u0445, \\u043b\\u0438\\u0448\\u0430\\u044f \\u043f\\u0438\\u0449\\u0438 \\u0434\\u0440\\u0443\\u0433\\u0438\\u0435 \\u0440\\u0430\\u0441\\u0442\\u0438\\u0442\\u0435\\u043b\\u044c\\u043d\\u043e\\u044f\\u0434\\u043d\\u044b\\u0435 \\u043e\\u0440\\u0433\\u0430\\u043d\\u0438\\u0437\\u043c\\u044b. \\u0415\\u0441\\u0442\\u044c \\u0436\\u0438\\u0432\\u043e\\u0442\\u043d\\u044b\\u0435, \\u0432\\u044b\\u0437\\u044b\\u0432\\u0430\\u044e\\u0449\\u0438\\u0435 \\u0442\\u0435 \\u0431\\u043e\\u043b\\u0435\\u0437\\u043d\\u0438 \\u0443 \\u0440\\u0430\\u0441\\u0442\\u0435\\u043d\\u0438\\u0439, \\u0434\\u0440\\u0443\\u0433\\u0438\\u0445 \\u0436\\u0438\\u0432\\u043e\\u0442\\u043d\\u044b\\u0445 \\u0438 \\u0447\\u0435\\u043b\\u043e\\u0432\\u0435\\u043a\\u0430. \\u041e\\u0442\\u0434\\u0435\\u043b\\u044c\\u043d\\u044b\\u0435 \\u0436\\u0438\\u0432\\u043e\\u0442\\u043d\\u044b\\u0435, \\u043d\\u0430\\u043e\\u0431\\u043e\\u0440\\u043e\\u0442, \\u0441\\u043d\\u0438\\u0436\\u0430\\u044e\\u0442 \\u0447\\u0438\\u0441\\u043b\\u043e \\u0432\\u0440\\u0435\\u0434\\u0438\\u0442\\u0435\\u043b\\u0435\\u0439 \\u043b\\u0435\\u0441\\u043d\\u044b\\u0445 \\u0438 \\u043a\\u0443\\u043b\\u044c\\u0442\\u0443\\u0440\\u043d\\u044b\\u0445 \\u0440\\u0430\\u0441\\u0442\\u0435\\u043d\\u0438\\u0439, \\u043f\\u0438\\u0442\\u0430\\u044f\\u0441\\u044c \\u0438\\u043c\\u0438. \\u0411\\u043e\\u043b\\u044c\\u0448\\u0443\\u044e \\u0446\\u0435\\u043d\\u043d\\u043e\\u0441\\u0442\\u044c \\u0434\\u043b\\u044f \\u0447\\u0435\\u043b\\u043e\\u0432\\u0435\\u043a\\u0430 \\u0438\\u043c\\u0435\\u044e\\u0442 \\u0434\\u0438\\u043a\\u0438\\u0435 \\u0436\\u0438\\u0432\\u043e\\u0442\\u043d\\u044b\\u0435 \\u043a\\u0430\\u043a \\u043e\\u0431\\u044a\\u0435\\u043a\\u0442\\u044b \\u043e\\u0445\\u043e\\u0442\\u044b. \\u0417\\u043d\\u0430\\u0447\\u0438\\u0442\\u0435\\u043b\\u044c\\u043d\\u0443\\u044e \\u0447\\u0430\\u0441\\u0442\\u044c \\u0431\\u0435\\u043b\\u043a\\u043e\\u0432\\u043e\\u0439 \\u043f\\u0438\\u0449\\u0438 \\u0447\\u0435\\u043b\\u043e\\u0432\\u0435\\u043a \\u043f\\u043e\\u043b\\u0443\\u0447\\u0430\\u0435\\u0442 \\u0437\\u0430 \\u0441\\u0447\\u0451\\u0442 \\u0432\\u044b\\u043b\\u043e\\u0432\\u0430 \\u0440\\u044b\\u0431\\u044b \\u0432 \\u043c\\u043e\\u0440\\u044f\\u0445 \\u0438 \\u043e\\u043a\\u0435\\u0430\\u043d\\u0430\\u0445, \\u043f\\u0440\\u043e\\u043c\\u044b\\u0441\\u043b\\u0430 \\u043c\\u043e\\u0440\\u0441\\u043a\\u043e\\u0433\\u043e \\u0437\\u0432\\u0435\\u0440\\u044f, \\u043e\\u0445\\u043e\\u0442\\u044b \\u043d\\u0430 \\u043a\\u0430\\u0431\\u0430\\u043d\\u043e\\u0432, \\u043e\\u043b\\u0435\\u043d\\u0435\\u0439, \\u0432\\u043e\\u0434\\u043e\\u043f\\u043b\\u0430\\u0432\\u0430\\u044e\\u0449\\u0438\\u0445 \\u0438 \\u043b\\u0435\\u0441\\u043d\\u044b\\u0445 \\u043f\\u0442\\u0438\\u0446. \\u0418\\u0441\\u043a\\u043b\\u044e\\u0447\\u0438\\u0442\\u0435\\u043b\\u044c\\u043d\\u043e \\u0432\\u0430\\u0436\\u043d\\u043e\\u0435 \\u0437\\u043d\\u0430\\u0447\\u0435\\u043d\\u0438\\u0435 \\u0434\\u043b\\u044f \\u043b\\u044e\\u0434\\u0435\\u0439 \\u0438\\u043c\\u0435\\u044e\\u0442 \\u0434\\u043e\\u043c\\u0430\\u0448\\u043d\\u0438\\u0435 \\u0436\\u0438\\u0432\\u043e\\u0442\\u043d\\u044b\\u0435 \\u043d\\u044b\\u0435. \\u041c\\u044b \\u043f\\u043e\\u043b\\u0443\\u0447\\u0430\\u0435\\u043c \\u043e\\u0442 \\u043d\\u0438\\u0445 \\u043f\\u0440\\u043e\\u0434\\u0443\\u043a\\u0442\\u044b \\u043f\\u0438\\u0442\\u0430\\u043d\\u0438\\u044f (\\u043c\\u043e\\u043b\\u043e\\u043a\\u043e, \\u044f\\u0439\\u0446\\u0430, \\u043c\\u0451\\u0434), \\u0448\\u0435\\u0440\\u0441\\u0442\\u044c, \\u043f\\u0443\\u0445, \\u043a\\u043e\\u0436\\u0443, \\u0448\\u0451\\u043b\\u043a. \\u0414\\u043e\\u043c\\u0430\\u0448\\u043d\\u0438\\u0435 \\u0436\\u0438\\u0432\\u043e\\u0442\\u043d\\u044b\\u0435 \\u0436\\u0438\\u0432\\u0443\\u0442 \\u043d\\u044b\\u0435, \\u0432\\u044b\\u043f\\u043e\\u043b\\u043d\\u044f\\u044e\\u0442 \\u0440\\u0430\\u0437\\u043b\\u0438\\u0447\\u043d\\u0443\\u044e \\u0440\\u0430\\u0431\\u043e\\u0442\\u0443 \\u0432 \\u0441\\u0435\\u043b\\u044c\\u0441\\u043a\\u043e\\u043c \\u0445\\u043e\\u0437\\u044f\\u0439\\u0441\\u0442\\u0432\\u0435, \\u0441\\u043b\\u0443\\u0436\\u0430\\u0442 \\u0442\\u0440\\u0430\\u043d\\u0441 \\u043f\\u043e\\u0440\\u0442\\u043d\\u044b\\u043c\\u0438 \\u0441\\u0440\\u0435\\u0434\\u0441\\u0442\\u0432\\u0430\\u043c\\u0438. \\u0414\\u0435\\u043a\\u043e\\u0440\\u0430\\u0442\\u0438\\u0432\\u043d\\u044b\\u0435 \\u0436\\u0438\\u0432\\u043e\\u0442\\u043d\\u044b\\u0435 \\u0436\\u0438\\u0432\\u0443\\u0442 \\u0432\\u043c\\u0435\\u0441\\u0442\\u0435 \\u0441 \\u0447\\u0435\\u043b\\u043e\\u0432\\u0435\\u043a\\u043e\\u043c \\u0432 \\u043a\\u0432\\u0430\\u0440\\u0442\\u0438\\u0440\\u0430\\u0445 \\u0438 \\u0434\\u043e\\u043c\\u0430\\u0445, \\u0441\\u043a\\u0440\\u0430\\u0448\\u0438\\u0432\\u0430\\u044f \\u0434\\u043e \\u0441\\u0443\\u0433 \\u0433\\u043e\\u0440\\u043e\\u0436\\u0430\\u043d. \\u0411\\u043e\\u043b\\u044c\\u0448\\u0438\\u043d\\u0441\\u0442\\u0432\\u043e \\u043e\\u0434\\u043e\\u043c\\u0430\\u0448. \\u0420\\u0438\\u0441. 5. \\u0410\\u0437\\u0438\\u0430\\u0442\\u0441\\u043a\\u0430\\u044f \\u043f\\u0435\\u0440\\u0435\\u043b\\u0451\\u0442\\u043d\\u0430\\u044f \\u043d\\u0435\\u043d\\u043d\\u044b\\u0445 \\u0436\\u0438\\u0432\\u043e\\u0442\\u043d\\u044b\\u0445 \\u2014 \\u044d\\u0442\\u043e \\u043c\\u043b\\u0435\\u043a\\u043e\\u043f\\u0438\\u0442\\u0430-\\u0441\\u0430\\u0440\\u0430\\u043d\\u0447\\u0430 \\u044e\\u0449\\u0438\\u0435 \\u0438 \\u043f\\u0442\\u0438\\u0446\\u044b. \\u0421\\u043e\\u0432\\u0440\\u0435\\u043c\\u0435\\u043d\\u043d\\u0430\\u044f \\u0437\\u043e\\u043e\\u043b\\u043e\\u0433\\u0438\\u044f \\u2014 \\u044d\\u0442\\u043e \\u0441\\u0438\\u0441\\u0442\\u0435\\u043c\\u0430 \\u043d\\u0430\\u0443\\u043a, \\u0438\\u043c\\u0435\\u044e\\u0449\\u0438\\u0445 \\u0432\\u0430\\u0436\\u043d\\u043e\\u0435 \\u0442\\u0435\\u043e\\u0440\\u0435-  -  -  - \\u0442\\u0430\\u043a\\u0442\\u0438\\u0447\\u0435\\u0441\\u043a\\u043e\\u0435 \\u0438 \\u043f\\u0440\\u0430\\u043a\\u0442\\u0438\\u0447\\u0435\\u0441\\u043a\\u043e\\u0435 \\u0437\\u043d\\u0430\\u0447\\u0435\\u043d\\u0438\\u0435. \\u0417\\u043e\\u043e\\u043b\\u043e\\u0433\\u0438\\u044f, \\u043c\\u043e\\u0440\\u0444\\u043e\\u043b\\u043e\\u0433\\u0438\\u044f, \\u0430\\u043d\\u0430\\u0442\\u043e\\u043c\\u0438\\u044f, \\u0444\\u0438\\u0437\\u0438\\u043e\\u043b\\u043e\\u0433\\u0438\\u044f, \\u044d\\u043a\\u043e\\u043b\\u043e\\u0433\\u0438\\u044f, \\u043f\\u0430\\u043b\\u0435\\u043e\\u0430\\u043d\\u0442\\u043e\\u043b\\u043e\\u0433\\u0438\\u044f, \\u044d\\u0442\\u043e\\u043b\\u043e\\u0433\\u0438\\u044f, \\u043e\\u043f\\u044b\\u043b\\u0438\\u0442\\u0435\\u043b\\u0438. 8 \"\n        ],\n        \"semantic_type\": \"\",\n        \"description\": \"\"\n      }\n    },\n    {\n      \"column\": \"\\u041a\\u043b\\u044e\\u0447\\u0435\\u0432\\u044b\\u0435 \\u0441\\u043b\\u043e\\u0432\\u0430\",\n      \"properties\": {\n        \"dtype\": \"string\",\n        \"num_unique_values\": 1,\n        \"samples\": [\n          \"\\u0417\\u043e\\u043e\\u043b\\u043e\\u0433\\u0438\\u044f, \\u043c\\u043e\\u0440\\u0444\\u043e\\u043b\\u043e\\u0433\\u0438\\u044f, \\u0430\\u043d\\u0430\\u0442\\u043e\\u043c\\u0438\\u044f, \\u0444\\u0438\\u0437\\u0438\\u043e\\u043b\\u043e\\u0433\\u0438\\u044f, \\u044d\\u043a\\u043e\\u043b\\u043e\\u0433\\u0438\\u044f, \\u043f\\u0430\\u043b\\u0435\\u043e\\u043d\\u0442\\u043e\\u043b\\u043e\\u0433\\u0438\\u044f, \\u044d\\u0442\\u043e\\u043b\\u043e\\u0433\\u0438\\u044f, \\u043e\\u043f\\u044b\\u043b\\u0438\\u0442\\u0435\\u043b\\u0438.\"\n        ],\n        \"semantic_type\": \"\",\n        \"description\": \"\"\n      }\n    }\n  ]\n}"
            }
          },
          "metadata": {},
          "execution_count": 51
        }
      ]
    },
    {
      "cell_type": "code",
      "source": [
        "df_ch_1_95.to_excel(\"Chapter_1_prep_95.xlsx\") # сохраняем в эксель"
      ],
      "metadata": {
        "id": "2iNgTdTpqjY4"
      },
      "execution_count": null,
      "outputs": []
    }
  ]
}